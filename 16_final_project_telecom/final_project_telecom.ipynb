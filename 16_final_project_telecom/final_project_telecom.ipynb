{
 "cells": [
  {
   "cell_type": "markdown",
   "id": "b93e963b",
   "metadata": {},
   "source": [
    "# Предсказание оттока клиентов оператора"
   ]
  },
  {
   "cell_type": "markdown",
   "id": "06e7bd1b",
   "metadata": {},
   "source": [
    "1. [Описание проекта](#1)\n",
    "2. [Загрузка и изучение данных](#2)\n",
    "3. [Объединение таблиц. Предобработка данных](#3)\n",
    "4. [Обучение моделей](#4)\n",
    "    * [Подготовка обучающей и тестовой выборок](#4.1.)\n",
    "    * [Логистическая регрессия](#4.2.)\n",
    "    * [Случайный лес](#4.3.) \n",
    "    * [СatBoostClassifier](#4.4.)\n",
    "\n",
    "\n",
    "5. [Итог](#5)\n",
    "6. [Чек-лист](#6)\n",
    "7. [Отчет](#6)"
   ]
  },
  {
   "cell_type": "markdown",
   "id": "d231edcb",
   "metadata": {},
   "source": [
    "## <a id=\"1\"> 1. Описание проекта\n",
    "Оператору связи «Ниединогоразрыва.ком» необходимо получить модель для прогнозирования оттока клиентов. Если выяснится, что пользователь планирует уйти, ему будут предложены промокоды и специальные условия. Команда оператора собрала персональные данные о некоторых клиентах, информацию об их тарифах и договорах.\n",
    "\n",
    "\n",
    "#### Описание услуг\n",
    "\n",
    "Оператор предоставляет два основных типа услуг: \n",
    "\n",
    "1. Стационарную телефонную связь. Возможно подключение телефонного аппарата к нескольким линиям одновременно.\n",
    "2. Интернет. Подключение может быть двух типов: через телефонную линию (DSL*,* от англ. *digital subscriber line*, «цифровая абонентская линия») или оптоволоконный кабель (*Fiber optic*).  \n",
    "\n",
    "Также доступны такие услуги:\n",
    "\n",
    "- Интернет-безопасность: антивирус (*DeviceProtection*) и блокировка небезопасных сайтов (*OnlineSecurity*);\n",
    "- Выделенная линия технической поддержки (*TechSupport*);\n",
    "- Облачное хранилище файлов для резервного копирования данных (*OnlineBackup*);\n",
    "- Стриминговое телевидение (*StreamingTV*) и каталог фильмов (*StreamingMovies*).\n",
    "\n",
    "За услуги клиенты могут платить каждый месяц или заключить договор на 1–2 года. Доступны различные способы расчёта и возможность получения электронного чека.\n",
    "\n",
    "#### Описание данных\n",
    "\n",
    "Данные состоят из файлов, полученных из разных источников:\n",
    "\n",
    "- `contract.csv` — информация о договоре;\n",
    "- `personal.csv` — персональные данные клиента;\n",
    "- `internet.csv` — информация об интернет-услугах;\n",
    "- `phone.csv` — информация об услугах телефонии.\n",
    "\n",
    "Во всех файлах столбец `customerID` содержит код клиента.\n",
    "\n",
    "Информация о договорах актуальна на 1 февраля 2020."
   ]
  },
  {
   "cell_type": "raw",
   "id": "0822a65a",
   "metadata": {},
   "source": [
    "!pip install squarify\n",
    "!pip install inflection"
   ]
  },
  {
   "cell_type": "markdown",
   "id": "8db89954",
   "metadata": {},
   "source": [
    "## <a id=\"2\"> 2. Загрузка и изучение данных"
   ]
  },
  {
   "cell_type": "code",
   "execution_count": 1,
   "id": "7f285452",
   "metadata": {},
   "outputs": [],
   "source": [
    "import pandas as pd\n",
    "import numpy as np\n",
    "import matplotlib.pyplot as plt\n",
    "import seaborn as sns\n",
    "import squarify\n",
    "import inflection\n",
    "from sklearn.feature_selection import chi2\n",
    "from sklearn.preprocessing import OrdinalEncoder\n",
    "from sklearn.model_selection import train_test_split, cross_val_score\n",
    "from sklearn.linear_model import LogisticRegression\n",
    "from sklearn.metrics import accuracy_score, roc_curve, roc_auc_score, confusion_matrix, make_scorer, precision_score, recall_score\n",
    "from sklearn.ensemble import RandomForestClassifier\n",
    "from catboost import CatBoostClassifier, cv, Pool"
   ]
  },
  {
   "cell_type": "markdown",
   "id": "4c931069",
   "metadata": {},
   "source": [
    "Загрузим все доступные нам таблицы и приступим к их изучению."
   ]
  },
  {
   "cell_type": "markdown",
   "id": "51bcdc13",
   "metadata": {},
   "source": [
    "### NB: \n",
    "При изменении ячейки кода загрузки csv-файлов для корректностии выполнения всех ячеек тетрадки необходимо указать для таблицы `contract` параметр `parse_dates=['BeginDate', 'EndDate']`"
   ]
  },
  {
   "cell_type": "code",
   "execution_count": 2,
   "id": "fbe3e138",
   "metadata": {},
   "outputs": [],
   "source": [
    "contract = pd.read_csv('C:\\\\Users\\\\503so\\\\OneDrive\\\\Desktop\\\\final_provider\\\\contract.csv', parse_dates=['BeginDate', 'EndDate'])\n",
    "internet = pd.read_csv('C:\\\\Users\\\\503so\\\\OneDrive\\\\Desktop\\\\final_provider\\\\internet.csv')\n",
    "personal = pd.read_csv('C:\\\\Users\\\\503so\\\\OneDrive\\\\Desktop\\\\final_provider\\\\personal.csv')\n",
    "phone = pd.read_csv('C:\\\\Users\\\\503so\\\\OneDrive\\\\Desktop\\\\final_provider\\\\phone.csv')"
   ]
  },
  {
   "cell_type": "markdown",
   "id": "6abaaf0d",
   "metadata": {},
   "source": [
    "Изучим загруженные данные. Напишем и вызовем функцию, выводящую на экран первые 5 строк таблицы, информацию о таблице и ее математическое описание."
   ]
  },
  {
   "cell_type": "code",
   "execution_count": 3,
   "id": "ffbbe93f",
   "metadata": {},
   "outputs": [],
   "source": [
    "def review(df):\n",
    "    '''Выводит первые 5 строк таблицы, информацию о таблице и математическое описание.\"'''\n",
    "    print('1. Первые 5 строк таблицы')\n",
    "    display(df.head())\n",
    "    print()\n",
    "    print('2. Информация о таблице')\n",
    "    print(df.info())\n",
    "    print()\n",
    "    print('3. Математическое описание данных')\n",
    "    print(df.describe())"
   ]
  },
  {
   "cell_type": "code",
   "execution_count": 4,
   "id": "264bfa63",
   "metadata": {},
   "outputs": [
    {
     "name": "stdout",
     "output_type": "stream",
     "text": [
      "1. Первые 5 строк таблицы\n"
     ]
    },
    {
     "data": {
      "text/html": [
       "<div>\n",
       "<style scoped>\n",
       "    .dataframe tbody tr th:only-of-type {\n",
       "        vertical-align: middle;\n",
       "    }\n",
       "\n",
       "    .dataframe tbody tr th {\n",
       "        vertical-align: top;\n",
       "    }\n",
       "\n",
       "    .dataframe thead th {\n",
       "        text-align: right;\n",
       "    }\n",
       "</style>\n",
       "<table border=\"1\" class=\"dataframe\">\n",
       "  <thead>\n",
       "    <tr style=\"text-align: right;\">\n",
       "      <th></th>\n",
       "      <th>customerID</th>\n",
       "      <th>BeginDate</th>\n",
       "      <th>EndDate</th>\n",
       "      <th>Type</th>\n",
       "      <th>PaperlessBilling</th>\n",
       "      <th>PaymentMethod</th>\n",
       "      <th>MonthlyCharges</th>\n",
       "      <th>TotalCharges</th>\n",
       "    </tr>\n",
       "  </thead>\n",
       "  <tbody>\n",
       "    <tr>\n",
       "      <th>0</th>\n",
       "      <td>7590-VHVEG</td>\n",
       "      <td>2020-01-01</td>\n",
       "      <td>No</td>\n",
       "      <td>Month-to-month</td>\n",
       "      <td>Yes</td>\n",
       "      <td>Electronic check</td>\n",
       "      <td>29.85</td>\n",
       "      <td>29.85</td>\n",
       "    </tr>\n",
       "    <tr>\n",
       "      <th>1</th>\n",
       "      <td>5575-GNVDE</td>\n",
       "      <td>2017-04-01</td>\n",
       "      <td>No</td>\n",
       "      <td>One year</td>\n",
       "      <td>No</td>\n",
       "      <td>Mailed check</td>\n",
       "      <td>56.95</td>\n",
       "      <td>1889.5</td>\n",
       "    </tr>\n",
       "    <tr>\n",
       "      <th>2</th>\n",
       "      <td>3668-QPYBK</td>\n",
       "      <td>2019-10-01</td>\n",
       "      <td>2019-12-01 00:00:00</td>\n",
       "      <td>Month-to-month</td>\n",
       "      <td>Yes</td>\n",
       "      <td>Mailed check</td>\n",
       "      <td>53.85</td>\n",
       "      <td>108.15</td>\n",
       "    </tr>\n",
       "    <tr>\n",
       "      <th>3</th>\n",
       "      <td>7795-CFOCW</td>\n",
       "      <td>2016-05-01</td>\n",
       "      <td>No</td>\n",
       "      <td>One year</td>\n",
       "      <td>No</td>\n",
       "      <td>Bank transfer (automatic)</td>\n",
       "      <td>42.30</td>\n",
       "      <td>1840.75</td>\n",
       "    </tr>\n",
       "    <tr>\n",
       "      <th>4</th>\n",
       "      <td>9237-HQITU</td>\n",
       "      <td>2019-09-01</td>\n",
       "      <td>2019-11-01 00:00:00</td>\n",
       "      <td>Month-to-month</td>\n",
       "      <td>Yes</td>\n",
       "      <td>Electronic check</td>\n",
       "      <td>70.70</td>\n",
       "      <td>151.65</td>\n",
       "    </tr>\n",
       "  </tbody>\n",
       "</table>\n",
       "</div>"
      ],
      "text/plain": [
       "   customerID  BeginDate              EndDate            Type  \\\n",
       "0  7590-VHVEG 2020-01-01                   No  Month-to-month   \n",
       "1  5575-GNVDE 2017-04-01                   No        One year   \n",
       "2  3668-QPYBK 2019-10-01  2019-12-01 00:00:00  Month-to-month   \n",
       "3  7795-CFOCW 2016-05-01                   No        One year   \n",
       "4  9237-HQITU 2019-09-01  2019-11-01 00:00:00  Month-to-month   \n",
       "\n",
       "  PaperlessBilling              PaymentMethod  MonthlyCharges TotalCharges  \n",
       "0              Yes           Electronic check           29.85        29.85  \n",
       "1               No               Mailed check           56.95       1889.5  \n",
       "2              Yes               Mailed check           53.85       108.15  \n",
       "3               No  Bank transfer (automatic)           42.30      1840.75  \n",
       "4              Yes           Electronic check           70.70       151.65  "
      ]
     },
     "metadata": {},
     "output_type": "display_data"
    },
    {
     "name": "stdout",
     "output_type": "stream",
     "text": [
      "\n",
      "2. Информация о таблице\n",
      "<class 'pandas.core.frame.DataFrame'>\n",
      "RangeIndex: 7043 entries, 0 to 7042\n",
      "Data columns (total 8 columns):\n",
      " #   Column            Non-Null Count  Dtype         \n",
      "---  ------            --------------  -----         \n",
      " 0   customerID        7043 non-null   object        \n",
      " 1   BeginDate         7043 non-null   datetime64[ns]\n",
      " 2   EndDate           7043 non-null   object        \n",
      " 3   Type              7043 non-null   object        \n",
      " 4   PaperlessBilling  7043 non-null   object        \n",
      " 5   PaymentMethod     7043 non-null   object        \n",
      " 6   MonthlyCharges    7043 non-null   float64       \n",
      " 7   TotalCharges      7043 non-null   object        \n",
      "dtypes: datetime64[ns](1), float64(1), object(6)\n",
      "memory usage: 440.3+ KB\n",
      "None\n",
      "\n",
      "3. Математическое описание данных\n",
      "       MonthlyCharges\n",
      "count     7043.000000\n",
      "mean        64.761692\n",
      "std         30.090047\n",
      "min         18.250000\n",
      "25%         35.500000\n",
      "50%         70.350000\n",
      "75%         89.850000\n",
      "max        118.750000\n"
     ]
    }
   ],
   "source": [
    "review(contract)"
   ]
  },
  {
   "cell_type": "code",
   "execution_count": 5,
   "id": "3a3f12da",
   "metadata": {},
   "outputs": [
    {
     "name": "stdout",
     "output_type": "stream",
     "text": [
      "1. Первые 5 строк таблицы\n"
     ]
    },
    {
     "data": {
      "text/html": [
       "<div>\n",
       "<style scoped>\n",
       "    .dataframe tbody tr th:only-of-type {\n",
       "        vertical-align: middle;\n",
       "    }\n",
       "\n",
       "    .dataframe tbody tr th {\n",
       "        vertical-align: top;\n",
       "    }\n",
       "\n",
       "    .dataframe thead th {\n",
       "        text-align: right;\n",
       "    }\n",
       "</style>\n",
       "<table border=\"1\" class=\"dataframe\">\n",
       "  <thead>\n",
       "    <tr style=\"text-align: right;\">\n",
       "      <th></th>\n",
       "      <th>customerID</th>\n",
       "      <th>InternetService</th>\n",
       "      <th>OnlineSecurity</th>\n",
       "      <th>OnlineBackup</th>\n",
       "      <th>DeviceProtection</th>\n",
       "      <th>TechSupport</th>\n",
       "      <th>StreamingTV</th>\n",
       "      <th>StreamingMovies</th>\n",
       "    </tr>\n",
       "  </thead>\n",
       "  <tbody>\n",
       "    <tr>\n",
       "      <th>0</th>\n",
       "      <td>7590-VHVEG</td>\n",
       "      <td>DSL</td>\n",
       "      <td>No</td>\n",
       "      <td>Yes</td>\n",
       "      <td>No</td>\n",
       "      <td>No</td>\n",
       "      <td>No</td>\n",
       "      <td>No</td>\n",
       "    </tr>\n",
       "    <tr>\n",
       "      <th>1</th>\n",
       "      <td>5575-GNVDE</td>\n",
       "      <td>DSL</td>\n",
       "      <td>Yes</td>\n",
       "      <td>No</td>\n",
       "      <td>Yes</td>\n",
       "      <td>No</td>\n",
       "      <td>No</td>\n",
       "      <td>No</td>\n",
       "    </tr>\n",
       "    <tr>\n",
       "      <th>2</th>\n",
       "      <td>3668-QPYBK</td>\n",
       "      <td>DSL</td>\n",
       "      <td>Yes</td>\n",
       "      <td>Yes</td>\n",
       "      <td>No</td>\n",
       "      <td>No</td>\n",
       "      <td>No</td>\n",
       "      <td>No</td>\n",
       "    </tr>\n",
       "    <tr>\n",
       "      <th>3</th>\n",
       "      <td>7795-CFOCW</td>\n",
       "      <td>DSL</td>\n",
       "      <td>Yes</td>\n",
       "      <td>No</td>\n",
       "      <td>Yes</td>\n",
       "      <td>Yes</td>\n",
       "      <td>No</td>\n",
       "      <td>No</td>\n",
       "    </tr>\n",
       "    <tr>\n",
       "      <th>4</th>\n",
       "      <td>9237-HQITU</td>\n",
       "      <td>Fiber optic</td>\n",
       "      <td>No</td>\n",
       "      <td>No</td>\n",
       "      <td>No</td>\n",
       "      <td>No</td>\n",
       "      <td>No</td>\n",
       "      <td>No</td>\n",
       "    </tr>\n",
       "  </tbody>\n",
       "</table>\n",
       "</div>"
      ],
      "text/plain": [
       "   customerID InternetService OnlineSecurity OnlineBackup DeviceProtection  \\\n",
       "0  7590-VHVEG             DSL             No          Yes               No   \n",
       "1  5575-GNVDE             DSL            Yes           No              Yes   \n",
       "2  3668-QPYBK             DSL            Yes          Yes               No   \n",
       "3  7795-CFOCW             DSL            Yes           No              Yes   \n",
       "4  9237-HQITU     Fiber optic             No           No               No   \n",
       "\n",
       "  TechSupport StreamingTV StreamingMovies  \n",
       "0          No          No              No  \n",
       "1          No          No              No  \n",
       "2          No          No              No  \n",
       "3         Yes          No              No  \n",
       "4          No          No              No  "
      ]
     },
     "metadata": {},
     "output_type": "display_data"
    },
    {
     "name": "stdout",
     "output_type": "stream",
     "text": [
      "\n",
      "2. Информация о таблице\n",
      "<class 'pandas.core.frame.DataFrame'>\n",
      "RangeIndex: 5517 entries, 0 to 5516\n",
      "Data columns (total 8 columns):\n",
      " #   Column            Non-Null Count  Dtype \n",
      "---  ------            --------------  ----- \n",
      " 0   customerID        5517 non-null   object\n",
      " 1   InternetService   5517 non-null   object\n",
      " 2   OnlineSecurity    5517 non-null   object\n",
      " 3   OnlineBackup      5517 non-null   object\n",
      " 4   DeviceProtection  5517 non-null   object\n",
      " 5   TechSupport       5517 non-null   object\n",
      " 6   StreamingTV       5517 non-null   object\n",
      " 7   StreamingMovies   5517 non-null   object\n",
      "dtypes: object(8)\n",
      "memory usage: 344.9+ KB\n",
      "None\n",
      "\n",
      "3. Математическое описание данных\n",
      "        customerID InternetService OnlineSecurity OnlineBackup  \\\n",
      "count         5517            5517           5517         5517   \n",
      "unique        5517               2              2            2   \n",
      "top     8083-YTZES     Fiber optic             No           No   \n",
      "freq             1            3096           3498         3088   \n",
      "\n",
      "       DeviceProtection TechSupport StreamingTV StreamingMovies  \n",
      "count              5517        5517        5517            5517  \n",
      "unique                2           2           2               2  \n",
      "top                  No          No          No              No  \n",
      "freq               3095        3473        2810            2785  \n"
     ]
    }
   ],
   "source": [
    "review(internet)"
   ]
  },
  {
   "cell_type": "code",
   "execution_count": 6,
   "id": "614a3fea",
   "metadata": {},
   "outputs": [
    {
     "name": "stdout",
     "output_type": "stream",
     "text": [
      "1. Первые 5 строк таблицы\n"
     ]
    },
    {
     "data": {
      "text/html": [
       "<div>\n",
       "<style scoped>\n",
       "    .dataframe tbody tr th:only-of-type {\n",
       "        vertical-align: middle;\n",
       "    }\n",
       "\n",
       "    .dataframe tbody tr th {\n",
       "        vertical-align: top;\n",
       "    }\n",
       "\n",
       "    .dataframe thead th {\n",
       "        text-align: right;\n",
       "    }\n",
       "</style>\n",
       "<table border=\"1\" class=\"dataframe\">\n",
       "  <thead>\n",
       "    <tr style=\"text-align: right;\">\n",
       "      <th></th>\n",
       "      <th>customerID</th>\n",
       "      <th>gender</th>\n",
       "      <th>SeniorCitizen</th>\n",
       "      <th>Partner</th>\n",
       "      <th>Dependents</th>\n",
       "    </tr>\n",
       "  </thead>\n",
       "  <tbody>\n",
       "    <tr>\n",
       "      <th>0</th>\n",
       "      <td>7590-VHVEG</td>\n",
       "      <td>Female</td>\n",
       "      <td>0</td>\n",
       "      <td>Yes</td>\n",
       "      <td>No</td>\n",
       "    </tr>\n",
       "    <tr>\n",
       "      <th>1</th>\n",
       "      <td>5575-GNVDE</td>\n",
       "      <td>Male</td>\n",
       "      <td>0</td>\n",
       "      <td>No</td>\n",
       "      <td>No</td>\n",
       "    </tr>\n",
       "    <tr>\n",
       "      <th>2</th>\n",
       "      <td>3668-QPYBK</td>\n",
       "      <td>Male</td>\n",
       "      <td>0</td>\n",
       "      <td>No</td>\n",
       "      <td>No</td>\n",
       "    </tr>\n",
       "    <tr>\n",
       "      <th>3</th>\n",
       "      <td>7795-CFOCW</td>\n",
       "      <td>Male</td>\n",
       "      <td>0</td>\n",
       "      <td>No</td>\n",
       "      <td>No</td>\n",
       "    </tr>\n",
       "    <tr>\n",
       "      <th>4</th>\n",
       "      <td>9237-HQITU</td>\n",
       "      <td>Female</td>\n",
       "      <td>0</td>\n",
       "      <td>No</td>\n",
       "      <td>No</td>\n",
       "    </tr>\n",
       "  </tbody>\n",
       "</table>\n",
       "</div>"
      ],
      "text/plain": [
       "   customerID  gender  SeniorCitizen Partner Dependents\n",
       "0  7590-VHVEG  Female              0     Yes         No\n",
       "1  5575-GNVDE    Male              0      No         No\n",
       "2  3668-QPYBK    Male              0      No         No\n",
       "3  7795-CFOCW    Male              0      No         No\n",
       "4  9237-HQITU  Female              0      No         No"
      ]
     },
     "metadata": {},
     "output_type": "display_data"
    },
    {
     "name": "stdout",
     "output_type": "stream",
     "text": [
      "\n",
      "2. Информация о таблице\n",
      "<class 'pandas.core.frame.DataFrame'>\n",
      "RangeIndex: 7043 entries, 0 to 7042\n",
      "Data columns (total 5 columns):\n",
      " #   Column         Non-Null Count  Dtype \n",
      "---  ------         --------------  ----- \n",
      " 0   customerID     7043 non-null   object\n",
      " 1   gender         7043 non-null   object\n",
      " 2   SeniorCitizen  7043 non-null   int64 \n",
      " 3   Partner        7043 non-null   object\n",
      " 4   Dependents     7043 non-null   object\n",
      "dtypes: int64(1), object(4)\n",
      "memory usage: 275.2+ KB\n",
      "None\n",
      "\n",
      "3. Математическое описание данных\n",
      "       SeniorCitizen\n",
      "count    7043.000000\n",
      "mean        0.162147\n",
      "std         0.368612\n",
      "min         0.000000\n",
      "25%         0.000000\n",
      "50%         0.000000\n",
      "75%         0.000000\n",
      "max         1.000000\n"
     ]
    }
   ],
   "source": [
    "review(personal)"
   ]
  },
  {
   "cell_type": "code",
   "execution_count": 7,
   "id": "2f704235",
   "metadata": {},
   "outputs": [
    {
     "name": "stdout",
     "output_type": "stream",
     "text": [
      "1. Первые 5 строк таблицы\n"
     ]
    },
    {
     "data": {
      "text/html": [
       "<div>\n",
       "<style scoped>\n",
       "    .dataframe tbody tr th:only-of-type {\n",
       "        vertical-align: middle;\n",
       "    }\n",
       "\n",
       "    .dataframe tbody tr th {\n",
       "        vertical-align: top;\n",
       "    }\n",
       "\n",
       "    .dataframe thead th {\n",
       "        text-align: right;\n",
       "    }\n",
       "</style>\n",
       "<table border=\"1\" class=\"dataframe\">\n",
       "  <thead>\n",
       "    <tr style=\"text-align: right;\">\n",
       "      <th></th>\n",
       "      <th>customerID</th>\n",
       "      <th>MultipleLines</th>\n",
       "    </tr>\n",
       "  </thead>\n",
       "  <tbody>\n",
       "    <tr>\n",
       "      <th>0</th>\n",
       "      <td>5575-GNVDE</td>\n",
       "      <td>No</td>\n",
       "    </tr>\n",
       "    <tr>\n",
       "      <th>1</th>\n",
       "      <td>3668-QPYBK</td>\n",
       "      <td>No</td>\n",
       "    </tr>\n",
       "    <tr>\n",
       "      <th>2</th>\n",
       "      <td>9237-HQITU</td>\n",
       "      <td>No</td>\n",
       "    </tr>\n",
       "    <tr>\n",
       "      <th>3</th>\n",
       "      <td>9305-CDSKC</td>\n",
       "      <td>Yes</td>\n",
       "    </tr>\n",
       "    <tr>\n",
       "      <th>4</th>\n",
       "      <td>1452-KIOVK</td>\n",
       "      <td>Yes</td>\n",
       "    </tr>\n",
       "  </tbody>\n",
       "</table>\n",
       "</div>"
      ],
      "text/plain": [
       "   customerID MultipleLines\n",
       "0  5575-GNVDE            No\n",
       "1  3668-QPYBK            No\n",
       "2  9237-HQITU            No\n",
       "3  9305-CDSKC           Yes\n",
       "4  1452-KIOVK           Yes"
      ]
     },
     "metadata": {},
     "output_type": "display_data"
    },
    {
     "name": "stdout",
     "output_type": "stream",
     "text": [
      "\n",
      "2. Информация о таблице\n",
      "<class 'pandas.core.frame.DataFrame'>\n",
      "RangeIndex: 6361 entries, 0 to 6360\n",
      "Data columns (total 2 columns):\n",
      " #   Column         Non-Null Count  Dtype \n",
      "---  ------         --------------  ----- \n",
      " 0   customerID     6361 non-null   object\n",
      " 1   MultipleLines  6361 non-null   object\n",
      "dtypes: object(2)\n",
      "memory usage: 99.5+ KB\n",
      "None\n",
      "\n",
      "3. Математическое описание данных\n",
      "        customerID MultipleLines\n",
      "count         6361          6361\n",
      "unique        6361             2\n",
      "top     1960-UYCNN            No\n",
      "freq             1          3390\n"
     ]
    }
   ],
   "source": [
    "review(phone)"
   ]
  },
  {
   "cell_type": "markdown",
   "id": "42f35f40",
   "metadata": {},
   "source": [
    "В наборе данных были две таблицы - `personal1` и `phone1`, которые оказались пустыми. Загрузку этих таблиц мы не производили."
   ]
  },
  {
   "cell_type": "markdown",
   "id": "7ee70c5d",
   "metadata": {},
   "source": [
    "Напишем функцию, приводящую к единообразию заголовки столбцов. Применим ее к нашим таблицам."
   ]
  },
  {
   "cell_type": "code",
   "execution_count": 8,
   "id": "9adb3f37",
   "metadata": {},
   "outputs": [],
   "source": [
    "def snake_case(df):\n",
    "    '''Возвращает таблицу с названиями столбцов, преобразованных в snake_case. Обращается к библиотеке inflection.'''\n",
    "    for column in df.columns.values:\n",
    "        df = df.rename(columns = {column : inflection.underscore(column)})\n",
    "    return df"
   ]
  },
  {
   "cell_type": "code",
   "execution_count": 9,
   "id": "f4519edc",
   "metadata": {},
   "outputs": [],
   "source": [
    "contract, internet, personal, phone = snake_case(contract), snake_case(internet), snake_case(personal), snake_case(phone)"
   ]
  },
  {
   "cell_type": "markdown",
   "id": "b0aa0321",
   "metadata": {},
   "source": [
    "Посчитаем количество значений в столбцах с бинарными признаками."
   ]
  },
  {
   "cell_type": "code",
   "execution_count": 10,
   "id": "5b59cc49",
   "metadata": {},
   "outputs": [],
   "source": [
    "def df_value_counts(df, j, k):\n",
    "    '''Возвращает количество уникальных значений таблицы df от столбца k до столбца \"количество столбцов минус j\"'''\n",
    "    for i in range(len(df.columns.values)-j):\n",
    "        print(str(df.columns.values[i+k]))\n",
    "        display(df[df.columns.values[i+k]].value_counts())"
   ]
  },
  {
   "cell_type": "code",
   "execution_count": 11,
   "id": "72a43d79",
   "metadata": {},
   "outputs": [
    {
     "name": "stdout",
     "output_type": "stream",
     "text": [
      "multiple_lines\n"
     ]
    },
    {
     "data": {
      "text/plain": [
       "No     3390\n",
       "Yes    2971\n",
       "Name: multiple_lines, dtype: int64"
      ]
     },
     "metadata": {},
     "output_type": "display_data"
    }
   ],
   "source": [
    "df_value_counts(phone, 1, 1)"
   ]
  },
  {
   "cell_type": "code",
   "execution_count": 12,
   "id": "0af01e1c",
   "metadata": {},
   "outputs": [],
   "source": [
    "phone_index = phone['customer_id']"
   ]
  },
  {
   "cell_type": "code",
   "execution_count": 13,
   "id": "483c845c",
   "metadata": {},
   "outputs": [
    {
     "name": "stdout",
     "output_type": "stream",
     "text": [
      "gender\n"
     ]
    },
    {
     "data": {
      "text/plain": [
       "Male      3555\n",
       "Female    3488\n",
       "Name: gender, dtype: int64"
      ]
     },
     "metadata": {},
     "output_type": "display_data"
    },
    {
     "name": "stdout",
     "output_type": "stream",
     "text": [
      "senior_citizen\n"
     ]
    },
    {
     "data": {
      "text/plain": [
       "0    5901\n",
       "1    1142\n",
       "Name: senior_citizen, dtype: int64"
      ]
     },
     "metadata": {},
     "output_type": "display_data"
    },
    {
     "name": "stdout",
     "output_type": "stream",
     "text": [
      "partner\n"
     ]
    },
    {
     "data": {
      "text/plain": [
       "No     3641\n",
       "Yes    3402\n",
       "Name: partner, dtype: int64"
      ]
     },
     "metadata": {},
     "output_type": "display_data"
    },
    {
     "name": "stdout",
     "output_type": "stream",
     "text": [
      "dependents\n"
     ]
    },
    {
     "data": {
      "text/plain": [
       "No     4933\n",
       "Yes    2110\n",
       "Name: dependents, dtype: int64"
      ]
     },
     "metadata": {},
     "output_type": "display_data"
    }
   ],
   "source": [
    "df_value_counts(personal, 1, 1)"
   ]
  },
  {
   "cell_type": "code",
   "execution_count": 14,
   "id": "60708a48",
   "metadata": {},
   "outputs": [
    {
     "name": "stdout",
     "output_type": "stream",
     "text": [
      "internet_service\n"
     ]
    },
    {
     "data": {
      "text/plain": [
       "Fiber optic    3096\n",
       "DSL            2421\n",
       "Name: internet_service, dtype: int64"
      ]
     },
     "metadata": {},
     "output_type": "display_data"
    },
    {
     "name": "stdout",
     "output_type": "stream",
     "text": [
      "online_security\n"
     ]
    },
    {
     "data": {
      "text/plain": [
       "No     3498\n",
       "Yes    2019\n",
       "Name: online_security, dtype: int64"
      ]
     },
     "metadata": {},
     "output_type": "display_data"
    },
    {
     "name": "stdout",
     "output_type": "stream",
     "text": [
      "online_backup\n"
     ]
    },
    {
     "data": {
      "text/plain": [
       "No     3088\n",
       "Yes    2429\n",
       "Name: online_backup, dtype: int64"
      ]
     },
     "metadata": {},
     "output_type": "display_data"
    },
    {
     "name": "stdout",
     "output_type": "stream",
     "text": [
      "device_protection\n"
     ]
    },
    {
     "data": {
      "text/plain": [
       "No     3095\n",
       "Yes    2422\n",
       "Name: device_protection, dtype: int64"
      ]
     },
     "metadata": {},
     "output_type": "display_data"
    },
    {
     "name": "stdout",
     "output_type": "stream",
     "text": [
      "tech_support\n"
     ]
    },
    {
     "data": {
      "text/plain": [
       "No     3473\n",
       "Yes    2044\n",
       "Name: tech_support, dtype: int64"
      ]
     },
     "metadata": {},
     "output_type": "display_data"
    },
    {
     "name": "stdout",
     "output_type": "stream",
     "text": [
      "streaming_tv\n"
     ]
    },
    {
     "data": {
      "text/plain": [
       "No     2810\n",
       "Yes    2707\n",
       "Name: streaming_tv, dtype: int64"
      ]
     },
     "metadata": {},
     "output_type": "display_data"
    },
    {
     "name": "stdout",
     "output_type": "stream",
     "text": [
      "streaming_movies\n"
     ]
    },
    {
     "data": {
      "text/plain": [
       "No     2785\n",
       "Yes    2732\n",
       "Name: streaming_movies, dtype: int64"
      ]
     },
     "metadata": {},
     "output_type": "display_data"
    }
   ],
   "source": [
    "df_value_counts(internet, 1, 1)"
   ]
  },
  {
   "cell_type": "code",
   "execution_count": 15,
   "id": "0b590170",
   "metadata": {},
   "outputs": [],
   "source": [
    "internet_index = internet['customer_id']"
   ]
  },
  {
   "cell_type": "code",
   "execution_count": 16,
   "id": "082ecd72",
   "metadata": {},
   "outputs": [
    {
     "name": "stdout",
     "output_type": "stream",
     "text": [
      "type\n"
     ]
    },
    {
     "data": {
      "text/plain": [
       "Month-to-month    3875\n",
       "Two year          1695\n",
       "One year          1473\n",
       "Name: type, dtype: int64"
      ]
     },
     "metadata": {},
     "output_type": "display_data"
    },
    {
     "name": "stdout",
     "output_type": "stream",
     "text": [
      "paperless_billing\n"
     ]
    },
    {
     "data": {
      "text/plain": [
       "Yes    4171\n",
       "No     2872\n",
       "Name: paperless_billing, dtype: int64"
      ]
     },
     "metadata": {},
     "output_type": "display_data"
    },
    {
     "name": "stdout",
     "output_type": "stream",
     "text": [
      "payment_method\n"
     ]
    },
    {
     "data": {
      "text/plain": [
       "Electronic check             2365\n",
       "Mailed check                 1612\n",
       "Bank transfer (automatic)    1544\n",
       "Credit card (automatic)      1522\n",
       "Name: payment_method, dtype: int64"
      ]
     },
     "metadata": {},
     "output_type": "display_data"
    },
    {
     "name": "stdout",
     "output_type": "stream",
     "text": [
      "Количество абонентов, не расторгнувших договор:  No    5174\n",
      "Name: end_date, dtype: int64\n",
      "\n",
      "Общее количество абонентов:  7043\n"
     ]
    }
   ],
   "source": [
    "df_value_counts(contract, 5, 3)\n",
    "print('Количество абонентов, не расторгнувших договор: ',\n",
    "      contract[contract['end_date'] == 'No']['end_date'].value_counts())\n",
    "print()\n",
    "print('Общее количество абонентов: ', contract.shape[0])"
   ]
  },
  {
   "cell_type": "markdown",
   "id": "e138608f",
   "metadata": {},
   "source": [
    "**Описание признаков:**\n",
    "\n",
    "- customer_id - уникальный идентификатор клиента\n",
    "- multiple_lines - возможность подключения телефонного аппарата к нескольким линиям одновременно\n",
    "- gender - пол абонента\n",
    "- senior_citizen - принадлежность абонента к возрастной категории пожилых людей\n",
    "- partner - семейное положение (наличие партнера)\n",
    "- dependents - дети\n",
    "- internet_service - тип интернет-соединения\n",
    "- online_security - блокировка небезопасных сайтов\n",
    "- online_backup - облачное хранилище файлов для резервного копирования данных\n",
    "- device_protection - антивирус \t\n",
    "- tech_support - выделенная линия технической поддержки\n",
    "- streaming_tv - стриминговое телевидение\n",
    "- streaming_movies - операторский каталог фильмов\n",
    "- begin_date - дата начала абонентского договора\n",
    "- end_date - дата расторжения абонентского договора\t\n",
    "- type - тип абонентской платы (помесячно, раз в год, и т.п.)\n",
    "- paperless_billing - наличие бумажных чеков\n",
    "- payment_method - способ оплаты\n",
    "- monthly_charges - ежемесячный платеж\n",
    "- total_charges - суммарный платеж за весь период обслуживания"
   ]
  },
  {
   "cell_type": "markdown",
   "id": "f7e7c76a",
   "metadata": {},
   "source": [
    "## <a id=\"3\"> 3. Объединение таблиц. Предобработка данных"
   ]
  },
  {
   "cell_type": "markdown",
   "id": "6f946c45",
   "metadata": {},
   "source": [
    "Объединим все наши таблицы в одну общую."
   ]
  },
  {
   "cell_type": "code",
   "execution_count": 17,
   "id": "1bd3e7f0",
   "metadata": {},
   "outputs": [],
   "source": [
    "df = pd.merge(contract, personal, how='outer', on='customer_id').merge(\n",
    "    phone, how='outer', on='customer_id').merge(internet, how='outer', on='customer_id')"
   ]
  },
  {
   "cell_type": "code",
   "execution_count": 18,
   "id": "c0b3eae6",
   "metadata": {},
   "outputs": [
    {
     "name": "stdout",
     "output_type": "stream",
     "text": [
      "<class 'pandas.core.frame.DataFrame'>\n",
      "Int64Index: 7043 entries, 0 to 7042\n",
      "Data columns (total 20 columns):\n",
      " #   Column             Non-Null Count  Dtype         \n",
      "---  ------             --------------  -----         \n",
      " 0   customer_id        7043 non-null   object        \n",
      " 1   begin_date         7043 non-null   datetime64[ns]\n",
      " 2   end_date           7043 non-null   object        \n",
      " 3   type               7043 non-null   object        \n",
      " 4   paperless_billing  7043 non-null   object        \n",
      " 5   payment_method     7043 non-null   object        \n",
      " 6   monthly_charges    7043 non-null   float64       \n",
      " 7   total_charges      7043 non-null   object        \n",
      " 8   gender             7043 non-null   object        \n",
      " 9   senior_citizen     7043 non-null   int64         \n",
      " 10  partner            7043 non-null   object        \n",
      " 11  dependents         7043 non-null   object        \n",
      " 12  multiple_lines     6361 non-null   object        \n",
      " 13  internet_service   5517 non-null   object        \n",
      " 14  online_security    5517 non-null   object        \n",
      " 15  online_backup      5517 non-null   object        \n",
      " 16  device_protection  5517 non-null   object        \n",
      " 17  tech_support       5517 non-null   object        \n",
      " 18  streaming_tv       5517 non-null   object        \n",
      " 19  streaming_movies   5517 non-null   object        \n",
      "dtypes: datetime64[ns](1), float64(1), int64(1), object(17)\n",
      "memory usage: 1.1+ MB\n"
     ]
    }
   ],
   "source": [
    "df.info()"
   ]
  },
  {
   "cell_type": "markdown",
   "id": "2001eec1",
   "metadata": {},
   "source": [
    "В результате объединения таблиц образовались пропуски.  Часть пропусков - отсутствующие записи в таблицах `интернет` и `телефон`. Фактически, это говорит о том, что у указанных пользователей не подключена услуга интернета или телефонии оператора, т.е. можем заполнить пропуски значениями **No**. Остальные признаки, не подразумевающие бинарного ответа, заполним значением **unknown**."
   ]
  },
  {
   "cell_type": "code",
   "execution_count": 19,
   "id": "c811dcea",
   "metadata": {},
   "outputs": [],
   "source": [
    "df['multiple_lines'] = df['multiple_lines'].fillna('No')\n",
    "\n",
    "df['internet_service'] = df['internet_service'].fillna('unknown')\n",
    "\n",
    "df[internet.columns.values] = df[internet.columns.values].fillna('No')"
   ]
  },
  {
   "cell_type": "markdown",
   "id": "a4cd66ef",
   "metadata": {},
   "source": [
    "Проверим датасет на пропуски после заполнения"
   ]
  },
  {
   "cell_type": "code",
   "execution_count": 20,
   "id": "81229751",
   "metadata": {},
   "outputs": [
    {
     "name": "stdout",
     "output_type": "stream",
     "text": [
      "<class 'pandas.core.frame.DataFrame'>\n",
      "Int64Index: 7043 entries, 0 to 7042\n",
      "Data columns (total 20 columns):\n",
      " #   Column             Non-Null Count  Dtype         \n",
      "---  ------             --------------  -----         \n",
      " 0   customer_id        7043 non-null   object        \n",
      " 1   begin_date         7043 non-null   datetime64[ns]\n",
      " 2   end_date           7043 non-null   object        \n",
      " 3   type               7043 non-null   object        \n",
      " 4   paperless_billing  7043 non-null   object        \n",
      " 5   payment_method     7043 non-null   object        \n",
      " 6   monthly_charges    7043 non-null   float64       \n",
      " 7   total_charges      7043 non-null   object        \n",
      " 8   gender             7043 non-null   object        \n",
      " 9   senior_citizen     7043 non-null   int64         \n",
      " 10  partner            7043 non-null   object        \n",
      " 11  dependents         7043 non-null   object        \n",
      " 12  multiple_lines     7043 non-null   object        \n",
      " 13  internet_service   7043 non-null   object        \n",
      " 14  online_security    7043 non-null   object        \n",
      " 15  online_backup      7043 non-null   object        \n",
      " 16  device_protection  7043 non-null   object        \n",
      " 17  tech_support       7043 non-null   object        \n",
      " 18  streaming_tv       7043 non-null   object        \n",
      " 19  streaming_movies   7043 non-null   object        \n",
      "dtypes: datetime64[ns](1), float64(1), int64(1), object(17)\n",
      "memory usage: 1.1+ MB\n"
     ]
    }
   ],
   "source": [
    "df.info()"
   ]
  },
  {
   "cell_type": "markdown",
   "id": "541b1af3",
   "metadata": {},
   "source": [
    "Сравним распределение способов совершения платежей (периодичности) среди ушедших и активных клиентов."
   ]
  },
  {
   "cell_type": "code",
   "execution_count": 21,
   "id": "c2100d61",
   "metadata": {},
   "outputs": [
    {
     "data": {
      "text/plain": [
       "Month-to-month    2220\n",
       "Two year          1647\n",
       "One year          1307\n",
       "Name: type, dtype: int64"
      ]
     },
     "execution_count": 21,
     "metadata": {},
     "output_type": "execute_result"
    }
   ],
   "source": [
    "df[df['end_date']=='No']['type'].value_counts()"
   ]
  },
  {
   "cell_type": "code",
   "execution_count": 22,
   "id": "049686d8",
   "metadata": {},
   "outputs": [
    {
     "data": {
      "text/plain": [
       "Month-to-month    3875\n",
       "Two year          1695\n",
       "One year          1473\n",
       "Name: type, dtype: int64"
      ]
     },
     "execution_count": 22,
     "metadata": {},
     "output_type": "execute_result"
    }
   ],
   "source": [
    "df['type'].value_counts()"
   ]
  },
  {
   "cell_type": "code",
   "execution_count": 23,
   "id": "35697406",
   "metadata": {},
   "outputs": [
    {
     "name": "stdout",
     "output_type": "stream",
     "text": [
      "Процент ушедших пользователей с ежемесячными платежами: 42.71%\n",
      "Процент ушедших пользователей с платежами раз в год: 11.27%\n",
      "Процент ушедших пользователей с платежами раз в два года: 2.83%\n"
     ]
    }
   ],
   "source": [
    "print('Процент ушедших пользователей с ежемесячными платежами: {:.2%}'.format((3875-2220)/3875))\n",
    "print('Процент ушедших пользователей с платежами раз в год: {:.2%}'.format((1473-1307)/1473))\n",
    "print('Процент ушедших пользователей с платежами раз в два года: {:.2%}'.format((1695-1647)/1695))"
   ]
  },
  {
   "cell_type": "markdown",
   "id": "f5645084",
   "metadata": {},
   "source": [
    "Видим, что чем больше период оплаты, тем меньше вероятность того, что пользователь откажется от услуг оператора. При оплате за месяц процент ушедших составляет чуть больше 42%, при оплате раз в 2 года всего чуть меньше 3%. Такое положение дел вполне закономерно, человек, оплачивающий услуги на 2 года вперед, скорее всего весьма уверен в принятом решении пользоваться этими услугами. Дополнительный фактор - остаток оплаченного периода. Наименее вероятно, что пользователь откажется от услуг, за которые он уже заплатил (только в крайних случаях).\n",
    "\n",
    "Также приходим к еще одной проблеме данных: в нашей таблице содержится признак \"ежемесячный платеж\", тогда как многие пользователи не платят ежемесячно. Попробуем ввести признак \"разовый платеж\"."
   ]
  },
  {
   "cell_type": "code",
   "execution_count": 24,
   "id": "59888375",
   "metadata": {},
   "outputs": [],
   "source": [
    "df.loc[(df.type == 'Month-to-month'), 'number_of_months'] = 1\n",
    "df.loc[(df.type == 'One year'), 'number_of_months'] = 12\n",
    "df.loc[(df.type == 'Two year'), 'number_of_months'] = 24\n",
    "\n",
    "df['payment_size'] = df['monthly_charges'] * df['number_of_months']"
   ]
  },
  {
   "cell_type": "markdown",
   "id": "fa4e25ea",
   "metadata": {},
   "source": [
    "Введем в набор данных целевой признак: пользователь ушел - **1**, пользователь не отказался от услуг оператора - **0**."
   ]
  },
  {
   "cell_type": "code",
   "execution_count": 25,
   "id": "0faf98d3",
   "metadata": {},
   "outputs": [],
   "source": [
    "df.loc[(df.end_date == 'No'), 'has_left'] = 0\n",
    "df.loc[(df.end_date != 'No'), 'has_left'] = 1\n",
    "df['has_left'] = df['has_left'].astype(int)"
   ]
  },
  {
   "cell_type": "code",
   "execution_count": 26,
   "id": "a67efd28",
   "metadata": {},
   "outputs": [
    {
     "data": {
      "text/plain": [
       "0    3761\n",
       "1    1756\n",
       "Name: has_left, dtype: int64"
      ]
     },
     "execution_count": 26,
     "metadata": {},
     "output_type": "execute_result"
    }
   ],
   "source": [
    "df.loc[df['customer_id'].isin(internet_index)]['has_left'].value_counts()"
   ]
  },
  {
   "cell_type": "markdown",
   "id": "7db18117",
   "metadata": {},
   "source": [
    "Проверим, пользователи какой услуги (интернет или телефония) более склонны к уходу."
   ]
  },
  {
   "cell_type": "code",
   "execution_count": 27,
   "id": "f347abc9",
   "metadata": {},
   "outputs": [
    {
     "data": {
      "text/plain": [
       "0    4662\n",
       "1    1699\n",
       "Name: has_left, dtype: int64"
      ]
     },
     "execution_count": 27,
     "metadata": {},
     "output_type": "execute_result"
    }
   ],
   "source": [
    "df.loc[df['customer_id'].isin(phone_index)]['has_left'].value_counts()"
   ]
  },
  {
   "cell_type": "code",
   "execution_count": 28,
   "id": "61ad9bed",
   "metadata": {},
   "outputs": [
    {
     "data": {
      "text/plain": [
       "0    3249\n",
       "1    1586\n",
       "Name: has_left, dtype: int64"
      ]
     },
     "execution_count": 28,
     "metadata": {},
     "output_type": "execute_result"
    }
   ],
   "source": [
    "answer = internet.merge(phone, on='customer_id', how='inner')\n",
    "answer_index = answer['customer_id']\n",
    "df.loc[df['customer_id'].isin(answer_index)]['has_left'].value_counts()"
   ]
  },
  {
   "cell_type": "markdown",
   "id": "9b3afbb5",
   "metadata": {},
   "source": [
    "Видим равномерное распределение отказывающихся от услуг оператора как среди пользователей интернет-услуг, так и среди телефонных абонентов, как для пользователей услугами по-отдельности, так и в совокупности. Мы не можем сказать, что активнее уходят пользователи какой-то конкретной услуги."
   ]
  },
  {
   "cell_type": "markdown",
   "id": "24e85837",
   "metadata": {},
   "source": [
    "Рассчитаем показатель `\"время жизни клиента\"`. Для этого заполним актуальной датой значения даты окончания действия договора для активных пользователей."
   ]
  },
  {
   "cell_type": "code",
   "execution_count": 29,
   "id": "855c62a7",
   "metadata": {},
   "outputs": [],
   "source": [
    "df.loc[(df.end_date == 'No'), 'end_date'] = '2020-02-01 00:00:00'\n",
    "df['end_date'] = pd.to_datetime(df['end_date'])\n",
    "df['lifetime'] = df['end_date'] - df['begin_date']\n",
    "df['lifetime'] = pd.to_numeric(df['lifetime'].dt.days, downcast='integer') / 30"
   ]
  },
  {
   "cell_type": "markdown",
   "id": "393b5138",
   "metadata": {},
   "source": [
    "Для дополнитеольного изучения информации о пользователях добавим показатели месяца и года.\n",
    "\n",
    "*(В датасет для обучения модели эти данные включены не будут)*"
   ]
  },
  {
   "cell_type": "code",
   "execution_count": 30,
   "id": "802cf02b",
   "metadata": {},
   "outputs": [],
   "source": [
    "df.loc[(df.has_left == 1), 'end_month'] = df['end_date'].apply(lambda x: x.month)\n",
    "df.loc[(df.has_left == 1), 'end_year'] = df['end_date'].apply(lambda x: x.year)\n",
    "\n",
    "df['begin_month'] = df['begin_date'].apply(lambda x: x.month)\n",
    "df['begin_year'] = df['begin_date'].apply(lambda x: x.year)"
   ]
  },
  {
   "cell_type": "markdown",
   "id": "55354a49",
   "metadata": {},
   "source": [
    "Месяцы и года, в которые клиенты уходили от оператора."
   ]
  },
  {
   "cell_type": "code",
   "execution_count": 31,
   "id": "582bb659",
   "metadata": {},
   "outputs": [
    {
     "data": {
      "text/plain": [
       "11.0    485\n",
       "12.0    466\n",
       "1.0     460\n",
       "10.0    458\n",
       "Name: end_month, dtype: int64"
      ]
     },
     "execution_count": 31,
     "metadata": {},
     "output_type": "execute_result"
    }
   ],
   "source": [
    "df['end_month'].value_counts()"
   ]
  },
  {
   "cell_type": "code",
   "execution_count": 32,
   "id": "86ac4559",
   "metadata": {},
   "outputs": [
    {
     "data": {
      "text/plain": [
       "2019.0    1409\n",
       "2020.0     460\n",
       "Name: end_year, dtype: int64"
      ]
     },
     "execution_count": 32,
     "metadata": {},
     "output_type": "execute_result"
    }
   ],
   "source": [
    "df['end_year'].value_counts()"
   ]
  },
  {
   "cell_type": "markdown",
   "id": "b464939d",
   "metadata": {},
   "source": [
    "Интересно, что более чем за 6 лет работы оператор не терял клиентов до последнего полугодия."
   ]
  },
  {
   "cell_type": "markdown",
   "id": "e2fb17e8",
   "metadata": {},
   "source": [
    "В какие месяцы новые клиенты приходят активнее:"
   ]
  },
  {
   "cell_type": "code",
   "execution_count": 33,
   "id": "e7424e39",
   "metadata": {},
   "outputs": [
    {
     "data": {
      "text/plain": [
       "2     804\n",
       "1     623\n",
       "9     623\n",
       "11    621\n",
       "12    604\n",
       "10    601\n",
       "3     590\n",
       "8     532\n",
       "6     522\n",
       "7     518\n",
       "4     511\n",
       "5     494\n",
       "Name: begin_month, dtype: int64"
      ]
     },
     "execution_count": 33,
     "metadata": {},
     "output_type": "execute_result"
    }
   ],
   "source": [
    "df['begin_month'].value_counts()"
   ]
  },
  {
   "cell_type": "markdown",
   "id": "08db73eb",
   "metadata": {},
   "source": [
    "По месяцам новые пользователи распределились равномерно. Данные с октября 2013 года по февраль 2020, закономерно в эти месяцы наибольшее количество новоприбывших пользователей."
   ]
  },
  {
   "cell_type": "markdown",
   "id": "848a7a25",
   "metadata": {},
   "source": [
    "В какие года сколько новых пользователей пришло к оператору."
   ]
  },
  {
   "cell_type": "code",
   "execution_count": 34,
   "id": "b2e952cf",
   "metadata": {},
   "outputs": [
    {
     "data": {
      "text/plain": [
       "2019    1957\n",
       "2014    1344\n",
       "2018    1030\n",
       "2015     852\n",
       "2017     845\n",
       "2016     763\n",
       "2020     244\n",
       "2013       8\n",
       "Name: begin_year, dtype: int64"
      ]
     },
     "execution_count": 34,
     "metadata": {},
     "output_type": "execute_result"
    }
   ],
   "source": [
    "df['begin_year'].value_counts()"
   ]
  },
  {
   "cell_type": "markdown",
   "id": "2557e271",
   "metadata": {},
   "source": [
    "Посмотрим, сколько месяцев проходит до того, как пользователь принимает решение уйти (и в каком количестве пользователи уходят через какой промежуток времени)."
   ]
  },
  {
   "cell_type": "code",
   "execution_count": 35,
   "id": "2f682986",
   "metadata": {},
   "outputs": [
    {
     "data": {
      "text/plain": [
       "1     613\n",
       "73    362\n",
       "2     238\n",
       "3     200\n",
       "4     176\n",
       "72    170\n",
       "5     133\n",
       "7     131\n",
       "36    127\n",
       "8     123\n",
       "9     119\n",
       "71    119\n",
       "32    118\n",
       "12    117\n",
       "10    116\n",
       "6     110\n",
       "13    109\n",
       "69    100\n",
       "15     99\n",
       "11     99\n",
       "Name: lifetime, dtype: int64"
      ]
     },
     "execution_count": 35,
     "metadata": {},
     "output_type": "execute_result"
    }
   ],
   "source": [
    "df.loc[(df.end_date != 'No'), 'lifetime'].apply(lambda x: round(x)).value_counts().sort_values(ascending=False).head(20)"
   ]
  },
  {
   "cell_type": "code",
   "execution_count": 80,
   "id": "cd5a1401",
   "metadata": {},
   "outputs": [
    {
     "name": "stdout",
     "output_type": "stream",
     "text": [
      "Процент пользователей, ушедших в первые полгода после подключения 78.69%\n"
     ]
    }
   ],
   "source": [
    "print('Процент пользователей, ушедших в первые полгода после подключения {:.2%}'.format(\n",
    "    (613+238+200+176+133+110)/df['has_left'].sum()))"
   ]
  },
  {
   "cell_type": "markdown",
   "id": "c1b35dd7",
   "metadata": {},
   "source": [
    "В первые полгода после подключения уходит почти 80% пользователей. Более того, больше всего пользователей уходят после первого месяца с подключения. Также уходит достаточно много самых старых клиентов."
   ]
  },
  {
   "cell_type": "markdown",
   "id": "b6918e82",
   "metadata": {},
   "source": [
    "Разметим пользователей на \"новых или старых\" и \"обычных\"."
   ]
  },
  {
   "cell_type": "code",
   "execution_count": 37,
   "id": "92bf03a7",
   "metadata": {},
   "outputs": [],
   "source": [
    "df.loc[(df.lifetime <= 2), 'ordinal'] = 0\n",
    "df.loc[(df.lifetime >= 70), 'ordinal'] = 0\n",
    "df['ordinal'] = df['ordinal'].fillna(1)\n",
    "df['ordinal'] = df['ordinal'].astype(int)"
   ]
  },
  {
   "cell_type": "code",
   "execution_count": 38,
   "id": "8f6fcf09",
   "metadata": {},
   "outputs": [
    {
     "data": {
      "text/plain": [
       "1    5677\n",
       "0    1366\n",
       "Name: ordinal, dtype: int64"
      ]
     },
     "execution_count": 38,
     "metadata": {},
     "output_type": "execute_result"
    }
   ],
   "source": [
    "df.ordinal.value_counts()"
   ]
  },
  {
   "cell_type": "markdown",
   "id": "4d938d9a",
   "metadata": {},
   "source": [
    "Закодируем категориальные признаки."
   ]
  },
  {
   "cell_type": "code",
   "execution_count": 39,
   "id": "20a316bb",
   "metadata": {},
   "outputs": [],
   "source": [
    "df[internet.columns.values] = df[internet.columns.values].replace(['Yes', 'No'], [1, 0])\n",
    "df[phone.columns.values] = df[phone.columns.values].replace(['Yes', 'No'], [1, 0])"
   ]
  },
  {
   "cell_type": "code",
   "execution_count": 40,
   "id": "a3900fac",
   "metadata": {},
   "outputs": [],
   "source": [
    "data = df[['type', 'paperless_billing', 'payment_method', 'gender',\n",
    "           'senior_citizen', 'partner', 'dependents', 'internet_service']]\n",
    "\n",
    "encoder = OrdinalEncoder()\n",
    "\n",
    "df_ordinal = pd.DataFrame(encoder.fit_transform(data),\n",
    "                            columns=data.columns)\n",
    "\n",
    "df[['type', 'paperless_billing', 'payment_method', 'gender',\n",
    "    'senior_citizen', 'partner', 'dependents', 'internet_service']] = df_ordinal.astype(int)"
   ]
  },
  {
   "cell_type": "code",
   "execution_count": 41,
   "id": "b911464b",
   "metadata": {},
   "outputs": [
    {
     "data": {
      "text/html": [
       "<div>\n",
       "<style scoped>\n",
       "    .dataframe tbody tr th:only-of-type {\n",
       "        vertical-align: middle;\n",
       "    }\n",
       "\n",
       "    .dataframe tbody tr th {\n",
       "        vertical-align: top;\n",
       "    }\n",
       "\n",
       "    .dataframe thead th {\n",
       "        text-align: right;\n",
       "    }\n",
       "</style>\n",
       "<table border=\"1\" class=\"dataframe\">\n",
       "  <thead>\n",
       "    <tr style=\"text-align: right;\">\n",
       "      <th></th>\n",
       "      <th>customer_id</th>\n",
       "      <th>begin_date</th>\n",
       "      <th>end_date</th>\n",
       "      <th>type</th>\n",
       "      <th>paperless_billing</th>\n",
       "      <th>payment_method</th>\n",
       "      <th>monthly_charges</th>\n",
       "      <th>total_charges</th>\n",
       "      <th>gender</th>\n",
       "      <th>senior_citizen</th>\n",
       "      <th>...</th>\n",
       "      <th>streaming_movies</th>\n",
       "      <th>number_of_months</th>\n",
       "      <th>payment_size</th>\n",
       "      <th>has_left</th>\n",
       "      <th>lifetime</th>\n",
       "      <th>end_month</th>\n",
       "      <th>end_year</th>\n",
       "      <th>begin_month</th>\n",
       "      <th>begin_year</th>\n",
       "      <th>ordinal</th>\n",
       "    </tr>\n",
       "  </thead>\n",
       "  <tbody>\n",
       "    <tr>\n",
       "      <th>0</th>\n",
       "      <td>7590-VHVEG</td>\n",
       "      <td>2020-01-01</td>\n",
       "      <td>2020-02-01</td>\n",
       "      <td>0</td>\n",
       "      <td>1</td>\n",
       "      <td>2</td>\n",
       "      <td>29.85</td>\n",
       "      <td>29.85</td>\n",
       "      <td>0</td>\n",
       "      <td>0</td>\n",
       "      <td>...</td>\n",
       "      <td>0</td>\n",
       "      <td>1.0</td>\n",
       "      <td>29.85</td>\n",
       "      <td>0</td>\n",
       "      <td>1.033333</td>\n",
       "      <td>NaN</td>\n",
       "      <td>NaN</td>\n",
       "      <td>1</td>\n",
       "      <td>2020</td>\n",
       "      <td>0</td>\n",
       "    </tr>\n",
       "    <tr>\n",
       "      <th>1</th>\n",
       "      <td>5575-GNVDE</td>\n",
       "      <td>2017-04-01</td>\n",
       "      <td>2020-02-01</td>\n",
       "      <td>1</td>\n",
       "      <td>0</td>\n",
       "      <td>3</td>\n",
       "      <td>56.95</td>\n",
       "      <td>1889.5</td>\n",
       "      <td>1</td>\n",
       "      <td>0</td>\n",
       "      <td>...</td>\n",
       "      <td>0</td>\n",
       "      <td>12.0</td>\n",
       "      <td>683.40</td>\n",
       "      <td>0</td>\n",
       "      <td>34.533333</td>\n",
       "      <td>NaN</td>\n",
       "      <td>NaN</td>\n",
       "      <td>4</td>\n",
       "      <td>2017</td>\n",
       "      <td>1</td>\n",
       "    </tr>\n",
       "    <tr>\n",
       "      <th>2</th>\n",
       "      <td>3668-QPYBK</td>\n",
       "      <td>2019-10-01</td>\n",
       "      <td>2019-12-01</td>\n",
       "      <td>0</td>\n",
       "      <td>1</td>\n",
       "      <td>3</td>\n",
       "      <td>53.85</td>\n",
       "      <td>108.15</td>\n",
       "      <td>1</td>\n",
       "      <td>0</td>\n",
       "      <td>...</td>\n",
       "      <td>0</td>\n",
       "      <td>1.0</td>\n",
       "      <td>53.85</td>\n",
       "      <td>1</td>\n",
       "      <td>2.033333</td>\n",
       "      <td>12.0</td>\n",
       "      <td>2019.0</td>\n",
       "      <td>10</td>\n",
       "      <td>2019</td>\n",
       "      <td>1</td>\n",
       "    </tr>\n",
       "    <tr>\n",
       "      <th>3</th>\n",
       "      <td>7795-CFOCW</td>\n",
       "      <td>2016-05-01</td>\n",
       "      <td>2020-02-01</td>\n",
       "      <td>1</td>\n",
       "      <td>0</td>\n",
       "      <td>0</td>\n",
       "      <td>42.30</td>\n",
       "      <td>1840.75</td>\n",
       "      <td>1</td>\n",
       "      <td>0</td>\n",
       "      <td>...</td>\n",
       "      <td>0</td>\n",
       "      <td>12.0</td>\n",
       "      <td>507.60</td>\n",
       "      <td>0</td>\n",
       "      <td>45.700000</td>\n",
       "      <td>NaN</td>\n",
       "      <td>NaN</td>\n",
       "      <td>5</td>\n",
       "      <td>2016</td>\n",
       "      <td>1</td>\n",
       "    </tr>\n",
       "    <tr>\n",
       "      <th>4</th>\n",
       "      <td>9237-HQITU</td>\n",
       "      <td>2019-09-01</td>\n",
       "      <td>2019-11-01</td>\n",
       "      <td>0</td>\n",
       "      <td>1</td>\n",
       "      <td>2</td>\n",
       "      <td>70.70</td>\n",
       "      <td>151.65</td>\n",
       "      <td>0</td>\n",
       "      <td>0</td>\n",
       "      <td>...</td>\n",
       "      <td>0</td>\n",
       "      <td>1.0</td>\n",
       "      <td>70.70</td>\n",
       "      <td>1</td>\n",
       "      <td>2.033333</td>\n",
       "      <td>11.0</td>\n",
       "      <td>2019.0</td>\n",
       "      <td>9</td>\n",
       "      <td>2019</td>\n",
       "      <td>1</td>\n",
       "    </tr>\n",
       "  </tbody>\n",
       "</table>\n",
       "<p>5 rows × 29 columns</p>\n",
       "</div>"
      ],
      "text/plain": [
       "  customer_id begin_date   end_date  type  paperless_billing  payment_method  \\\n",
       "0  7590-VHVEG 2020-01-01 2020-02-01     0                  1               2   \n",
       "1  5575-GNVDE 2017-04-01 2020-02-01     1                  0               3   \n",
       "2  3668-QPYBK 2019-10-01 2019-12-01     0                  1               3   \n",
       "3  7795-CFOCW 2016-05-01 2020-02-01     1                  0               0   \n",
       "4  9237-HQITU 2019-09-01 2019-11-01     0                  1               2   \n",
       "\n",
       "   monthly_charges total_charges  gender  senior_citizen  ...  \\\n",
       "0            29.85         29.85       0               0  ...   \n",
       "1            56.95        1889.5       1               0  ...   \n",
       "2            53.85        108.15       1               0  ...   \n",
       "3            42.30       1840.75       1               0  ...   \n",
       "4            70.70        151.65       0               0  ...   \n",
       "\n",
       "   streaming_movies  number_of_months  payment_size  has_left   lifetime  \\\n",
       "0                 0               1.0         29.85         0   1.033333   \n",
       "1                 0              12.0        683.40         0  34.533333   \n",
       "2                 0               1.0         53.85         1   2.033333   \n",
       "3                 0              12.0        507.60         0  45.700000   \n",
       "4                 0               1.0         70.70         1   2.033333   \n",
       "\n",
       "   end_month  end_year  begin_month  begin_year  ordinal  \n",
       "0        NaN       NaN            1        2020        0  \n",
       "1        NaN       NaN            4        2017        1  \n",
       "2       12.0    2019.0           10        2019        1  \n",
       "3        NaN       NaN            5        2016        1  \n",
       "4       11.0    2019.0            9        2019        1  \n",
       "\n",
       "[5 rows x 29 columns]"
      ]
     },
     "execution_count": 41,
     "metadata": {},
     "output_type": "execute_result"
    }
   ],
   "source": [
    "df.head()"
   ]
  },
  {
   "cell_type": "markdown",
   "id": "511a37d4",
   "metadata": {},
   "source": [
    "Создадим признак \"количество подключенных опций\"."
   ]
  },
  {
   "cell_type": "code",
   "execution_count": 42,
   "id": "6435a359",
   "metadata": {},
   "outputs": [],
   "source": [
    "df['number_of_options'] = (df['online_security'] + df['tech_support'] +\n",
    "                           df['online_backup'] + df['device_protection'] + \n",
    "                           df['streaming_tv'] + df['streaming_movies'])"
   ]
  },
  {
   "cell_type": "markdown",
   "id": "ee00439b",
   "metadata": {},
   "source": [
    "Приведем признак `'total_charges'` к числовому типу."
   ]
  },
  {
   "cell_type": "code",
   "execution_count": 43,
   "id": "15266c85",
   "metadata": {},
   "outputs": [],
   "source": [
    "df['total_charges'] = pd.to_numeric(df.total_charges, errors='coerce')"
   ]
  },
  {
   "cell_type": "markdown",
   "id": "c1d27b78",
   "metadata": {},
   "source": [
    "Изучим строки с пропусками."
   ]
  },
  {
   "cell_type": "code",
   "execution_count": 44,
   "id": "a2dbb09d",
   "metadata": {},
   "outputs": [
    {
     "data": {
      "text/html": [
       "<div>\n",
       "<style scoped>\n",
       "    .dataframe tbody tr th:only-of-type {\n",
       "        vertical-align: middle;\n",
       "    }\n",
       "\n",
       "    .dataframe tbody tr th {\n",
       "        vertical-align: top;\n",
       "    }\n",
       "\n",
       "    .dataframe thead th {\n",
       "        text-align: right;\n",
       "    }\n",
       "</style>\n",
       "<table border=\"1\" class=\"dataframe\">\n",
       "  <thead>\n",
       "    <tr style=\"text-align: right;\">\n",
       "      <th></th>\n",
       "      <th>customer_id</th>\n",
       "      <th>begin_date</th>\n",
       "      <th>end_date</th>\n",
       "      <th>type</th>\n",
       "      <th>paperless_billing</th>\n",
       "      <th>payment_method</th>\n",
       "      <th>monthly_charges</th>\n",
       "      <th>total_charges</th>\n",
       "      <th>gender</th>\n",
       "      <th>senior_citizen</th>\n",
       "      <th>...</th>\n",
       "      <th>number_of_months</th>\n",
       "      <th>payment_size</th>\n",
       "      <th>has_left</th>\n",
       "      <th>lifetime</th>\n",
       "      <th>end_month</th>\n",
       "      <th>end_year</th>\n",
       "      <th>begin_month</th>\n",
       "      <th>begin_year</th>\n",
       "      <th>ordinal</th>\n",
       "      <th>number_of_options</th>\n",
       "    </tr>\n",
       "  </thead>\n",
       "  <tbody>\n",
       "    <tr>\n",
       "      <th>488</th>\n",
       "      <td>4472-LVYGI</td>\n",
       "      <td>2020-02-01</td>\n",
       "      <td>2020-02-01</td>\n",
       "      <td>2</td>\n",
       "      <td>1</td>\n",
       "      <td>0</td>\n",
       "      <td>52.55</td>\n",
       "      <td>NaN</td>\n",
       "      <td>0</td>\n",
       "      <td>0</td>\n",
       "      <td>...</td>\n",
       "      <td>24.0</td>\n",
       "      <td>1261.2</td>\n",
       "      <td>0</td>\n",
       "      <td>0.0</td>\n",
       "      <td>NaN</td>\n",
       "      <td>NaN</td>\n",
       "      <td>2</td>\n",
       "      <td>2020</td>\n",
       "      <td>0</td>\n",
       "      <td>4</td>\n",
       "    </tr>\n",
       "    <tr>\n",
       "      <th>753</th>\n",
       "      <td>3115-CZMZD</td>\n",
       "      <td>2020-02-01</td>\n",
       "      <td>2020-02-01</td>\n",
       "      <td>2</td>\n",
       "      <td>0</td>\n",
       "      <td>3</td>\n",
       "      <td>20.25</td>\n",
       "      <td>NaN</td>\n",
       "      <td>1</td>\n",
       "      <td>0</td>\n",
       "      <td>...</td>\n",
       "      <td>24.0</td>\n",
       "      <td>486.0</td>\n",
       "      <td>0</td>\n",
       "      <td>0.0</td>\n",
       "      <td>NaN</td>\n",
       "      <td>NaN</td>\n",
       "      <td>2</td>\n",
       "      <td>2020</td>\n",
       "      <td>0</td>\n",
       "      <td>0</td>\n",
       "    </tr>\n",
       "    <tr>\n",
       "      <th>936</th>\n",
       "      <td>5709-LVOEQ</td>\n",
       "      <td>2020-02-01</td>\n",
       "      <td>2020-02-01</td>\n",
       "      <td>2</td>\n",
       "      <td>0</td>\n",
       "      <td>3</td>\n",
       "      <td>80.85</td>\n",
       "      <td>NaN</td>\n",
       "      <td>0</td>\n",
       "      <td>0</td>\n",
       "      <td>...</td>\n",
       "      <td>24.0</td>\n",
       "      <td>1940.4</td>\n",
       "      <td>0</td>\n",
       "      <td>0.0</td>\n",
       "      <td>NaN</td>\n",
       "      <td>NaN</td>\n",
       "      <td>2</td>\n",
       "      <td>2020</td>\n",
       "      <td>0</td>\n",
       "      <td>5</td>\n",
       "    </tr>\n",
       "    <tr>\n",
       "      <th>1082</th>\n",
       "      <td>4367-NUYAO</td>\n",
       "      <td>2020-02-01</td>\n",
       "      <td>2020-02-01</td>\n",
       "      <td>2</td>\n",
       "      <td>0</td>\n",
       "      <td>3</td>\n",
       "      <td>25.75</td>\n",
       "      <td>NaN</td>\n",
       "      <td>1</td>\n",
       "      <td>0</td>\n",
       "      <td>...</td>\n",
       "      <td>24.0</td>\n",
       "      <td>618.0</td>\n",
       "      <td>0</td>\n",
       "      <td>0.0</td>\n",
       "      <td>NaN</td>\n",
       "      <td>NaN</td>\n",
       "      <td>2</td>\n",
       "      <td>2020</td>\n",
       "      <td>0</td>\n",
       "      <td>0</td>\n",
       "    </tr>\n",
       "    <tr>\n",
       "      <th>1340</th>\n",
       "      <td>1371-DWPAZ</td>\n",
       "      <td>2020-02-01</td>\n",
       "      <td>2020-02-01</td>\n",
       "      <td>2</td>\n",
       "      <td>0</td>\n",
       "      <td>1</td>\n",
       "      <td>56.05</td>\n",
       "      <td>NaN</td>\n",
       "      <td>0</td>\n",
       "      <td>0</td>\n",
       "      <td>...</td>\n",
       "      <td>24.0</td>\n",
       "      <td>1345.2</td>\n",
       "      <td>0</td>\n",
       "      <td>0.0</td>\n",
       "      <td>NaN</td>\n",
       "      <td>NaN</td>\n",
       "      <td>2</td>\n",
       "      <td>2020</td>\n",
       "      <td>0</td>\n",
       "      <td>5</td>\n",
       "    </tr>\n",
       "    <tr>\n",
       "      <th>3331</th>\n",
       "      <td>7644-OMVMY</td>\n",
       "      <td>2020-02-01</td>\n",
       "      <td>2020-02-01</td>\n",
       "      <td>2</td>\n",
       "      <td>0</td>\n",
       "      <td>3</td>\n",
       "      <td>19.85</td>\n",
       "      <td>NaN</td>\n",
       "      <td>1</td>\n",
       "      <td>0</td>\n",
       "      <td>...</td>\n",
       "      <td>24.0</td>\n",
       "      <td>476.4</td>\n",
       "      <td>0</td>\n",
       "      <td>0.0</td>\n",
       "      <td>NaN</td>\n",
       "      <td>NaN</td>\n",
       "      <td>2</td>\n",
       "      <td>2020</td>\n",
       "      <td>0</td>\n",
       "      <td>0</td>\n",
       "    </tr>\n",
       "    <tr>\n",
       "      <th>3826</th>\n",
       "      <td>3213-VVOLG</td>\n",
       "      <td>2020-02-01</td>\n",
       "      <td>2020-02-01</td>\n",
       "      <td>2</td>\n",
       "      <td>0</td>\n",
       "      <td>3</td>\n",
       "      <td>25.35</td>\n",
       "      <td>NaN</td>\n",
       "      <td>1</td>\n",
       "      <td>0</td>\n",
       "      <td>...</td>\n",
       "      <td>24.0</td>\n",
       "      <td>608.4</td>\n",
       "      <td>0</td>\n",
       "      <td>0.0</td>\n",
       "      <td>NaN</td>\n",
       "      <td>NaN</td>\n",
       "      <td>2</td>\n",
       "      <td>2020</td>\n",
       "      <td>0</td>\n",
       "      <td>0</td>\n",
       "    </tr>\n",
       "    <tr>\n",
       "      <th>4380</th>\n",
       "      <td>2520-SGTTA</td>\n",
       "      <td>2020-02-01</td>\n",
       "      <td>2020-02-01</td>\n",
       "      <td>2</td>\n",
       "      <td>0</td>\n",
       "      <td>3</td>\n",
       "      <td>20.00</td>\n",
       "      <td>NaN</td>\n",
       "      <td>0</td>\n",
       "      <td>0</td>\n",
       "      <td>...</td>\n",
       "      <td>24.0</td>\n",
       "      <td>480.0</td>\n",
       "      <td>0</td>\n",
       "      <td>0.0</td>\n",
       "      <td>NaN</td>\n",
       "      <td>NaN</td>\n",
       "      <td>2</td>\n",
       "      <td>2020</td>\n",
       "      <td>0</td>\n",
       "      <td>0</td>\n",
       "    </tr>\n",
       "    <tr>\n",
       "      <th>5218</th>\n",
       "      <td>2923-ARZLG</td>\n",
       "      <td>2020-02-01</td>\n",
       "      <td>2020-02-01</td>\n",
       "      <td>1</td>\n",
       "      <td>1</td>\n",
       "      <td>3</td>\n",
       "      <td>19.70</td>\n",
       "      <td>NaN</td>\n",
       "      <td>1</td>\n",
       "      <td>0</td>\n",
       "      <td>...</td>\n",
       "      <td>12.0</td>\n",
       "      <td>236.4</td>\n",
       "      <td>0</td>\n",
       "      <td>0.0</td>\n",
       "      <td>NaN</td>\n",
       "      <td>NaN</td>\n",
       "      <td>2</td>\n",
       "      <td>2020</td>\n",
       "      <td>0</td>\n",
       "      <td>0</td>\n",
       "    </tr>\n",
       "    <tr>\n",
       "      <th>6670</th>\n",
       "      <td>4075-WKNIU</td>\n",
       "      <td>2020-02-01</td>\n",
       "      <td>2020-02-01</td>\n",
       "      <td>2</td>\n",
       "      <td>0</td>\n",
       "      <td>3</td>\n",
       "      <td>73.35</td>\n",
       "      <td>NaN</td>\n",
       "      <td>0</td>\n",
       "      <td>0</td>\n",
       "      <td>...</td>\n",
       "      <td>24.0</td>\n",
       "      <td>1760.4</td>\n",
       "      <td>0</td>\n",
       "      <td>0.0</td>\n",
       "      <td>NaN</td>\n",
       "      <td>NaN</td>\n",
       "      <td>2</td>\n",
       "      <td>2020</td>\n",
       "      <td>0</td>\n",
       "      <td>4</td>\n",
       "    </tr>\n",
       "    <tr>\n",
       "      <th>6754</th>\n",
       "      <td>2775-SEFEE</td>\n",
       "      <td>2020-02-01</td>\n",
       "      <td>2020-02-01</td>\n",
       "      <td>2</td>\n",
       "      <td>1</td>\n",
       "      <td>0</td>\n",
       "      <td>61.90</td>\n",
       "      <td>NaN</td>\n",
       "      <td>1</td>\n",
       "      <td>0</td>\n",
       "      <td>...</td>\n",
       "      <td>24.0</td>\n",
       "      <td>1485.6</td>\n",
       "      <td>0</td>\n",
       "      <td>0.0</td>\n",
       "      <td>NaN</td>\n",
       "      <td>NaN</td>\n",
       "      <td>2</td>\n",
       "      <td>2020</td>\n",
       "      <td>0</td>\n",
       "      <td>3</td>\n",
       "    </tr>\n",
       "  </tbody>\n",
       "</table>\n",
       "<p>11 rows × 30 columns</p>\n",
       "</div>"
      ],
      "text/plain": [
       "     customer_id begin_date   end_date  type  paperless_billing  \\\n",
       "488   4472-LVYGI 2020-02-01 2020-02-01     2                  1   \n",
       "753   3115-CZMZD 2020-02-01 2020-02-01     2                  0   \n",
       "936   5709-LVOEQ 2020-02-01 2020-02-01     2                  0   \n",
       "1082  4367-NUYAO 2020-02-01 2020-02-01     2                  0   \n",
       "1340  1371-DWPAZ 2020-02-01 2020-02-01     2                  0   \n",
       "3331  7644-OMVMY 2020-02-01 2020-02-01     2                  0   \n",
       "3826  3213-VVOLG 2020-02-01 2020-02-01     2                  0   \n",
       "4380  2520-SGTTA 2020-02-01 2020-02-01     2                  0   \n",
       "5218  2923-ARZLG 2020-02-01 2020-02-01     1                  1   \n",
       "6670  4075-WKNIU 2020-02-01 2020-02-01     2                  0   \n",
       "6754  2775-SEFEE 2020-02-01 2020-02-01     2                  1   \n",
       "\n",
       "      payment_method  monthly_charges  total_charges  gender  senior_citizen  \\\n",
       "488                0            52.55            NaN       0               0   \n",
       "753                3            20.25            NaN       1               0   \n",
       "936                3            80.85            NaN       0               0   \n",
       "1082               3            25.75            NaN       1               0   \n",
       "1340               1            56.05            NaN       0               0   \n",
       "3331               3            19.85            NaN       1               0   \n",
       "3826               3            25.35            NaN       1               0   \n",
       "4380               3            20.00            NaN       0               0   \n",
       "5218               3            19.70            NaN       1               0   \n",
       "6670               3            73.35            NaN       0               0   \n",
       "6754               0            61.90            NaN       1               0   \n",
       "\n",
       "      ...  number_of_months  payment_size  has_left  lifetime  end_month  \\\n",
       "488   ...              24.0        1261.2         0       0.0        NaN   \n",
       "753   ...              24.0         486.0         0       0.0        NaN   \n",
       "936   ...              24.0        1940.4         0       0.0        NaN   \n",
       "1082  ...              24.0         618.0         0       0.0        NaN   \n",
       "1340  ...              24.0        1345.2         0       0.0        NaN   \n",
       "3331  ...              24.0         476.4         0       0.0        NaN   \n",
       "3826  ...              24.0         608.4         0       0.0        NaN   \n",
       "4380  ...              24.0         480.0         0       0.0        NaN   \n",
       "5218  ...              12.0         236.4         0       0.0        NaN   \n",
       "6670  ...              24.0        1760.4         0       0.0        NaN   \n",
       "6754  ...              24.0        1485.6         0       0.0        NaN   \n",
       "\n",
       "      end_year  begin_month  begin_year  ordinal  number_of_options  \n",
       "488        NaN            2        2020        0                  4  \n",
       "753        NaN            2        2020        0                  0  \n",
       "936        NaN            2        2020        0                  5  \n",
       "1082       NaN            2        2020        0                  0  \n",
       "1340       NaN            2        2020        0                  5  \n",
       "3331       NaN            2        2020        0                  0  \n",
       "3826       NaN            2        2020        0                  0  \n",
       "4380       NaN            2        2020        0                  0  \n",
       "5218       NaN            2        2020        0                  0  \n",
       "6670       NaN            2        2020        0                  4  \n",
       "6754       NaN            2        2020        0                  3  \n",
       "\n",
       "[11 rows x 30 columns]"
      ]
     },
     "execution_count": 44,
     "metadata": {},
     "output_type": "execute_result"
    }
   ],
   "source": [
    "df[df['total_charges'].isna() == True]"
   ]
  },
  {
   "cell_type": "markdown",
   "id": "a01d8833",
   "metadata": {},
   "source": [
    "Для новых клиентов суммарный платеж должен быть равен единичному месячному платежу либо 0 при постоплате. Остановимся на первом варианте (даже если фактически платеж еще не был совершен, счет на оплату уже сформирован)."
   ]
  },
  {
   "cell_type": "code",
   "execution_count": 45,
   "id": "3f63f33a",
   "metadata": {},
   "outputs": [],
   "source": [
    "df.loc[(df.total_charges.isna() == True, 'total_charges')] = df['monthly_charges']"
   ]
  },
  {
   "cell_type": "markdown",
   "id": "1e9ddc44",
   "metadata": {},
   "source": [
    "Выполним проверку взаимосвязи между бинарными признаками датасета и целевым признаком методом *хи-квадрат.*"
   ]
  },
  {
   "cell_type": "code",
   "execution_count": 46,
   "id": "94a27016",
   "metadata": {},
   "outputs": [],
   "source": [
    "# передадим названия столбцов бинарных признаков в список\n",
    "binary = ['type', 'paperless_billing', 'payment_method',  'gender', \n",
    "          'partner', 'dependents', 'multiple_lines', 'internet_service',\n",
    "          'online_security', 'online_backup', 'device_protection', 'tech_support',\n",
    "          'streaming_tv', 'streaming_movies', 'ordinal']"
   ]
  },
  {
   "cell_type": "code",
   "execution_count": 47,
   "id": "4409dba2",
   "metadata": {},
   "outputs": [],
   "source": [
    "chi_square = chi2(df[binary], df['has_left'])"
   ]
  },
  {
   "cell_type": "code",
   "execution_count": 48,
   "id": "894b2b18",
   "metadata": {},
   "outputs": [],
   "source": [
    "chi_df = pd.DataFrame(chi_square)\n",
    "chi_df.index = ['statistic', 'p-value']\n",
    "chi_df.columns = binary"
   ]
  },
  {
   "cell_type": "code",
   "execution_count": 49,
   "id": "549c9fa1",
   "metadata": {},
   "outputs": [
    {
     "data": {
      "text/html": [
       "<div>\n",
       "<style scoped>\n",
       "    .dataframe tbody tr th:only-of-type {\n",
       "        vertical-align: middle;\n",
       "    }\n",
       "\n",
       "    .dataframe tbody tr th {\n",
       "        vertical-align: top;\n",
       "    }\n",
       "\n",
       "    .dataframe thead th {\n",
       "        text-align: right;\n",
       "    }\n",
       "</style>\n",
       "<table border=\"1\" class=\"dataframe\">\n",
       "  <thead>\n",
       "    <tr style=\"text-align: right;\">\n",
       "      <th></th>\n",
       "      <th>statistic</th>\n",
       "      <th>p-value</th>\n",
       "    </tr>\n",
       "  </thead>\n",
       "  <tbody>\n",
       "    <tr>\n",
       "      <th>type</th>\n",
       "      <td>1115.780167</td>\n",
       "      <td>1.227941e-244</td>\n",
       "    </tr>\n",
       "    <tr>\n",
       "      <th>online_security</th>\n",
       "      <td>147.295858</td>\n",
       "      <td>6.761696e-34</td>\n",
       "    </tr>\n",
       "    <tr>\n",
       "      <th>tech_support</th>\n",
       "      <td>135.559783</td>\n",
       "      <td>2.490549e-31</td>\n",
       "    </tr>\n",
       "    <tr>\n",
       "      <th>dependents</th>\n",
       "      <td>133.036443</td>\n",
       "      <td>8.876729e-31</td>\n",
       "    </tr>\n",
       "    <tr>\n",
       "      <th>paperless_billing</th>\n",
       "      <td>105.680863</td>\n",
       "      <td>8.661987e-25</td>\n",
       "    </tr>\n",
       "    <tr>\n",
       "      <th>partner</th>\n",
       "      <td>82.412083</td>\n",
       "      <td>1.104764e-19</td>\n",
       "    </tr>\n",
       "    <tr>\n",
       "      <th>payment_method</th>\n",
       "      <td>58.492250</td>\n",
       "      <td>2.040933e-14</td>\n",
       "    </tr>\n",
       "    <tr>\n",
       "      <th>online_backup</th>\n",
       "      <td>31.217694</td>\n",
       "      <td>2.306541e-08</td>\n",
       "    </tr>\n",
       "    <tr>\n",
       "      <th>device_protection</th>\n",
       "      <td>20.226662</td>\n",
       "      <td>6.878750e-06</td>\n",
       "    </tr>\n",
       "    <tr>\n",
       "      <th>streaming_tv</th>\n",
       "      <td>17.334235</td>\n",
       "      <td>3.134881e-05</td>\n",
       "    </tr>\n",
       "    <tr>\n",
       "      <th>streaming_movies</th>\n",
       "      <td>16.242531</td>\n",
       "      <td>5.572887e-05</td>\n",
       "    </tr>\n",
       "    <tr>\n",
       "      <th>internet_service</th>\n",
       "      <td>9.821028</td>\n",
       "      <td>1.725279e-03</td>\n",
       "    </tr>\n",
       "    <tr>\n",
       "      <th>multiple_lines</th>\n",
       "      <td>6.548512</td>\n",
       "      <td>1.049719e-02</td>\n",
       "    </tr>\n",
       "    <tr>\n",
       "      <th>ordinal</th>\n",
       "      <td>1.789673</td>\n",
       "      <td>1.809660e-01</td>\n",
       "    </tr>\n",
       "    <tr>\n",
       "      <th>gender</th>\n",
       "      <td>0.258699</td>\n",
       "      <td>6.110156e-01</td>\n",
       "    </tr>\n",
       "  </tbody>\n",
       "</table>\n",
       "</div>"
      ],
      "text/plain": [
       "                     statistic        p-value\n",
       "type               1115.780167  1.227941e-244\n",
       "online_security     147.295858   6.761696e-34\n",
       "tech_support        135.559783   2.490549e-31\n",
       "dependents          133.036443   8.876729e-31\n",
       "paperless_billing   105.680863   8.661987e-25\n",
       "partner              82.412083   1.104764e-19\n",
       "payment_method       58.492250   2.040933e-14\n",
       "online_backup        31.217694   2.306541e-08\n",
       "device_protection    20.226662   6.878750e-06\n",
       "streaming_tv         17.334235   3.134881e-05\n",
       "streaming_movies     16.242531   5.572887e-05\n",
       "internet_service      9.821028   1.725279e-03\n",
       "multiple_lines        6.548512   1.049719e-02\n",
       "ordinal               1.789673   1.809660e-01\n",
       "gender                0.258699   6.110156e-01"
      ]
     },
     "execution_count": 49,
     "metadata": {},
     "output_type": "execute_result"
    }
   ],
   "source": [
    "chi_df = chi_df.T.sort_values(by='statistic', ascending=False)\n",
    "chi_df"
   ]
  },
  {
   "cell_type": "markdown",
   "id": "f6c478b8",
   "metadata": {},
   "source": [
    "Тест хи-квадрат возвращает p-значение гипотезы о том, что две бинарные переменные независимы. Т.е. чем меньше значение p-value, тем сильнее связь между переменными."
   ]
  },
  {
   "cell_type": "code",
   "execution_count": 50,
   "id": "ce0cbade",
   "metadata": {},
   "outputs": [
    {
     "data": {
      "image/png": "[encoded data removed]",
      "text/plain": [
       "<Figure size 2400x1200 with 1 Axes>"
      ]
     },
     "metadata": {
      "needs_background": "light"
     },
     "output_type": "display_data"
    }
   ],
   "source": [
    "plt.figure(figsize=(30,15), dpi= 80)\n",
    "colors = [plt.cm.Spectral(i/float(len(chi_df.index))) for i in range(len(chi_df.index))]\n",
    "squarify.plot(chi_df['statistic'], alpha=.8, label=chi_df.index, color=colors)\n",
    "plt.title('Степень влияния бинарных обучающих признаков на целевой признак')\n",
    "plt.show()"
   ]
  },
  {
   "cell_type": "markdown",
   "id": "a07dea34",
   "metadata": {},
   "source": [
    "Построим диаграммы размаха для количественных признаков."
   ]
  },
  {
   "cell_type": "code",
   "execution_count": 51,
   "id": "70ebb371",
   "metadata": {},
   "outputs": [
    {
     "data": {
      "image/png": "[encoded data removed]",
      "text/plain": [
       "<Figure size 864x360 with 1 Axes>"
      ]
     },
     "metadata": {
      "needs_background": "light"
     },
     "output_type": "display_data"
    },
    {
     "data": {
      "image/png": "[encoded data removed]",
      "text/plain": [
       "<Figure size 864x360 with 1 Axes>"
      ]
     },
     "metadata": {
      "needs_background": "light"
     },
     "output_type": "display_data"
    },
    {
     "data": {
      "image/png": "[encoded data removed]",
      "text/plain": [
       "<Figure size 864x360 with 1 Axes>"
      ]
     },
     "metadata": {
      "needs_background": "light"
     },
     "output_type": "display_data"
    },
    {
     "data": {
      "image/png": "[encoded data removed]",
      "text/plain": [
       "<Figure size 864x360 with 1 Axes>"
      ]
     },
     "metadata": {
      "needs_background": "light"
     },
     "output_type": "display_data"
    }
   ],
   "source": [
    "plt.figure(figsize=(12, 5))\n",
    "sns.boxplot(x=df['has_left'], y=df['lifetime'])\n",
    "plt.show()\n",
    "\n",
    "plt.figure(figsize=(12, 5))\n",
    "sns.boxplot(x=df['has_left'], y=df['monthly_charges'])\n",
    "plt.show()\n",
    "\n",
    "plt.figure(figsize=(12, 5))\n",
    "sns.boxplot(x=df['has_left'], y=df['payment_size'])\n",
    "plt.show()\n",
    "\n",
    "plt.figure(figsize=(12, 5))\n",
    "sns.boxplot(x=df['has_left'], y=df['total_charges'])\n",
    "plt.show()"
   ]
  },
  {
   "cell_type": "markdown",
   "id": "2f52bc79",
   "metadata": {},
   "source": [
    "Как мы видим, признак `\"ежемесячные платежи\"` не содержит выбросов. По `\"суммарным платежам\"` имеюся выбросы около значения 6000 у.е. и выше. Искусственно сгенерированный признак `\"размер единовременного платежа\"` для ушедших клиентов в принципе состоит из выбросов (откажемся от его использования при обучении модели). Для признака `\"время жизни\"` наблюдаем незначительное количество выбросов. Учитывая степень значимости показателя `\"время жизни\"`, они могут оказывать ощутимое влияние на качество предсказаний модели."
   ]
  },
  {
   "cell_type": "markdown",
   "id": "6e7ada16",
   "metadata": {},
   "source": [
    "Посмотрим на признаки с пропусками в данных."
   ]
  },
  {
   "cell_type": "code",
   "execution_count": 52,
   "id": "71c552fe",
   "metadata": {},
   "outputs": [
    {
     "data": {
      "text/plain": [
       "customer_id             0\n",
       "begin_date              0\n",
       "end_date                0\n",
       "type                    0\n",
       "paperless_billing       0\n",
       "payment_method          0\n",
       "monthly_charges         0\n",
       "total_charges           0\n",
       "gender                  0\n",
       "senior_citizen          0\n",
       "partner                 0\n",
       "dependents              0\n",
       "multiple_lines          0\n",
       "internet_service        0\n",
       "online_security         0\n",
       "online_backup           0\n",
       "device_protection       0\n",
       "tech_support            0\n",
       "streaming_tv            0\n",
       "streaming_movies        0\n",
       "number_of_months        0\n",
       "payment_size            0\n",
       "has_left                0\n",
       "lifetime                0\n",
       "end_month            5174\n",
       "end_year             5174\n",
       "begin_month             0\n",
       "begin_year              0\n",
       "ordinal                 0\n",
       "number_of_options       0\n",
       "dtype: int64"
      ]
     },
     "execution_count": 52,
     "metadata": {},
     "output_type": "execute_result"
    }
   ],
   "source": [
    "df.isna().sum()"
   ]
  },
  {
   "cell_type": "markdown",
   "id": "5e7dccc8",
   "metadata": {},
   "source": [
    "Построим и сравним графики распределения общих платежей, ежемесячных платежей и величины одного платежа для активных клиентов и тех клиентов, которые отказались от услуг оператора."
   ]
  },
  {
   "cell_type": "code",
   "execution_count": 53,
   "id": "ec008245",
   "metadata": {},
   "outputs": [
    {
     "data": {
      "image/png": "[encoded data removed]",
      "text/plain": [
       "<Figure size 1440x576 with 1 Axes>"
      ]
     },
     "metadata": {
      "needs_background": "light"
     },
     "output_type": "display_data"
    }
   ],
   "source": [
    "plt.figure(figsize=(20, 8))\n",
    "plt.hist(df[df['has_left']==0]['total_charges'], bins=250, alpha=.8, label='Оставшиеся')\n",
    "plt.hist(df[df['has_left']==1]['total_charges'], bins=250, alpha=.5, label='Ушедшие')\n",
    "plt.xlabel(\"Общий суммарный платеж\")\n",
    "plt.ylabel(\"Количество клиентов\")\n",
    "plt.title(\"Сравнение распределение общего суммарного платежа активных и ушедших клиентов\")\n",
    "plt.legend()\n",
    "plt.show()\n"
   ]
  },
  {
   "cell_type": "code",
   "execution_count": 54,
   "id": "98bd6f91",
   "metadata": {},
   "outputs": [
    {
     "data": {
      "image/png": "[encoded data removed]",
      "text/plain": [
       "<Figure size 1440x576 with 1 Axes>"
      ]
     },
     "metadata": {
      "needs_background": "light"
     },
     "output_type": "display_data"
    }
   ],
   "source": [
    "plt.figure(figsize=(20, 8))\n",
    "plt.hist(df[df['has_left']==0]['monthly_charges'], bins=500, alpha=.8, label='Оставшиеся')\n",
    "plt.hist(df[df['has_left']==1]['monthly_charges'], bins=500, alpha=.5, label='Ушедшие')\n",
    "plt.xlabel(\"Ежемесячный платеж\")\n",
    "plt.ylabel(\"Количество клиентов\")\n",
    "plt.title(\"Сравнение распределение условного ежемесячного платежа активных и ушедших клиентов\")\n",
    "plt.legend()\n",
    "plt.show()\n"
   ]
  },
  {
   "cell_type": "code",
   "execution_count": 55,
   "id": "b2769ef6",
   "metadata": {},
   "outputs": [
    {
     "data": {
      "image/png": "[encoded data removed]",
      "text/plain": [
       "<Figure size 1440x576 with 1 Axes>"
      ]
     },
     "metadata": {
      "needs_background": "light"
     },
     "output_type": "display_data"
    }
   ],
   "source": [
    "plt.figure(figsize=(20, 8))\n",
    "plt.hist(df[df['has_left']==0]['payment_size'], bins=250, alpha=.8, label='Оставшиеся')\n",
    "plt.hist(df[df['has_left']==1]['payment_size'], bins=250, alpha=.5, label='Ушедшие')\n",
    "plt.xlabel(\"Единовременный платеж\")\n",
    "plt.ylabel(\"Количество клиентов\")\n",
    "plt.title(\"Сравнение распределение размера единовременного платежа активных и ушедших клиентов\")\n",
    "plt.show()"
   ]
  },
  {
   "cell_type": "markdown",
   "id": "8ce9cb32",
   "metadata": {},
   "source": [
    "Распределения схожи, при этом видна степень влияния стоимости услуг на решение об уходе."
   ]
  },
  {
   "cell_type": "code",
   "execution_count": 56,
   "id": "2aa195d1",
   "metadata": {},
   "outputs": [
    {
     "name": "stdout",
     "output_type": "stream",
     "text": [
      "1. Первые 5 строк таблицы\n"
     ]
    },
    {
     "data": {
      "text/html": [
       "<div>\n",
       "<style scoped>\n",
       "    .dataframe tbody tr th:only-of-type {\n",
       "        vertical-align: middle;\n",
       "    }\n",
       "\n",
       "    .dataframe tbody tr th {\n",
       "        vertical-align: top;\n",
       "    }\n",
       "\n",
       "    .dataframe thead th {\n",
       "        text-align: right;\n",
       "    }\n",
       "</style>\n",
       "<table border=\"1\" class=\"dataframe\">\n",
       "  <thead>\n",
       "    <tr style=\"text-align: right;\">\n",
       "      <th></th>\n",
       "      <th>customer_id</th>\n",
       "      <th>begin_date</th>\n",
       "      <th>end_date</th>\n",
       "      <th>type</th>\n",
       "      <th>paperless_billing</th>\n",
       "      <th>payment_method</th>\n",
       "      <th>monthly_charges</th>\n",
       "      <th>total_charges</th>\n",
       "      <th>gender</th>\n",
       "      <th>senior_citizen</th>\n",
       "      <th>partner</th>\n",
       "      <th>dependents</th>\n",
       "      <th>multiple_lines</th>\n",
       "      <th>internet_service</th>\n",
       "      <th>online_security</th>\n",
       "      <th>online_backup</th>\n",
       "      <th>device_protection</th>\n",
       "      <th>tech_support</th>\n",
       "      <th>streaming_tv</th>\n",
       "      <th>streaming_movies</th>\n",
       "      <th>number_of_months</th>\n",
       "      <th>payment_size</th>\n",
       "      <th>has_left</th>\n",
       "      <th>lifetime</th>\n",
       "      <th>end_month</th>\n",
       "      <th>end_year</th>\n",
       "      <th>begin_month</th>\n",
       "      <th>begin_year</th>\n",
       "      <th>ordinal</th>\n",
       "      <th>number_of_options</th>\n",
       "    </tr>\n",
       "  </thead>\n",
       "  <tbody>\n",
       "    <tr>\n",
       "      <th>0</th>\n",
       "      <td>7590-VHVEG</td>\n",
       "      <td>2020-01-01</td>\n",
       "      <td>2020-02-01</td>\n",
       "      <td>0</td>\n",
       "      <td>1</td>\n",
       "      <td>2</td>\n",
       "      <td>29.85</td>\n",
       "      <td>29.85</td>\n",
       "      <td>0</td>\n",
       "      <td>0</td>\n",
       "      <td>1</td>\n",
       "      <td>0</td>\n",
       "      <td>0</td>\n",
       "      <td>0</td>\n",
       "      <td>0</td>\n",
       "      <td>1</td>\n",
       "      <td>0</td>\n",
       "      <td>0</td>\n",
       "      <td>0</td>\n",
       "      <td>0</td>\n",
       "      <td>1.0</td>\n",
       "      <td>29.85</td>\n",
       "      <td>0</td>\n",
       "      <td>1.033333</td>\n",
       "      <td>NaN</td>\n",
       "      <td>NaN</td>\n",
       "      <td>1</td>\n",
       "      <td>2020</td>\n",
       "      <td>0</td>\n",
       "      <td>1</td>\n",
       "    </tr>\n",
       "    <tr>\n",
       "      <th>1</th>\n",
       "      <td>5575-GNVDE</td>\n",
       "      <td>2017-04-01</td>\n",
       "      <td>2020-02-01</td>\n",
       "      <td>1</td>\n",
       "      <td>0</td>\n",
       "      <td>3</td>\n",
       "      <td>56.95</td>\n",
       "      <td>1889.50</td>\n",
       "      <td>1</td>\n",
       "      <td>0</td>\n",
       "      <td>0</td>\n",
       "      <td>0</td>\n",
       "      <td>0</td>\n",
       "      <td>0</td>\n",
       "      <td>1</td>\n",
       "      <td>0</td>\n",
       "      <td>1</td>\n",
       "      <td>0</td>\n",
       "      <td>0</td>\n",
       "      <td>0</td>\n",
       "      <td>12.0</td>\n",
       "      <td>683.40</td>\n",
       "      <td>0</td>\n",
       "      <td>34.533333</td>\n",
       "      <td>NaN</td>\n",
       "      <td>NaN</td>\n",
       "      <td>4</td>\n",
       "      <td>2017</td>\n",
       "      <td>1</td>\n",
       "      <td>2</td>\n",
       "    </tr>\n",
       "    <tr>\n",
       "      <th>2</th>\n",
       "      <td>3668-QPYBK</td>\n",
       "      <td>2019-10-01</td>\n",
       "      <td>2019-12-01</td>\n",
       "      <td>0</td>\n",
       "      <td>1</td>\n",
       "      <td>3</td>\n",
       "      <td>53.85</td>\n",
       "      <td>108.15</td>\n",
       "      <td>1</td>\n",
       "      <td>0</td>\n",
       "      <td>0</td>\n",
       "      <td>0</td>\n",
       "      <td>0</td>\n",
       "      <td>0</td>\n",
       "      <td>1</td>\n",
       "      <td>1</td>\n",
       "      <td>0</td>\n",
       "      <td>0</td>\n",
       "      <td>0</td>\n",
       "      <td>0</td>\n",
       "      <td>1.0</td>\n",
       "      <td>53.85</td>\n",
       "      <td>1</td>\n",
       "      <td>2.033333</td>\n",
       "      <td>12.0</td>\n",
       "      <td>2019.0</td>\n",
       "      <td>10</td>\n",
       "      <td>2019</td>\n",
       "      <td>1</td>\n",
       "      <td>2</td>\n",
       "    </tr>\n",
       "    <tr>\n",
       "      <th>3</th>\n",
       "      <td>7795-CFOCW</td>\n",
       "      <td>2016-05-01</td>\n",
       "      <td>2020-02-01</td>\n",
       "      <td>1</td>\n",
       "      <td>0</td>\n",
       "      <td>0</td>\n",
       "      <td>42.30</td>\n",
       "      <td>1840.75</td>\n",
       "      <td>1</td>\n",
       "      <td>0</td>\n",
       "      <td>0</td>\n",
       "      <td>0</td>\n",
       "      <td>0</td>\n",
       "      <td>0</td>\n",
       "      <td>1</td>\n",
       "      <td>0</td>\n",
       "      <td>1</td>\n",
       "      <td>1</td>\n",
       "      <td>0</td>\n",
       "      <td>0</td>\n",
       "      <td>12.0</td>\n",
       "      <td>507.60</td>\n",
       "      <td>0</td>\n",
       "      <td>45.700000</td>\n",
       "      <td>NaN</td>\n",
       "      <td>NaN</td>\n",
       "      <td>5</td>\n",
       "      <td>2016</td>\n",
       "      <td>1</td>\n",
       "      <td>3</td>\n",
       "    </tr>\n",
       "    <tr>\n",
       "      <th>4</th>\n",
       "      <td>9237-HQITU</td>\n",
       "      <td>2019-09-01</td>\n",
       "      <td>2019-11-01</td>\n",
       "      <td>0</td>\n",
       "      <td>1</td>\n",
       "      <td>2</td>\n",
       "      <td>70.70</td>\n",
       "      <td>151.65</td>\n",
       "      <td>0</td>\n",
       "      <td>0</td>\n",
       "      <td>0</td>\n",
       "      <td>0</td>\n",
       "      <td>0</td>\n",
       "      <td>1</td>\n",
       "      <td>0</td>\n",
       "      <td>0</td>\n",
       "      <td>0</td>\n",
       "      <td>0</td>\n",
       "      <td>0</td>\n",
       "      <td>0</td>\n",
       "      <td>1.0</td>\n",
       "      <td>70.70</td>\n",
       "      <td>1</td>\n",
       "      <td>2.033333</td>\n",
       "      <td>11.0</td>\n",
       "      <td>2019.0</td>\n",
       "      <td>9</td>\n",
       "      <td>2019</td>\n",
       "      <td>1</td>\n",
       "      <td>0</td>\n",
       "    </tr>\n",
       "  </tbody>\n",
       "</table>\n",
       "</div>"
      ],
      "text/plain": [
       "  customer_id begin_date   end_date  type  paperless_billing  payment_method  \\\n",
       "0  7590-VHVEG 2020-01-01 2020-02-01     0                  1               2   \n",
       "1  5575-GNVDE 2017-04-01 2020-02-01     1                  0               3   \n",
       "2  3668-QPYBK 2019-10-01 2019-12-01     0                  1               3   \n",
       "3  7795-CFOCW 2016-05-01 2020-02-01     1                  0               0   \n",
       "4  9237-HQITU 2019-09-01 2019-11-01     0                  1               2   \n",
       "\n",
       "   monthly_charges  total_charges  gender  senior_citizen  partner  \\\n",
       "0            29.85          29.85       0               0        1   \n",
       "1            56.95        1889.50       1               0        0   \n",
       "2            53.85         108.15       1               0        0   \n",
       "3            42.30        1840.75       1               0        0   \n",
       "4            70.70         151.65       0               0        0   \n",
       "\n",
       "   dependents  multiple_lines  internet_service  online_security  \\\n",
       "0           0               0                 0                0   \n",
       "1           0               0                 0                1   \n",
       "2           0               0                 0                1   \n",
       "3           0               0                 0                1   \n",
       "4           0               0                 1                0   \n",
       "\n",
       "   online_backup  device_protection  tech_support  streaming_tv  \\\n",
       "0              1                  0             0             0   \n",
       "1              0                  1             0             0   \n",
       "2              1                  0             0             0   \n",
       "3              0                  1             1             0   \n",
       "4              0                  0             0             0   \n",
       "\n",
       "   streaming_movies  number_of_months  payment_size  has_left   lifetime  \\\n",
       "0                 0               1.0         29.85         0   1.033333   \n",
       "1                 0              12.0        683.40         0  34.533333   \n",
       "2                 0               1.0         53.85         1   2.033333   \n",
       "3                 0              12.0        507.60         0  45.700000   \n",
       "4                 0               1.0         70.70         1   2.033333   \n",
       "\n",
       "   end_month  end_year  begin_month  begin_year  ordinal  number_of_options  \n",
       "0        NaN       NaN            1        2020        0                  1  \n",
       "1        NaN       NaN            4        2017        1                  2  \n",
       "2       12.0    2019.0           10        2019        1                  2  \n",
       "3        NaN       NaN            5        2016        1                  3  \n",
       "4       11.0    2019.0            9        2019        1                  0  "
      ]
     },
     "metadata": {},
     "output_type": "display_data"
    },
    {
     "name": "stdout",
     "output_type": "stream",
     "text": [
      "\n",
      "2. Информация о таблице\n",
      "<class 'pandas.core.frame.DataFrame'>\n",
      "Int64Index: 7043 entries, 0 to 7042\n",
      "Data columns (total 30 columns):\n",
      " #   Column             Non-Null Count  Dtype         \n",
      "---  ------             --------------  -----         \n",
      " 0   customer_id        7043 non-null   object        \n",
      " 1   begin_date         7043 non-null   datetime64[ns]\n",
      " 2   end_date           7043 non-null   datetime64[ns]\n",
      " 3   type               7043 non-null   int32         \n",
      " 4   paperless_billing  7043 non-null   int32         \n",
      " 5   payment_method     7043 non-null   int32         \n",
      " 6   monthly_charges    7043 non-null   float64       \n",
      " 7   total_charges      7043 non-null   float64       \n",
      " 8   gender             7043 non-null   int32         \n",
      " 9   senior_citizen     7043 non-null   int32         \n",
      " 10  partner            7043 non-null   int32         \n",
      " 11  dependents         7043 non-null   int32         \n",
      " 12  multiple_lines     7043 non-null   int64         \n",
      " 13  internet_service   7043 non-null   int32         \n",
      " 14  online_security    7043 non-null   int64         \n",
      " 15  online_backup      7043 non-null   int64         \n",
      " 16  device_protection  7043 non-null   int64         \n",
      " 17  tech_support       7043 non-null   int64         \n",
      " 18  streaming_tv       7043 non-null   int64         \n",
      " 19  streaming_movies   7043 non-null   int64         \n",
      " 20  number_of_months   7043 non-null   float64       \n",
      " 21  payment_size       7043 non-null   float64       \n",
      " 22  has_left           7043 non-null   int32         \n",
      " 23  lifetime           7043 non-null   float64       \n",
      " 24  end_month          1869 non-null   float64       \n",
      " 25  end_year           1869 non-null   float64       \n",
      " 26  begin_month        7043 non-null   int64         \n",
      " 27  begin_year         7043 non-null   int64         \n",
      " 28  ordinal            7043 non-null   int32         \n",
      " 29  number_of_options  7043 non-null   int64         \n",
      "dtypes: datetime64[ns](2), float64(7), int32(10), int64(10), object(1)\n",
      "memory usage: 1.6+ MB\n",
      "None\n",
      "\n",
      "3. Математическое описание данных\n",
      "              type  paperless_billing  payment_method  monthly_charges  \\\n",
      "count  7043.000000        7043.000000     7043.000000      7043.000000   \n",
      "mean      0.690473           0.592219        1.574329        64.761692   \n",
      "std       0.833755           0.491457        1.068104        30.090047   \n",
      "min       0.000000           0.000000        0.000000        18.250000   \n",
      "25%       0.000000           0.000000        1.000000        35.500000   \n",
      "50%       0.000000           1.000000        2.000000        70.350000   \n",
      "75%       1.000000           1.000000        2.000000        89.850000   \n",
      "max       2.000000           1.000000        3.000000       118.750000   \n",
      "\n",
      "       total_charges       gender  senior_citizen      partner   dependents  \\\n",
      "count    7043.000000  7043.000000     7043.000000  7043.000000  7043.000000   \n",
      "mean     2279.798992     0.504756        0.162147     0.483033     0.299588   \n",
      "std      2266.730170     0.500013        0.368612     0.499748     0.458110   \n",
      "min        18.800000     0.000000        0.000000     0.000000     0.000000   \n",
      "25%       398.550000     0.000000        0.000000     0.000000     0.000000   \n",
      "50%      1394.550000     1.000000        0.000000     0.000000     0.000000   \n",
      "75%      3786.600000     1.000000        0.000000     1.000000     1.000000   \n",
      "max      8684.800000     1.000000        1.000000     1.000000     1.000000   \n",
      "\n",
      "       multiple_lines  internet_service  online_security  online_backup  \\\n",
      "count     7043.000000       7043.000000      7043.000000    7043.000000   \n",
      "mean         0.421837          0.872923         0.286668       0.344881   \n",
      "std          0.493888          0.737796         0.452237       0.475363   \n",
      "min          0.000000          0.000000         0.000000       0.000000   \n",
      "25%          0.000000          0.000000         0.000000       0.000000   \n",
      "50%          0.000000          1.000000         0.000000       0.000000   \n",
      "75%          1.000000          1.000000         1.000000       1.000000   \n",
      "max          1.000000          2.000000         1.000000       1.000000   \n",
      "\n",
      "       device_protection  tech_support  streaming_tv  streaming_movies  \\\n",
      "count        7043.000000   7043.000000   7043.000000       7043.000000   \n",
      "mean            0.343888      0.290217      0.384353          0.387903   \n",
      "std             0.475038      0.453895      0.486477          0.487307   \n",
      "min             0.000000      0.000000      0.000000          0.000000   \n",
      "25%             0.000000      0.000000      0.000000          0.000000   \n",
      "50%             0.000000      0.000000      0.000000          0.000000   \n",
      "75%             1.000000      1.000000      1.000000          1.000000   \n",
      "max             1.000000      1.000000      1.000000          1.000000   \n",
      "\n",
      "       number_of_months  payment_size     has_left     lifetime    end_month  \\\n",
      "count       7043.000000   7043.000000  7043.000000  7043.000000  1869.000000   \n",
      "mean           8.835865    550.792808     0.265370    32.866539     8.543071   \n",
      "std            9.551444    732.137938     0.441561    24.919595     4.368087   \n",
      "min            1.000000     18.750000     0.000000     0.000000     1.000000   \n",
      "25%            1.000000     69.950000     0.000000     9.100000    10.000000   \n",
      "50%            1.000000     99.550000     0.000000    29.433333    11.000000   \n",
      "75%           12.000000    843.300000     1.000000    55.866667    11.000000   \n",
      "max           24.000000   2850.000000     1.000000    73.033333    12.000000   \n",
      "\n",
      "          end_year  begin_month   begin_year      ordinal  number_of_options  \n",
      "count  1869.000000  7043.000000  7043.000000  7043.000000        7043.000000  \n",
      "mean   2019.246121     6.421269  2016.878603     0.806049           2.037910  \n",
      "std       0.430865     3.578453     1.970573     0.395419           1.847682  \n",
      "min    2019.000000     1.000000  2013.000000     0.000000           0.000000  \n",
      "25%    2019.000000     3.000000  2015.000000     1.000000           0.000000  \n",
      "50%    2019.000000     6.000000  2017.000000     1.000000           2.000000  \n",
      "75%    2019.000000    10.000000  2019.000000     1.000000           3.000000  \n",
      "max    2020.000000    12.000000  2020.000000     1.000000           6.000000  \n"
     ]
    }
   ],
   "source": [
    "# отключим ограничение на отображение столбцов датафрейма\n",
    "pd.set_option('display.max_columns', None)\n",
    "review(df)"
   ]
  },
  {
   "cell_type": "markdown",
   "id": "b8d229e3",
   "metadata": {},
   "source": [
    "Клиенты с самым большим разовым платежом."
   ]
  },
  {
   "cell_type": "code",
   "execution_count": 57,
   "id": "15768353",
   "metadata": {},
   "outputs": [
    {
     "data": {
      "text/html": [
       "<div>\n",
       "<style scoped>\n",
       "    .dataframe tbody tr th:only-of-type {\n",
       "        vertical-align: middle;\n",
       "    }\n",
       "\n",
       "    .dataframe tbody tr th {\n",
       "        vertical-align: top;\n",
       "    }\n",
       "\n",
       "    .dataframe thead th {\n",
       "        text-align: right;\n",
       "    }\n",
       "</style>\n",
       "<table border=\"1\" class=\"dataframe\">\n",
       "  <thead>\n",
       "    <tr style=\"text-align: right;\">\n",
       "      <th></th>\n",
       "      <th>customer_id</th>\n",
       "      <th>begin_date</th>\n",
       "      <th>end_date</th>\n",
       "      <th>type</th>\n",
       "      <th>paperless_billing</th>\n",
       "      <th>payment_method</th>\n",
       "      <th>monthly_charges</th>\n",
       "      <th>total_charges</th>\n",
       "      <th>gender</th>\n",
       "      <th>senior_citizen</th>\n",
       "      <th>partner</th>\n",
       "      <th>dependents</th>\n",
       "      <th>multiple_lines</th>\n",
       "      <th>internet_service</th>\n",
       "      <th>online_security</th>\n",
       "      <th>online_backup</th>\n",
       "      <th>device_protection</th>\n",
       "      <th>tech_support</th>\n",
       "      <th>streaming_tv</th>\n",
       "      <th>streaming_movies</th>\n",
       "      <th>number_of_months</th>\n",
       "      <th>payment_size</th>\n",
       "      <th>has_left</th>\n",
       "      <th>lifetime</th>\n",
       "      <th>end_month</th>\n",
       "      <th>end_year</th>\n",
       "      <th>begin_month</th>\n",
       "      <th>begin_year</th>\n",
       "      <th>ordinal</th>\n",
       "      <th>number_of_options</th>\n",
       "    </tr>\n",
       "  </thead>\n",
       "  <tbody>\n",
       "    <tr>\n",
       "      <th>4586</th>\n",
       "      <td>7569-NMZYQ</td>\n",
       "      <td>2014-02-01</td>\n",
       "      <td>2020-02-01</td>\n",
       "      <td>2</td>\n",
       "      <td>1</td>\n",
       "      <td>0</td>\n",
       "      <td>118.75</td>\n",
       "      <td>8672.45</td>\n",
       "      <td>0</td>\n",
       "      <td>0</td>\n",
       "      <td>1</td>\n",
       "      <td>1</td>\n",
       "      <td>1</td>\n",
       "      <td>1</td>\n",
       "      <td>1</td>\n",
       "      <td>1</td>\n",
       "      <td>1</td>\n",
       "      <td>1</td>\n",
       "      <td>1</td>\n",
       "      <td>1</td>\n",
       "      <td>24.0</td>\n",
       "      <td>2850.0</td>\n",
       "      <td>0</td>\n",
       "      <td>73.033333</td>\n",
       "      <td>NaN</td>\n",
       "      <td>NaN</td>\n",
       "      <td>2</td>\n",
       "      <td>2014</td>\n",
       "      <td>0</td>\n",
       "      <td>6</td>\n",
       "    </tr>\n",
       "    <tr>\n",
       "      <th>2115</th>\n",
       "      <td>8984-HPEMB</td>\n",
       "      <td>2014-03-01</td>\n",
       "      <td>2020-02-01</td>\n",
       "      <td>2</td>\n",
       "      <td>1</td>\n",
       "      <td>2</td>\n",
       "      <td>118.65</td>\n",
       "      <td>8477.60</td>\n",
       "      <td>0</td>\n",
       "      <td>0</td>\n",
       "      <td>0</td>\n",
       "      <td>0</td>\n",
       "      <td>1</td>\n",
       "      <td>1</td>\n",
       "      <td>1</td>\n",
       "      <td>1</td>\n",
       "      <td>1</td>\n",
       "      <td>1</td>\n",
       "      <td>1</td>\n",
       "      <td>1</td>\n",
       "      <td>24.0</td>\n",
       "      <td>2847.6</td>\n",
       "      <td>0</td>\n",
       "      <td>72.100000</td>\n",
       "      <td>NaN</td>\n",
       "      <td>NaN</td>\n",
       "      <td>3</td>\n",
       "      <td>2014</td>\n",
       "      <td>0</td>\n",
       "      <td>6</td>\n",
       "    </tr>\n",
       "    <tr>\n",
       "      <th>3894</th>\n",
       "      <td>5989-AXPUC</td>\n",
       "      <td>2014-06-01</td>\n",
       "      <td>2020-02-01</td>\n",
       "      <td>2</td>\n",
       "      <td>0</td>\n",
       "      <td>3</td>\n",
       "      <td>118.60</td>\n",
       "      <td>7990.05</td>\n",
       "      <td>0</td>\n",
       "      <td>0</td>\n",
       "      <td>1</td>\n",
       "      <td>0</td>\n",
       "      <td>1</td>\n",
       "      <td>1</td>\n",
       "      <td>1</td>\n",
       "      <td>1</td>\n",
       "      <td>1</td>\n",
       "      <td>1</td>\n",
       "      <td>1</td>\n",
       "      <td>1</td>\n",
       "      <td>24.0</td>\n",
       "      <td>2846.4</td>\n",
       "      <td>0</td>\n",
       "      <td>69.033333</td>\n",
       "      <td>NaN</td>\n",
       "      <td>NaN</td>\n",
       "      <td>6</td>\n",
       "      <td>2014</td>\n",
       "      <td>1</td>\n",
       "      <td>6</td>\n",
       "    </tr>\n",
       "    <tr>\n",
       "      <th>6118</th>\n",
       "      <td>9924-JPRMC</td>\n",
       "      <td>2014-02-01</td>\n",
       "      <td>2020-02-01</td>\n",
       "      <td>2</td>\n",
       "      <td>1</td>\n",
       "      <td>2</td>\n",
       "      <td>118.20</td>\n",
       "      <td>8547.15</td>\n",
       "      <td>1</td>\n",
       "      <td>0</td>\n",
       "      <td>0</td>\n",
       "      <td>0</td>\n",
       "      <td>1</td>\n",
       "      <td>1</td>\n",
       "      <td>1</td>\n",
       "      <td>1</td>\n",
       "      <td>1</td>\n",
       "      <td>1</td>\n",
       "      <td>1</td>\n",
       "      <td>1</td>\n",
       "      <td>24.0</td>\n",
       "      <td>2836.8</td>\n",
       "      <td>0</td>\n",
       "      <td>73.033333</td>\n",
       "      <td>NaN</td>\n",
       "      <td>NaN</td>\n",
       "      <td>2</td>\n",
       "      <td>2014</td>\n",
       "      <td>0</td>\n",
       "      <td>6</td>\n",
       "    </tr>\n",
       "    <tr>\n",
       "      <th>3205</th>\n",
       "      <td>3810-DVDQQ</td>\n",
       "      <td>2014-02-01</td>\n",
       "      <td>2020-02-01</td>\n",
       "      <td>2</td>\n",
       "      <td>1</td>\n",
       "      <td>0</td>\n",
       "      <td>117.60</td>\n",
       "      <td>8308.90</td>\n",
       "      <td>0</td>\n",
       "      <td>0</td>\n",
       "      <td>1</td>\n",
       "      <td>1</td>\n",
       "      <td>1</td>\n",
       "      <td>1</td>\n",
       "      <td>1</td>\n",
       "      <td>1</td>\n",
       "      <td>1</td>\n",
       "      <td>1</td>\n",
       "      <td>1</td>\n",
       "      <td>1</td>\n",
       "      <td>24.0</td>\n",
       "      <td>2822.4</td>\n",
       "      <td>0</td>\n",
       "      <td>73.033333</td>\n",
       "      <td>NaN</td>\n",
       "      <td>NaN</td>\n",
       "      <td>2</td>\n",
       "      <td>2014</td>\n",
       "      <td>0</td>\n",
       "      <td>6</td>\n",
       "    </tr>\n",
       "  </tbody>\n",
       "</table>\n",
       "</div>"
      ],
      "text/plain": [
       "     customer_id begin_date   end_date  type  paperless_billing  \\\n",
       "4586  7569-NMZYQ 2014-02-01 2020-02-01     2                  1   \n",
       "2115  8984-HPEMB 2014-03-01 2020-02-01     2                  1   \n",
       "3894  5989-AXPUC 2014-06-01 2020-02-01     2                  0   \n",
       "6118  9924-JPRMC 2014-02-01 2020-02-01     2                  1   \n",
       "3205  3810-DVDQQ 2014-02-01 2020-02-01     2                  1   \n",
       "\n",
       "      payment_method  monthly_charges  total_charges  gender  senior_citizen  \\\n",
       "4586               0           118.75        8672.45       0               0   \n",
       "2115               2           118.65        8477.60       0               0   \n",
       "3894               3           118.60        7990.05       0               0   \n",
       "6118               2           118.20        8547.15       1               0   \n",
       "3205               0           117.60        8308.90       0               0   \n",
       "\n",
       "      partner  dependents  multiple_lines  internet_service  online_security  \\\n",
       "4586        1           1               1                 1                1   \n",
       "2115        0           0               1                 1                1   \n",
       "3894        1           0               1                 1                1   \n",
       "6118        0           0               1                 1                1   \n",
       "3205        1           1               1                 1                1   \n",
       "\n",
       "      online_backup  device_protection  tech_support  streaming_tv  \\\n",
       "4586              1                  1             1             1   \n",
       "2115              1                  1             1             1   \n",
       "3894              1                  1             1             1   \n",
       "6118              1                  1             1             1   \n",
       "3205              1                  1             1             1   \n",
       "\n",
       "      streaming_movies  number_of_months  payment_size  has_left   lifetime  \\\n",
       "4586                 1              24.0        2850.0         0  73.033333   \n",
       "2115                 1              24.0        2847.6         0  72.100000   \n",
       "3894                 1              24.0        2846.4         0  69.033333   \n",
       "6118                 1              24.0        2836.8         0  73.033333   \n",
       "3205                 1              24.0        2822.4         0  73.033333   \n",
       "\n",
       "      end_month  end_year  begin_month  begin_year  ordinal  number_of_options  \n",
       "4586        NaN       NaN            2        2014        0                  6  \n",
       "2115        NaN       NaN            3        2014        0                  6  \n",
       "3894        NaN       NaN            6        2014        1                  6  \n",
       "6118        NaN       NaN            2        2014        0                  6  \n",
       "3205        NaN       NaN            2        2014        0                  6  "
      ]
     },
     "execution_count": 57,
     "metadata": {},
     "output_type": "execute_result"
    }
   ],
   "source": [
    "df.sort_values(by='payment_size', ascending=False).head()"
   ]
  },
  {
   "cell_type": "markdown",
   "id": "d1c22933",
   "metadata": {},
   "source": [
    "Проверим, как уходят клиенты с максимальным суммарным платежом."
   ]
  },
  {
   "cell_type": "code",
   "execution_count": 58,
   "id": "9f918f98",
   "metadata": {},
   "outputs": [
    {
     "data": {
      "text/html": [
       "<div>\n",
       "<style scoped>\n",
       "    .dataframe tbody tr th:only-of-type {\n",
       "        vertical-align: middle;\n",
       "    }\n",
       "\n",
       "    .dataframe tbody tr th {\n",
       "        vertical-align: top;\n",
       "    }\n",
       "\n",
       "    .dataframe thead th {\n",
       "        text-align: right;\n",
       "    }\n",
       "</style>\n",
       "<table border=\"1\" class=\"dataframe\">\n",
       "  <thead>\n",
       "    <tr style=\"text-align: right;\">\n",
       "      <th></th>\n",
       "      <th>customer_id</th>\n",
       "      <th>begin_date</th>\n",
       "      <th>end_date</th>\n",
       "      <th>type</th>\n",
       "      <th>paperless_billing</th>\n",
       "      <th>payment_method</th>\n",
       "      <th>monthly_charges</th>\n",
       "      <th>total_charges</th>\n",
       "      <th>gender</th>\n",
       "      <th>senior_citizen</th>\n",
       "      <th>partner</th>\n",
       "      <th>dependents</th>\n",
       "      <th>multiple_lines</th>\n",
       "      <th>internet_service</th>\n",
       "      <th>online_security</th>\n",
       "      <th>online_backup</th>\n",
       "      <th>device_protection</th>\n",
       "      <th>tech_support</th>\n",
       "      <th>streaming_tv</th>\n",
       "      <th>streaming_movies</th>\n",
       "      <th>number_of_months</th>\n",
       "      <th>payment_size</th>\n",
       "      <th>has_left</th>\n",
       "      <th>lifetime</th>\n",
       "      <th>end_month</th>\n",
       "      <th>end_year</th>\n",
       "      <th>begin_month</th>\n",
       "      <th>begin_year</th>\n",
       "      <th>ordinal</th>\n",
       "      <th>number_of_options</th>\n",
       "    </tr>\n",
       "  </thead>\n",
       "  <tbody>\n",
       "    <tr>\n",
       "      <th>4610</th>\n",
       "      <td>2889-FPWRM</td>\n",
       "      <td>2013-10-01</td>\n",
       "      <td>2019-10-01</td>\n",
       "      <td>1</td>\n",
       "      <td>1</td>\n",
       "      <td>0</td>\n",
       "      <td>117.80</td>\n",
       "      <td>8684.80</td>\n",
       "      <td>1</td>\n",
       "      <td>0</td>\n",
       "      <td>1</td>\n",
       "      <td>0</td>\n",
       "      <td>1</td>\n",
       "      <td>1</td>\n",
       "      <td>1</td>\n",
       "      <td>1</td>\n",
       "      <td>1</td>\n",
       "      <td>1</td>\n",
       "      <td>1</td>\n",
       "      <td>1</td>\n",
       "      <td>12.0</td>\n",
       "      <td>1413.6</td>\n",
       "      <td>1</td>\n",
       "      <td>73.033333</td>\n",
       "      <td>10.0</td>\n",
       "      <td>2019.0</td>\n",
       "      <td>10</td>\n",
       "      <td>2013</td>\n",
       "      <td>0</td>\n",
       "      <td>6</td>\n",
       "    </tr>\n",
       "    <tr>\n",
       "      <th>4586</th>\n",
       "      <td>7569-NMZYQ</td>\n",
       "      <td>2014-02-01</td>\n",
       "      <td>2020-02-01</td>\n",
       "      <td>2</td>\n",
       "      <td>1</td>\n",
       "      <td>0</td>\n",
       "      <td>118.75</td>\n",
       "      <td>8672.45</td>\n",
       "      <td>0</td>\n",
       "      <td>0</td>\n",
       "      <td>1</td>\n",
       "      <td>1</td>\n",
       "      <td>1</td>\n",
       "      <td>1</td>\n",
       "      <td>1</td>\n",
       "      <td>1</td>\n",
       "      <td>1</td>\n",
       "      <td>1</td>\n",
       "      <td>1</td>\n",
       "      <td>1</td>\n",
       "      <td>24.0</td>\n",
       "      <td>2850.0</td>\n",
       "      <td>0</td>\n",
       "      <td>73.033333</td>\n",
       "      <td>NaN</td>\n",
       "      <td>NaN</td>\n",
       "      <td>2</td>\n",
       "      <td>2014</td>\n",
       "      <td>0</td>\n",
       "      <td>6</td>\n",
       "    </tr>\n",
       "    <tr>\n",
       "      <th>6768</th>\n",
       "      <td>9739-JLPQJ</td>\n",
       "      <td>2014-02-01</td>\n",
       "      <td>2020-02-01</td>\n",
       "      <td>2</td>\n",
       "      <td>0</td>\n",
       "      <td>1</td>\n",
       "      <td>117.50</td>\n",
       "      <td>8670.10</td>\n",
       "      <td>0</td>\n",
       "      <td>0</td>\n",
       "      <td>1</td>\n",
       "      <td>1</td>\n",
       "      <td>1</td>\n",
       "      <td>1</td>\n",
       "      <td>1</td>\n",
       "      <td>1</td>\n",
       "      <td>1</td>\n",
       "      <td>1</td>\n",
       "      <td>1</td>\n",
       "      <td>1</td>\n",
       "      <td>24.0</td>\n",
       "      <td>2820.0</td>\n",
       "      <td>0</td>\n",
       "      <td>73.033333</td>\n",
       "      <td>NaN</td>\n",
       "      <td>NaN</td>\n",
       "      <td>2</td>\n",
       "      <td>2014</td>\n",
       "      <td>0</td>\n",
       "      <td>6</td>\n",
       "    </tr>\n",
       "    <tr>\n",
       "      <th>5347</th>\n",
       "      <td>9788-HNGUT</td>\n",
       "      <td>2014-02-01</td>\n",
       "      <td>2020-02-01</td>\n",
       "      <td>2</td>\n",
       "      <td>1</td>\n",
       "      <td>1</td>\n",
       "      <td>116.95</td>\n",
       "      <td>8594.40</td>\n",
       "      <td>1</td>\n",
       "      <td>0</td>\n",
       "      <td>1</td>\n",
       "      <td>0</td>\n",
       "      <td>1</td>\n",
       "      <td>1</td>\n",
       "      <td>1</td>\n",
       "      <td>1</td>\n",
       "      <td>1</td>\n",
       "      <td>1</td>\n",
       "      <td>1</td>\n",
       "      <td>1</td>\n",
       "      <td>24.0</td>\n",
       "      <td>2806.8</td>\n",
       "      <td>0</td>\n",
       "      <td>73.033333</td>\n",
       "      <td>NaN</td>\n",
       "      <td>NaN</td>\n",
       "      <td>2</td>\n",
       "      <td>2014</td>\n",
       "      <td>0</td>\n",
       "      <td>6</td>\n",
       "    </tr>\n",
       "    <tr>\n",
       "      <th>2187</th>\n",
       "      <td>8879-XUAHX</td>\n",
       "      <td>2014-03-01</td>\n",
       "      <td>2020-02-01</td>\n",
       "      <td>2</td>\n",
       "      <td>1</td>\n",
       "      <td>2</td>\n",
       "      <td>116.25</td>\n",
       "      <td>8564.75</td>\n",
       "      <td>1</td>\n",
       "      <td>0</td>\n",
       "      <td>1</td>\n",
       "      <td>0</td>\n",
       "      <td>1</td>\n",
       "      <td>1</td>\n",
       "      <td>1</td>\n",
       "      <td>1</td>\n",
       "      <td>1</td>\n",
       "      <td>1</td>\n",
       "      <td>1</td>\n",
       "      <td>1</td>\n",
       "      <td>24.0</td>\n",
       "      <td>2790.0</td>\n",
       "      <td>0</td>\n",
       "      <td>72.100000</td>\n",
       "      <td>NaN</td>\n",
       "      <td>NaN</td>\n",
       "      <td>3</td>\n",
       "      <td>2014</td>\n",
       "      <td>0</td>\n",
       "      <td>6</td>\n",
       "    </tr>\n",
       "  </tbody>\n",
       "</table>\n",
       "</div>"
      ],
      "text/plain": [
       "     customer_id begin_date   end_date  type  paperless_billing  \\\n",
       "4610  2889-FPWRM 2013-10-01 2019-10-01     1                  1   \n",
       "4586  7569-NMZYQ 2014-02-01 2020-02-01     2                  1   \n",
       "6768  9739-JLPQJ 2014-02-01 2020-02-01     2                  0   \n",
       "5347  9788-HNGUT 2014-02-01 2020-02-01     2                  1   \n",
       "2187  8879-XUAHX 2014-03-01 2020-02-01     2                  1   \n",
       "\n",
       "      payment_method  monthly_charges  total_charges  gender  senior_citizen  \\\n",
       "4610               0           117.80        8684.80       1               0   \n",
       "4586               0           118.75        8672.45       0               0   \n",
       "6768               1           117.50        8670.10       0               0   \n",
       "5347               1           116.95        8594.40       1               0   \n",
       "2187               2           116.25        8564.75       1               0   \n",
       "\n",
       "      partner  dependents  multiple_lines  internet_service  online_security  \\\n",
       "4610        1           0               1                 1                1   \n",
       "4586        1           1               1                 1                1   \n",
       "6768        1           1               1                 1                1   \n",
       "5347        1           0               1                 1                1   \n",
       "2187        1           0               1                 1                1   \n",
       "\n",
       "      online_backup  device_protection  tech_support  streaming_tv  \\\n",
       "4610              1                  1             1             1   \n",
       "4586              1                  1             1             1   \n",
       "6768              1                  1             1             1   \n",
       "5347              1                  1             1             1   \n",
       "2187              1                  1             1             1   \n",
       "\n",
       "      streaming_movies  number_of_months  payment_size  has_left   lifetime  \\\n",
       "4610                 1              12.0        1413.6         1  73.033333   \n",
       "4586                 1              24.0        2850.0         0  73.033333   \n",
       "6768                 1              24.0        2820.0         0  73.033333   \n",
       "5347                 1              24.0        2806.8         0  73.033333   \n",
       "2187                 1              24.0        2790.0         0  72.100000   \n",
       "\n",
       "      end_month  end_year  begin_month  begin_year  ordinal  number_of_options  \n",
       "4610       10.0    2019.0           10        2013        0                  6  \n",
       "4586        NaN       NaN            2        2014        0                  6  \n",
       "6768        NaN       NaN            2        2014        0                  6  \n",
       "5347        NaN       NaN            2        2014        0                  6  \n",
       "2187        NaN       NaN            3        2014        0                  6  "
      ]
     },
     "execution_count": 58,
     "metadata": {},
     "output_type": "execute_result"
    }
   ],
   "source": [
    "df.sort_values(by='total_charges', ascending=False).head()"
   ]
  },
  {
   "cell_type": "markdown",
   "id": "6664027c",
   "metadata": {},
   "source": [
    "Мы вывели на экран первые 5 строк таблицы, но при изучении первых 50 клиентов оказалось, что 49 из них ушли, и только один остался. При этом остался клиент с максимальным общим платежом. Очевидно, удаление одного клиента из датасета не исказит реальных данных, при этом предсказания модели могут улучшиться."
   ]
  },
  {
   "cell_type": "code",
   "execution_count": 59,
   "id": "5b62d038",
   "metadata": {},
   "outputs": [],
   "source": [
    "df = df.drop(4610)"
   ]
  },
  {
   "cell_type": "markdown",
   "id": "d4ee8edb",
   "metadata": {},
   "source": [
    "Посмотрим, как выглядит картина по приходу новых клиентов по годам и по уходу существующих клиентов."
   ]
  },
  {
   "cell_type": "code",
   "execution_count": 60,
   "id": "26ed1467",
   "metadata": {},
   "outputs": [
    {
     "data": {
      "text/html": [
       "<div>\n",
       "<style scoped>\n",
       "    .dataframe tbody tr th:only-of-type {\n",
       "        vertical-align: middle;\n",
       "    }\n",
       "\n",
       "    .dataframe tbody tr th {\n",
       "        vertical-align: top;\n",
       "    }\n",
       "\n",
       "    .dataframe thead th {\n",
       "        text-align: right;\n",
       "    }\n",
       "</style>\n",
       "<table border=\"1\" class=\"dataframe\">\n",
       "  <thead>\n",
       "    <tr style=\"text-align: right;\">\n",
       "      <th></th>\n",
       "      <th>end_year</th>\n",
       "      <th>end_month</th>\n",
       "      <th>has_left</th>\n",
       "    </tr>\n",
       "  </thead>\n",
       "  <tbody>\n",
       "    <tr>\n",
       "      <th>0</th>\n",
       "      <td>2019.0</td>\n",
       "      <td>10.0</td>\n",
       "      <td>457</td>\n",
       "    </tr>\n",
       "    <tr>\n",
       "      <th>1</th>\n",
       "      <td>2019.0</td>\n",
       "      <td>11.0</td>\n",
       "      <td>485</td>\n",
       "    </tr>\n",
       "    <tr>\n",
       "      <th>2</th>\n",
       "      <td>2019.0</td>\n",
       "      <td>12.0</td>\n",
       "      <td>466</td>\n",
       "    </tr>\n",
       "    <tr>\n",
       "      <th>3</th>\n",
       "      <td>2020.0</td>\n",
       "      <td>1.0</td>\n",
       "      <td>460</td>\n",
       "    </tr>\n",
       "  </tbody>\n",
       "</table>\n",
       "</div>"
      ],
      "text/plain": [
       "   end_year  end_month  has_left\n",
       "0    2019.0       10.0       457\n",
       "1    2019.0       11.0       485\n",
       "2    2019.0       12.0       466\n",
       "3    2020.0        1.0       460"
      ]
     },
     "execution_count": 60,
     "metadata": {},
     "output_type": "execute_result"
    }
   ],
   "source": [
    "gone = df.groupby(['end_year', 'end_month']).count()['has_left'].reset_index()\n",
    "gone"
   ]
  },
  {
   "cell_type": "code",
   "execution_count": 61,
   "id": "68987bc8",
   "metadata": {},
   "outputs": [
    {
     "data": {
      "text/html": [
       "<div>\n",
       "<style scoped>\n",
       "    .dataframe tbody tr th:only-of-type {\n",
       "        vertical-align: middle;\n",
       "    }\n",
       "\n",
       "    .dataframe tbody tr th {\n",
       "        vertical-align: top;\n",
       "    }\n",
       "\n",
       "    .dataframe thead th {\n",
       "        text-align: right;\n",
       "    }\n",
       "</style>\n",
       "<table border=\"1\" class=\"dataframe\">\n",
       "  <thead>\n",
       "    <tr style=\"text-align: right;\">\n",
       "      <th></th>\n",
       "      <th>begin_year</th>\n",
       "      <th>customer_id</th>\n",
       "    </tr>\n",
       "  </thead>\n",
       "  <tbody>\n",
       "    <tr>\n",
       "      <th>0</th>\n",
       "      <td>2013</td>\n",
       "      <td>7</td>\n",
       "    </tr>\n",
       "    <tr>\n",
       "      <th>1</th>\n",
       "      <td>2014</td>\n",
       "      <td>1344</td>\n",
       "    </tr>\n",
       "    <tr>\n",
       "      <th>2</th>\n",
       "      <td>2015</td>\n",
       "      <td>852</td>\n",
       "    </tr>\n",
       "    <tr>\n",
       "      <th>3</th>\n",
       "      <td>2016</td>\n",
       "      <td>763</td>\n",
       "    </tr>\n",
       "    <tr>\n",
       "      <th>4</th>\n",
       "      <td>2017</td>\n",
       "      <td>845</td>\n",
       "    </tr>\n",
       "    <tr>\n",
       "      <th>5</th>\n",
       "      <td>2018</td>\n",
       "      <td>1030</td>\n",
       "    </tr>\n",
       "    <tr>\n",
       "      <th>6</th>\n",
       "      <td>2019</td>\n",
       "      <td>1957</td>\n",
       "    </tr>\n",
       "    <tr>\n",
       "      <th>7</th>\n",
       "      <td>2020</td>\n",
       "      <td>244</td>\n",
       "    </tr>\n",
       "  </tbody>\n",
       "</table>\n",
       "</div>"
      ],
      "text/plain": [
       "   begin_year  customer_id\n",
       "0        2013            7\n",
       "1        2014         1344\n",
       "2        2015          852\n",
       "3        2016          763\n",
       "4        2017          845\n",
       "5        2018         1030\n",
       "6        2019         1957\n",
       "7        2020          244"
      ]
     },
     "execution_count": 61,
     "metadata": {},
     "output_type": "execute_result"
    }
   ],
   "source": [
    "come = df.groupby(['begin_year']).count()['customer_id'].reset_index()\n",
    "come"
   ]
  },
  {
   "cell_type": "markdown",
   "id": "c50a675c",
   "metadata": {},
   "source": [
    "Клиенты уходили от оператора на протяжении 4-х месяцев подряд с октября 2019 г. по январь 2020 г. в количестве от 458 до 485 человек в месяц. Поскольку данные актуальны на февраль 2020 г., не исключено, что тенденция сохранится.\n",
    "\n",
    "С другой стороны, интересно то, что до октября 2019 года нет ни одной записи об ушедшем клиенте. Ситуация может косвенно указывать на нового серьезного конкурента для когда-то монополиста."
   ]
  },
  {
   "cell_type": "markdown",
   "id": "87ecfcfe",
   "metadata": {},
   "source": [
    "Всего 8 человек стали абонентами в 2013 году. Изучим их подробнее."
   ]
  },
  {
   "cell_type": "code",
   "execution_count": 62,
   "id": "e96f6a50",
   "metadata": {},
   "outputs": [
    {
     "data": {
      "text/html": [
       "<div>\n",
       "<style scoped>\n",
       "    .dataframe tbody tr th:only-of-type {\n",
       "        vertical-align: middle;\n",
       "    }\n",
       "\n",
       "    .dataframe tbody tr th {\n",
       "        vertical-align: top;\n",
       "    }\n",
       "\n",
       "    .dataframe thead th {\n",
       "        text-align: right;\n",
       "    }\n",
       "</style>\n",
       "<table border=\"1\" class=\"dataframe\">\n",
       "  <thead>\n",
       "    <tr style=\"text-align: right;\">\n",
       "      <th></th>\n",
       "      <th>customer_id</th>\n",
       "      <th>begin_date</th>\n",
       "      <th>end_date</th>\n",
       "      <th>type</th>\n",
       "      <th>paperless_billing</th>\n",
       "      <th>payment_method</th>\n",
       "      <th>monthly_charges</th>\n",
       "      <th>total_charges</th>\n",
       "      <th>gender</th>\n",
       "      <th>senior_citizen</th>\n",
       "      <th>partner</th>\n",
       "      <th>dependents</th>\n",
       "      <th>multiple_lines</th>\n",
       "      <th>internet_service</th>\n",
       "      <th>online_security</th>\n",
       "      <th>online_backup</th>\n",
       "      <th>device_protection</th>\n",
       "      <th>tech_support</th>\n",
       "      <th>streaming_tv</th>\n",
       "      <th>streaming_movies</th>\n",
       "      <th>number_of_months</th>\n",
       "      <th>payment_size</th>\n",
       "      <th>has_left</th>\n",
       "      <th>lifetime</th>\n",
       "      <th>end_month</th>\n",
       "      <th>end_year</th>\n",
       "      <th>begin_month</th>\n",
       "      <th>begin_year</th>\n",
       "      <th>ordinal</th>\n",
       "      <th>number_of_options</th>\n",
       "    </tr>\n",
       "  </thead>\n",
       "  <tbody>\n",
       "    <tr>\n",
       "      <th>975</th>\n",
       "      <td>2834-JRTUA</td>\n",
       "      <td>2013-11-01</td>\n",
       "      <td>2019-10-01</td>\n",
       "      <td>2</td>\n",
       "      <td>1</td>\n",
       "      <td>2</td>\n",
       "      <td>108.05</td>\n",
       "      <td>7532.15</td>\n",
       "      <td>1</td>\n",
       "      <td>0</td>\n",
       "      <td>0</td>\n",
       "      <td>0</td>\n",
       "      <td>1</td>\n",
       "      <td>1</td>\n",
       "      <td>1</td>\n",
       "      <td>0</td>\n",
       "      <td>1</td>\n",
       "      <td>1</td>\n",
       "      <td>1</td>\n",
       "      <td>1</td>\n",
       "      <td>24.0</td>\n",
       "      <td>2593.2</td>\n",
       "      <td>1</td>\n",
       "      <td>72.000000</td>\n",
       "      <td>10.0</td>\n",
       "      <td>2019.0</td>\n",
       "      <td>11</td>\n",
       "      <td>2013</td>\n",
       "      <td>0</td>\n",
       "      <td>5</td>\n",
       "    </tr>\n",
       "    <tr>\n",
       "      <th>3040</th>\n",
       "      <td>7317-GGVPB</td>\n",
       "      <td>2013-11-01</td>\n",
       "      <td>2019-10-01</td>\n",
       "      <td>2</td>\n",
       "      <td>1</td>\n",
       "      <td>1</td>\n",
       "      <td>108.60</td>\n",
       "      <td>7690.90</td>\n",
       "      <td>1</td>\n",
       "      <td>0</td>\n",
       "      <td>1</td>\n",
       "      <td>0</td>\n",
       "      <td>1</td>\n",
       "      <td>1</td>\n",
       "      <td>0</td>\n",
       "      <td>1</td>\n",
       "      <td>1</td>\n",
       "      <td>1</td>\n",
       "      <td>1</td>\n",
       "      <td>1</td>\n",
       "      <td>24.0</td>\n",
       "      <td>2606.4</td>\n",
       "      <td>1</td>\n",
       "      <td>72.000000</td>\n",
       "      <td>10.0</td>\n",
       "      <td>2019.0</td>\n",
       "      <td>11</td>\n",
       "      <td>2013</td>\n",
       "      <td>0</td>\n",
       "      <td>5</td>\n",
       "    </tr>\n",
       "    <tr>\n",
       "      <th>3439</th>\n",
       "      <td>0917-EZOLA</td>\n",
       "      <td>2013-10-01</td>\n",
       "      <td>2019-10-01</td>\n",
       "      <td>2</td>\n",
       "      <td>1</td>\n",
       "      <td>0</td>\n",
       "      <td>104.15</td>\n",
       "      <td>7689.95</td>\n",
       "      <td>1</td>\n",
       "      <td>1</td>\n",
       "      <td>1</td>\n",
       "      <td>0</td>\n",
       "      <td>1</td>\n",
       "      <td>1</td>\n",
       "      <td>0</td>\n",
       "      <td>1</td>\n",
       "      <td>1</td>\n",
       "      <td>0</td>\n",
       "      <td>1</td>\n",
       "      <td>1</td>\n",
       "      <td>24.0</td>\n",
       "      <td>2499.6</td>\n",
       "      <td>1</td>\n",
       "      <td>73.033333</td>\n",
       "      <td>10.0</td>\n",
       "      <td>2019.0</td>\n",
       "      <td>10</td>\n",
       "      <td>2013</td>\n",
       "      <td>0</td>\n",
       "      <td>4</td>\n",
       "    </tr>\n",
       "    <tr>\n",
       "      <th>4513</th>\n",
       "      <td>8580-QVLOC</td>\n",
       "      <td>2013-10-01</td>\n",
       "      <td>2019-10-01</td>\n",
       "      <td>2</td>\n",
       "      <td>0</td>\n",
       "      <td>1</td>\n",
       "      <td>92.45</td>\n",
       "      <td>6440.25</td>\n",
       "      <td>0</td>\n",
       "      <td>1</td>\n",
       "      <td>1</td>\n",
       "      <td>1</td>\n",
       "      <td>1</td>\n",
       "      <td>0</td>\n",
       "      <td>1</td>\n",
       "      <td>1</td>\n",
       "      <td>1</td>\n",
       "      <td>1</td>\n",
       "      <td>1</td>\n",
       "      <td>1</td>\n",
       "      <td>24.0</td>\n",
       "      <td>2218.8</td>\n",
       "      <td>1</td>\n",
       "      <td>73.033333</td>\n",
       "      <td>10.0</td>\n",
       "      <td>2019.0</td>\n",
       "      <td>10</td>\n",
       "      <td>2013</td>\n",
       "      <td>0</td>\n",
       "      <td>6</td>\n",
       "    </tr>\n",
       "    <tr>\n",
       "      <th>5441</th>\n",
       "      <td>3512-IZIKN</td>\n",
       "      <td>2013-12-01</td>\n",
       "      <td>2019-10-01</td>\n",
       "      <td>2</td>\n",
       "      <td>0</td>\n",
       "      <td>1</td>\n",
       "      <td>65.30</td>\n",
       "      <td>4759.75</td>\n",
       "      <td>0</td>\n",
       "      <td>0</td>\n",
       "      <td>1</td>\n",
       "      <td>0</td>\n",
       "      <td>1</td>\n",
       "      <td>0</td>\n",
       "      <td>1</td>\n",
       "      <td>0</td>\n",
       "      <td>1</td>\n",
       "      <td>1</td>\n",
       "      <td>0</td>\n",
       "      <td>0</td>\n",
       "      <td>24.0</td>\n",
       "      <td>1567.2</td>\n",
       "      <td>1</td>\n",
       "      <td>71.000000</td>\n",
       "      <td>10.0</td>\n",
       "      <td>2019.0</td>\n",
       "      <td>12</td>\n",
       "      <td>2013</td>\n",
       "      <td>0</td>\n",
       "      <td>3</td>\n",
       "    </tr>\n",
       "    <tr>\n",
       "      <th>6038</th>\n",
       "      <td>1555-DJEQW</td>\n",
       "      <td>2013-12-01</td>\n",
       "      <td>2019-10-01</td>\n",
       "      <td>2</td>\n",
       "      <td>1</td>\n",
       "      <td>0</td>\n",
       "      <td>114.20</td>\n",
       "      <td>7723.90</td>\n",
       "      <td>0</td>\n",
       "      <td>0</td>\n",
       "      <td>1</td>\n",
       "      <td>1</td>\n",
       "      <td>1</td>\n",
       "      <td>1</td>\n",
       "      <td>1</td>\n",
       "      <td>1</td>\n",
       "      <td>1</td>\n",
       "      <td>1</td>\n",
       "      <td>1</td>\n",
       "      <td>1</td>\n",
       "      <td>24.0</td>\n",
       "      <td>2740.8</td>\n",
       "      <td>1</td>\n",
       "      <td>71.000000</td>\n",
       "      <td>10.0</td>\n",
       "      <td>2019.0</td>\n",
       "      <td>12</td>\n",
       "      <td>2013</td>\n",
       "      <td>0</td>\n",
       "      <td>6</td>\n",
       "    </tr>\n",
       "    <tr>\n",
       "      <th>6290</th>\n",
       "      <td>2530-ENDWQ</td>\n",
       "      <td>2013-12-01</td>\n",
       "      <td>2019-11-01</td>\n",
       "      <td>2</td>\n",
       "      <td>1</td>\n",
       "      <td>0</td>\n",
       "      <td>93.70</td>\n",
       "      <td>6585.35</td>\n",
       "      <td>0</td>\n",
       "      <td>0</td>\n",
       "      <td>1</td>\n",
       "      <td>0</td>\n",
       "      <td>1</td>\n",
       "      <td>1</td>\n",
       "      <td>0</td>\n",
       "      <td>0</td>\n",
       "      <td>0</td>\n",
       "      <td>0</td>\n",
       "      <td>1</td>\n",
       "      <td>1</td>\n",
       "      <td>24.0</td>\n",
       "      <td>2248.8</td>\n",
       "      <td>1</td>\n",
       "      <td>72.033333</td>\n",
       "      <td>11.0</td>\n",
       "      <td>2019.0</td>\n",
       "      <td>12</td>\n",
       "      <td>2013</td>\n",
       "      <td>0</td>\n",
       "      <td>2</td>\n",
       "    </tr>\n",
       "  </tbody>\n",
       "</table>\n",
       "</div>"
      ],
      "text/plain": [
       "     customer_id begin_date   end_date  type  paperless_billing  \\\n",
       "975   2834-JRTUA 2013-11-01 2019-10-01     2                  1   \n",
       "3040  7317-GGVPB 2013-11-01 2019-10-01     2                  1   \n",
       "3439  0917-EZOLA 2013-10-01 2019-10-01     2                  1   \n",
       "4513  8580-QVLOC 2013-10-01 2019-10-01     2                  0   \n",
       "5441  3512-IZIKN 2013-12-01 2019-10-01     2                  0   \n",
       "6038  1555-DJEQW 2013-12-01 2019-10-01     2                  1   \n",
       "6290  2530-ENDWQ 2013-12-01 2019-11-01     2                  1   \n",
       "\n",
       "      payment_method  monthly_charges  total_charges  gender  senior_citizen  \\\n",
       "975                2           108.05        7532.15       1               0   \n",
       "3040               1           108.60        7690.90       1               0   \n",
       "3439               0           104.15        7689.95       1               1   \n",
       "4513               1            92.45        6440.25       0               1   \n",
       "5441               1            65.30        4759.75       0               0   \n",
       "6038               0           114.20        7723.90       0               0   \n",
       "6290               0            93.70        6585.35       0               0   \n",
       "\n",
       "      partner  dependents  multiple_lines  internet_service  online_security  \\\n",
       "975         0           0               1                 1                1   \n",
       "3040        1           0               1                 1                0   \n",
       "3439        1           0               1                 1                0   \n",
       "4513        1           1               1                 0                1   \n",
       "5441        1           0               1                 0                1   \n",
       "6038        1           1               1                 1                1   \n",
       "6290        1           0               1                 1                0   \n",
       "\n",
       "      online_backup  device_protection  tech_support  streaming_tv  \\\n",
       "975               0                  1             1             1   \n",
       "3040              1                  1             1             1   \n",
       "3439              1                  1             0             1   \n",
       "4513              1                  1             1             1   \n",
       "5441              0                  1             1             0   \n",
       "6038              1                  1             1             1   \n",
       "6290              0                  0             0             1   \n",
       "\n",
       "      streaming_movies  number_of_months  payment_size  has_left   lifetime  \\\n",
       "975                  1              24.0        2593.2         1  72.000000   \n",
       "3040                 1              24.0        2606.4         1  72.000000   \n",
       "3439                 1              24.0        2499.6         1  73.033333   \n",
       "4513                 1              24.0        2218.8         1  73.033333   \n",
       "5441                 0              24.0        1567.2         1  71.000000   \n",
       "6038                 1              24.0        2740.8         1  71.000000   \n",
       "6290                 1              24.0        2248.8         1  72.033333   \n",
       "\n",
       "      end_month  end_year  begin_month  begin_year  ordinal  number_of_options  \n",
       "975        10.0    2019.0           11        2013        0                  5  \n",
       "3040       10.0    2019.0           11        2013        0                  5  \n",
       "3439       10.0    2019.0           10        2013        0                  4  \n",
       "4513       10.0    2019.0           10        2013        0                  6  \n",
       "5441       10.0    2019.0           12        2013        0                  3  \n",
       "6038       10.0    2019.0           12        2013        0                  6  \n",
       "6290       11.0    2019.0           12        2013        0                  2  "
      ]
     },
     "execution_count": 62,
     "metadata": {},
     "output_type": "execute_result"
    }
   ],
   "source": [
    "df[df['begin_year']==2013]"
   ]
  },
  {
   "cell_type": "markdown",
   "id": "c9987328",
   "metadata": {},
   "source": [
    "Все клиенты, пришедшие в 2013-м году, ушли в 2019-м. 7 из нах платили раз в 2 года, один - раз в год. Их объединяет большой период оплаты, к концу которого и было принято решение отказаться от услуг оператора."
   ]
  },
  {
   "cell_type": "markdown",
   "id": "40b7568a",
   "metadata": {},
   "source": [
    "Проверка финального датасета на дублирующиеся объекты:"
   ]
  },
  {
   "cell_type": "code",
   "execution_count": 63,
   "id": "6c28a77c",
   "metadata": {},
   "outputs": [
    {
     "data": {
      "text/plain": [
       "0"
      ]
     },
     "execution_count": 63,
     "metadata": {},
     "output_type": "execute_result"
    }
   ],
   "source": [
    "df.duplicated().sum()"
   ]
  },
  {
   "cell_type": "markdown",
   "id": "4cb45b66",
   "metadata": {},
   "source": [
    "Дубликатов нет."
   ]
  },
  {
   "cell_type": "markdown",
   "id": "47958121",
   "metadata": {},
   "source": [
    "## <a id=\"4\"> 4. Обучение моделей"
   ]
  },
  {
   "cell_type": "markdown",
   "id": "9697c2b8",
   "metadata": {},
   "source": [
    "### <a id=\"4.1.\"> 4.1. Подготовка обучающей и тестовой выборок"
   ]
  },
  {
   "cell_type": "markdown",
   "id": "c0494320",
   "metadata": {},
   "source": [
    "Подготовим набор фичей и таргет на основе набора данных датафрейма **df**."
   ]
  },
  {
   "cell_type": "markdown",
   "id": "daf3e278",
   "metadata": {},
   "source": [
    "На основании **feature_importance** модели, обученной на всех признаках, исключим из обучения незначительные признаки.\n",
    "<img src=\"https://i.ibb.co/smqFLqK/2021-07-05-20-01-32.png\">"
   ]
  },
  {
   "cell_type": "code",
   "execution_count": 64,
   "id": "96b40c13",
   "metadata": {},
   "outputs": [],
   "source": [
    "features = df.drop(['customer_id', 'begin_date', 'end_date', 'has_left', 'end_month', 'partner', 'gender',\n",
    "                    'end_year', 'begin_month', 'begin_year', 'number_of_months', 'device_protection', 'ordinal',\n",
    "                   'online_security', 'online_backup', 'multiple_lines', 'payment_size', 'paperless_billing',\n",
    "                   'tech_support', 'dependents', 'streaming_tv', 'streaming_movies', 'senior_citizen'], axis=1) \n",
    "             \n",
    "\n",
    "target = df['has_left']\n",
    "\n",
    "# передадим в переменную rs значение random_state для будущих моделей\n",
    "rs = 605"
   ]
  },
  {
   "cell_type": "markdown",
   "id": "5c6251ce",
   "metadata": {},
   "source": [
    "Разделим набор фичей и таргет на обучающую и тестовую выборки, выведем на экран размер полученных выборок."
   ]
  },
  {
   "cell_type": "code",
   "execution_count": 65,
   "id": "87c4ef46",
   "metadata": {},
   "outputs": [],
   "source": [
    "features_train, features_test, target_train, target_test = train_test_split(\n",
    "features, target, test_size=.2, random_state=rs , stratify=target)"
   ]
  },
  {
   "cell_type": "code",
   "execution_count": 66,
   "id": "f6dbf7a7",
   "metadata": {},
   "outputs": [
    {
     "name": "stdout",
     "output_type": "stream",
     "text": [
      "feat_train: (5633, 7) target_train: (5633,) feat_test: (1409, 7) target_test: (1409,)\n"
     ]
    }
   ],
   "source": [
    "print('feat_train:', features_train.shape, 'target_train:', target_train.shape,\n",
    "      'feat_test:', features_test.shape, 'target_test:', target_test.shape)"
   ]
  },
  {
   "cell_type": "markdown",
   "id": "dafa50f7",
   "metadata": {},
   "source": [
    "### <a id=\"4.2.\"> 4.2. Логистическая регрессия"
   ]
  },
  {
   "cell_type": "markdown",
   "id": "5ad5fb4f",
   "metadata": {},
   "source": [
    "Получим предсказания и метрики их точности для логистической регрессии."
   ]
  },
  {
   "cell_type": "code",
   "execution_count": 67,
   "id": "0fd71e2e",
   "metadata": {},
   "outputs": [
    {
     "name": "stdout",
     "output_type": "stream",
     "text": [
      "Accuracy score: 0.788\n",
      "AUC-ROC score: 0.696\n"
     ]
    }
   ],
   "source": [
    "linear_model = LogisticRegression(solver='lbfgs', max_iter=10000)\n",
    "linear_model.fit(features_train, target_train)\n",
    "predictions = linear_model.predict(features_test)\n",
    "scorea = accuracy_score(target_test, predictions)\n",
    "scorer = roc_auc_score(target_test, predictions)\n",
    "print('Accuracy score: {:.3}'.format(scorea))\n",
    "print('AUC-ROC score: {:.3}'.format(scorer))"
   ]
  },
  {
   "cell_type": "markdown",
   "id": "6463f913",
   "metadata": {},
   "source": [
    "### <a id=\"4.3.\"> 4.3. Случайный лес"
   ]
  },
  {
   "cell_type": "code",
   "execution_count": 68,
   "id": "4e8e3de0",
   "metadata": {},
   "outputs": [],
   "source": [
    "# создадим скорер для оценки модели на кросс-валидации\n",
    "auc_roc = make_scorer(roc_auc_score,  greater_is_better=True)"
   ]
  },
  {
   "cell_type": "raw",
   "id": "7020cea6",
   "metadata": {},
   "source": [
    "%%time \n",
    "best_score = .7\n",
    "best_nest = 0\n",
    "best_depth = 0\n",
    "for n_est in range(10, 200, 10):\n",
    "    for depth in range(6, 20):    \n",
    "        forest_model = RandomForestClassifier(n_estimators=n_est, max_depth=depth, random_state=rs)\n",
    "        forest_model_score = cross_val_score(forest_model, features_train, target_train,\n",
    "                                         cv=10, scoring=auc_roc)\n",
    "        if forest_model_score.mean() > best_score:\n",
    "            best_score = forest_model_score.mean()\n",
    "            best_nest = n_est\n",
    "            best_depth = depth\n",
    "\n",
    "print('Наиболее оптимальное значение параметра n_estimators:', best_nest)\n",
    "print('Наиболее оптимальное значение параметра max_depth:', best_depth)\n",
    "print('Список значение AUC-ROC по блокам кросс-валидации:', forest_model_score)\n",
    "print('Итоговое значение AUC-ROC:', forest_model_score.mean())"
   ]
  },
  {
   "cell_type": "markdown",
   "id": "3f3deeda",
   "metadata": {},
   "source": [
    "Результат модели случайного леса:\n",
    "\n",
    "`Наиболее оптимальное значение параметра n_estimators: 80\n",
    "Наиболее оптимальное значение параметра max_depth: 12\n",
    "Список значение AUC-ROC по блокам кросс-валидации: [0.74547574 0.75620894 0.73061027 0.71079879 0.71948674 0.73573447\n",
    " 0.75489224 0.69138796 0.71079879 0.69593227]\n",
    "Итоговое значение AUC-ROC: 0.725132619555308\n",
    "Wall time: 23min 18s`"
   ]
  },
  {
   "cell_type": "code",
   "execution_count": 69,
   "id": "17d741dc",
   "metadata": {},
   "outputs": [
    {
     "name": "stdout",
     "output_type": "stream",
     "text": [
      "Accuracy score: 0.823\n",
      "AUC-ROC score: 0.731\n"
     ]
    }
   ],
   "source": [
    "forest_model = RandomForestClassifier(n_estimators=80, max_depth=12, random_state=rs)\n",
    "forest_model.fit(features_train, target_train)\n",
    "forest_predict = forest_model.predict(features_test)\n",
    "accuracy = accuracy_score(target_test, forest_predict)\n",
    "aucroc = roc_auc_score(target_test, forest_predict)\n",
    "\n",
    "print('Accuracy score: {:.3}'.format(accuracy))\n",
    "print('AUC-ROC score: {:.3}'.format(aucroc))"
   ]
  },
  {
   "cell_type": "markdown",
   "id": "7e82a278",
   "metadata": {},
   "source": [
    "### <a id=\"4.4.\"> 4.4. CatBoostClassifier"
   ]
  },
  {
   "cell_type": "code",
   "execution_count": 70,
   "id": "ea8bb418",
   "metadata": {},
   "outputs": [],
   "source": [
    "cat_model = CatBoostClassifier(iterations=5000, depth=3, l2_leaf_reg = 3,\n",
    "                               learning_rate = 0.04, random_seed=rs, loss_function='CrossEntropy',\n",
    "                               eval_metric='AUC')"
   ]
  },
  {
   "cell_type": "code",
   "execution_count": 71,
   "id": "943b8988",
   "metadata": {},
   "outputs": [
    {
     "data": {
      "application/vnd.jupyter.widget-view+json": {
       "model_id": "735d9761fb764887a4923a5d619f1186",
       "version_major": 2,
       "version_minor": 0
      },
      "text/plain": [
       "MetricVisualizer(layout=Layout(align_self='stretch', height='500px'))"
      ]
     },
     "metadata": {},
     "output_type": "display_data"
    },
    {
     "data": {
      "text/plain": [
       "<catboost.core.CatBoostClassifier at 0x2a5096aaac0>"
      ]
     },
     "execution_count": 71,
     "metadata": {},
     "output_type": "execute_result"
    }
   ],
   "source": [
    "cat_model.fit(features_train, target_train, eval_set=(features_test, target_test),\n",
    "              logging_level='Silent', plot=True)"
   ]
  },
  {
   "cell_type": "markdown",
   "id": "68fb487f",
   "metadata": {},
   "source": [
    "График обучения модели CatBoostClassifier\n",
    "<img src = 'https://i.ibb.co/4tzmGRn/2021-07-06-22-24-38.png'>"
   ]
  },
  {
   "cell_type": "code",
   "execution_count": 72,
   "id": "20f3a432",
   "metadata": {},
   "outputs": [
    {
     "name": "stdout",
     "output_type": "stream",
     "text": [
      "Итоговое количество деревьев: 4133\n"
     ]
    }
   ],
   "source": [
    "print('Итоговое количество деревьев:', cat_model.tree_count_)"
   ]
  },
  {
   "cell_type": "code",
   "execution_count": 73,
   "id": "6953fe70",
   "metadata": {},
   "outputs": [],
   "source": [
    "cat_predict = cat_model.predict(features_test)\n",
    "cat_predict_proba = (cat_model.predict_proba(features_test)[:,1] > 0.306).astype(bool)"
   ]
  },
  {
   "cell_type": "code",
   "execution_count": 74,
   "id": "4d448a21",
   "metadata": {},
   "outputs": [
    {
     "data": {
      "text/html": [
       "<div>\n",
       "<style scoped>\n",
       "    .dataframe tbody tr th:only-of-type {\n",
       "        vertical-align: middle;\n",
       "    }\n",
       "\n",
       "    .dataframe tbody tr th {\n",
       "        vertical-align: top;\n",
       "    }\n",
       "\n",
       "    .dataframe thead th {\n",
       "        text-align: right;\n",
       "    }\n",
       "</style>\n",
       "<table border=\"1\" class=\"dataframe\">\n",
       "  <thead>\n",
       "    <tr style=\"text-align: right;\">\n",
       "      <th></th>\n",
       "      <th>Proba</th>\n",
       "      <th>ROC-AUC</th>\n",
       "      <th>Accuracy</th>\n",
       "      <th>Precision</th>\n",
       "      <th>Recall</th>\n",
       "    </tr>\n",
       "  </thead>\n",
       "  <tbody>\n",
       "    <tr>\n",
       "      <th>0</th>\n",
       "      <td>0.5</td>\n",
       "      <td>0.824001</td>\n",
       "      <td>0.890703</td>\n",
       "      <td>0.87931</td>\n",
       "      <td>0.681818</td>\n",
       "    </tr>\n",
       "    <tr>\n",
       "      <th>1</th>\n",
       "      <td>0.306</td>\n",
       "      <td>0.850570</td>\n",
       "      <td>0.875798</td>\n",
       "      <td>0.75063</td>\n",
       "      <td>0.796791</td>\n",
       "    </tr>\n",
       "  </tbody>\n",
       "</table>\n",
       "</div>"
      ],
      "text/plain": [
       "   Proba   ROC-AUC  Accuracy  Precision    Recall\n",
       "0    0.5  0.824001  0.890703    0.87931  0.681818\n",
       "1  0.306  0.850570  0.875798    0.75063  0.796791"
      ]
     },
     "execution_count": 74,
     "metadata": {},
     "output_type": "execute_result"
    }
   ],
   "source": [
    "result_roc_05 = roc_auc_score(target_test, cat_predict)\n",
    "result_acc_05 = accuracy_score(target_test, cat_predict)\n",
    "result_recall_05 = recall_score(target_test, cat_predict)\n",
    "result_precision_05 = precision_score(target_test, cat_predict)\n",
    "\n",
    "result_roc_0306 = roc_auc_score(target_test, cat_predict_proba)\n",
    "result_acc_0306 = accuracy_score(target_test, cat_predict_proba)\n",
    "result_recall_0306 = recall_score(target_test, cat_predict_proba)\n",
    "result_precision_0306 = precision_score(target_test, cat_predict_proba)\n",
    "\n",
    "catboost_result = pd.DataFrame({'Proba' : ['0.5', '0.306'],\n",
    "                                'ROC-AUC' : [result_roc_05, result_roc_0306],\n",
    "                                'Accuracy' : [result_acc_05, result_acc_0306],\n",
    "                                'Precision' : [result_precision_05, result_precision_0306],\n",
    "                                'Recall' : [result_recall_05, result_recall_0306]})\n",
    "\n",
    "catboost_result"
   ]
  },
  {
   "cell_type": "markdown",
   "id": "ea863236",
   "metadata": {},
   "source": [
    "При использовании не предсказаний классов, а предсказаний вероятности класса, получаем увеличение метрики **AUC-ROC c 0.824 до 0.851**. При этом значение *accuracy* остается без изменений, а *precision и recall* меняются местами: предсказания становятся менее точными, но учитывают большее холичество *true-positive* объектов."
   ]
  },
  {
   "cell_type": "markdown",
   "id": "774ef298",
   "metadata": {},
   "source": [
    "Построим `ROC-кривую` для модели **CatBoost**."
   ]
  },
  {
   "cell_type": "code",
   "execution_count": 75,
   "id": "89a3c8c2",
   "metadata": {},
   "outputs": [
    {
     "data": {
      "image/png": "[encoded data removed]",
      "text/plain": [
       "<Figure size 1080x720 with 1 Axes>"
      ]
     },
     "metadata": {
      "needs_background": "light"
     },
     "output_type": "display_data"
    }
   ],
   "source": [
    "probabilities_test = cat_model.predict_proba(features_test)\n",
    "probabilities_one_test = probabilities_test[:, 1]\n",
    "\n",
    "fpr, tpr, thresholds = roc_curve(target_test, probabilities_one_test)\n",
    "\n",
    "plt.figure(plt.figure(figsize=(15, 10)))\n",
    "plt.plot(fpr, tpr)\n",
    "plt.plot([0, 1], [0, 1], linestyle='--')\n",
    "\n",
    "plt.xlim([0.0, 1.0])\n",
    "plt.ylim([0.0, 1.0])\n",
    "\n",
    "plt.xlabel(\"False Positive Rate\")\n",
    "plt.ylabel(\"True Positive Rate\")\n",
    "plt.title(\"ROC-кривая\")\n",
    "plt.show()"
   ]
  },
  {
   "cell_type": "markdown",
   "id": "15f75ebd",
   "metadata": {},
   "source": [
    "Посмотрим на важность признаков при обучении модели **CatBoost**."
   ]
  },
  {
   "cell_type": "code",
   "execution_count": 76,
   "id": "728aad6b",
   "metadata": {},
   "outputs": [
    {
     "data": {
      "text/html": [
       "<div>\n",
       "<style scoped>\n",
       "    .dataframe tbody tr th:only-of-type {\n",
       "        vertical-align: middle;\n",
       "    }\n",
       "\n",
       "    .dataframe tbody tr th {\n",
       "        vertical-align: top;\n",
       "    }\n",
       "\n",
       "    .dataframe thead th {\n",
       "        text-align: right;\n",
       "    }\n",
       "</style>\n",
       "<table border=\"1\" class=\"dataframe\">\n",
       "  <thead>\n",
       "    <tr style=\"text-align: right;\">\n",
       "      <th></th>\n",
       "      <th>feature</th>\n",
       "      <th>importance</th>\n",
       "    </tr>\n",
       "  </thead>\n",
       "  <tbody>\n",
       "    <tr>\n",
       "      <th>0</th>\n",
       "      <td>lifetime</td>\n",
       "      <td>62.678794</td>\n",
       "    </tr>\n",
       "    <tr>\n",
       "      <th>1</th>\n",
       "      <td>monthly_charges</td>\n",
       "      <td>13.006700</td>\n",
       "    </tr>\n",
       "    <tr>\n",
       "      <th>2</th>\n",
       "      <td>total_charges</td>\n",
       "      <td>9.384518</td>\n",
       "    </tr>\n",
       "    <tr>\n",
       "      <th>3</th>\n",
       "      <td>type</td>\n",
       "      <td>6.953664</td>\n",
       "    </tr>\n",
       "    <tr>\n",
       "      <th>4</th>\n",
       "      <td>internet_service</td>\n",
       "      <td>3.872751</td>\n",
       "    </tr>\n",
       "    <tr>\n",
       "      <th>5</th>\n",
       "      <td>payment_method</td>\n",
       "      <td>2.294439</td>\n",
       "    </tr>\n",
       "    <tr>\n",
       "      <th>6</th>\n",
       "      <td>number_of_options</td>\n",
       "      <td>1.809134</td>\n",
       "    </tr>\n",
       "  </tbody>\n",
       "</table>\n",
       "</div>"
      ],
      "text/plain": [
       "             feature  importance\n",
       "0           lifetime   62.678794\n",
       "1    monthly_charges   13.006700\n",
       "2      total_charges    9.384518\n",
       "3               type    6.953664\n",
       "4   internet_service    3.872751\n",
       "5     payment_method    2.294439\n",
       "6  number_of_options    1.809134"
      ]
     },
     "execution_count": 76,
     "metadata": {},
     "output_type": "execute_result"
    }
   ],
   "source": [
    "importances = cat_model.feature_importances_\n",
    "\n",
    "\n",
    "# train_features is the dataframe of training features\n",
    "feature_list = list(features_train.columns)\n",
    "\n",
    "# Extract the feature importances into a dataframe\n",
    "feature_results = pd.DataFrame({'feature': feature_list,'importance': importances})\n",
    "\n",
    "# Show the most important\n",
    "feature_results = feature_results.sort_values('importance',ascending = False).reset_index(drop=True)\n",
    "\n",
    "feature_results"
   ]
  },
  {
   "cell_type": "code",
   "execution_count": 77,
   "id": "692bf281",
   "metadata": {},
   "outputs": [
    {
     "data": {
      "image/png": "[encoded data removed]",
      "text/plain": [
       "<Figure size 1200x640 with 1 Axes>"
      ]
     },
     "metadata": {
      "needs_background": "light"
     },
     "output_type": "display_data"
    }
   ],
   "source": [
    "plt.figure(figsize=(15,8), dpi= 80)\n",
    "colors = [plt.cm.Spectral(i/float(len(feature_results.index))) for i in range(len(feature_results.index))]\n",
    "squarify.plot(feature_results['importance'], alpha=.8, label=feature_results['feature'], color=colors)\n",
    "plt.title('Степень влияния обучающих признаков на предсказания модели')\n",
    "plt.show()"
   ]
  },
  {
   "cell_type": "markdown",
   "id": "4f3f81ef",
   "metadata": {},
   "source": [
    "## <a id=\"5\"> 5. Итог"
   ]
  },
  {
   "cell_type": "markdown",
   "id": "bbba8e5c",
   "metadata": {},
   "source": [
    "Выведем на экран сводную табюлицу со значениями метрик **accuracy_score**, **roc_auc_score**, **precision** и **recall** для всех обученных моделей."
   ]
  },
  {
   "cell_type": "code",
   "execution_count": 78,
   "id": "9dd37699",
   "metadata": {},
   "outputs": [
    {
     "data": {
      "text/html": [
       "<div>\n",
       "<style scoped>\n",
       "    .dataframe tbody tr th:only-of-type {\n",
       "        vertical-align: middle;\n",
       "    }\n",
       "\n",
       "    .dataframe tbody tr th {\n",
       "        vertical-align: top;\n",
       "    }\n",
       "\n",
       "    .dataframe thead th {\n",
       "        text-align: right;\n",
       "    }\n",
       "</style>\n",
       "<table border=\"1\" class=\"dataframe\">\n",
       "  <thead>\n",
       "    <tr style=\"text-align: right;\">\n",
       "      <th></th>\n",
       "      <th>LogisticRegression</th>\n",
       "      <th>RandomForest</th>\n",
       "      <th>CatBoost 0.5</th>\n",
       "      <th>CatBoost 0.306</th>\n",
       "    </tr>\n",
       "    <tr>\n",
       "      <th>metrics</th>\n",
       "      <th></th>\n",
       "      <th></th>\n",
       "      <th></th>\n",
       "      <th></th>\n",
       "    </tr>\n",
       "  </thead>\n",
       "  <tbody>\n",
       "    <tr>\n",
       "      <th>Accuracy</th>\n",
       "      <td>0.787793</td>\n",
       "      <td>0.822569</td>\n",
       "      <td>0.890703</td>\n",
       "      <td>0.875798</td>\n",
       "    </tr>\n",
       "    <tr>\n",
       "      <th>ROC-AUC</th>\n",
       "      <td>0.695894</td>\n",
       "      <td>0.730665</td>\n",
       "      <td>0.824001</td>\n",
       "      <td>0.850570</td>\n",
       "    </tr>\n",
       "    <tr>\n",
       "      <th>Precision</th>\n",
       "      <td>0.625418</td>\n",
       "      <td>0.724638</td>\n",
       "      <td>0.879310</td>\n",
       "      <td>0.750630</td>\n",
       "    </tr>\n",
       "    <tr>\n",
       "      <th>Recall</th>\n",
       "      <td>0.500000</td>\n",
       "      <td>0.534759</td>\n",
       "      <td>0.681818</td>\n",
       "      <td>0.796791</td>\n",
       "    </tr>\n",
       "  </tbody>\n",
       "</table>\n",
       "</div>"
      ],
      "text/plain": [
       "           LogisticRegression  RandomForest  CatBoost 0.5  CatBoost 0.306\n",
       "metrics                                                                  \n",
       "Accuracy             0.787793      0.822569      0.890703        0.875798\n",
       "ROC-AUC              0.695894      0.730665      0.824001        0.850570\n",
       "Precision            0.625418      0.724638      0.879310        0.750630\n",
       "Recall               0.500000      0.534759      0.681818        0.796791"
      ]
     },
     "execution_count": 78,
     "metadata": {},
     "output_type": "execute_result"
    }
   ],
   "source": [
    "summary_result = pd.DataFrame({'metrics' : ['Accuracy', 'ROC-AUC', 'Precision', 'Recall'], \n",
    "                               'LogisticRegression' : [scorea, scorer, precision_score(target_test, predictions), recall_score(target_test, predictions)],\n",
    "                               'RandomForest' : [accuracy, aucroc, precision_score(target_test, forest_predict), recall_score(target_test, forest_predict)],\n",
    "                               'CatBoost 0.5' : [result_acc_05, result_roc_05, result_precision_05, result_recall_05],\n",
    "                               'CatBoost 0.306' : [result_acc_0306, result_roc_0306, result_precision_0306, result_recall_0306]}).set_index('metrics')\n",
    "\n",
    "summary_result"
   ]
  },
  {
   "cell_type": "markdown",
   "id": "d10f95c0",
   "metadata": {},
   "source": [
    "## Вывод по работе\n",
    "\n",
    "На основании тестирования трех моделей лучший результат показала модель *CatBoostClassifier* со значением **ROC-AUC = 0.824** и Accuracy = 0.89. Для нее максимальны значения метрик accuracy, ROC-AUC и precision среди всех рассматриваемых моделей, что согласуется с поставленной задачей. \n",
    "\n",
    "Стоит отметить, что удалось донастроить модель *CatBoost* до результата **ROC-AUC = 0.851** за счет использования весов классов. Accuracy при этом составила 0.88. Улучшение показателя ROC-AUC было достигнуто за счет снижения точности и увеличения полноты предсказаний модели. Ниже представлены матрицы ошибок для двух вариантов данной модели, которые позволят принять взвешенное решение об использовании того или иного варианта модели исходя из следующего тезиса: `В случае использования классической модели, потери компании (на основании оценке по тестовой выборке) составят расходы, вызванные уходом 119 клиентов, которых модель не определила как склонных к уходу, а также затратами на удержание 35 клиентов, которые не собирались отказываться от услуг оператора. В случае использования модели с весами классов финансовые потери составят убытки от ухода 76 клиентов и затраты на удержание 99 клиентов, не склонных к уходу.`"
   ]
  },
  {
   "cell_type": "code",
   "execution_count": 79,
   "id": "80a1a9aa",
   "metadata": {},
   "outputs": [
    {
     "data": {
      "image/png": "[encoded data removed]",
      "text/plain": [
       "<Figure size 864x576 with 2 Axes>"
      ]
     },
     "metadata": {
      "needs_background": "light"
     },
     "output_type": "display_data"
    },
    {
     "data": {
      "image/png": "[encoded data removed]",
      "text/plain": [
       "<Figure size 864x576 with 2 Axes>"
      ]
     },
     "metadata": {
      "needs_background": "light"
     },
     "output_type": "display_data"
    }
   ],
   "source": [
    "plt.figure(0, figsize=(12,8))\n",
    "sns.heatmap(confusion_matrix(target_test, cat_predict), annot=True, fmt='g')\n",
    "plt.title('Матрица ошибок предсказания классической модели CatBoost')\n",
    "plt.xlabel(\"Предсказания\")\n",
    "plt.ylabel(\"Реальные значения\")\n",
    "plt.figure(1, figsize=(12,8))\n",
    "sns.heatmap(confusion_matrix(target_test, cat_predict_proba), annot=True, fmt='g')\n",
    "plt.title('Матрица ошибок предсказания модели CatBoost с использованием весов классов')\n",
    "plt.xlabel(\"Предсказания\")\n",
    "plt.ylabel(\"Реальные значения\")\n",
    "plt.show()"
   ]
  },
  {
   "cell_type": "markdown",
   "id": "ab1d37c7",
   "metadata": {},
   "source": [
    "## <a id=\"6\"> 6. Чек-лист\n",
    "\n",
    "1. [x] Загрузка и изучение данных: \n",
    "    - [x] создать датафреймы для каждого имеющегося csv-файла;\n",
    "    - [x] проверить датасеты на соответствие типов признаков значениям, в них представленным;\n",
    "    - [x] проверить таблицы на наличие дубликатов в записях и пропусков в данных\n",
    "    - [x] изучить масштаб таблиц (количество признаков и объектов в каждой);\n",
    "    - [x] определить, какая именно информация хранится в столбцах (что показывают признаки в датафреймах);\n",
    "    - [x] выделить признаки, существенные для решения поставленной задачи, избавиться от несущественных (при их наличии)\n",
    "\n",
    "\n",
    "2. [x] Выполнить предобработку данных:\n",
    "    - [x] избавиться от пропусков, дубликатов, привести данные к соответствию типов;\n",
    "    - [x] объединить датафреймы в результирующую таблицу\n",
    "\n",
    "\n",
    "3. [x] Обучение модели\n",
    "    -  [x] Разделить датасет на обучающую и тестовую выборки, выделить обучающие и целевой признаки;\n",
    "    -  [x] Определить целевую метрику и ее пороговое значение: **ROC-AUC > 0.75**;\n",
    "    -  [x] Выполнить подбор гиперпараметров для нескольких моделей, обучить модели;\n",
    "    -  [x] Выбрать оптимальную для решения поставленной задачи модель."
   ]
  },
  {
   "cell_type": "markdown",
   "id": "82ff5219",
   "metadata": {},
   "source": [
    "## <a id=\"7\"> 7. Отчет"
   ]
  },
  {
   "cell_type": "markdown",
   "id": "107b671a",
   "metadata": {},
   "source": [
    "1. Все пункты плана были выполнены: мы загрузили и изучили данные, аргументированно обработали пропуски, подготовили датасет для обучения модели. Была проведена работа по обучению нескольких моделей и выбрана модель, показавшая наилучший результат по предсказаниям.\n",
    "\n",
    "\n",
    "2. В процессе работы возник ряд трудностей: \n",
    "    - 2.1. Было непонятно, какие конкретно признаки значимы при предсказании целевого признака. Для оценки влияния бинарных признаков был использован метод **хи-квадрат**, для количественных признаков мы построили диаграммы размаха. Также модель была скорректирована по показателям таблицы **feature_importances_** для обученной модели. Было принято решение отказаться от признаков из общего набора, влияние которых на результат составляло менее 2%.\n",
    "    - 2.2. Необходимо было принять аргументированное решение по заполнению пропусков: большое количество пропусков образовалось после объединения таблиц. Нами было установлено, что пропуски соответсвуют признакам таблиц `internet` и `phone`, соответсвенно пропуски образовались в строках клиентов, которые не пользуются соответственно услугами интернет или телефонии, предоставляемыми оператором. Было принято решение заполнить пропуски значениями **'No'** для бинарных признаков и **'unknown'** для категориального признака `'internet_service'`.\n",
    "    - 2.3. Имелась вероятность утечки целевого признака, было принято решение добавить производный признак срока пользования клиента услугами оператора `'lifetime'` и удалить признаки, содержащие даты.\n",
    "    \n",
    "    \n",
    "3. Ключевые шаги при решении поставленной задачи:\n",
    "    - 3.1. Загрузка и изучение данных: определение размеров исходных таблиц, проблем с типами данных признаков, определение признака, объединяющего таблицы.\n",
    "    - 3.2. Объединение таблиц в одну, обработка пропусков, более детальное изучение взаимосвязей данных. Определение и добавление в таблицу целевого признака. Построение гистограмм распределения величины платежа клиентов для обоих классов целевого признака.\n",
    "    - 3.3. Изучение степени влияния обучающих признаков на целевой признак.\n",
    "    - 3.4. Разделение датасета на **features** и **target**, а также на обучающую и тестовую выборки.\n",
    "    - 3.5. Обучение нескольких моделей с использованием кросс-валидации, выбор модели с лучшими показателями метрик **ROC-AUC** и **Accuracy**.\n",
    "    - 3.6. Вывод по проделанной работе и аргументация выбора конкретной модели.\n",
    "    \n",
    "    \n",
    "4. В качестве итоговой модели выбрана модель **CatBoostClassifier** c показателем метрики **ROC-AUC = 0.824**.\n",
    "        (В качестве альтернативного использования той же модели CatBoostClassifier (обученной на тех же данных и при тех же параметрах) возможно применение классов весов к предсказаниям модели, в таком случае показатель ROC-AUC достигает значения 0.851. Более подробная информация в разделе 5: \"Итог. Вывод по работе\"."
   ]
  }
 ],
 "metadata": {
  "ExecuteTimeLog": [
   {
    "duration": 1980,
    "start_time": "2021-07-04T16:52:22.987Z"
   },
   {
    "duration": 2579,
    "start_time": "2021-07-04T16:52:27.843Z"
   },
   {
    "duration": 104,
    "start_time": "2021-07-04T16:52:44.658Z"
   },
   {
    "duration": 2549,
    "start_time": "2021-07-04T16:52:51.756Z"
   },
   {
    "duration": 98,
    "start_time": "2021-07-04T16:52:59.749Z"
   },
   {
    "duration": 5,
    "start_time": "2021-07-04T16:54:42.916Z"
   },
   {
    "duration": 44,
    "start_time": "2021-07-04T16:54:43.116Z"
   },
   {
    "duration": 71,
    "start_time": "2021-07-04T16:54:43.325Z"
   },
   {
    "duration": 32,
    "start_time": "2021-07-04T16:54:43.925Z"
   },
   {
    "duration": 34,
    "start_time": "2021-07-04T16:54:44.705Z"
   },
   {
    "duration": 337,
    "start_time": "2021-07-04T16:54:45.695Z"
   },
   {
    "duration": 304,
    "start_time": "2021-07-04T16:54:46.255Z"
   },
   {
    "duration": 5,
    "start_time": "2021-07-04T16:55:19.155Z"
   },
   {
    "duration": 879,
    "start_time": "2021-07-04T16:55:19.765Z"
   },
   {
    "duration": 467,
    "start_time": "2021-07-04T16:55:20.179Z"
   },
   {
    "duration": 464,
    "start_time": "2021-07-04T16:55:20.184Z"
   },
   {
    "duration": 531,
    "start_time": "2021-07-04T16:55:20.725Z"
   },
   {
    "duration": 350,
    "start_time": "2021-07-04T16:55:20.909Z"
   },
   {
    "duration": 338,
    "start_time": "2021-07-04T16:55:20.922Z"
   },
   {
    "duration": 5,
    "start_time": "2021-07-04T16:55:52.859Z"
   },
   {
    "duration": 10,
    "start_time": "2021-07-04T16:55:53.520Z"
   },
   {
    "duration": 23,
    "start_time": "2021-07-04T16:55:54.511Z"
   },
   {
    "duration": 42,
    "start_time": "2021-07-04T16:55:57.283Z"
   },
   {
    "duration": 8246,
    "start_time": "2021-07-04T16:55:58.139Z"
   },
   {
    "duration": 340,
    "start_time": "2021-07-04T16:57:14.474Z"
   },
   {
    "duration": 348,
    "start_time": "2021-07-04T16:57:15.054Z"
   },
   {
    "duration": 448,
    "start_time": "2021-07-04T16:57:33.524Z"
   },
   {
    "duration": 319,
    "start_time": "2021-07-04T17:01:34.610Z"
   },
   {
    "duration": 1402,
    "start_time": "2021-07-05T10:53:24.011Z"
   },
   {
    "duration": 68,
    "start_time": "2021-07-05T10:53:33.161Z"
   },
   {
    "duration": 94,
    "start_time": "2021-07-05T10:53:48.161Z"
   },
   {
    "duration": 4,
    "start_time": "2021-07-05T10:53:51.791Z"
   },
   {
    "duration": 27,
    "start_time": "2021-07-05T10:53:52.441Z"
   },
   {
    "duration": 37,
    "start_time": "2021-07-05T10:53:52.643Z"
   },
   {
    "duration": 20,
    "start_time": "2021-07-05T10:53:52.851Z"
   },
   {
    "duration": 21,
    "start_time": "2021-07-05T10:53:53.031Z"
   },
   {
    "duration": 3,
    "start_time": "2021-07-05T10:53:54.452Z"
   },
   {
    "duration": 605,
    "start_time": "2021-07-05T10:53:54.533Z"
   },
   {
    "duration": -192,
    "start_time": "2021-07-05T10:53:55.332Z"
   },
   {
    "duration": -208,
    "start_time": "2021-07-05T10:53:55.349Z"
   },
   {
    "duration": 243,
    "start_time": "2021-07-05T10:53:55.521Z"
   },
   {
    "duration": -124,
    "start_time": "2021-07-05T10:53:55.890Z"
   },
   {
    "duration": 58398,
    "start_time": "2021-07-05T10:54:28.398Z"
   },
   {
    "duration": 8,
    "start_time": "2021-07-05T10:55:31.601Z"
   },
   {
    "duration": 95,
    "start_time": "2021-07-05T10:55:36.033Z"
   },
   {
    "duration": 4,
    "start_time": "2021-07-05T10:55:39.473Z"
   },
   {
    "duration": 22,
    "start_time": "2021-07-05T10:55:39.733Z"
   },
   {
    "duration": 37,
    "start_time": "2021-07-05T10:55:39.915Z"
   },
   {
    "duration": 17,
    "start_time": "2021-07-05T10:55:40.095Z"
   },
   {
    "duration": 20,
    "start_time": "2021-07-05T10:55:40.269Z"
   },
   {
    "duration": 2,
    "start_time": "2021-07-05T10:55:41.411Z"
   },
   {
    "duration": 24,
    "start_time": "2021-07-05T10:55:41.859Z"
   },
   {
    "duration": 4,
    "start_time": "2021-07-05T10:55:43.265Z"
   },
   {
    "duration": 6,
    "start_time": "2021-07-05T10:55:43.739Z"
   },
   {
    "duration": 16,
    "start_time": "2021-07-05T10:55:43.983Z"
   },
   {
    "duration": 28,
    "start_time": "2021-07-05T10:55:44.521Z"
   },
   {
    "duration": 18,
    "start_time": "2021-07-05T10:55:44.746Z"
   },
   {
    "duration": 25,
    "start_time": "2021-07-05T10:55:46.707Z"
   },
   {
    "duration": 14,
    "start_time": "2021-07-05T10:55:46.913Z"
   },
   {
    "duration": 10,
    "start_time": "2021-07-05T10:55:48.808Z"
   },
   {
    "duration": 5,
    "start_time": "2021-07-05T10:55:49.678Z"
   },
   {
    "duration": 7,
    "start_time": "2021-07-05T10:55:49.931Z"
   },
   {
    "duration": 7,
    "start_time": "2021-07-05T10:55:50.417Z"
   },
   {
    "duration": 4,
    "start_time": "2021-07-05T10:55:50.611Z"
   },
   {
    "duration": 16,
    "start_time": "2021-07-05T10:55:51.601Z"
   },
   {
    "duration": 11,
    "start_time": "2021-07-05T10:55:52.547Z"
   },
   {
    "duration": 13,
    "start_time": "2021-07-05T10:55:53.481Z"
   },
   {
    "duration": 101,
    "start_time": "2021-07-05T10:55:54.439Z"
   },
   {
    "duration": 8,
    "start_time": "2021-07-05T10:55:55.223Z"
   },
   {
    "duration": 7,
    "start_time": "2021-07-05T10:55:55.403Z"
   },
   {
    "duration": 5,
    "start_time": "2021-07-05T10:55:55.922Z"
   },
   {
    "duration": 5,
    "start_time": "2021-07-05T10:55:56.676Z"
   },
   {
    "duration": 11,
    "start_time": "2021-07-05T10:55:57.358Z"
   },
   {
    "duration": 4,
    "start_time": "2021-07-05T10:55:57.672Z"
   },
   {
    "duration": 8,
    "start_time": "2021-07-05T10:55:58.372Z"
   },
   {
    "duration": 38,
    "start_time": "2021-07-05T10:55:58.899Z"
   },
   {
    "duration": 20,
    "start_time": "2021-07-05T10:55:59.052Z"
   },
   {
    "duration": 2973,
    "start_time": "2021-07-05T10:56:06.989Z"
   },
   {
    "duration": 263,
    "start_time": "2021-07-05T10:56:13.559Z"
   },
   {
    "duration": 1299,
    "start_time": "2021-07-06T07:44:16.594Z"
   },
   {
    "duration": 231,
    "start_time": "2021-07-06T07:44:27.775Z"
   },
   {
    "duration": 68,
    "start_time": "2021-07-06T07:44:37.668Z"
   },
   {
    "duration": 91,
    "start_time": "2021-07-06T07:44:48.927Z"
   },
   {
    "duration": 3,
    "start_time": "2021-07-06T07:44:49.822Z"
   },
   {
    "duration": 3,
    "start_time": "2021-07-06T07:44:51.740Z"
   },
   {
    "duration": 23,
    "start_time": "2021-07-06T07:44:51.936Z"
   },
   {
    "duration": 36,
    "start_time": "2021-07-06T07:44:52.367Z"
   },
   {
    "duration": 17,
    "start_time": "2021-07-06T07:44:52.568Z"
   },
   {
    "duration": 19,
    "start_time": "2021-07-06T07:44:52.753Z"
   },
   {
    "duration": 3,
    "start_time": "2021-07-06T07:44:53.474Z"
   },
   {
    "duration": 492,
    "start_time": "2021-07-06T07:44:53.661Z"
   },
   {
    "duration": -2660,
    "start_time": "2021-07-06T07:44:56.815Z"
   },
   {
    "duration": 240,
    "start_time": "2021-07-06T07:44:54.175Z"
   },
   {
    "duration": -2739,
    "start_time": "2021-07-06T07:44:57.155Z"
   },
   {
    "duration": 246,
    "start_time": "2021-07-06T07:44:54.552Z"
   },
   {
    "duration": 95,
    "start_time": "2021-07-06T07:45:11.620Z"
   },
   {
    "duration": 124040,
    "start_time": "2021-07-06T07:45:20.186Z"
   },
   {
    "duration": 8,
    "start_time": "2021-07-06T07:47:43.970Z"
   },
   {
    "duration": 92,
    "start_time": "2021-07-06T07:47:46.127Z"
   },
   {
    "duration": 3,
    "start_time": "2021-07-06T07:47:46.956Z"
   },
   {
    "duration": 3,
    "start_time": "2021-07-06T07:47:48.000Z"
   },
   {
    "duration": 22,
    "start_time": "2021-07-06T07:47:48.193Z"
   },
   {
    "duration": 36,
    "start_time": "2021-07-06T07:47:48.323Z"
   },
   {
    "duration": 18,
    "start_time": "2021-07-06T07:47:48.514Z"
   },
   {
    "duration": 20,
    "start_time": "2021-07-06T07:47:48.724Z"
   },
   {
    "duration": 3,
    "start_time": "2021-07-06T07:47:49.871Z"
   },
   {
    "duration": 26,
    "start_time": "2021-07-06T07:47:50.034Z"
   },
   {
    "duration": 3,
    "start_time": "2021-07-06T07:47:50.634Z"
   },
   {
    "duration": 7,
    "start_time": "2021-07-06T07:47:51.348Z"
   },
   {
    "duration": 15,
    "start_time": "2021-07-06T07:47:51.548Z"
   },
   {
    "duration": 22,
    "start_time": "2021-07-06T07:47:52.120Z"
   },
   {
    "duration": 18,
    "start_time": "2021-07-06T07:47:52.983Z"
   },
   {
    "duration": 25,
    "start_time": "2021-07-06T07:47:55.909Z"
   },
   {
    "duration": 14,
    "start_time": "2021-07-06T07:47:56.805Z"
   },
   {
    "duration": 10,
    "start_time": "2021-07-06T07:48:02.484Z"
   },
   {
    "duration": 11,
    "start_time": "2021-07-06T07:48:04.114Z"
   },
   {
    "duration": 5,
    "start_time": "2021-07-06T07:48:05.757Z"
   },
   {
    "duration": 5,
    "start_time": "2021-07-06T07:48:05.921Z"
   },
   {
    "duration": 6,
    "start_time": "2021-07-06T07:48:06.108Z"
   },
   {
    "duration": 3,
    "start_time": "2021-07-06T07:48:06.507Z"
   },
   {
    "duration": 15,
    "start_time": "2021-07-06T07:48:07.271Z"
   },
   {
    "duration": 12,
    "start_time": "2021-07-06T07:48:08.051Z"
   },
   {
    "duration": 12,
    "start_time": "2021-07-06T07:48:08.815Z"
   },
   {
    "duration": 85,
    "start_time": "2021-07-06T07:48:09.393Z"
   },
   {
    "duration": 6,
    "start_time": "2021-07-06T07:48:10.297Z"
   },
   {
    "duration": 5,
    "start_time": "2021-07-06T07:48:10.480Z"
   },
   {
    "duration": 6,
    "start_time": "2021-07-06T07:48:11.043Z"
   },
   {
    "duration": 6,
    "start_time": "2021-07-06T07:48:11.900Z"
   },
   {
    "duration": 10,
    "start_time": "2021-07-06T07:48:12.275Z"
   },
   {
    "duration": 4,
    "start_time": "2021-07-06T07:48:12.445Z"
   },
   {
    "duration": 7,
    "start_time": "2021-07-06T07:48:13.461Z"
   },
   {
    "duration": 23,
    "start_time": "2021-07-06T07:48:13.786Z"
   },
   {
    "duration": 21,
    "start_time": "2021-07-06T07:48:13.993Z"
   },
   {
    "duration": 15,
    "start_time": "2021-07-06T07:48:14.149Z"
   },
   {
    "duration": 5,
    "start_time": "2021-07-06T07:48:14.645Z"
   },
   {
    "duration": 3,
    "start_time": "2021-07-06T07:48:15.548Z"
   },
   {
    "duration": 7,
    "start_time": "2021-07-06T07:48:15.716Z"
   },
   {
    "duration": 4,
    "start_time": "2021-07-06T07:48:15.904Z"
   },
   {
    "duration": 7,
    "start_time": "2021-07-06T07:48:16.069Z"
   },
   {
    "duration": 703,
    "start_time": "2021-07-06T07:48:16.415Z"
   },
   {
    "duration": 222,
    "start_time": "2021-07-06T07:48:17.584Z"
   },
   {
    "duration": 69139,
    "start_time": "2021-07-06T07:48:24.819Z"
   },
   {
    "duration": 7,
    "start_time": "2021-07-06T08:07:56.500Z"
   },
   {
    "duration": 5,
    "start_time": "2021-07-06T08:07:57.925Z"
   },
   {
    "duration": 20,
    "start_time": "2021-07-06T08:07:58.288Z"
   },
   {
    "duration": 6,
    "start_time": "2021-07-06T08:07:58.666Z"
   },
   {
    "duration": 1137,
    "start_time": "2021-07-06T08:07:59.433Z"
   },
   {
    "duration": 2512,
    "start_time": "2021-07-06T08:08:00.572Z"
   },
   {
    "duration": 981,
    "start_time": "2021-07-06T08:08:03.086Z"
   },
   {
    "duration": 92,
    "start_time": "2021-07-06T08:08:04.068Z"
   },
   {
    "duration": 20,
    "start_time": "2021-07-06T08:08:04.805Z"
   },
   {
    "duration": 13,
    "start_time": "2021-07-06T08:08:05.263Z"
   },
   {
    "duration": 10,
    "start_time": "2021-07-06T08:08:05.483Z"
   },
   {
    "duration": 18,
    "start_time": "2021-07-06T08:08:06.273Z"
   },
   {
    "duration": 2,
    "start_time": "2021-07-06T08:08:06.662Z"
   },
   {
    "duration": 12,
    "start_time": "2021-07-06T08:08:07.425Z"
   },
   {
    "duration": 4,
    "start_time": "2021-07-06T08:08:14.297Z"
   },
   {
    "duration": 8,
    "start_time": "2021-07-06T08:08:17.972Z"
   },
   {
    "duration": 3,
    "start_time": "2021-07-06T08:08:18.171Z"
   },
   {
    "duration": 897,
    "start_time": "2021-07-06T08:08:24.551Z"
   },
   {
    "duration": 301,
    "start_time": "2021-07-06T08:08:33.504Z"
   },
   {
    "duration": 2,
    "start_time": "2021-07-06T08:08:50.367Z"
   },
   {
    "duration": 187508,
    "start_time": "2021-07-06T08:08:50.991Z"
   },
   {
    "duration": 3,
    "start_time": "2021-07-06T08:15:27.104Z"
   },
   {
    "duration": 14,
    "start_time": "2021-07-06T08:15:28.203Z"
   },
   {
    "duration": 20,
    "start_time": "2021-07-06T08:15:29.678Z"
   },
   {
    "duration": 255,
    "start_time": "2021-07-06T08:15:37.440Z"
   },
   {
    "duration": 16,
    "start_time": "2021-07-06T08:15:58.328Z"
   },
   {
    "duration": 8,
    "start_time": "2021-07-06T08:16:58.163Z"
   },
   {
    "duration": 151,
    "start_time": "2021-07-06T08:17:14.187Z"
   },
   {
    "duration": 1306,
    "start_time": "2021-07-07T16:25:29.495Z"
   },
   {
    "duration": -103,
    "start_time": "2021-07-07T16:25:30.908Z"
   },
   {
    "duration": -123,
    "start_time": "2021-07-07T16:25:30.928Z"
   },
   {
    "duration": -144,
    "start_time": "2021-07-07T16:25:30.950Z"
   },
   {
    "duration": -164,
    "start_time": "2021-07-07T16:25:30.971Z"
   },
   {
    "duration": -183,
    "start_time": "2021-07-07T16:25:30.991Z"
   },
   {
    "duration": -206,
    "start_time": "2021-07-07T16:25:31.015Z"
   },
   {
    "duration": -332,
    "start_time": "2021-07-07T16:25:31.141Z"
   },
   {
    "duration": -351,
    "start_time": "2021-07-07T16:25:31.161Z"
   },
   {
    "duration": -372,
    "start_time": "2021-07-07T16:25:31.183Z"
   },
   {
    "duration": -386,
    "start_time": "2021-07-07T16:25:31.198Z"
   },
   {
    "duration": -396,
    "start_time": "2021-07-07T16:25:31.208Z"
   },
   {
    "duration": -413,
    "start_time": "2021-07-07T16:25:31.226Z"
   },
   {
    "duration": -429,
    "start_time": "2021-07-07T16:25:31.242Z"
   },
   {
    "duration": -443,
    "start_time": "2021-07-07T16:25:31.257Z"
   },
   {
    "duration": -468,
    "start_time": "2021-07-07T16:25:31.283Z"
   },
   {
    "duration": -490,
    "start_time": "2021-07-07T16:25:31.305Z"
   },
   {
    "duration": -505,
    "start_time": "2021-07-07T16:25:31.321Z"
   },
   {
    "duration": -520,
    "start_time": "2021-07-07T16:25:31.337Z"
   },
   {
    "duration": -534,
    "start_time": "2021-07-07T16:25:31.351Z"
   },
   {
    "duration": -547,
    "start_time": "2021-07-07T16:25:31.365Z"
   },
   {
    "duration": -556,
    "start_time": "2021-07-07T16:25:31.375Z"
   },
   {
    "duration": -570,
    "start_time": "2021-07-07T16:25:31.389Z"
   },
   {
    "duration": -588,
    "start_time": "2021-07-07T16:25:31.408Z"
   },
   {
    "duration": -606,
    "start_time": "2021-07-07T16:25:31.427Z"
   },
   {
    "duration": -625,
    "start_time": "2021-07-07T16:25:31.447Z"
   },
   {
    "duration": -633,
    "start_time": "2021-07-07T16:25:31.456Z"
   },
   {
    "duration": -650,
    "start_time": "2021-07-07T16:25:31.473Z"
   },
   {
    "duration": -665,
    "start_time": "2021-07-07T16:25:31.489Z"
   },
   {
    "duration": -682,
    "start_time": "2021-07-07T16:25:31.507Z"
   },
   {
    "duration": -701,
    "start_time": "2021-07-07T16:25:31.527Z"
   },
   {
    "duration": -833,
    "start_time": "2021-07-07T16:25:31.660Z"
   },
   {
    "duration": -860,
    "start_time": "2021-07-07T16:25:31.688Z"
   },
   {
    "duration": -881,
    "start_time": "2021-07-07T16:25:31.709Z"
   },
   {
    "duration": -901,
    "start_time": "2021-07-07T16:25:31.730Z"
   },
   {
    "duration": -924,
    "start_time": "2021-07-07T16:25:31.754Z"
   },
   {
    "duration": -949,
    "start_time": "2021-07-07T16:25:31.780Z"
   },
   {
    "duration": -968,
    "start_time": "2021-07-07T16:25:31.800Z"
   },
   {
    "duration": -991,
    "start_time": "2021-07-07T16:25:31.823Z"
   },
   {
    "duration": -1010,
    "start_time": "2021-07-07T16:25:31.843Z"
   },
   {
    "duration": -1035,
    "start_time": "2021-07-07T16:25:31.869Z"
   },
   {
    "duration": -1054,
    "start_time": "2021-07-07T16:25:31.889Z"
   },
   {
    "duration": -1076,
    "start_time": "2021-07-07T16:25:31.912Z"
   },
   {
    "duration": -1096,
    "start_time": "2021-07-07T16:25:31.933Z"
   },
   {
    "duration": -1125,
    "start_time": "2021-07-07T16:25:31.963Z"
   },
   {
    "duration": -1148,
    "start_time": "2021-07-07T16:25:31.987Z"
   },
   {
    "duration": -1168,
    "start_time": "2021-07-07T16:25:32.008Z"
   },
   {
    "duration": -1183,
    "start_time": "2021-07-07T16:25:32.024Z"
   },
   {
    "duration": -1197,
    "start_time": "2021-07-07T16:25:32.039Z"
   },
   {
    "duration": -1210,
    "start_time": "2021-07-07T16:25:32.053Z"
   },
   {
    "duration": -1222,
    "start_time": "2021-07-07T16:25:32.068Z"
   },
   {
    "duration": -1239,
    "start_time": "2021-07-07T16:25:32.086Z"
   },
   {
    "duration": -1260,
    "start_time": "2021-07-07T16:25:32.108Z"
   },
   {
    "duration": -1272,
    "start_time": "2021-07-07T16:25:32.121Z"
   },
   {
    "duration": -1292,
    "start_time": "2021-07-07T16:25:32.142Z"
   },
   {
    "duration": -1310,
    "start_time": "2021-07-07T16:25:32.161Z"
   },
   {
    "duration": -1328,
    "start_time": "2021-07-07T16:25:32.180Z"
   },
   {
    "duration": -1339,
    "start_time": "2021-07-07T16:25:32.191Z"
   },
   {
    "duration": -1353,
    "start_time": "2021-07-07T16:25:32.206Z"
   },
   {
    "duration": -1371,
    "start_time": "2021-07-07T16:25:32.225Z"
   },
   {
    "duration": -1390,
    "start_time": "2021-07-07T16:25:32.245Z"
   },
   {
    "duration": -1409,
    "start_time": "2021-07-07T16:25:32.265Z"
   },
   {
    "duration": -1464,
    "start_time": "2021-07-07T16:25:32.321Z"
   },
   {
    "duration": -1479,
    "start_time": "2021-07-07T16:25:32.337Z"
   },
   {
    "duration": -1493,
    "start_time": "2021-07-07T16:25:32.352Z"
   },
   {
    "duration": -1512,
    "start_time": "2021-07-07T16:25:32.372Z"
   },
   {
    "duration": -1533,
    "start_time": "2021-07-07T16:25:32.393Z"
   },
   {
    "duration": -1552,
    "start_time": "2021-07-07T16:25:32.413Z"
   },
   {
    "duration": -1570,
    "start_time": "2021-07-07T16:25:32.432Z"
   },
   {
    "duration": -1588,
    "start_time": "2021-07-07T16:25:32.451Z"
   },
   {
    "duration": -1606,
    "start_time": "2021-07-07T16:25:32.470Z"
   },
   {
    "duration": -1624,
    "start_time": "2021-07-07T16:25:32.489Z"
   },
   {
    "duration": -1644,
    "start_time": "2021-07-07T16:25:32.510Z"
   },
   {
    "duration": -1662,
    "start_time": "2021-07-07T16:25:32.528Z"
   },
   {
    "duration": -1675,
    "start_time": "2021-07-07T16:25:32.542Z"
   },
   {
    "duration": -1692,
    "start_time": "2021-07-07T16:25:32.560Z"
   },
   {
    "duration": -1715,
    "start_time": "2021-07-07T16:25:32.584Z"
   },
   {
    "duration": -1729,
    "start_time": "2021-07-07T16:25:32.599Z"
   },
   {
    "duration": -1748,
    "start_time": "2021-07-07T16:25:32.619Z"
   },
   {
    "duration": -1768,
    "start_time": "2021-07-07T16:25:32.640Z"
   },
   {
    "duration": 6239,
    "start_time": "2021-07-07T16:37:12.406Z"
   },
   {
    "duration": 1182,
    "start_time": "2021-07-07T16:37:18.647Z"
   },
   {
    "duration": 2629,
    "start_time": "2021-07-07T16:37:19.831Z"
   },
   {
    "duration": -239,
    "start_time": "2021-07-07T16:37:22.705Z"
   },
   {
    "duration": -258,
    "start_time": "2021-07-07T16:37:22.725Z"
   },
   {
    "duration": -275,
    "start_time": "2021-07-07T16:37:22.743Z"
   },
   {
    "duration": -294,
    "start_time": "2021-07-07T16:37:22.763Z"
   },
   {
    "duration": -324,
    "start_time": "2021-07-07T16:37:22.794Z"
   },
   {
    "duration": -344,
    "start_time": "2021-07-07T16:37:22.815Z"
   },
   {
    "duration": -363,
    "start_time": "2021-07-07T16:37:22.835Z"
   },
   {
    "duration": -381,
    "start_time": "2021-07-07T16:37:22.854Z"
   },
   {
    "duration": -400,
    "start_time": "2021-07-07T16:37:22.874Z"
   },
   {
    "duration": -418,
    "start_time": "2021-07-07T16:37:22.893Z"
   },
   {
    "duration": -437,
    "start_time": "2021-07-07T16:37:22.912Z"
   },
   {
    "duration": -453,
    "start_time": "2021-07-07T16:37:22.930Z"
   },
   {
    "duration": -471,
    "start_time": "2021-07-07T16:37:22.949Z"
   },
   {
    "duration": -490,
    "start_time": "2021-07-07T16:37:22.969Z"
   },
   {
    "duration": -501,
    "start_time": "2021-07-07T16:37:22.980Z"
   },
   {
    "duration": -508,
    "start_time": "2021-07-07T16:37:22.989Z"
   },
   {
    "duration": -622,
    "start_time": "2021-07-07T16:37:23.104Z"
   },
   {
    "duration": -641,
    "start_time": "2021-07-07T16:37:23.124Z"
   },
   {
    "duration": -657,
    "start_time": "2021-07-07T16:37:23.140Z"
   },
   {
    "duration": -669,
    "start_time": "2021-07-07T16:37:23.153Z"
   },
   {
    "duration": -685,
    "start_time": "2021-07-07T16:37:23.170Z"
   },
   {
    "duration": -703,
    "start_time": "2021-07-07T16:37:23.189Z"
   },
   {
    "duration": -721,
    "start_time": "2021-07-07T16:37:23.208Z"
   },
   {
    "duration": -739,
    "start_time": "2021-07-07T16:37:23.227Z"
   },
   {
    "duration": -759,
    "start_time": "2021-07-07T16:37:23.247Z"
   },
   {
    "duration": -777,
    "start_time": "2021-07-07T16:37:23.266Z"
   },
   {
    "duration": -794,
    "start_time": "2021-07-07T16:37:23.284Z"
   },
   {
    "duration": -807,
    "start_time": "2021-07-07T16:37:23.298Z"
   },
   {
    "duration": -826,
    "start_time": "2021-07-07T16:37:23.318Z"
   },
   {
    "duration": -835,
    "start_time": "2021-07-07T16:37:23.328Z"
   },
   {
    "duration": -853,
    "start_time": "2021-07-07T16:37:23.347Z"
   },
   {
    "duration": -878,
    "start_time": "2021-07-07T16:37:23.373Z"
   },
   {
    "duration": -893,
    "start_time": "2021-07-07T16:37:23.389Z"
   },
   {
    "duration": -910,
    "start_time": "2021-07-07T16:37:23.407Z"
   },
   {
    "duration": -921,
    "start_time": "2021-07-07T16:37:23.419Z"
   },
   {
    "duration": -934,
    "start_time": "2021-07-07T16:37:23.432Z"
   },
   {
    "duration": -944,
    "start_time": "2021-07-07T16:37:23.443Z"
   },
   {
    "duration": -956,
    "start_time": "2021-07-07T16:37:23.456Z"
   },
   {
    "duration": -973,
    "start_time": "2021-07-07T16:37:23.474Z"
   },
   {
    "duration": -990,
    "start_time": "2021-07-07T16:37:23.492Z"
   },
   {
    "duration": -1009,
    "start_time": "2021-07-07T16:37:23.511Z"
   },
   {
    "duration": -1028,
    "start_time": "2021-07-07T16:37:23.531Z"
   },
   {
    "duration": -1050,
    "start_time": "2021-07-07T16:37:23.553Z"
   },
   {
    "duration": -1027,
    "start_time": "2021-07-07T16:37:23.567Z"
   },
   {
    "duration": -1039,
    "start_time": "2021-07-07T16:37:23.580Z"
   },
   {
    "duration": -1056,
    "start_time": "2021-07-07T16:37:23.598Z"
   },
   {
    "duration": -1076,
    "start_time": "2021-07-07T16:37:23.619Z"
   },
   {
    "duration": -1089,
    "start_time": "2021-07-07T16:37:23.633Z"
   },
   {
    "duration": -1103,
    "start_time": "2021-07-07T16:37:23.647Z"
   },
   {
    "duration": -1119,
    "start_time": "2021-07-07T16:37:23.665Z"
   },
   {
    "duration": -1137,
    "start_time": "2021-07-07T16:37:23.684Z"
   },
   {
    "duration": -1148,
    "start_time": "2021-07-07T16:37:23.696Z"
   },
   {
    "duration": -1167,
    "start_time": "2021-07-07T16:37:23.715Z"
   },
   {
    "duration": -1184,
    "start_time": "2021-07-07T16:37:23.733Z"
   },
   {
    "duration": -1193,
    "start_time": "2021-07-07T16:37:23.743Z"
   },
   {
    "duration": -1206,
    "start_time": "2021-07-07T16:37:23.757Z"
   },
   {
    "duration": -1221,
    "start_time": "2021-07-07T16:37:23.773Z"
   },
   {
    "duration": -1233,
    "start_time": "2021-07-07T16:37:23.786Z"
   },
   {
    "duration": -1247,
    "start_time": "2021-07-07T16:37:23.800Z"
   },
   {
    "duration": -1258,
    "start_time": "2021-07-07T16:37:23.812Z"
   },
   {
    "duration": -1272,
    "start_time": "2021-07-07T16:37:23.827Z"
   },
   {
    "duration": -1285,
    "start_time": "2021-07-07T16:37:23.841Z"
   },
   {
    "duration": -1301,
    "start_time": "2021-07-07T16:37:23.858Z"
   },
   {
    "duration": -1317,
    "start_time": "2021-07-07T16:37:23.875Z"
   },
   {
    "duration": -1334,
    "start_time": "2021-07-07T16:37:23.892Z"
   },
   {
    "duration": -1348,
    "start_time": "2021-07-07T16:37:23.907Z"
   },
   {
    "duration": -1367,
    "start_time": "2021-07-07T16:37:23.927Z"
   },
   {
    "duration": -1382,
    "start_time": "2021-07-07T16:37:23.943Z"
   },
   {
    "duration": -1395,
    "start_time": "2021-07-07T16:37:23.957Z"
   },
   {
    "duration": -1411,
    "start_time": "2021-07-07T16:37:23.973Z"
   },
   {
    "duration": -1428,
    "start_time": "2021-07-07T16:37:23.991Z"
   },
   {
    "duration": -1443,
    "start_time": "2021-07-07T16:37:24.007Z"
   },
   {
    "duration": -1459,
    "start_time": "2021-07-07T16:37:24.024Z"
   },
   {
    "duration": -1474,
    "start_time": "2021-07-07T16:37:24.040Z"
   },
   {
    "duration": -1490,
    "start_time": "2021-07-07T16:37:24.057Z"
   },
   {
    "duration": -1507,
    "start_time": "2021-07-07T16:37:24.075Z"
   },
   {
    "duration": -1524,
    "start_time": "2021-07-07T16:37:24.093Z"
   },
   {
    "duration": -1539,
    "start_time": "2021-07-07T16:37:24.109Z"
   },
   {
    "duration": 3879,
    "start_time": "2021-07-07T17:28:10.698Z"
   },
   {
    "duration": 1053,
    "start_time": "2021-07-07T17:28:14.579Z"
   },
   {
    "duration": 2001,
    "start_time": "2021-07-07T17:28:15.634Z"
   },
   {
    "duration": -530,
    "start_time": "2021-07-07T17:28:18.170Z"
   },
   {
    "duration": -541,
    "start_time": "2021-07-07T17:28:18.182Z"
   },
   {
    "duration": -556,
    "start_time": "2021-07-07T17:28:18.198Z"
   },
   {
    "duration": -580,
    "start_time": "2021-07-07T17:28:18.223Z"
   },
   {
    "duration": -598,
    "start_time": "2021-07-07T17:28:18.242Z"
   },
   {
    "duration": -616,
    "start_time": "2021-07-07T17:28:18.261Z"
   },
   {
    "duration": -630,
    "start_time": "2021-07-07T17:28:18.275Z"
   },
   {
    "duration": -649,
    "start_time": "2021-07-07T17:28:18.295Z"
   },
   {
    "duration": -660,
    "start_time": "2021-07-07T17:28:18.307Z"
   },
   {
    "duration": -687,
    "start_time": "2021-07-07T17:28:18.335Z"
   },
   {
    "duration": -699,
    "start_time": "2021-07-07T17:28:18.348Z"
   },
   {
    "duration": -711,
    "start_time": "2021-07-07T17:28:18.361Z"
   },
   {
    "duration": -720,
    "start_time": "2021-07-07T17:28:18.370Z"
   },
   {
    "duration": -738,
    "start_time": "2021-07-07T17:28:18.389Z"
   },
   {
    "duration": -753,
    "start_time": "2021-07-07T17:28:18.405Z"
   },
   {
    "duration": -768,
    "start_time": "2021-07-07T17:28:18.421Z"
   },
   {
    "duration": -783,
    "start_time": "2021-07-07T17:28:18.437Z"
   },
   {
    "duration": -799,
    "start_time": "2021-07-07T17:28:18.453Z"
   },
   {
    "duration": -813,
    "start_time": "2021-07-07T17:28:18.468Z"
   },
   {
    "duration": -828,
    "start_time": "2021-07-07T17:28:18.484Z"
   },
   {
    "duration": -843,
    "start_time": "2021-07-07T17:28:18.500Z"
   },
   {
    "duration": -858,
    "start_time": "2021-07-07T17:28:18.516Z"
   },
   {
    "duration": -874,
    "start_time": "2021-07-07T17:28:18.532Z"
   },
   {
    "duration": -890,
    "start_time": "2021-07-07T17:28:18.549Z"
   },
   {
    "duration": -905,
    "start_time": "2021-07-07T17:28:18.565Z"
   },
   {
    "duration": -1047,
    "start_time": "2021-07-07T17:28:18.708Z"
   },
   {
    "duration": -1062,
    "start_time": "2021-07-07T17:28:18.724Z"
   },
   {
    "duration": -1072,
    "start_time": "2021-07-07T17:28:18.735Z"
   },
   {
    "duration": -1087,
    "start_time": "2021-07-07T17:28:18.750Z"
   },
   {
    "duration": -1101,
    "start_time": "2021-07-07T17:28:18.765Z"
   },
   {
    "duration": -1119,
    "start_time": "2021-07-07T17:28:18.784Z"
   },
   {
    "duration": -1142,
    "start_time": "2021-07-07T17:28:18.808Z"
   },
   {
    "duration": -1163,
    "start_time": "2021-07-07T17:28:18.830Z"
   },
   {
    "duration": -1189,
    "start_time": "2021-07-07T17:28:18.857Z"
   },
   {
    "duration": -1212,
    "start_time": "2021-07-07T17:28:18.880Z"
   },
   {
    "duration": -1237,
    "start_time": "2021-07-07T17:28:18.906Z"
   },
   {
    "duration": -1256,
    "start_time": "2021-07-07T17:28:18.926Z"
   },
   {
    "duration": -1266,
    "start_time": "2021-07-07T17:28:18.937Z"
   },
   {
    "duration": -1286,
    "start_time": "2021-07-07T17:28:18.958Z"
   },
   {
    "duration": -1308,
    "start_time": "2021-07-07T17:28:18.981Z"
   },
   {
    "duration": -1333,
    "start_time": "2021-07-07T17:28:19.006Z"
   },
   {
    "duration": -1349,
    "start_time": "2021-07-07T17:28:19.023Z"
   },
   {
    "duration": -1369,
    "start_time": "2021-07-07T17:28:19.044Z"
   },
   {
    "duration": -1379,
    "start_time": "2021-07-07T17:28:19.055Z"
   },
   {
    "duration": -1395,
    "start_time": "2021-07-07T17:28:19.072Z"
   },
   {
    "duration": -1412,
    "start_time": "2021-07-07T17:28:19.090Z"
   },
   {
    "duration": -1439,
    "start_time": "2021-07-07T17:28:19.118Z"
   },
   {
    "duration": -1448,
    "start_time": "2021-07-07T17:28:19.128Z"
   },
   {
    "duration": -1458,
    "start_time": "2021-07-07T17:28:19.139Z"
   },
   {
    "duration": -1475,
    "start_time": "2021-07-07T17:28:19.157Z"
   },
   {
    "duration": -1492,
    "start_time": "2021-07-07T17:28:19.174Z"
   },
   {
    "duration": -1517,
    "start_time": "2021-07-07T17:28:19.200Z"
   },
   {
    "duration": -1471,
    "start_time": "2021-07-07T17:28:19.211Z"
   },
   {
    "duration": -1481,
    "start_time": "2021-07-07T17:28:19.222Z"
   },
   {
    "duration": -1498,
    "start_time": "2021-07-07T17:28:19.240Z"
   },
   {
    "duration": -1515,
    "start_time": "2021-07-07T17:28:19.258Z"
   },
   {
    "duration": -1533,
    "start_time": "2021-07-07T17:28:19.277Z"
   },
   {
    "duration": -1542,
    "start_time": "2021-07-07T17:28:19.287Z"
   },
   {
    "duration": -1560,
    "start_time": "2021-07-07T17:28:19.306Z"
   },
   {
    "duration": -1577,
    "start_time": "2021-07-07T17:28:19.324Z"
   },
   {
    "duration": -1594,
    "start_time": "2021-07-07T17:28:19.342Z"
   },
   {
    "duration": -1618,
    "start_time": "2021-07-07T17:28:19.367Z"
   },
   {
    "duration": -1628,
    "start_time": "2021-07-07T17:28:19.377Z"
   },
   {
    "duration": -1639,
    "start_time": "2021-07-07T17:28:19.389Z"
   },
   {
    "duration": -1655,
    "start_time": "2021-07-07T17:28:19.406Z"
   },
   {
    "duration": -1672,
    "start_time": "2021-07-07T17:28:19.424Z"
   },
   {
    "duration": -1690,
    "start_time": "2021-07-07T17:28:19.443Z"
   },
   {
    "duration": -1701,
    "start_time": "2021-07-07T17:28:19.455Z"
   },
   {
    "duration": -1720,
    "start_time": "2021-07-07T17:28:19.475Z"
   },
   {
    "duration": -1744,
    "start_time": "2021-07-07T17:28:19.500Z"
   },
   {
    "duration": -1754,
    "start_time": "2021-07-07T17:28:19.511Z"
   },
   {
    "duration": -1765,
    "start_time": "2021-07-07T17:28:19.523Z"
   },
   {
    "duration": -1792,
    "start_time": "2021-07-07T17:28:19.550Z"
   },
   {
    "duration": -1800,
    "start_time": "2021-07-07T17:28:19.560Z"
   },
   {
    "duration": -1811,
    "start_time": "2021-07-07T17:28:19.571Z"
   },
   {
    "duration": -1828,
    "start_time": "2021-07-07T17:28:19.589Z"
   },
   {
    "duration": -1847,
    "start_time": "2021-07-07T17:28:19.609Z"
   },
   {
    "duration": -1857,
    "start_time": "2021-07-07T17:28:19.620Z"
   },
   {
    "duration": 1848,
    "start_time": "2021-07-07T17:29:02.280Z"
   }
  ],
  "kernelspec": {
   "display_name": "Python 3",
   "language": "python",
   "name": "python3"
  },
  "language_info": {
   "codemirror_mode": {
    "name": "ipython",
    "version": 3
   },
   "file_extension": ".py",
   "mimetype": "text/x-python",
   "name": "python",
   "nbconvert_exporter": "python",
   "pygments_lexer": "ipython3",
   "version": "3.8.5"
  },
  "toc": {
   "base_numbering": 1,
   "nav_menu": {},
   "number_sections": true,
   "sideBar": true,
   "skip_h1_title": true,
   "title_cell": "Table of Contents",
   "title_sidebar": "Contents",
   "toc_cell": false,
   "toc_position": {},
   "toc_section_display": true,
   "toc_window_display": false
  }
 },
 "nbformat": 4,
 "nbformat_minor": 5
}
