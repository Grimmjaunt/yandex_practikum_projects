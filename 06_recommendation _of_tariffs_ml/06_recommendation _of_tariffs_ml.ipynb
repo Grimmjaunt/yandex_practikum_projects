{
 "cells": [
  {
   "cell_type": "markdown",
   "metadata": {},
   "source": [
    "# Рекомендация тарифов"
   ]
  },
  {
   "cell_type": "markdown",
   "metadata": {},
   "source": [
    "В нашем распоряжении данные о поведении клиентов, которые уже перешли на эти один из двух тарифов \"*Смарт*\" и \"*Ультра*\" (из проекта курса «Статистический анализ данных»). Необходимо построить модель для задачи классификации, которая выберет подходящий новый тариф для абонентов, пользующихся старыми тарифами. \n",
    "\n",
    "Необходимо построить модель с максимально большим значением `accuracy` (доля правильных ответов должна составлять по крайней мере 0.75)."
   ]
  },
  {
   "cell_type": "markdown",
   "metadata": {},
   "source": [
    "## 1. Открытие и изучение файла"
   ]
  },
  {
   "cell_type": "code",
   "execution_count": null,
   "metadata": {},
   "outputs": [],
   "source": [
    "pip unistall pypiwin32"
   ]
  },
  {
   "cell_type": "markdown",
   "metadata": {},
   "source": [
    "Сперва импортируем все библиотеки, которые понадобятся нам в дальнейшей работе."
   ]
  },
  {
   "cell_type": "code",
   "execution_count": 1,
   "metadata": {},
   "outputs": [],
   "source": [
    "import pandas as pd\n",
    "from sklearn.tree import DecisionTreeClassifier\n",
    "from sklearn.ensemble import RandomForestClassifier\n",
    "from sklearn.linear_model import LogisticRegression\n",
    "from sklearn.model_selection import train_test_split as tts\n",
    "from sklearn.metrics import accuracy_score\n",
    "from sklearn.dummy import DummyClassifier\n",
    "from time import sleep\n",
    "from tqdm import trange\n",
    "from tqdm.notebook import tqdm"
   ]
  },
  {
   "cell_type": "markdown",
   "metadata": {},
   "source": [
    "Создадим датафрейм **cell_comm** (от англ. cellular communication - \"*сотовая связь*\") и поместим в него набор данных."
   ]
  },
  {
   "cell_type": "code",
   "execution_count": 2,
   "metadata": {},
   "outputs": [],
   "source": [
    "cell_comm = pd.read_csv('C:\\\\Users\\\\503so\\\\OneDrive\\\\Desktop\\\\praktikum-to-git\\\\06_users_behavior.csv')"
   ]
  },
  {
   "cell_type": "markdown",
   "metadata": {},
   "source": [
    "Запросим информацию о датафрейме."
   ]
  },
  {
   "cell_type": "code",
   "execution_count": 3,
   "metadata": {},
   "outputs": [
    {
     "name": "stdout",
     "output_type": "stream",
     "text": [
      "<class 'pandas.core.frame.DataFrame'>\n",
      "RangeIndex: 3214 entries, 0 to 3213\n",
      "Data columns (total 5 columns):\n",
      "calls       3214 non-null float64\n",
      "minutes     3214 non-null float64\n",
      "messages    3214 non-null float64\n",
      "mb_used     3214 non-null float64\n",
      "is_ultra    3214 non-null int64\n",
      "dtypes: float64(4), int64(1)\n",
      "memory usage: 125.7 KB\n"
     ]
    }
   ],
   "source": [
    "cell_comm.info()"
   ]
  },
  {
   "cell_type": "markdown",
   "metadata": {},
   "source": [
    "Также выведем первые 5 строк таблицы."
   ]
  },
  {
   "cell_type": "code",
   "execution_count": 4,
   "metadata": {},
   "outputs": [
    {
     "data": {
      "text/html": [
       "<div>\n",
       "<style scoped>\n",
       "    .dataframe tbody tr th:only-of-type {\n",
       "        vertical-align: middle;\n",
       "    }\n",
       "\n",
       "    .dataframe tbody tr th {\n",
       "        vertical-align: top;\n",
       "    }\n",
       "\n",
       "    .dataframe thead th {\n",
       "        text-align: right;\n",
       "    }\n",
       "</style>\n",
       "<table border=\"1\" class=\"dataframe\">\n",
       "  <thead>\n",
       "    <tr style=\"text-align: right;\">\n",
       "      <th></th>\n",
       "      <th>calls</th>\n",
       "      <th>minutes</th>\n",
       "      <th>messages</th>\n",
       "      <th>mb_used</th>\n",
       "      <th>is_ultra</th>\n",
       "    </tr>\n",
       "  </thead>\n",
       "  <tbody>\n",
       "    <tr>\n",
       "      <td>0</td>\n",
       "      <td>40.0</td>\n",
       "      <td>311.90</td>\n",
       "      <td>83.0</td>\n",
       "      <td>19915.42</td>\n",
       "      <td>0</td>\n",
       "    </tr>\n",
       "    <tr>\n",
       "      <td>1</td>\n",
       "      <td>85.0</td>\n",
       "      <td>516.75</td>\n",
       "      <td>56.0</td>\n",
       "      <td>22696.96</td>\n",
       "      <td>0</td>\n",
       "    </tr>\n",
       "    <tr>\n",
       "      <td>2</td>\n",
       "      <td>77.0</td>\n",
       "      <td>467.66</td>\n",
       "      <td>86.0</td>\n",
       "      <td>21060.45</td>\n",
       "      <td>0</td>\n",
       "    </tr>\n",
       "    <tr>\n",
       "      <td>3</td>\n",
       "      <td>106.0</td>\n",
       "      <td>745.53</td>\n",
       "      <td>81.0</td>\n",
       "      <td>8437.39</td>\n",
       "      <td>1</td>\n",
       "    </tr>\n",
       "    <tr>\n",
       "      <td>4</td>\n",
       "      <td>66.0</td>\n",
       "      <td>418.74</td>\n",
       "      <td>1.0</td>\n",
       "      <td>14502.75</td>\n",
       "      <td>0</td>\n",
       "    </tr>\n",
       "  </tbody>\n",
       "</table>\n",
       "</div>"
      ],
      "text/plain": [
       "   calls  minutes  messages   mb_used  is_ultra\n",
       "0   40.0   311.90      83.0  19915.42         0\n",
       "1   85.0   516.75      56.0  22696.96         0\n",
       "2   77.0   467.66      86.0  21060.45         0\n",
       "3  106.0   745.53      81.0   8437.39         1\n",
       "4   66.0   418.74       1.0  14502.75         0"
      ]
     },
     "execution_count": 4,
     "metadata": {},
     "output_type": "execute_result"
    }
   ],
   "source": [
    "cell_comm.head()"
   ]
  },
  {
   "cell_type": "markdown",
   "metadata": {},
   "source": [
    "Датафрейм содержит 3214 строк и 5 столбцов:\n",
    "   - сalls — количество звонков,\n",
    "   - minutes — суммарная длительность звонков в минутах,\n",
    "   - messages — количество sms-сообщений,\n",
    "   - mb_used — израсходованный интернет-трафик в Мб,\n",
    "   - is_ultra — каким тарифом пользовался в течение месяца («Ультра» — 1, «Смарт» — 0)."
   ]
  },
  {
   "cell_type": "markdown",
   "metadata": {},
   "source": [
    "Проверим датафрейм на наличие в нем дубликатов."
   ]
  },
  {
   "cell_type": "code",
   "execution_count": 6,
   "metadata": {},
   "outputs": [
    {
     "data": {
      "text/plain": [
       "0"
      ]
     },
     "execution_count": 6,
     "metadata": {},
     "output_type": "execute_result"
    }
   ],
   "source": [
    "cell_comm.duplicated().sum()"
   ]
  },
  {
   "cell_type": "markdown",
   "metadata": {},
   "source": [
    "Дубликаты отсутствуют.\n",
    "\n",
    "\n",
    "В типах данных также нет ошибок, однако можно привести показатели количества к целочисленному значению."
   ]
  },
  {
   "cell_type": "code",
   "execution_count": 7,
   "metadata": {},
   "outputs": [],
   "source": [
    "cell_comm[['calls', 'messages']] = cell_comm[['calls', 'messages']].astype(int)"
   ]
  },
  {
   "cell_type": "markdown",
   "metadata": {},
   "source": [
    "Также взглянем на описание статистик датафрейма."
   ]
  },
  {
   "cell_type": "code",
   "execution_count": 8,
   "metadata": {},
   "outputs": [
    {
     "data": {
      "text/html": [
       "<div>\n",
       "<style scoped>\n",
       "    .dataframe tbody tr th:only-of-type {\n",
       "        vertical-align: middle;\n",
       "    }\n",
       "\n",
       "    .dataframe tbody tr th {\n",
       "        vertical-align: top;\n",
       "    }\n",
       "\n",
       "    .dataframe thead th {\n",
       "        text-align: right;\n",
       "    }\n",
       "</style>\n",
       "<table border=\"1\" class=\"dataframe\">\n",
       "  <thead>\n",
       "    <tr style=\"text-align: right;\">\n",
       "      <th></th>\n",
       "      <th>calls</th>\n",
       "      <th>minutes</th>\n",
       "      <th>messages</th>\n",
       "      <th>mb_used</th>\n",
       "      <th>is_ultra</th>\n",
       "    </tr>\n",
       "  </thead>\n",
       "  <tbody>\n",
       "    <tr>\n",
       "      <td>count</td>\n",
       "      <td>3214.000000</td>\n",
       "      <td>3214.000000</td>\n",
       "      <td>3214.000000</td>\n",
       "      <td>3214.000000</td>\n",
       "      <td>3214.000000</td>\n",
       "    </tr>\n",
       "    <tr>\n",
       "      <td>mean</td>\n",
       "      <td>63.038892</td>\n",
       "      <td>438.208787</td>\n",
       "      <td>38.281269</td>\n",
       "      <td>17207.673836</td>\n",
       "      <td>0.306472</td>\n",
       "    </tr>\n",
       "    <tr>\n",
       "      <td>std</td>\n",
       "      <td>33.236368</td>\n",
       "      <td>234.569872</td>\n",
       "      <td>36.148326</td>\n",
       "      <td>7570.968246</td>\n",
       "      <td>0.461100</td>\n",
       "    </tr>\n",
       "    <tr>\n",
       "      <td>min</td>\n",
       "      <td>0.000000</td>\n",
       "      <td>0.000000</td>\n",
       "      <td>0.000000</td>\n",
       "      <td>0.000000</td>\n",
       "      <td>0.000000</td>\n",
       "    </tr>\n",
       "    <tr>\n",
       "      <td>25%</td>\n",
       "      <td>40.000000</td>\n",
       "      <td>274.575000</td>\n",
       "      <td>9.000000</td>\n",
       "      <td>12491.902500</td>\n",
       "      <td>0.000000</td>\n",
       "    </tr>\n",
       "    <tr>\n",
       "      <td>50%</td>\n",
       "      <td>62.000000</td>\n",
       "      <td>430.600000</td>\n",
       "      <td>30.000000</td>\n",
       "      <td>16943.235000</td>\n",
       "      <td>0.000000</td>\n",
       "    </tr>\n",
       "    <tr>\n",
       "      <td>75%</td>\n",
       "      <td>82.000000</td>\n",
       "      <td>571.927500</td>\n",
       "      <td>57.000000</td>\n",
       "      <td>21424.700000</td>\n",
       "      <td>1.000000</td>\n",
       "    </tr>\n",
       "    <tr>\n",
       "      <td>max</td>\n",
       "      <td>244.000000</td>\n",
       "      <td>1632.060000</td>\n",
       "      <td>224.000000</td>\n",
       "      <td>49745.730000</td>\n",
       "      <td>1.000000</td>\n",
       "    </tr>\n",
       "  </tbody>\n",
       "</table>\n",
       "</div>"
      ],
      "text/plain": [
       "             calls      minutes     messages       mb_used     is_ultra\n",
       "count  3214.000000  3214.000000  3214.000000   3214.000000  3214.000000\n",
       "mean     63.038892   438.208787    38.281269  17207.673836     0.306472\n",
       "std      33.236368   234.569872    36.148326   7570.968246     0.461100\n",
       "min       0.000000     0.000000     0.000000      0.000000     0.000000\n",
       "25%      40.000000   274.575000     9.000000  12491.902500     0.000000\n",
       "50%      62.000000   430.600000    30.000000  16943.235000     0.000000\n",
       "75%      82.000000   571.927500    57.000000  21424.700000     1.000000\n",
       "max     244.000000  1632.060000   224.000000  49745.730000     1.000000"
      ]
     },
     "execution_count": 8,
     "metadata": {},
     "output_type": "execute_result"
    }
   ],
   "source": [
    "cell_comm.describe()"
   ]
  },
  {
   "cell_type": "markdown",
   "metadata": {},
   "source": [
    "<a id='1'></a>Посмотрим на распределение значений целевого параметра в общей выборке: **2229** значений **\"0\"** и **985 \"1\"**. Т.е. значение **\"1\"** составляет всего чуть больше **30%** всех значений целевого признака. При дальнейшем разделении имеет смысл воспользоваться параметром `stratify` для сохранения пропорции вариантов значений целевого параметра во всех выборках, полученных путем разделения. "
   ]
  },
  {
   "cell_type": "code",
   "execution_count": 9,
   "metadata": {},
   "outputs": [
    {
     "name": "stdout",
     "output_type": "stream",
     "text": [
      "0    2229\n",
      "1     985\n",
      "Name: is_ultra, dtype: int64\n",
      "30.647168637212197%\n"
     ]
    }
   ],
   "source": [
    "print(cell_comm['is_ultra'].value_counts())\n",
    "print(str(985 * 100 / (2229 + 985)) + '%')"
   ]
  },
  {
   "cell_type": "markdown",
   "metadata": {},
   "source": [
    "Ничего не \"бросается в глаза\".\n",
    "\n",
    "\n",
    "Итак, в изучаемом датасете отсутствуют пропуски и дубликаты. Данные приведены к корректным типам. Можно приступать к дальнейшей работе."
   ]
  },
  {
   "cell_type": "markdown",
   "metadata": {},
   "source": [
    "## 2. Разбиение данных на выборки"
   ]
  },
  {
   "cell_type": "markdown",
   "metadata": {},
   "source": [
    "Разделим наш датафрейм на две переменные: **features** - изменяемые признаки и **target** - целевой признак."
   ]
  },
  {
   "cell_type": "code",
   "execution_count": 10,
   "metadata": {},
   "outputs": [],
   "source": [
    "features = cell_comm.drop(['is_ultra'], axis=1)\n",
    "target = cell_comm['is_ultra']"
   ]
  },
  {
   "cell_type": "markdown",
   "metadata": {},
   "source": [
    "Запишем в переменную **rs** значение *777*, которое в дальнейших манипуляциях будем использовать в качестве значения атрибута `random_state`."
   ]
  },
  {
   "cell_type": "code",
   "execution_count": 11,
   "metadata": {},
   "outputs": [],
   "source": [
    "rs = 777"
   ]
  },
  {
   "cell_type": "markdown",
   "metadata": {},
   "source": [
    "Разделим полученные переменные на 3 части каждую: тренировочная выборка `_train`, валидационная выборка `_valid` и тестовая выборка `_test` в соотношении **60:20:20**."
   ]
  },
  {
   "cell_type": "code",
   "execution_count": 12,
   "metadata": {},
   "outputs": [],
   "source": [
    "features_train, features_new, target_train, target_new = tts(features, target, test_size=.4,\n",
    "                                                                random_state=rs, stratify=target)\n",
    "features_valid, features_test, target_valid, target_test = tts(features_new, target_new,\n",
    "                                                              test_size=.5, random_state=rs,\n",
    "                                                              stratify=target_new)"
   ]
  },
  {
   "cell_type": "markdown",
   "metadata": {},
   "source": [
    "Присвоим всем полученным в результате выполнения предыдущей операции датафреймам соответствующие имена."
   ]
  },
  {
   "cell_type": "code",
   "execution_count": 13,
   "metadata": {},
   "outputs": [],
   "source": [
    "features_train.name = 'features_train'\n",
    "features_valid.name = 'features_valid'\n",
    "features_test.name = 'features_test'\n",
    "target_train.name = 'target_train'\n",
    "target_valid.name = 'target_valid'\n",
    "target_test.name = 'target_test'"
   ]
  },
  {
   "cell_type": "markdown",
   "metadata": {},
   "source": [
    "Выведем на экран размерности всех полученных новых датафреймов (переменных, служащих для обучения модели, валидации и проверки результата).\n",
    "\n",
    "Дополнительно выведем размерность исходного датафрейма."
   ]
  },
  {
   "cell_type": "code",
   "execution_count": 14,
   "metadata": {},
   "outputs": [
    {
     "name": "stdout",
     "output_type": "stream",
     "text": [
      "cell_comm: (3214, 5)\n",
      "features: (3214, 4)\n",
      "target: (3214,)\n",
      "features_train (1928, 4)\n",
      "target_train (1928,)\n",
      "features_valid (643, 4)\n",
      "target_valid (643,)\n",
      "features_test (643, 4)\n",
      "target_test (643,)\n"
     ]
    }
   ],
   "source": [
    "data = [features_train, target_train, features_valid, target_valid,\n",
    "       features_test, target_test]\n",
    "print('cell_comm:', cell_comm.shape)\n",
    "print('features:', features.shape)\n",
    "print('target:', target.shape)\n",
    "\n",
    "for i in data:\n",
    "    print(i.name, i.shape)"
   ]
  },
  {
   "cell_type": "markdown",
   "metadata": {},
   "source": [
    "Нам доступна выборка из 3214 строк и 5 столбцов.\n",
    "Сперва мы разбили исходный датасет на признаки-переменные **features** и целевой признак **target**. Далее разделили генеральную выборку на обучающую (тренировочный набор данных) `_train` и проверочную `_new` в соотношении **60:40**. После чего проверочную выборку разделили в соотношении **50:50** на валидационную `_valid` и тестовую `_test`.\n",
    "\n",
    "Таким образом мы получили разбивку данных на **3 выборки**: `_train`, `_valid` и `_test` в соотношении **60:20:20**. Выпоним простейшую проверку:"
   ]
  },
  {
   "cell_type": "code",
   "execution_count": 15,
   "metadata": {},
   "outputs": [
    {
     "name": "stdout",
     "output_type": "stream",
     "text": [
      "1928.3999999999999\n",
      "642.8000000000001\n"
     ]
    }
   ],
   "source": [
    "print(features.shape[0] * 0.6)\n",
    "print(features.shape[0] * 0.2)"
   ]
  },
  {
   "cell_type": "markdown",
   "metadata": {},
   "source": [
    "Все совпало, тренировочная выборка содержит 1928 объектов, валидационная и тестовая выборки - по 643 объекта."
   ]
  },
  {
   "cell_type": "markdown",
   "metadata": {},
   "source": [
    "## 3. Исследование моделей"
   ]
  },
  {
   "cell_type": "markdown",
   "metadata": {},
   "source": [
    "### 3.1. Обучение модели \"дерево решений\""
   ]
  },
  {
   "cell_type": "code",
   "execution_count": 16,
   "metadata": {},
   "outputs": [
    {
     "name": "stdout",
     "output_type": "stream",
     "text": [
      "Оптимальная глубина дерева: 9\n",
      "Лучший результат accuracy: 0.7869362363919129\n"
     ]
    }
   ],
   "source": [
    "best_depth = 0\n",
    "best_result = 0\n",
    "# через цикл зададим значением аргумента максимальной глубины дерева диапазон от 1 до 10\n",
    "for depth in range(1, 11):\n",
    "    model_tree = DecisionTreeClassifier(max_depth=depth, random_state=rs)\n",
    "    model_tree.fit(features_train, target_train)\n",
    "    predictions_valid = model_tree.predict(features_valid)\n",
    "    result = accuracy_score(target_valid, predictions_valid)\n",
    "    # выявим наилучшую величину глубины\n",
    "    if result > best_result:\n",
    "        best_depth = depth\n",
    "        best_result = result\n",
    "        \n",
    "print('Оптимальная глубина дерева:', best_depth)\n",
    "print('Лучший результат accuracy:', best_result)"
   ]
  },
  {
   "cell_type": "markdown",
   "metadata": {},
   "source": [
    "<hr style=\"border: 2px solid orange;\" />"
   ]
  },
  {
   "cell_type": "markdown",
   "metadata": {},
   "source": [
    "### 3.2. Обучение модели \"случайный лес\""
   ]
  },
  {
   "cell_type": "code",
   "execution_count": 18,
   "metadata": {},
   "outputs": [
    {
     "data": {
      "application/vnd.jupyter.widget-view+json": {
       "model_id": "",
       "version_major": 2,
       "version_minor": 0
      },
      "text/plain": [
       "HBox(children=(FloatProgress(value=0.0, max=5.0), HTML(value='')))"
      ]
     },
     "metadata": {},
     "output_type": "display_data"
    },
    {
     "data": {
      "application/vnd.jupyter.widget-view+json": {
       "model_id": "",
       "version_major": 2,
       "version_minor": 0
      },
      "text/plain": [
       "HBox(children=(FloatProgress(value=0.0, max=5.0), HTML(value='')))"
      ]
     },
     "metadata": {},
     "output_type": "display_data"
    },
    {
     "data": {
      "application/vnd.jupyter.widget-view+json": {
       "model_id": "",
       "version_major": 2,
       "version_minor": 0
      },
      "text/plain": [
       "HBox(children=(FloatProgress(value=0.0, max=5.0), HTML(value='')))"
      ]
     },
     "metadata": {},
     "output_type": "display_data"
    },
    {
     "data": {
      "application/vnd.jupyter.widget-view+json": {
       "model_id": "",
       "version_major": 2,
       "version_minor": 0
      },
      "text/plain": [
       "HBox(children=(FloatProgress(value=0.0, max=5.0), HTML(value='')))"
      ]
     },
     "metadata": {},
     "output_type": "display_data"
    },
    {
     "data": {
      "application/vnd.jupyter.widget-view+json": {
       "model_id": "",
       "version_major": 2,
       "version_minor": 0
      },
      "text/plain": [
       "HBox(children=(FloatProgress(value=0.0, max=5.0), HTML(value='')))"
      ]
     },
     "metadata": {},
     "output_type": "display_data"
    },
    {
     "data": {
      "application/vnd.jupyter.widget-view+json": {
       "model_id": "",
       "version_major": 2,
       "version_minor": 0
      },
      "text/plain": [
       "HBox(children=(FloatProgress(value=0.0, max=5.0), HTML(value='')))"
      ]
     },
     "metadata": {},
     "output_type": "display_data"
    },
    {
     "data": {
      "application/vnd.jupyter.widget-view+json": {
       "model_id": "",
       "version_major": 2,
       "version_minor": 0
      },
      "text/plain": [
       "HBox(children=(FloatProgress(value=0.0, max=5.0), HTML(value='')))"
      ]
     },
     "metadata": {},
     "output_type": "display_data"
    },
    {
     "data": {
      "application/vnd.jupyter.widget-view+json": {
       "model_id": "",
       "version_major": 2,
       "version_minor": 0
      },
      "text/plain": [
       "HBox(children=(FloatProgress(value=0.0, max=5.0), HTML(value='')))"
      ]
     },
     "metadata": {},
     "output_type": "display_data"
    },
    {
     "data": {
      "application/vnd.jupyter.widget-view+json": {
       "model_id": "",
       "version_major": 2,
       "version_minor": 0
      },
      "text/plain": [
       "HBox(children=(FloatProgress(value=0.0, max=5.0), HTML(value='')))"
      ]
     },
     "metadata": {},
     "output_type": "display_data"
    },
    {
     "data": {
      "application/vnd.jupyter.widget-view+json": {
       "model_id": "",
       "version_major": 2,
       "version_minor": 0
      },
      "text/plain": [
       "HBox(children=(FloatProgress(value=0.0, max=5.0), HTML(value='')))"
      ]
     },
     "metadata": {},
     "output_type": "display_data"
    }
   ],
   "source": [
    "best_depth = 0\n",
    "best_est = 0\n",
    "best_result = 0\n",
    "# через цикл зададим значением аргумента количества оценщиков (деревьев) диапазон от 5 до 100\n",
    "for est in range(5, 100, 10):                                                        #шаг 10\n",
    "    # через цикл зададим значением аргумента максимальной глубины дерева диапазон от 1 до 5\n",
    "    for depth in tqdm(range(1, 6), leave=False):\n",
    "        model_forest = RandomForestClassifier(max_depth=depth, n_estimators=est,\n",
    "                                             random_state=rs)\n",
    "        model_forest.fit(features_train, target_train)\n",
    "        predictions_valid = model_forest.predict(features_valid)\n",
    "        result = accuracy_score(target_valid, predictions_valid)\n",
    "        # выявим наилучшую величину глубины дерева и количества оценщиков (деревьев)\n",
    "        if result > best_result:\n",
    "            best_depth = depth\n",
    "            best_est = est\n",
    "            best_result = result"
   ]
  },
  {
   "cell_type": "code",
   "execution_count": 19,
   "metadata": {},
   "outputs": [
    {
     "name": "stdout",
     "output_type": "stream",
     "text": [
      "Оптимальная глубина дерева: 5\n",
      "Оптимальное количество деревьев: 35\n",
      "Лучший результат accuracy: 0.7962674961119751\n"
     ]
    }
   ],
   "source": [
    "print('Оптимальная глубина дерева:', best_depth)\n",
    "print('Оптимальное количество деревьев:', best_est)\n",
    "print('Лучший результат accuracy:', best_result)"
   ]
  },
  {
   "cell_type": "markdown",
   "metadata": {},
   "source": [
    "### 3.2. Обучение модели \"логистическая регрессия\""
   ]
  },
  {
   "cell_type": "code",
   "execution_count": 20,
   "metadata": {},
   "outputs": [
    {
     "name": "stdout",
     "output_type": "stream",
     "text": [
      "Результат accuracy: 0.6982892690513219\n"
     ]
    }
   ],
   "source": [
    "model_logistic = LogisticRegression(random_state=rs, solver='liblinear')\n",
    "model_logistic.fit(features_train, target_train)\n",
    "predictions_valid = model_logistic.predict(features_valid)\n",
    "result = accuracy_score(target_valid, predictions_valid)\n",
    "\n",
    "print('Результат accuracy:', result)"
   ]
  },
  {
   "cell_type": "markdown",
   "metadata": {},
   "source": [
    "Соберем полученные результаты вместе."
   ]
  },
  {
   "cell_type": "code",
   "execution_count": 21,
   "metadata": {},
   "outputs": [
    {
     "name": "stdout",
     "output_type": "stream",
     "text": [
      "Результаты на валидационной выборке:\n",
      "\n",
      "Дерево решений: 0.8025\n",
      "Случайный лес: 0.8025\n",
      "Логистическая регрессия: 0.7185\n"
     ]
    }
   ],
   "source": [
    "print('Результаты на валидационной выборке:')\n",
    "print()\n",
    "print('Дерево решений:', 0.79)\n",
    "print('Случайный лес:', 0.79)\n",
    "print('Логистическая регрессия:', 0.70)"
   ]
  },
  {
   "cell_type": "markdown",
   "metadata": {},
   "source": [
    "Как мы видим, результаты **\"случайного леса\"** и **\"дерева решений\"** оказались равны **0.79**. Глубина **\"дерева решений\"** при этом составила **9** уровней, а **\"случайный лес\"** включает в себя **35 деревьев с глубиной 5**. У **\"логистической регрессии\"** лучший результат - **0.70**."
   ]
  },
  {
   "cell_type": "markdown",
   "metadata": {},
   "source": [
    "## 4. Проверка моделей на тестовой выборке"
   ]
  },
  {
   "cell_type": "markdown",
   "metadata": {},
   "source": [
    "Для проверки моделей на тестовой выборке сперва объединим тренировочную и валидационную выборки воедино."
   ]
  },
  {
   "cell_type": "code",
   "execution_count": 22,
   "metadata": {},
   "outputs": [],
   "source": [
    "features_train_valid = pd.concat([features_train, features_valid])\n",
    "target_train_valid = pd.concat([target_train, target_valid])"
   ]
  },
  {
   "cell_type": "markdown",
   "metadata": {},
   "source": [
    "Выведем на экран размер обновленных выборок `features_train` и `target_train`, выполним проверку по моделям, обученным на выборке `_train` и отдельно по моделям, лбученным на `_train_valid`."
   ]
  },
  {
   "cell_type": "code",
   "execution_count": 23,
   "metadata": {},
   "outputs": [
    {
     "name": "stdout",
     "output_type": "stream",
     "text": [
      "features_train_valid: (2571, 4)\n",
      "target_train_valid: (2571,)\n",
      "2571.2000000000003\n"
     ]
    }
   ],
   "source": [
    "print('features_train_valid:', features_train_valid.shape)\n",
    "print('target_train_valid:', target_train_valid.shape)\n",
    "print(features.shape[0] * 0.8)"
   ]
  },
  {
   "cell_type": "markdown",
   "metadata": {},
   "source": [
    "### 4.1. Проверка моделей, обученных на изначальной выборке `_train`"
   ]
  },
  {
   "cell_type": "code",
   "execution_count": 24,
   "metadata": {},
   "outputs": [
    {
     "name": "stdout",
     "output_type": "stream",
     "text": [
      "Результаты на тестовой выборке:\n",
      "\n",
      "Дерево решений: 0.7916018662519441\n",
      "Случайный лес: 0.8087091757387247\n",
      "Логистическая регрессия: 0.6998444790046656\n"
     ]
    }
   ],
   "source": [
    "# проверка модели \"дерево решений\"\n",
    "model_tree = DecisionTreeClassifier(max_depth=8, random_state=rs)\n",
    "model_tree.fit(features_train, target_train)\n",
    "predictions_test_tree = model_tree.predict(features_test)\n",
    "result_tree = accuracy_score(target_test, predictions_test_tree)\n",
    "\n",
    "# проверка модели \"случайный лес\" \n",
    "model_forest = RandomForestClassifier(max_depth=5, n_estimators=55,random_state=rs)\n",
    "model_forest.fit(features_train, target_train)\n",
    "predictions_test_forest = model_forest.predict(features_test)\n",
    "result_forest = accuracy_score(target_test, predictions_test_forest)\n",
    "\n",
    "# проверка модели \"логистическая регрессия\"\n",
    "model_logistic = LogisticRegression(random_state=rs, solver='liblinear')\n",
    "model_logistic.fit(features_train, target_train)\n",
    "predictions_test_logistic = model_logistic.predict(features_test)\n",
    "result_logistic = accuracy_score(target_test, predictions_test_logistic)\n",
    "\n",
    "print('Результаты на тестовой выборке:')\n",
    "print()\n",
    "print('Дерево решений:', result_tree)\n",
    "print('Случайный лес:', result_forest)\n",
    "print('Логистическая регрессия:', result_logistic)"
   ]
  },
  {
   "cell_type": "markdown",
   "metadata": {},
   "source": [
    "### 4.2. Проверка моделей, обученных на измененной выборке `_train_valid`"
   ]
  },
  {
   "cell_type": "code",
   "execution_count": 27,
   "metadata": {},
   "outputs": [
    {
     "name": "stdout",
     "output_type": "stream",
     "text": [
      "Результаты на тестовой выборке:\n",
      "\n",
      "Дерево решений: 0.8009331259720062\n",
      "Случайный лес: 0.8055987558320373\n",
      "Логистическая регрессия: 0.6982892690513219\n"
     ]
    }
   ],
   "source": [
    "# проверка модели \"дерево решений\"\n",
    "model_tree = DecisionTreeClassifier(max_depth=8, random_state=rs)\n",
    "model_tree.fit(features_train_valid, target_train_valid)\n",
    "predictions_test_tree = model_tree.predict(features_test)\n",
    "result_tree = accuracy_score(target_test, predictions_test_tree)\n",
    "\n",
    "# проверка модели \"случайный лес\" \n",
    "model_forest = RandomForestClassifier(max_depth=5, n_estimators=55,random_state=rs)\n",
    "model_forest.fit(features_train_valid, target_train_valid)\n",
    "predictions_test_forest = model_forest.predict(features_test)\n",
    "result_forest = accuracy_score(target_test, predictions_test_forest)\n",
    "\n",
    "# проверка модели \"логистическая регрессия\"\n",
    "model_logistic = LogisticRegression(random_state=rs, solver='liblinear')\n",
    "model_logistic.fit(features_train_valid, target_train_valid)\n",
    "predictions_test_logistic = model_logistic.predict(features_test)\n",
    "result_logistic = accuracy_score(target_test, predictions_test_logistic)\n",
    "\n",
    "print('Результаты на тестовой выборке:')\n",
    "print()\n",
    "print('Дерево решений:', result_tree)\n",
    "print('Случайный лес:', result_forest)\n",
    "print('Логистическая регрессия:', result_logistic)"
   ]
  },
  {
   "cell_type": "markdown",
   "metadata": {},
   "source": [
    "По итогам проверки на тестовой выборке лучший результат показала модель типа **\"случайный лес\"** с результатом **0.81** (для модели, обученной на расширенной выборке этот результат составляет **0.806**). **\"Дерево решений\"** , показавшее аналогичный победителю результат по валидационной выборке, на тестовой выборке показал `accuracy` всего **0.79** (и **0.8** для расширенной обучающей выборки). \n",
    "\n",
    "**\"Логистическая регрессия\"** в обоих случаях показала результат **0.7**."
   ]
  },
  {
   "cell_type": "markdown",
   "metadata": {},
   "source": [
    "По итогам проверки на тестовой выборке побеждает **\"случайный лес\"** с глубиной дерева `max_depth`, равной **5** и количеством наблюдателей **35**."
   ]
  },
  {
   "cell_type": "markdown",
   "metadata": {},
   "source": [
    "## 5. Проверка модели на адекватность"
   ]
  },
  {
   "cell_type": "markdown",
   "metadata": {},
   "source": [
    "Для проверки модели на адекватность воспользуемся фиктивным классификатором **DummyClassifier** с атрибутом `strategy = 'most_frequent'`. Т.е. результатом для каждого объекта будет наиболее часто встречающийся целевой признак."
   ]
  },
  {
   "cell_type": "code",
   "execution_count": 26,
   "metadata": {},
   "outputs": [
    {
     "name": "stdout",
     "output_type": "stream",
     "text": [
      "Результат по валидационной выборке: 0.6936236391912908\n",
      "Результат по тестовой выборке: 0.6936236391912908\n"
     ]
    }
   ],
   "source": [
    "model_dummy = DummyClassifier(strategy='most_frequent', random_state=rs)\n",
    "model_dummy.fit(features_train, target_train)\n",
    "predictions_valid_dummy = model_dummy.predict(features_valid)\n",
    "predictions_test_dummy = model_dummy.predict(features_test)\n",
    "result_valid_dummy = accuracy_score(target_valid, predictions_valid_dummy)\n",
    "result_test_dummy = accuracy_score(target_test, predictions_test_dummy)\n",
    "\n",
    "print('Результат по валидационной выборке:', result_valid_dummy)\n",
    "print('Результат по тестовой выборке:', result_test_dummy)"
   ]
  },
  {
   "cell_type": "markdown",
   "metadata": {},
   "source": [
    "Поскольку мы заполнили целевой признак наиболее часто встречающимся значением из 2 возможных, результат ожидаемо должен находиться в диапазоне **от 0.5 до 1.0**. Мы получили *по тестовой и валидацонной выборкам* значение `accuracy`, равное **0.69** при **0.81 для случайного леса** с оптимальными параметрами. Результаты по двум выборкам совпадают, поскольку в них одинаковое количество элементов, и соотношение значений целевого параметра выбрано пропорционально оному для общей выборки.\n",
    "\n",
    "Таким образом, можем заключить, что в нашем случае модель типа **\"случайный лес\"** является *адекватной задаче и оптимальной на фоне других возможных моделей*."
   ]
  },
  {
   "cell_type": "code",
   "execution_count": null,
   "metadata": {},
   "outputs": [],
   "source": []
  }
 ],
 "metadata": {
  "kernelspec": {
   "display_name": "Python 3",
   "language": "python",
   "name": "python3"
  },
  "language_info": {
   "codemirror_mode": {
    "name": "ipython",
    "version": 3
   },
   "file_extension": ".py",
   "mimetype": "text/x-python",
   "name": "python",
   "nbconvert_exporter": "python",
   "pygments_lexer": "ipython3",
   "version": "3.7.8"
  },
  "toc": {
   "base_numbering": 1,
   "nav_menu": {},
   "number_sections": true,
   "sideBar": true,
   "skip_h1_title": true,
   "title_cell": "Table of Contents",
   "title_sidebar": "Contents",
   "toc_cell": false,
   "toc_position": {},
   "toc_section_display": true,
   "toc_window_display": false
  }
 },
 "nbformat": 4,
 "nbformat_minor": 2
}
