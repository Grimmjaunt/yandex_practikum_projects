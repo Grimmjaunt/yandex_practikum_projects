{
 "cells": [
  {
   "cell_type": "markdown",
   "metadata": {},
   "source": [
    "## Выявление закономерностей, определяющих успешность продукта в отрасли видеоигр "
   ]
  },
  {
   "cell_type": "markdown",
   "metadata": {},
   "source": [
    "<img src='https://pbs.twimg.com/media/EESRZDrX4AIkmOi.jpg:large' alt='Nintendo / PlayStation / XBox / PC'>"
   ]
  },
  {
   "cell_type": "code",
   "execution_count": 1,
   "metadata": {},
   "outputs": [],
   "source": [
    "# установим библиотеку squarify для построения древовидных карт"
   ]
  },
  {
   "cell_type": "code",
   "execution_count": 2,
   "metadata": {},
   "outputs": [
    {
     "name": "stdout",
     "output_type": "stream",
     "text": [
      "Defaulting to user installation because normal site-packages is not writeable\n",
      "Requirement already satisfied: squarify in /home/jovyan/.local/lib/python3.7/site-packages (0.4.3)\n",
      "Note: you may need to restart the kernel to use updated packages.\n"
     ]
    }
   ],
   "source": [
    "pip install squarify"
   ]
  },
  {
   "cell_type": "code",
   "execution_count": 3,
   "metadata": {},
   "outputs": [],
   "source": [
    "import pandas as pd\n",
    "import matplotlib.pyplot as plt\n",
    "import squarify\n",
    "import numpy as np\n",
    "import seaborn as sns\n",
    "from scipy.stats import levene\n",
    "from scipy import stats as st"
   ]
  },
  {
   "cell_type": "markdown",
   "metadata": {},
   "source": [
    "0. **[Описание проекта](#1)**\n",
    "\n",
    "\n",
    "1. **[Открытие и описание данных](#2)**\n",
    "    * [Описание данных](#3)\n",
    "    * [Игровые платформы](#4)\n",
    "        * [Распределение игр по платформам]\n",
    "        * [Sony PlayStation]\n",
    "        * [Microsoft XBox]\n",
    "        * [Nintendo]\n",
    "        * [Другие платформы]\n",
    "    * [Игровые жанры](#5)\n",
    "    * [Возрастной рейтинг](#6)\n",
    "   \n",
    "    \n",
    "2. **[Предобработка данных](#7)**\n",
    "    * [Приведение названий столбцов к нижнему регистру](#8)\n",
    "    * [Изменение типов данных](#9)\n",
    "    * [Обработка пропусков](#10)\n",
    "         * [Пропуски в возрастном рейтинге]\n",
    "         * [Пропуски в названиях]\n",
    "         * [Оставшиеся пропуски]\n",
    "    * [Проверка на дубликаты](#11)\n",
    "    * [Приведение оценок к общей шкале](#12)\n",
    "    * [Расчет общего количества продаж](#13)\n",
    "    * [Категоризация данных](#14)\n",
    "         * [Категоризация платформ]\n",
    "         * [Устранение ошибок в категорриях возрастного рейтинга]\n",
    "   \n",
    "    \n",
    "3. **[Анализ данных](#15)**\n",
    "    * [Изменение рынка по годам](#16)\n",
    "    * [Изучение игровых платформ](#17)\n",
    "    * [Определение платформ с наибольшими суммарными показателями продаж](#18)\n",
    "    * [Изучение данных за актуальный период](#19)\n",
    "    * [Диаграмма размаха (\"ящик с усами\")](#20)\n",
    "    * [Влияния оценок на продажи](#21)\n",
    "    * [Распределение игр по жанрам](#22)\n",
    "    * [Вывод](#23)\n",
    "    \n",
    "    \n",
    "4. **[Портпет пользователей по регионам](#24)**\n",
    "    * [Топ 5 жанров](#25)\n",
    "    * [Лидеры популярности по жанрам среди игр](#025)\n",
    "    * [Топ 5 платформ](#26)    \n",
    "    * [Влияние рейтинга ESRB на продажи](#27) \n",
    "    * [Портрет геймера](#28) \n",
    "    \n",
    "    \n",
    "5. **[Проверка гипотез](#29)**\n",
    "    * [Гипотеза №1 \"О равенстве средних рейтингов игр для PC и XBox One\"](#30)\n",
    "    * [Гипотеза №2 \"О равенстве средних рейтингов игр жанров Action и Sports\"](#31)\n",
    "    \n",
    "\n",
    "6. **[Общий вывод](#32)**"
   ]
  },
  {
   "cell_type": "markdown",
   "metadata": {},
   "source": [
    "<div class=\"alert alert-success\">\n",
    "<h2> Комментарий от ревьюера</h2>\n",
    "\n",
    "Молодец, отличное оформление вводной части проекта. Здорово, что план выполнения ты сделал в виде удобной навигации.\n",
    "\n",
    "</div>"
   ]
  },
  {
   "cell_type": "markdown",
   "metadata": {},
   "source": [
    "### <a id=\"1\">0. Описание проекта</a>"
   ]
  },
  {
   "cell_type": "markdown",
   "metadata": {},
   "source": [
    "Мы работаем в интернет-магазине *«Стримчик»*, который продаёт по всему миру компьютерные и видеоигры. Из открытых источников доступны исторические данные о продажах игр, оценки пользователей и экспертов, жанры и платформы (например, **Xbox** или **PlayStation**). \n",
    "\n",
    "Нам нужно выявить определяющие успешность игры закономерности. Это позволит сделать ставку на потенциально популярный продукт и спланировать рекламные кампании нашего интернет-магазина.\n",
    "\n",
    "Представим, что сейчас декабрь 2016 г., и мы планируем кампанию на 2017-й год. Необходимо отработать принцип работы с данными, выделить закономерности и построить модель прогнозирования популярности тех или иных игр, исходя из их характеристик (платформа, жанр, возрастной рейтинг, оценки критиков, и т.п.)\n",
    "\n",
    "В процессе работы над проектом мы столкнемся с пропусками в данных, некорректными типами данных и неподходящими значениями для корректного типа, построим различные диаграммы распределений, размаха, отношения и рассеяния. Изучим различия игрового рынка по регионам: *северно-американскому, европейскому и японскому* и нарисуем портрет типичного геймера - представителя каждого из регионов. Выясним, какие игровые платформы и жанры пользуются наибольшей популярностью. В конце выдвинем и проверим пару гипотез.\n",
    "\n",
    "По ходу работы интересные мысли и результаты будем оформлять в виде небольших промежуточных выводов, в конце 3 раздела напишем обобщающий вывод по анализу данных, а 6 раздел полностью будет посвящен выводам о проделанной работе."
   ]
  },
  {
   "cell_type": "markdown",
   "metadata": {},
   "source": [
    "### <a id=\"2\">1. Открытие и изучение данных</a>"
   ]
  },
  {
   "cell_type": "code",
   "execution_count": 4,
   "metadata": {},
   "outputs": [],
   "source": [
    "games = pd.read_csv('C:\\\\Users\\\\503so\\\\OneDrive\\\\Desktop\\\\praktikum-to-git\\\\games.csv')"
   ]
  },
  {
   "cell_type": "code",
   "execution_count": 5,
   "metadata": {},
   "outputs": [
    {
     "data": {
      "text/html": [
       "<div>\n",
       "<style scoped>\n",
       "    .dataframe tbody tr th:only-of-type {\n",
       "        vertical-align: middle;\n",
       "    }\n",
       "\n",
       "    .dataframe tbody tr th {\n",
       "        vertical-align: top;\n",
       "    }\n",
       "\n",
       "    .dataframe thead th {\n",
       "        text-align: right;\n",
       "    }\n",
       "</style>\n",
       "<table border=\"1\" class=\"dataframe\">\n",
       "  <thead>\n",
       "    <tr style=\"text-align: right;\">\n",
       "      <th></th>\n",
       "      <th>Name</th>\n",
       "      <th>Platform</th>\n",
       "      <th>Year_of_Release</th>\n",
       "      <th>Genre</th>\n",
       "      <th>NA_sales</th>\n",
       "      <th>EU_sales</th>\n",
       "      <th>JP_sales</th>\n",
       "      <th>Other_sales</th>\n",
       "      <th>Critic_Score</th>\n",
       "      <th>User_Score</th>\n",
       "      <th>Rating</th>\n",
       "    </tr>\n",
       "  </thead>\n",
       "  <tbody>\n",
       "    <tr>\n",
       "      <td>0</td>\n",
       "      <td>Wii Sports</td>\n",
       "      <td>Wii</td>\n",
       "      <td>2006.0</td>\n",
       "      <td>Sports</td>\n",
       "      <td>41.36</td>\n",
       "      <td>28.96</td>\n",
       "      <td>3.77</td>\n",
       "      <td>8.45</td>\n",
       "      <td>76.0</td>\n",
       "      <td>8</td>\n",
       "      <td>E</td>\n",
       "    </tr>\n",
       "    <tr>\n",
       "      <td>1</td>\n",
       "      <td>Super Mario Bros.</td>\n",
       "      <td>NES</td>\n",
       "      <td>1985.0</td>\n",
       "      <td>Platform</td>\n",
       "      <td>29.08</td>\n",
       "      <td>3.58</td>\n",
       "      <td>6.81</td>\n",
       "      <td>0.77</td>\n",
       "      <td>NaN</td>\n",
       "      <td>NaN</td>\n",
       "      <td>NaN</td>\n",
       "    </tr>\n",
       "    <tr>\n",
       "      <td>2</td>\n",
       "      <td>Mario Kart Wii</td>\n",
       "      <td>Wii</td>\n",
       "      <td>2008.0</td>\n",
       "      <td>Racing</td>\n",
       "      <td>15.68</td>\n",
       "      <td>12.76</td>\n",
       "      <td>3.79</td>\n",
       "      <td>3.29</td>\n",
       "      <td>82.0</td>\n",
       "      <td>8.3</td>\n",
       "      <td>E</td>\n",
       "    </tr>\n",
       "    <tr>\n",
       "      <td>3</td>\n",
       "      <td>Wii Sports Resort</td>\n",
       "      <td>Wii</td>\n",
       "      <td>2009.0</td>\n",
       "      <td>Sports</td>\n",
       "      <td>15.61</td>\n",
       "      <td>10.93</td>\n",
       "      <td>3.28</td>\n",
       "      <td>2.95</td>\n",
       "      <td>80.0</td>\n",
       "      <td>8</td>\n",
       "      <td>E</td>\n",
       "    </tr>\n",
       "    <tr>\n",
       "      <td>4</td>\n",
       "      <td>Pokemon Red/Pokemon Blue</td>\n",
       "      <td>GB</td>\n",
       "      <td>1996.0</td>\n",
       "      <td>Role-Playing</td>\n",
       "      <td>11.27</td>\n",
       "      <td>8.89</td>\n",
       "      <td>10.22</td>\n",
       "      <td>1.00</td>\n",
       "      <td>NaN</td>\n",
       "      <td>NaN</td>\n",
       "      <td>NaN</td>\n",
       "    </tr>\n",
       "  </tbody>\n",
       "</table>\n",
       "</div>"
      ],
      "text/plain": [
       "                       Name Platform  Year_of_Release         Genre  NA_sales  \\\n",
       "0                Wii Sports      Wii           2006.0        Sports     41.36   \n",
       "1         Super Mario Bros.      NES           1985.0      Platform     29.08   \n",
       "2            Mario Kart Wii      Wii           2008.0        Racing     15.68   \n",
       "3         Wii Sports Resort      Wii           2009.0        Sports     15.61   \n",
       "4  Pokemon Red/Pokemon Blue       GB           1996.0  Role-Playing     11.27   \n",
       "\n",
       "   EU_sales  JP_sales  Other_sales  Critic_Score User_Score Rating  \n",
       "0     28.96      3.77         8.45          76.0          8      E  \n",
       "1      3.58      6.81         0.77           NaN        NaN    NaN  \n",
       "2     12.76      3.79         3.29          82.0        8.3      E  \n",
       "3     10.93      3.28         2.95          80.0          8      E  \n",
       "4      8.89     10.22         1.00           NaN        NaN    NaN  "
      ]
     },
     "execution_count": 5,
     "metadata": {},
     "output_type": "execute_result"
    }
   ],
   "source": [
    "games.head()"
   ]
  },
  {
   "cell_type": "markdown",
   "metadata": {},
   "source": [
    "### <a id=\"3\"> 1.1. Описание данных</a>"
   ]
  },
  {
   "cell_type": "markdown",
   "metadata": {},
   "source": [
    "    Name — название игры\n",
    "    Platform — платформа\n",
    "    Year_of_Release — год выпуска\n",
    "    Genre — жанр игры\n",
    "    NA_sales — продажи в Северной Америке (миллионы проданных копий)\n",
    "    EU_sales — продажи в Европе (миллионы проданных копий)\n",
    "    JP_sales — продажи в Японии (миллионы проданных копий)\n",
    "    Other_sales — продажи в других странах (миллионы проданных копий)\n",
    "    Critic_Score — оценка критиков (максимум 100)\n",
    "    User_Score — оценка пользователей (максимум 10)\n",
    "    Rating — рейтинг от организации ESRB (англ. Entertainment Software Rating Board). Эта ассоциация определяет рейтинг компьютерных игр и присваивает им подходящую возрастную категорию."
   ]
  },
  {
   "cell_type": "markdown",
   "metadata": {},
   "source": [
    "Мы видим, что шкалы оценок *пользователей* и *критиков* различаются. Для того, чтобы иметь возможность сравнивать эти показатели, необходимо будет привестии их к общей шкале."
   ]
  },
  {
   "cell_type": "code",
   "execution_count": 6,
   "metadata": {},
   "outputs": [
    {
     "name": "stdout",
     "output_type": "stream",
     "text": [
      "<class 'pandas.core.frame.DataFrame'>\n",
      "RangeIndex: 16715 entries, 0 to 16714\n",
      "Data columns (total 11 columns):\n",
      "Name               16713 non-null object\n",
      "Platform           16715 non-null object\n",
      "Year_of_Release    16446 non-null float64\n",
      "Genre              16713 non-null object\n",
      "NA_sales           16715 non-null float64\n",
      "EU_sales           16715 non-null float64\n",
      "JP_sales           16715 non-null float64\n",
      "Other_sales        16715 non-null float64\n",
      "Critic_Score       8137 non-null float64\n",
      "User_Score         10014 non-null object\n",
      "Rating             9949 non-null object\n",
      "dtypes: float64(6), object(5)\n",
      "memory usage: 1.4+ MB\n"
     ]
    }
   ],
   "source": [
    "games.info()"
   ]
  },
  {
   "cell_type": "markdown",
   "metadata": {},
   "source": [
    "В исследуемой таблице данных *11 столбцов и 16715 строк*. Пропуски отсутствуют только в столбцах, содержащих название игровой платформы и информацию о продажах по разным регионам. Больше всего пропусков в столбцах **\"Оценка критиков\"** и **\"Возрастной рейтинг\"**."
   ]
  },
  {
   "cell_type": "markdown",
   "metadata": {},
   "source": [
    "Можем обратить внимание на то, что тип данных в столбце **\"year_of_release\"** - *float*. Использовать в данном случае формат *datetime* нецелесообразно, поскольку мы не обращаемся к дате целиком, а только к году как к некоему порядковому категориальному показателю. В таком случае предпочтительнее формат *integer*, однако и его мы не можем использовать, пока у нас в столбце имеются пропуски в значениях.\n",
    "\n",
    "Также данные, содержащиеся в столбце **\"user_score\"** относятся к типу *object*, приведем в дальнейшем их к типу *float*."
   ]
  },
  {
   "cell_type": "markdown",
   "metadata": {},
   "source": [
    "### <a id=\"4\">1.2. Игровые платформы</a>"
   ]
  },
  {
   "cell_type": "markdown",
   "metadata": {},
   "source": [
    "Выясним, к каким платформам и в каком количестве относятся игры из нашего датасета."
   ]
  },
  {
   "cell_type": "code",
   "execution_count": 7,
   "metadata": {},
   "outputs": [
    {
     "data": {
      "text/plain": [
       "PS2     2161\n",
       "DS      2151\n",
       "PS3     1331\n",
       "Wii     1320\n",
       "X360    1262\n",
       "PSP     1209\n",
       "PS      1197\n",
       "PC       974\n",
       "XB       824\n",
       "GBA      822\n",
       "GC       556\n",
       "3DS      520\n",
       "PSV      430\n",
       "PS4      392\n",
       "N64      319\n",
       "XOne     247\n",
       "SNES     239\n",
       "SAT      173\n",
       "WiiU     147\n",
       "2600     133\n",
       "GB        98\n",
       "NES       98\n",
       "DC        52\n",
       "GEN       29\n",
       "NG        12\n",
       "WS         6\n",
       "SCD        6\n",
       "3DO        3\n",
       "TG16       2\n",
       "PCFX       1\n",
       "GG         1\n",
       "Name: Platform, dtype: int64"
      ]
     },
     "execution_count": 7,
     "metadata": {},
     "output_type": "execute_result"
    }
   ],
   "source": [
    "games['Platform'].value_counts()"
   ]
  },
  {
   "cell_type": "markdown",
   "metadata": {},
   "source": [
    "Как видно, очистка данных не требуется, дубликаты отсутствуют. Однако в дальнейшем имеет смысл выполнить категоризацию данных: объединить в три большие категории разные поколения платформ **Xbox**, **PlayStation** и **Nintendo**, выделить в отдельную категорию **портативные платформы**, а также объединить наименее представленные платформы в **общую категорию**."
   ]
  },
  {
   "cell_type": "markdown",
   "metadata": {},
   "source": [
    "Напишем функцию *game_squarify* для построения древовидной карты сгруппированных данных датасета **games**, в качестве параметров передадим *column* - названиение столбца, по которому будет производиться группировка, и *cat* - строковый объект, содержащий информацию  о категории, по которой произведена группировка."
   ]
  },
  {
   "cell_type": "code",
   "execution_count": 8,
   "metadata": {},
   "outputs": [],
   "source": [
    "def game_squarify(column, cat):\n",
    "    game_plot = games.groupby(column).size().reset_index(name='counts')\n",
    "    labels = game_plot.apply(lambda x: str(x[0]) + \"\\n (\" + str(x[1]) + \")\", axis=1)\n",
    "    sizes = game_plot['counts'].values.tolist()\n",
    "    colors = [plt.cm.Spectral(i/float(len(labels))) for i in range(len(labels))]\n",
    "\n",
    "    plt.figure(figsize=(12,8), dpi= 80)\n",
    "    squarify.plot(sizes=sizes, label=labels, color=colors, alpha=.8)\n",
    "\n",
    "    plt.title('Распределение игр в исследуемых данных по ' + cat)\n",
    "    plt.axis('off')\n",
    "    plt.show()\n"
   ]
  },
  {
   "cell_type": "markdown",
   "metadata": {},
   "source": [
    "Выведем древовидную карту по игровым платформам."
   ]
  },
  {
   "cell_type": "code",
   "execution_count": 9,
   "metadata": {},
   "outputs": [
    {
     "data": {
      "image/png": "[encoded data removed]",
      "text/plain": [
       "<Figure size 960x640 with 1 Axes>"
      ]
     },
     "metadata": {
      "needs_background": "light"
     },
     "output_type": "display_data"
    }
   ],
   "source": [
    "game_squarify('Platform', 'игровым платформам')"
   ]
  },
  {
   "cell_type": "markdown",
   "metadata": {},
   "source": [
    "Выясним, что обозначает каждая из аббревиатур, и выдвинем предположение о возможных укрупненных категориях игровых платформ."
   ]
  },
  {
   "cell_type": "markdown",
   "metadata": {},
   "source": [
    "<h3>Sony Playstation:</h3>\n",
    "    <p></p>\n",
    "    <li>\n",
    "        <ul><b>PS</b> - Первое поколение игровой приставки Sony PlayStation, выпущенное в 1994 году. За 11 лет производства приставки было продано более <i>100 миллионов</i> единиц.</ul>\n",
    "        <ul><b>PS2</b> - Второе поколение игровой приставки Sony PlayStation, выпущенное в 2000 году. За 12 лет  продано <i>155.1 миллионов единиц</i>.</ul>\n",
    "        <ul><b>PS3</b> - Третье поколение игровой приставки Sony PlayStation, выпущенное в 2006 году. За 10 лет  продано <i>87 миллионов единиц</i>.</ul>\n",
    "        <ul><b>PS4</b> - Четвертое поколение игровой приставки Sony PlayStation, выпущенное в 2013 году. На момент получения данных для анализа являлась актуальной версией приставки от компании Sony. На конец 2017 года было продано <i>73.6 миллиона устройств</i> (на начало 2021 года этот показатель составляет <i>113.8 миллионов устройств</i>).</ul>\n",
    "        <ul><b>PSP</b> - Playstation Portable, первая портативная приставка компании Sony, выпущенная в 2004 году.  На конец 2013 года реализовано <i>80 миллионов экземпляров</i>.</ul>\n",
    "        <ul><b>PSV</b> - Playstation Vita, второе поколение портативной консоли компании Sony. Выпущена в 2011 году, за 7.5 лет продано <i>15.3 миллиона экземпляров</i>.</ul>\n",
    "    </li>\n",
    "    <p></p>\n",
    "<h3>Microsoft XBox:</h3>\n",
    "    <p></p>\n",
    "    <li>\n",
    "        <ul><b>XB</b> - XBox, первая игровая консоль компании Microsoft, выпущенная в 2001 году. За 8 лет реализовано <i>24 миллиона экземпляров</i>.</ul>\n",
    "        <ul><b>X360</b> - второе поколение приставки, выпущенное в 2005 году. На конец 2016 года реализовано <i>85.38 миллионов экземпляров</i>.</ul>\n",
    "        <ul><b>XOne</b> - третье поколение приставки. Выпущено в 2013 году, продано <i>41.2 миллиона экземпляров</i>.</ul>\n",
    "    </li>\n",
    "    <p></p>\n",
    "<h3>Nintendo:</h3>\n",
    "    <p></p>\n",
    "    <li>\n",
    "        <ul><b>NES</b> - Nintendo Entertainment System, первая игровая приставка Nintendo, выпущенная в 1983 году под названием Famicom (переименована в 1985 году). За 20 лет реализовано <i>61.91 миллиона экземпляров</i>.</ul>\n",
    "        <ul><b>GB</b> - GameBoy - первое поколение портативной приставки, выпущенное в 1989 году. Реализовано <i>118.69 миллионов экземпляров</i>.</ul>\n",
    "        <ul><b>SNES</b> - Super Nintendo Entertainment System - второе поколение приставки. Выпущено в 1990 году, за 9 лет продано <i>49 миллионов экземпляров</i>.</ul>\n",
    "        <ul><b>N64</b> - Nintendo 64 - третье поколение приставки. Выпущено в 1996 году, за 7 лет продано <i>32.93 миллиона экземпляров</i>.</ul>\n",
    "        <ul><b>GC</b> - GameCube - четвертое поколение приставки. Выпущено в 2001 году, за 6 лет продано <i> 21.74 миллиона экземпляров</i>.</ul>\n",
    "        <ul><b>GBA</b> - GameBoy Advance - второе поколение портативной приставки. Выпущено в 2001 году, за 7 лет продано <i>79.46 миллионов экземпляров</i>.</ul>\n",
    "        <ul><b>DS</b> - Nintendo DS - третье поколение портативной приставки. Выпущено в 2004 году, за 9 лет продано <i>154.1 миллиона экземпляров</i>.</ul>\n",
    "        <ul><b>Wii</b> - пятое поколение приставки. Выпущено в 2006 году, за 7 лет продано <i>101.63 миллиона экземпляров</i>.</ul>\n",
    "        <ul><b>3DS</b> - Nintendo 3DS - четвертое поколение портативной приставки. Выпущено в 2011 году, за 9 лет продано <i>75.77 миллиона экземпляров</i>.</ul>\n",
    "        <ul><b>WiiU</b> - шестое поколение приставки. Выпущено в 2012 году, за 5 лет продано <i>13.56 миллионов экземпляров</i>.</ul>\n",
    "    </li>\n",
    "    <p></p>\n",
    "<h3>Другие производители:</h3>\n",
    "    <p></p>\n",
    "    <li> \n",
    "        <ul><b>3DO</b> - игровая приставка Panasonic, выпущенная в 1993 году, за 3 лет продано <i>2 миллионов экземпляров</i>.</ul>\n",
    "        <ul><b>GEN</b> - игровая приставка Sega Genesis, выпущенная в 1988 году, за 9 лет продано <i>39.7 миллионов экземпляров</i>.</ul>\n",
    "        <ul><b>SAT</b> - игровая приставка Sega Saturn, выпущенная в 1994 году, за 6 лет продано <i>9.5 миллионов экземпляров</i>.</ul>\n",
    "        <ul><b>2600</b> - игровая приставка Atari 2600, выпущенная в 1977 году, продано <i>около 40 миллионов экземпляров</i>.</ul>\n",
    "        <ul><b>DC</b> - игровая приставка Dandy Classic, выпущенный в 1992 году клон NES. Продано <i>около 2 миллионов экземпляров</i>.</ul>\n",
    "        <ul><b>NG, SCD, WS, TG16, GG и PCFX</b> представлены в нашем датасете слабо.</ul>\n",
    "    </li>"
   ]
  },
  {
   "cell_type": "markdown",
   "metadata": {},
   "source": [
    "Опираясь на представленную выше информацию можно сформулировать основные категории производителей игровых приставок: **Sony (Playstation), Microsoft (XBox), Nintendo и \"Другие\"**. \n",
    "\n",
    "В отдельную категорию имеет смысл выделить **портативные игровые приставки**, поскольку они не являются прямыми конкурентами домашних игровых систем, а в настоящее время данная ниша заполняется смартфонами, выполняющими помимо прочего и функцию портативной игровой мультимедийной приставки."
   ]
  },
  {
   "cell_type": "markdown",
   "metadata": {},
   "source": [
    "### <a id=\"5\">1.3. Игровые жанры</a>"
   ]
  },
  {
   "cell_type": "markdown",
   "metadata": {},
   "source": [
    "Выясним, как распределены игры в исследуемых данных по жанрам. Для этого построим древовидную карту распределения."
   ]
  },
  {
   "cell_type": "code",
   "execution_count": 10,
   "metadata": {},
   "outputs": [
    {
     "data": {
      "image/png": "[encoded data removed]",
      "text/plain": [
       "<Figure size 960x640 with 1 Axes>"
      ]
     },
     "metadata": {
      "needs_background": "light"
     },
     "output_type": "display_data"
    }
   ],
   "source": [
    "game_squarify('Genre', 'жанрам')"
   ]
  },
  {
   "cell_type": "markdown",
   "metadata": {},
   "source": [
    "Как мы видим, проблем с данными в столбце **`genre`** не наблюдается. Неявные дубликаты отсутствуют.\n",
    "\n",
    "На первом месте с ощутимым отрывом и показателем в *3369* записей лидирует жанр **Action**. На втором месте со значением, почти на треть меньшим, - *2348* записей, располагаются игры жанра **Sport**. На третьем месте - игры жанра **Misc** с *1750* записями(в классификации <a href = \"https://ru.wikipedia.org/wiki/%D0%9A%D0%BB%D0%B0%D1%81%D1%81%D0%B8%D1%84%D0%B8%D0%BA%D0%B0%D1%86%D0%B8%D1%8F_%D0%BA%D0%BE%D0%BC%D0%BF%D1%8C%D1%8E%D1%82%D0%B5%D1%80%D0%BD%D1%8B%D1%85_%D0%B8%D0%B3%D1%80#%D0%9F%D0%BE_%D0%9A%D1%80%D0%BE%D1%83%D1%84%D0%BE%D1%80%D0%B4%D1%83_(1984)\">по Кроуфорду</a> к данному жанру относятся игры жанра Action, не вошедшие по классификации в один из 5 поджанров). На данный момент такую классификацию скорее стоит считать устаревшей, однако она дает понимание того, что из себя могут представлять игры жанра **Misc** *(от англ. \"miscellaneous\" - разнообразный, смешанный)*.\n",
    "\n",
    "*От 1249 до 1498* записей имеют жанры **Racing, Adventure, Shooter, Role-Playing** (по возрастающей).\n",
    "\n",
    "*Менее 1000* записей (*от 888 до 580*) имеют жанры **Platform, Simulation, Fighting, Strategy и Puzzle** (по убывающей).\n",
    "\n",
    "Это говорит о том, что наибольшей популярностью пользуются более активные игры (представлены наибольшим разнообразием). \n",
    "\n",
    "Также можем заметить, что деление на категории по жанрам выполнено по геймплейной составляющей, и не вкючает непосредственно жанр (военные игры, игры жанра horror, истрические, научная фантастиика, фэнтези, и т.д.)"
   ]
  },
  {
   "cell_type": "markdown",
   "metadata": {},
   "source": [
    "### <a id=\"6\"> 1.4. Возрастной рейтинг </a>"
   ]
  },
  {
   "cell_type": "markdown",
   "metadata": {},
   "source": [
    "<a href = \"https://ru.wikipedia.org/wiki/Entertainment_Software_Rating_Board\">Возрастной рейтинг ESRB </a> стал применяться на территории стран США и Канада с 1994 года. В связи с этим игры, вышедшие до указанного года, могут иметь пропуски в графе с рейтингом ESRB.\n",
    "\n",
    "Присвоение рейтинга выражается в маркировке игровой продукции определенным символом. Выведем на экран все уникальные маркировки, имеющиеся в нашем датасете, а также выясним, что означает каждая их них."
   ]
  },
  {
   "cell_type": "code",
   "execution_count": 11,
   "metadata": {},
   "outputs": [
    {
     "data": {
      "text/plain": [
       "E       3990\n",
       "T       2961\n",
       "M       1563\n",
       "E10+    1420\n",
       "EC         8\n",
       "K-A        3\n",
       "RP         3\n",
       "AO         1\n",
       "Name: Rating, dtype: int64"
      ]
     },
     "execution_count": 11,
     "metadata": {},
     "output_type": "execute_result"
    }
   ],
   "source": [
    "games['Rating'].value_counts()"
   ]
  },
  {
   "cell_type": "markdown",
   "metadata": {},
   "source": [
    "Расшифровка маркировок рейтинга ESRB:\n",
    "- E - \"everyone\" - для всех, без возрастных ограничений;\n",
    "- T - \"teen\" - для лиц от 13 лет и старше;\n",
    "- M - \"mature\" - для взрослых (для лиц от 17 лет и старше);\n",
    "- E10+ - для детей старше 10 лет;\n",
    "- EC - \"early childhood\" - для детей младшего возраста (от 3 лет);\n",
    "- K-A - \"kids to adults\" - для всех, то же, что E;\n",
    "- RP - \"rating pending\" - рейтинг ожидается;\n",
    "- AO - \"adults only\" - только для взрослых (для лиц старше 18 лет)."
   ]
  },
  {
   "cell_type": "markdown",
   "metadata": {},
   "source": [
    "Мы видим, что маркировка **К-А** *полностью соответствует* маркировке **Е**. Также у нас всего одна запись соответствует маркировке **АО**, и ее целесообразно объединить с категорией **М**. Категории **Е и ЕС** *лучше не объединять*, поскольку \"игры для всех\" и \"игры для маленьких детей\" - не одно и то же. В игры категроии **Е** маленьким детям можно играть, но можно и более взрослым. В игры категории **ЕС**, созданным специально для маленьких детей, вряд ли взрослым будет интересно игрыть.\n",
    "**Е10+** также достаточно близка к категории **Т**, однако обе категории представлены в данных большим количеством записей, и их анализ по-отдельности может помочь выявить интересные закономерности."
   ]
  },
  {
   "cell_type": "markdown",
   "metadata": {},
   "source": [
    "### <a id=\"7\">2. Предобработка данных</a>"
   ]
  },
  {
   "cell_type": "markdown",
   "metadata": {},
   "source": [
    "### <a id=\"8\"> 2.1. Приведение названий столбцов к нижнему регистру</a>"
   ]
  },
  {
   "cell_type": "markdown",
   "metadata": {},
   "source": [
    "Сперва приведем к нижнему регистру названия столбцов нашей таблицы."
   ]
  },
  {
   "cell_type": "code",
   "execution_count": 12,
   "metadata": {},
   "outputs": [],
   "source": [
    "games.columns = [column.lower() for column in games.columns]"
   ]
  },
  {
   "cell_type": "markdown",
   "metadata": {},
   "source": [
    "### <a id=\"9\"> 2.2. Изменение типов данных</a>"
   ]
  },
  {
   "cell_type": "markdown",
   "metadata": {},
   "source": [
    "Еще раз выведем на экран информацию о таблице **games**."
   ]
  },
  {
   "cell_type": "code",
   "execution_count": 13,
   "metadata": {},
   "outputs": [
    {
     "name": "stdout",
     "output_type": "stream",
     "text": [
      "<class 'pandas.core.frame.DataFrame'>\n",
      "RangeIndex: 16715 entries, 0 to 16714\n",
      "Data columns (total 11 columns):\n",
      "name               16713 non-null object\n",
      "platform           16715 non-null object\n",
      "year_of_release    16446 non-null float64\n",
      "genre              16713 non-null object\n",
      "na_sales           16715 non-null float64\n",
      "eu_sales           16715 non-null float64\n",
      "jp_sales           16715 non-null float64\n",
      "other_sales        16715 non-null float64\n",
      "critic_score       8137 non-null float64\n",
      "user_score         10014 non-null object\n",
      "rating             9949 non-null object\n",
      "dtypes: float64(6), object(5)\n",
      "memory usage: 1.4+ MB\n"
     ]
    }
   ],
   "source": [
    "games.info()"
   ]
  },
  {
   "cell_type": "markdown",
   "metadata": {},
   "source": [
    "Приведем к типу *float* данные столбца **'user_score'**. Первыми делом избавимся от строковых значений в столбце."
   ]
  },
  {
   "cell_type": "code",
   "execution_count": 14,
   "metadata": {},
   "outputs": [
    {
     "data": {
      "text/plain": [
       "array(['8', nan, '8.3', '8.5', '6.6', '8.4', '8.6', '7.7', '6.3', '7.4',\n",
       "       '8.2', '9', '7.9', '8.1', '8.7', '7.1', '3.4', '5.3', '4.8', '3.2',\n",
       "       '8.9', '6.4', '7.8', '7.5', '2.6', '7.2', '9.2', '7', '7.3', '4.3',\n",
       "       '7.6', '5.7', '5', '9.1', '6.5', 'tbd', '8.8', '6.9', '9.4', '6.8',\n",
       "       '6.1', '6.7', '5.4', '4', '4.9', '4.5', '9.3', '6.2', '4.2', '6',\n",
       "       '3.7', '4.1', '5.8', '5.6', '5.5', '4.4', '4.6', '5.9', '3.9',\n",
       "       '3.1', '2.9', '5.2', '3.3', '4.7', '5.1', '3.5', '2.5', '1.9', '3',\n",
       "       '2.7', '2.2', '2', '9.5', '2.1', '3.6', '2.8', '1.8', '3.8', '0',\n",
       "       '1.6', '9.6', '2.4', '1.7', '1.1', '0.3', '1.5', '0.7', '1.2',\n",
       "       '2.3', '0.5', '1.3', '0.2', '0.6', '1.4', '0.9', '1', '9.7'],\n",
       "      dtype=object)"
      ]
     },
     "execution_count": 14,
     "metadata": {},
     "output_type": "execute_result"
    }
   ],
   "source": [
    "# выведем на экран уникальные значения столбца 'user_score'\n",
    "games['user_score'].unique()"
   ]
  },
  {
   "cell_type": "markdown",
   "metadata": {},
   "source": [
    "Как можно заметить, среди данных имеются как пропуски **'nan'**, так и нечисловые значения **'tbd'**. Сперва выясним, что означает последняя аббревиатура."
   ]
  },
  {
   "cell_type": "markdown",
   "metadata": {},
   "source": [
    "По данным сайта <a href =\"https://fb.ru/article/171345/tbd---chto-znachit-eto-sokraschenie\">FB.ru</a>, **TBD** можно расшифровать как \"To Be Determined\", то есть **\"Будет определено\"**. Иными словами, относительно нашего показателя, это строки, игры в которых еще не получили пользовательской оценки (в связи с недавним выходом или по иным причинам). *Заменим значения **\"tbd\"** на пропуски*, чтобы можно было работать со столбцом как с данными числового типа."
   ]
  },
  {
   "cell_type": "code",
   "execution_count": 15,
   "metadata": {},
   "outputs": [],
   "source": [
    "games['user_score'] = games['user_score'].replace('tbd', np.nan)"
   ]
  },
  {
   "cell_type": "markdown",
   "metadata": {},
   "source": [
    "Приведем столбец к числовому формату."
   ]
  },
  {
   "cell_type": "code",
   "execution_count": 16,
   "metadata": {},
   "outputs": [],
   "source": [
    "games['user_score'] = games['user_score'].astype(float)"
   ]
  },
  {
   "cell_type": "markdown",
   "metadata": {},
   "source": [
    "### <a id=\"10\"> 2.3. Обработка пропусков</a>"
   ]
  },
  {
   "cell_type": "markdown",
   "metadata": {},
   "source": [
    "##### Пропуски в графе \"Возрастной рейтинг\""
   ]
  },
  {
   "cell_type": "markdown",
   "metadata": {},
   "source": [
    "Мы знаем, что рейтинг **ESRB** был введен в действие в 1994 году. Выясним, сколько в нашей таблице всего пропусков в столбце с рейтингом, и сколько пропусков до 1994 года."
   ]
  },
  {
   "cell_type": "code",
   "execution_count": 17,
   "metadata": {},
   "outputs": [
    {
     "name": "stdout",
     "output_type": "stream",
     "text": [
      "Количество пропусков параметра \"Возрастной рейтинг\" во всем датасете 6766\n",
      "Количество пропусков параметра \"Возрастной рейтинг\" до 1994 года 363\n"
     ]
    }
   ],
   "source": [
    "print('Количество пропусков параметра \"Возрастной рейтинг\" во всем датасете',\n",
    "      games['rating'].isna().sum())\n",
    "print('Количество пропусков параметра \"Возрастной рейтинг\" до 1994 года',\n",
    "      games.query('year_of_release < 1994')['rating'].isna().sum())"
   ]
  },
  {
   "cell_type": "markdown",
   "metadata": {},
   "source": [
    "Как мы видим, 363 пропуска обоснованы, они соответствуют годам, когда возрастного рейтинга **ESRB** еще не существовало. Однако подавляющее большинство пропусков - 6404 - приходятся на игры, вышедшие уже в период действия рейтинга. Пропуски в данном случае, скорее всего, являются искажением ввода данных (изначально была передана не вся информация об играх). "
   ]
  },
  {
   "cell_type": "markdown",
   "metadata": {},
   "source": [
    "Поскольку в данном случае речь идет о категориальной переменной, мы можем ввести категорию **\"без рейтинга\"** и заполнить ей пропуски. Это позволит учесть данные с пропусками при дальнейшей обработке."
   ]
  },
  {
   "cell_type": "code",
   "execution_count": 18,
   "metadata": {},
   "outputs": [],
   "source": [
    "games['rating'] = games['rating'].fillna('no_rating')"
   ]
  },
  {
   "cell_type": "markdown",
   "metadata": {},
   "source": [
    "##### Пропуске в графе \"Название\""
   ]
  },
  {
   "cell_type": "markdown",
   "metadata": {},
   "source": [
    "У нас всего два пропуска в графе с названиями игр. Выведем содержащие их строки полностью."
   ]
  },
  {
   "cell_type": "code",
   "execution_count": 19,
   "metadata": {},
   "outputs": [
    {
     "data": {
      "text/html": [
       "<div>\n",
       "<style scoped>\n",
       "    .dataframe tbody tr th:only-of-type {\n",
       "        vertical-align: middle;\n",
       "    }\n",
       "\n",
       "    .dataframe tbody tr th {\n",
       "        vertical-align: top;\n",
       "    }\n",
       "\n",
       "    .dataframe thead th {\n",
       "        text-align: right;\n",
       "    }\n",
       "</style>\n",
       "<table border=\"1\" class=\"dataframe\">\n",
       "  <thead>\n",
       "    <tr style=\"text-align: right;\">\n",
       "      <th></th>\n",
       "      <th>name</th>\n",
       "      <th>platform</th>\n",
       "      <th>year_of_release</th>\n",
       "      <th>genre</th>\n",
       "      <th>na_sales</th>\n",
       "      <th>eu_sales</th>\n",
       "      <th>jp_sales</th>\n",
       "      <th>other_sales</th>\n",
       "      <th>critic_score</th>\n",
       "      <th>user_score</th>\n",
       "      <th>rating</th>\n",
       "    </tr>\n",
       "  </thead>\n",
       "  <tbody>\n",
       "    <tr>\n",
       "      <td>659</td>\n",
       "      <td>NaN</td>\n",
       "      <td>GEN</td>\n",
       "      <td>1993.0</td>\n",
       "      <td>NaN</td>\n",
       "      <td>1.78</td>\n",
       "      <td>0.53</td>\n",
       "      <td>0.00</td>\n",
       "      <td>0.08</td>\n",
       "      <td>NaN</td>\n",
       "      <td>NaN</td>\n",
       "      <td>no_rating</td>\n",
       "    </tr>\n",
       "    <tr>\n",
       "      <td>14244</td>\n",
       "      <td>NaN</td>\n",
       "      <td>GEN</td>\n",
       "      <td>1993.0</td>\n",
       "      <td>NaN</td>\n",
       "      <td>0.00</td>\n",
       "      <td>0.00</td>\n",
       "      <td>0.03</td>\n",
       "      <td>0.00</td>\n",
       "      <td>NaN</td>\n",
       "      <td>NaN</td>\n",
       "      <td>no_rating</td>\n",
       "    </tr>\n",
       "  </tbody>\n",
       "</table>\n",
       "</div>"
      ],
      "text/plain": [
       "      name platform  year_of_release genre  na_sales  eu_sales  jp_sales  \\\n",
       "659    NaN      GEN           1993.0   NaN      1.78      0.53      0.00   \n",
       "14244  NaN      GEN           1993.0   NaN      0.00      0.00      0.03   \n",
       "\n",
       "       other_sales  critic_score  user_score     rating  \n",
       "659           0.08           NaN         NaN  no_rating  \n",
       "14244         0.00           NaN         NaN  no_rating  "
      ]
     },
     "execution_count": 19,
     "metadata": {},
     "output_type": "execute_result"
    }
   ],
   "source": [
    "games[games['name'].isna()]"
   ]
  },
  {
   "cell_type": "markdown",
   "metadata": {},
   "source": [
    "В этих строках есть информация об игровой платформе, годе релиза и продажах. Однако нет данных о жанре, возрастном рейтинге (в данном случае обоснованно, обе игры вышли в 1993 году) и об оценках пользователей и критиков. Можем смело избавиться от строк, содержащих пропуски в данном случае."
   ]
  },
  {
   "cell_type": "code",
   "execution_count": 20,
   "metadata": {},
   "outputs": [],
   "source": [
    "games = games.drop(index=[659, 14244])"
   ]
  },
  {
   "cell_type": "markdown",
   "metadata": {},
   "source": [
    "##### Оставшиеся пропуски"
   ]
  },
  {
   "cell_type": "markdown",
   "metadata": {},
   "source": [
    "Повторно выведем на экран информацию о датафрейме."
   ]
  },
  {
   "cell_type": "code",
   "execution_count": 21,
   "metadata": {},
   "outputs": [
    {
     "name": "stdout",
     "output_type": "stream",
     "text": [
      "<class 'pandas.core.frame.DataFrame'>\n",
      "Int64Index: 16713 entries, 0 to 16714\n",
      "Data columns (total 11 columns):\n",
      "name               16713 non-null object\n",
      "platform           16713 non-null object\n",
      "year_of_release    16444 non-null float64\n",
      "genre              16713 non-null object\n",
      "na_sales           16713 non-null float64\n",
      "eu_sales           16713 non-null float64\n",
      "jp_sales           16713 non-null float64\n",
      "other_sales        16713 non-null float64\n",
      "critic_score       8137 non-null float64\n",
      "user_score         7590 non-null float64\n",
      "rating             16713 non-null object\n",
      "dtypes: float64(7), object(4)\n",
      "memory usage: 1.5+ MB\n"
     ]
    }
   ],
   "source": [
    "games.info()"
   ]
  },
  {
   "cell_type": "markdown",
   "metadata": {},
   "source": [
    "Мы удалили две строки, сократив таким образом количество строк до 16713. Пропуски в столбце \"возрастной рейтинг\" мы заполнили созданной категорией `no_rating`. Пропуски остались в столбцах **\"год релиза\", \"оценки критиков\" и \"оценки пользователей\"**. Ни в одном из случаев мы не можем заполнить пропуски без искажения данных. Удалять строки только на основании одного параметра кажется нецелесообразным. Выясним, остались ли в нашей таблице записи, содержащие пропуски во всех указанных столбцах."
   ]
  },
  {
   "cell_type": "code",
   "execution_count": 22,
   "metadata": {
    "scrolled": true
   },
   "outputs": [
    {
     "data": {
      "text/plain": [
       "(111, 11)"
      ]
     },
     "execution_count": 22,
     "metadata": {},
     "output_type": "execute_result"
    }
   ],
   "source": [
    "games_trash = games[(games['year_of_release'].isna()) &\n",
    "                    (games['critic_score'].isna()) &\n",
    "                    (games['user_score'].isna())]\n",
    "\n",
    "games_trash.shape"
   ]
  },
  {
   "cell_type": "markdown",
   "metadata": {},
   "source": [
    "Как видим, в нашей таблице 111  строк имеют пропуски одновременно по четырем показателям. Отсортируем по количеству продаж в регионе NA по убыванию и выведем на экран первые 5 строк."
   ]
  },
  {
   "cell_type": "code",
   "execution_count": 23,
   "metadata": {},
   "outputs": [
    {
     "data": {
      "text/html": [
       "<div>\n",
       "<style scoped>\n",
       "    .dataframe tbody tr th:only-of-type {\n",
       "        vertical-align: middle;\n",
       "    }\n",
       "\n",
       "    .dataframe tbody tr th {\n",
       "        vertical-align: top;\n",
       "    }\n",
       "\n",
       "    .dataframe thead th {\n",
       "        text-align: right;\n",
       "    }\n",
       "</style>\n",
       "<table border=\"1\" class=\"dataframe\">\n",
       "  <thead>\n",
       "    <tr style=\"text-align: right;\">\n",
       "      <th></th>\n",
       "      <th>name</th>\n",
       "      <th>platform</th>\n",
       "      <th>year_of_release</th>\n",
       "      <th>genre</th>\n",
       "      <th>na_sales</th>\n",
       "      <th>eu_sales</th>\n",
       "      <th>jp_sales</th>\n",
       "      <th>other_sales</th>\n",
       "      <th>critic_score</th>\n",
       "      <th>user_score</th>\n",
       "      <th>rating</th>\n",
       "    </tr>\n",
       "  </thead>\n",
       "  <tbody>\n",
       "    <tr>\n",
       "      <td>609</td>\n",
       "      <td>Space Invaders</td>\n",
       "      <td>2600</td>\n",
       "      <td>NaN</td>\n",
       "      <td>Shooter</td>\n",
       "      <td>2.36</td>\n",
       "      <td>0.14</td>\n",
       "      <td>0.0</td>\n",
       "      <td>0.03</td>\n",
       "      <td>NaN</td>\n",
       "      <td>NaN</td>\n",
       "      <td>no_rating</td>\n",
       "    </tr>\n",
       "    <tr>\n",
       "      <td>475</td>\n",
       "      <td>wwe Smackdown vs. Raw 2006</td>\n",
       "      <td>PS2</td>\n",
       "      <td>NaN</td>\n",
       "      <td>Fighting</td>\n",
       "      <td>1.57</td>\n",
       "      <td>1.02</td>\n",
       "      <td>0.0</td>\n",
       "      <td>0.41</td>\n",
       "      <td>NaN</td>\n",
       "      <td>NaN</td>\n",
       "      <td>no_rating</td>\n",
       "    </tr>\n",
       "    <tr>\n",
       "      <td>1506</td>\n",
       "      <td>Adventure</td>\n",
       "      <td>2600</td>\n",
       "      <td>NaN</td>\n",
       "      <td>Adventure</td>\n",
       "      <td>1.21</td>\n",
       "      <td>0.08</td>\n",
       "      <td>0.0</td>\n",
       "      <td>0.01</td>\n",
       "      <td>NaN</td>\n",
       "      <td>NaN</td>\n",
       "      <td>no_rating</td>\n",
       "    </tr>\n",
       "    <tr>\n",
       "      <td>1585</td>\n",
       "      <td>Combat</td>\n",
       "      <td>2600</td>\n",
       "      <td>NaN</td>\n",
       "      <td>Action</td>\n",
       "      <td>1.17</td>\n",
       "      <td>0.07</td>\n",
       "      <td>0.0</td>\n",
       "      <td>0.01</td>\n",
       "      <td>NaN</td>\n",
       "      <td>NaN</td>\n",
       "      <td>no_rating</td>\n",
       "    </tr>\n",
       "    <tr>\n",
       "      <td>2106</td>\n",
       "      <td>Air-Sea Battle</td>\n",
       "      <td>2600</td>\n",
       "      <td>NaN</td>\n",
       "      <td>Shooter</td>\n",
       "      <td>0.91</td>\n",
       "      <td>0.06</td>\n",
       "      <td>0.0</td>\n",
       "      <td>0.01</td>\n",
       "      <td>NaN</td>\n",
       "      <td>NaN</td>\n",
       "      <td>no_rating</td>\n",
       "    </tr>\n",
       "  </tbody>\n",
       "</table>\n",
       "</div>"
      ],
      "text/plain": [
       "                            name platform  year_of_release      genre  \\\n",
       "609               Space Invaders     2600              NaN    Shooter   \n",
       "475   wwe Smackdown vs. Raw 2006      PS2              NaN   Fighting   \n",
       "1506                   Adventure     2600              NaN  Adventure   \n",
       "1585                      Combat     2600              NaN     Action   \n",
       "2106              Air-Sea Battle     2600              NaN    Shooter   \n",
       "\n",
       "      na_sales  eu_sales  jp_sales  other_sales  critic_score  user_score  \\\n",
       "609       2.36      0.14       0.0         0.03           NaN         NaN   \n",
       "475       1.57      1.02       0.0         0.41           NaN         NaN   \n",
       "1506      1.21      0.08       0.0         0.01           NaN         NaN   \n",
       "1585      1.17      0.07       0.0         0.01           NaN         NaN   \n",
       "2106      0.91      0.06       0.0         0.01           NaN         NaN   \n",
       "\n",
       "         rating  \n",
       "609   no_rating  \n",
       "475   no_rating  \n",
       "1506  no_rating  \n",
       "1585  no_rating  \n",
       "2106  no_rating  "
      ]
     },
     "execution_count": 23,
     "metadata": {},
     "output_type": "execute_result"
    }
   ],
   "source": [
    "games_trash.sort_values(by='na_sales', ascending=False).head()"
   ]
  },
  {
   "cell_type": "markdown",
   "metadata": {},
   "source": [
    "Дополнительно получим описание столбца 'na_sales' по всему датасету."
   ]
  },
  {
   "cell_type": "code",
   "execution_count": 24,
   "metadata": {},
   "outputs": [
    {
     "data": {
      "text/plain": [
       "count    16713.000000\n",
       "mean         0.263302\n",
       "std          0.813565\n",
       "min          0.000000\n",
       "25%          0.000000\n",
       "50%          0.080000\n",
       "75%          0.240000\n",
       "max         41.360000\n",
       "Name: na_sales, dtype: float64"
      ]
     },
     "execution_count": 24,
     "metadata": {},
     "output_type": "execute_result"
    }
   ],
   "source": [
    "games['na_sales'].describe()"
   ]
  },
  {
   "cell_type": "markdown",
   "metadata": {},
   "source": [
    "Видно, что по параметру **'na_sales'** полученные нами строки превосходят в несколько раз как среднее значение, так и показатель, соответсвующий третьей квартили. Однако максимальный показатель по срезу с пропусками почти в 20 раз меньше максимального показателя по всему объему данных. 85 строк составляют около 0.51% от общего объема данных. <font color='grey'>С учетом их неинформативности, удалим эти строки."
   ]
  },
  {
   "cell_type": "markdown",
   "metadata": {},
   "source": [
    "### <a id=\"11\"> 2.4. Проверка датасета на дубликаты</a>"
   ]
  },
  {
   "cell_type": "code",
   "execution_count": 26,
   "metadata": {},
   "outputs": [
    {
     "data": {
      "text/plain": [
       "0"
      ]
     },
     "execution_count": 26,
     "metadata": {},
     "output_type": "execute_result"
    }
   ],
   "source": [
    "games.duplicated().sum()"
   ]
  },
  {
   "cell_type": "markdown",
   "metadata": {},
   "source": [
    "В наших данных отсутствуют дубликаты."
   ]
  },
  {
   "cell_type": "markdown",
   "metadata": {},
   "source": [
    "### <a id=\"12\">2.5. Приведение оценок к общей шкале</a>"
   ]
  },
  {
   "cell_type": "markdown",
   "metadata": {},
   "source": [
    "Оценки критиков в нашем датасете указаны по **100-бальной** шкале, в то время как оценки пользователей - по **10-бальной**. Приведем эти показатели к общему знаменателю, задав диапазон возможных значений для обоих **от 0 до 1**, где 0 - минимальная оценка, а 1 - максимальная."
   ]
  },
  {
   "cell_type": "code",
   "execution_count": 27,
   "metadata": {},
   "outputs": [],
   "source": [
    "games['critic_score'] = games['critic_score'] / 100\n",
    "games['user_score'] = games['user_score'] / 10"
   ]
  },
  {
   "cell_type": "code",
   "execution_count": 28,
   "metadata": {},
   "outputs": [
    {
     "data": {
      "image/png": "[encoded data removed]",
      "text/plain": [
       "<Figure size 1080x504 with 1 Axes>"
      ]
     },
     "metadata": {
      "needs_background": "light"
     },
     "output_type": "display_data"
    }
   ],
   "source": [
    "ax = games['critic_score'].plot(\n",
    "    kind='hist', bins=30, alpha=0.5, figsize=(15,7), grid=True, label='Оценки критиков')\n",
    "\n",
    "ax = games['user_score'].plot(\n",
    "    kind='hist', bins=30, alpha=0.5, figsize=(15,7), grid=True, label='Оценки пользователей')\n",
    "\n",
    "ax.set_xlabel('Оценка игры по шкале от 0 до 1')\n",
    "ax.set_ylabel('Количество значений')\n",
    "ax.set_title('График распределения оценок пользователей и критиков')\n",
    "\n",
    "ax.legend()\n",
    "plt.show()"
   ]
  },
  {
   "cell_type": "markdown",
   "metadata": {},
   "source": [
    "Между оценками критиков и игроков естественным образом присутствуют различия, однако в целом сходство прослеживается. По графику видно, что критики более охотно ставят играм низките оценки от 0 до 0.2 (вероятно, это обусловлено изначально большим диапазоном оценок: игроки свободны выбирать между 0, 1 и 2 при желании поставить низкую оценку, в то время как в распоряжении критиков все целые числа от 0 до 20)."
   ]
  },
  {
   "cell_type": "markdown",
   "metadata": {},
   "source": [
    "### <a id=\"13\"> 2.6. Расчет общего количества продаж</a>"
   ]
  },
  {
   "cell_type": "markdown",
   "metadata": {},
   "source": [
    "Добавим в таблицу столбец **'total_sales'**, в который поместим сумму значений из столбцов, содержащих данные по продажам в четырех категориях регионов."
   ]
  },
  {
   "cell_type": "code",
   "execution_count": 29,
   "metadata": {},
   "outputs": [],
   "source": [
    "games['total_sales'] = games['na_sales'\n",
    "                            ] + games['eu_sales'] + games['jp_sales'] + games['other_sales']"
   ]
  },
  {
   "cell_type": "markdown",
   "metadata": {},
   "source": [
    "Построим график частоты встречаемости показателей продаж по всем регионам и в общем. "
   ]
  },
  {
   "cell_type": "code",
   "execution_count": 30,
   "metadata": {},
   "outputs": [
    {
     "data": {
      "image/png": "[encoded data removed]",
      "text/plain": [
       "<Figure size 1080x720 with 1 Axes>"
      ]
     },
     "metadata": {
      "needs_background": "light"
     },
     "output_type": "display_data"
    }
   ],
   "source": [
    "plt.figure(figsize=(15,10))\n",
    "sns.kdeplot(games['total_sales'], shade=True, color=\"g\", label='Общие продажи', alpha=.3)\n",
    "sns.kdeplot(games['na_sales'], shade=True, color=\"deeppink\", label='Северная Америка', alpha=.3)\n",
    "sns.kdeplot(games['eu_sales'], shade=True, color=\"dodgerblue\", label=\"Европа\", alpha=.3)\n",
    "sns.kdeplot(games['jp_sales'], shade=True, color=\"orange\", label=\"Япония\", alpha=.3)\n",
    "sns.kdeplot(games['other_sales'], shade=True, color=\"red\", label=\"Другие регионы\", alpha=.3)\n",
    "\n",
    "plt.title('Продажи игр по регионам', fontsize=18)\n",
    "plt.xlabel('Количество проданных экземпляров, млн. штук')\n",
    "plt.ylabel('Частота встречаемости значений')\n",
    "plt.legend()\n",
    "plt.show()"
   ]
  },
  {
   "cell_type": "markdown",
   "metadata": {},
   "source": [
    "Несмотря на то, что большое количество игр с небольшим количеством продаж и небольшое количество игр с очень хорошими показателями по продажам делают график не слишком информативным, мы, однако, можем извлечь из него некоторую информацию: продажи в категории \"другие регионы\" максимально приближены к продажам в Японии.\n",
    "Также интересно то, что для всех регионов характерен незначительный, но видимый рост количества проданных экземпляров игры для показателей по продажам, близких к максимальным. Это \"хиты продаж\", игры, наиболее ожидаемые большим количеством геймеров.\n",
    "Для Япониии и \"других регионов\" эти всплески приходятся на показатели в районе 10 миллионов проданных копий игры. В Европе - около 30 миллионов, В Северной Америке - около 42 миллионов."
   ]
  },
  {
   "cell_type": "markdown",
   "metadata": {},
   "source": [
    "### <a id=\"14\"> 2.7. Категоризация данных</a>"
   ]
  },
  {
   "cell_type": "markdown",
   "metadata": {},
   "source": [
    "#### Категоризация игровых платформ"
   ]
  },
  {
   "cell_type": "code",
   "execution_count": 31,
   "metadata": {},
   "outputs": [],
   "source": [
    "p10 = games['platform'] == 'PS2'\n",
    "p11 = games['platform'] == 'PS3'\n",
    "p12 = games['platform'] == 'PS' \n",
    "p13 = games['platform'] == 'PS4'\n",
    "p20 = games['platform'] == 'X360'\n",
    "p21 = games['platform'] == 'XB'\n",
    "p22 = games['platform'] == 'Xone'\n",
    "p30 = games['platform'] == 'PC'\n",
    "p40 = games['platform'] == 'NES'\n",
    "p41 = games['platform'] == 'SNES'\n",
    "p42 = games['platform'] == 'GC'\n",
    "p43 = games['platform'] == 'Wii'\n",
    "p44 = games['platform'] == 'WiiU'\n",
    "p45 = games['platform'] == 'N64'\n",
    "p50 = games['platform'] == 'GBA'\n",
    "p51 = games['platform'] == 'DS'\n",
    "p52 = games['platform'] == '3DS'\n",
    "p53 = games['platform'] == 'GB'\n",
    "p54 = games['platform'] == 'PSV'\n",
    "p55 = games['platform'] == 'PSP'\n",
    "\n",
    "games['platform_category'] = np.select(\n",
    "    [p10, p11, p12, p13, p20, p21, p22, p30, p40, p41, p42, p43, p44, p45,\n",
    "     p50, p51, p52, p53, p54, p55],\n",
    "    ['playstation', 'playstation', 'playstation', 'playstation',\n",
    "     'xbox', 'xbox', 'xbox', \n",
    "     'pc', \n",
    "     'nintendo', 'nintendo', 'nintendo', 'nintendo', 'nintendo', 'nintendo',\n",
    "     'portable', 'portable', 'portable', 'portable', 'portable', 'portable'], \n",
    "                           default='other')"
   ]
  },
  {
   "cell_type": "markdown",
   "metadata": {},
   "source": [
    "Посмотрим на результат категоризации."
   ]
  },
  {
   "cell_type": "code",
   "execution_count": 32,
   "metadata": {},
   "outputs": [
    {
     "data": {
      "text/plain": [
       "portable       5230\n",
       "playstation    5081\n",
       "nintendo       2679\n",
       "xbox           2086\n",
       "pc              974\n",
       "other           663\n",
       "Name: platform_category, dtype: int64"
      ]
     },
     "execution_count": 32,
     "metadata": {},
     "output_type": "execute_result"
    }
   ],
   "source": [
    "games['platform_category'].value_counts()"
   ]
  },
  {
   "cell_type": "markdown",
   "metadata": {},
   "source": [
    "На *первом месте* среди наших данных **портативные игровые приставки**. С небольшим отставанием за ними следуют игровые платформы **PlayStation**. Почти вдвое меньший показатель у домашних платформ **Nintendo**. Чуть больше 2000 у **XBox**, чуть меньше 1000 у **персональных компьютеров** и 646 строк поделили между собой все остальные игровые консоли, отнесенные к категории **\"другие\"**."
   ]
  },
  {
   "cell_type": "markdown",
   "metadata": {},
   "source": [
    "NB\n",
    "1. Учитывая, что категория портативных консолей представлена консолями **Nintendo и PlayStation**, и *первые 3 места* по количеству проданных игр принадлежат, **помимо портативных консолей**, игровым системам **Sony и Nintendo**, можно с уверенностью заключить, что **Sony PlayStation и Nintendo** - <u><b>лидеры рынка игровых приставок</b></u>.\n",
    "2. С другой стороны, в настоящее время сегмент портативных игровых приставок находится в упадке в связи с увеличением производительной мощности смартфонов, достаточной для использования их в качестве переносных игровых систем.\n",
    "3. Значимость компании **Nintendo** в современных реалиях может быть преувеличена: компания обеспечила себе место в первой тройке за счет, во-первых, большего количества различных вариантов игровых приставок, чем у конкурентов, и во-вторых, за счет более раннего начала деятельности по производству и продажек игровых систем. Отдельного упоминания заслуживает тот факт. что на момент выполнения анализа данных (начало 2021 года) у **Nintendo** отсутствует в предложении домашняя игровая система \"свежего\" поколения. \n",
    "4. **Персональные компьютеры** могли занять предпоследнюю строчку по продажам игр в связи с широким распространением и большим количеством игровых online-магазинов, позволяющих приобрести цифровую версию игры, и не привязывающих пользователя к физическому носителю. (То же можно сказать и о наиболее современных поколениях специализированных игровых систем, однако в их случае влияние на общую картину не столь велико)."
   ]
  },
  {
   "cell_type": "markdown",
   "metadata": {},
   "source": [
    "#### Изменение категорий возрастного рейтинга"
   ]
  },
  {
   "cell_type": "markdown",
   "metadata": {},
   "source": [
    "Нам необходимо измениить:\n",
    "- категорию **'K-A'** на категорию **'E'**;\n",
    "- категорию **'AO'** на категорию **'M'**."
   ]
  },
  {
   "cell_type": "code",
   "execution_count": 33,
   "metadata": {},
   "outputs": [
    {
     "data": {
      "text/plain": [
       "no_rating    6764\n",
       "E            3993\n",
       "T            2961\n",
       "M            1564\n",
       "E10+         1420\n",
       "EC              8\n",
       "RP              3\n",
       "Name: rating, dtype: int64"
      ]
     },
     "execution_count": 33,
     "metadata": {},
     "output_type": "execute_result"
    }
   ],
   "source": [
    "games['rating'] = games['rating'].replace('K-A', 'E')\n",
    "games['rating'] = games['rating'].replace('AO', 'M')\n",
    "games['rating'].value_counts()"
   ]
  },
  {
   "cell_type": "markdown",
   "metadata": {},
   "source": [
    "### <a id=\"15\">3. Анализ данных</a>"
   ]
  },
  {
   "cell_type": "markdown",
   "metadata": {},
   "source": [
    "### <a id=\"16\">3.1. Изучение изменения игрового рынка по годам</a>"
   ]
  },
  {
   "cell_type": "markdown",
   "metadata": {},
   "source": [
    "Выясним, сколько игр выпускалось за каждый год, представленный в нашем датасете."
   ]
  },
  {
   "cell_type": "code",
   "execution_count": 34,
   "metadata": {},
   "outputs": [],
   "source": [
    "games_years = games.pivot_table(\n",
    "    index='year_of_release', values='name', \n",
    "    aggfunc='count').reset_index().rename(columns={'name': 'count'})"
   ]
  },
  {
   "cell_type": "markdown",
   "metadata": {},
   "source": [
    "Построим гистограмму распределения количества игр по годам."
   ]
  },
  {
   "cell_type": "code",
   "execution_count": 35,
   "metadata": {},
   "outputs": [
    {
     "data": {
      "image/png": "[encoded data removed]",
      "text/plain": [
       "<Figure size 1280x800 with 1 Axes>"
      ]
     },
     "metadata": {
      "needs_background": "light"
     },
     "output_type": "display_data"
    }
   ],
   "source": [
    "plt.figure(figsize=(16,10), dpi= 80)\n",
    "plt.bar(games_years['year_of_release'], games_years['count'], color='purple', alpha=.7)\n",
    "\n",
    "plt.title('Количество игр, выпущенных по годам', fontsize=18)\n",
    "plt.xlabel('Год')\n",
    "plt.ylabel('Количество уникальных тайтлов выпущенных игр')\n",
    "plt.show()"
   ]
  },
  {
   "cell_type": "markdown",
   "metadata": {},
   "source": [
    "Как видно из графика, с 1980 по 1990 год ежегодно выпускалось от одного до нескольких десятков игр. После 1990 года начался едва заметный рост количества выпускаемых ежегодно игр, ставший заметным в 1994 году (как мы выяснили, именно в этом году вышло первое поколение игровой консоли **Sony PlayStation**) с показателем более 100 игр за год. В 1995 году количество игр превысило 200 и продолжило расти, достигнув локального пика в 1998 году с показателем в 400 оригинальный тайтлов. В 1999 и 2000 годах наблюдается незначительный спад, после чего в 2001 году количество игр снова растет и уже приближается к 500. 2002 год - резкий скачок до более чем 800 оригинальных тайтлов и продолжение роста количества до глобального пика в 2008 - 2009 годах (около 1400 оригинальных тайтлов). После чего наблюдается постепенный спад до уровня около 600 тайтлов в год в 2012 - 2016 годах. <font color = 'green'>Поскольку данные за 2016 год неполные, по итогам года можем получить картину, соответствующую небольшому, но росту с 2013 по 2016 года. Можем предположить, что 2017 год покажет результаты по крайней мере не хуже 2016 года. Если темпы роста последних лет сохранятся, ожидаем от 650 до 700 тайтлов, преставленных в 2017 году.</font>\n",
    "\n",
    "Очевидно, что данные с 1980 года по 1994 год не представляют для нас особого интереса в силу давности и принадлежности периоду зарождения игровой индустрии.\n",
    "\n",
    "После 1995 года рынок компьютерных игр начинает приобретать современные черты. Однако для построения прогнозов и рекомендаций бизнесу имеет смысл брать данные за последний период - с 2012 по 2016 года."
   ]
  },
  {
   "cell_type": "markdown",
   "metadata": {},
   "source": [
    "### <a id=\"17\"> 3.2. Изучение игровых платформ</a>"
   ]
  },
  {
   "cell_type": "markdown",
   "metadata": {},
   "source": [
    "Выведем на экран **Топ-10** игровых платформ по общему количеству проданных копий игр."
   ]
  },
  {
   "cell_type": "code",
   "execution_count": 36,
   "metadata": {},
   "outputs": [
    {
     "data": {
      "text/html": [
       "<div>\n",
       "<style scoped>\n",
       "    .dataframe tbody tr th:only-of-type {\n",
       "        vertical-align: middle;\n",
       "    }\n",
       "\n",
       "    .dataframe tbody tr th {\n",
       "        vertical-align: top;\n",
       "    }\n",
       "\n",
       "    .dataframe thead th {\n",
       "        text-align: right;\n",
       "    }\n",
       "</style>\n",
       "<table border=\"1\" class=\"dataframe\">\n",
       "  <thead>\n",
       "    <tr style=\"text-align: right;\">\n",
       "      <th></th>\n",
       "      <th>platform</th>\n",
       "      <th>total_sales</th>\n",
       "    </tr>\n",
       "  </thead>\n",
       "  <tbody>\n",
       "    <tr>\n",
       "      <td>0</td>\n",
       "      <td>PS2</td>\n",
       "      <td>1255.77</td>\n",
       "    </tr>\n",
       "    <tr>\n",
       "      <td>1</td>\n",
       "      <td>X360</td>\n",
       "      <td>971.42</td>\n",
       "    </tr>\n",
       "    <tr>\n",
       "      <td>2</td>\n",
       "      <td>PS3</td>\n",
       "      <td>939.65</td>\n",
       "    </tr>\n",
       "    <tr>\n",
       "      <td>3</td>\n",
       "      <td>Wii</td>\n",
       "      <td>907.51</td>\n",
       "    </tr>\n",
       "    <tr>\n",
       "      <td>4</td>\n",
       "      <td>DS</td>\n",
       "      <td>806.12</td>\n",
       "    </tr>\n",
       "    <tr>\n",
       "      <td>5</td>\n",
       "      <td>PS</td>\n",
       "      <td>730.86</td>\n",
       "    </tr>\n",
       "    <tr>\n",
       "      <td>6</td>\n",
       "      <td>GBA</td>\n",
       "      <td>317.85</td>\n",
       "    </tr>\n",
       "    <tr>\n",
       "      <td>7</td>\n",
       "      <td>PS4</td>\n",
       "      <td>314.14</td>\n",
       "    </tr>\n",
       "    <tr>\n",
       "      <td>8</td>\n",
       "      <td>PSP</td>\n",
       "      <td>294.05</td>\n",
       "    </tr>\n",
       "    <tr>\n",
       "      <td>9</td>\n",
       "      <td>PC</td>\n",
       "      <td>259.52</td>\n",
       "    </tr>\n",
       "  </tbody>\n",
       "</table>\n",
       "</div>"
      ],
      "text/plain": [
       "  platform  total_sales\n",
       "0      PS2      1255.77\n",
       "1     X360       971.42\n",
       "2      PS3       939.65\n",
       "3      Wii       907.51\n",
       "4       DS       806.12\n",
       "5       PS       730.86\n",
       "6      GBA       317.85\n",
       "7      PS4       314.14\n",
       "8      PSP       294.05\n",
       "9       PC       259.52"
      ]
     },
     "execution_count": 36,
     "metadata": {},
     "output_type": "execute_result"
    }
   ],
   "source": [
    "games.pivot_table(index='platform', \n",
    "                  values='total_sales', \n",
    "                  aggfunc='sum').sort_values(\n",
    "    by='total_sales', ascending=False).reset_index().head(10)"
   ]
  },
  {
   "cell_type": "markdown",
   "metadata": {},
   "source": [
    "Выполним аналогичную операцию для укрупненных категорий игровых платформ."
   ]
  },
  {
   "cell_type": "code",
   "execution_count": 37,
   "metadata": {},
   "outputs": [
    {
     "data": {
      "text/html": [
       "<div>\n",
       "<style scoped>\n",
       "    .dataframe tbody tr th:only-of-type {\n",
       "        vertical-align: middle;\n",
       "    }\n",
       "\n",
       "    .dataframe tbody tr th {\n",
       "        vertical-align: top;\n",
       "    }\n",
       "\n",
       "    .dataframe thead th {\n",
       "        text-align: right;\n",
       "    }\n",
       "</style>\n",
       "<table border=\"1\" class=\"dataframe\">\n",
       "  <thead>\n",
       "    <tr style=\"text-align: right;\">\n",
       "      <th></th>\n",
       "      <th>platform_category</th>\n",
       "      <th>total_sales</th>\n",
       "    </tr>\n",
       "  </thead>\n",
       "  <tbody>\n",
       "    <tr>\n",
       "      <td>0</td>\n",
       "      <td>playstation</td>\n",
       "      <td>3240.42</td>\n",
       "    </tr>\n",
       "    <tr>\n",
       "      <td>1</td>\n",
       "      <td>portable</td>\n",
       "      <td>1986.55</td>\n",
       "    </tr>\n",
       "    <tr>\n",
       "      <td>2</td>\n",
       "      <td>nintendo</td>\n",
       "      <td>1858.40</td>\n",
       "    </tr>\n",
       "    <tr>\n",
       "      <td>3</td>\n",
       "      <td>xbox</td>\n",
       "      <td>1229.16</td>\n",
       "    </tr>\n",
       "    <tr>\n",
       "      <td>4</td>\n",
       "      <td>other</td>\n",
       "      <td>339.24</td>\n",
       "    </tr>\n",
       "    <tr>\n",
       "      <td>5</td>\n",
       "      <td>pc</td>\n",
       "      <td>259.52</td>\n",
       "    </tr>\n",
       "  </tbody>\n",
       "</table>\n",
       "</div>"
      ],
      "text/plain": [
       "  platform_category  total_sales\n",
       "0       playstation      3240.42\n",
       "1          portable      1986.55\n",
       "2          nintendo      1858.40\n",
       "3              xbox      1229.16\n",
       "4             other       339.24\n",
       "5                pc       259.52"
      ]
     },
     "execution_count": 37,
     "metadata": {},
     "output_type": "execute_result"
    }
   ],
   "source": [
    "games.pivot_table(index='platform_category', \n",
    "                  values='total_sales', \n",
    "                  aggfunc='sum').sort_values(\n",
    "    by='total_sales', ascending=False).reset_index()"
   ]
  },
  {
   "cell_type": "markdown",
   "metadata": {},
   "source": [
    "**Первое, третье и шестое** места принадлежат различным поколениям игровой консоли *PlayStation*. На **втором** месте игровая консоль *XBox 360 от Microsoft* (это единственная строчка в **Топ-10**, доставшаяся Microsoft). На последнем **10** месте персональные компьютеры, **4** место досталось игровой консоли *Nintendo Wii*, **5, 7 и 9** места достались *портативным консолям* Nintendo и Sony, причем Nintendo в данном случае оказалась популярнее Sony."
   ]
  },
  {
   "cell_type": "markdown",
   "metadata": {},
   "source": [
    "### <a id=\"18\">3.3. Изучение платформ с наибольшими суммарными показателями продаж</a>"
   ]
  },
  {
   "cell_type": "markdown",
   "metadata": {},
   "source": [
    "Построим распределение по годам суммарных продаж игр для всех игровых платформ, отсортируем данные по убыванию показателя общих продаж, и выведем на экран первые 15 строк."
   ]
  },
  {
   "cell_type": "code",
   "execution_count": 38,
   "metadata": {},
   "outputs": [],
   "source": [
    "top_platforms_by_year = games.query('year_of_release >= 1995').pivot_table(\n",
    "    index=['platform', 'year_of_release', 'platform_category'], \n",
    "                  values='total_sales', \n",
    "                  aggfunc='sum').sort_values(\n",
    "    by='total_sales', ascending=False).reset_index()"
   ]
  },
  {
   "cell_type": "code",
   "execution_count": 39,
   "metadata": {},
   "outputs": [
    {
     "data": {
      "text/html": [
       "<div>\n",
       "<style scoped>\n",
       "    .dataframe tbody tr th:only-of-type {\n",
       "        vertical-align: middle;\n",
       "    }\n",
       "\n",
       "    .dataframe tbody tr th {\n",
       "        vertical-align: top;\n",
       "    }\n",
       "\n",
       "    .dataframe thead th {\n",
       "        text-align: right;\n",
       "    }\n",
       "</style>\n",
       "<table border=\"1\" class=\"dataframe\">\n",
       "  <thead>\n",
       "    <tr style=\"text-align: right;\">\n",
       "      <th></th>\n",
       "      <th>platform</th>\n",
       "      <th>year_of_release</th>\n",
       "      <th>platform_category</th>\n",
       "      <th>total_sales</th>\n",
       "    </tr>\n",
       "  </thead>\n",
       "  <tbody>\n",
       "    <tr>\n",
       "      <td>0</td>\n",
       "      <td>PS2</td>\n",
       "      <td>2004.0</td>\n",
       "      <td>playstation</td>\n",
       "      <td>211.81</td>\n",
       "    </tr>\n",
       "    <tr>\n",
       "      <td>1</td>\n",
       "      <td>Wii</td>\n",
       "      <td>2009.0</td>\n",
       "      <td>nintendo</td>\n",
       "      <td>206.97</td>\n",
       "    </tr>\n",
       "    <tr>\n",
       "      <td>2</td>\n",
       "      <td>PS2</td>\n",
       "      <td>2002.0</td>\n",
       "      <td>playstation</td>\n",
       "      <td>205.38</td>\n",
       "    </tr>\n",
       "    <tr>\n",
       "      <td>3</td>\n",
       "      <td>PS2</td>\n",
       "      <td>2003.0</td>\n",
       "      <td>playstation</td>\n",
       "      <td>184.31</td>\n",
       "    </tr>\n",
       "    <tr>\n",
       "      <td>4</td>\n",
       "      <td>Wii</td>\n",
       "      <td>2008.0</td>\n",
       "      <td>nintendo</td>\n",
       "      <td>171.32</td>\n",
       "    </tr>\n",
       "    <tr>\n",
       "      <td>5</td>\n",
       "      <td>X360</td>\n",
       "      <td>2010.0</td>\n",
       "      <td>xbox</td>\n",
       "      <td>170.03</td>\n",
       "    </tr>\n",
       "    <tr>\n",
       "      <td>6</td>\n",
       "      <td>PS</td>\n",
       "      <td>1998.0</td>\n",
       "      <td>playstation</td>\n",
       "      <td>169.49</td>\n",
       "    </tr>\n",
       "    <tr>\n",
       "      <td>7</td>\n",
       "      <td>PS2</td>\n",
       "      <td>2001.0</td>\n",
       "      <td>playstation</td>\n",
       "      <td>166.43</td>\n",
       "    </tr>\n",
       "    <tr>\n",
       "      <td>8</td>\n",
       "      <td>PS2</td>\n",
       "      <td>2005.0</td>\n",
       "      <td>playstation</td>\n",
       "      <td>160.66</td>\n",
       "    </tr>\n",
       "    <tr>\n",
       "      <td>9</td>\n",
       "      <td>PS3</td>\n",
       "      <td>2011.0</td>\n",
       "      <td>playstation</td>\n",
       "      <td>156.78</td>\n",
       "    </tr>\n",
       "    <tr>\n",
       "      <td>10</td>\n",
       "      <td>Wii</td>\n",
       "      <td>2007.0</td>\n",
       "      <td>nintendo</td>\n",
       "      <td>152.77</td>\n",
       "    </tr>\n",
       "    <tr>\n",
       "      <td>11</td>\n",
       "      <td>DS</td>\n",
       "      <td>2007.0</td>\n",
       "      <td>portable</td>\n",
       "      <td>146.94</td>\n",
       "    </tr>\n",
       "    <tr>\n",
       "      <td>12</td>\n",
       "      <td>DS</td>\n",
       "      <td>2008.0</td>\n",
       "      <td>portable</td>\n",
       "      <td>145.31</td>\n",
       "    </tr>\n",
       "    <tr>\n",
       "      <td>13</td>\n",
       "      <td>PS</td>\n",
       "      <td>1999.0</td>\n",
       "      <td>playstation</td>\n",
       "      <td>144.53</td>\n",
       "    </tr>\n",
       "    <tr>\n",
       "      <td>14</td>\n",
       "      <td>X360</td>\n",
       "      <td>2011.0</td>\n",
       "      <td>xbox</td>\n",
       "      <td>143.84</td>\n",
       "    </tr>\n",
       "  </tbody>\n",
       "</table>\n",
       "</div>"
      ],
      "text/plain": [
       "   platform  year_of_release platform_category  total_sales\n",
       "0       PS2           2004.0       playstation       211.81\n",
       "1       Wii           2009.0          nintendo       206.97\n",
       "2       PS2           2002.0       playstation       205.38\n",
       "3       PS2           2003.0       playstation       184.31\n",
       "4       Wii           2008.0          nintendo       171.32\n",
       "5      X360           2010.0              xbox       170.03\n",
       "6        PS           1998.0       playstation       169.49\n",
       "7       PS2           2001.0       playstation       166.43\n",
       "8       PS2           2005.0       playstation       160.66\n",
       "9       PS3           2011.0       playstation       156.78\n",
       "10      Wii           2007.0          nintendo       152.77\n",
       "11       DS           2007.0          portable       146.94\n",
       "12       DS           2008.0          portable       145.31\n",
       "13       PS           1999.0       playstation       144.53\n",
       "14     X360           2011.0              xbox       143.84"
      ]
     },
     "execution_count": 39,
     "metadata": {},
     "output_type": "execute_result"
    }
   ],
   "source": [
    "top_platforms_by_year.head(15)"
   ]
  },
  {
   "cell_type": "markdown",
   "metadata": {},
   "source": [
    "Построим гистограмму плотности распределения количества проданных игр по годам."
   ]
  },
  {
   "cell_type": "code",
   "execution_count": 40,
   "metadata": {},
   "outputs": [
    {
     "data": {
      "image/png": "[encoded data removed]",
      "text/plain": [
       "<Figure size 864x288 with 1 Axes>"
      ]
     },
     "metadata": {
      "needs_background": "light"
     },
     "output_type": "display_data"
    }
   ],
   "source": [
    "plt.figure(figsize=(12,4))\n",
    "plt.bar(top_platforms_by_year['year_of_release'], top_platforms_by_year['total_sales'], alpha=.1)\n",
    "plt.title('Количество игр, выпущенных по годам', fontsize=15)\n",
    "plt.xlabel('Год')\n",
    "plt.ylabel('Объем продаж игр')\n",
    "plt.show()"
   ]
  },
  {
   "cell_type": "code",
   "execution_count": 41,
   "metadata": {},
   "outputs": [
    {
     "data": {
      "image/png": "[encoded data removed]",
      "text/plain": [
       "<Figure size 864x432 with 1 Axes>"
      ]
     },
     "metadata": {
      "needs_background": "light"
     },
     "output_type": "display_data"
    }
   ],
   "source": [
    "test = games.query(             # построим график только для PS, XBox и Nintendo\n",
    "    'year_of_release >= 1995 and (platform_category == \"xbox\" or platform_category == \"playstation\"or platform_category == \"portable\")').pivot_table(\n",
    "    index='platform', columns = 'year_of_release', \n",
    "                  values='total_sales', \n",
    "                  aggfunc='sum')\n",
    "\n",
    "test.T.plot(kind='bar', stacked=True, figsize=(12,6));\n",
    "plt.title('Количество игр, выпущенных по годам', fontsize=15)\n",
    "plt.xlabel('Год')\n",
    "plt.ylabel('Количество выпущенных игр')\n",
    "plt.show()"
   ]
  },
  {
   "cell_type": "markdown",
   "metadata": {},
   "source": [
    "Также передадим в список названия игровых платформ из Топ-15 по количеству проданных игр за год (всего получим 6 наименований).\n",
    "После чего через цикл построим гистограммы распределения продаж игр по годам для каждой платформы."
   ]
  },
  {
   "cell_type": "code",
   "execution_count": 42,
   "metadata": {},
   "outputs": [
    {
     "data": {
      "image/png": "[encoded data removed]",
      "text/plain": [
       "<Figure size 864x288 with 1 Axes>"
      ]
     },
     "metadata": {
      "needs_background": "light"
     },
     "output_type": "display_data"
    },
    {
     "data": {
      "image/png": "[encoded data removed]",
      "text/plain": [
       "<Figure size 864x288 with 1 Axes>"
      ]
     },
     "metadata": {
      "needs_background": "light"
     },
     "output_type": "display_data"
    },
    {
     "data": {
      "image/png": "[encoded data removed]",
      "text/plain": [
       "<Figure size 864x288 with 1 Axes>"
      ]
     },
     "metadata": {
      "needs_background": "light"
     },
     "output_type": "display_data"
    },
    {
     "data": {
      "image/png": "[encoded data removed]",
      "text/plain": [
       "<Figure size 864x288 with 1 Axes>"
      ]
     },
     "metadata": {
      "needs_background": "light"
     },
     "output_type": "display_data"
    },
    {
     "data": {
      "image/png": "[encoded data removed]",
      "text/plain": [
       "<Figure size 864x288 with 1 Axes>"
      ]
     },
     "metadata": {
      "needs_background": "light"
     },
     "output_type": "display_data"
    },
    {
     "data": {
      "image/png": "[encoded data removed]",
      "text/plain": [
       "<Figure size 864x288 with 1 Axes>"
      ]
     },
     "metadata": {
      "needs_background": "light"
     },
     "output_type": "display_data"
    }
   ],
   "source": [
    "top_platform_list = ['PS2', 'Wii', 'X360', 'PS', 'PS3', 'DS']\n",
    "for platform in top_platform_list:\n",
    "    plt.figure(figsize=(12,4))\n",
    "    plt.bar(top_platforms_by_year[top_platforms_by_year['platform'] == platform]['year_of_release'],\n",
    "            top_platforms_by_year[top_platforms_by_year['platform'] == platform]['total_sales'],\n",
    "            color='brown', alpha=.6)\n",
    "    plt.title('Количество игр для ' + str(platform) +', выпущенных по годам', fontsize=15)\n",
    "    plt.xlabel('Год')\n",
    "    plt.ylabel('Объем продаж игр')\n",
    "    plt.show()"
   ]
  },
  {
   "cell_type": "markdown",
   "metadata": {},
   "source": [
    "### <a id=\"19\"> 3.4. Изучение данных за актуальный период</a>"
   ]
  },
  {
   "cell_type": "markdown",
   "metadata": {},
   "source": [
    "Определим актуальный период для выполнения прогнозов на 2017 год на основании следующих показателей:\n",
    "1. Изменения игровой индустрии с течением времени в целом (состояние рынка в виде ежегодного объема продаж игр для всех игровых платформ).\n",
    "2. Актуальное поколение игровых приставок и \"срок жизни\" поколений приставок."
   ]
  },
  {
   "cell_type": "markdown",
   "metadata": {},
   "source": [
    "На основании графика изменения объема продаж по годам можем сделать вывод, что актуальным периодом по отношению к 2017 году будет являться период с 2012 по 2016 года."
   ]
  },
  {
   "cell_type": "markdown",
   "metadata": {},
   "source": [
    "Средний срок активности поколений игровых приставок в плане продаж игр для этих приставок составляет 10 лет, однако наибольшая активность (наибольшие объемы продаж игр) приходятся на центральные 5 лет.\n",
    "\n",
    "Таким образом, в качестве актуального периода выбираем период длительностью в 5 лет с 2012 по 2016 год."
   ]
  },
  {
   "cell_type": "markdown",
   "metadata": {},
   "source": [
    "Последние поколения игровых приставок трех основных игроков этого рынка вышли в 2013 году у Sony и Microsoft и в 2012 году у Nintendo. Они и представляют наибольший интерес при прогнозировании, поскольку к 2017 году должны находиться на пике своей популярности."
   ]
  },
  {
   "cell_type": "markdown",
   "metadata": {},
   "source": [
    "Создадим новый датасет, выполнив срез данных по временному интервалу основного датасета, и в дальнейшем будем обращаться при анализе к новой таблице."
   ]
  },
  {
   "cell_type": "code",
   "execution_count": 43,
   "metadata": {},
   "outputs": [],
   "source": [
    "games_actually = games.query('2012 <= year_of_release <= 2016')"
   ]
  },
  {
   "cell_type": "code",
   "execution_count": 44,
   "metadata": {},
   "outputs": [
    {
     "name": "stdout",
     "output_type": "stream",
     "text": [
      "<class 'pandas.core.frame.DataFrame'>\n",
      "Int64Index: 2886 entries, 16 to 16714\n",
      "Data columns (total 13 columns):\n",
      "name                 2886 non-null object\n",
      "platform             2886 non-null object\n",
      "year_of_release      2886 non-null float64\n",
      "genre                2886 non-null object\n",
      "na_sales             2886 non-null float64\n",
      "eu_sales             2886 non-null float64\n",
      "jp_sales             2886 non-null float64\n",
      "other_sales          2886 non-null float64\n",
      "critic_score         1312 non-null float64\n",
      "user_score           1531 non-null float64\n",
      "rating               2886 non-null object\n",
      "total_sales          2886 non-null float64\n",
      "platform_category    2886 non-null object\n",
      "dtypes: float64(8), object(5)\n",
      "memory usage: 315.7+ KB\n"
     ]
    }
   ],
   "source": [
    "# запросим информацию о полученном новом датасете\n",
    "games_actually.info()"
   ]
  },
  {
   "cell_type": "markdown",
   "metadata": {},
   "source": [
    "Итак, мы получили таблицу с 2886 строками данных. Этого должно быть вполне достаточно для составления прогноза."
   ]
  },
  {
   "cell_type": "code",
   "execution_count": 45,
   "metadata": {},
   "outputs": [
    {
     "data": {
      "text/html": [
       "<div>\n",
       "<style scoped>\n",
       "    .dataframe tbody tr th:only-of-type {\n",
       "        vertical-align: middle;\n",
       "    }\n",
       "\n",
       "    .dataframe tbody tr th {\n",
       "        vertical-align: top;\n",
       "    }\n",
       "\n",
       "    .dataframe thead th {\n",
       "        text-align: right;\n",
       "    }\n",
       "</style>\n",
       "<table border=\"1\" class=\"dataframe\">\n",
       "  <thead>\n",
       "    <tr style=\"text-align: right;\">\n",
       "      <th>year_of_release</th>\n",
       "      <th>2012.0</th>\n",
       "      <th>2013.0</th>\n",
       "      <th>2014.0</th>\n",
       "      <th>2015.0</th>\n",
       "      <th>2016.0</th>\n",
       "    </tr>\n",
       "    <tr>\n",
       "      <th>platform</th>\n",
       "      <th></th>\n",
       "      <th></th>\n",
       "      <th></th>\n",
       "      <th></th>\n",
       "      <th></th>\n",
       "    </tr>\n",
       "  </thead>\n",
       "  <tbody>\n",
       "    <tr>\n",
       "      <td>3DS</td>\n",
       "      <td>51.36</td>\n",
       "      <td>56.57</td>\n",
       "      <td>43.76</td>\n",
       "      <td>27.78</td>\n",
       "      <td>15.14</td>\n",
       "    </tr>\n",
       "    <tr>\n",
       "      <td>DS</td>\n",
       "      <td>11.01</td>\n",
       "      <td>1.54</td>\n",
       "      <td>NaN</td>\n",
       "      <td>NaN</td>\n",
       "      <td>NaN</td>\n",
       "    </tr>\n",
       "    <tr>\n",
       "      <td>PC</td>\n",
       "      <td>23.22</td>\n",
       "      <td>12.38</td>\n",
       "      <td>13.28</td>\n",
       "      <td>8.52</td>\n",
       "      <td>5.25</td>\n",
       "    </tr>\n",
       "    <tr>\n",
       "      <td>PS3</td>\n",
       "      <td>107.36</td>\n",
       "      <td>113.25</td>\n",
       "      <td>47.76</td>\n",
       "      <td>16.82</td>\n",
       "      <td>3.60</td>\n",
       "    </tr>\n",
       "    <tr>\n",
       "      <td>PS4</td>\n",
       "      <td>NaN</td>\n",
       "      <td>25.99</td>\n",
       "      <td>100.00</td>\n",
       "      <td>118.90</td>\n",
       "      <td>69.25</td>\n",
       "    </tr>\n",
       "    <tr>\n",
       "      <td>PSP</td>\n",
       "      <td>7.69</td>\n",
       "      <td>3.14</td>\n",
       "      <td>0.24</td>\n",
       "      <td>0.12</td>\n",
       "      <td>NaN</td>\n",
       "    </tr>\n",
       "    <tr>\n",
       "      <td>PSV</td>\n",
       "      <td>16.19</td>\n",
       "      <td>10.59</td>\n",
       "      <td>11.90</td>\n",
       "      <td>6.25</td>\n",
       "      <td>4.25</td>\n",
       "    </tr>\n",
       "    <tr>\n",
       "      <td>Wii</td>\n",
       "      <td>21.71</td>\n",
       "      <td>8.59</td>\n",
       "      <td>3.75</td>\n",
       "      <td>1.14</td>\n",
       "      <td>0.18</td>\n",
       "    </tr>\n",
       "    <tr>\n",
       "      <td>WiiU</td>\n",
       "      <td>17.56</td>\n",
       "      <td>21.65</td>\n",
       "      <td>22.03</td>\n",
       "      <td>16.35</td>\n",
       "      <td>4.60</td>\n",
       "    </tr>\n",
       "    <tr>\n",
       "      <td>X360</td>\n",
       "      <td>99.74</td>\n",
       "      <td>88.58</td>\n",
       "      <td>34.74</td>\n",
       "      <td>11.96</td>\n",
       "      <td>1.52</td>\n",
       "    </tr>\n",
       "    <tr>\n",
       "      <td>XOne</td>\n",
       "      <td>NaN</td>\n",
       "      <td>18.96</td>\n",
       "      <td>54.07</td>\n",
       "      <td>60.14</td>\n",
       "      <td>26.15</td>\n",
       "    </tr>\n",
       "  </tbody>\n",
       "</table>\n",
       "</div>"
      ],
      "text/plain": [
       "year_of_release  2012.0  2013.0  2014.0  2015.0  2016.0\n",
       "platform                                               \n",
       "3DS               51.36   56.57   43.76   27.78   15.14\n",
       "DS                11.01    1.54     NaN     NaN     NaN\n",
       "PC                23.22   12.38   13.28    8.52    5.25\n",
       "PS3              107.36  113.25   47.76   16.82    3.60\n",
       "PS4                 NaN   25.99  100.00  118.90   69.25\n",
       "PSP                7.69    3.14    0.24    0.12     NaN\n",
       "PSV               16.19   10.59   11.90    6.25    4.25\n",
       "Wii               21.71    8.59    3.75    1.14    0.18\n",
       "WiiU              17.56   21.65   22.03   16.35    4.60\n",
       "X360              99.74   88.58   34.74   11.96    1.52\n",
       "XOne                NaN   18.96   54.07   60.14   26.15"
      ]
     },
     "execution_count": 45,
     "metadata": {},
     "output_type": "execute_result"
    }
   ],
   "source": [
    "games_total_sales = games_actually.pivot_table(\n",
    "    index='platform', columns='year_of_release', \n",
    "                  values='total_sales', \n",
    "                  aggfunc='sum')#.sort_values(\n",
    "   # by='total_sales', ascending=False).reset_index().head(20)\n",
    "games_total_sales"
   ]
  },
  {
   "cell_type": "markdown",
   "metadata": {},
   "source": [
    "Проанализируем полученную сводную таблицу:\n",
    "- **2012 год:**\n",
    "    - PS3 - 107 миллионов проданных копий игр, 3 место в общем списке за пятилетний период;\n",
    "    - X360 - около 100 млн., 5 место;\n",
    "    - 3DS - 51 млн., 11 место;\n",
    "    - PC - 23 млн., 18 место;\n",
    "    - Wii - 22 млн. и 20 место;\n",
    "    - *в этом году вышла WiiU, и в следующем году выходят PS4 и XOne.*\n",
    "    \n",
    "    \n",
    "- **2013 год:**\n",
    "    - PS3 - 113 млн., 2 место;\n",
    "    - Х360 - 89 млн., 6 место;\n",
    "    - 3DS - 57 млн., 9 место;\n",
    "    - PS4 - 26 млн., 17 место.\n",
    "    \n",
    "    \n",
    "- **2014 год:**\n",
    "    - PS4 - 100 млн., 4 место;\n",
    "    - XOne - 54 млн., 10 место;\n",
    "    - PS3 - 48 млн., 12 место;\n",
    "    - 3DS - 44 млн., 13 место;\n",
    "    - X360 - 35 млн., 14 место;\n",
    "    - WiiU - 22 млн., 19 место.\n",
    "    \n",
    "    \n",
    "- **2015 год:**\n",
    "    - PS4 - 119 млн. и 1 место в топе среди всех платформ за 5 лет;\n",
    "    - XOne - 60 млн., 8 место;\n",
    "    - 3DS - 28 млн., 15 место.\n",
    "    \n",
    "    \n",
    "- **2016 год:**\n",
    "    - PS4 - 70 млн., 7 место;\n",
    "    - XOne - 26 млн., 16 место."
   ]
  },
  {
   "cell_type": "code",
   "execution_count": 46,
   "metadata": {},
   "outputs": [
    {
     "data": {
      "image/png": "[encoded data removed]",
      "text/plain": [
       "<Figure size 864x432 with 1 Axes>"
      ]
     },
     "metadata": {
      "needs_background": "light"
     },
     "output_type": "display_data"
    }
   ],
   "source": [
    "games_total_sales.T.plot(kind='bar', stacked=True, figsize=(12,6));\n",
    "plt.title('Суммарный объем продаж игр на разных платформах по годам', fontsize=15)\n",
    "plt.xlabel('Год')\n",
    "plt.ylabel('Количество проданных игр')\n",
    "plt.show()"
   ]
  },
  {
   "cell_type": "markdown",
   "metadata": {},
   "source": [
    "**Выводы:**\n",
    "\n",
    "1. Игровые приставки **PlayStation** пользуются большей популярностью, чем **XBox**.\n",
    "2. Сильной стороной **Nintendo** являются ее портативные игровыен консоли.\n",
    "3. Разница в популярности **Playstation и Xbox** сохраняется на всем протяжении периода актуальности игровой платформы.\n",
    "4. *Данные за 2016 год* являются неполными, и их *лучше исключить* из анализа, остановившись на периоде 2012 - 2015 гг.\n",
    "5. В 2017 году наиболее перспективными платформами для предложения игр будут **PS4 (*1 место*)** и **XOne (*2 место*)**.\n",
    "6. Имеет смысл следить за новостями о планируемом выходе следующего поколения *портативной игровой консоли* от **Nintendo** (учитывая выход 3DS в 2011 году, в ближайшее время компания может представить следующее поколение).\n",
    "\n",
    "<font color='grey'>*// инсайдерская информация из будущего: в 2017 году Nintendo действительно выпустила новую портативную игровую консоль Nintendo Switch, и по состоянию на 31 декабря 2019 года, на Nintendo Switch было продано более 310,65 миллионов копий игр."
   ]
  },
  {
   "cell_type": "markdown",
   "metadata": {},
   "source": [
    "### <a id=\"20\">3.5. Построение диаграммы размаха</a>"
   ]
  },
  {
   "cell_type": "markdown",
   "metadata": {},
   "source": [
    "Построим графики \"ящик с усами\" по глобальным продажам игр в разбивке по платформам."
   ]
  },
  {
   "cell_type": "code",
   "execution_count": 48,
   "metadata": {},
   "outputs": [],
   "source": [
    "games_total_sales = games_actually.pivot_table(\n",
    "    index=['platform', 'year_of_release'], \n",
    "                  values='total_sales', \n",
    "                  aggfunc='sum').sort_values(\n",
    "    by='total_sales', ascending=False).reset_index().head(20)"
   ]
  },
  {
   "cell_type": "code",
   "execution_count": 49,
   "metadata": {},
   "outputs": [
    {
     "data": {
      "image/png": "[encoded data removed]",
      "text/plain": [
       "<Figure size 936x720 with 1 Axes>"
      ]
     },
     "metadata": {
      "needs_background": "light"
     },
     "output_type": "display_data"
    }
   ],
   "source": [
    "plt.figure(figsize=(13,10))\n",
    "sns.boxplot(x='platform', y='total_sales', data=games_total_sales)\n",
    "\n",
    "plt.title('Диаграмма размаха показателя объемов продаж игр по игровым платформам', fontsize=15)\n",
    "plt.xlabel('Игровые платформы')\n",
    "plt.ylabel('Количество проданных копий игр, млн. шт.')\n",
    "plt.show()"
   ]
  },
  {
   "cell_type": "markdown",
   "metadata": {},
   "source": [
    "По графику, представленному выше, мы видим следующее:\n",
    "1. Самое большое значение медианы принадлежит **PS3** как в абсолютном показателе, так и относительно собственных первой и третьей квартилей.\n",
    "2. В относительном показателе ситуация с **X360** похожа на **PS3**, а меньшие абсолютные показатели обусловлены меньшей популярностью игровой консоли Microsoft в принципе.\n",
    "3. На основании предыдущих пунктов можно сделать вывод, что к концу своего жизненного цикла *диаграммы размаха оказываются сильно смещенными влево*: относительно небольшое количество игровых тайтлов обеспечивает половину продаж игр для платформы, и достаточно большое количество различных тайтлов составляют другую половину продаж. Расстояние между границей 3 квартили и максимальным значением значительно меньше расстояния между границей 1 квартили и минимальным значением.\n",
    "4. На графиках не видно выбросов, все данные из нашей таблицы попадают в доверительный интервал.\n",
    "5. Данные по **PC, Wii и WiiU** нерепрезентативны. В случае с последним поколением игровой платформы Microsoft, **XOne** показала немногим лучшие результаты, чем **3DS** от Nintendo и сильное отставание от тройки лидеров. Это может говорить о том, что XBox менее популярен и развивается с меньшей скоростью, чем PlayStation, однако является более перспективным, чем игровые платформы Nintendo. В будущем ожидается соотношение **XOne к PS4**, близкое к отношению **X360 - PS3**."
   ]
  },
  {
   "cell_type": "markdown",
   "metadata": {},
   "source": [
    "Посмотрим также на количественные показатели общих продаж игр для платформ за рассматриваемый период."
   ]
  },
  {
   "cell_type": "code",
   "execution_count": 50,
   "metadata": {},
   "outputs": [
    {
     "data": {
      "text/html": [
       "<div>\n",
       "<style scoped>\n",
       "    .dataframe tbody tr th:only-of-type {\n",
       "        vertical-align: middle;\n",
       "    }\n",
       "\n",
       "    .dataframe tbody tr th {\n",
       "        vertical-align: top;\n",
       "    }\n",
       "\n",
       "    .dataframe thead th {\n",
       "        text-align: right;\n",
       "    }\n",
       "</style>\n",
       "<table border=\"1\" class=\"dataframe\">\n",
       "  <thead>\n",
       "    <tr style=\"text-align: right;\">\n",
       "      <th></th>\n",
       "      <th>platform</th>\n",
       "      <th>total_sales</th>\n",
       "    </tr>\n",
       "  </thead>\n",
       "  <tbody>\n",
       "    <tr>\n",
       "      <td>3</td>\n",
       "      <td>PS4</td>\n",
       "      <td>314.14</td>\n",
       "    </tr>\n",
       "    <tr>\n",
       "      <td>2</td>\n",
       "      <td>PS3</td>\n",
       "      <td>268.37</td>\n",
       "    </tr>\n",
       "    <tr>\n",
       "      <td>6</td>\n",
       "      <td>X360</td>\n",
       "      <td>223.06</td>\n",
       "    </tr>\n",
       "    <tr>\n",
       "      <td>0</td>\n",
       "      <td>3DS</td>\n",
       "      <td>179.47</td>\n",
       "    </tr>\n",
       "    <tr>\n",
       "      <td>7</td>\n",
       "      <td>XOne</td>\n",
       "      <td>140.36</td>\n",
       "    </tr>\n",
       "    <tr>\n",
       "      <td>1</td>\n",
       "      <td>PC</td>\n",
       "      <td>23.22</td>\n",
       "    </tr>\n",
       "    <tr>\n",
       "      <td>5</td>\n",
       "      <td>WiiU</td>\n",
       "      <td>22.03</td>\n",
       "    </tr>\n",
       "    <tr>\n",
       "      <td>4</td>\n",
       "      <td>Wii</td>\n",
       "      <td>21.71</td>\n",
       "    </tr>\n",
       "  </tbody>\n",
       "</table>\n",
       "</div>"
      ],
      "text/plain": [
       "  platform  total_sales\n",
       "3      PS4       314.14\n",
       "2      PS3       268.37\n",
       "6     X360       223.06\n",
       "0      3DS       179.47\n",
       "7     XOne       140.36\n",
       "1       PC        23.22\n",
       "5     WiiU        22.03\n",
       "4      Wii        21.71"
      ]
     },
     "execution_count": 50,
     "metadata": {},
     "output_type": "execute_result"
    }
   ],
   "source": [
    "games_total_sales.groupby('platform').sum(\n",
    ").drop('year_of_release', axis=1).reset_index().sort_values(by='total_sales', ascending=False)"
   ]
  },
  {
   "cell_type": "markdown",
   "metadata": {},
   "source": [
    "Мы имеем победителей: в нашем **Топ-5** наиболее значимых игровых платформ остаются **PS3, PS4, X360, 3DS и XOne.**"
   ]
  },
  {
   "cell_type": "markdown",
   "metadata": {},
   "source": [
    "### <a id=\"21\"> 3.6. Изучение влияния отзывов на продажи</a>"
   ]
  },
  {
   "cell_type": "markdown",
   "metadata": {},
   "source": [
    "1. Сперва построим график рассеяния зависимости объема продаж от оценок пользователей и критиков для игровой платформы PS3 (как для лидера по объему продаж игр за рассматриваемый период).\n",
    "\n",
    "2. Затем рассчитаем коэффициенты корреляции.\n",
    "\n",
    "3. После чего произведем те же действия для всех изучаемых платформ в целом и сравним результаты."
   ]
  },
  {
   "cell_type": "code",
   "execution_count": 51,
   "metadata": {},
   "outputs": [
    {
     "data": {
      "image/png": "[encoded data removed]",
      "text/plain": [
       "<Figure size 1080x720 with 1 Axes>"
      ]
     },
     "metadata": {
      "needs_background": "light"
     },
     "output_type": "display_data"
    }
   ],
   "source": [
    "plt.figure(figsize=(15, 10))\n",
    "sns.scatterplot(x='user_score', y='total_sales', data=games_actually.query('platform == \"PS3\"'), \n",
    "                alpha=.5, label='Оценки игроков', color='r')\n",
    "sns.scatterplot(x='critic_score', y='total_sales', data=games_actually.query('platform == \"PS3\"'),\n",
    "                alpha = .3, label='Оценки критиков', color='y')\n",
    "\n",
    "plt.title('Диаграмма рассеяния данных зависимости объема продаж игр для PS3 от оценок', fontsize=15)\n",
    "plt.xlabel('Оценка игры по шкале от 0 до 1')\n",
    "plt.ylabel('Количество проданных копий игр для PS3, млн. шт.')\n",
    "plt.legend()\n",
    "plt.show()"
   ]
  },
  {
   "cell_type": "markdown",
   "metadata": {},
   "source": [
    "Рассчитаем коэффициент корреляции соответствующих показателей."
   ]
  },
  {
   "cell_type": "code",
   "execution_count": 52,
   "metadata": {},
   "outputs": [
    {
     "name": "stdout",
     "output_type": "stream",
     "text": [
      "Корреляция между объемом продаж и оценками игроков для PS3 составляет -0.005143522887113768\n",
      "Корреляция между объемом продаж и оценками критиков для PS3 составляет 0.3314972592629592\n",
      "Корреляция между оценками игроков и оценками критиков для PS3 составляет 0.5394556902119465\n"
     ]
    }
   ],
   "source": [
    "print('Корреляция между объемом продаж и оценками игроков для PS3 составляет', games_actually[games_actually['platform'] == 'PS3']['total_sales'].corr(games_actually[games_actually['platform'] == 'PS3']['user_score']))\n",
    "print('Корреляция между объемом продаж и оценками критиков для PS3 составляет', games_actually[games_actually['platform'] == 'PS3']['total_sales'].corr(games_actually[games_actually['platform'] == 'PS3']['critic_score']))\n",
    "print('Корреляция между оценками игроков и оценками критиков для PS3 составляет', games_actually[games_actually['platform'] == 'PS3']['user_score'].corr(games_actually[games_actually['platform'] == 'PS3']['critic_score']))"
   ]
  },
  {
   "cell_type": "markdown",
   "metadata": {},
   "source": [
    "Наблюдаем отсутствие взаимосвязи между объемами продаж игр и оценками игроков, очень слабую взаимосвязь объемов с оценками критиков, и среднюю взаимосвязь оценок пользователей с оценками критиков."
   ]
  },
  {
   "cell_type": "code",
   "execution_count": 53,
   "metadata": {},
   "outputs": [
    {
     "data": {
      "image/png": "[encoded data removed]",
      "text/plain": [
       "<Figure size 1080x720 with 1 Axes>"
      ]
     },
     "metadata": {
      "needs_background": "light"
     },
     "output_type": "display_data"
    }
   ],
   "source": [
    "plt.figure(figsize=(15, 10))\n",
    "sns.scatterplot(x='user_score', y='total_sales', data=games_actually, \n",
    "                alpha=.5, label='Оценки игроков')\n",
    "sns.scatterplot(x='critic_score', y='total_sales', data=games_actually,\n",
    "                alpha = .3, label='Оценки критиков', color='y')\n",
    "\n",
    "plt.title('Диаграмма рассеяния данных зависимости объема продаж от оценок', fontsize=15)\n",
    "plt.xlabel('Оценка игры по шкале от 0 до 1')\n",
    "plt.ylabel('Количество проданных копий игр, млн. шт.')\n",
    "plt.legend()\n",
    "plt.show()"
   ]
  },
  {
   "cell_type": "markdown",
   "metadata": {},
   "source": [
    "Рассчитаем коэффициент корреляции соответствующих показателей."
   ]
  },
  {
   "cell_type": "code",
   "execution_count": 54,
   "metadata": {},
   "outputs": [
    {
     "name": "stdout",
     "output_type": "stream",
     "text": [
      "Корреляция между объемом продаж и оценками игроков составляет 0.004428817675493265\n",
      "Корреляция между объемом продаж и оценками критиков составляет 0.3081967459207773\n",
      "Корреляция между оценками игроков и оценками критиков составляет 0.5177272095232914\n"
     ]
    }
   ],
   "source": [
    "print('Корреляция между объемом продаж и оценками игроков составляет', games_actually['total_sales'].corr(games_actually['user_score']))\n",
    "print('Корреляция между объемом продаж и оценками критиков составляет', games_actually['total_sales'].corr(games_actually['critic_score']))\n",
    "print('Корреляция между оценками игроков и оценками критиков составляет', games_actually['user_score'].corr(games_actually['critic_score']))"
   ]
  },
  {
   "cell_type": "markdown",
   "metadata": {},
   "source": [
    "Данные из рассчетов подтверждают и дополняют то, что видно из графика рассеяния: \n",
    "1. Коэффициент корреляции между объемом продаж и оценками пользователей настолько мал, что его можно считать равным нулю, корреляция отсутствует. Отчасти это может объясняться тем, что для того, чтобы игрок поставил игре оценку, он, в большинстве случаев, игру должен сначала купить.\n",
    "2. Коэффициент корреляции между объемом продаж и оценками критиков равен 0.3 и говорит об очень слабой взаимосвязи. Взаимосвязь есть, но она настолько слаба, что ее можно не брать в расчет. Это может быть обусловлено тем, что хорошие оценки критиков могут стать дополнительным аргументом при решении приобретения игры.\n",
    "3. Между оценками игроков и оценками критиков наблюдаем среднюю корреляцию с коэффициентом в 0.52.\n",
    "4. То, что можно увидеть на графике, но о чем нам не скажет значение коэффициента корреляции: в наших данных нет игр с крайне низким рейтингом и высоким показателем объема продаж, с другой стороны, максимальные объемы продаж соответствуют играм с крайне высоким рейтингом.\n",
    "    - Отсюда можно сделать вывод, что на продажи могут повлиять не оценки критиков или игроков в целом, а предельные значения оценок. Иными словами, средняя оценка не увеличивает и не уменьшает привлекательности игры, тогда как крайне низкая оценка отталкивает от ее приобретения, а крайне высокая может пробудить интерес даже при изначально безразличном отношении."
   ]
  },
  {
   "cell_type": "markdown",
   "metadata": {},
   "source": [
    "**Вывод:**\n",
    "- Рассеяние результатов для самой популярной игровой платформы соответсвует рассеянию результатов по всем платформам. Общая картина сохраняется при некоторых незначительных различиях.\n",
    "- Оценки игроков не влияют на объемы продаж, оценки критиков влияют слабо.\n",
    "- Можно ожидать влияние предельных оценок (в первую очередь, критиков) на поведение покупателей. Крайне низкие оценки  снижают интерес к игре, крайне высокие - повышают (хотя и в данном вопросе не без исключений: необоснованно высокие или низкие оценки критиков могут обернуться прямо-противоположным)\n",
    "- Исходя из всего вышеозвученного можно заключить, что лучше не отталкиваться в прогнозировании популярности игры от оценок критиков и игроков."
   ]
  },
  {
   "cell_type": "markdown",
   "metadata": {},
   "source": [
    "### <a id=\"22\"> 3.7. Изучение распределния игр по жанрам</a>"
   ]
  },
  {
   "cell_type": "markdown",
   "metadata": {},
   "source": [
    "Построим древовидную карту жанров исследуемого временного интервала по аналогии с картой жанров для общего объема данных."
   ]
  },
  {
   "cell_type": "code",
   "execution_count": 55,
   "metadata": {},
   "outputs": [
    {
     "data": {
      "image/png": "[encoded data removed]",
      "text/plain": [
       "<Figure size 960x640 with 1 Axes>"
      ]
     },
     "metadata": {
      "needs_background": "light"
     },
     "output_type": "display_data"
    }
   ],
   "source": [
    "game_plot = games_actually.groupby('genre').size().reset_index(name='counts')\n",
    "labels = game_plot.apply(lambda x: str(x[0]) + \"\\n (\" + str(x[1]) + \")\", axis=1)\n",
    "sizes = game_plot['counts'].values.tolist()\n",
    "colors = [plt.cm.Spectral(i/float(len(labels))) for i in range(len(labels))]\n",
    "\n",
    "plt.figure(figsize=(12,8), dpi= 80)\n",
    "squarify.plot(sizes=sizes, label=labels, color=colors, alpha=.8)\n",
    "\n",
    "plt.title('Распределение игр по жанрам в актуальный исследуемый период')\n",
    "plt.axis('off')\n",
    "plt.show()\n"
   ]
  },
  {
   "cell_type": "markdown",
   "metadata": {},
   "source": [
    "По сравнению с общим объемом данных ситуация несколько изменилась: на первом месте по прежнему жанр Action, Sport сместился со 2 места на 4. Его место заняли игры жанра RPG (с показателем, почти в 2.5 раза меньшим, чем у игр жанра Action). В остальном картина схожая, то, что для нас важно - игры жанра Action пользовались и продолжают пользоваться максимальной популярностью.\n",
    "\n",
    "\n",
    "Однако здесь мы имеем дело с количеством игровых тайтлов, включенных в категорию того или иного жанроа. Далее мы выясним, какие объемы продаж соответствуют каждому жанру."
   ]
  },
  {
   "cell_type": "code",
   "execution_count": 56,
   "metadata": {},
   "outputs": [
    {
     "data": {
      "text/html": [
       "<div>\n",
       "<style scoped>\n",
       "    .dataframe tbody tr th:only-of-type {\n",
       "        vertical-align: middle;\n",
       "    }\n",
       "\n",
       "    .dataframe tbody tr th {\n",
       "        vertical-align: top;\n",
       "    }\n",
       "\n",
       "    .dataframe thead th {\n",
       "        text-align: right;\n",
       "    }\n",
       "</style>\n",
       "<table border=\"1\" class=\"dataframe\">\n",
       "  <thead>\n",
       "    <tr style=\"text-align: right;\">\n",
       "      <th></th>\n",
       "      <th>genre</th>\n",
       "      <th>count</th>\n",
       "      <th>total_sales</th>\n",
       "      <th>index</th>\n",
       "    </tr>\n",
       "  </thead>\n",
       "  <tbody>\n",
       "    <tr>\n",
       "      <td>0</td>\n",
       "      <td>Action</td>\n",
       "      <td>1031</td>\n",
       "      <td>441.12</td>\n",
       "      <td>0.427856</td>\n",
       "    </tr>\n",
       "    <tr>\n",
       "      <td>1</td>\n",
       "      <td>Shooter</td>\n",
       "      <td>235</td>\n",
       "      <td>304.73</td>\n",
       "      <td>1.296723</td>\n",
       "    </tr>\n",
       "    <tr>\n",
       "      <td>2</td>\n",
       "      <td>Role-Playing</td>\n",
       "      <td>370</td>\n",
       "      <td>192.80</td>\n",
       "      <td>0.521081</td>\n",
       "    </tr>\n",
       "    <tr>\n",
       "      <td>3</td>\n",
       "      <td>Sports</td>\n",
       "      <td>268</td>\n",
       "      <td>181.07</td>\n",
       "      <td>0.675634</td>\n",
       "    </tr>\n",
       "    <tr>\n",
       "      <td>4</td>\n",
       "      <td>Misc</td>\n",
       "      <td>192</td>\n",
       "      <td>85.04</td>\n",
       "      <td>0.442917</td>\n",
       "    </tr>\n",
       "    <tr>\n",
       "      <td>5</td>\n",
       "      <td>Platform</td>\n",
       "      <td>85</td>\n",
       "      <td>61.00</td>\n",
       "      <td>0.717647</td>\n",
       "    </tr>\n",
       "    <tr>\n",
       "      <td>6</td>\n",
       "      <td>Racing</td>\n",
       "      <td>115</td>\n",
       "      <td>53.50</td>\n",
       "      <td>0.465217</td>\n",
       "    </tr>\n",
       "    <tr>\n",
       "      <td>7</td>\n",
       "      <td>Fighting</td>\n",
       "      <td>109</td>\n",
       "      <td>44.49</td>\n",
       "      <td>0.408165</td>\n",
       "    </tr>\n",
       "    <tr>\n",
       "      <td>8</td>\n",
       "      <td>Simulation</td>\n",
       "      <td>80</td>\n",
       "      <td>35.12</td>\n",
       "      <td>0.439000</td>\n",
       "    </tr>\n",
       "    <tr>\n",
       "      <td>9</td>\n",
       "      <td>Adventure</td>\n",
       "      <td>302</td>\n",
       "      <td>29.43</td>\n",
       "      <td>0.097450</td>\n",
       "    </tr>\n",
       "    <tr>\n",
       "      <td>10</td>\n",
       "      <td>Strategy</td>\n",
       "      <td>71</td>\n",
       "      <td>13.34</td>\n",
       "      <td>0.187887</td>\n",
       "    </tr>\n",
       "    <tr>\n",
       "      <td>11</td>\n",
       "      <td>Puzzle</td>\n",
       "      <td>28</td>\n",
       "      <td>4.89</td>\n",
       "      <td>0.174643</td>\n",
       "    </tr>\n",
       "  </tbody>\n",
       "</table>\n",
       "</div>"
      ],
      "text/plain": [
       "           genre  count  total_sales     index\n",
       "0         Action   1031       441.12  0.427856\n",
       "1        Shooter    235       304.73  1.296723\n",
       "2   Role-Playing    370       192.80  0.521081\n",
       "3         Sports    268       181.07  0.675634\n",
       "4           Misc    192        85.04  0.442917\n",
       "5       Platform     85        61.00  0.717647\n",
       "6         Racing    115        53.50  0.465217\n",
       "7       Fighting    109        44.49  0.408165\n",
       "8     Simulation     80        35.12  0.439000\n",
       "9      Adventure    302        29.43  0.097450\n",
       "10      Strategy     71        13.34  0.187887\n",
       "11        Puzzle     28         4.89  0.174643"
      ]
     },
     "execution_count": 56,
     "metadata": {},
     "output_type": "execute_result"
    }
   ],
   "source": [
    "genres_sales = games_actually.pivot_table(index='genre', \n",
    "                  values=['total_sales', 'name'], \n",
    "                  aggfunc={'total_sales':'sum', 'name':'count'}).sort_values(\n",
    "    by='total_sales', ascending=False).reset_index().rename(columns={'name': 'count'})\n",
    "\n",
    "genres_sales['index'] = genres_sales['total_sales']  / genres_sales['count']\n",
    "genres_sales"
   ]
  },
  {
   "cell_type": "markdown",
   "metadata": {},
   "source": [
    "Ожидаемо выяснилось, что на первом месте по продажам игры жанра **Action**: 441 миллион проданных копий игр данного жанра. На втором месте игры жанра **Shooter** и почти 305 миллионов копий. Далее **ролевые игры** - 193 миллиона, и **спортивные игры** - 181 миллион копий. Последние места занимают **паззлы и стратегии**. \n",
    "Подтвердилось наше изначальное предположение, что более *активные игры пользуются наибольшей популярностью*.\n",
    "\n",
    "Однако, введя дополнительный параметр **`index`** - отношение общего объема продаж игр конкретного жанра к количеству игровых тайтлов, соответствующих этому жанру, получили интересную информацию: самыми популярными играми оказались принадлежащие к жанру **Shooter**: весь объем продаж распределился между 235 тайтлами, тогда как количество тайтлов жанра **Action** превышает аналогичный показатель для жанра **Shooter** более чем *в 4 раза*. На 2 месте по индексу **платформеры**: скромное 6 место по объему продаж, однако за счет небольшого количества тайтлов индекс достигает 0.72. Для сравнения индекс **шутеров** составляет 1.3, а индекс **спортивных игр** с их третьим местом - 0.68.\n",
    "\n",
    "Таким образом, можем заключить, что при планировании продаж упор следует делать в первую очередь на **шутеры**. Также большое значение имеют игры жанра **Action, ролевые игры и спортивные игры**. Необходимо понимать, что концентрация только на объеме продаж приведет к большим показателям объема продаж, однако грозит значительным объемом торговых позиций (\"складских запасов\") и нереализованной продукции. С учетом рассчитанного нами индекса можно достичь баланса по объемам и степени реализации запасов.\n",
    "\n",
    "В качестве итога, мы бы рекомендовали сосредоточиться на жанрах **Shooter, Action, Role-Playing и Sports**, исключить из ассортимента игры жанров **Adventure, Strategy и Puzzle**, а из оставшихся \"нейтральных\" жанров особое внимание уделить жанру **Platform**."
   ]
  },
  {
   "cell_type": "markdown",
   "metadata": {},
   "source": [
    "### <a id=\"23\">Вывод по 3 разделу</a>\n",
    "1. Десятилетие с 1980 по 1990 год - десятилетие зарождения рынка компьютерных и ведеоигр;\n",
    "2. 2008-2009 года - пик развития рынка видеоигр;\n",
    "3. В среднем в настоящее время выпускается по 500 уникальных тайтлов видеоигр в год;\n",
    "4. Наибольшее количество проданных игр за все время приходится на игровую платформу **Sony PlayStation 2**;\n",
    "5. Срок жизни поколения игровой платформы составляет около 10 лет, период наибольшей активности - медианные 5 лет срока жизни;\n",
    "6. При составлении прогноза рынка и разработке рекламной стратегии стоит учитывать, насколько давно вышло последнее поколение игровых платформ, а также возможность выхода нового поколения в ближайшем будущем;\n",
    "7. Абсолютным лидером игровых платформ является **Sony. Nintendo и Microsoft** борются за 2 и 3 место в разное время с переменным успехом;\n",
    "8. Оценки критиков и игроков в среднем фактически не влияют на объемы продаж;\n",
    "9. Наиболее популярны активные игровые жанры. Можно сформулировать закономерность: \"*чем скучнее геймплей, тем меньше объем продаж*\"."
   ]
  },
  {
   "cell_type": "markdown",
   "metadata": {},
   "source": [
    "### <a id=\"24\">4. Портрет пользователя по регионам</a>"
   ]
  },
  {
   "cell_type": "markdown",
   "metadata": {},
   "source": [
    "Сперва создадим дочерние датасеты на основании срезов данных от основного датасета по регионам. Для этого обратимся к актуальному датасету **`games_actually`**."
   ]
  },
  {
   "cell_type": "code",
   "execution_count": 57,
   "metadata": {},
   "outputs": [],
   "source": [
    "games_region_platform = games_actually.pivot_table(index='platform', \n",
    "                        values=['na_sales', 'eu_sales', 'jp_sales'], \n",
    "                        aggfunc='sum').reset_index()\n"
   ]
  },
  {
   "cell_type": "code",
   "execution_count": 58,
   "metadata": {},
   "outputs": [],
   "source": [
    "games_region_genre = games_actually.pivot_table(index='genre', \n",
    "                     values=['na_sales', 'eu_sales', 'jp_sales'], \n",
    "                     aggfunc='sum').reset_index()\n"
   ]
  },
  {
   "cell_type": "markdown",
   "metadata": {},
   "source": [
    "### <a id=\"25\">4.1. Сравнение Топ-5 жанров по регионам</a>"
   ]
  },
  {
   "cell_type": "markdown",
   "metadata": {},
   "source": [
    "Выведем информацию по пяти наиболее популярным жанрам для каждого региона."
   ]
  },
  {
   "cell_type": "code",
   "execution_count": 59,
   "metadata": {},
   "outputs": [
    {
     "data": {
      "text/html": [
       "<div>\n",
       "<style scoped>\n",
       "    .dataframe tbody tr th:only-of-type {\n",
       "        vertical-align: middle;\n",
       "    }\n",
       "\n",
       "    .dataframe tbody tr th {\n",
       "        vertical-align: top;\n",
       "    }\n",
       "\n",
       "    .dataframe thead th {\n",
       "        text-align: right;\n",
       "    }\n",
       "</style>\n",
       "<table border=\"1\" class=\"dataframe\">\n",
       "  <thead>\n",
       "    <tr style=\"text-align: right;\">\n",
       "      <th></th>\n",
       "      <th>genre</th>\n",
       "      <th>na_sales</th>\n",
       "    </tr>\n",
       "  </thead>\n",
       "  <tbody>\n",
       "    <tr>\n",
       "      <td>0</td>\n",
       "      <td>Action</td>\n",
       "      <td>177.84</td>\n",
       "    </tr>\n",
       "    <tr>\n",
       "      <td>8</td>\n",
       "      <td>Shooter</td>\n",
       "      <td>144.77</td>\n",
       "    </tr>\n",
       "    <tr>\n",
       "      <td>10</td>\n",
       "      <td>Sports</td>\n",
       "      <td>81.53</td>\n",
       "    </tr>\n",
       "    <tr>\n",
       "      <td>7</td>\n",
       "      <td>Role-Playing</td>\n",
       "      <td>64.00</td>\n",
       "    </tr>\n",
       "    <tr>\n",
       "      <td>3</td>\n",
       "      <td>Misc</td>\n",
       "      <td>38.19</td>\n",
       "    </tr>\n",
       "  </tbody>\n",
       "</table>\n",
       "</div>"
      ],
      "text/plain": [
       "           genre  na_sales\n",
       "0         Action    177.84\n",
       "8        Shooter    144.77\n",
       "10        Sports     81.53\n",
       "7   Role-Playing     64.00\n",
       "3           Misc     38.19"
      ]
     },
     "execution_count": 59,
     "metadata": {},
     "output_type": "execute_result"
    }
   ],
   "source": [
    "# Северная Америка\n",
    "games_region_genre.sort_values(by='na_sales', ascending=False).drop(\n",
    "    ['jp_sales', 'eu_sales'], axis=1).head()"
   ]
  },
  {
   "cell_type": "code",
   "execution_count": 60,
   "metadata": {},
   "outputs": [
    {
     "data": {
      "text/html": [
       "<div>\n",
       "<style scoped>\n",
       "    .dataframe tbody tr th:only-of-type {\n",
       "        vertical-align: middle;\n",
       "    }\n",
       "\n",
       "    .dataframe tbody tr th {\n",
       "        vertical-align: top;\n",
       "    }\n",
       "\n",
       "    .dataframe thead th {\n",
       "        text-align: right;\n",
       "    }\n",
       "</style>\n",
       "<table border=\"1\" class=\"dataframe\">\n",
       "  <thead>\n",
       "    <tr style=\"text-align: right;\">\n",
       "      <th></th>\n",
       "      <th>genre</th>\n",
       "      <th>eu_sales</th>\n",
       "    </tr>\n",
       "  </thead>\n",
       "  <tbody>\n",
       "    <tr>\n",
       "      <td>0</td>\n",
       "      <td>Action</td>\n",
       "      <td>159.34</td>\n",
       "    </tr>\n",
       "    <tr>\n",
       "      <td>8</td>\n",
       "      <td>Shooter</td>\n",
       "      <td>113.47</td>\n",
       "    </tr>\n",
       "    <tr>\n",
       "      <td>10</td>\n",
       "      <td>Sports</td>\n",
       "      <td>69.09</td>\n",
       "    </tr>\n",
       "    <tr>\n",
       "      <td>7</td>\n",
       "      <td>Role-Playing</td>\n",
       "      <td>48.53</td>\n",
       "    </tr>\n",
       "    <tr>\n",
       "      <td>6</td>\n",
       "      <td>Racing</td>\n",
       "      <td>27.29</td>\n",
       "    </tr>\n",
       "  </tbody>\n",
       "</table>\n",
       "</div>"
      ],
      "text/plain": [
       "           genre  eu_sales\n",
       "0         Action    159.34\n",
       "8        Shooter    113.47\n",
       "10        Sports     69.09\n",
       "7   Role-Playing     48.53\n",
       "6         Racing     27.29"
      ]
     },
     "execution_count": 60,
     "metadata": {},
     "output_type": "execute_result"
    }
   ],
   "source": [
    "# Европа\n",
    "games_region_genre.sort_values(by='eu_sales', ascending=False).drop(\n",
    "    ['jp_sales', 'na_sales'], axis=1).head()"
   ]
  },
  {
   "cell_type": "code",
   "execution_count": 61,
   "metadata": {},
   "outputs": [
    {
     "data": {
      "text/html": [
       "<div>\n",
       "<style scoped>\n",
       "    .dataframe tbody tr th:only-of-type {\n",
       "        vertical-align: middle;\n",
       "    }\n",
       "\n",
       "    .dataframe tbody tr th {\n",
       "        vertical-align: top;\n",
       "    }\n",
       "\n",
       "    .dataframe thead th {\n",
       "        text-align: right;\n",
       "    }\n",
       "</style>\n",
       "<table border=\"1\" class=\"dataframe\">\n",
       "  <thead>\n",
       "    <tr style=\"text-align: right;\">\n",
       "      <th></th>\n",
       "      <th>genre</th>\n",
       "      <th>jp_sales</th>\n",
       "    </tr>\n",
       "  </thead>\n",
       "  <tbody>\n",
       "    <tr>\n",
       "      <td>7</td>\n",
       "      <td>Role-Playing</td>\n",
       "      <td>65.44</td>\n",
       "    </tr>\n",
       "    <tr>\n",
       "      <td>0</td>\n",
       "      <td>Action</td>\n",
       "      <td>52.80</td>\n",
       "    </tr>\n",
       "    <tr>\n",
       "      <td>3</td>\n",
       "      <td>Misc</td>\n",
       "      <td>12.86</td>\n",
       "    </tr>\n",
       "    <tr>\n",
       "      <td>9</td>\n",
       "      <td>Simulation</td>\n",
       "      <td>10.41</td>\n",
       "    </tr>\n",
       "    <tr>\n",
       "      <td>2</td>\n",
       "      <td>Fighting</td>\n",
       "      <td>9.44</td>\n",
       "    </tr>\n",
       "  </tbody>\n",
       "</table>\n",
       "</div>"
      ],
      "text/plain": [
       "          genre  jp_sales\n",
       "7  Role-Playing     65.44\n",
       "0        Action     52.80\n",
       "3          Misc     12.86\n",
       "9    Simulation     10.41\n",
       "2      Fighting      9.44"
      ]
     },
     "execution_count": 61,
     "metadata": {},
     "output_type": "execute_result"
    }
   ],
   "source": [
    "# Япония\n",
    "games_region_genre.sort_values(by='jp_sales', ascending=False).drop(\n",
    "    ['eu_sales', 'na_sales'], axis=1).head()"
   ]
  },
  {
   "cell_type": "markdown",
   "metadata": {},
   "source": [
    "**Вывод:**\n",
    "1. В **европейском регионе** популярны те же жанры, что и в **североамериканском**, и примерно в том же соотношении. Отличается только жанр на 5 позиции: для Северной Америки это Misc, а для Европы - Racing.\n",
    "2. В **Японии** ситуация отличается в значительной степени: безоговорочное лидерство жанра Action поставлено под сомнение, и он смещен на вторую позицию ролевыми играми (не даром существует целый поджанр - *jrpg*). В японском топе отсутствуют шутеры, спортивные игры и гонки, вместо них - симуляторы и файтинги.\n",
    "3. Можно заключить, что по игровым предпочтениям мы имеем дело с двумя *глобальными регионами - восточным и западным*."
   ]
  },
  {
   "cell_type": "markdown",
   "metadata": {},
   "source": [
    "### <a id=\"025\">4.1.* Самые популярные игры по жанрам"
   ]
  },
  {
   "cell_type": "markdown",
   "metadata": {},
   "source": [
    "<font color = 'green'>Получим для каждого региона список самых популярных игр по каждому жанру. Это даст нам дополнительную информацию о предпочтениях игроков. Выводы представим в разделе 4.4."
   ]
  },
  {
   "cell_type": "code",
   "execution_count": 62,
   "metadata": {},
   "outputs": [
    {
     "name": "stdout",
     "output_type": "stream",
     "text": [
      "Лучшая игра жанра Action в категории na_sales -  Grand Theft Auto V\n",
      "Лучшая игра жанра Shooter в категории na_sales -  Call of Duty: Black Ops II\n",
      "Лучшая игра жанра Role-Playing в категории na_sales -  Pokemon X/Pokemon Y\n",
      "Лучшая игра жанра Platform в категории na_sales -  New Super Mario Bros. 2\n",
      "Лучшая игра жанра Misc в категории na_sales -  Minecraft\n",
      "Лучшая игра жанра Simulation в категории na_sales -  Animal Crossing: New Leaf\n",
      "Лучшая игра жанра Sports в категории na_sales -  NBA 2K13\n",
      "Лучшая игра жанра Fighting в категории na_sales -  Super Smash Bros. for Wii U and 3DS\n",
      "Лучшая игра жанра Racing в категории na_sales -  Mario Kart 8\n",
      "Лучшая игра жанра Strategy в категории na_sales -  StarCraft II: Heart of the Swarm\n",
      "Лучшая игра жанра Adventure в категории na_sales -       Rise of the Tomb Raider\n",
      " The Walking Dead: Season One\n",
      "Лучшая игра жанра Puzzle в категории na_sales -  Captain Toad: Treasure Tracker\n",
      "Лучшая игра жанра Action в категории eu_sales -  Grand Theft Auto V\n",
      "Лучшая игра жанра Shooter в категории eu_sales -  Call of Duty: Black Ops 3\n",
      "Лучшая игра жанра Role-Playing в категории eu_sales -  Pokemon X/Pokemon Y\n",
      "Лучшая игра жанра Platform в категории eu_sales -  New Super Mario Bros. 2\n",
      "Лучшая игра жанра Misc в категории eu_sales -  Minecraft\n",
      "Лучшая игра жанра Simulation в категории eu_sales -  Animal Crossing: New Leaf\n",
      "Лучшая игра жанра Sports в категории eu_sales -  FIFA 16\n",
      "Лучшая игра жанра Fighting в категории eu_sales -  Super Smash Bros. for Wii U and 3DS\n",
      "Лучшая игра жанра Racing в категории eu_sales -  Mario Kart 8\n",
      "Лучшая игра жанра Strategy в категории eu_sales -  StarCraft II: Heart of the Swarm\n",
      "Лучшая игра жанра Adventure в категории eu_sales -  Until Dawn\n",
      "Лучшая игра жанра Puzzle в категории eu_sales -  Professor Layton and the Azran Legacy\n",
      "Лучшая игра жанра Action в категории jp_sales -  Monster Hunter X\n",
      "Лучшая игра жанра Shooter в категории jp_sales -  Splatoon\n",
      "Лучшая игра жанра Role-Playing в категории jp_sales -  Pokemon X/Pokemon Y\n",
      "Лучшая игра жанра Platform в категории jp_sales -  New Super Mario Bros. 2\n",
      "Лучшая игра жанра Misc в категории jp_sales -  Minecraft\n",
      "Лучшая игра жанра Simulation в категории jp_sales -  Animal Crossing: New Leaf\n",
      "Лучшая игра жанра Sports в категории jp_sales -  Pro Evolution Soccer 2013\n",
      "Лучшая игра жанра Fighting в категории jp_sales -  Super Smash Bros. for Wii U and 3DS\n",
      "Лучшая игра жанра Racing в категории jp_sales -  Mario Kart 8\n",
      "Лучшая игра жанра Strategy в категории jp_sales -  Dai-2-Ji Super Robot Taisen Z Saisei-hen\n",
      "Лучшая игра жанра Adventure в категории jp_sales -  Toshochu: Run for Money\n",
      "Лучшая игра жанра Puzzle в категории jp_sales -  Puzzler Brain Games\n"
     ]
    }
   ],
   "source": [
    "genre_list = list(games_actually['genre'].unique())\n",
    "for region in ['na_sales', 'eu_sales', 'jp_sales']:\n",
    "    for genre in genre_list:\n",
    "        print('Лучшая игра жанра ' + str(genre) + ' в категории ' + str(region) + ' - ' \n",
    "              + games_actually[(games_actually['genre'] == genre) \n",
    "                               & (games_actually[games_actually['genre'] == genre]\n",
    "                                  [region] == games_actually[games_actually['genre'] == genre]\n",
    "                                  [region].max())][['name']].to_string\n",
    "              (header=False, index=False))"
   ]
  },
  {
   "cell_type": "markdown",
   "metadata": {},
   "source": [
    "### <a id=\"26\">4.2. Сравнение Топ-5 игровых платформ по регионам</a>"
   ]
  },
  {
   "cell_type": "markdown",
   "metadata": {},
   "source": [
    "Выведем информацию по пяти наиболее популярным жанрам для каждого региона."
   ]
  },
  {
   "cell_type": "code",
   "execution_count": 63,
   "metadata": {},
   "outputs": [
    {
     "data": {
      "text/html": [
       "<div>\n",
       "<style scoped>\n",
       "    .dataframe tbody tr th:only-of-type {\n",
       "        vertical-align: middle;\n",
       "    }\n",
       "\n",
       "    .dataframe tbody tr th {\n",
       "        vertical-align: top;\n",
       "    }\n",
       "\n",
       "    .dataframe thead th {\n",
       "        text-align: right;\n",
       "    }\n",
       "</style>\n",
       "<table border=\"1\" class=\"dataframe\">\n",
       "  <thead>\n",
       "    <tr style=\"text-align: right;\">\n",
       "      <th></th>\n",
       "      <th>platform</th>\n",
       "      <th>na_sales</th>\n",
       "    </tr>\n",
       "  </thead>\n",
       "  <tbody>\n",
       "    <tr>\n",
       "      <td>9</td>\n",
       "      <td>X360</td>\n",
       "      <td>140.05</td>\n",
       "    </tr>\n",
       "    <tr>\n",
       "      <td>4</td>\n",
       "      <td>PS4</td>\n",
       "      <td>108.74</td>\n",
       "    </tr>\n",
       "    <tr>\n",
       "      <td>3</td>\n",
       "      <td>PS3</td>\n",
       "      <td>103.38</td>\n",
       "    </tr>\n",
       "    <tr>\n",
       "      <td>10</td>\n",
       "      <td>XOne</td>\n",
       "      <td>93.12</td>\n",
       "    </tr>\n",
       "    <tr>\n",
       "      <td>0</td>\n",
       "      <td>3DS</td>\n",
       "      <td>55.31</td>\n",
       "    </tr>\n",
       "  </tbody>\n",
       "</table>\n",
       "</div>"
      ],
      "text/plain": [
       "   platform  na_sales\n",
       "9      X360    140.05\n",
       "4       PS4    108.74\n",
       "3       PS3    103.38\n",
       "10     XOne     93.12\n",
       "0       3DS     55.31"
      ]
     },
     "execution_count": 63,
     "metadata": {},
     "output_type": "execute_result"
    }
   ],
   "source": [
    "# Северная Америка\n",
    "games_region_platform.sort_values(by='na_sales', ascending=False).drop(\n",
    "    ['jp_sales', 'eu_sales'], axis=1).head()"
   ]
  },
  {
   "cell_type": "code",
   "execution_count": 64,
   "metadata": {},
   "outputs": [
    {
     "data": {
      "text/html": [
       "<div>\n",
       "<style scoped>\n",
       "    .dataframe tbody tr th:only-of-type {\n",
       "        vertical-align: middle;\n",
       "    }\n",
       "\n",
       "    .dataframe tbody tr th {\n",
       "        vertical-align: top;\n",
       "    }\n",
       "\n",
       "    .dataframe thead th {\n",
       "        text-align: right;\n",
       "    }\n",
       "</style>\n",
       "<table border=\"1\" class=\"dataframe\">\n",
       "  <thead>\n",
       "    <tr style=\"text-align: right;\">\n",
       "      <th></th>\n",
       "      <th>platform</th>\n",
       "      <th>eu_sales</th>\n",
       "    </tr>\n",
       "  </thead>\n",
       "  <tbody>\n",
       "    <tr>\n",
       "      <td>4</td>\n",
       "      <td>PS4</td>\n",
       "      <td>141.09</td>\n",
       "    </tr>\n",
       "    <tr>\n",
       "      <td>3</td>\n",
       "      <td>PS3</td>\n",
       "      <td>106.86</td>\n",
       "    </tr>\n",
       "    <tr>\n",
       "      <td>9</td>\n",
       "      <td>X360</td>\n",
       "      <td>74.52</td>\n",
       "    </tr>\n",
       "    <tr>\n",
       "      <td>10</td>\n",
       "      <td>XOne</td>\n",
       "      <td>51.59</td>\n",
       "    </tr>\n",
       "    <tr>\n",
       "      <td>0</td>\n",
       "      <td>3DS</td>\n",
       "      <td>42.64</td>\n",
       "    </tr>\n",
       "  </tbody>\n",
       "</table>\n",
       "</div>"
      ],
      "text/plain": [
       "   platform  eu_sales\n",
       "4       PS4    141.09\n",
       "3       PS3    106.86\n",
       "9      X360     74.52\n",
       "10     XOne     51.59\n",
       "0       3DS     42.64"
      ]
     },
     "execution_count": 64,
     "metadata": {},
     "output_type": "execute_result"
    }
   ],
   "source": [
    "# Европа\n",
    "games_region_platform.sort_values(by='eu_sales', ascending=False).drop(\n",
    "    ['jp_sales', 'na_sales'], axis=1).head()"
   ]
  },
  {
   "cell_type": "code",
   "execution_count": 65,
   "metadata": {},
   "outputs": [
    {
     "data": {
      "text/html": [
       "<div>\n",
       "<style scoped>\n",
       "    .dataframe tbody tr th:only-of-type {\n",
       "        vertical-align: middle;\n",
       "    }\n",
       "\n",
       "    .dataframe tbody tr th {\n",
       "        vertical-align: top;\n",
       "    }\n",
       "\n",
       "    .dataframe thead th {\n",
       "        text-align: right;\n",
       "    }\n",
       "</style>\n",
       "<table border=\"1\" class=\"dataframe\">\n",
       "  <thead>\n",
       "    <tr style=\"text-align: right;\">\n",
       "      <th></th>\n",
       "      <th>platform</th>\n",
       "      <th>jp_sales</th>\n",
       "    </tr>\n",
       "  </thead>\n",
       "  <tbody>\n",
       "    <tr>\n",
       "      <td>0</td>\n",
       "      <td>3DS</td>\n",
       "      <td>87.79</td>\n",
       "    </tr>\n",
       "    <tr>\n",
       "      <td>3</td>\n",
       "      <td>PS3</td>\n",
       "      <td>35.29</td>\n",
       "    </tr>\n",
       "    <tr>\n",
       "      <td>6</td>\n",
       "      <td>PSV</td>\n",
       "      <td>21.04</td>\n",
       "    </tr>\n",
       "    <tr>\n",
       "      <td>4</td>\n",
       "      <td>PS4</td>\n",
       "      <td>15.96</td>\n",
       "    </tr>\n",
       "    <tr>\n",
       "      <td>8</td>\n",
       "      <td>WiiU</td>\n",
       "      <td>13.01</td>\n",
       "    </tr>\n",
       "  </tbody>\n",
       "</table>\n",
       "</div>"
      ],
      "text/plain": [
       "  platform  jp_sales\n",
       "0      3DS     87.79\n",
       "3      PS3     35.29\n",
       "6      PSV     21.04\n",
       "4      PS4     15.96\n",
       "8     WiiU     13.01"
      ]
     },
     "execution_count": 65,
     "metadata": {},
     "output_type": "execute_result"
    }
   ],
   "source": [
    "# Япония\n",
    "games_region_platform.sort_values(by='jp_sales', ascending=False).drop(\n",
    "    ['na_sales', 'eu_sales'], axis=1).head()"
   ]
  },
  {
   "cell_type": "markdown",
   "metadata": {},
   "source": [
    "**Вывод:**\n",
    "1. В **Северной Америке** на 1 месте ожидаемо XBox 360 (для него это домашний регион). Интересно при этом, что PS4 популярнее XBox One (игровые приставки вышли в один год), и успела обогнать по популярности PS3. Можно заключить, что последнее поколение игровых приставок оказалось для Microsoft крайне неудачным. Либо, напротив, что Sony выпустила крайне удачную игровую платформу. Так или иначе, последнее поколение отличается по распределению предпочтений от предыдущего в пользу Sony.\n",
    "2. В **Европе** схожая ситуация с поправкой на отсутствие лояльности европейских геймеров к платформам серии XBox. Первые два места у приставок Sony, 3 и 4 - у Microsoft. Также интересный момент: среди приставок Sony лидирует последнее поколение, а среди Microsoft - предыдущее.\n",
    "3. **Япония** снова показывает нам иную картину: на первом месте портативная игровая платформа от Nintendo - 3DS, которая в Северной Америке и Европе занимала лишь пятую строчку (причем со значительным отрывом - в 2.5 раза больше проданных копий игр, чем у PS3, занимающей второе место). На 3 месте в топе еще одна портативная консоль - PlayStation Vita. Последнее поколение приставки от Sony занимает 4 место и с небольшим отрывом опережает WiiU.\n",
    "4. Все говорит о том, что и в предпочтениях к игровым платформам прослеживаются *восточный и западный глобальные регионы*. \n",
    "5. Очевидно, при производстве своей последней игровой консоли **PlayStation 4**, Sony ориентировалась именно на более масштабный *западный регион*. Это объясняет высокую популярность в северноамериканском и европейском регионах, и отсутствие особого интереса непосредственно в Японии."
   ]
  },
  {
   "cell_type": "markdown",
   "metadata": {},
   "source": [
    "### <a id=\"27\"> 4.3. Влияние рейтинга ESRB на продажи по регионам</a>"
   ]
  },
  {
   "cell_type": "markdown",
   "metadata": {},
   "source": [
    "Cоздадим дочерний датасет на основании актуального датасета **`games_actually`**. Затем выведем информацию по количеству продланных игр в каждой категории возрастного рейтинга для регионов."
   ]
  },
  {
   "cell_type": "code",
   "execution_count": 66,
   "metadata": {},
   "outputs": [],
   "source": [
    "games_region_esrb = games_actually.pivot_table(index='rating', \n",
    "                     values=['na_sales', 'eu_sales', 'jp_sales'], \n",
    "                     aggfunc='sum').reset_index()"
   ]
  },
  {
   "cell_type": "code",
   "execution_count": 67,
   "metadata": {},
   "outputs": [
    {
     "data": {
      "text/html": [
       "<div>\n",
       "<style scoped>\n",
       "    .dataframe tbody tr th:only-of-type {\n",
       "        vertical-align: middle;\n",
       "    }\n",
       "\n",
       "    .dataframe tbody tr th {\n",
       "        vertical-align: top;\n",
       "    }\n",
       "\n",
       "    .dataframe thead th {\n",
       "        text-align: right;\n",
       "    }\n",
       "</style>\n",
       "<table border=\"1\" class=\"dataframe\">\n",
       "  <thead>\n",
       "    <tr style=\"text-align: right;\">\n",
       "      <th></th>\n",
       "      <th>rating</th>\n",
       "      <th>na_sales</th>\n",
       "    </tr>\n",
       "  </thead>\n",
       "  <tbody>\n",
       "    <tr>\n",
       "      <td>2</td>\n",
       "      <td>M</td>\n",
       "      <td>231.57</td>\n",
       "    </tr>\n",
       "    <tr>\n",
       "      <td>0</td>\n",
       "      <td>E</td>\n",
       "      <td>114.37</td>\n",
       "    </tr>\n",
       "    <tr>\n",
       "      <td>4</td>\n",
       "      <td>no_rating</td>\n",
       "      <td>103.31</td>\n",
       "    </tr>\n",
       "    <tr>\n",
       "      <td>1</td>\n",
       "      <td>E10+</td>\n",
       "      <td>75.70</td>\n",
       "    </tr>\n",
       "    <tr>\n",
       "      <td>3</td>\n",
       "      <td>T</td>\n",
       "      <td>66.02</td>\n",
       "    </tr>\n",
       "  </tbody>\n",
       "</table>\n",
       "</div>"
      ],
      "text/plain": [
       "      rating  na_sales\n",
       "2          M    231.57\n",
       "0          E    114.37\n",
       "4  no_rating    103.31\n",
       "1       E10+     75.70\n",
       "3          T     66.02"
      ]
     },
     "execution_count": 67,
     "metadata": {},
     "output_type": "execute_result"
    }
   ],
   "source": [
    "# Северная Америка\n",
    "games_region_esrb.sort_values(by='na_sales', ascending=False).drop(\n",
    "    ['jp_sales', 'eu_sales'], axis=1)"
   ]
  },
  {
   "cell_type": "code",
   "execution_count": 68,
   "metadata": {},
   "outputs": [
    {
     "data": {
      "text/html": [
       "<div>\n",
       "<style scoped>\n",
       "    .dataframe tbody tr th:only-of-type {\n",
       "        vertical-align: middle;\n",
       "    }\n",
       "\n",
       "    .dataframe tbody tr th {\n",
       "        vertical-align: top;\n",
       "    }\n",
       "\n",
       "    .dataframe thead th {\n",
       "        text-align: right;\n",
       "    }\n",
       "</style>\n",
       "<table border=\"1\" class=\"dataframe\">\n",
       "  <thead>\n",
       "    <tr style=\"text-align: right;\">\n",
       "      <th></th>\n",
       "      <th>rating</th>\n",
       "      <th>eu_sales</th>\n",
       "    </tr>\n",
       "  </thead>\n",
       "  <tbody>\n",
       "    <tr>\n",
       "      <td>2</td>\n",
       "      <td>M</td>\n",
       "      <td>193.96</td>\n",
       "    </tr>\n",
       "    <tr>\n",
       "      <td>0</td>\n",
       "      <td>E</td>\n",
       "      <td>113.03</td>\n",
       "    </tr>\n",
       "    <tr>\n",
       "      <td>4</td>\n",
       "      <td>no_rating</td>\n",
       "      <td>91.50</td>\n",
       "    </tr>\n",
       "    <tr>\n",
       "      <td>1</td>\n",
       "      <td>E10+</td>\n",
       "      <td>55.37</td>\n",
       "    </tr>\n",
       "    <tr>\n",
       "      <td>3</td>\n",
       "      <td>T</td>\n",
       "      <td>52.96</td>\n",
       "    </tr>\n",
       "  </tbody>\n",
       "</table>\n",
       "</div>"
      ],
      "text/plain": [
       "      rating  eu_sales\n",
       "2          M    193.96\n",
       "0          E    113.03\n",
       "4  no_rating     91.50\n",
       "1       E10+     55.37\n",
       "3          T     52.96"
      ]
     },
     "execution_count": 68,
     "metadata": {},
     "output_type": "execute_result"
    }
   ],
   "source": [
    "# Европа\n",
    "games_region_esrb.sort_values(by='eu_sales', ascending=False).drop(\n",
    "    ['jp_sales', 'na_sales'], axis=1)"
   ]
  },
  {
   "cell_type": "code",
   "execution_count": 69,
   "metadata": {},
   "outputs": [
    {
     "data": {
      "text/html": [
       "<div>\n",
       "<style scoped>\n",
       "    .dataframe tbody tr th:only-of-type {\n",
       "        vertical-align: middle;\n",
       "    }\n",
       "\n",
       "    .dataframe tbody tr th {\n",
       "        vertical-align: top;\n",
       "    }\n",
       "\n",
       "    .dataframe thead th {\n",
       "        text-align: right;\n",
       "    }\n",
       "</style>\n",
       "<table border=\"1\" class=\"dataframe\">\n",
       "  <thead>\n",
       "    <tr style=\"text-align: right;\">\n",
       "      <th></th>\n",
       "      <th>rating</th>\n",
       "      <th>jp_sales</th>\n",
       "    </tr>\n",
       "  </thead>\n",
       "  <tbody>\n",
       "    <tr>\n",
       "      <td>4</td>\n",
       "      <td>no_rating</td>\n",
       "      <td>108.84</td>\n",
       "    </tr>\n",
       "    <tr>\n",
       "      <td>0</td>\n",
       "      <td>E</td>\n",
       "      <td>28.33</td>\n",
       "    </tr>\n",
       "    <tr>\n",
       "      <td>3</td>\n",
       "      <td>T</td>\n",
       "      <td>26.02</td>\n",
       "    </tr>\n",
       "    <tr>\n",
       "      <td>2</td>\n",
       "      <td>M</td>\n",
       "      <td>21.20</td>\n",
       "    </tr>\n",
       "    <tr>\n",
       "      <td>1</td>\n",
       "      <td>E10+</td>\n",
       "      <td>8.19</td>\n",
       "    </tr>\n",
       "  </tbody>\n",
       "</table>\n",
       "</div>"
      ],
      "text/plain": [
       "      rating  jp_sales\n",
       "4  no_rating    108.84\n",
       "0          E     28.33\n",
       "3          T     26.02\n",
       "2          M     21.20\n",
       "1       E10+      8.19"
      ]
     },
     "execution_count": 69,
     "metadata": {},
     "output_type": "execute_result"
    }
   ],
   "source": [
    "# Япония\n",
    "games_region_esrb.sort_values(by='jp_sales', ascending=False).drop(\n",
    "    ['na_sales', 'eu_sales'], axis=1)"
   ]
  },
  {
   "cell_type": "markdown",
   "metadata": {},
   "source": [
    "**Вывод:**\n",
    "1. Снова наблюдаем схожие ситуаци для **северноамериканского и европейского регионов**: играют в основном взрослые (лица старше 17 лет). На втором месте - игры \"для всех\". Далее следуют игры для детей старше 10, и замыкает список рейтинг Т - для подростков от 13 до 17.\n",
    "2. Логично предположить, что позиции со второй по 4 отражают не столько картину игроков, сколько *стремление производителей игр расширить аудиторию*: вместо Е10+ можно достичь соответствия рейтингу Е, и это увеличит потенциальную аудиторию, а значит, и объем продаж. А рейтинг Т либо можно свести к Е10+, либо довести до М, и сделать более интересным для взрослой аудитории.\n",
    "3. И в этом рейтинге **Япония** значительно отличилась:на первом и втором местах с небольшой разницей игры для подростков и игры \"для всех\". Игры для взрослых только на 3 месте.\n",
    "4. <font color='green'>Примерно в середине: на 3 месте из 5, но ближе ко 2, чем к 4, по объемам продаж в <b>западном регионе</b> игры без рейтинга. Даже если все игры без рейтинга относятся к рейтингу на 4 месте, этот рейтинг обгонит по продажам 2 место, но все еще не будет конкурировать с играми для взрослых. Таким образом, по западному региону на 1 месте однозначно игры рейтинга <b>М</b>.\n",
    "5. В <b>Японии</b> все намного сложнее, игры без рейтинга занимают первое место, и объемы при этом превышают объемы по всем остальным рейтингам, вместе взятым. Здесь важдый момент заключается в том, что рейтинг <i>ESRB<i> действителен, в первую очередь, именно для <b>северноамериканского региона</b>, помимо <i>ESRB</i> существуют и другие рейтинговые системы оценки игр: <b><i>PEGI</i> в Европе, <u><i>CERO</i></u> в Японии</b>. Можно сделать вывод, что большая часть игр, пользующихся спросом в <b>Японии</b>, не проходят сертификацию по рейтингу <i>ESRB</i>, т.е. предназначены исключительно для домашнего региона.</font>"
   ]
  },
  {
   "cell_type": "markdown",
   "metadata": {},
   "source": [
    "### <a id=\"28\">4.4. Портрет геймера</a>"
   ]
  },
  {
   "cell_type": "markdown",
   "metadata": {},
   "source": [
    "<img src ='https://telegramfor.me/ext_img/oldlentach/23123' alt=\"Who's gamer?\">"
   ]
  },
  {
   "cell_type": "markdown",
   "metadata": {},
   "source": [
    "  - Геймер из **Северной Америки** - совершеннолетний, играет в экшн-игры и шутеры на платформе XBox360,\n",
    "  - геймер из **Европы** также совершеннолетний и играет в экшены и шутеры, только на PlayStation 4, \n",
    "  - геймер из **Японии** - подросток, играет на портативной платформе Nintendo 3DS в ролевые игры."
   ]
  },
  {
   "cell_type": "markdown",
   "metadata": {},
   "source": [
    "В **Европе и Америке** среди экшенов больше всего предпочитают **GTA 5**, то есть ценят в играх реализм. В **Японии** отдают предпочтение фэнтези - **Monster Hunter X**.\n",
    "\n",
    "Самый популярный шутер **на западе** (в данном случае серия) - **Call of Duty**, - снова реализм, военные действия, высокий возрастной рейтинг. В **Японии** на первом месте мультяшная игра для всех возрастов, в которой персонажи стреляют чернилами (здесь на ум приходит такой культурный феномен, популярный в **Японии**,  как <a href='https://ru.wikipedia.org/wiki/%D0%9A%D0%B0%D0%B2%D0%B0%D0%B8%D0%B9#%D0%92%D0%BE%D1%81%D0%BF%D1%80%D0%B8%D1%8F%D1%82%D0%B8%D0%B5_%D0%B2_%D0%AF%D0%BF%D0%BE%D0%BD%D0%B8%D0%B8'>каваии</a>).\n",
    "\n",
    "Самая популярная ролевая игра **во всех регионах - Pokemon X / Pokemon Y**. Выходит, что покемоны - универсальный ключ ко всем игровым рынкам.\n",
    "\n",
    "То же касается платформеров - **Super Mario Bros 2**.\n",
    "\n",
    "**Minecraft** - лидер жанра Misc по всем регионам.\n",
    "\n",
    "Симулятор - **Animal Crossing: New Leaf**.\n",
    "\n",
    "Из спортивных игр в **Америке** предпочитают **баскетбол**, в **Европе и Японии - футбол**.\n",
    "\n",
    "Самый популярный файтинг - не Tekken, не Mortal Combat, а **Super Smash Bros** (в заключении попытаемся объяснить, почему это так, и почему при планировании рекламной стратегии особое внимание стоит обратить на эту игру).\n",
    "\n",
    "Гоночная игра - **Mario Cart 8** для всех регионов.\n",
    "\n",
    "По стратегиям, приключениям и паззлам нет пересечений (разве что для западного региона самая популярная стратегия - Starcraft 2)."
   ]
  },
  {
   "cell_type": "markdown",
   "metadata": {},
   "source": [
    "Взглянем на то, что из себя представляет игра **Super Smash Bros:**\n",
    "<img src='https://www.justpressplayonline.com/img/blog/Blog-Large-smashbros.jpg'>"
   ]
  },
  {
   "cell_type": "markdown",
   "metadata": {},
   "source": [
    "Мы видим на одном постере целую толпу популярных и любимых многими героев: от покемонов, Соника и Марио до Солида Снейка и Донки Конга.\n",
    "\n",
    "Также очевидно, что для \"основных\" жанров - экшенов и шутеров, - существует явное разделение на **западных** и **восточных** игроков. Первые предпочитают реализм, брутальность и высокий возрастной рейтинг, вторые - фэнтези, эпичность и мультяшность.\n",
    "В остальном предпочтения сходятся, и рекламная кампания для разных рынков должна быть похожа на постер **Super Smash Bros**: в качестве основы - собрать вместе как можно больше наиболее популярных персонажей видеоигр. Дифференцировать только рекламные линии таких основных жанров как экшены и шутеры."
   ]
  },
  {
   "cell_type": "markdown",
   "metadata": {},
   "source": [
    "### <a id=\"29\">5. Проверка гипотез</a>"
   ]
  },
  {
   "cell_type": "markdown",
   "metadata": {},
   "source": [
    "В данном разделе мы ответим на два вопроса:\n",
    "1. Являются ли средние пользовательские рейтинги платформ **Xbox One и PC** одинаковыми;\n",
    "2. Являются ли средние пользовательские рейтинги жанров **Action и Sports** одинаковыми."
   ]
  },
  {
   "cell_type": "markdown",
   "metadata": {},
   "source": [
    "### <a id=\"30\">5.1. Гипотеза о средних рейтингах PC и Xbox One</a>"
   ]
  },
  {
   "cell_type": "markdown",
   "metadata": {},
   "source": [
    "- **H0** - Средние пользовательские рейтинги платформ **Xbox One и PC** не различается\n",
    "- **H1** - Средние пользовательские рейтинги платформ **Xbox One и PC** различается"
   ]
  },
  {
   "cell_type": "markdown",
   "metadata": {},
   "source": [
    "Сперва выполним **тест Левена** для проверки равенства дисперсий двух выборок - пользовательских рейтингов для платформы *XBox One* и пользовательских рейтингов для платформы *PC*. "
   ]
  },
  {
   "cell_type": "code",
   "execution_count": 70,
   "metadata": {},
   "outputs": [],
   "source": [
    "# выделим срезы по столбцу 'platform' в отдельные объекты типа series\n",
    "pc = games_actually.query('platform == \"PC\"').dropna()['user_score']\n",
    "                                             # избавимся от пропусков\n",
    "xone = games_actually.query('platform == \"XOne\"').dropna()['user_score']"
   ]
  },
  {
   "cell_type": "code",
   "execution_count": 71,
   "metadata": {},
   "outputs": [
    {
     "data": {
      "text/plain": [
       "LeveneResult(statistic=6.256264688905123, pvalue=0.012818935705571605)"
      ]
     },
     "execution_count": 71,
     "metadata": {},
     "output_type": "execute_result"
    }
   ],
   "source": [
    "levene(pc, xone)"
   ]
  },
  {
   "cell_type": "markdown",
   "metadata": {},
   "source": [
    "Столь низкое значение **p-value** (0.013) говорит нам о том, что дисперсии рассматриваемых выборок не равны."
   ]
  },
  {
   "cell_type": "code",
   "execution_count": 72,
   "metadata": {},
   "outputs": [
    {
     "name": "stdout",
     "output_type": "stream",
     "text": [
      "Количество значений для PC: 197\n",
      "Количество значений для XBox One: 165\n"
     ]
    }
   ],
   "source": [
    "print('Количество значений для PC:', pc.shape[0])\n",
    "print('Количество значений для XBox One:',xone.shape[0])"
   ]
  },
  {
   "cell_type": "markdown",
   "metadata": {},
   "source": [
    "Поскольку мы имеем дело с выборками из двух генеральных совокупностей, состоящими из 197 и 165 значений соответственно, следовательно, можем говорить об уместности применения для оценки распределения **t-критерия Стьюдента** для независимых малых выборок из генеральных совокупностей с неравными дисперсиями."
   ]
  },
  {
   "cell_type": "code",
   "execution_count": 73,
   "metadata": {},
   "outputs": [
    {
     "name": "stdout",
     "output_type": "stream",
     "text": [
      "p-значение: 0.5926561176517549\n",
      "Не получилось отвергнуть нулевую гипотезу\n"
     ]
    }
   ],
   "source": [
    "alpha = .01 # исходя их объема наших выборок,\n",
    "            # критический уровень статистической значимости устанавливаем в 1%\n",
    "            # //если p-value окажется меньше него - отвергнем гипотезу\n",
    "\n",
    "results = st.ttest_ind(    # функция ttest_ind вычисляет t-тест двух независимых выборок\n",
    "    pc, \n",
    "    xone,\n",
    "    equal_var = False)\n",
    "\n",
    "print('p-значение:', results.pvalue)\n",
    "\n",
    "if (results.pvalue < alpha):\n",
    "    print(\"Отвергаем нулевую гипотезу\")\n",
    "else:\n",
    "    print(\"Не получилось отвергнуть нулевую гипотезу\") "
   ]
  },
  {
   "cell_type": "markdown",
   "metadata": {},
   "source": [
    "**Вывод:**\n",
    "\n",
    "У нас не получилось отвергнуть нулевую гипотезу, следовательно, *средние пользовательские рейтинги платформ XBox One и PC* действительно *не различаются*. Очевидно, на оценки игр влияют не платформы, а сами игры."
   ]
  },
  {
   "cell_type": "markdown",
   "metadata": {},
   "source": [
    "### <a id=\"31\"> 5.2.Гипотеза о средних рейтингах жанров Action и Sports</a>"
   ]
  },
  {
   "cell_type": "markdown",
   "metadata": {},
   "source": [
    "- **H0** - Средние пользовательские рейтинги игр жанров **Action и Sports** не различается\n",
    "- **H1** - Средние пользовательские рейтинги игр жанров **Action и Sports** различается"
   ]
  },
  {
   "cell_type": "markdown",
   "metadata": {},
   "source": [
    "Па аналогии с проверкой гипотезы 5.1., сперва выполняем **тест Левена**."
   ]
  },
  {
   "cell_type": "code",
   "execution_count": 74,
   "metadata": {},
   "outputs": [],
   "source": [
    "# выделим срезы по столбцу 'genre' в отдельные объекты типа series\n",
    "action = games_actually.query('genre == \"Action\"').dropna()['user_score']\n",
    "                                                  # избавимся от пропусков\n",
    "sports = games_actually.query('genre == \"Sports\"').dropna()['user_score']"
   ]
  },
  {
   "cell_type": "code",
   "execution_count": 75,
   "metadata": {},
   "outputs": [
    {
     "data": {
      "text/plain": [
       "LeveneResult(statistic=1.2201144904254186, pvalue=0.2698034213167573)"
      ]
     },
     "execution_count": 75,
     "metadata": {},
     "output_type": "execute_result"
    }
   ],
   "source": [
    "levene(action, sports)"
   ]
  },
  {
   "cell_type": "markdown",
   "metadata": {},
   "source": [
    "Значение **p-value** достаточно высокое (0.26), что говорит нам о равенстве дисперсий рассматриваемых выборок."
   ]
  },
  {
   "cell_type": "code",
   "execution_count": 76,
   "metadata": {},
   "outputs": [
    {
     "name": "stdout",
     "output_type": "stream",
     "text": [
      "Количество значений для Action: 432\n",
      "Количество значений для Sports: 141\n"
     ]
    }
   ],
   "source": [
    "print('Количество значений для Action:', action.shape[0])\n",
    "print('Количество значений для Sports:',sports.shape[0])"
   ]
  },
  {
   "cell_type": "markdown",
   "metadata": {},
   "source": [
    "Поскольку мы имеем дело с выборками из двух генеральных совокупностей, состоящими из 432 и 141 значений соответственно, следовательно, можем говорить в данном случае также об уместности применения для оценки распределения **t-критерия Стьюдента** для независимых малых выборок из генеральных совокупностей с равными дисперсиями."
   ]
  },
  {
   "cell_type": "code",
   "execution_count": 77,
   "metadata": {},
   "outputs": [
    {
     "name": "stdout",
     "output_type": "stream",
     "text": [
      "p-значение: 9.136332798737168e-16\n",
      "Отвергаем нулевую гипотезу\n"
     ]
    }
   ],
   "source": [
    "alpha = .01 # исходя их объема наших выборок,\n",
    "            # критический уровень статистической значимости устанавливаем в 1%\n",
    "            # //если p-value окажется меньше него - отвергнем гипотезу\n",
    "\n",
    "results = st.ttest_ind(    # функция ttest_ind вычисляет t-тест двух независимых выборок\n",
    "    action, \n",
    "    sports,\n",
    "    equal_var = True)\n",
    "\n",
    "print('p-значение:', results.pvalue)\n",
    "\n",
    "if (results.pvalue < alpha):\n",
    "    print(\"Отвергаем нулевую гипотезу\")\n",
    "else:\n",
    "    print(\"Не получилось отвергнуть нулевую гипотезу\") "
   ]
  },
  {
   "cell_type": "markdown",
   "metadata": {},
   "source": [
    "**Вывод:**\n",
    "\n",
    "При выбранном пороге значимости p-значение оказалось ничтожно малым, что позволяет нам отвергнуть нулевую гипотезу, следовательно, *средние пользовательские рейтинги жанров Action и Sports различается*."
   ]
  },
  {
   "cell_type": "markdown",
   "metadata": {},
   "source": [
    "### <a id=\"32\"> 6. Общий вывод </a>"
   ]
  },
  {
   "cell_type": "markdown",
   "metadata": {},
   "source": [
    "Мы проделали работу по выявлению закономерностей, присущих рынку видеоигр. Разобрались, какие производители являются наиболее перспективными игроками и какие игровые платформы пользуются наибольшей популярностью. Ответили на вопросы, как влияют на объем продаж видеоигры присущие ей оценки критиков и игроков и возрастной рейтинг. Составили портрет среднестатистического игрока по изучаемым регионам. Сформулировали дву гипотезы и выполнили их проверку.\n",
    "Каждый этап работы сопровождается подробными комметариями и выводами о используемых методах и полученных результатах.\n",
    "\n",
    "Возвращаясь к непосредственной задаче исследования, сформулируем рекламную (и ассортиментную) стратегию интернет-магазина \"*Стримчик*\" на 2017 год:\n",
    "1. Игровой мир условно делится на два крупных лагеря: восточный и западный. Лагери сильно отличаются друг от друга, и требуют индивидуального подхода. При этом по объемам восточный лагерь уступает западному, и при отказе от дифференцированного подхода рекомендуется сконцентрироваться на западном лагере.\n",
    "2. Наибольшей популярностью в 2017 году будут пользоваться игры для платформы PlayStation 4. XBox One - на позициях догоняющего.\n",
    "3. Игрокам, как правило, неинтересны скучные игры. Об этом говорит расположение на противоположных полюсах популярности с одной стороны - экшенов и шутеров, с другой - паззлов и стратегий.\n",
    "4. Не стоит обращать слишком много внимания на оценки (особенно игроков) если они не создают информационного шума вокруг игры. Беспрецедентно низкие или высокие оценки могут повлиять на продажи (причем нельзя заранее сказать, в каком случае - каким образом, универсального ответа здесь нет). Совет: ради стабильности - избегать шумихи.\n",
    "5. ** Возможно, имеет смысл подумать над ребрендингом (хотя бы в ключе названия магазина) и над включением в ассортимент продукции игрового мерча и атрибутики (как известно, кинотеатрам приносит основную прибыль не кино, а попкорн) &#128516;"
   ]
  }
 ],
 "metadata": {
  "kernelspec": {
   "display_name": "Python 3",
   "language": "python",
   "name": "python3"
  },
  "language_info": {
   "codemirror_mode": {
    "name": "ipython",
    "version": 3
   },
   "file_extension": ".py",
   "mimetype": "text/x-python",
   "name": "python",
   "nbconvert_exporter": "python",
   "pygments_lexer": "ipython3",
   "version": "3.7.8"
  },
  "toc": {
   "base_numbering": 1,
   "nav_menu": {},
   "number_sections": true,
   "sideBar": true,
   "skip_h1_title": true,
   "title_cell": "Table of Contents",
   "title_sidebar": "Contents",
   "toc_cell": false,
   "toc_position": {},
   "toc_section_display": true,
   "toc_window_display": false
  }
 },
 "nbformat": 4,
 "nbformat_minor": 2
}
