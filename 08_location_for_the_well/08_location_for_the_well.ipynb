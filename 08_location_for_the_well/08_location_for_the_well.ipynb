{
 "cells": [
  {
   "cell_type": "markdown",
   "metadata": {},
   "source": [
    "# Выбор локации для скважины"
   ]
  },
  {
   "cell_type": "markdown",
   "metadata": {},
   "source": [
    "Мы работаем в добывающей компании «ГлавРосГосНефть». Необходимо решить, где бурить новую скважину.\n",
    "\n",
    "Нам предоставлены пробы нефти в трёх регионах: в каждом 10 000 месторождений, где измерили качество нефти и объём её запасов. Необходимо построить модель машинного обучения, которая поможет определить регион, где добыча принесёт наибольшую прибыль. \n",
    "Проанализируем возможную прибыль и риски техникой *Bootstrap.*\n",
    "\n",
    "Шаги для выбора локации:\n",
    "\n",
    "- В избранном регионе ищут месторождения, для каждого определяют значения признаков;\n",
    "- Строят модель и оценивают объём запасов;\n",
    "- Выбирают месторождения с самым высокими оценками значений. Количество месторождений зависит от бюджета компании и стоимости разработки одной скважины;\n",
    "- Прибыль равна суммарной прибыли отобранных месторождений."
   ]
  },
  {
   "cell_type": "markdown",
   "metadata": {},
   "source": [
    "## Загрузка и подготовка данных"
   ]
  },
  {
   "cell_type": "code",
   "execution_count": 1,
   "metadata": {},
   "outputs": [],
   "source": [
    "# импортируем все необходимые библиотеки\n",
    "import pandas as pd\n",
    "from sklearn.model_selection import train_test_split\n",
    "from sklearn.linear_model import LinearRegression\n",
    "from sklearn.metrics import mean_squared_error as mse\n",
    "import numpy as np"
   ]
  },
  {
   "cell_type": "code",
   "execution_count": 2,
   "metadata": {},
   "outputs": [],
   "source": [
    "# зададим аргумент random_state через переменную rs\n",
    "rs = 503350"
   ]
  },
  {
   "cell_type": "code",
   "execution_count": 3,
   "metadata": {},
   "outputs": [],
   "source": [
    "# создадим датафрейм для каждого региона\n",
    "geo_data_0 = pd.read_csv('C:\\\\Users\\\\503so\\\\OneDrive\\\\Desktop\\\\praktikum-to-git\\\\08_geo_data_0.csv')\n",
    "geo_data_1 = pd.read_csv('C:\\\\Users\\\\503so\\\\OneDrive\\\\Desktop\\\\praktikum-to-git\\\\08_geo_data_1.csv')\n",
    "geo_data_2 = pd.read_csv('C:\\\\Users\\\\503so\\\\OneDrive\\\\Desktop\\\\praktikum-to-git\\\\08_geo_data_2.csv')"
   ]
  },
  {
   "cell_type": "code",
   "execution_count": 4,
   "metadata": {},
   "outputs": [
    {
     "name": "stdout",
     "output_type": "stream",
     "text": [
      "geo_data_0\n"
     ]
    },
    {
     "data": {
      "text/html": [
       "<div>\n",
       "<style scoped>\n",
       "    .dataframe tbody tr th:only-of-type {\n",
       "        vertical-align: middle;\n",
       "    }\n",
       "\n",
       "    .dataframe tbody tr th {\n",
       "        vertical-align: top;\n",
       "    }\n",
       "\n",
       "    .dataframe thead th {\n",
       "        text-align: right;\n",
       "    }\n",
       "</style>\n",
       "<table border=\"1\" class=\"dataframe\">\n",
       "  <thead>\n",
       "    <tr style=\"text-align: right;\">\n",
       "      <th></th>\n",
       "      <th>id</th>\n",
       "      <th>f0</th>\n",
       "      <th>f1</th>\n",
       "      <th>f2</th>\n",
       "      <th>product</th>\n",
       "    </tr>\n",
       "  </thead>\n",
       "  <tbody>\n",
       "    <tr>\n",
       "      <td>0</td>\n",
       "      <td>txEyH</td>\n",
       "      <td>0.705745</td>\n",
       "      <td>-0.497823</td>\n",
       "      <td>1.221170</td>\n",
       "      <td>105.280062</td>\n",
       "    </tr>\n",
       "    <tr>\n",
       "      <td>1</td>\n",
       "      <td>2acmU</td>\n",
       "      <td>1.334711</td>\n",
       "      <td>-0.340164</td>\n",
       "      <td>4.365080</td>\n",
       "      <td>73.037750</td>\n",
       "    </tr>\n",
       "    <tr>\n",
       "      <td>2</td>\n",
       "      <td>409Wp</td>\n",
       "      <td>1.022732</td>\n",
       "      <td>0.151990</td>\n",
       "      <td>1.419926</td>\n",
       "      <td>85.265647</td>\n",
       "    </tr>\n",
       "    <tr>\n",
       "      <td>3</td>\n",
       "      <td>iJLyR</td>\n",
       "      <td>-0.032172</td>\n",
       "      <td>0.139033</td>\n",
       "      <td>2.978566</td>\n",
       "      <td>168.620776</td>\n",
       "    </tr>\n",
       "    <tr>\n",
       "      <td>4</td>\n",
       "      <td>Xdl7t</td>\n",
       "      <td>1.988431</td>\n",
       "      <td>0.155413</td>\n",
       "      <td>4.751769</td>\n",
       "      <td>154.036647</td>\n",
       "    </tr>\n",
       "  </tbody>\n",
       "</table>\n",
       "</div>"
      ],
      "text/plain": [
       "      id        f0        f1        f2     product\n",
       "0  txEyH  0.705745 -0.497823  1.221170  105.280062\n",
       "1  2acmU  1.334711 -0.340164  4.365080   73.037750\n",
       "2  409Wp  1.022732  0.151990  1.419926   85.265647\n",
       "3  iJLyR -0.032172  0.139033  2.978566  168.620776\n",
       "4  Xdl7t  1.988431  0.155413  4.751769  154.036647"
      ]
     },
     "metadata": {},
     "output_type": "display_data"
    },
    {
     "name": "stdout",
     "output_type": "stream",
     "text": [
      "\n",
      "geo_data_1\n"
     ]
    },
    {
     "data": {
      "text/html": [
       "<div>\n",
       "<style scoped>\n",
       "    .dataframe tbody tr th:only-of-type {\n",
       "        vertical-align: middle;\n",
       "    }\n",
       "\n",
       "    .dataframe tbody tr th {\n",
       "        vertical-align: top;\n",
       "    }\n",
       "\n",
       "    .dataframe thead th {\n",
       "        text-align: right;\n",
       "    }\n",
       "</style>\n",
       "<table border=\"1\" class=\"dataframe\">\n",
       "  <thead>\n",
       "    <tr style=\"text-align: right;\">\n",
       "      <th></th>\n",
       "      <th>id</th>\n",
       "      <th>f0</th>\n",
       "      <th>f1</th>\n",
       "      <th>f2</th>\n",
       "      <th>product</th>\n",
       "    </tr>\n",
       "  </thead>\n",
       "  <tbody>\n",
       "    <tr>\n",
       "      <td>0</td>\n",
       "      <td>kBEdx</td>\n",
       "      <td>-15.001348</td>\n",
       "      <td>-8.276000</td>\n",
       "      <td>-0.005876</td>\n",
       "      <td>3.179103</td>\n",
       "    </tr>\n",
       "    <tr>\n",
       "      <td>1</td>\n",
       "      <td>62mP7</td>\n",
       "      <td>14.272088</td>\n",
       "      <td>-3.475083</td>\n",
       "      <td>0.999183</td>\n",
       "      <td>26.953261</td>\n",
       "    </tr>\n",
       "    <tr>\n",
       "      <td>2</td>\n",
       "      <td>vyE1P</td>\n",
       "      <td>6.263187</td>\n",
       "      <td>-5.948386</td>\n",
       "      <td>5.001160</td>\n",
       "      <td>134.766305</td>\n",
       "    </tr>\n",
       "    <tr>\n",
       "      <td>3</td>\n",
       "      <td>KcrkZ</td>\n",
       "      <td>-13.081196</td>\n",
       "      <td>-11.506057</td>\n",
       "      <td>4.999415</td>\n",
       "      <td>137.945408</td>\n",
       "    </tr>\n",
       "    <tr>\n",
       "      <td>4</td>\n",
       "      <td>AHL4O</td>\n",
       "      <td>12.702195</td>\n",
       "      <td>-8.147433</td>\n",
       "      <td>5.004363</td>\n",
       "      <td>134.766305</td>\n",
       "    </tr>\n",
       "  </tbody>\n",
       "</table>\n",
       "</div>"
      ],
      "text/plain": [
       "      id         f0         f1        f2     product\n",
       "0  kBEdx -15.001348  -8.276000 -0.005876    3.179103\n",
       "1  62mP7  14.272088  -3.475083  0.999183   26.953261\n",
       "2  vyE1P   6.263187  -5.948386  5.001160  134.766305\n",
       "3  KcrkZ -13.081196 -11.506057  4.999415  137.945408\n",
       "4  AHL4O  12.702195  -8.147433  5.004363  134.766305"
      ]
     },
     "metadata": {},
     "output_type": "display_data"
    },
    {
     "name": "stdout",
     "output_type": "stream",
     "text": [
      "\n",
      "geo_data_2\n"
     ]
    },
    {
     "data": {
      "text/html": [
       "<div>\n",
       "<style scoped>\n",
       "    .dataframe tbody tr th:only-of-type {\n",
       "        vertical-align: middle;\n",
       "    }\n",
       "\n",
       "    .dataframe tbody tr th {\n",
       "        vertical-align: top;\n",
       "    }\n",
       "\n",
       "    .dataframe thead th {\n",
       "        text-align: right;\n",
       "    }\n",
       "</style>\n",
       "<table border=\"1\" class=\"dataframe\">\n",
       "  <thead>\n",
       "    <tr style=\"text-align: right;\">\n",
       "      <th></th>\n",
       "      <th>id</th>\n",
       "      <th>f0</th>\n",
       "      <th>f1</th>\n",
       "      <th>f2</th>\n",
       "      <th>product</th>\n",
       "    </tr>\n",
       "  </thead>\n",
       "  <tbody>\n",
       "    <tr>\n",
       "      <td>0</td>\n",
       "      <td>fwXo0</td>\n",
       "      <td>-1.146987</td>\n",
       "      <td>0.963328</td>\n",
       "      <td>-0.828965</td>\n",
       "      <td>27.758673</td>\n",
       "    </tr>\n",
       "    <tr>\n",
       "      <td>1</td>\n",
       "      <td>WJtFt</td>\n",
       "      <td>0.262778</td>\n",
       "      <td>0.269839</td>\n",
       "      <td>-2.530187</td>\n",
       "      <td>56.069697</td>\n",
       "    </tr>\n",
       "    <tr>\n",
       "      <td>2</td>\n",
       "      <td>ovLUW</td>\n",
       "      <td>0.194587</td>\n",
       "      <td>0.289035</td>\n",
       "      <td>-5.586433</td>\n",
       "      <td>62.871910</td>\n",
       "    </tr>\n",
       "    <tr>\n",
       "      <td>3</td>\n",
       "      <td>q6cA6</td>\n",
       "      <td>2.236060</td>\n",
       "      <td>-0.553760</td>\n",
       "      <td>0.930038</td>\n",
       "      <td>114.572842</td>\n",
       "    </tr>\n",
       "    <tr>\n",
       "      <td>4</td>\n",
       "      <td>WPMUX</td>\n",
       "      <td>-0.515993</td>\n",
       "      <td>1.716266</td>\n",
       "      <td>5.899011</td>\n",
       "      <td>149.600746</td>\n",
       "    </tr>\n",
       "  </tbody>\n",
       "</table>\n",
       "</div>"
      ],
      "text/plain": [
       "      id        f0        f1        f2     product\n",
       "0  fwXo0 -1.146987  0.963328 -0.828965   27.758673\n",
       "1  WJtFt  0.262778  0.269839 -2.530187   56.069697\n",
       "2  ovLUW  0.194587  0.289035 -5.586433   62.871910\n",
       "3  q6cA6  2.236060 -0.553760  0.930038  114.572842\n",
       "4  WPMUX -0.515993  1.716266  5.899011  149.600746"
      ]
     },
     "metadata": {},
     "output_type": "display_data"
    }
   ],
   "source": [
    "# выведем на экран первые 5 строк таблиц для каждого из трех регионов\n",
    "print('geo_data_0')\n",
    "display(geo_data_0.head())\n",
    "print()\n",
    "print('geo_data_1')\n",
    "display(geo_data_1.head())\n",
    "print()\n",
    "print('geo_data_2')\n",
    "display(geo_data_2.head())"
   ]
  },
  {
   "cell_type": "markdown",
   "metadata": {},
   "source": [
    "Датасеты для трех разных регионов идентичны по своей структуре: 5 столбцов (признаков) и 100000 строк (объектов):\n",
    "\n",
    "- id — уникальный идентификатор скважины;\n",
    "- f0, f1, f2 — три признака точек (неважно, что они означают, но сами признаки значимы);\n",
    "- product — объём запасов в скважине (тыс. баррелей)."
   ]
  },
  {
   "cell_type": "code",
   "execution_count": 5,
   "metadata": {},
   "outputs": [
    {
     "name": "stdout",
     "output_type": "stream",
     "text": [
      "geo_data_0\n",
      "<class 'pandas.core.frame.DataFrame'>\n",
      "RangeIndex: 100000 entries, 0 to 99999\n",
      "Data columns (total 5 columns):\n",
      "id         100000 non-null object\n",
      "f0         100000 non-null float64\n",
      "f1         100000 non-null float64\n",
      "f2         100000 non-null float64\n",
      "product    100000 non-null float64\n",
      "dtypes: float64(4), object(1)\n",
      "memory usage: 3.8+ MB\n",
      "None\n",
      "\n",
      "geo_data_1\n",
      "<class 'pandas.core.frame.DataFrame'>\n",
      "RangeIndex: 100000 entries, 0 to 99999\n",
      "Data columns (total 5 columns):\n",
      "id         100000 non-null object\n",
      "f0         100000 non-null float64\n",
      "f1         100000 non-null float64\n",
      "f2         100000 non-null float64\n",
      "product    100000 non-null float64\n",
      "dtypes: float64(4), object(1)\n",
      "memory usage: 3.8+ MB\n",
      "None\n",
      "\n",
      "geo_data_2\n",
      "<class 'pandas.core.frame.DataFrame'>\n",
      "RangeIndex: 100000 entries, 0 to 99999\n",
      "Data columns (total 5 columns):\n",
      "id         100000 non-null object\n",
      "f0         100000 non-null float64\n",
      "f1         100000 non-null float64\n",
      "f2         100000 non-null float64\n",
      "product    100000 non-null float64\n",
      "dtypes: float64(4), object(1)\n",
      "memory usage: 3.8+ MB\n",
      "None\n"
     ]
    }
   ],
   "source": [
    "# выведем информацию по каждому датасету\n",
    "print('geo_data_0')\n",
    "print(geo_data_0.info())\n",
    "print()\n",
    "print('geo_data_1')\n",
    "print(geo_data_1.info())\n",
    "print()\n",
    "print('geo_data_2')\n",
    "print(geo_data_2.info())"
   ]
  },
  {
   "cell_type": "code",
   "execution_count": 6,
   "metadata": {},
   "outputs": [
    {
     "name": "stdout",
     "output_type": "stream",
     "text": [
      "geo_data_0\n",
      "                  f0             f1             f2        product\n",
      "count  100000.000000  100000.000000  100000.000000  100000.000000\n",
      "mean        0.500419       0.250143       2.502647      92.500000\n",
      "std         0.871832       0.504433       3.248248      44.288691\n",
      "min        -1.408605      -0.848218     -12.088328       0.000000\n",
      "25%        -0.072580      -0.200881       0.287748      56.497507\n",
      "50%         0.502360       0.250252       2.515969      91.849972\n",
      "75%         1.073581       0.700646       4.715088     128.564089\n",
      "max         2.362331       1.343769      16.003790     185.364347\n",
      "\n",
      "geo_data_1\n",
      "                  f0             f1             f2        product\n",
      "count  100000.000000  100000.000000  100000.000000  100000.000000\n",
      "mean        1.141296      -4.796579       2.494541      68.825000\n",
      "std         8.965932       5.119872       1.703572      45.944423\n",
      "min       -31.609576     -26.358598      -0.018144       0.000000\n",
      "25%        -6.298551      -8.267985       1.000021      26.953261\n",
      "50%         1.153055      -4.813172       2.011479      57.085625\n",
      "75%         8.621015      -1.332816       3.999904     107.813044\n",
      "max        29.421755      18.734063       5.019721     137.945408\n",
      "\n",
      "geo_data_2\n",
      "                  f0             f1             f2        product\n",
      "count  100000.000000  100000.000000  100000.000000  100000.000000\n",
      "mean        0.002023      -0.002081       2.495128      95.000000\n",
      "std         1.732045       1.730417       3.473445      44.749921\n",
      "min        -8.760004      -7.084020     -11.970335       0.000000\n",
      "25%        -1.162288      -1.174820       0.130359      59.450441\n",
      "50%         0.009424      -0.009482       2.484236      94.925613\n",
      "75%         1.158535       1.163678       4.858794     130.595027\n",
      "max         7.238262       7.844801      16.739402     190.029838\n"
     ]
    }
   ],
   "source": [
    "# выведем на экран описание данных для каждого региона\n",
    "print('geo_data_0')\n",
    "print(geo_data_0.describe())\n",
    "print()\n",
    "print('geo_data_1')\n",
    "print(geo_data_1.describe())\n",
    "print()\n",
    "print('geo_data_2')\n",
    "print(geo_data_2.describe())"
   ]
  },
  {
   "cell_type": "markdown",
   "metadata": {},
   "source": [
    "Данные выглядят однородно и не содержат пропусков."
   ]
  },
  {
   "cell_type": "markdown",
   "metadata": {},
   "source": [
    "Выделим из датафреймов для каждого региона признаки `features` и целевой признак `target`. Признаки: *f0*, *f1* и *f2*, целевой признак - '*product*'. После чего разобъем переменные *features* и *target* на тренировочную и валидационную выборки. Для этого напишем функцию **df_split**, которая обращается к методу *train_test_split* библиотеки *sklearn*."
   ]
  },
  {
   "cell_type": "code",
   "execution_count": 7,
   "metadata": {},
   "outputs": [],
   "source": [
    "def df_split(df):\n",
    "    features = df.drop(['id', 'product'], axis=1)\n",
    "    target = df['product']\n",
    "    features_train, features_valid, target_train, target_valid = train_test_split(\n",
    "    features, target, test_size=.25, random_state = rs)\n",
    "    # размер валидационной выборки уствановим в 25%\n",
    "    return features_train, features_valid, target_train, target_valid"
   ]
  },
  {
   "cell_type": "code",
   "execution_count": 8,
   "metadata": {},
   "outputs": [],
   "source": [
    "features_train_0, features_valid_0, target_train_0, target_valid_0 = df_split(geo_data_0)\n",
    "features_train_1, features_valid_1, target_train_1, target_valid_1 = df_split(geo_data_1)\n",
    "features_train_2, features_valid_2, target_train_2, target_valid_2 = df_split(geo_data_2)"
   ]
  },
  {
   "cell_type": "code",
   "execution_count": 9,
   "metadata": {},
   "outputs": [],
   "source": [
    "split_list = [features_train_0, features_valid_0, target_train_0, target_valid_0,\n",
    "              features_train_1, features_valid_1, target_train_1, target_valid_1,\n",
    "              features_train_2, features_valid_2, target_train_2, target_valid_2]"
   ]
  },
  {
   "cell_type": "code",
   "execution_count": 10,
   "metadata": {},
   "outputs": [
    {
     "name": "stdout",
     "output_type": "stream",
     "text": [
      "(75000, 3)\n",
      "(25000, 3)\n",
      "(75000,)\n",
      "(25000,)\n",
      "(75000, 3)\n",
      "(25000, 3)\n",
      "(75000,)\n",
      "(25000,)\n",
      "(75000, 3)\n",
      "(25000, 3)\n",
      "(75000,)\n",
      "(25000,)\n"
     ]
    }
   ],
   "source": [
    "# выведем на экран размерности полученных выборок\n",
    "for selection in split_list:\n",
    "    print(selection.shape)"
   ]
  },
  {
   "cell_type": "markdown",
   "metadata": {},
   "source": [
    "Выборки признаков имеют по 3 столбца, целевой признак - один столбец. Обучающие выборки содержат 75000 строк, валидационные - 25000. Разделение произведено корректно."
   ]
  },
  {
   "cell_type": "markdown",
   "metadata": {},
   "source": [
    "## Обучение и проверка модели"
   ]
  },
  {
   "cell_type": "markdown",
   "metadata": {},
   "source": [
    "Для каждого региона **х** обучим модель класса '*линейная регрессия*' с соответствующим индексом **х**. Предсказания модели сохраним в переменной *predictions*_**х**.\n",
    "В переменной *result*_**x** сохраним показатель среднеквадратической ошибки *RMSE* для целевого признака валидационной выборки и предсказаний модели."
   ]
  },
  {
   "cell_type": "markdown",
   "metadata": {},
   "source": [
    "### Регион geo_data_0"
   ]
  },
  {
   "cell_type": "code",
   "execution_count": 11,
   "metadata": {},
   "outputs": [],
   "source": [
    "model_0 = LinearRegression()\n",
    "model_0.fit(features_train_0, target_train_0)\n",
    "predictions_0 = pd.Series(model_0.predict(features_valid_0))\n",
    "result_0 = mse(target_valid_0, predictions_0)**.5"
   ]
  },
  {
   "cell_type": "code",
   "execution_count": 12,
   "metadata": {},
   "outputs": [
    {
     "name": "stdout",
     "output_type": "stream",
     "text": [
      "37.78865016608396\n",
      "92.6289007415327\n"
     ]
    }
   ],
   "source": [
    "print(result_0)\n",
    "print(predictions_0.mean())"
   ]
  },
  {
   "cell_type": "markdown",
   "metadata": {},
   "source": [
    "### Регион geo_data_1"
   ]
  },
  {
   "cell_type": "code",
   "execution_count": 13,
   "metadata": {},
   "outputs": [],
   "source": [
    "model_1 = LinearRegression()\n",
    "model_1.fit(features_train_1, target_train_1)\n",
    "predictions_1 = pd.Series(model_1.predict(features_valid_1))\n",
    "result_1 = mse(target_valid_1, predictions_1)**.5"
   ]
  },
  {
   "cell_type": "code",
   "execution_count": 14,
   "metadata": {},
   "outputs": [
    {
     "name": "stdout",
     "output_type": "stream",
     "text": [
      "0.893713849254031\n",
      "68.9514776931662\n"
     ]
    }
   ],
   "source": [
    "print(result_1)\n",
    "print(predictions_1.mean())"
   ]
  },
  {
   "cell_type": "markdown",
   "metadata": {},
   "source": [
    "### Регион geo_data_2"
   ]
  },
  {
   "cell_type": "code",
   "execution_count": 15,
   "metadata": {},
   "outputs": [],
   "source": [
    "model_2 = LinearRegression()\n",
    "model_2.fit(features_train_2, target_train_2)\n",
    "predictions_2 = pd.Series(model_2.predict(features_valid_2))\n",
    "result_2 = mse(predictions_2, target_valid_2)**.5"
   ]
  },
  {
   "cell_type": "code",
   "execution_count": 16,
   "metadata": {},
   "outputs": [
    {
     "name": "stdout",
     "output_type": "stream",
     "text": [
      "39.89052587928214\n",
      "94.8774353818318\n"
     ]
    }
   ],
   "source": [
    "print(result_2)\n",
    "print(predictions_2.mean())"
   ]
  },
  {
   "cell_type": "markdown",
   "metadata": {},
   "source": [
    "Соберем полученные результаты в таблицу `comparison_of_results`."
   ]
  },
  {
   "cell_type": "code",
   "execution_count": 17,
   "metadata": {},
   "outputs": [],
   "source": [
    "predictions_list = [predictions_0, predictions_1, predictions_2]"
   ]
  },
  {
   "cell_type": "code",
   "execution_count": 18,
   "metadata": {},
   "outputs": [],
   "source": [
    "#for prediction in predictions_list:\n",
    "#    print(prediction.shape)"
   ]
  },
  {
   "cell_type": "code",
   "execution_count": 19,
   "metadata": {},
   "outputs": [],
   "source": [
    "data = {'value':['rmse', 'predictions_mean', 'product_min', 'product_max', 'product_mean'],\n",
    "        'geo_data_0':[result_0, predictions_0.mean(), geo_data_0['product'].min(),\n",
    "                      geo_data_0['product'].max(), geo_data_0['product'].mean()],\n",
    "        'geo_data_1': [result_1, predictions_1.mean(), geo_data_1['product'].min(),\n",
    "                       geo_data_1['product'].max(), geo_data_1['product'].mean()],\n",
    "        'geo_data_2': [result_2, predictions_2.mean(), geo_data_2['product'].min(),\n",
    "                       geo_data_2['product'].max(), geo_data_2['product'].mean()]}\n",
    "        \n",
    "\n",
    "    \n",
    "comparison_of_results = pd.DataFrame(data)"
   ]
  },
  {
   "cell_type": "code",
   "execution_count": 20,
   "metadata": {},
   "outputs": [
    {
     "data": {
      "text/html": [
       "<div>\n",
       "<style scoped>\n",
       "    .dataframe tbody tr th:only-of-type {\n",
       "        vertical-align: middle;\n",
       "    }\n",
       "\n",
       "    .dataframe tbody tr th {\n",
       "        vertical-align: top;\n",
       "    }\n",
       "\n",
       "    .dataframe thead th {\n",
       "        text-align: right;\n",
       "    }\n",
       "</style>\n",
       "<table border=\"1\" class=\"dataframe\">\n",
       "  <thead>\n",
       "    <tr style=\"text-align: right;\">\n",
       "      <th></th>\n",
       "      <th>value</th>\n",
       "      <th>geo_data_0</th>\n",
       "      <th>geo_data_1</th>\n",
       "      <th>geo_data_2</th>\n",
       "    </tr>\n",
       "  </thead>\n",
       "  <tbody>\n",
       "    <tr>\n",
       "      <td>0</td>\n",
       "      <td>rmse</td>\n",
       "      <td>37.788650</td>\n",
       "      <td>0.893714</td>\n",
       "      <td>39.890526</td>\n",
       "    </tr>\n",
       "    <tr>\n",
       "      <td>1</td>\n",
       "      <td>predictions_mean</td>\n",
       "      <td>92.628901</td>\n",
       "      <td>68.951478</td>\n",
       "      <td>94.877435</td>\n",
       "    </tr>\n",
       "    <tr>\n",
       "      <td>2</td>\n",
       "      <td>product_min</td>\n",
       "      <td>0.000000</td>\n",
       "      <td>0.000000</td>\n",
       "      <td>0.000000</td>\n",
       "    </tr>\n",
       "    <tr>\n",
       "      <td>3</td>\n",
       "      <td>product_max</td>\n",
       "      <td>185.364347</td>\n",
       "      <td>137.945408</td>\n",
       "      <td>190.029838</td>\n",
       "    </tr>\n",
       "    <tr>\n",
       "      <td>4</td>\n",
       "      <td>product_mean</td>\n",
       "      <td>92.500000</td>\n",
       "      <td>68.825000</td>\n",
       "      <td>95.000000</td>\n",
       "    </tr>\n",
       "  </tbody>\n",
       "</table>\n",
       "</div>"
      ],
      "text/plain": [
       "              value  geo_data_0  geo_data_1  geo_data_2\n",
       "0              rmse   37.788650    0.893714   39.890526\n",
       "1  predictions_mean   92.628901   68.951478   94.877435\n",
       "2       product_min    0.000000    0.000000    0.000000\n",
       "3       product_max  185.364347  137.945408  190.029838\n",
       "4      product_mean   92.500000   68.825000   95.000000"
      ]
     },
     "execution_count": 20,
     "metadata": {},
     "output_type": "execute_result"
    }
   ],
   "source": [
    "comparison_of_results"
   ]
  },
  {
   "cell_type": "markdown",
   "metadata": {},
   "source": [
    "Таким образом, мы получили: \n",
    "- минимальное значение целевого признака для всех регионов равно 0;\n",
    "- максимальное значение целевого признака у региона с индексом 2, на втором месте регион 0 (с небольшим отставанием);\n",
    "- среднее значение предсказанний также наибольшее у региона 2, чуть меньше у реиона 0;\n",
    "- показатель средней квадратической ошибки минимален у региона 1 (на фоне двух других регионов аномально мал), на втором местое регион 0, на 3 - регион 2.\n",
    "\n",
    "*(Чем меньше RMSE, тем \"кучнее\" результаты относительно среднего значения.)*"
   ]
  },
  {
   "cell_type": "markdown",
   "metadata": {},
   "source": [
    "## Подготовка к расчёту прибыли"
   ]
  },
  {
   "cell_type": "code",
   "execution_count": 21,
   "metadata": {},
   "outputs": [],
   "source": [
    "#общий бюджет на разработку - 10 млрд. руб.\n",
    "total_budget = 10**10\n",
    "# ожидаемая прибыль от единицы 'product' (тысячи баррелей) - 450 тыс. руб.\n",
    "revenue_per_thousand_barrels = 450*10**3\n",
    "# количество месторождений для разработки - 200\n",
    "number_of_wells = 200"
   ]
  },
  {
   "cell_type": "markdown",
   "metadata": {},
   "source": [
    "Рассчитаем пороговый уровень безубыточности."
   ]
  },
  {
   "cell_type": "code",
   "execution_count": 22,
   "metadata": {},
   "outputs": [],
   "source": [
    "quantity_threshold = total_budget / (revenue_per_thousand_barrels * number_of_wells)"
   ]
  },
  {
   "cell_type": "code",
   "execution_count": 23,
   "metadata": {},
   "outputs": [
    {
     "data": {
      "text/plain": [
       "111.11111111111111"
      ]
     },
     "execution_count": 23,
     "metadata": {},
     "output_type": "execute_result"
    }
   ],
   "source": [
    "quantity_threshold"
   ]
  },
  {
   "cell_type": "markdown",
   "metadata": {},
   "source": [
    "Таким образом, средний показатель запасов месторождений в регионе должен составлять чуть больше 111 тысяч баррелей (*'product' == 111.(1)*) для работы \"в 0\" (т.е. для равенства доходов расходам и получения нулевой прибыли). Заниматься разработкой месторождений, имеющих меньшие запасы, нецелесообразно с экономической точки зрения."
   ]
  },
  {
   "cell_type": "markdown",
   "metadata": {},
   "source": [
    "## Расчёт прибыли и рисков "
   ]
  },
  {
   "cell_type": "code",
   "execution_count": 24,
   "metadata": {},
   "outputs": [],
   "source": [
    "# с целью достижения соответствия индексов target_valid \n",
    "# и predictions, выполним сброс индексов\n",
    "target_valid_0 = target_valid_0.reset_index(drop=True)\n",
    "target_valid_1 = target_valid_1.reset_index(drop=True)\n",
    "target_valid_2 = target_valid_2.reset_index(drop=True)"
   ]
  },
  {
   "cell_type": "markdown",
   "metadata": {},
   "source": [
    "Напишем функцию `revenue`, которая принимает на вход три параметра, производит сортировку одного из параметров по убыванию, производит подбор значений второго параметра по соответствию индексов с индексами первого параметра в количестве величины третьего параметра.\n",
    "Возвращает функция значение формулы: **разница произведения суммарных запасов по n точкам с доходностью от единицы объема и общих затрат на разработку**.\n",
    "Т.е. потенциальный доход мину снеобходимые расходы, получаем операционную прибыль."
   ]
  },
  {
   "cell_type": "code",
   "execution_count": 25,
   "metadata": {},
   "outputs": [],
   "source": [
    "def revenue(target, predictions, count):\n",
    "    predictions_sorted = pd.Series(predictions).sort_values(ascending=False)\n",
    "    selected = target[predictions_sorted.index][:count]\n",
    "    return revenue_per_thousand_barrels * selected.sum() - total_budget"
   ]
  },
  {
   "cell_type": "markdown",
   "metadata": {},
   "source": [
    "Напишем функцию `revenue_bootstrap`, которая методом \"бутстреп\" проанализирует 1000 выборок из валидационной переменной целевого признака в размере 500 объектов. В теле функции обратимся к написанной ранее функции `revenue`, а также вычислим риск убытка, равный процентному соотношению количества отрицательных значений к общему количеству значений показателя \"выручка\".\n",
    "Функция возвращает средний показатель прибыли, нижнюю и верхнюю границы 95%-го довери тельного интервала, а также риск убытка."
   ]
  },
  {
   "cell_type": "code",
   "execution_count": 26,
   "metadata": {},
   "outputs": [],
   "source": [
    "state = np.random.RandomState(rs)\n",
    "def revenue_bootstrap(target, predictions, count):    \n",
    "    values = []\n",
    "    loss_counter = 0\n",
    "    for i in range(1000):\n",
    "        target_subsample = target.sample(n=count, replace=True, random_state=state)\n",
    "        predictions_subsample = predictions[target_subsample.index] \n",
    "        revenue_result = revenue(target_subsample, predictions_subsample, number_of_wells)\n",
    "        values.append(revenue_result)\n",
    "        if revenue_result  < 0:\n",
    "            loss_counter += 1\n",
    "    values = pd.Series(values)\n",
    "    lower = values.quantile(.025)\n",
    "    upper = values.quantile(.975)\n",
    "    mean = values.mean()\n",
    "    return mean, lower, upper, (loss_counter/len(values)*100)"
   ]
  },
  {
   "cell_type": "markdown",
   "metadata": {},
   "source": [
    "Вызовем функцию для данных по каждому региону."
   ]
  },
  {
   "cell_type": "code",
   "execution_count": 27,
   "metadata": {},
   "outputs": [
    {
     "name": "stdout",
     "output_type": "stream",
     "text": [
      "Средняя выручка: 468058908.2730077\n",
      "2,5%-квантиль: -57987078.646888725\n",
      "97,5%-квантиль: 1001134135.1205382\n",
      "Риск получения убытка 4.8 %\n"
     ]
    }
   ],
   "source": [
    "mean_0, lower_0, upper_0, loss_risk_0 = revenue_bootstrap(target_valid_0, predictions_0, 500)\n",
    "print('Средняя выручка:', mean_0)\n",
    "print('2,5%-квантиль:', lower_0)\n",
    "print('97,5%-квантиль:', upper_0)\n",
    "print('Риск получения убытка', loss_risk_0, '%')"
   ]
  },
  {
   "cell_type": "code",
   "execution_count": 28,
   "metadata": {},
   "outputs": [
    {
     "name": "stdout",
     "output_type": "stream",
     "text": [
      "Средняя выручка: 528396076.1060662\n",
      "2,5%-квантиль: 123761468.13346158\n",
      "97,5%-квантиль: 925818986.6239607\n",
      "Риск получения убытка 0.3 %\n"
     ]
    }
   ],
   "source": [
    "mean_1, lower_1, upper_1, loss_risk_1 = revenue_bootstrap(target_valid_1, predictions_1, 500)\n",
    "print(\"Средняя выручка:\", mean_1)\n",
    "print(\"2,5%-квантиль:\", lower_1)\n",
    "print(\"97,5%-квантиль:\", upper_1)\n",
    "print('Риск получения убытка', loss_risk_1, '%')"
   ]
  },
  {
   "cell_type": "code",
   "execution_count": 29,
   "metadata": {},
   "outputs": [
    {
     "name": "stdout",
     "output_type": "stream",
     "text": [
      "Средняя выручка: 348170433.9889426\n",
      "2,5%-квантиль: -172554696.08704236\n",
      "97,5%-квантиль: 886473067.2536688\n",
      "Риск получения убытка 9.1 %\n"
     ]
    }
   ],
   "source": [
    "mean_2, lower_2, upper_2, loss_risk_2 = revenue_bootstrap(target_valid_2, predictions_2, 500)\n",
    "print(\"Средняя выручка:\", mean_2)\n",
    "print(\"2,5%-квантиль:\", lower_2)\n",
    "print(\"97,5%-квантиль:\", upper_2)\n",
    "print('Риск получения убытка', loss_risk_2, '%')"
   ]
  },
  {
   "cell_type": "markdown",
   "metadata": {},
   "source": [
    "Соберем полученные данные в таблицу `research_result`."
   ]
  },
  {
   "cell_type": "code",
   "execution_count": 30,
   "metadata": {},
   "outputs": [],
   "source": [
    "data_result = {'value':['revenue_mean', 'revenue_total', '0.025_quantile',\n",
    "                        '0.975_quantile', 'loss_risk'],\n",
    "        'geo_data_0':[mean_0, mean_0*number_of_wells, lower_0, upper_0, loss_risk_0],\n",
    "        'geo_data_1': [mean_1, mean_1*number_of_wells, lower_1, upper_1, loss_risk_1],\n",
    "        'geo_data_2': [mean_2, mean_2*number_of_wells, lower_2, upper_2, loss_risk_2]}\n",
    "        \n",
    "\n",
    "    \n",
    "research_result = pd.DataFrame(data_result)"
   ]
  },
  {
   "cell_type": "code",
   "execution_count": 31,
   "metadata": {},
   "outputs": [],
   "source": [
    "pd.set_option('display.float_format', '{:.2f}'.format)"
   ]
  },
  {
   "cell_type": "code",
   "execution_count": 32,
   "metadata": {},
   "outputs": [
    {
     "data": {
      "text/html": [
       "<div>\n",
       "<style scoped>\n",
       "    .dataframe tbody tr th:only-of-type {\n",
       "        vertical-align: middle;\n",
       "    }\n",
       "\n",
       "    .dataframe tbody tr th {\n",
       "        vertical-align: top;\n",
       "    }\n",
       "\n",
       "    .dataframe thead th {\n",
       "        text-align: right;\n",
       "    }\n",
       "</style>\n",
       "<table border=\"1\" class=\"dataframe\">\n",
       "  <thead>\n",
       "    <tr style=\"text-align: right;\">\n",
       "      <th></th>\n",
       "      <th>value</th>\n",
       "      <th>geo_data_0</th>\n",
       "      <th>geo_data_1</th>\n",
       "      <th>geo_data_2</th>\n",
       "    </tr>\n",
       "  </thead>\n",
       "  <tbody>\n",
       "    <tr>\n",
       "      <td>0</td>\n",
       "      <td>revenue_mean</td>\n",
       "      <td>468058908.27</td>\n",
       "      <td>528396076.11</td>\n",
       "      <td>348170433.99</td>\n",
       "    </tr>\n",
       "    <tr>\n",
       "      <td>1</td>\n",
       "      <td>revenue_total</td>\n",
       "      <td>93611781654.60</td>\n",
       "      <td>105679215221.21</td>\n",
       "      <td>69634086797.79</td>\n",
       "    </tr>\n",
       "    <tr>\n",
       "      <td>2</td>\n",
       "      <td>0.025_quantile</td>\n",
       "      <td>-57987078.65</td>\n",
       "      <td>123761468.13</td>\n",
       "      <td>-172554696.09</td>\n",
       "    </tr>\n",
       "    <tr>\n",
       "      <td>3</td>\n",
       "      <td>0.975_quantile</td>\n",
       "      <td>1001134135.12</td>\n",
       "      <td>925818986.62</td>\n",
       "      <td>886473067.25</td>\n",
       "    </tr>\n",
       "    <tr>\n",
       "      <td>4</td>\n",
       "      <td>loss_risk</td>\n",
       "      <td>4.80</td>\n",
       "      <td>0.30</td>\n",
       "      <td>9.10</td>\n",
       "    </tr>\n",
       "  </tbody>\n",
       "</table>\n",
       "</div>"
      ],
      "text/plain": [
       "            value     geo_data_0      geo_data_1     geo_data_2\n",
       "0    revenue_mean   468058908.27    528396076.11   348170433.99\n",
       "1   revenue_total 93611781654.60 105679215221.21 69634086797.79\n",
       "2  0.025_quantile   -57987078.65    123761468.13  -172554696.09\n",
       "3  0.975_quantile  1001134135.12    925818986.62   886473067.25\n",
       "4       loss_risk           4.80            0.30           9.10"
      ]
     },
     "execution_count": 32,
     "metadata": {},
     "output_type": "execute_result"
    }
   ],
   "source": [
    "research_result"
   ]
  },
  {
   "cell_type": "markdown",
   "metadata": {},
   "source": [
    "Мы получили риски получения убытка в размере 4.8% и 9.1% для регионов 0 и 2 соответственно, т.о. данные регионы не удовлетворяют условию о величине риска не более 2.5%.\n",
    "\n",
    "Риск получения убытка для региона 1 составляет 0.3%, среднее значение прибыли составляет 528 млн. руб. (что также является наибольшим показателем среди регионов).\n",
    "\n",
    "\n",
    "Границы доверительного интервала: от 123 млн. до 925 млн. (в таком диапазоне находится потенциальная прибыль от разработки 95% месторождений региона)."
   ]
  },
  {
   "cell_type": "markdown",
   "metadata": {},
   "source": [
    "На основании проведенного анализа, рекомендуется к разработке регион **geo_data_1**."
   ]
  }
 ],
 "metadata": {
  "kernelspec": {
   "display_name": "Python 3",
   "language": "python",
   "name": "python3"
  },
  "language_info": {
   "codemirror_mode": {
    "name": "ipython",
    "version": 3
   },
   "file_extension": ".py",
   "mimetype": "text/x-python",
   "name": "python",
   "nbconvert_exporter": "python",
   "pygments_lexer": "ipython3",
   "version": "3.7.8"
  },
  "toc": {
   "base_numbering": 1,
   "nav_menu": {},
   "number_sections": true,
   "sideBar": true,
   "skip_h1_title": true,
   "title_cell": "Table of Contents",
   "title_sidebar": "Contents",
   "toc_cell": false,
   "toc_position": {},
   "toc_section_display": true,
   "toc_window_display": false
  }
 },
 "nbformat": 4,
 "nbformat_minor": 2
}
