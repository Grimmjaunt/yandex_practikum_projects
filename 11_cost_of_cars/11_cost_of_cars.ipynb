{
 "cells": [
  {
   "cell_type": "markdown",
   "metadata": {},
   "source": [
    "# Определение стоимости автомобилей"
   ]
  },
  {
   "cell_type": "markdown",
   "metadata": {},
   "source": [
    "Сервис по продаже автомобилей с пробегом «Не бит, не крашен» разрабатывает приложение для привлечения новых клиентов. В нём можно быстро узнать рыночную стоимость своего автомобиля. В нашем распоряжении исторические данные: технические характеристики, комплектации и цены автомобилей. Необходимо построить модель для определения стоимости. \n",
    "\n",
    "Заказчику важны:\n",
    "\n",
    "- качество предсказания;\n",
    "- скорость предсказания;\n",
    "- время обучения."
   ]
  },
  {
   "cell_type": "markdown",
   "metadata": {},
   "source": [
    "## Подготовка данных"
   ]
  },
  {
   "cell_type": "code",
   "execution_count": 2,
   "metadata": {},
   "outputs": [],
   "source": [
    "import pandas as pd\n",
    "import numpy as np\n",
    "from matplotlib import pyplot as plt\n",
    "import datetime\n",
    "from sklearn.model_selection import train_test_split, RepeatedKFold, cross_val_score\n",
    "from sklearn.metrics import mean_squared_error as mse, make_scorer\n",
    "from lightgbm import LGBMRegressor\n",
    "from sklearn.linear_model import LinearRegression, ElasticNetCV\n",
    "from sklearn.preprocessing import OrdinalEncoder, StandardScaler\n",
    "from sklearn.tree import DecisionTreeRegressor\n",
    "from sklearn.ensemble import RandomForestRegressor, ExtraTreesClassifier"
   ]
  },
  {
   "cell_type": "code",
   "execution_count": 3,
   "metadata": {},
   "outputs": [],
   "source": [
    "# передадим в переменную значение random_state\n",
    "rs=503350"
   ]
  },
  {
   "cell_type": "code",
   "execution_count": 4,
   "metadata": {},
   "outputs": [],
   "source": [
    "# напишем функцию для вычисления метрики RMSE\n",
    "def rmse_score(target, predictions):\n",
    "    return mse(target, predictions)**.5"
   ]
  },
  {
   "cell_type": "code",
   "execution_count": 5,
   "metadata": {},
   "outputs": [],
   "source": [
    "autos = pd.read_csv('C:\\\\Users\\\\503so\\\\OneDrive\\\\Desktop\\\\praktikum-to-git\\\\11_autos.csv')"
   ]
  },
  {
   "cell_type": "code",
   "execution_count": 6,
   "metadata": {},
   "outputs": [],
   "source": [
    "# скопируем изначальные данные в отдельный датасет\n",
    "autos_original = autos.copy()"
   ]
  },
  {
   "cell_type": "markdown",
   "metadata": {},
   "source": [
    "Изучим информацию о датасете."
   ]
  },
  {
   "cell_type": "code",
   "execution_count": 7,
   "metadata": {},
   "outputs": [
    {
     "data": {
      "text/html": [
       "<div>\n",
       "<style scoped>\n",
       "    .dataframe tbody tr th:only-of-type {\n",
       "        vertical-align: middle;\n",
       "    }\n",
       "\n",
       "    .dataframe tbody tr th {\n",
       "        vertical-align: top;\n",
       "    }\n",
       "\n",
       "    .dataframe thead th {\n",
       "        text-align: right;\n",
       "    }\n",
       "</style>\n",
       "<table border=\"1\" class=\"dataframe\">\n",
       "  <thead>\n",
       "    <tr style=\"text-align: right;\">\n",
       "      <th></th>\n",
       "      <th>DateCrawled</th>\n",
       "      <th>Price</th>\n",
       "      <th>VehicleType</th>\n",
       "      <th>RegistrationYear</th>\n",
       "      <th>Gearbox</th>\n",
       "      <th>Power</th>\n",
       "      <th>Model</th>\n",
       "      <th>Kilometer</th>\n",
       "      <th>RegistrationMonth</th>\n",
       "      <th>FuelType</th>\n",
       "      <th>Brand</th>\n",
       "      <th>NotRepaired</th>\n",
       "      <th>DateCreated</th>\n",
       "      <th>NumberOfPictures</th>\n",
       "      <th>PostalCode</th>\n",
       "      <th>LastSeen</th>\n",
       "    </tr>\n",
       "  </thead>\n",
       "  <tbody>\n",
       "    <tr>\n",
       "      <td>0</td>\n",
       "      <td>2016-03-24 11:52:17</td>\n",
       "      <td>480</td>\n",
       "      <td>NaN</td>\n",
       "      <td>1993</td>\n",
       "      <td>manual</td>\n",
       "      <td>0</td>\n",
       "      <td>golf</td>\n",
       "      <td>150000</td>\n",
       "      <td>0</td>\n",
       "      <td>petrol</td>\n",
       "      <td>volkswagen</td>\n",
       "      <td>NaN</td>\n",
       "      <td>2016-03-24 00:00:00</td>\n",
       "      <td>0</td>\n",
       "      <td>70435</td>\n",
       "      <td>2016-04-07 03:16:57</td>\n",
       "    </tr>\n",
       "    <tr>\n",
       "      <td>1</td>\n",
       "      <td>2016-03-24 10:58:45</td>\n",
       "      <td>18300</td>\n",
       "      <td>coupe</td>\n",
       "      <td>2011</td>\n",
       "      <td>manual</td>\n",
       "      <td>190</td>\n",
       "      <td>NaN</td>\n",
       "      <td>125000</td>\n",
       "      <td>5</td>\n",
       "      <td>gasoline</td>\n",
       "      <td>audi</td>\n",
       "      <td>yes</td>\n",
       "      <td>2016-03-24 00:00:00</td>\n",
       "      <td>0</td>\n",
       "      <td>66954</td>\n",
       "      <td>2016-04-07 01:46:50</td>\n",
       "    </tr>\n",
       "    <tr>\n",
       "      <td>2</td>\n",
       "      <td>2016-03-14 12:52:21</td>\n",
       "      <td>9800</td>\n",
       "      <td>suv</td>\n",
       "      <td>2004</td>\n",
       "      <td>auto</td>\n",
       "      <td>163</td>\n",
       "      <td>grand</td>\n",
       "      <td>125000</td>\n",
       "      <td>8</td>\n",
       "      <td>gasoline</td>\n",
       "      <td>jeep</td>\n",
       "      <td>NaN</td>\n",
       "      <td>2016-03-14 00:00:00</td>\n",
       "      <td>0</td>\n",
       "      <td>90480</td>\n",
       "      <td>2016-04-05 12:47:46</td>\n",
       "    </tr>\n",
       "    <tr>\n",
       "      <td>3</td>\n",
       "      <td>2016-03-17 16:54:04</td>\n",
       "      <td>1500</td>\n",
       "      <td>small</td>\n",
       "      <td>2001</td>\n",
       "      <td>manual</td>\n",
       "      <td>75</td>\n",
       "      <td>golf</td>\n",
       "      <td>150000</td>\n",
       "      <td>6</td>\n",
       "      <td>petrol</td>\n",
       "      <td>volkswagen</td>\n",
       "      <td>no</td>\n",
       "      <td>2016-03-17 00:00:00</td>\n",
       "      <td>0</td>\n",
       "      <td>91074</td>\n",
       "      <td>2016-03-17 17:40:17</td>\n",
       "    </tr>\n",
       "    <tr>\n",
       "      <td>4</td>\n",
       "      <td>2016-03-31 17:25:20</td>\n",
       "      <td>3600</td>\n",
       "      <td>small</td>\n",
       "      <td>2008</td>\n",
       "      <td>manual</td>\n",
       "      <td>69</td>\n",
       "      <td>fabia</td>\n",
       "      <td>90000</td>\n",
       "      <td>7</td>\n",
       "      <td>gasoline</td>\n",
       "      <td>skoda</td>\n",
       "      <td>no</td>\n",
       "      <td>2016-03-31 00:00:00</td>\n",
       "      <td>0</td>\n",
       "      <td>60437</td>\n",
       "      <td>2016-04-06 10:17:21</td>\n",
       "    </tr>\n",
       "  </tbody>\n",
       "</table>\n",
       "</div>"
      ],
      "text/plain": [
       "           DateCrawled  Price VehicleType  RegistrationYear Gearbox  Power  \\\n",
       "0  2016-03-24 11:52:17    480         NaN              1993  manual      0   \n",
       "1  2016-03-24 10:58:45  18300       coupe              2011  manual    190   \n",
       "2  2016-03-14 12:52:21   9800         suv              2004    auto    163   \n",
       "3  2016-03-17 16:54:04   1500       small              2001  manual     75   \n",
       "4  2016-03-31 17:25:20   3600       small              2008  manual     69   \n",
       "\n",
       "   Model  Kilometer  RegistrationMonth  FuelType       Brand NotRepaired  \\\n",
       "0   golf     150000                  0    petrol  volkswagen         NaN   \n",
       "1    NaN     125000                  5  gasoline        audi         yes   \n",
       "2  grand     125000                  8  gasoline        jeep         NaN   \n",
       "3   golf     150000                  6    petrol  volkswagen          no   \n",
       "4  fabia      90000                  7  gasoline       skoda          no   \n",
       "\n",
       "           DateCreated  NumberOfPictures  PostalCode             LastSeen  \n",
       "0  2016-03-24 00:00:00                 0       70435  2016-04-07 03:16:57  \n",
       "1  2016-03-24 00:00:00                 0       66954  2016-04-07 01:46:50  \n",
       "2  2016-03-14 00:00:00                 0       90480  2016-04-05 12:47:46  \n",
       "3  2016-03-17 00:00:00                 0       91074  2016-03-17 17:40:17  \n",
       "4  2016-03-31 00:00:00                 0       60437  2016-04-06 10:17:21  "
      ]
     },
     "execution_count": 7,
     "metadata": {},
     "output_type": "execute_result"
    }
   ],
   "source": [
    "autos.head()"
   ]
  },
  {
   "cell_type": "code",
   "execution_count": 8,
   "metadata": {},
   "outputs": [
    {
     "data": {
      "text/plain": [
       "(354369, 16)"
      ]
     },
     "execution_count": 8,
     "metadata": {},
     "output_type": "execute_result"
    }
   ],
   "source": [
    "autos.shape"
   ]
  },
  {
   "cell_type": "code",
   "execution_count": 9,
   "metadata": {},
   "outputs": [
    {
     "name": "stdout",
     "output_type": "stream",
     "text": [
      "<class 'pandas.core.frame.DataFrame'>\n",
      "RangeIndex: 354369 entries, 0 to 354368\n",
      "Data columns (total 16 columns):\n",
      "DateCrawled          354369 non-null object\n",
      "Price                354369 non-null int64\n",
      "VehicleType          316879 non-null object\n",
      "RegistrationYear     354369 non-null int64\n",
      "Gearbox              334536 non-null object\n",
      "Power                354369 non-null int64\n",
      "Model                334664 non-null object\n",
      "Kilometer            354369 non-null int64\n",
      "RegistrationMonth    354369 non-null int64\n",
      "FuelType             321474 non-null object\n",
      "Brand                354369 non-null object\n",
      "NotRepaired          283215 non-null object\n",
      "DateCreated          354369 non-null object\n",
      "NumberOfPictures     354369 non-null int64\n",
      "PostalCode           354369 non-null int64\n",
      "LastSeen             354369 non-null object\n",
      "dtypes: int64(7), object(9)\n",
      "memory usage: 43.3+ MB\n"
     ]
    }
   ],
   "source": [
    "autos.info()"
   ]
  },
  {
   "cell_type": "markdown",
   "metadata": {},
   "source": [
    "**Признаки**\n",
    "- DateCrawled — дата скачивания анкеты из базы\n",
    "- VehicleType — тип автомобильного кузова\n",
    "- RegistrationYear — год регистрации автомобиля\n",
    "- Gearbox — тип коробки передач\n",
    "- Power — мощность (л. с.)\n",
    "- Model — модель автомобиля\n",
    "- Kilometer — пробег (км)\n",
    "- RegistrationMonth — месяц регистрации автомобиля\n",
    "- FuelType — тип топлива\n",
    "- Brand — марка автомобиля\n",
    "- NotRepaired — была машина в ремонте или нет\n",
    "- DateCreated — дата создания анкеты\n",
    "- NumberOfPictures — количество фотографий автомобиля\n",
    "- PostalCode — почтовый индекс владельца анкеты (пользователя)\n",
    "- LastSeen — дата последней активности пользователя\n",
    "\n",
    "**Целевой признак**\n",
    "- Price — цена (евро)"
   ]
  },
  {
   "cell_type": "markdown",
   "metadata": {},
   "source": [
    "Наш датасет содержит 16 столбцов: 15 обучающих признаков и 1 целевой признак.\n",
    "Из 15 обучающих признаков 5 относятся к датам, при этом ни один, кроме года регистрации автомобиля, не имеет ценности для обучения. Признаки `DateCrawled`, `RegistrationMonth`, `DateCreated`, и `LastSeen` можем удалить."
   ]
  },
  {
   "cell_type": "code",
   "execution_count": 10,
   "metadata": {},
   "outputs": [],
   "source": [
    "autos = autos.drop(['DateCrawled', 'RegistrationMonth', 'DateCreated', 'LastSeen'], axis=1)"
   ]
  },
  {
   "cell_type": "markdown",
   "metadata": {},
   "source": [
    "Выясним, содержатся ли пропуски в наших данных."
   ]
  },
  {
   "cell_type": "code",
   "execution_count": 11,
   "metadata": {},
   "outputs": [
    {
     "data": {
      "text/plain": [
       "Price                   0\n",
       "VehicleType         37490\n",
       "RegistrationYear        0\n",
       "Gearbox             19833\n",
       "Power                   0\n",
       "Model               19705\n",
       "Kilometer               0\n",
       "FuelType            32895\n",
       "Brand                   0\n",
       "NotRepaired         71154\n",
       "NumberOfPictures        0\n",
       "PostalCode              0\n",
       "dtype: int64"
      ]
     },
     "execution_count": 11,
     "metadata": {},
     "output_type": "execute_result"
    }
   ],
   "source": [
    "autos.isna().sum()"
   ]
  },
  {
   "cell_type": "markdown",
   "metadata": {},
   "source": [
    "Из почти **355 тысяч объектов** *пропуски* содержатся **по 5 признакам** из оставшихся 11-ти в количестве **от 20 тыс. до 71 тыс.** Это такие признаки, как: *тип кузова, тип коробки переключения передач, модель автомобиля, тип топлива и сведения о ремонте (скорее всего, имеется в виду ремонт после участия в ДТП)*.\n",
    "Ни один из этих пропусков мы не можем восстановить на основании имеющихся данных: тип кузова может отличаться даже для одной модели, КПП для большинства автомобилей (кроме отдельных моделей бизнес-сегмента) также может быть как механической, так и автоматической. Моделей у каждой марки великое множество, большинство автомобилей имеют модификации как с дизельным двигателем, так и с бензиновым. Сведения о нахождении автомобиля в ремонте - вообще индивидуальная для каждого отдельного случая информация.\n",
    "\n",
    "Исходя из выше описанного, можем принять решение о заполнении всех пропусков (поскольку речь только о категориальных признаках) значением **unknown** (*англ. \"неизвестно\"*)."
   ]
  },
  {
   "cell_type": "code",
   "execution_count": 12,
   "metadata": {},
   "outputs": [
    {
     "data": {
      "text/plain": [
       "0"
      ]
     },
     "execution_count": 12,
     "metadata": {},
     "output_type": "execute_result"
    }
   ],
   "source": [
    "autos = autos.fillna('unknown')\n",
    "# проверим, остались ли пропуски в наших данных после заполнения\n",
    "autos.isna().sum().sum()"
   ]
  },
  {
   "cell_type": "code",
   "execution_count": 13,
   "metadata": {},
   "outputs": [],
   "source": [
    "# сохраним названия признаков в отдельном списке\n",
    "attributes = ['Price', 'VehicleType', 'RegistrationYear', 'Gearbox', 'Power', 'Model',\n",
    "              'Kilometer', 'FuelType', 'Brand', 'NotRepaired', 'NumberOfPictures', 'PostalCode']"
   ]
  },
  {
   "cell_type": "markdown",
   "metadata": {},
   "source": [
    "Изучим содержание нашего датасета по признакам."
   ]
  },
  {
   "cell_type": "code",
   "execution_count": 14,
   "metadata": {},
   "outputs": [
    {
     "name": "stdout",
     "output_type": "stream",
     "text": [
      "Минимальная цена автомобиля: 0\n",
      "Максимальная цена автомобиля: 20000\n",
      "Максимальная мощность двигателя: 20000\n",
      "Price\n"
     ]
    },
    {
     "data": {
      "text/plain": [
       "array([  480, 18300,  9800, ..., 12395, 18429, 10985])"
      ]
     },
     "metadata": {},
     "output_type": "display_data"
    },
    {
     "name": "stdout",
     "output_type": "stream",
     "text": [
      "VehicleType\n"
     ]
    },
    {
     "data": {
      "text/plain": [
       "array(['unknown', 'coupe', 'suv', 'small', 'sedan', 'convertible', 'bus',\n",
       "       'wagon', 'other'], dtype=object)"
      ]
     },
     "metadata": {},
     "output_type": "display_data"
    },
    {
     "name": "stdout",
     "output_type": "stream",
     "text": [
      "RegistrationYear\n"
     ]
    },
    {
     "data": {
      "text/plain": [
       "array([1993, 2011, 2004, 2001, 2008, 1995, 1980, 2014, 1998, 2005, 1910,\n",
       "       2016, 2007, 2009, 2002, 2018, 1997, 1990, 2017, 1981, 2003, 1994,\n",
       "       1991, 1984, 2006, 1999, 2012, 2010, 2000, 1992, 2013, 1996, 1985,\n",
       "       1989, 2015, 1982, 1976, 1983, 1973, 1111, 1969, 1971, 1987, 1986,\n",
       "       1988, 1970, 1965, 1945, 1925, 1974, 1979, 1955, 1978, 1972, 1968,\n",
       "       1977, 1961, 1960, 1966, 1975, 1963, 1964, 5000, 1954, 1958, 1967,\n",
       "       1959, 9999, 1956, 3200, 1000, 1941, 8888, 1500, 2200, 4100, 1962,\n",
       "       1929, 1957, 1940, 3000, 2066, 1949, 2019, 1937, 1951, 1800, 1953,\n",
       "       1234, 8000, 5300, 9000, 2900, 6000, 5900, 5911, 1933, 1400, 1950,\n",
       "       4000, 1948, 1952, 1200, 8500, 1932, 1255, 3700, 3800, 4800, 1942,\n",
       "       7000, 1935, 1936, 6500, 1923, 2290, 2500, 1930, 1001, 9450, 1944,\n",
       "       1943, 1934, 1938, 1688, 2800, 1253, 1928, 1919, 5555, 5600, 1600,\n",
       "       2222, 1039, 9996, 1300, 8455, 1931, 1915, 4500, 1920, 1602, 7800,\n",
       "       9229, 1947, 1927, 7100, 8200, 1946, 7500, 3500])"
      ]
     },
     "metadata": {},
     "output_type": "display_data"
    },
    {
     "name": "stdout",
     "output_type": "stream",
     "text": [
      "Gearbox\n"
     ]
    },
    {
     "data": {
      "text/plain": [
       "array(['manual', 'auto', 'unknown'], dtype=object)"
      ]
     },
     "metadata": {},
     "output_type": "display_data"
    },
    {
     "name": "stdout",
     "output_type": "stream",
     "text": [
      "Power\n"
     ]
    },
    {
     "data": {
      "text/plain": [
       "array([    0,   190,   163,    75,    69,   102,   109,    50,   125,\n",
       "         101,   105,   140,   115,   131,    60,   136,   160,   231,\n",
       "          90,   118,   193,    99,   113,   218,   122,   129,    70,\n",
       "         306,    95,    61,   177,    80,   170,    55,   143,    64,\n",
       "         286,   232,   150,   156,    82,   155,    54,   185,    87,\n",
       "         180,    86,    84,   224,   235,   200,   178,   265,    77,\n",
       "         110,   144,   120,   116,   184,   126,   204,    88,   194,\n",
       "         305,   197,   179,   250,    45,   313,    41,   165,    98,\n",
       "         130,   114,   211,    56,   201,   213,    58,   107,    83,\n",
       "         174,   100,   220,    85,    73,   192,    68,    66,   299,\n",
       "          74,    52,   147,    65,   310,    71,    97,   239,   203,\n",
       "           5,   300,   103,   258,   320,    63,    81,   148,    44,\n",
       "         145,   230,   280,   260,   104,   188,   333,   186,   117,\n",
       "         141,    59,   132,   234,   158,    39,    92,    51,   135,\n",
       "          53,   209,    43,   146,    67,   106,   166,   276,   344,\n",
       "          72,   249,   237,   245,   111,   326,   279,    23,   138,\n",
       "         175,    96,   226,    26,    37,   301,   334,   128,   133,\n",
       "         124,    33,   219,   241,   167,    94,   182,   196,   238,\n",
       "        1398,   228,   112,    48,   272,   139,  1799,    40,   240,\n",
       "          79,   256,   360,   243,   375,   252,   396,   340,   108,\n",
       "         121,   345,   187,   289,   222,   198,   284,   450,   233,\n",
       "         387,   152,   347,   172,    57,   137,   212,   476,   314,\n",
       "          30,     7,    47,   173,   290,   207,   205,   171,   750,\n",
       "          78,    91,    89,   349,   325,    76,   151,   350,   953,\n",
       "          93,   142,   500,   343,   199,   119,   164,    16,   264,\n",
       "         367,   208,   210,    46,   435,  1001,   225,   127,   176,\n",
       "         161,   603,   307,   354,    35,   206,   771,   355,   273,\n",
       "         223,   255,   123,   154,   149,  7515,  1400,   268,   620,\n",
       "         169,   400,   275,    34,     2,   242,  1779,   285,   162,\n",
       "         328,  1753,   329,   134,   420,   247,   168, 10317,   215,\n",
       "          18,   330,   283,    62,    10,   214,   183,   254,    15,\n",
       "         321,   322,   315,   952,   600,   181,   426,   599,   379,\n",
       "         999,    22,   157,    42,   195,   553,     4,   309,   507,\n",
       "         381,   271,   440,   189,   401,  1111,  2729,    21,   236,\n",
       "        1240,  1704,   521,     1,  1900,   270,    24,   159,   292,\n",
       "         808,   515,  1200,   303,    29,    38,  1993,    14,   216,\n",
       "         610,   504,    49,   267,   331,   363,   261,   385,  1011,\n",
       "         253,   696, 10520,   376,   227,   311,    27,   217,    20,\n",
       "        1999,    11,  1056,    25,   394,    12,   298,   296,  1659,\n",
       "         294,   551,  6920,   246,    17,  1800,  1625,   368,   390,\n",
       "         221,  1367,   259,   606,   327,  2017,  1597,   266,   374,\n",
       "         392,     9,   405,    13,   262,   601,   430,   295,     8,\n",
       "         411,   900,   541,  7512,   382, 10218,  7544,  1102,   287,\n",
       "          19,   751,   297,  1090,   457,   282,   602,   388,     6,\n",
       "        1000,  5411,   335,  1360,   202,  3750,   805,  1062,  1024,\n",
       "       11530,   364,  1796,  5000,   269,   460,  1002,   288,  1780,\n",
       "       12012, 17932,   316,  2005,  1399,   191,   278,  1300,   380,\n",
       "         257,   449,  1256,   153,  1653,   520,   560,   281, 12510,\n",
       "           3,  1500,   386,    32,  1202,  2016,  1436,  1405,   671,\n",
       "         274,  1288,  1055, 10912, 15016,  6226,  1115,   277,  1105,\n",
       "         341,  1223,  2340,  8404,  1968,   338,   445,  1920,   370,\n",
       "         517,  4400, 10710, 10522,  9010,   431,  1164, 11509,   371,\n",
       "        1501,   428, 11635,    36,   304,   348,  1703,  1910,  1995,\n",
       "         579, 10000,   580,   408,    31,  1005,   358,  1403,   489,\n",
       "        5575, 19211,   585,   960,   365,   353,   490,   352,  1801,\n",
       "         346,   550,  3199,   800,  7508,  1312,   357,  1937,   950,\n",
       "        4700,  1600,  3454, 19208,   251,   850,   337,   700,  8011,\n",
       "        2331,  2789,   487,   519,  2461,  6006,  3500,  5815,  6018,\n",
       "        1781,  1503,   612,  1596,   229,  1506,  5809, 15020,  5867,\n",
       "        2172,  1598, 17410,  1363,   584,  1054,   851,  1339,   318,\n",
       "         510,   525,  1700,    28,  1151,   685,  6011,   317,   703,\n",
       "        1771, 15001,   514,   362,   332,   324,  6045,   530,   425,\n",
       "         308,  6010,   475,   903,   640,  2000,   248,   651,  2799,\n",
       "       17011,   505,  1103,  1521,   351, 16051,   398,  9000,  1998,\n",
       "       10311,   409,  1230, 17019, 12684,  8259,  1895,   901,  1317,\n",
       "         871,   909,  2201,  1595,   776, 17700, 11011,  1199,   459,\n",
       "        1162,  1120, 15033,  1896,   339,   361,   574,  6512,   454,\n",
       "         650, 13616,   604,   607, 16312,  1082,   336, 20000,   416,\n",
       "         678,  6012,  1401,  1021,  1870, 13636,  1250,  9710,   323,\n",
       "        1158,  2009,   902,  6062,  1275,   572,   244,   399,  1016,\n",
       "         743,  1221,  2402, 16011,  1362,   544,   645,   907,   702,\n",
       "       12512,  1986,  1003,  1432,  9013,  9011,   442,  1017,  1394,\n",
       "       15017, 10910,  1992,   540,  2018, 11025,  1433,  1701,  2792,\n",
       "        1502,  1239,  1390, 14009,  1160,  1351, 11111,  1783,  9007,\n",
       "         923,  1149,   754,  1988,   402,  2004,  5420,  1793,  1324,\n",
       "         356,  7511,  1299,   293, 19312,  1079,  1689,   998,  1100,\n",
       "        9012,  1933,   508, 16311,   682,  1252,  1922,  7529,   732,\n",
       "        2389,  2200,  1707,  1416,  8500,  1012,   485,  3000, 10110,\n",
       "         421,  4507,  1631,  7518,   377,  1004,  2007,  2598,  1548,\n",
       "        1241])"
      ]
     },
     "metadata": {},
     "output_type": "display_data"
    },
    {
     "name": "stdout",
     "output_type": "stream",
     "text": [
      "Model\n"
     ]
    },
    {
     "data": {
      "text/plain": [
       "array(['golf', 'unknown', 'grand', 'fabia', '3er', '2_reihe', 'other',\n",
       "       'c_max', '3_reihe', 'passat', 'navara', 'ka', 'polo', 'twingo',\n",
       "       'a_klasse', 'scirocco', '5er', 'meriva', 'arosa', 'c4', 'civic',\n",
       "       'transporter', 'punto', 'e_klasse', 'clio', 'kadett', 'kangoo',\n",
       "       'corsa', 'one', 'fortwo', '1er', 'b_klasse', 'signum', 'astra',\n",
       "       'a8', 'jetta', 'fiesta', 'c_klasse', 'micra', 'vito', 'sprinter',\n",
       "       '156', 'escort', 'forester', 'xc_reihe', 'scenic', 'a4', 'a1',\n",
       "       'insignia', 'combo', 'focus', 'tt', 'a6', 'jazz', 'omega', 'slk',\n",
       "       '7er', '80', '147', '100', 'z_reihe', 'sportage', 'sorento', 'v40',\n",
       "       'ibiza', 'mustang', 'eos', 'touran', 'getz', 'a3', 'almera',\n",
       "       'megane', 'lupo', 'r19', 'zafira', 'caddy', 'mondeo', 'cordoba',\n",
       "       'colt', 'impreza', 'vectra', 'berlingo', 'tiguan', 'i_reihe',\n",
       "       'espace', 'sharan', '6_reihe', 'panda', 'up', 'seicento', 'ceed',\n",
       "       '5_reihe', 'yeti', 'octavia', 'mii', 'rx_reihe', '6er', 'modus',\n",
       "       'fox', 'matiz', 'beetle', 'c1', 'rio', 'touareg', 'logan',\n",
       "       'spider', 'cuore', 's_max', 'a2', 'galaxy', 'c3', 'viano',\n",
       "       's_klasse', '1_reihe', 'avensis', 'roomster', 'sl', 'kaefer',\n",
       "       'santa', 'cooper', 'leon', '4_reihe', 'a5', '500', 'laguna',\n",
       "       'ptcruiser', 'clk', 'primera', 'x_reihe', 'exeo', '159', 'transit',\n",
       "       'juke', 'qashqai', 'carisma', 'accord', 'corolla', 'lanos',\n",
       "       'phaeton', 'verso', 'swift', 'rav', 'picanto', 'boxster', 'kalos',\n",
       "       'superb', 'stilo', 'alhambra', 'mx_reihe', 'roadster', 'ypsilon',\n",
       "       'cayenne', 'galant', 'justy', '90', 'sirion', 'crossfire', 'agila',\n",
       "       'duster', 'cr_reihe', 'v50', 'c_reihe', 'v_klasse', 'm_klasse',\n",
       "       'yaris', 'c5', 'aygo', 'cc', 'carnival', 'fusion', '911', 'bora',\n",
       "       'forfour', 'm_reihe', 'cl', 'tigra', '300c', 'spark', 'v70',\n",
       "       'kuga', 'x_type', 'ducato', 's_type', 'x_trail', 'toledo', 'altea',\n",
       "       'voyager', 'calibra', 'bravo', 'antara', 'tucson', 'citigo',\n",
       "       'jimny', 'wrangler', 'lybra', 'q7', 'lancer', 'captiva', 'c2',\n",
       "       'discovery', 'freelander', 'sandero', 'note', '900', 'cherokee',\n",
       "       'clubman', 'samara', 'defender', '601', 'cx_reihe', 'legacy',\n",
       "       'pajero', 'auris', 'niva', 's60', 'nubira', 'vivaro', 'g_klasse',\n",
       "       'lodgy', '850', 'range_rover', 'q3', 'serie_2', 'glk', 'charade',\n",
       "       'croma', 'outlander', 'doblo', 'musa', 'move', '9000', 'v60',\n",
       "       '145', 'aveo', '200', 'b_max', 'range_rover_sport', 'terios',\n",
       "       'rangerover', 'q5', 'range_rover_evoque', 'materia', 'delta', 'gl',\n",
       "       'kalina', 'amarok', 'elefantino', 'i3', 'kappa', 'serie_3',\n",
       "       'serie_1'], dtype=object)"
      ]
     },
     "metadata": {},
     "output_type": "display_data"
    },
    {
     "name": "stdout",
     "output_type": "stream",
     "text": [
      "Kilometer\n"
     ]
    },
    {
     "data": {
      "text/plain": [
       "array([150000, 125000,  90000,  40000,  30000,  70000,   5000, 100000,\n",
       "        60000,  20000,  80000,  50000,  10000])"
      ]
     },
     "metadata": {},
     "output_type": "display_data"
    },
    {
     "name": "stdout",
     "output_type": "stream",
     "text": [
      "FuelType\n"
     ]
    },
    {
     "data": {
      "text/plain": [
       "array(['petrol', 'gasoline', 'unknown', 'lpg', 'other', 'hybrid', 'cng',\n",
       "       'electric'], dtype=object)"
      ]
     },
     "metadata": {},
     "output_type": "display_data"
    },
    {
     "name": "stdout",
     "output_type": "stream",
     "text": [
      "Brand\n"
     ]
    },
    {
     "data": {
      "text/plain": [
       "array(['volkswagen', 'audi', 'jeep', 'skoda', 'bmw', 'peugeot', 'ford',\n",
       "       'mazda', 'nissan', 'renault', 'mercedes_benz', 'opel', 'seat',\n",
       "       'citroen', 'honda', 'fiat', 'mini', 'smart', 'hyundai',\n",
       "       'sonstige_autos', 'alfa_romeo', 'subaru', 'volvo', 'mitsubishi',\n",
       "       'kia', 'suzuki', 'lancia', 'toyota', 'chevrolet', 'dacia',\n",
       "       'daihatsu', 'trabant', 'saab', 'chrysler', 'jaguar', 'daewoo',\n",
       "       'porsche', 'rover', 'land_rover', 'lada'], dtype=object)"
      ]
     },
     "metadata": {},
     "output_type": "display_data"
    },
    {
     "name": "stdout",
     "output_type": "stream",
     "text": [
      "NotRepaired\n"
     ]
    },
    {
     "data": {
      "text/plain": [
       "array(['unknown', 'yes', 'no'], dtype=object)"
      ]
     },
     "metadata": {},
     "output_type": "display_data"
    },
    {
     "name": "stdout",
     "output_type": "stream",
     "text": [
      "NumberOfPictures\n"
     ]
    },
    {
     "data": {
      "text/plain": [
       "array([0])"
      ]
     },
     "metadata": {},
     "output_type": "display_data"
    },
    {
     "name": "stdout",
     "output_type": "stream",
     "text": [
      "PostalCode\n"
     ]
    },
    {
     "data": {
      "text/plain": [
       "array([70435, 66954, 90480, ..., 38528, 38325, 31096])"
      ]
     },
     "metadata": {},
     "output_type": "display_data"
    }
   ],
   "source": [
    "print('Минимальная цена автомобиля:', autos['Price'].min())\n",
    "print('Максимальная цена автомобиля:', autos['Price'].max())\n",
    "print('Максимальная мощность двигателя:', autos['Power'].max())\n",
    "\n",
    "for attribute in attributes:\n",
    "    print(attribute)\n",
    "    display(autos[attribute].unique())"
   ]
  },
  {
   "cell_type": "code",
   "execution_count": 15,
   "metadata": {},
   "outputs": [
    {
     "data": {
      "text/plain": [
       "26.0"
      ]
     },
     "execution_count": 15,
     "metadata": {},
     "output_type": "execute_result"
    }
   ],
   "source": [
    "# узнаем медианное количество объектов с одинаковым значение признака \"Почтовый индекс\"\n",
    "autos['PostalCode'].value_counts().median()"
   ]
  },
  {
   "cell_type": "markdown",
   "metadata": {},
   "source": [
    "По результатам изучения данных можем наблюдать явные искажения, которые способны ухудшить качество модели при обучении:\n",
    "1. Год выпуска должен находиться в диапазоне от 1900 года (приблизительное время зарождения автопрома) до текущего, 2021-го. Автомобили, выпущенные в 2500, 5900 и 9229 годах не стоит воспринимать всерьез. При этом автомобили старше 50 лет могут относиться к одной из двух групп: \"ретро\" или \"хлам\". В первом случае цену предсказать почти невозможно, каждый случай уникален. Во втором - она стремится к нулю. Поэтому нижнюю границу года выпуска установим на отметке \"1970 год\".\n",
    "2. Мощность двигателя должна находиться в диапазоне от 50 до 500 л.с. Явная ошибка в данных - мощность свыше 1600 л.с. Поскольку такой мощностью обладает только Hennessey Venom F5, которых было выпущено 24 штуки. Из автомобилей с неприлично мощным мотором стоимостью до 1 млн. евро можно выделить только Tesla P100D (мощность: 779 л.с., цена: 135000) и Dodge Challenger SRT Demon (мощность: 808 л.с., цена: 86090), однако данные модели не представлены в нашем списке. Таком образом, если рассматривать массовый сегмент автомобилей, верхнюю границу мощности можно было выбрать на уровне диапазона 380 - 420 л.с. (мы в нашем примере возьмем с небольшим запасом).\n",
    "3. Для всех объектов значение признака \"количество изображений\" равно 0.\n",
    "4. Нас не интересуют автомобили, которые владелец по какой-то причине отдает бесплатно. Это ничего не скажет нам о реальном диапазоне цен на автомобили данной модели. В качестве нижней границы стоимости выберем 500 евро.\n",
    "\n",
    "Избавимся от выбросов."
   ]
  },
  {
   "cell_type": "code",
   "execution_count": 16,
   "metadata": {},
   "outputs": [],
   "source": [
    "autos = autos.drop('NumberOfPictures', axis=1)"
   ]
  },
  {
   "cell_type": "code",
   "execution_count": 17,
   "metadata": {},
   "outputs": [],
   "source": [
    "autos = autos.query('1970 < RegistrationYear < 2021 and 50 < Power < 500 and Price > 500')"
   ]
  },
  {
   "cell_type": "markdown",
   "metadata": {},
   "source": [
    "Признак **\"Почтовый индекс\"** относится к категориальным: значение - всего лишь уникальный идентификатор, алгебраическая величина этого значения не содержит в себе никакой реальной информации. Для того, чтобы **\"Почтовый индекс\"** не воспринимался как количественный признак, изменим тип данных с `int64` на `object`."
   ]
  },
  {
   "cell_type": "code",
   "execution_count": 18,
   "metadata": {},
   "outputs": [],
   "source": [
    "autos['PostalCode'] = autos['PostalCode'].astype('str')"
   ]
  },
  {
   "cell_type": "code",
   "execution_count": 19,
   "metadata": {},
   "outputs": [
    {
     "name": "stdout",
     "output_type": "stream",
     "text": [
      "<class 'pandas.core.frame.DataFrame'>\n",
      "Int64Index: 276681 entries, 1 to 354368\n",
      "Data columns (total 11 columns):\n",
      "Price               276681 non-null int64\n",
      "VehicleType         276681 non-null object\n",
      "RegistrationYear    276681 non-null int64\n",
      "Gearbox             276681 non-null object\n",
      "Power               276681 non-null int64\n",
      "Model               276681 non-null object\n",
      "Kilometer           276681 non-null int64\n",
      "FuelType            276681 non-null object\n",
      "Brand               276681 non-null object\n",
      "NotRepaired         276681 non-null object\n",
      "PostalCode          276681 non-null object\n",
      "dtypes: int64(4), object(7)\n",
      "memory usage: 25.3+ MB\n"
     ]
    }
   ],
   "source": [
    "autos.info()"
   ]
  },
  {
   "cell_type": "code",
   "execution_count": 20,
   "metadata": {},
   "outputs": [],
   "source": [
    "autos = autos.drop('PostalCode', axis=1)"
   ]
  },
  {
   "cell_type": "markdown",
   "metadata": {},
   "source": [
    "После предобработки мы избавились от примерно 77 тысяч строк выбросов. В нашем наборе данных после очистки осталось 276681 записей."
   ]
  },
  {
   "cell_type": "code",
   "execution_count": 21,
   "metadata": {},
   "outputs": [
    {
     "data": {
      "text/html": [
       "<div>\n",
       "<style scoped>\n",
       "    .dataframe tbody tr th:only-of-type {\n",
       "        vertical-align: middle;\n",
       "    }\n",
       "\n",
       "    .dataframe tbody tr th {\n",
       "        vertical-align: top;\n",
       "    }\n",
       "\n",
       "    .dataframe thead th {\n",
       "        text-align: right;\n",
       "    }\n",
       "</style>\n",
       "<table border=\"1\" class=\"dataframe\">\n",
       "  <thead>\n",
       "    <tr style=\"text-align: right;\">\n",
       "      <th></th>\n",
       "      <th>Price</th>\n",
       "      <th>RegistrationYear</th>\n",
       "      <th>Power</th>\n",
       "      <th>Kilometer</th>\n",
       "      <th>RegistrationMonth</th>\n",
       "      <th>NumberOfPictures</th>\n",
       "      <th>PostalCode</th>\n",
       "    </tr>\n",
       "  </thead>\n",
       "  <tbody>\n",
       "    <tr>\n",
       "      <td>Price</td>\n",
       "      <td>1.000000</td>\n",
       "      <td>0.026916</td>\n",
       "      <td>0.158872</td>\n",
       "      <td>-0.333199</td>\n",
       "      <td>0.110581</td>\n",
       "      <td>NaN</td>\n",
       "      <td>0.076055</td>\n",
       "    </tr>\n",
       "    <tr>\n",
       "      <td>RegistrationYear</td>\n",
       "      <td>0.026916</td>\n",
       "      <td>1.000000</td>\n",
       "      <td>-0.000828</td>\n",
       "      <td>-0.053447</td>\n",
       "      <td>-0.011619</td>\n",
       "      <td>NaN</td>\n",
       "      <td>-0.003459</td>\n",
       "    </tr>\n",
       "    <tr>\n",
       "      <td>Power</td>\n",
       "      <td>0.158872</td>\n",
       "      <td>-0.000828</td>\n",
       "      <td>1.000000</td>\n",
       "      <td>0.024002</td>\n",
       "      <td>0.043380</td>\n",
       "      <td>NaN</td>\n",
       "      <td>0.021665</td>\n",
       "    </tr>\n",
       "    <tr>\n",
       "      <td>Kilometer</td>\n",
       "      <td>-0.333199</td>\n",
       "      <td>-0.053447</td>\n",
       "      <td>0.024002</td>\n",
       "      <td>1.000000</td>\n",
       "      <td>0.009571</td>\n",
       "      <td>NaN</td>\n",
       "      <td>-0.007698</td>\n",
       "    </tr>\n",
       "    <tr>\n",
       "      <td>RegistrationMonth</td>\n",
       "      <td>0.110581</td>\n",
       "      <td>-0.011619</td>\n",
       "      <td>0.043380</td>\n",
       "      <td>0.009571</td>\n",
       "      <td>1.000000</td>\n",
       "      <td>NaN</td>\n",
       "      <td>0.013995</td>\n",
       "    </tr>\n",
       "    <tr>\n",
       "      <td>NumberOfPictures</td>\n",
       "      <td>NaN</td>\n",
       "      <td>NaN</td>\n",
       "      <td>NaN</td>\n",
       "      <td>NaN</td>\n",
       "      <td>NaN</td>\n",
       "      <td>NaN</td>\n",
       "      <td>NaN</td>\n",
       "    </tr>\n",
       "    <tr>\n",
       "      <td>PostalCode</td>\n",
       "      <td>0.076055</td>\n",
       "      <td>-0.003459</td>\n",
       "      <td>0.021665</td>\n",
       "      <td>-0.007698</td>\n",
       "      <td>0.013995</td>\n",
       "      <td>NaN</td>\n",
       "      <td>1.000000</td>\n",
       "    </tr>\n",
       "  </tbody>\n",
       "</table>\n",
       "</div>"
      ],
      "text/plain": [
       "                      Price  RegistrationYear     Power  Kilometer  \\\n",
       "Price              1.000000          0.026916  0.158872  -0.333199   \n",
       "RegistrationYear   0.026916          1.000000 -0.000828  -0.053447   \n",
       "Power              0.158872         -0.000828  1.000000   0.024002   \n",
       "Kilometer         -0.333199         -0.053447  0.024002   1.000000   \n",
       "RegistrationMonth  0.110581         -0.011619  0.043380   0.009571   \n",
       "NumberOfPictures        NaN               NaN       NaN        NaN   \n",
       "PostalCode         0.076055         -0.003459  0.021665  -0.007698   \n",
       "\n",
       "                   RegistrationMonth  NumberOfPictures  PostalCode  \n",
       "Price                       0.110581               NaN    0.076055  \n",
       "RegistrationYear           -0.011619               NaN   -0.003459  \n",
       "Power                       0.043380               NaN    0.021665  \n",
       "Kilometer                   0.009571               NaN   -0.007698  \n",
       "RegistrationMonth           1.000000               NaN    0.013995  \n",
       "NumberOfPictures                 NaN               NaN         NaN  \n",
       "PostalCode                  0.013995               NaN    1.000000  "
      ]
     },
     "execution_count": 21,
     "metadata": {},
     "output_type": "execute_result"
    }
   ],
   "source": [
    "autos_original.corr()"
   ]
  },
  {
   "cell_type": "markdown",
   "metadata": {},
   "source": [
    "Таблица корреляции показывает, что в количественных признаках изначального датасета сколько-нибудь ощутимая корреляция отсутствует."
   ]
  },
  {
   "cell_type": "markdown",
   "metadata": {},
   "source": [
    "## Обучение моделей"
   ]
  },
  {
   "cell_type": "markdown",
   "metadata": {},
   "source": [
    "### Кодирование категориальных признаков"
   ]
  },
  {
   "cell_type": "markdown",
   "metadata": {},
   "source": [
    "Поскольку в нашем датасете содержатся категориальные признаки, необходимо выполнить операцию их кодирования для конвертации в числовые значения.\n",
    "\n",
    "Для категориальных признаков, имеющих всего по 3 варианта значения, применим метод прямого кодирования с использованием функции `pd.get_dummies()`\n",
    "\n",
    "С целью избежания попадания в дамми-ловушку, укажем в качестве аргумента к функции `drop_first=True`."
   ]
  },
  {
   "cell_type": "code",
   "execution_count": 22,
   "metadata": {},
   "outputs": [],
   "source": [
    "autos = pd.get_dummies(autos, columns=['Gearbox', 'NotRepaired'],\n",
    "                       drop_first=True)\n",
    "                       # с целью избежания дамми-ловушки удалим первый столбец дамми-признаков"
   ]
  },
  {
   "cell_type": "markdown",
   "metadata": {},
   "source": [
    "Для остальных категориальных признаков воспользуемся методом порядкового кодирования."
   ]
  },
  {
   "cell_type": "code",
   "execution_count": 23,
   "metadata": {},
   "outputs": [
    {
     "data": {
      "text/html": [
       "<div>\n",
       "<style scoped>\n",
       "    .dataframe tbody tr th:only-of-type {\n",
       "        vertical-align: middle;\n",
       "    }\n",
       "\n",
       "    .dataframe tbody tr th {\n",
       "        vertical-align: top;\n",
       "    }\n",
       "\n",
       "    .dataframe thead th {\n",
       "        text-align: right;\n",
       "    }\n",
       "</style>\n",
       "<table border=\"1\" class=\"dataframe\">\n",
       "  <thead>\n",
       "    <tr style=\"text-align: right;\">\n",
       "      <th></th>\n",
       "      <th>VehicleType</th>\n",
       "      <th>Model</th>\n",
       "      <th>FuelType</th>\n",
       "      <th>Brand</th>\n",
       "    </tr>\n",
       "  </thead>\n",
       "  <tbody>\n",
       "    <tr>\n",
       "      <td>1</td>\n",
       "      <td>2.0</td>\n",
       "      <td>226.0</td>\n",
       "      <td>2.0</td>\n",
       "      <td>1.0</td>\n",
       "    </tr>\n",
       "    <tr>\n",
       "      <td>2</td>\n",
       "      <td>6.0</td>\n",
       "      <td>116.0</td>\n",
       "      <td>2.0</td>\n",
       "      <td>14.0</td>\n",
       "    </tr>\n",
       "    <tr>\n",
       "      <td>3</td>\n",
       "      <td>5.0</td>\n",
       "      <td>115.0</td>\n",
       "      <td>6.0</td>\n",
       "      <td>38.0</td>\n",
       "    </tr>\n",
       "    <tr>\n",
       "      <td>4</td>\n",
       "      <td>5.0</td>\n",
       "      <td>100.0</td>\n",
       "      <td>2.0</td>\n",
       "      <td>31.0</td>\n",
       "    </tr>\n",
       "    <tr>\n",
       "      <td>5</td>\n",
       "      <td>4.0</td>\n",
       "      <td>11.0</td>\n",
       "      <td>6.0</td>\n",
       "      <td>2.0</td>\n",
       "    </tr>\n",
       "  </tbody>\n",
       "</table>\n",
       "</div>"
      ],
      "text/plain": [
       "   VehicleType  Model  FuelType  Brand\n",
       "1          2.0  226.0       2.0    1.0\n",
       "2          6.0  116.0       2.0   14.0\n",
       "3          5.0  115.0       6.0   38.0\n",
       "4          5.0  100.0       2.0   31.0\n",
       "5          4.0   11.0       6.0    2.0"
      ]
     },
     "execution_count": 23,
     "metadata": {},
     "output_type": "execute_result"
    }
   ],
   "source": [
    "encoder = OrdinalEncoder()\n",
    "# создадим датафрейм закодированных признаков\n",
    "autos_encoder = pd.DataFrame(encoder.fit_transform(autos[['VehicleType', 'Model',\n",
    "                                                          'FuelType', 'Brand']]),\n",
    "                             columns=['VehicleType', 'Model', 'FuelType', 'Brand']).set_index(autos.index)\n",
    "autos_encoder.head()"
   ]
  },
  {
   "cell_type": "markdown",
   "metadata": {},
   "source": [
    "Заменим значения категориальных признаков в исходном датасете на закодированные значения."
   ]
  },
  {
   "cell_type": "code",
   "execution_count": 24,
   "metadata": {},
   "outputs": [],
   "source": [
    "autos[['VehicleType', 'Model', 'FuelType',\n",
    "       'Brand']] = autos_encoder[['VehicleType', 'Model', 'FuelType', 'Brand']]"
   ]
  },
  {
   "cell_type": "markdown",
   "metadata": {},
   "source": [
    "Разобъем наш датасет на целевой и обучающие признаки."
   ]
  },
  {
   "cell_type": "code",
   "execution_count": 25,
   "metadata": {},
   "outputs": [],
   "source": [
    "target = autos['Price']\n",
    "features = autos.drop('Price', axis=1)"
   ]
  },
  {
   "cell_type": "markdown",
   "metadata": {},
   "source": [
    "### Проверка на мультиколлинеарность"
   ]
  },
  {
   "cell_type": "code",
   "execution_count": 26,
   "metadata": {},
   "outputs": [
    {
     "data": {
      "text/html": [
       "<div>\n",
       "<style scoped>\n",
       "    .dataframe tbody tr th:only-of-type {\n",
       "        vertical-align: middle;\n",
       "    }\n",
       "\n",
       "    .dataframe tbody tr th {\n",
       "        vertical-align: top;\n",
       "    }\n",
       "\n",
       "    .dataframe thead th {\n",
       "        text-align: right;\n",
       "    }\n",
       "</style>\n",
       "<table border=\"1\" class=\"dataframe\">\n",
       "  <thead>\n",
       "    <tr style=\"text-align: right;\">\n",
       "      <th></th>\n",
       "      <th>Price</th>\n",
       "      <th>VehicleType</th>\n",
       "      <th>RegistrationYear</th>\n",
       "      <th>Power</th>\n",
       "      <th>Model</th>\n",
       "      <th>Kilometer</th>\n",
       "      <th>FuelType</th>\n",
       "      <th>Brand</th>\n",
       "      <th>Gearbox_manual</th>\n",
       "      <th>Gearbox_unknown</th>\n",
       "      <th>NotRepaired_unknown</th>\n",
       "      <th>NotRepaired_yes</th>\n",
       "    </tr>\n",
       "  </thead>\n",
       "  <tbody>\n",
       "    <tr>\n",
       "      <td>Price</td>\n",
       "      <td>1.000000</td>\n",
       "      <td>-0.080119</td>\n",
       "      <td>0.459794</td>\n",
       "      <td>0.485463</td>\n",
       "      <td>-0.021833</td>\n",
       "      <td>-0.397556</td>\n",
       "      <td>-0.268924</td>\n",
       "      <td>-0.093553</td>\n",
       "      <td>-0.224926</td>\n",
       "      <td>-0.045751</td>\n",
       "      <td>-0.130499</td>\n",
       "      <td>-0.155337</td>\n",
       "    </tr>\n",
       "    <tr>\n",
       "      <td>VehicleType</td>\n",
       "      <td>-0.080119</td>\n",
       "      <td>1.000000</td>\n",
       "      <td>0.160269</td>\n",
       "      <td>0.003848</td>\n",
       "      <td>-0.128768</td>\n",
       "      <td>0.068305</td>\n",
       "      <td>-0.052495</td>\n",
       "      <td>-0.050675</td>\n",
       "      <td>-0.044133</td>\n",
       "      <td>0.024933</td>\n",
       "      <td>0.067789</td>\n",
       "      <td>0.011687</td>\n",
       "    </tr>\n",
       "    <tr>\n",
       "      <td>RegistrationYear</td>\n",
       "      <td>0.459794</td>\n",
       "      <td>0.160269</td>\n",
       "      <td>1.000000</td>\n",
       "      <td>0.048925</td>\n",
       "      <td>0.001373</td>\n",
       "      <td>-0.323233</td>\n",
       "      <td>-0.180187</td>\n",
       "      <td>0.014526</td>\n",
       "      <td>-0.011911</td>\n",
       "      <td>0.023273</td>\n",
       "      <td>-0.017832</td>\n",
       "      <td>-0.062826</td>\n",
       "    </tr>\n",
       "    <tr>\n",
       "      <td>Power</td>\n",
       "      <td>0.485463</td>\n",
       "      <td>0.003848</td>\n",
       "      <td>0.048925</td>\n",
       "      <td>1.000000</td>\n",
       "      <td>-0.115984</td>\n",
       "      <td>0.123556</td>\n",
       "      <td>-0.171122</td>\n",
       "      <td>-0.313763</td>\n",
       "      <td>-0.412329</td>\n",
       "      <td>-0.040168</td>\n",
       "      <td>-0.041758</td>\n",
       "      <td>-0.007616</td>\n",
       "    </tr>\n",
       "    <tr>\n",
       "      <td>Model</td>\n",
       "      <td>-0.021833</td>\n",
       "      <td>-0.128768</td>\n",
       "      <td>0.001373</td>\n",
       "      <td>-0.115984</td>\n",
       "      <td>1.000000</td>\n",
       "      <td>-0.034166</td>\n",
       "      <td>-0.016194</td>\n",
       "      <td>0.451532</td>\n",
       "      <td>0.030848</td>\n",
       "      <td>0.026029</td>\n",
       "      <td>0.032875</td>\n",
       "      <td>0.006540</td>\n",
       "    </tr>\n",
       "    <tr>\n",
       "      <td>Kilometer</td>\n",
       "      <td>-0.397556</td>\n",
       "      <td>0.068305</td>\n",
       "      <td>-0.323233</td>\n",
       "      <td>0.123556</td>\n",
       "      <td>-0.034166</td>\n",
       "      <td>1.000000</td>\n",
       "      <td>-0.155129</td>\n",
       "      <td>-0.058420</td>\n",
       "      <td>-0.028951</td>\n",
       "      <td>-0.002296</td>\n",
       "      <td>0.072006</td>\n",
       "      <td>0.065375</td>\n",
       "    </tr>\n",
       "    <tr>\n",
       "      <td>FuelType</td>\n",
       "      <td>-0.268924</td>\n",
       "      <td>-0.052495</td>\n",
       "      <td>-0.180187</td>\n",
       "      <td>-0.171122</td>\n",
       "      <td>-0.016194</td>\n",
       "      <td>-0.155129</td>\n",
       "      <td>1.000000</td>\n",
       "      <td>0.021205</td>\n",
       "      <td>0.112487</td>\n",
       "      <td>0.042015</td>\n",
       "      <td>0.062632</td>\n",
       "      <td>0.002059</td>\n",
       "    </tr>\n",
       "    <tr>\n",
       "      <td>Brand</td>\n",
       "      <td>-0.093553</td>\n",
       "      <td>-0.050675</td>\n",
       "      <td>0.014526</td>\n",
       "      <td>-0.313763</td>\n",
       "      <td>0.451532</td>\n",
       "      <td>-0.058420</td>\n",
       "      <td>0.021205</td>\n",
       "      <td>1.000000</td>\n",
       "      <td>0.098196</td>\n",
       "      <td>0.025188</td>\n",
       "      <td>0.012250</td>\n",
       "      <td>-0.012379</td>\n",
       "    </tr>\n",
       "    <tr>\n",
       "      <td>Gearbox_manual</td>\n",
       "      <td>-0.224926</td>\n",
       "      <td>-0.044133</td>\n",
       "      <td>-0.011911</td>\n",
       "      <td>-0.412329</td>\n",
       "      <td>0.030848</td>\n",
       "      <td>-0.028951</td>\n",
       "      <td>0.112487</td>\n",
       "      <td>0.098196</td>\n",
       "      <td>1.000000</td>\n",
       "      <td>-0.240446</td>\n",
       "      <td>-0.009337</td>\n",
       "      <td>0.001330</td>\n",
       "    </tr>\n",
       "    <tr>\n",
       "      <td>Gearbox_unknown</td>\n",
       "      <td>-0.045751</td>\n",
       "      <td>0.024933</td>\n",
       "      <td>0.023273</td>\n",
       "      <td>-0.040168</td>\n",
       "      <td>0.026029</td>\n",
       "      <td>-0.002296</td>\n",
       "      <td>0.042015</td>\n",
       "      <td>0.025188</td>\n",
       "      <td>-0.240446</td>\n",
       "      <td>1.000000</td>\n",
       "      <td>0.116983</td>\n",
       "      <td>-0.002033</td>\n",
       "    </tr>\n",
       "    <tr>\n",
       "      <td>NotRepaired_unknown</td>\n",
       "      <td>-0.130499</td>\n",
       "      <td>0.067789</td>\n",
       "      <td>-0.017832</td>\n",
       "      <td>-0.041758</td>\n",
       "      <td>0.032875</td>\n",
       "      <td>0.072006</td>\n",
       "      <td>0.062632</td>\n",
       "      <td>0.012250</td>\n",
       "      <td>-0.009337</td>\n",
       "      <td>0.116983</td>\n",
       "      <td>1.000000</td>\n",
       "      <td>-0.116029</td>\n",
       "    </tr>\n",
       "    <tr>\n",
       "      <td>NotRepaired_yes</td>\n",
       "      <td>-0.155337</td>\n",
       "      <td>0.011687</td>\n",
       "      <td>-0.062826</td>\n",
       "      <td>-0.007616</td>\n",
       "      <td>0.006540</td>\n",
       "      <td>0.065375</td>\n",
       "      <td>0.002059</td>\n",
       "      <td>-0.012379</td>\n",
       "      <td>0.001330</td>\n",
       "      <td>-0.002033</td>\n",
       "      <td>-0.116029</td>\n",
       "      <td>1.000000</td>\n",
       "    </tr>\n",
       "  </tbody>\n",
       "</table>\n",
       "</div>"
      ],
      "text/plain": [
       "                        Price  VehicleType  RegistrationYear     Power  \\\n",
       "Price                1.000000    -0.080119          0.459794  0.485463   \n",
       "VehicleType         -0.080119     1.000000          0.160269  0.003848   \n",
       "RegistrationYear     0.459794     0.160269          1.000000  0.048925   \n",
       "Power                0.485463     0.003848          0.048925  1.000000   \n",
       "Model               -0.021833    -0.128768          0.001373 -0.115984   \n",
       "Kilometer           -0.397556     0.068305         -0.323233  0.123556   \n",
       "FuelType            -0.268924    -0.052495         -0.180187 -0.171122   \n",
       "Brand               -0.093553    -0.050675          0.014526 -0.313763   \n",
       "Gearbox_manual      -0.224926    -0.044133         -0.011911 -0.412329   \n",
       "Gearbox_unknown     -0.045751     0.024933          0.023273 -0.040168   \n",
       "NotRepaired_unknown -0.130499     0.067789         -0.017832 -0.041758   \n",
       "NotRepaired_yes     -0.155337     0.011687         -0.062826 -0.007616   \n",
       "\n",
       "                        Model  Kilometer  FuelType     Brand  Gearbox_manual  \\\n",
       "Price               -0.021833  -0.397556 -0.268924 -0.093553       -0.224926   \n",
       "VehicleType         -0.128768   0.068305 -0.052495 -0.050675       -0.044133   \n",
       "RegistrationYear     0.001373  -0.323233 -0.180187  0.014526       -0.011911   \n",
       "Power               -0.115984   0.123556 -0.171122 -0.313763       -0.412329   \n",
       "Model                1.000000  -0.034166 -0.016194  0.451532        0.030848   \n",
       "Kilometer           -0.034166   1.000000 -0.155129 -0.058420       -0.028951   \n",
       "FuelType            -0.016194  -0.155129  1.000000  0.021205        0.112487   \n",
       "Brand                0.451532  -0.058420  0.021205  1.000000        0.098196   \n",
       "Gearbox_manual       0.030848  -0.028951  0.112487  0.098196        1.000000   \n",
       "Gearbox_unknown      0.026029  -0.002296  0.042015  0.025188       -0.240446   \n",
       "NotRepaired_unknown  0.032875   0.072006  0.062632  0.012250       -0.009337   \n",
       "NotRepaired_yes      0.006540   0.065375  0.002059 -0.012379        0.001330   \n",
       "\n",
       "                     Gearbox_unknown  NotRepaired_unknown  NotRepaired_yes  \n",
       "Price                      -0.045751            -0.130499        -0.155337  \n",
       "VehicleType                 0.024933             0.067789         0.011687  \n",
       "RegistrationYear            0.023273            -0.017832        -0.062826  \n",
       "Power                      -0.040168            -0.041758        -0.007616  \n",
       "Model                       0.026029             0.032875         0.006540  \n",
       "Kilometer                  -0.002296             0.072006         0.065375  \n",
       "FuelType                    0.042015             0.062632         0.002059  \n",
       "Brand                       0.025188             0.012250        -0.012379  \n",
       "Gearbox_manual             -0.240446            -0.009337         0.001330  \n",
       "Gearbox_unknown             1.000000             0.116983        -0.002033  \n",
       "NotRepaired_unknown         0.116983             1.000000        -0.116029  \n",
       "NotRepaired_yes            -0.002033            -0.116029         1.000000  "
      ]
     },
     "execution_count": 26,
     "metadata": {},
     "output_type": "execute_result"
    }
   ],
   "source": [
    "autos.corr()"
   ]
  },
  {
   "cell_type": "markdown",
   "metadata": {},
   "source": [
    "Мультиколлинеарность не обнаружена."
   ]
  },
  {
   "cell_type": "markdown",
   "metadata": {},
   "source": [
    "### Подготовка данных к обучению моделей"
   ]
  },
  {
   "cell_type": "markdown",
   "metadata": {},
   "source": [
    "Выделим обучающую и тестовую выборки."
   ]
  },
  {
   "cell_type": "code",
   "execution_count": 27,
   "metadata": {},
   "outputs": [],
   "source": [
    "target_train, target_test, features_train, features_test = train_test_split(target, features,\n",
    "                                                                           test_size=.25,\n",
    "                                                                           random_state=rs)"
   ]
  },
  {
   "cell_type": "code",
   "execution_count": 28,
   "metadata": {},
   "outputs": [
    {
     "name": "stdout",
     "output_type": "stream",
     "text": [
      "(207510,)\n",
      "(69171,)\n",
      "(207510, 11)\n",
      "(69171, 11)\n"
     ]
    }
   ],
   "source": [
    "# проверим размерности полученных выборок\n",
    "print(target_train.shape)\n",
    "print(target_test.shape)\n",
    "print(features_train.shape)\n",
    "print(features_test.shape)"
   ]
  },
  {
   "cell_type": "markdown",
   "metadata": {},
   "source": [
    "### Нормализация признаков"
   ]
  },
  {
   "cell_type": "markdown",
   "metadata": {},
   "source": [
    "Выполним нормализацию признаков `features_train` (всех признаков обучающей выборки, за исключением целевого признака `target`)."
   ]
  },
  {
   "cell_type": "code",
   "execution_count": 29,
   "metadata": {},
   "outputs": [],
   "source": [
    "scaler = StandardScaler()\n",
    "scaler.fit(features_train)\n",
    "features_train = pd.DataFrame(scaler.transform(features_train), columns = features_train.columns)\n",
    "features_test = scaler.transform(features_test)"
   ]
  },
  {
   "cell_type": "markdown",
   "metadata": {},
   "source": [
    "### Проверка результатов базовых моделей кросс-валидацией"
   ]
  },
  {
   "cell_type": "markdown",
   "metadata": {},
   "source": [
    "Вычислим значение метрики RMSE для 3 базовых моделей регрессии пр кросс-валидации на 5 блоках."
   ]
  },
  {
   "cell_type": "code",
   "execution_count": 30,
   "metadata": {},
   "outputs": [],
   "source": [
    "# создадим scorer на основе функции вычисления метрики RMSE\n",
    "rmse = make_scorer(rmse_score, greater_is_better=False)"
   ]
  },
  {
   "cell_type": "raw",
   "metadata": {},
   "source": [
    "linear = LinearRegression()\n",
    "linear_score = cross_val_score(linear, features, target, cv=5, scoring=rmse).mean()\n",
    "linear_score"
   ]
  },
  {
   "cell_type": "raw",
   "metadata": {},
   "source": [
    "tree = DecisionTreeRegressor()\n",
    "tree_score = cross_val_score(tree, features, target, cv=5, scoring=rmse).mean()\n",
    "tree_score"
   ]
  },
  {
   "cell_type": "raw",
   "metadata": {},
   "source": [
    "forest = RandomForestRegressor(n_estimators=100)\n",
    "forest_score = cross_val_score(forest, features, target, cv=5, scoring=rmse).mean()\n",
    "forest_score"
   ]
  },
  {
   "cell_type": "markdown",
   "metadata": {},
   "source": [
    "Вычислим значение целевой метрики `RMSE` для модели **ElasticNetCV** с регуляризацией и кросс-валидацией на 5 блоках."
   ]
  },
  {
   "cell_type": "code",
   "execution_count": 31,
   "metadata": {},
   "outputs": [
    {
     "data": {
      "text/plain": [
       "2875.704992480201"
      ]
     },
     "execution_count": 31,
     "metadata": {},
     "output_type": "execute_result"
    }
   ],
   "source": [
    "model_elastic = ElasticNetCV(l1_ratio=[.1, .5, .7, .9, .95, .99, 1], alphas = [.1, 1, 10],\n",
    "                             eps=0.001, n_alphas=100, max_iter=10000, tol=0.0001, cv=5)\n",
    "model_elastic.fit(features_train, target_train)\n",
    "predictions_elastic = model_elastic.predict(features_test)\n",
    "rmse_score(target_test, predictions_elastic)"
   ]
  },
  {
   "cell_type": "markdown",
   "metadata": {},
   "source": [
    "Как мы видим,  результат кросс-валидации по линейной регрессии *незначительно* отличаетися от результата линейной регрессии с регуляризацией и линейной регрессии, обученной на признаках с исключенным почтовым кодом: 2881, 2874 и 2883 соответственно."
   ]
  },
  {
   "cell_type": "markdown",
   "metadata": {},
   "source": [
    "### Подбор гиперпараметров и обучение моделей"
   ]
  },
  {
   "cell_type": "markdown",
   "metadata": {},
   "source": [
    "#### Дерево решений"
   ]
  },
  {
   "cell_type": "code",
   "execution_count": 33,
   "metadata": {},
   "outputs": [
    {
     "name": "stdout",
     "output_type": "stream",
     "text": [
      "Лучшая максимальная глубина: 15\n",
      "Значение метрики RMSE: -1893.9282898820118\n",
      "CPU times: user 27.2 s, sys: 0 ns, total: 27.2 s\n",
      "Wall time: 27.8 s\n"
     ]
    }
   ],
   "source": [
    "%%time \n",
    "best_score = 5000\n",
    "best_depth = 0\n",
    "for depth in range(1, 16):\n",
    "    tree_model = DecisionTreeRegressor(max_depth=depth, random_state=rs)\n",
    "    tree_model_score = cross_val_score(tree_model, features_train, target_train,\n",
    "                                     cv=5, scoring=rmse)\n",
    "    if np.abs(tree_model_score.mean()) < np.abs(best_score):\n",
    "        best_score_t = tree_model_score.mean()\n",
    "        best_depth_t = depth\n",
    "        best_tree_model = tree_model\n",
    "\n",
    "print('Лучшая максимальная глубина:', best_depth_t)\n",
    "print('Значение метрики RMSE:', best_score_t)"
   ]
  },
  {
   "cell_type": "code",
   "execution_count": 34,
   "metadata": {},
   "outputs": [
    {
     "name": "stdout",
     "output_type": "stream",
     "text": [
      "Время обучения: 0 секунд.\n",
      "Время предсказаний: 0 секунд.\n",
      "Значение метрики RMSE: 1873.5659046991725\n"
     ]
    }
   ],
   "source": [
    "fit_time = datetime.datetime.now()\n",
    "model_tree = DecisionTreeRegressor(max_depth=best_depth_t, random_state=rs)\n",
    "model_tree.fit(features_train, target_train)\n",
    "time_of_fit_tree = (datetime.datetime.now()-fit_time).seconds\n",
    "predict_time = datetime.datetime.now()\n",
    "predictions_tree = model_tree.predict(features_test)\n",
    "time_of_predict_tree = (datetime.datetime.now()-predict_time).seconds\n",
    "tree_rmse = rmse_score(target_test, predictions_tree)\n",
    "\n",
    "print('Время обучения:', time_of_fit_tree, 'секунд.')\n",
    "print('Время предсказаний:', time_of_predict_tree, 'секунд.')\n",
    "print('Значение метрики RMSE:', tree_rmse)"
   ]
  },
  {
   "cell_type": "code",
   "execution_count": 35,
   "metadata": {},
   "outputs": [
    {
     "data": {
      "text/html": [
       "<div>\n",
       "<style scoped>\n",
       "    .dataframe tbody tr th:only-of-type {\n",
       "        vertical-align: middle;\n",
       "    }\n",
       "\n",
       "    .dataframe tbody tr th {\n",
       "        vertical-align: top;\n",
       "    }\n",
       "\n",
       "    .dataframe thead th {\n",
       "        text-align: right;\n",
       "    }\n",
       "</style>\n",
       "<table border=\"1\" class=\"dataframe\">\n",
       "  <thead>\n",
       "    <tr style=\"text-align: right;\">\n",
       "      <th></th>\n",
       "      <th>0</th>\n",
       "    </tr>\n",
       "  </thead>\n",
       "  <tbody>\n",
       "    <tr>\n",
       "      <td>VehicleType</td>\n",
       "      <td>0.029056</td>\n",
       "    </tr>\n",
       "    <tr>\n",
       "      <td>RegistrationYear</td>\n",
       "      <td>0.494564</td>\n",
       "    </tr>\n",
       "    <tr>\n",
       "      <td>Power</td>\n",
       "      <td>0.301324</td>\n",
       "    </tr>\n",
       "    <tr>\n",
       "      <td>Model</td>\n",
       "      <td>0.027072</td>\n",
       "    </tr>\n",
       "    <tr>\n",
       "      <td>Kilometer</td>\n",
       "      <td>0.089906</td>\n",
       "    </tr>\n",
       "    <tr>\n",
       "      <td>FuelType</td>\n",
       "      <td>0.007268</td>\n",
       "    </tr>\n",
       "    <tr>\n",
       "      <td>Brand</td>\n",
       "      <td>0.034382</td>\n",
       "    </tr>\n",
       "    <tr>\n",
       "      <td>Gearbox_manual</td>\n",
       "      <td>0.003461</td>\n",
       "    </tr>\n",
       "    <tr>\n",
       "      <td>Gearbox_unknown</td>\n",
       "      <td>0.000618</td>\n",
       "    </tr>\n",
       "    <tr>\n",
       "      <td>NotRepaired_unknown</td>\n",
       "      <td>0.002012</td>\n",
       "    </tr>\n",
       "    <tr>\n",
       "      <td>NotRepaired_yes</td>\n",
       "      <td>0.010337</td>\n",
       "    </tr>\n",
       "  </tbody>\n",
       "</table>\n",
       "</div>"
      ],
      "text/plain": [
       "                            0\n",
       "VehicleType          0.029056\n",
       "RegistrationYear     0.494564\n",
       "Power                0.301324\n",
       "Model                0.027072\n",
       "Kilometer            0.089906\n",
       "FuelType             0.007268\n",
       "Brand                0.034382\n",
       "Gearbox_manual       0.003461\n",
       "Gearbox_unknown      0.000618\n",
       "NotRepaired_unknown  0.002012\n",
       "NotRepaired_yes      0.010337"
      ]
     },
     "execution_count": 35,
     "metadata": {},
     "output_type": "execute_result"
    }
   ],
   "source": [
    "features_importance = model_tree.feature_importances_\n",
    "imp = pd.DataFrame(data = features_importance, index = features_train.columns)\n",
    "imp"
   ]
  },
  {
   "cell_type": "markdown",
   "metadata": {},
   "source": [
    "Как можем наблюдать, самое сильное влияние при обучении модели имеет признак \"**Год регистрации**\" (почти половина от общего влияния на стоимость). На втором месте - мощность двигателя. \n",
    "Меньше всего на стоимость влияют тип топлива и тип коробки переключения передач."
   ]
  },
  {
   "cell_type": "markdown",
   "metadata": {},
   "source": [
    "#### Случайный лес"
   ]
  },
  {
   "cell_type": "code",
   "execution_count": 36,
   "metadata": {},
   "outputs": [
    {
     "name": "stdout",
     "output_type": "stream",
     "text": [
      "Наиболее удачное количество наблюдателей: 100\n",
      "Лучшая максимальная глубина: 15\n",
      "Значение метрики RMSE: -1643.2701830190115\n",
      "CPU times: user 19min 8s, sys: 1.43 s, total: 19min 10s\n",
      "Wall time: 19min 19s\n"
     ]
    }
   ],
   "source": [
    "%%time \n",
    "# 20 минут\n",
    "best_score = 5000\n",
    "best_est = 0\n",
    "best_depth = 0\n",
    "for est in range(90, 110, 10):\n",
    "    # мы уже определили, что наилучшее количество наблюдателей находится в окрестностях 100,\n",
    "    # а лучшая глубина дерева - 15. Поэтому сократим диапазон значений для полдбора с целью\n",
    "    # уменьшить время выполнения ячейки\n",
    "    for depth in range(13, 16):\n",
    "        forest_model = RandomForestRegressor(max_depth=depth, n_estimators=est, random_state=rs)\n",
    "        forest_model_score = cross_val_score(forest_model, features_train, target_train,\n",
    "                                           cv=5, scoring=rmse)\n",
    "        if np.abs(forest_model_score.mean()) < np.abs(best_score):\n",
    "            best_score_f = forest_model_score.mean()\n",
    "            best_depth_f = depth\n",
    "            best_est_f = est\n",
    "\n",
    "print('Наиболее удачное количество наблюдателей:', best_est_f)\n",
    "print('Лучшая максимальная глубина:', best_depth_f)\n",
    "print('Значение метрики RMSE:', best_score_f)"
   ]
  },
  {
   "cell_type": "code",
   "execution_count": 37,
   "metadata": {},
   "outputs": [
    {
     "name": "stdout",
     "output_type": "stream",
     "text": [
      "Время обучения: 56 секунд.\n",
      "Время предсказаний: 1 секунд.\n",
      "Значение метрики RMSE: 1644.7604839501828\n"
     ]
    }
   ],
   "source": [
    "fit_time = datetime.datetime.now()\n",
    "model_forest = RandomForestRegressor(n_estimators=best_est_f, max_depth=best_depth_f, random_state=rs)\n",
    "model_forest.fit(features_train, target_train)\n",
    "time_of_fit_forest = (datetime.datetime.now()-fit_time).seconds\n",
    "predict_time = datetime.datetime.now()\n",
    "predictions_forest = model_forest.predict(features_test)\n",
    "time_of_predict_forest = (datetime.datetime.now()-predict_time).seconds\n",
    "forest_rmse = rmse_score(target_test, predictions_forest)\n",
    "\n",
    "print('Время обучения:', time_of_fit_forest, 'секунд.')\n",
    "print('Время предсказаний:', time_of_predict_forest, 'секунд.')\n",
    "print('Значение метрики RMSE:', forest_rmse)"
   ]
  },
  {
   "cell_type": "markdown",
   "metadata": {},
   "source": [
    "#### Линейная регрессия"
   ]
  },
  {
   "cell_type": "code",
   "execution_count": 38,
   "metadata": {},
   "outputs": [
    {
     "name": "stdout",
     "output_type": "stream",
     "text": [
      "Время обучения: 0 секунд.\n",
      "Время предсказаний: 0 секунд.\n",
      "Значение метрики RMSE: 2875.7049486922588\n"
     ]
    }
   ],
   "source": [
    "fit_time = datetime.datetime.now()\n",
    "model_linear = LinearRegression()\n",
    "model_linear.fit(features_train, target_train)\n",
    "time_of_fit_linear = (datetime.datetime.now()-fit_time).seconds\n",
    "predict_time = datetime.datetime.now()\n",
    "predictions_linear = model_linear.predict(features_test)\n",
    "time_of_predict_linear = (datetime.datetime.now()-predict_time).seconds\n",
    "linear_rmse = rmse_score(target_test, predictions_linear)\n",
    "\n",
    "print('Время обучения:', time_of_fit_linear, 'секунд.')\n",
    "print('Время предсказаний:', time_of_predict_linear, 'секунд.')\n",
    "print('Значение метрики RMSE:', linear_rmse)"
   ]
  },
  {
   "cell_type": "markdown",
   "metadata": {},
   "source": [
    "#### Градиентный бустинг LightGBM"
   ]
  },
  {
   "cell_type": "code",
   "execution_count": 39,
   "metadata": {},
   "outputs": [
    {
     "data": {
      "text/plain": [
       "Index(['VehicleType', 'RegistrationYear', 'Power', 'Model', 'Kilometer',\n",
       "       'FuelType', 'Brand', 'Gearbox_manual', 'Gearbox_unknown',\n",
       "       'NotRepaired_unknown', 'NotRepaired_yes'],\n",
       "      dtype='object')"
      ]
     },
     "execution_count": 39,
     "metadata": {},
     "output_type": "execute_result"
    }
   ],
   "source": [
    "features_train.columns"
   ]
  },
  {
   "cell_type": "code",
   "execution_count": 42,
   "metadata": {},
   "outputs": [],
   "source": [
    "categorial = ['VehicleType', 'RegistrationYear', 'Model', 'FuelType', 'Brand',\n",
    "              'Gearbox_manual', 'Gearbox_unknown', 'NotRepaired_unknown', 'NotRepaired_yes']\n",
    "\n",
    "features_train[categorial] = features_train[categorial].astype('category')\n",
    "features_test = pd.DataFrame(features_test, columns = features_train.columns)\n",
    "features_test[categorial] = features_test[categorial].astype('category')"
   ]
  },
  {
   "cell_type": "code",
   "execution_count": 43,
   "metadata": {},
   "outputs": [
    {
     "name": "stdout",
     "output_type": "stream",
     "text": [
      "<class 'pandas.core.frame.DataFrame'>\n",
      "RangeIndex: 207510 entries, 0 to 207509\n",
      "Data columns (total 11 columns):\n",
      "VehicleType            207510 non-null category\n",
      "RegistrationYear       207510 non-null category\n",
      "Power                  207510 non-null float64\n",
      "Model                  207510 non-null category\n",
      "Kilometer              207510 non-null float64\n",
      "FuelType               207510 non-null category\n",
      "Brand                  207510 non-null category\n",
      "Gearbox_manual         207510 non-null category\n",
      "Gearbox_unknown        207510 non-null category\n",
      "NotRepaired_unknown    207510 non-null category\n",
      "NotRepaired_yes        207510 non-null category\n",
      "dtypes: category(9), float64(2)\n",
      "memory usage: 5.2 MB\n"
     ]
    }
   ],
   "source": [
    "# проверим измененные типы данных признаков\n",
    "features_train.info()"
   ]
  },
  {
   "cell_type": "code",
   "execution_count": 44,
   "metadata": {},
   "outputs": [
    {
     "name": "stdout",
     "output_type": "stream",
     "text": [
      "Наиболее удачное количество наблюдателей: 90\n",
      "Лучшая максимальная глубина: 14\n",
      "Значение метрики RMSE: -1631.2993478252067\n",
      "CPU times: user 2min 32s, sys: 647 ms, total: 2min 32s\n",
      "Wall time: 2min 34s\n"
     ]
    }
   ],
   "source": [
    "%%time \n",
    "# 13 минут\n",
    "best_score = 5000\n",
    "best_est = 0\n",
    "best_depth = 0\n",
    "for est in range(80,100, 10):\n",
    "    for depth in range(13, 15):\n",
    "        light_model = LGBMRegressor(max_depth=depth, n_estimators=est, random_state=rs)\n",
    "        light_model_score = cross_val_score(light_model, features_train, target_train,\n",
    "                                           cv=5, scoring=rmse)\n",
    "        if np.abs(light_model_score.mean()) < np.abs(best_score):\n",
    "            best_score_l = light_model_score.mean()\n",
    "            best_depth_l = depth\n",
    "            best_est_l = est\n",
    "\n",
    "print('Наиболее удачное количество наблюдателей:', best_est_l)\n",
    "print('Лучшая максимальная глубина:', best_depth_l)\n",
    "print('Значение метрики RMSE:', best_score_l)"
   ]
  },
  {
   "cell_type": "code",
   "execution_count": 45,
   "metadata": {},
   "outputs": [
    {
     "name": "stdout",
     "output_type": "stream",
     "text": [
      "Время обучения: 7 секунд.\n",
      "Время предсказаний: 0 секунд.\n",
      "Значение метрики RMSE: 1627.4907063777669\n"
     ]
    }
   ],
   "source": [
    "fit_time = datetime.datetime.now()\n",
    "model_light = LGBMRegressor(n_estimators=best_est_l, max_depth=best_depth_l, random_state=rs)\n",
    "model_light.fit(features_train, target_train)\n",
    "time_of_fit_light = (datetime.datetime.now()-fit_time).seconds\n",
    "predict_time = datetime.datetime.now()\n",
    "predictions_light = model_light.predict(features_test)\n",
    "time_of_predict_light = (datetime.datetime.now()-predict_time).seconds\n",
    "light_rmse = rmse_score(target_test, predictions_light)\n",
    "\n",
    "print('Время обучения:', time_of_fit_light, 'секунд.')\n",
    "print('Время предсказаний:', time_of_predict_light, 'секунд.')\n",
    "print('Значение метрики RMSE:', light_rmse)"
   ]
  },
  {
   "cell_type": "markdown",
   "metadata": {},
   "source": [
    "### Анализ влияния признаков на RMSE"
   ]
  },
  {
   "cell_type": "code",
   "execution_count": 46,
   "metadata": {},
   "outputs": [
    {
     "name": "stdout",
     "output_type": "stream",
     "text": [
      "Без признака VehicleType RMSE линейной модели равна 2913.3094630067985\n",
      "Без признака RegistrationYear RMSE линейной модели равна 3112.6581780029096\n",
      "Без признака Power RMSE линейной модели равна 3422.2933282838635\n",
      "Без признака Model RMSE линейной модели равна 2875.8360801235403\n",
      "Без признака Kilometer RMSE линейной модели равна 3258.304759006343\n",
      "Без признака FuelType RMSE линейной модели равна 2989.622006552396\n",
      "Без признака Brand RMSE линейной модели равна 2879.3512250403282\n",
      "Без признака Gearbox_manual RMSE линейной модели равна 2877.7127806296535\n",
      "Без признака Gearbox_unknown RMSE линейной модели равна 2877.3727803663546\n",
      "Без признака NotRepaired_unknown RMSE линейной модели равна 2892.998488425017\n",
      "Без признака NotRepaired_yes RMSE линейной модели равна 2924.3904139707774\n",
      "Со всеми признаками RMSE линейной модели равна 2875.7049486922588\n"
     ]
    }
   ],
   "source": [
    "for attribute in features_train.columns:\n",
    "    model = LinearRegression()\n",
    "    model.fit(features_train.drop(attribute, axis=1), target_train)\n",
    "    predictions = model.predict(features_test.drop(attribute, axis=1))\n",
    "    result = rmse_score(target_test, predictions)\n",
    "    print('Без признака', attribute, 'RMSE линейной модели равна', result)\n",
    "print('Со всеми признаками RMSE линейной модели равна', linear_rmse)"
   ]
  },
  {
   "cell_type": "markdown",
   "metadata": {},
   "source": [
    "## Анализ моделей"
   ]
  },
  {
   "cell_type": "markdown",
   "metadata": {},
   "source": [
    "Сведем все полученные результаты в таблицу."
   ]
  },
  {
   "cell_type": "code",
   "execution_count": 47,
   "metadata": {},
   "outputs": [
    {
     "data": {
      "text/html": [
       "<div>\n",
       "<style scoped>\n",
       "    .dataframe tbody tr th:only-of-type {\n",
       "        vertical-align: middle;\n",
       "    }\n",
       "\n",
       "    .dataframe tbody tr th {\n",
       "        vertical-align: top;\n",
       "    }\n",
       "\n",
       "    .dataframe thead th {\n",
       "        text-align: right;\n",
       "    }\n",
       "</style>\n",
       "<table border=\"1\" class=\"dataframe\">\n",
       "  <thead>\n",
       "    <tr style=\"text-align: right;\">\n",
       "      <th></th>\n",
       "      <th>Model</th>\n",
       "      <th>RMSE</th>\n",
       "      <th>Fit Time</th>\n",
       "      <th>Predict Time</th>\n",
       "      <th>Parameters Selection Time</th>\n",
       "    </tr>\n",
       "  </thead>\n",
       "  <tbody>\n",
       "    <tr>\n",
       "      <td>0</td>\n",
       "      <td>Linear Regression</td>\n",
       "      <td>2875.704949</td>\n",
       "      <td>0</td>\n",
       "      <td>0</td>\n",
       "      <td>0</td>\n",
       "    </tr>\n",
       "    <tr>\n",
       "      <td>1</td>\n",
       "      <td>Decision Tree</td>\n",
       "      <td>1873.565905</td>\n",
       "      <td>0</td>\n",
       "      <td>0</td>\n",
       "      <td>30</td>\n",
       "    </tr>\n",
       "    <tr>\n",
       "      <td>2</td>\n",
       "      <td>Random Forest</td>\n",
       "      <td>1644.760484</td>\n",
       "      <td>56</td>\n",
       "      <td>1</td>\n",
       "      <td>5040</td>\n",
       "    </tr>\n",
       "    <tr>\n",
       "      <td>3</td>\n",
       "      <td>LightGBM</td>\n",
       "      <td>1627.490706</td>\n",
       "      <td>7</td>\n",
       "      <td>0</td>\n",
       "      <td>1800</td>\n",
       "    </tr>\n",
       "  </tbody>\n",
       "</table>\n",
       "</div>"
      ],
      "text/plain": [
       "               Model         RMSE  Fit Time  Predict Time  \\\n",
       "0  Linear Regression  2875.704949         0             0   \n",
       "1      Decision Tree  1873.565905         0             0   \n",
       "2      Random Forest  1644.760484        56             1   \n",
       "3           LightGBM  1627.490706         7             0   \n",
       "\n",
       "   Parameters Selection Time  \n",
       "0                          0  \n",
       "1                         30  \n",
       "2                       5040  \n",
       "3                       1800  "
      ]
     },
     "execution_count": 47,
     "metadata": {},
     "output_type": "execute_result"
    }
   ],
   "source": [
    "data = {'Model':['Linear Regression', 'Decision Tree', 'Random Forest', 'LightGBM'],\n",
    "       'RMSE':[linear_rmse, tree_rmse, forest_rmse, light_rmse],\n",
    "       'Fit Time':[time_of_fit_linear, time_of_fit_tree, time_of_fit_forest,\n",
    "                       time_of_fit_light],\n",
    "       'Predict Time':[time_of_predict_linear, time_of_predict_tree, time_of_predict_forest,\n",
    "                       time_of_predict_light],\n",
    "       'Parameters Selection Time':[0, 30, 5040, 1800]}\n",
    "\n",
    "result_table = pd.DataFrame(data)\n",
    "result_table"
   ]
  },
  {
   "cell_type": "markdown",
   "metadata": {},
   "source": [
    "Модель грандиентного бустинга `LightGBM` является ансамблевой моделью, сходной по механизму действия со случайным лесом.\n",
    "Можем сделать вывод, что `Random Forest` дает более точные предсказания, однако значительно долдьше обучается и подбор параметров занимает больше времени: примерно в 8 раз и в 4 раза соответственно."
   ]
  },
  {
   "cell_type": "markdown",
   "metadata": {},
   "source": [
    "При разбросе целевого признака от 500 до 20000 и медиане 5226 получили величину средней квадратической ошибки, равную 1648 для случайного леса и 1716 для модели LightGBM."
   ]
  }
 ],
 "metadata": {
  "kernelspec": {
   "display_name": "Python 3",
   "language": "python",
   "name": "python3"
  },
  "language_info": {
   "codemirror_mode": {
    "name": "ipython",
    "version": 3
   },
   "file_extension": ".py",
   "mimetype": "text/x-python",
   "name": "python",
   "nbconvert_exporter": "python",
   "pygments_lexer": "ipython3",
   "version": "3.7.8"
  },
  "toc": {
   "base_numbering": 1,
   "nav_menu": {},
   "number_sections": true,
   "sideBar": true,
   "skip_h1_title": true,
   "title_cell": "Table of Contents",
   "title_sidebar": "Contents",
   "toc_cell": false,
   "toc_position": {},
   "toc_section_display": true,
   "toc_window_display": false
  }
 },
 "nbformat": 4,
 "nbformat_minor": 2
}
