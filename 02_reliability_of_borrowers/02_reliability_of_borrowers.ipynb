{
 "cells": [
  {
   "cell_type": "markdown",
   "metadata": {},
   "source": [
    "<div style=\"border:solid purple 2px; padding: 20px\">\n",
    "\n",
    "Привет Дмитрий! 👋 Поздравляю с первым выполненным проектом 🙂\n",
    "    \n",
    "Меня зовут Рустам Муртазин, и я буду делать ревью проектной работы по предобработке данных. Давай будем общаться на **«ты»**. Если это неприемлемо, обязательно напиши мне в комментариях — мы перейдем на **«вы»**.\n",
    "\n",
    "Ты проделал большую работу над проектом, однако в любом деле всегда можно можно что-то улучшить. Моя основная цель — не показать, что где-то совершены какие-либо ошибки, а поделиться своим опытом, который поможет тебе в дальнейших работах. Далее в файле ты сможешь увидеть мои комментарии, постарайся учесть их при выполнении следующих заданий.    \n",
    "\n",
    "Обрати внимание в первую очередь на те, что помечаны <span style=\"color:red\">красным цветом</span>. После их доработки проект будет принят. <span style=\"color:green\">Зеленым цветом</span> отмечены удачные и элегантные решения, на которые можно опираться в будущих проектах. <span style=\"color:orange\">Оранжевым цветом</span> выделено то, что в следующий раз можно сделать по-другому. Ты можешь учесть эти комментарии при выполнении будущих заданий или доработать проект сейчас (однако это не обязательно).\n",
    "\n",
    "Давай работать над проектом в диалоге: если ты **что-то меняешь** в проекте по моим рекомендациям — **пиши об этом**. Выбери для своих комментариев какой-то заметный цвет, так мне будет легче отследить изменения. Пожалуйста, **не перемещай, не изменяй и не удаляй мои комментарии**. Всё это поможет выполнить повторную проверку твоего проекта оперативнее».\n",
    "\n",
    "У тебя получилась отличная работа, особенно для первого проекта. Ты показываешь прекрасное владение изучаемым материалом: уверенно пользуешься pandas, умеешь подготавливать, очищать, обогощать данные.  На протяжении всей работы чувствуется глубина проработки задачи и это безусловный плюс для нас.\n",
    "\n",
    "Как ни старался, критичных проблем я не нашел, ты точно готов идти дальше. Успехов в дальнейшем порхождении курса! 😊\n",
    "\n",
    "<div>"
   ]
  },
  {
   "cell_type": "markdown",
   "metadata": {},
   "source": [
    "## Исследование надёжности заёмщиков\n",
    "\n",
    "Заказчик — кредитный отдел банка. Нужно разобраться, влияет ли семейное положение и количество детей клиента на факт погашения кредита в срок. Входные данные от банка — статистика о платёжеспособности клиентов.\n",
    "\n",
    "Результаты исследования будут учтены при построении модели **кредитного скоринга** — специальной системы, которая оценивает способность потенциального заёмщика вернуть кредит банку."
   ]
  },
  {
   "cell_type": "markdown",
   "metadata": {},
   "source": [
    "<div class=\"alert alert-warning\">\n",
    "<h2> Комментарий ревьюера </h2>\n",
    "\n",
    "Перед началом основного блока исследования полезно описать данные, с которыми работаешь, какие шаги планируешь выполнить, четко сформулировать цель работы. Здесь также можно добавить кликабельное [оглавление](https://fooobar.com/questions/49721/markdown-to-create-pages-and-table-of-contents) 🙃\n",
    "\n",
    "</div>"
   ]
  },
  {
   "cell_type": "markdown",
   "metadata": {},
   "source": [
    "### Шаг 1. Откройте файл с данными и изучите общую информацию. "
   ]
  },
  {
   "cell_type": "markdown",
   "metadata": {},
   "source": [
    "Импортируем библиотеку pandas и открываем таблицу с данными, выводим на экран первые 5 строк таблицы:"
   ]
  },
  {
   "cell_type": "code",
   "execution_count": 1,
   "metadata": {
    "scrolled": true
   },
   "outputs": [
    {
     "data": {
      "text/html": [
       "<div>\n",
       "<style scoped>\n",
       "    .dataframe tbody tr th:only-of-type {\n",
       "        vertical-align: middle;\n",
       "    }\n",
       "\n",
       "    .dataframe tbody tr th {\n",
       "        vertical-align: top;\n",
       "    }\n",
       "\n",
       "    .dataframe thead th {\n",
       "        text-align: right;\n",
       "    }\n",
       "</style>\n",
       "<table border=\"1\" class=\"dataframe\">\n",
       "  <thead>\n",
       "    <tr style=\"text-align: right;\">\n",
       "      <th></th>\n",
       "      <th>children</th>\n",
       "      <th>days_employed</th>\n",
       "      <th>dob_years</th>\n",
       "      <th>education</th>\n",
       "      <th>education_id</th>\n",
       "      <th>family_status</th>\n",
       "      <th>family_status_id</th>\n",
       "      <th>gender</th>\n",
       "      <th>income_type</th>\n",
       "      <th>debt</th>\n",
       "      <th>total_income</th>\n",
       "      <th>purpose</th>\n",
       "    </tr>\n",
       "  </thead>\n",
       "  <tbody>\n",
       "    <tr>\n",
       "      <td>0</td>\n",
       "      <td>1</td>\n",
       "      <td>-8437.673028</td>\n",
       "      <td>42</td>\n",
       "      <td>высшее</td>\n",
       "      <td>0</td>\n",
       "      <td>женат / замужем</td>\n",
       "      <td>0</td>\n",
       "      <td>F</td>\n",
       "      <td>сотрудник</td>\n",
       "      <td>0</td>\n",
       "      <td>253875.639453</td>\n",
       "      <td>покупка жилья</td>\n",
       "    </tr>\n",
       "    <tr>\n",
       "      <td>1</td>\n",
       "      <td>1</td>\n",
       "      <td>-4024.803754</td>\n",
       "      <td>36</td>\n",
       "      <td>среднее</td>\n",
       "      <td>1</td>\n",
       "      <td>женат / замужем</td>\n",
       "      <td>0</td>\n",
       "      <td>F</td>\n",
       "      <td>сотрудник</td>\n",
       "      <td>0</td>\n",
       "      <td>112080.014102</td>\n",
       "      <td>приобретение автомобиля</td>\n",
       "    </tr>\n",
       "    <tr>\n",
       "      <td>2</td>\n",
       "      <td>0</td>\n",
       "      <td>-5623.422610</td>\n",
       "      <td>33</td>\n",
       "      <td>Среднее</td>\n",
       "      <td>1</td>\n",
       "      <td>женат / замужем</td>\n",
       "      <td>0</td>\n",
       "      <td>M</td>\n",
       "      <td>сотрудник</td>\n",
       "      <td>0</td>\n",
       "      <td>145885.952297</td>\n",
       "      <td>покупка жилья</td>\n",
       "    </tr>\n",
       "    <tr>\n",
       "      <td>3</td>\n",
       "      <td>3</td>\n",
       "      <td>-4124.747207</td>\n",
       "      <td>32</td>\n",
       "      <td>среднее</td>\n",
       "      <td>1</td>\n",
       "      <td>женат / замужем</td>\n",
       "      <td>0</td>\n",
       "      <td>M</td>\n",
       "      <td>сотрудник</td>\n",
       "      <td>0</td>\n",
       "      <td>267628.550329</td>\n",
       "      <td>дополнительное образование</td>\n",
       "    </tr>\n",
       "    <tr>\n",
       "      <td>4</td>\n",
       "      <td>0</td>\n",
       "      <td>340266.072047</td>\n",
       "      <td>53</td>\n",
       "      <td>среднее</td>\n",
       "      <td>1</td>\n",
       "      <td>гражданский брак</td>\n",
       "      <td>1</td>\n",
       "      <td>F</td>\n",
       "      <td>пенсионер</td>\n",
       "      <td>0</td>\n",
       "      <td>158616.077870</td>\n",
       "      <td>сыграть свадьбу</td>\n",
       "    </tr>\n",
       "  </tbody>\n",
       "</table>\n",
       "</div>"
      ],
      "text/plain": [
       "   children  days_employed  dob_years education  education_id  \\\n",
       "0         1   -8437.673028         42    высшее             0   \n",
       "1         1   -4024.803754         36   среднее             1   \n",
       "2         0   -5623.422610         33   Среднее             1   \n",
       "3         3   -4124.747207         32   среднее             1   \n",
       "4         0  340266.072047         53   среднее             1   \n",
       "\n",
       "      family_status  family_status_id gender income_type  debt   total_income  \\\n",
       "0   женат / замужем                 0      F   сотрудник     0  253875.639453   \n",
       "1   женат / замужем                 0      F   сотрудник     0  112080.014102   \n",
       "2   женат / замужем                 0      M   сотрудник     0  145885.952297   \n",
       "3   женат / замужем                 0      M   сотрудник     0  267628.550329   \n",
       "4  гражданский брак                 1      F   пенсионер     0  158616.077870   \n",
       "\n",
       "                      purpose  \n",
       "0               покупка жилья  \n",
       "1     приобретение автомобиля  \n",
       "2               покупка жилья  \n",
       "3  дополнительное образование  \n",
       "4             сыграть свадьбу  "
      ]
     },
     "execution_count": 1,
     "metadata": {},
     "output_type": "execute_result"
    }
   ],
   "source": [
    "import pandas as pd\n",
    "solvency = pd.read_csv('/datasets/data.csv') #solvency - платежеспособность (англ.)\n",
    "solvency.head()"
   ]
  },
  {
   "cell_type": "markdown",
   "metadata": {},
   "source": [
    "Запрашиваем общую информацию о массиве данных. \n",
    "Сразу обращаем внимание на проблемы с неоднородностью данных в столбце education (буквы в разном регистре):"
   ]
  },
  {
   "cell_type": "code",
   "execution_count": 2,
   "metadata": {},
   "outputs": [
    {
     "name": "stdout",
     "output_type": "stream",
     "text": [
      "<class 'pandas.core.frame.DataFrame'>\n",
      "RangeIndex: 21525 entries, 0 to 21524\n",
      "Data columns (total 12 columns):\n",
      "children            21525 non-null int64\n",
      "days_employed       19351 non-null float64\n",
      "dob_years           21525 non-null int64\n",
      "education           21525 non-null object\n",
      "education_id        21525 non-null int64\n",
      "family_status       21525 non-null object\n",
      "family_status_id    21525 non-null int64\n",
      "gender              21525 non-null object\n",
      "income_type         21525 non-null object\n",
      "debt                21525 non-null int64\n",
      "total_income        19351 non-null float64\n",
      "purpose             21525 non-null object\n",
      "dtypes: float64(2), int64(5), object(5)\n",
      "memory usage: 2.0+ MB\n"
     ]
    }
   ],
   "source": [
    "solvency.info()"
   ]
  },
  {
   "cell_type": "markdown",
   "metadata": {},
   "source": [
    "Получаем всего 21525 записей, пропуски имеются в двух столбцах: days_employed и total_income.\n",
    "В данных столбцах равное количество пропусков, в дальнейшем необходимо рассмотреть взаимосвязь этих параметров."
   ]
  },
  {
   "cell_type": "markdown",
   "metadata": {},
   "source": [
    "Выведем на экран уникальные значения категориальных параметров, которые должны иметь ограниченный набор значений:"
   ]
  },
  {
   "cell_type": "code",
   "execution_count": 3,
   "metadata": {},
   "outputs": [
    {
     "name": "stdout",
     "output_type": "stream",
     "text": [
      "Образование: ['высшее' 'среднее' 'Среднее' 'СРЕДНЕЕ' 'ВЫСШЕЕ' 'неоконченное высшее'\n",
      " 'начальное' 'Высшее' 'НЕОКОНЧЕННОЕ ВЫСШЕЕ' 'Неоконченное высшее'\n",
      " 'НАЧАЛЬНОЕ' 'Начальное' 'Ученая степень' 'УЧЕНАЯ СТЕПЕНЬ'\n",
      " 'ученая степень']\n",
      "\n",
      "Семейное положение:  ['женат / замужем' 'гражданский брак' 'вдовец / вдова' 'в разводе'\n",
      " 'Не женат / не замужем']\n",
      "\n",
      "Пол:  ['F' 'M' 'XNA']\n",
      "\n",
      "Занятость:  ['сотрудник' 'пенсионер' 'компаньон' 'госслужащий' 'безработный'\n",
      " 'предприниматель' 'студент' 'в декрете']\n"
     ]
    }
   ],
   "source": [
    "print('Образование:', solvency['education'].unique())\n",
    "print()\n",
    "print('Семейное положение: ', solvency['family_status'].unique())\n",
    "print()\n",
    "print('Пол: ', solvency['gender'].unique())\n",
    "print()\n",
    "print('Занятость: ', solvency['income_type'].unique())"
   ]
  },
  {
   "cell_type": "markdown",
   "metadata": {},
   "source": [
    "### Вывод"
   ]
  },
  {
   "cell_type": "markdown",
   "metadata": {},
   "source": [
    "1. В качестве вводных данных имеем таблицу, состоящую из 12 стобцов и 21525 строк. Данные в таблице относятся к одному из трех типов: integer, float или object. Столбцы отображают 5 категориальных и 7 количественных показателей.\n",
    "2. В данных имеются пропуски в двух столбцах, в которых содержится информация о трудовом стаже и доходе за месяц (количественные показатели), причем количество пропусков для них равно между собой. \n",
    "3. В столбце с информацией об образовании наблюдается неоднородность в данных, заключающаяся в наличии символов в разном регистре. Причем в результате запроса уникальных значений для данного столбца стало ясно, что проблема еще масштабнее, чем могло показаться на первывй взгляд, что является причиной большого количества дубликатов.\n",
    "4. В столбце с информацией об общем трудовом стаже набюлюдаются отрицательные значения, что физически невозможно (причина может быть в том, что при расчете трудового стажа методом вычитания текущей даты и даты приема на работу, блыли перепутаны местами уменьшаемое и вычитаемое).\n",
    "5. В результате запроса уникальных значений некоторых параметров обнаружились неочевидные пропуски в данных: значение 'XNA' в графе 'пол' (пол не определен)."
   ]
  },
  {
   "cell_type": "markdown",
   "metadata": {},
   "source": [
    "### Шаг 2. Предобработка данных"
   ]
  },
  {
   "cell_type": "markdown",
   "metadata": {},
   "source": [
    "### Обработка пропусков"
   ]
  },
  {
   "cell_type": "markdown",
   "metadata": {},
   "source": [
    "Посчитаем количество пропусков в таблице:"
   ]
  },
  {
   "cell_type": "code",
   "execution_count": 4,
   "metadata": {},
   "outputs": [
    {
     "data": {
      "text/plain": [
       "children               0\n",
       "days_employed       2174\n",
       "dob_years              0\n",
       "education              0\n",
       "education_id           0\n",
       "family_status          0\n",
       "family_status_id       0\n",
       "gender                 0\n",
       "income_type            0\n",
       "debt                   0\n",
       "total_income        2174\n",
       "purpose                0\n",
       "dtype: int64"
      ]
     },
     "execution_count": 4,
     "metadata": {},
     "output_type": "execute_result"
    }
   ],
   "source": [
    "solvency.isna().sum()"
   ]
  },
  {
   "cell_type": "markdown",
   "metadata": {},
   "source": [
    "Наблюдаем пропуски в стобцах \"общий стаж работы\" и \"суммарный доход\". Выведем на экран и изучим респондентов, имеющих пропуски по этим столбцам:"
   ]
  },
  {
   "cell_type": "code",
   "execution_count": 5,
   "metadata": {},
   "outputs": [
    {
     "data": {
      "text/html": [
       "<div>\n",
       "<style scoped>\n",
       "    .dataframe tbody tr th:only-of-type {\n",
       "        vertical-align: middle;\n",
       "    }\n",
       "\n",
       "    .dataframe tbody tr th {\n",
       "        vertical-align: top;\n",
       "    }\n",
       "\n",
       "    .dataframe thead th {\n",
       "        text-align: right;\n",
       "    }\n",
       "</style>\n",
       "<table border=\"1\" class=\"dataframe\">\n",
       "  <thead>\n",
       "    <tr style=\"text-align: right;\">\n",
       "      <th></th>\n",
       "      <th>children</th>\n",
       "      <th>days_employed</th>\n",
       "      <th>dob_years</th>\n",
       "      <th>education</th>\n",
       "      <th>education_id</th>\n",
       "      <th>family_status</th>\n",
       "      <th>family_status_id</th>\n",
       "      <th>gender</th>\n",
       "      <th>income_type</th>\n",
       "      <th>debt</th>\n",
       "      <th>total_income</th>\n",
       "      <th>purpose</th>\n",
       "    </tr>\n",
       "  </thead>\n",
       "  <tbody>\n",
       "    <tr>\n",
       "      <td>12</td>\n",
       "      <td>0</td>\n",
       "      <td>NaN</td>\n",
       "      <td>65</td>\n",
       "      <td>среднее</td>\n",
       "      <td>1</td>\n",
       "      <td>гражданский брак</td>\n",
       "      <td>1</td>\n",
       "      <td>M</td>\n",
       "      <td>пенсионер</td>\n",
       "      <td>0</td>\n",
       "      <td>NaN</td>\n",
       "      <td>сыграть свадьбу</td>\n",
       "    </tr>\n",
       "    <tr>\n",
       "      <td>26</td>\n",
       "      <td>0</td>\n",
       "      <td>NaN</td>\n",
       "      <td>41</td>\n",
       "      <td>среднее</td>\n",
       "      <td>1</td>\n",
       "      <td>женат / замужем</td>\n",
       "      <td>0</td>\n",
       "      <td>M</td>\n",
       "      <td>госслужащий</td>\n",
       "      <td>0</td>\n",
       "      <td>NaN</td>\n",
       "      <td>образование</td>\n",
       "    </tr>\n",
       "    <tr>\n",
       "      <td>29</td>\n",
       "      <td>0</td>\n",
       "      <td>NaN</td>\n",
       "      <td>63</td>\n",
       "      <td>среднее</td>\n",
       "      <td>1</td>\n",
       "      <td>Не женат / не замужем</td>\n",
       "      <td>4</td>\n",
       "      <td>F</td>\n",
       "      <td>пенсионер</td>\n",
       "      <td>0</td>\n",
       "      <td>NaN</td>\n",
       "      <td>строительство жилой недвижимости</td>\n",
       "    </tr>\n",
       "    <tr>\n",
       "      <td>41</td>\n",
       "      <td>0</td>\n",
       "      <td>NaN</td>\n",
       "      <td>50</td>\n",
       "      <td>среднее</td>\n",
       "      <td>1</td>\n",
       "      <td>женат / замужем</td>\n",
       "      <td>0</td>\n",
       "      <td>F</td>\n",
       "      <td>госслужащий</td>\n",
       "      <td>0</td>\n",
       "      <td>NaN</td>\n",
       "      <td>сделка с подержанным автомобилем</td>\n",
       "    </tr>\n",
       "    <tr>\n",
       "      <td>55</td>\n",
       "      <td>0</td>\n",
       "      <td>NaN</td>\n",
       "      <td>54</td>\n",
       "      <td>среднее</td>\n",
       "      <td>1</td>\n",
       "      <td>гражданский брак</td>\n",
       "      <td>1</td>\n",
       "      <td>F</td>\n",
       "      <td>пенсионер</td>\n",
       "      <td>1</td>\n",
       "      <td>NaN</td>\n",
       "      <td>сыграть свадьбу</td>\n",
       "    </tr>\n",
       "    <tr>\n",
       "      <td>65</td>\n",
       "      <td>0</td>\n",
       "      <td>NaN</td>\n",
       "      <td>21</td>\n",
       "      <td>среднее</td>\n",
       "      <td>1</td>\n",
       "      <td>Не женат / не замужем</td>\n",
       "      <td>4</td>\n",
       "      <td>M</td>\n",
       "      <td>компаньон</td>\n",
       "      <td>0</td>\n",
       "      <td>NaN</td>\n",
       "      <td>операции с коммерческой недвижимостью</td>\n",
       "    </tr>\n",
       "    <tr>\n",
       "      <td>67</td>\n",
       "      <td>0</td>\n",
       "      <td>NaN</td>\n",
       "      <td>52</td>\n",
       "      <td>высшее</td>\n",
       "      <td>0</td>\n",
       "      <td>женат / замужем</td>\n",
       "      <td>0</td>\n",
       "      <td>F</td>\n",
       "      <td>пенсионер</td>\n",
       "      <td>0</td>\n",
       "      <td>NaN</td>\n",
       "      <td>покупка жилья для семьи</td>\n",
       "    </tr>\n",
       "    <tr>\n",
       "      <td>72</td>\n",
       "      <td>1</td>\n",
       "      <td>NaN</td>\n",
       "      <td>32</td>\n",
       "      <td>высшее</td>\n",
       "      <td>0</td>\n",
       "      <td>женат / замужем</td>\n",
       "      <td>0</td>\n",
       "      <td>M</td>\n",
       "      <td>госслужащий</td>\n",
       "      <td>0</td>\n",
       "      <td>NaN</td>\n",
       "      <td>операции с коммерческой недвижимостью</td>\n",
       "    </tr>\n",
       "    <tr>\n",
       "      <td>82</td>\n",
       "      <td>2</td>\n",
       "      <td>NaN</td>\n",
       "      <td>50</td>\n",
       "      <td>высшее</td>\n",
       "      <td>0</td>\n",
       "      <td>женат / замужем</td>\n",
       "      <td>0</td>\n",
       "      <td>F</td>\n",
       "      <td>сотрудник</td>\n",
       "      <td>0</td>\n",
       "      <td>NaN</td>\n",
       "      <td>жилье</td>\n",
       "    </tr>\n",
       "    <tr>\n",
       "      <td>83</td>\n",
       "      <td>0</td>\n",
       "      <td>NaN</td>\n",
       "      <td>52</td>\n",
       "      <td>среднее</td>\n",
       "      <td>1</td>\n",
       "      <td>женат / замужем</td>\n",
       "      <td>0</td>\n",
       "      <td>M</td>\n",
       "      <td>сотрудник</td>\n",
       "      <td>0</td>\n",
       "      <td>NaN</td>\n",
       "      <td>жилье</td>\n",
       "    </tr>\n",
       "  </tbody>\n",
       "</table>\n",
       "</div>"
      ],
      "text/plain": [
       "    children  days_employed  dob_years education  education_id  \\\n",
       "12         0            NaN         65   среднее             1   \n",
       "26         0            NaN         41   среднее             1   \n",
       "29         0            NaN         63   среднее             1   \n",
       "41         0            NaN         50   среднее             1   \n",
       "55         0            NaN         54   среднее             1   \n",
       "65         0            NaN         21   среднее             1   \n",
       "67         0            NaN         52    высшее             0   \n",
       "72         1            NaN         32    высшее             0   \n",
       "82         2            NaN         50    высшее             0   \n",
       "83         0            NaN         52   среднее             1   \n",
       "\n",
       "            family_status  family_status_id gender  income_type  debt  \\\n",
       "12       гражданский брак                 1      M    пенсионер     0   \n",
       "26        женат / замужем                 0      M  госслужащий     0   \n",
       "29  Не женат / не замужем                 4      F    пенсионер     0   \n",
       "41        женат / замужем                 0      F  госслужащий     0   \n",
       "55       гражданский брак                 1      F    пенсионер     1   \n",
       "65  Не женат / не замужем                 4      M    компаньон     0   \n",
       "67        женат / замужем                 0      F    пенсионер     0   \n",
       "72        женат / замужем                 0      M  госслужащий     0   \n",
       "82        женат / замужем                 0      F    сотрудник     0   \n",
       "83        женат / замужем                 0      M    сотрудник     0   \n",
       "\n",
       "    total_income                                purpose  \n",
       "12           NaN                        сыграть свадьбу  \n",
       "26           NaN                            образование  \n",
       "29           NaN       строительство жилой недвижимости  \n",
       "41           NaN       сделка с подержанным автомобилем  \n",
       "55           NaN                        сыграть свадьбу  \n",
       "65           NaN  операции с коммерческой недвижимостью  \n",
       "67           NaN                покупка жилья для семьи  \n",
       "72           NaN  операции с коммерческой недвижимостью  \n",
       "82           NaN                                  жилье  \n",
       "83           NaN                                  жилье  "
      ]
     },
     "execution_count": 5,
     "metadata": {},
     "output_type": "execute_result"
    }
   ],
   "source": [
    "solvency_na = solvency[solvency['days_employed'].isna()==True]\n",
    "solvency_na.head(10)"
   ]
  },
  {
   "cell_type": "markdown",
   "metadata": {},
   "source": [
    "Можно бы было предположить, что информация о стаже и доходе будет отсутствовать у тех, у кого их еще/в данный момент нет (студенты). Однако просмотр информации по строкам с пропусками в исследуемых параметрах явно говорит о разной возрастной принадлежности респондентов, попавших в список, а также о их различном образовании и типе занятости.\n",
    "\n",
    "Выясним, как распределились строки с отсуствующими значениями в зависимости от типа занятости:"
   ]
  },
  {
   "cell_type": "code",
   "execution_count": 6,
   "metadata": {},
   "outputs": [
    {
     "data": {
      "text/plain": [
       "сотрудник          1105\n",
       "компаньон           508\n",
       "пенсионер           413\n",
       "госслужащий         147\n",
       "предприниматель       1\n",
       "Name: income_type, dtype: int64"
      ]
     },
     "execution_count": 6,
     "metadata": {},
     "output_type": "execute_result"
    }
   ],
   "source": [
    "solvency_na['income_type'].value_counts()"
   ]
  },
  {
   "cell_type": "code",
   "execution_count": 49,
   "metadata": {},
   "outputs": [
    {
     "data": {
      "text/plain": [
       "1105"
      ]
     },
     "execution_count": 49,
     "metadata": {},
     "output_type": "execute_result"
    }
   ],
   "source": [
    "solvency_na['income_type'].value_counts()['сотрудник']"
   ]
  },
  {
   "cell_type": "markdown",
   "metadata": {},
   "source": [
    "Вопреки изначальному предположению, среди респондентов с пропущенными данными нет ни одного студента, при этом есть представители групп \"сотрудники\", \"компаньоны\", \"пенсионеры\" и \"предприниматели\".\n",
    "\n",
    "Выясним, какова доля различных типов занятости среди общего количества респондентов с пропусками в данных:"
   ]
  },
  {
   "cell_type": "code",
   "execution_count": 7,
   "metadata": {},
   "outputs": [
    {
     "name": "stdout",
     "output_type": "stream",
     "text": [
      "Доля сотрудников среди всех, не указавших свои данные: 50.83%\n",
      "Доля компаньонов среди всех, не указавших свои данные: 23.37%\n",
      "Доля пенсионеров среди всех, не указавших свои данные: 19.00%\n",
      "Доля госслужащих среди всех, не указавших свои данные: 6.76%\n",
      "Доля предпринимателей среди всех, не указавших свои данные: 0.0460%\n"
     ]
    }
   ],
   "source": [
    "print('Доля сотрудников среди всех, не указавших свои данные: {:.2%}'.format(1105 / 2174))\n",
    "print('Доля компаньонов среди всех, не указавших свои данные: {:.2%}'.format(508 / 2174))\n",
    "print('Доля пенсионеров среди всех, не указавших свои данные: {:.2%}'.format(413 / 2174))\n",
    "print('Доля госслужащих среди всех, не указавших свои данные: {:.2%}'.format(147 / 2174))\n",
    "print('Доля предпринимателей среди всех, не указавших свои данные: {:.4%}'.format(1 / 2174))"
   ]
  },
  {
   "cell_type": "markdown",
   "metadata": {},
   "source": [
    "<div class=\"alert alert-success\">\n",
    "<h2> Комментарий ревьюера </h2>\n",
    "\n",
    "Все супер! Только старайся для таким однотипных действий использовать свои собственные функции, или хотя бы циклы. Ниже привел реализацию с циклом, по мне более элегантное решение)\n",
    "\n",
    "</div>"
   ]
  },
  {
   "cell_type": "code",
   "execution_count": 51,
   "metadata": {},
   "outputs": [
    {
     "name": "stdout",
     "output_type": "stream",
     "text": [
      "Доля группы \"пенсионер\" среди всех, не указавших свои данные: 19.00%\n",
      "Доля группы \"госслужащий\" среди всех, не указавших свои данные: 6.76%\n",
      "Доля группы \"компаньон\" среди всех, не указавших свои данные: 23.37%\n",
      "Доля группы \"сотрудник\" среди всех, не указавших свои данные: 50.83%\n",
      "Доля группы \"предприниматель\" среди всех, не указавших свои данные: 0.05%\n"
     ]
    }
   ],
   "source": [
    "for inc_type in solvency_na['income_type'].unique():\n",
    "    print('Доля группы \"{}\" среди всех, не указавших свои данные: {:.2%}'.format(\n",
    "        inc_type,\n",
    "        solvency_na['income_type'].value_counts()[inc_type] / solvency_na.shape[0]))"
   ]
  },
  {
   "cell_type": "markdown",
   "metadata": {},
   "source": [
    "Определим долю представителей вышеуказанных типов занятости среди общего количества записей:"
   ]
  },
  {
   "cell_type": "code",
   "execution_count": 8,
   "metadata": {},
   "outputs": [
    {
     "data": {
      "text/plain": [
       "сотрудник          11119\n",
       "компаньон           5085\n",
       "пенсионер           3856\n",
       "госслужащий         1459\n",
       "предприниматель        2\n",
       "безработный            2\n",
       "студент                1\n",
       "в декрете              1\n",
       "Name: income_type, dtype: int64"
      ]
     },
     "execution_count": 8,
     "metadata": {},
     "output_type": "execute_result"
    }
   ],
   "source": [
    "solvency['income_type'].value_counts()"
   ]
  },
  {
   "cell_type": "code",
   "execution_count": 9,
   "metadata": {},
   "outputs": [
    {
     "name": "stdout",
     "output_type": "stream",
     "text": [
      "Доля сотрудников среди всех респондентов: 51.66%\n",
      "Доля компаньонов среди всех респондентов: 23.62%\n",
      "Доля пенсионеров среди всехреспондентов: 17.91%\n",
      "Доля госслужащих среди всех респонлентов: 6.78%\n",
      "Доля предпринимателей среди всех респондентов: 0.0093%\n"
     ]
    }
   ],
   "source": [
    "print('Доля сотрудников среди всех респондентов: {:.2%}'.format(11119 / 21525))\n",
    "print('Доля компаньонов среди всех респондентов: {:.2%}'.format(5085 / 21525))\n",
    "print('Доля пенсионеров среди всехреспондентов: {:.2%}'.format(3856 / 21525))\n",
    "print('Доля госслужащих среди всех респонлентов: {:.2%}'.format(1459 / 21525))\n",
    "print('Доля предпринимателей среди всех респондентов: {:.4%}'.format(2 / 21525))"
   ]
  },
  {
   "cell_type": "markdown",
   "metadata": {},
   "source": [
    "Таким образом мы выяснили, что доля респондентов по типам  занятости, не заполнивших данные, соответствует доле респондентов, относящихся к данному типу занятости среди всего объема данных с отклонением около 1%. \n",
    "Можно сделать вывод, что пропуски в данных имели совершенно случайный характер.\n",
    "Исключение составляет только тип занятости \"предприниматель\" ввиду малого количества представителей этого типа.\n",
    "\n",
    "Заполним пропущенные значения средними показателями для каждого типа занятости.\n",
    "Для этого сперва избавимся от отрицательных значений:"
   ]
  },
  {
   "cell_type": "code",
   "execution_count": 10,
   "metadata": {},
   "outputs": [],
   "source": [
    "solvency['days_employed'] = solvency['days_employed'].apply(abs) \n",
    "#применяем ко всем значениям столбца days_employed \n",
    "#функцию abs, возвращающую модуль значения"
   ]
  },
  {
   "cell_type": "markdown",
   "metadata": {},
   "source": [
    "Рассчитаем средние значения стажа работы и ежемесячного дохода для каждой группы, в которой были встречены пропуски:"
   ]
  },
  {
   "cell_type": "code",
   "execution_count": 11,
   "metadata": {},
   "outputs": [],
   "source": [
    "#Для сотрудника:\n",
    "employee_mean_income = solvency[solvency['income_type']=='сотрудник']['total_income'].mean()\n",
    "employee_mean_day = solvency[solvency['income_type']=='сотрудник']['days_employed'].mean()\n",
    "\n",
    "#Для компаньона:\n",
    "companion_mean_income = solvency[solvency['income_type']=='компаньон']['total_income'].mean()\n",
    "companion_mean_day = solvency[solvency['income_type']=='компаньон']['days_employed'].mean()\n",
    "\n",
    "#Для пенсионера:\n",
    "retiree_mean_income = solvency[solvency['income_type']=='пенсионер']['total_income'].mean()\n",
    "retiree_mean_day = solvency[solvency['income_type']=='пенсионер']['days_employed'].mean()\n",
    "\n",
    "#Для госслужащего:\n",
    "state_employee_mean_income = solvency[solvency['income_type']=='госслужащий']['total_income'].mean()\n",
    "state_employee_mean_day = solvency[solvency['income_type']=='госслужащий']['days_employed'].mean()"
   ]
  },
  {
   "cell_type": "markdown",
   "metadata": {},
   "source": [
    "Количество исследований, описывающих данные для типа занятости \"предприниматель\" недостаточно для формулировки предположения о возможном доходе и стаже:"
   ]
  },
  {
   "cell_type": "code",
   "execution_count": 12,
   "metadata": {},
   "outputs": [
    {
     "data": {
      "text/html": [
       "<div>\n",
       "<style scoped>\n",
       "    .dataframe tbody tr th:only-of-type {\n",
       "        vertical-align: middle;\n",
       "    }\n",
       "\n",
       "    .dataframe tbody tr th {\n",
       "        vertical-align: top;\n",
       "    }\n",
       "\n",
       "    .dataframe thead th {\n",
       "        text-align: right;\n",
       "    }\n",
       "</style>\n",
       "<table border=\"1\" class=\"dataframe\">\n",
       "  <thead>\n",
       "    <tr style=\"text-align: right;\">\n",
       "      <th></th>\n",
       "      <th>children</th>\n",
       "      <th>days_employed</th>\n",
       "      <th>dob_years</th>\n",
       "      <th>education</th>\n",
       "      <th>education_id</th>\n",
       "      <th>family_status</th>\n",
       "      <th>family_status_id</th>\n",
       "      <th>gender</th>\n",
       "      <th>income_type</th>\n",
       "      <th>debt</th>\n",
       "      <th>total_income</th>\n",
       "      <th>purpose</th>\n",
       "    </tr>\n",
       "  </thead>\n",
       "  <tbody>\n",
       "    <tr>\n",
       "      <td>5936</td>\n",
       "      <td>0</td>\n",
       "      <td>NaN</td>\n",
       "      <td>58</td>\n",
       "      <td>высшее</td>\n",
       "      <td>0</td>\n",
       "      <td>женат / замужем</td>\n",
       "      <td>0</td>\n",
       "      <td>M</td>\n",
       "      <td>предприниматель</td>\n",
       "      <td>0</td>\n",
       "      <td>NaN</td>\n",
       "      <td>покупка жилой недвижимости</td>\n",
       "    </tr>\n",
       "    <tr>\n",
       "      <td>18697</td>\n",
       "      <td>0</td>\n",
       "      <td>520.848083</td>\n",
       "      <td>27</td>\n",
       "      <td>высшее</td>\n",
       "      <td>0</td>\n",
       "      <td>гражданский брак</td>\n",
       "      <td>1</td>\n",
       "      <td>F</td>\n",
       "      <td>предприниматель</td>\n",
       "      <td>0</td>\n",
       "      <td>499163.144947</td>\n",
       "      <td>на проведение свадьбы</td>\n",
       "    </tr>\n",
       "  </tbody>\n",
       "</table>\n",
       "</div>"
      ],
      "text/plain": [
       "       children  days_employed  dob_years education  education_id  \\\n",
       "5936          0            NaN         58    высшее             0   \n",
       "18697         0     520.848083         27    высшее             0   \n",
       "\n",
       "          family_status  family_status_id gender      income_type  debt  \\\n",
       "5936    женат / замужем                 0      M  предприниматель     0   \n",
       "18697  гражданский брак                 1      F  предприниматель     0   \n",
       "\n",
       "        total_income                     purpose  \n",
       "5936             NaN  покупка жилой недвижимости  \n",
       "18697  499163.144947       на проведение свадьбы  "
      ]
     },
     "execution_count": 12,
     "metadata": {},
     "output_type": "execute_result"
    }
   ],
   "source": [
    "solvency[solvency['income_type'] == 'предприниматель']"
   ]
  },
  {
   "cell_type": "markdown",
   "metadata": {},
   "source": [
    "Заполним пропуски полученными средними значениями:"
   ]
  },
  {
   "cell_type": "code",
   "execution_count": 13,
   "metadata": {},
   "outputs": [],
   "source": [
    "solvency.loc[solvency['income_type'] == 'сотрудник', 'days_employed'] = solvency.loc[solvency['income_type'] == 'сотрудник', 'days_employed'].fillna(employee_mean_day)\n",
    "solvency.loc[solvency['income_type'] == 'сотрудник', 'total_income'] = solvency.loc[solvency['income_type'] == 'сотрудник', 'total_income'].fillna(employee_mean_income)\n",
    "\n",
    "solvency.loc[solvency['income_type'] == 'компаньон', 'days_employed'] = solvency.loc[solvency['income_type'] == 'компаньон', 'days_employed'].fillna(companion_mean_day)\n",
    "solvency.loc[solvency['income_type'] == 'компаньон', 'total_income'] = solvency.loc[solvency['income_type'] == 'компаньон', 'total_income'].fillna(companion_mean_income)\n",
    "\n",
    "solvency.loc[solvency['income_type'] == 'пенсионер', 'days_employed'] = solvency.loc[solvency['income_type'] == 'пенсионер', 'days_employed'].fillna(retiree_mean_day)\n",
    "solvency.loc[solvency['income_type'] == 'пенсионер', 'total_income'] = solvency.loc[solvency['income_type'] == 'пенсионер', 'total_income'].fillna(retiree_mean_income)\n",
    "\n",
    "solvency.loc[solvency['income_type'] == 'госслужащий', 'days_employed'] = solvency.loc[solvency['income_type'] == 'госслужащий', 'days_employed'].fillna(state_employee_mean_day)\n",
    "solvency.loc[solvency['income_type'] == 'госслужащий', 'total_income'] = solvency.loc[solvency['income_type'] == 'госслужащий', 'total_income'].fillna(state_employee_mean_income)\n",
    "\n"
   ]
  },
  {
   "cell_type": "markdown",
   "metadata": {},
   "source": [
    "<div class=\"alert alert-warning\">\n",
    "<h2> Комментарий ревьюера </h2>\n",
    "\n",
    "Хорошая реализация! Вот еще один вариант, как можно было сделать замену, но уже в более коротком варианте 😉\n",
    "    \n",
    "    solvency['total_income'] = solvency.groupby('income_type')['total_income'].apply(lambda x: x.fillna(x.mean()))\n",
    "\n",
    "</div>"
   ]
  },
  {
   "cell_type": "markdown",
   "metadata": {},
   "source": [
    "Итак, у нас осталось по одному пропуску в столбцах \"стаж\" и \"ежемесячный доход\". Эти характеристики принадлежат респонденту с типом занятости \"предприниматель\". \n",
    "У нас нет достаточной информации для того, чтобы заполнить пропуски: для госслужащих и пенсионеров доход находится в неким рамках, которые можно определить. По сотрудникам самая большая выборка, что при большей возможной дифференциации дохода позволяет найти средние значения.\n",
    "Предприниматель - более обширная категория работников, в которой могли бы оказаться объекты как с самым высоким, тамк и самым низким доходом среди всех данных.\n",
    "Поскольку основной характеристикой, влияющей на платежеспособность, является именно доход, а запись с неопределенностью у нас всего одна, целесообразным представляется исключить эту запись из данных, это почти не отразится на общем объеме."
   ]
  },
  {
   "cell_type": "code",
   "execution_count": 14,
   "metadata": {},
   "outputs": [],
   "source": [
    "solvency = solvency.dropna()"
   ]
  },
  {
   "cell_type": "code",
   "execution_count": 15,
   "metadata": {},
   "outputs": [
    {
     "data": {
      "text/plain": [
       "children            0\n",
       "days_employed       0\n",
       "dob_years           0\n",
       "education           0\n",
       "education_id        0\n",
       "family_status       0\n",
       "family_status_id    0\n",
       "gender              0\n",
       "income_type         0\n",
       "debt                0\n",
       "total_income        0\n",
       "purpose             0\n",
       "dtype: int64"
      ]
     },
     "execution_count": 15,
     "metadata": {},
     "output_type": "execute_result"
    }
   ],
   "source": [
    "#проверим количество пропусков в таблице после проведенной работы\n",
    "solvency.isna().sum()"
   ]
  },
  {
   "cell_type": "markdown",
   "metadata": {},
   "source": [
    "### Вывод"
   ]
  },
  {
   "cell_type": "markdown",
   "metadata": {},
   "source": [
    "Итак, мы избавились от пропусков в таблице. Изначальное предположение состояло в том, что пропуски - отсутствующие значения, а не пропущенные, в таком случае пропуски можно было бы заменить на \"0\", однако данная гипотеза не подтвердилась.\n",
    "Мы провели анализ и выяснили, что пропуски распределились равномерно и случайным образом среди 5 групп объектов по признаку \"тип занятости\".\n",
    "Поскольку основным фактором, влияющим на платежеспособность респондентов, является их доход, а границы дохода находятся в непосредственной взаимосвязи с типом занятости (укрупненной группой характеристики \"должность\"), мы заполнили пропуски по каждой группе типа занятости средними значениями для этих групп.\n",
    "Исключение составил тип занятости \"предприниматель\", который включал в себя всего две записи, поэтому запись с пропущенными данными для категории \"предприниматели\" мы решили удалить.\n",
    "\n",
    "Также для корректного расчета среднего значения стажа мы по ходу дела избавились от отрицательных показателей в графе \"стаж\", предположив, что причиной появления отрицательных значений стала ошибка в формуле, и по модулю значения верны."
   ]
  },
  {
   "cell_type": "markdown",
   "metadata": {},
   "source": [
    "<div class=\"alert alert-warning\">\n",
    "<h2> Комментарий ревьюера </h2>\n",
    "\n",
    "Для нашей задачи твоих действий по предобработке данных достаточно, однако в реальном бизнесе важно смотреть на весь датафрейм, анализировать каждый столбец, ведь в них могут быть неявные пропущенные значения (замененные значениями по умолчанию) или ошибки. Так, например, в нашем случае, в столбце `gender` встречается непонятное значение `XNA`, и с ним надо что-то решать\n",
    "\n",
    "</div>"
   ]
  },
  {
   "cell_type": "markdown",
   "metadata": {},
   "source": [
    "### Замена типа данных"
   ]
  },
  {
   "cell_type": "markdown",
   "metadata": {},
   "source": [
    "Заменим вещественный тип данных в нашей таблице на целочисленный:"
   ]
  },
  {
   "cell_type": "code",
   "execution_count": 16,
   "metadata": {},
   "outputs": [],
   "source": [
    "solvency['days_employed'] = solvency['days_employed'].astype('int')\n",
    "solvency['total_income'] = solvency['total_income'].astype('int')"
   ]
  },
  {
   "cell_type": "code",
   "execution_count": 17,
   "metadata": {},
   "outputs": [
    {
     "name": "stdout",
     "output_type": "stream",
     "text": [
      "<class 'pandas.core.frame.DataFrame'>\n",
      "Int64Index: 21524 entries, 0 to 21524\n",
      "Data columns (total 12 columns):\n",
      "children            21524 non-null int64\n",
      "days_employed       21524 non-null int64\n",
      "dob_years           21524 non-null int64\n",
      "education           21524 non-null object\n",
      "education_id        21524 non-null int64\n",
      "family_status       21524 non-null object\n",
      "family_status_id    21524 non-null int64\n",
      "gender              21524 non-null object\n",
      "income_type         21524 non-null object\n",
      "debt                21524 non-null int64\n",
      "total_income        21524 non-null int64\n",
      "purpose             21524 non-null object\n",
      "dtypes: int64(7), object(5)\n",
      "memory usage: 2.1+ MB\n"
     ]
    }
   ],
   "source": [
    "solvency.info()"
   ]
  },
  {
   "cell_type": "markdown",
   "metadata": {},
   "source": [
    "Для изменения типа данных был использован метод \"astype\", поскольку нам нужно перевести значения в тип int из типа float, а стандартный метод to_numeric преобразует тип либо во float, либо в integer в зависимости от исходных значений.\n",
    "\n",
    "Распечатаем первые 5 строк нашей таблицы:"
   ]
  },
  {
   "cell_type": "code",
   "execution_count": 18,
   "metadata": {},
   "outputs": [
    {
     "data": {
      "text/html": [
       "<div>\n",
       "<style scoped>\n",
       "    .dataframe tbody tr th:only-of-type {\n",
       "        vertical-align: middle;\n",
       "    }\n",
       "\n",
       "    .dataframe tbody tr th {\n",
       "        vertical-align: top;\n",
       "    }\n",
       "\n",
       "    .dataframe thead th {\n",
       "        text-align: right;\n",
       "    }\n",
       "</style>\n",
       "<table border=\"1\" class=\"dataframe\">\n",
       "  <thead>\n",
       "    <tr style=\"text-align: right;\">\n",
       "      <th></th>\n",
       "      <th>children</th>\n",
       "      <th>days_employed</th>\n",
       "      <th>dob_years</th>\n",
       "      <th>education</th>\n",
       "      <th>education_id</th>\n",
       "      <th>family_status</th>\n",
       "      <th>family_status_id</th>\n",
       "      <th>gender</th>\n",
       "      <th>income_type</th>\n",
       "      <th>debt</th>\n",
       "      <th>total_income</th>\n",
       "      <th>purpose</th>\n",
       "    </tr>\n",
       "  </thead>\n",
       "  <tbody>\n",
       "    <tr>\n",
       "      <td>0</td>\n",
       "      <td>1</td>\n",
       "      <td>8437</td>\n",
       "      <td>42</td>\n",
       "      <td>высшее</td>\n",
       "      <td>0</td>\n",
       "      <td>женат / замужем</td>\n",
       "      <td>0</td>\n",
       "      <td>F</td>\n",
       "      <td>сотрудник</td>\n",
       "      <td>0</td>\n",
       "      <td>253875</td>\n",
       "      <td>покупка жилья</td>\n",
       "    </tr>\n",
       "    <tr>\n",
       "      <td>1</td>\n",
       "      <td>1</td>\n",
       "      <td>4024</td>\n",
       "      <td>36</td>\n",
       "      <td>среднее</td>\n",
       "      <td>1</td>\n",
       "      <td>женат / замужем</td>\n",
       "      <td>0</td>\n",
       "      <td>F</td>\n",
       "      <td>сотрудник</td>\n",
       "      <td>0</td>\n",
       "      <td>112080</td>\n",
       "      <td>приобретение автомобиля</td>\n",
       "    </tr>\n",
       "    <tr>\n",
       "      <td>2</td>\n",
       "      <td>0</td>\n",
       "      <td>5623</td>\n",
       "      <td>33</td>\n",
       "      <td>Среднее</td>\n",
       "      <td>1</td>\n",
       "      <td>женат / замужем</td>\n",
       "      <td>0</td>\n",
       "      <td>M</td>\n",
       "      <td>сотрудник</td>\n",
       "      <td>0</td>\n",
       "      <td>145885</td>\n",
       "      <td>покупка жилья</td>\n",
       "    </tr>\n",
       "    <tr>\n",
       "      <td>3</td>\n",
       "      <td>3</td>\n",
       "      <td>4124</td>\n",
       "      <td>32</td>\n",
       "      <td>среднее</td>\n",
       "      <td>1</td>\n",
       "      <td>женат / замужем</td>\n",
       "      <td>0</td>\n",
       "      <td>M</td>\n",
       "      <td>сотрудник</td>\n",
       "      <td>0</td>\n",
       "      <td>267628</td>\n",
       "      <td>дополнительное образование</td>\n",
       "    </tr>\n",
       "    <tr>\n",
       "      <td>4</td>\n",
       "      <td>0</td>\n",
       "      <td>340266</td>\n",
       "      <td>53</td>\n",
       "      <td>среднее</td>\n",
       "      <td>1</td>\n",
       "      <td>гражданский брак</td>\n",
       "      <td>1</td>\n",
       "      <td>F</td>\n",
       "      <td>пенсионер</td>\n",
       "      <td>0</td>\n",
       "      <td>158616</td>\n",
       "      <td>сыграть свадьбу</td>\n",
       "    </tr>\n",
       "  </tbody>\n",
       "</table>\n",
       "</div>"
      ],
      "text/plain": [
       "   children  days_employed  dob_years education  education_id  \\\n",
       "0         1           8437         42    высшее             0   \n",
       "1         1           4024         36   среднее             1   \n",
       "2         0           5623         33   Среднее             1   \n",
       "3         3           4124         32   среднее             1   \n",
       "4         0         340266         53   среднее             1   \n",
       "\n",
       "      family_status  family_status_id gender income_type  debt  total_income  \\\n",
       "0   женат / замужем                 0      F   сотрудник     0        253875   \n",
       "1   женат / замужем                 0      F   сотрудник     0        112080   \n",
       "2   женат / замужем                 0      M   сотрудник     0        145885   \n",
       "3   женат / замужем                 0      M   сотрудник     0        267628   \n",
       "4  гражданский брак                 1      F   пенсионер     0        158616   \n",
       "\n",
       "                      purpose  \n",
       "0               покупка жилья  \n",
       "1     приобретение автомобиля  \n",
       "2               покупка жилья  \n",
       "3  дополнительное образование  \n",
       "4             сыграть свадьбу  "
      ]
     },
     "execution_count": 18,
     "metadata": {},
     "output_type": "execute_result"
    }
   ],
   "source": [
    "solvency.head()"
   ]
  },
  {
   "cell_type": "markdown",
   "metadata": {},
   "source": [
    "Как мы видим, в таблице остались только целочисленные значения в столбцах с количественными показателями.\n",
    "Проверим, какие типы данных остались в нашем датафрейме:"
   ]
  },
  {
   "cell_type": "code",
   "execution_count": 19,
   "metadata": {},
   "outputs": [
    {
     "name": "stdout",
     "output_type": "stream",
     "text": [
      "<class 'pandas.core.frame.DataFrame'>\n",
      "Int64Index: 21524 entries, 0 to 21524\n",
      "Data columns (total 12 columns):\n",
      "children            21524 non-null int64\n",
      "days_employed       21524 non-null int64\n",
      "dob_years           21524 non-null int64\n",
      "education           21524 non-null object\n",
      "education_id        21524 non-null int64\n",
      "family_status       21524 non-null object\n",
      "family_status_id    21524 non-null int64\n",
      "gender              21524 non-null object\n",
      "income_type         21524 non-null object\n",
      "debt                21524 non-null int64\n",
      "total_income        21524 non-null int64\n",
      "purpose             21524 non-null object\n",
      "dtypes: int64(7), object(5)\n",
      "memory usage: 2.1+ MB\n"
     ]
    }
   ],
   "source": [
    "solvency.info()"
   ]
  },
  {
   "cell_type": "markdown",
   "metadata": {},
   "source": [
    "### Вывод"
   ]
  },
  {
   "cell_type": "markdown",
   "metadata": {},
   "source": [
    "После замены типа данных в нашей таблице остались только количественные целочисленные значения и категориальные значения формата object."
   ]
  },
  {
   "cell_type": "markdown",
   "metadata": {},
   "source": [
    "### Обработка дубликатов"
   ]
  },
  {
   "cell_type": "markdown",
   "metadata": {},
   "source": [
    "Сперва избавимся от дубликатов в столбце \"образование\", вызванных наличием символов в разном регистре:"
   ]
  },
  {
   "cell_type": "code",
   "execution_count": 20,
   "metadata": {},
   "outputs": [],
   "source": [
    "#определяем фунцию low_letters, в качестве аргумента принимающую значение ячейки из столбца\n",
    "def low_letters(column):\n",
    "#фунция возвращает исходное значение после применения к нему методов .str и .lower()\n",
    "    return column.str.lower()\n",
    "\n",
    "    \n",
    "\n",
    "solvency[['education']] = solvency[['education']].apply(low_letters)"
   ]
  },
  {
   "cell_type": "markdown",
   "metadata": {},
   "source": [
    "<div class=\"alert alert-success\">\n",
    "<h2> Комментарий ревьюера </h2>\n",
    "\n",
    "Молодец, что приводишь столбец `education` к нижнему регистру и делаешь это до удаления дубликатов, ведь это может повлиять на их кол-во\n",
    "\n",
    "</div>"
   ]
  },
  {
   "cell_type": "markdown",
   "metadata": {},
   "source": [
    "Убедимся, что проблема с регистровыми дубликатами решена:"
   ]
  },
  {
   "cell_type": "code",
   "execution_count": 21,
   "metadata": {},
   "outputs": [
    {
     "data": {
      "text/plain": [
       "среднее                15233\n",
       "высшее                  5259\n",
       "неоконченное высшее      744\n",
       "начальное                282\n",
       "ученая степень             6\n",
       "Name: education, dtype: int64"
      ]
     },
     "execution_count": 21,
     "metadata": {},
     "output_type": "execute_result"
    }
   ],
   "source": [
    "solvency['education'].value_counts()"
   ]
  },
  {
   "cell_type": "markdown",
   "metadata": {},
   "source": [
    "Выясним, сколько дубликатов содержится в таблице после проделанной предобработки данных:"
   ]
  },
  {
   "cell_type": "code",
   "execution_count": 22,
   "metadata": {},
   "outputs": [
    {
     "data": {
      "text/plain": [
       "71"
      ]
     },
     "execution_count": 22,
     "metadata": {},
     "output_type": "execute_result"
    }
   ],
   "source": [
    "solvency.duplicated().sum()"
   ]
  },
  {
   "cell_type": "markdown",
   "metadata": {},
   "source": [
    "Удалим дубликаты и убедимся, что в таблице остались только уникальные строки:"
   ]
  },
  {
   "cell_type": "code",
   "execution_count": 23,
   "metadata": {},
   "outputs": [
    {
     "data": {
      "text/plain": [
       "0"
      ]
     },
     "execution_count": 23,
     "metadata": {},
     "output_type": "execute_result"
    }
   ],
   "source": [
    "solvency = solvency.drop_duplicates()\n",
    "solvency.duplicated().sum()"
   ]
  },
  {
   "cell_type": "markdown",
   "metadata": {},
   "source": [
    "Посмотрим, сколько уникальных наблюдений осталось в нашей таблице после удаления дубликатов:"
   ]
  },
  {
   "cell_type": "code",
   "execution_count": 24,
   "metadata": {},
   "outputs": [
    {
     "data": {
      "text/plain": [
       "(21453, 12)"
      ]
     },
     "execution_count": 24,
     "metadata": {},
     "output_type": "execute_result"
    }
   ],
   "source": [
    "solvency.shape"
   ]
  },
  {
   "cell_type": "markdown",
   "metadata": {},
   "source": [
    "### Вывод"
   ]
  },
  {
   "cell_type": "markdown",
   "metadata": {},
   "source": [
    "В результате удаления дубликатов мы избавились от 71 повторяющейся строки. После удаления одного наблюдения в разделе с обработкой пропусков и после удаления дубликатов, выполненного в этом разделе, из 21525 изначальных наблюдений у нас осталась 21453."
   ]
  },
  {
   "cell_type": "markdown",
   "metadata": {},
   "source": [
    "### Лемматизация"
   ]
  },
  {
   "cell_type": "markdown",
   "metadata": {},
   "source": [
    "Для проведения анализа целей взятия кредита выполним лемматизацию значений столбца \"purpose\" с помощью метода Mystem библиотеки pymystem3, он является предпочтительнее стемминга,поскольку стемминг находит общие части в слове, а не основу слова:"
   ]
  },
  {
   "cell_type": "code",
   "execution_count": 25,
   "metadata": {},
   "outputs": [
    {
     "name": "stdout",
     "output_type": "stream",
     "text": [
      "Counter({' ': 33568, '\\n': 21453, 'недвижимость': 6350, 'покупка': 5896, 'жилье': 4460, 'автомобиль': 4306, 'образование': 4013, 'с': 2918, 'операция': 2604, 'свадьба': 2324, 'свой': 2230, 'на': 2222, 'строительство': 1878, 'высокий': 1374, 'получение': 1314, 'коммерческий': 1311, 'для': 1289, 'жилой': 1229, 'сделка': 941, 'дополнительный': 906, 'заниматься': 904, 'проведение': 768, 'сыграть': 765, 'сдача': 651, 'семья': 638, 'собственный': 635, 'со': 627, 'ремонт': 607, 'подержанный': 486, 'подержать': 478, 'приобретение': 461, 'профильный': 436})\n"
     ]
    }
   ],
   "source": [
    "from pymystem3 import Mystem\n",
    "from collections import Counter\n",
    "m = Mystem()\n",
    "\n",
    "purposes = []\n",
    "for purpose in solvency['purpose']:\n",
    "    lemmas = m.lemmatize(purpose)\n",
    "    purposes += lemmas\n",
    "print(Counter(purposes))"
   ]
  },
  {
   "cell_type": "markdown",
   "metadata": {},
   "source": [
    "<div class=\"alert alert-success\">\n",
    "<h2> Комментарий ревьюера </h2>\n",
    "\n",
    "Реализация правильная, при этом предлагаю более короткое и быстрое решение с использованием [join()](https://stackoverflow.com/questions/5618878/how-to-convert-list-to-string)\n",
    "    \n",
    "    lemmas = m.lemmatize(' '.join(solvency['purpose']))\n",
    "    print(Counter(lemmas))\n",
    "\n",
    "</div>"
   ]
  },
  {
   "cell_type": "code",
   "execution_count": 26,
   "metadata": {},
   "outputs": [
    {
     "data": {
      "text/html": [
       "<div>\n",
       "<style scoped>\n",
       "    .dataframe tbody tr th:only-of-type {\n",
       "        vertical-align: middle;\n",
       "    }\n",
       "\n",
       "    .dataframe tbody tr th {\n",
       "        vertical-align: top;\n",
       "    }\n",
       "\n",
       "    .dataframe thead th {\n",
       "        text-align: right;\n",
       "    }\n",
       "</style>\n",
       "<table border=\"1\" class=\"dataframe\">\n",
       "  <thead>\n",
       "    <tr style=\"text-align: right;\">\n",
       "      <th></th>\n",
       "      <th>purpose</th>\n",
       "      <th>quantity</th>\n",
       "    </tr>\n",
       "  </thead>\n",
       "  <tbody>\n",
       "    <tr>\n",
       "      <td>0</td>\n",
       "      <td>недвижимость</td>\n",
       "      <td>6350</td>\n",
       "    </tr>\n",
       "    <tr>\n",
       "      <td>1</td>\n",
       "      <td>жилье</td>\n",
       "      <td>4460</td>\n",
       "    </tr>\n",
       "    <tr>\n",
       "      <td>2</td>\n",
       "      <td>автомобиль</td>\n",
       "      <td>4306</td>\n",
       "    </tr>\n",
       "    <tr>\n",
       "      <td>3</td>\n",
       "      <td>образование</td>\n",
       "      <td>4013</td>\n",
       "    </tr>\n",
       "    <tr>\n",
       "      <td>4</td>\n",
       "      <td>свадьба</td>\n",
       "      <td>2324</td>\n",
       "    </tr>\n",
       "    <tr>\n",
       "      <td>5</td>\n",
       "      <td>строительство</td>\n",
       "      <td>1878</td>\n",
       "    </tr>\n",
       "    <tr>\n",
       "      <td>6</td>\n",
       "      <td>ремонт</td>\n",
       "      <td>607</td>\n",
       "    </tr>\n",
       "  </tbody>\n",
       "</table>\n",
       "</div>"
      ],
      "text/plain": [
       "         purpose  quantity\n",
       "0   недвижимость      6350\n",
       "1          жилье      4460\n",
       "2     автомобиль      4306\n",
       "3    образование      4013\n",
       "4        свадьба      2324\n",
       "5  строительство      1878\n",
       "6         ремонт       607"
      ]
     },
     "execution_count": 26,
     "metadata": {},
     "output_type": "execute_result"
    }
   ],
   "source": [
    "#создадим таблицу, в которой отобразим основные цели взятия кредита\n",
    "purpose_df = pd.DataFrame({'purpose' : ['недвижимость', 'жилье', 'автомобиль', \n",
    "                                        'образование', 'свадьба', 'строительство',\n",
    "                                        'ремонт'], 'quantity' : \n",
    "                           [6350, 4460, 4306, 4013, 2324, 1878, 607]})\n",
    "\n",
    "purpose_df"
   ]
  },
  {
   "cell_type": "code",
   "execution_count": 27,
   "metadata": {},
   "outputs": [],
   "source": [
    "#напишем и применим к датафрейму функцию, заменяющую слова в формулировке цели на их леммы\n",
    "def purpose_lemmas(row):\n",
    "    purpose_lemmas = m.lemmatize(row)\n",
    "    purpose_lemmas = ''.join(purpose_lemmas)\n",
    "    return purpose_lemmas.rstrip('\\n')\n",
    "    \n",
    "    \n",
    "solvency['purpose'] = solvency['purpose'].apply(purpose_lemmas)"
   ]
  },
  {
   "cell_type": "markdown",
   "metadata": {},
   "source": [
    "### Вывод"
   ]
  },
  {
   "cell_type": "markdown",
   "metadata": {},
   "source": [
    "В результате лемматизации мы получили список лемм-категорий с их весовыми значениями по целям взятия кредита.\n",
    "Выделили 7 основных категорий: недвижимость, жилье, покупка автомобиля, образование, организация свадьбы, строительство и проведение ремонта.\n",
    "Следует обратить внимание на группу недвижимость - жилье - строительство, поскольку недвижимость может быть как коммерческой, так и жилой, а строительство по конечному результату вложения денег эквивалентно покупке жилой недвижимости."
   ]
  },
  {
   "cell_type": "markdown",
   "metadata": {},
   "source": [
    "### Категоризация данных"
   ]
  },
  {
   "cell_type": "markdown",
   "metadata": {},
   "source": [
    "Для того, чтобы выполнить категоризацию по целям оформления кредита, выведем на экран полный список целей. Это поможет исключить дублирование целей, содержащих разные леммы:"
   ]
  },
  {
   "cell_type": "markdown",
   "metadata": {},
   "source": [
    "Для того, чтобы укрупнить группы целей взятия кредита, объединим 7 полученных выше целей в группы: недвижимость, жилье, строительство - объединим в группу \"недвижимость\", это наиболее затратная группа в плане финансов. А саму группу \"недвижимость\" разобъем на две подргуппы - жилая и коммерческая. Образование, ремонт и свадьбу оставим без изменений.\n"
   ]
  },
  {
   "cell_type": "code",
   "execution_count": 28,
   "metadata": {},
   "outputs": [
    {
     "data": {
      "text/plain": [
       "автомобиль                                972\n",
       "свадьба                                   791\n",
       "на проведение свадьба                     768\n",
       "сыграть свадьба                           765\n",
       "операция с недвижимость                   675\n",
       "покупка коммерческий недвижимость         661\n",
       "операция с жилье                          652\n",
       "покупка жилье для сдача                   651\n",
       "операция с коммерческий недвижимость      650\n",
       "жилье                                     646\n",
       "покупка жилье                             646\n",
       "покупка жилье для семья                   638\n",
       "строительство собственный недвижимость    635\n",
       "недвижимость                              633\n",
       "операция со свой недвижимость             627\n",
       "строительство жилой недвижимость          624\n",
       "покупка недвижимость                      621\n",
       "покупка свой жилье                        620\n",
       "строительство недвижимость                619\n",
       "ремонт жилье                              607\n",
       "покупка жилой недвижимость                605\n",
       "на покупка свой автомобиль                505\n",
       "заниматься высокий образование            496\n",
       "сделка с подержанный автомобиль           486\n",
       "свой автомобиль                           478\n",
       "на покупка подержать автомобиль           478\n",
       "на покупка автомобиль                     471\n",
       "приобретение автомобиль                   461\n",
       "дополнительный образование                460\n",
       "сделка с автомобиль                       455\n",
       "высокий образование                       452\n",
       "образование                               447\n",
       "получение дополнительный образование      446\n",
       "получение образование                     442\n",
       "профильный образование                    436\n",
       "получение высокий образование             426\n",
       "заниматься образование                    408\n",
       "Name: purpose, dtype: int64"
      ]
     },
     "execution_count": 28,
     "metadata": {},
     "output_type": "execute_result"
    }
   ],
   "source": [
    "solvency['purpose'].value_counts()"
   ]
  },
  {
   "cell_type": "markdown",
   "metadata": {},
   "source": [
    "Мы видим, что цель \"ремонт жилья\" содержит леммы \"ремонт\" и \"жилье\", при этом встречается 607 раз. \"Жилье\" встречается 4460 раз, а \"ремонт\" - 607 раз. Таким образом, лемма \"ремонт\" полностью включена во множество \"жилье\", и эту категорию можно удалить.\n",
    "Далее: лемма \"недвижимость\" самая распространенная, и встречается 6350 раз. При этом недвижимость делится на жилую и коммерческую. При этом лема \"коммерческий\" встречается только в связке с леммой \"недвижимость\", таким образом, мы можем выделить из общего объема недвижимости коммерческую, а остаток объединить с леммой \"жилье\".\n",
    "Лемма \"строительство\" также встречается только в связке с недвижимочстью, поэтому ее, как и \"ремонт\" можно исключить.\n",
    "\n",
    "Таким образом, все цели из нашего массива данных можно разделить на 5 категорий: жилая недвижимость, коммерческая недвижимость, свадьба, автомобиль, образование."
   ]
  },
  {
   "cell_type": "markdown",
   "metadata": {},
   "source": [
    "На основании сделанных выше заключений добавим в нашу изначальную таблицу столбец, в который поместим укрупненную категорию цели взятия кредита."
   ]
  },
  {
   "cell_type": "code",
   "execution_count": 29,
   "metadata": {},
   "outputs": [
    {
     "data": {
      "text/plain": [
       "array(['покупка жилье', 'приобретение автомобиль',\n",
       "       'дополнительный образование', 'сыграть свадьба',\n",
       "       'операция с жилье', 'образование', 'на проведение свадьба',\n",
       "       'покупка жилье для семья', 'покупка недвижимость',\n",
       "       'покупка коммерческий недвижимость', 'покупка жилой недвижимость',\n",
       "       'строительство собственный недвижимость', 'недвижимость',\n",
       "       'строительство недвижимость', 'на покупка подержать автомобиль',\n",
       "       'на покупка свой автомобиль',\n",
       "       'операция с коммерческий недвижимость',\n",
       "       'строительство жилой недвижимость', 'жилье',\n",
       "       'операция со свой недвижимость', 'автомобиль',\n",
       "       'заниматься образование', 'сделка с подержанный автомобиль',\n",
       "       'получение образование', 'свадьба',\n",
       "       'получение дополнительный образование', 'покупка свой жилье',\n",
       "       'операция с недвижимость', 'получение высокий образование',\n",
       "       'свой автомобиль', 'сделка с автомобиль', 'профильный образование',\n",
       "       'высокий образование', 'покупка жилье для сдача',\n",
       "       'на покупка автомобиль', 'ремонт жилье',\n",
       "       'заниматься высокий образование'], dtype=object)"
      ]
     },
     "execution_count": 29,
     "metadata": {},
     "output_type": "execute_result"
    }
   ],
   "source": [
    "solvency['purpose'].unique()"
   ]
  },
  {
   "cell_type": "markdown",
   "metadata": {},
   "source": [
    "Напишем функцию, которая заменит изначальное значение целей респондентов на укрупненные общие категории:"
   ]
  },
  {
   "cell_type": "code",
   "execution_count": 30,
   "metadata": {},
   "outputs": [
    {
     "data": {
      "text/plain": [
       "жилая недвижимость           9499\n",
       "автомобиль                   4306\n",
       "образование                  4013\n",
       "свадьба                      2324\n",
       "коммерческая недвижимость    1311\n",
       "Name: purpose, dtype: int64"
      ]
     },
     "execution_count": 30,
     "metadata": {},
     "output_type": "execute_result"
    }
   ],
   "source": [
    "def purpose_group(row):\n",
    "    #row = row['purpose']\n",
    "    if 'автомобиль' in row:\n",
    "        return 'автомобиль'\n",
    "    if 'свадьба' in row:\n",
    "        return 'свадьба'\n",
    "    if 'образование' in row:\n",
    "        return 'образование'\n",
    "    if 'недвижимость' or 'жилье 'in row:\n",
    "        if 'коммерческий' in row:\n",
    "            return 'коммерческая недвижимость'\n",
    "        return 'жилая недвижимость'\n",
    "    else:\n",
    "        return 'категория не определена'\n",
    "    \n",
    "solvency['purpose'] = solvency['purpose'].apply(purpose_group)\n",
    "solvency['purpose'].value_counts()"
   ]
  },
  {
   "cell_type": "markdown",
   "metadata": {},
   "source": [
    "<div class=\"alert alert-success\">\n",
    "<h2> Комментарий ревьюера </h2>\n",
    "\n",
    "Жирный плюс! Это один из сложнейших этапов проекта, справился на отлично\n",
    "\n",
    "</div>"
   ]
  },
  {
   "cell_type": "markdown",
   "metadata": {},
   "source": [
    "### Вывод"
   ]
  },
  {
   "cell_type": "markdown",
   "metadata": {},
   "source": [
    "В результате лемматизации целей взятия кредита и последующей категоризации полученных лемм, мы объединили все цели в 5 общих категорий: жилая недвижимость, автомобиль, образование, свадьба, коммерческая недвижимость."
   ]
  },
  {
   "cell_type": "markdown",
   "metadata": {},
   "source": [
    "### Шаг 3. Ответьте на вопросы"
   ]
  },
  {
   "cell_type": "markdown",
   "metadata": {},
   "source": [
    "- Есть ли зависимость между наличием детей и возвратом кредита в срок?"
   ]
  },
  {
   "cell_type": "markdown",
   "metadata": {},
   "source": [
    "Сперва выведем на экран уникальные значения нашего датасета по параметру \"количество детей:"
   ]
  },
  {
   "cell_type": "code",
   "execution_count": 31,
   "metadata": {},
   "outputs": [
    {
     "data": {
      "text/plain": [
       "array([ 1,  0,  3,  2, -1,  4, 20,  5])"
      ]
     },
     "execution_count": 31,
     "metadata": {},
     "output_type": "execute_result"
    }
   ],
   "source": [
    "solvency['children'].unique()"
   ]
  },
  {
   "cell_type": "markdown",
   "metadata": {},
   "source": [
    "Как мы видим, в данных имеется 8 уникальных значений, причем одно значение отрицательное. Заменим отрицательное значение на положительное, равное по модулю:"
   ]
  },
  {
   "cell_type": "code",
   "execution_count": 32,
   "metadata": {},
   "outputs": [],
   "source": [
    "solvency['children'] = solvency['children'].apply(abs) "
   ]
  },
  {
   "cell_type": "markdown",
   "metadata": {},
   "source": [
    "Проверим, не появилось ли в результате этого изменения новых дубликатов в данных:"
   ]
  },
  {
   "cell_type": "code",
   "execution_count": 33,
   "metadata": {},
   "outputs": [
    {
     "data": {
      "text/plain": [
       "children            0\n",
       "days_employed       0\n",
       "dob_years           0\n",
       "education           0\n",
       "education_id        0\n",
       "family_status       0\n",
       "family_status_id    0\n",
       "gender              0\n",
       "income_type         0\n",
       "debt                0\n",
       "total_income        0\n",
       "purpose             0\n",
       "dtype: int64"
      ]
     },
     "execution_count": 33,
     "metadata": {},
     "output_type": "execute_result"
    }
   ],
   "source": [
    "solvency.isna().sum()"
   ]
  },
  {
   "cell_type": "markdown",
   "metadata": {},
   "source": [
    "Дубликаты отсутствуют, продолжим обработку данных. Создадим датасет, в котором будут отражены в строках - количество детей, и в столбцах - количество респондентов с указанным количеством детей, а также количество респондентов, имеющих просрочки по кредитным платежам.\n",
    "\n",
    "После этого добавим столбец \"index\", в котором рассчитаем долю респондентов по каждой категории, не имеющих просрочки по платежам.\n",
    "\n",
    "Определим функцию children_function() и поместим код в тело функции."
   ]
  },
  {
   "cell_type": "code",
   "execution_count": 34,
   "metadata": {},
   "outputs": [
    {
     "data": {
      "text/html": [
       "<div>\n",
       "<style scoped>\n",
       "    .dataframe tbody tr th:only-of-type {\n",
       "        vertical-align: middle;\n",
       "    }\n",
       "\n",
       "    .dataframe tbody tr th {\n",
       "        vertical-align: top;\n",
       "    }\n",
       "\n",
       "    .dataframe thead th {\n",
       "        text-align: right;\n",
       "    }\n",
       "</style>\n",
       "<table border=\"1\" class=\"dataframe\">\n",
       "  <thead>\n",
       "    <tr style=\"text-align: right;\">\n",
       "      <th></th>\n",
       "      <th>children</th>\n",
       "      <th>summ</th>\n",
       "      <th>count</th>\n",
       "      <th>index</th>\n",
       "    </tr>\n",
       "  </thead>\n",
       "  <tbody>\n",
       "    <tr>\n",
       "      <td>0</td>\n",
       "      <td>0</td>\n",
       "      <td>1063</td>\n",
       "      <td>14090</td>\n",
       "      <td>0.924556</td>\n",
       "    </tr>\n",
       "    <tr>\n",
       "      <td>1</td>\n",
       "      <td>1</td>\n",
       "      <td>445</td>\n",
       "      <td>4855</td>\n",
       "      <td>0.908342</td>\n",
       "    </tr>\n",
       "    <tr>\n",
       "      <td>2</td>\n",
       "      <td>2</td>\n",
       "      <td>194</td>\n",
       "      <td>2052</td>\n",
       "      <td>0.905458</td>\n",
       "    </tr>\n",
       "    <tr>\n",
       "      <td>3</td>\n",
       "      <td>3</td>\n",
       "      <td>27</td>\n",
       "      <td>330</td>\n",
       "      <td>0.918182</td>\n",
       "    </tr>\n",
       "    <tr>\n",
       "      <td>4</td>\n",
       "      <td>4</td>\n",
       "      <td>4</td>\n",
       "      <td>41</td>\n",
       "      <td>0.902439</td>\n",
       "    </tr>\n",
       "    <tr>\n",
       "      <td>5</td>\n",
       "      <td>5</td>\n",
       "      <td>0</td>\n",
       "      <td>9</td>\n",
       "      <td>1.000000</td>\n",
       "    </tr>\n",
       "    <tr>\n",
       "      <td>6</td>\n",
       "      <td>20</td>\n",
       "      <td>8</td>\n",
       "      <td>76</td>\n",
       "      <td>0.894737</td>\n",
       "    </tr>\n",
       "  </tbody>\n",
       "</table>\n",
       "</div>"
      ],
      "text/plain": [
       "   children  summ  count     index\n",
       "0         0  1063  14090  0.924556\n",
       "1         1   445   4855  0.908342\n",
       "2         2   194   2052  0.905458\n",
       "3         3    27    330  0.918182\n",
       "4         4     4     41  0.902439\n",
       "5         5     0      9  1.000000\n",
       "6        20     8     76  0.894737"
      ]
     },
     "execution_count": 34,
     "metadata": {},
     "output_type": "execute_result"
    }
   ],
   "source": [
    "def children_function():\n",
    "    summ = solvency.groupby('children')['debt'].sum()\n",
    "    count = solvency.groupby('children')['debt'].count()\n",
    "    children_data = pd.DataFrame(data=dict(summ=summ, count=count)).reset_index()\n",
    "    children_data['index'] = 1 - children_data['summ'] / children_data['count']\n",
    "    return children_data\n",
    "    \n",
    "    \n",
    "    \n",
    "children_function()"
   ]
  },
  {
   "cell_type": "markdown",
   "metadata": {},
   "source": [
    "<div class=\"alert alert-success\">\n",
    "<h2> Комментарий ревьюера </h2>\n",
    "\n",
    "Класс, хорошая функция, сделай ее более универсальной, сделай возможность задавать столбец, по которому нужно делать группировку. Также чтобы не находить отдельно `sum`, `count`, используй конструкцию \n",
    "    \n",
    "    solvency.groupby('children', as_index=False).agg({'debt':'sum', 'gender': 'count'})#\n",
    "\n",
    "</div>"
   ]
  },
  {
   "cell_type": "code",
   "execution_count": 35,
   "metadata": {},
   "outputs": [
    {
     "name": "stdout",
     "output_type": "stream",
     "text": [
      "0.9188458490653988\n"
     ]
    }
   ],
   "source": [
    "#индекс, показывающий долю респондентов, выплативших кредитные платежи в срок по всей выборке\n",
    "general_debt_index = 1 - solvency['debt'].sum() / solvency['debt'].count()\n",
    "print(general_debt_index)"
   ]
  },
  {
   "cell_type": "markdown",
   "metadata": {},
   "source": [
    "Выше мы сгруппировали всех респондентов по количеству детей и рассчитали для каждой группы общее количество записей в ней (count) , а также количество зафиксированных просрочек кредитных платежей (summ). После чего вычислили для каждой группы индекс, характеризующий вероятность того, что платеж НЕ будет просрочен.\n",
    "\n",
    "Для сравнения также рассчитали этот индекс для всей совокупности в целом.\n",
    "\n",
    "Также вызывает вопросы последняя строка в таблице children - это респонденты, у которых 20 детей. Учитывая отсутствие строк, соответствующих количеству детей, равному 6, 7, и так далее, а также видное невооруженным глазом уменьшение количества респондентов при увеличении количества детей от 0 до 5, и расположение по этому параметру 20-детных между 3-детными и 4-детными, мы можем с большой долей вероятности предположить, что и здесь имеем дело с ошибкой в данных, вызванной некорректным вводом, и истинное значение для этих наблюдений по количеству детей равняется 2. Произведем соответствующие изменения:"
   ]
  },
  {
   "cell_type": "code",
   "execution_count": 36,
   "metadata": {},
   "outputs": [
    {
     "data": {
      "text/html": [
       "<div>\n",
       "<style scoped>\n",
       "    .dataframe tbody tr th:only-of-type {\n",
       "        vertical-align: middle;\n",
       "    }\n",
       "\n",
       "    .dataframe tbody tr th {\n",
       "        vertical-align: top;\n",
       "    }\n",
       "\n",
       "    .dataframe thead th {\n",
       "        text-align: right;\n",
       "    }\n",
       "</style>\n",
       "<table border=\"1\" class=\"dataframe\">\n",
       "  <thead>\n",
       "    <tr style=\"text-align: right;\">\n",
       "      <th></th>\n",
       "      <th>children</th>\n",
       "      <th>summ</th>\n",
       "      <th>count</th>\n",
       "      <th>index</th>\n",
       "    </tr>\n",
       "  </thead>\n",
       "  <tbody>\n",
       "    <tr>\n",
       "      <td>0</td>\n",
       "      <td>0</td>\n",
       "      <td>1063</td>\n",
       "      <td>14090</td>\n",
       "      <td>0.924556</td>\n",
       "    </tr>\n",
       "    <tr>\n",
       "      <td>1</td>\n",
       "      <td>1</td>\n",
       "      <td>445</td>\n",
       "      <td>4855</td>\n",
       "      <td>0.908342</td>\n",
       "    </tr>\n",
       "    <tr>\n",
       "      <td>2</td>\n",
       "      <td>2</td>\n",
       "      <td>202</td>\n",
       "      <td>2128</td>\n",
       "      <td>0.905075</td>\n",
       "    </tr>\n",
       "    <tr>\n",
       "      <td>3</td>\n",
       "      <td>3</td>\n",
       "      <td>27</td>\n",
       "      <td>330</td>\n",
       "      <td>0.918182</td>\n",
       "    </tr>\n",
       "    <tr>\n",
       "      <td>4</td>\n",
       "      <td>4</td>\n",
       "      <td>4</td>\n",
       "      <td>41</td>\n",
       "      <td>0.902439</td>\n",
       "    </tr>\n",
       "    <tr>\n",
       "      <td>5</td>\n",
       "      <td>5</td>\n",
       "      <td>0</td>\n",
       "      <td>9</td>\n",
       "      <td>1.000000</td>\n",
       "    </tr>\n",
       "  </tbody>\n",
       "</table>\n",
       "</div>"
      ],
      "text/plain": [
       "   children  summ  count     index\n",
       "0         0  1063  14090  0.924556\n",
       "1         1   445   4855  0.908342\n",
       "2         2   202   2128  0.905075\n",
       "3         3    27    330  0.918182\n",
       "4         4     4     41  0.902439\n",
       "5         5     0      9  1.000000"
      ]
     },
     "execution_count": 36,
     "metadata": {},
     "output_type": "execute_result"
    }
   ],
   "source": [
    "solvency['children'] = solvency['children'].replace(to_replace = 20, value = 2)\n",
    "children_function()"
   ]
  },
  {
   "cell_type": "markdown",
   "metadata": {},
   "source": [
    "<div class=\"alert alert-warning\">\n",
    "<h2> Комментарий ревьюера </h2>\n",
    "\n",
    "Очень правильное замечание и отлично применен метод `replace` для замены. При выполнении работы важно соблюдать структуру, которая дана в описании проекта, она поможет тебе построить последовательное исследование. Поэтому перенеси, пожалуйста, обработку аномальных значений во второй раздел.\n",
    "\n",
    "</div>"
   ]
  },
  {
   "cell_type": "markdown",
   "metadata": {},
   "source": [
    "В результате мы получили, что при общем индексе внесения в срок кредитного платежа, равном 0.919, индексы групп варьируются в интервале от 0.902 до 0.925 (для респондентов, имеющих 5 детей, индекс равен 1, однако это скорее является результатом недостаточной репрезентативности выборки: всего 9 наблюдений; при вероятности просрочки оплаты по кредиту менее, чем 1 к 10, отсутствие просрочек у 9 респондлентов из 9 не выходит за рамки общего правила)."
   ]
  },
  {
   "cell_type": "markdown",
   "metadata": {},
   "source": [
    "Между наличием (количеством) детей и возвратом отстуствует какая-либо зависимость. Вероятность внесения кредитных платежей в срок варьируется в диапазоне от 90,2% до 92,5%."
   ]
  },
  {
   "cell_type": "markdown",
   "metadata": {},
   "source": [
    "### Вывод"
   ]
  },
  {
   "cell_type": "markdown",
   "metadata": {},
   "source": [
    "Мы выяснили, что доля респондентов, не имеющих просрочек по кредитным платежам, одинакова для всех групп, объединенных по параметру \"количество детей\". Можно заключить, что количество детей никак не влияет на своевременность выплат по кредитам.\n",
    "\n",
    "Однако следует иметь в виду, что факт наличия детей сам по себе не является достаточным основанием для оценки платежеспособности. Несовершеннолетние дети требуют от своих родителей дополнительных расходов, тогда как взрослые дети, имеющие стабильный заработок, наоборот могут финансово помогать родителям. Для более точной оценки важно знать также принадлежность детей к группе \"несовершеннолетние\" или \"взрослые\"."
   ]
  },
  {
   "cell_type": "markdown",
   "metadata": {},
   "source": [
    "- Есть ли зависимость между семейным положением и возвратом кредита в срок?"
   ]
  },
  {
   "cell_type": "code",
   "execution_count": 37,
   "metadata": {},
   "outputs": [
    {
     "data": {
      "text/plain": [
       "array(['женат / замужем', 'гражданский брак', 'вдовец / вдова',\n",
       "       'в разводе', 'Не женат / не замужем'], dtype=object)"
      ]
     },
     "execution_count": 37,
     "metadata": {},
     "output_type": "execute_result"
    }
   ],
   "source": [
    "#выведем на экран все возможные уникальные значения параметра \"семейный статус\"\n",
    "solvency['family_status'].unique()"
   ]
  },
  {
   "cell_type": "markdown",
   "metadata": {},
   "source": [
    "Мы имеем 5 различных вариантов, однако за разными названиями скрывается одинаковая суть: нам важно, одинок человек, или нет, и не интересны подробности его личной жизни. Таким образом, можно выделить две укрупненные группы значений: \"одинокий\" и \"не одинокий\" (есть семья)."
   ]
  },
  {
   "cell_type": "code",
   "execution_count": 38,
   "metadata": {},
   "outputs": [
    {
     "data": {
      "text/plain": [
       "есть семья             16489\n",
       "одинокий / одинокая     4964\n",
       "Name: family_status, dtype: int64"
      ]
     },
     "execution_count": 38,
     "metadata": {},
     "output_type": "execute_result"
    }
   ],
   "source": [
    "def family_status_group(row):\n",
    "    #row = row['purpose']\n",
    "    if 'женат / замужем' in row:\n",
    "        return 'есть семья'\n",
    "    if 'гражданский брак' in row:\n",
    "        return 'есть семья'\n",
    "    if 'вдовец / вдова' in row:\n",
    "        return 'одинокий / одинокая'\n",
    "    if 'в разводе' in row:\n",
    "         return 'одинокий / одинокая'\n",
    "    if 'Не женат / не замужем' in row:\n",
    "         return 'одинокий / одинокая'    \n",
    "    else:\n",
    "        return 'ошибка в определении семейного статуса'\n",
    "    \n",
    "solvency['family_status'] = solvency['family_status'].apply(family_status_group)\n",
    "solvency['family_status'].value_counts()"
   ]
  },
  {
   "cell_type": "code",
   "execution_count": 39,
   "metadata": {},
   "outputs": [
    {
     "data": {
      "text/html": [
       "<div>\n",
       "<style scoped>\n",
       "    .dataframe tbody tr th:only-of-type {\n",
       "        vertical-align: middle;\n",
       "    }\n",
       "\n",
       "    .dataframe tbody tr th {\n",
       "        vertical-align: top;\n",
       "    }\n",
       "\n",
       "    .dataframe thead th {\n",
       "        text-align: right;\n",
       "    }\n",
       "</style>\n",
       "<table border=\"1\" class=\"dataframe\">\n",
       "  <thead>\n",
       "    <tr style=\"text-align: right;\">\n",
       "      <th></th>\n",
       "      <th>family_status</th>\n",
       "      <th>count</th>\n",
       "      <th>sum</th>\n",
       "      <th>index</th>\n",
       "      <th>delta%</th>\n",
       "    </tr>\n",
       "  </thead>\n",
       "  <tbody>\n",
       "    <tr>\n",
       "      <td>0</td>\n",
       "      <td>есть семья</td>\n",
       "      <td>16489</td>\n",
       "      <td>1319</td>\n",
       "      <td>0.920007</td>\n",
       "      <td>0.116143</td>\n",
       "    </tr>\n",
       "    <tr>\n",
       "      <td>1</td>\n",
       "      <td>одинокий / одинокая</td>\n",
       "      <td>4964</td>\n",
       "      <td>422</td>\n",
       "      <td>0.914988</td>\n",
       "      <td>-0.385794</td>\n",
       "    </tr>\n",
       "  </tbody>\n",
       "</table>\n",
       "</div>"
      ],
      "text/plain": [
       "         family_status  count   sum     index    delta%\n",
       "0           есть семья  16489  1319  0.920007  0.116143\n",
       "1  одинокий / одинокая   4964   422  0.914988 -0.385794"
      ]
     },
     "execution_count": 39,
     "metadata": {},
     "output_type": "execute_result"
    }
   ],
   "source": [
    "#соберем данные по семейному статусу в сводную таблицу:\n",
    "family_pivot = solvency.pivot_table(values='debt', index='family_status', aggfunc=(sum, 'count')).reset_index()\n",
    "family_pivot['index'] = 1 - family_pivot['sum'] / family_pivot['count']\n",
    "family_pivot['delta%'] = (family_pivot['index'] - general_debt_index)*100\n",
    "family_pivot"
   ]
  },
  {
   "cell_type": "markdown",
   "metadata": {},
   "source": [
    "### Вывод"
   ]
  },
  {
   "cell_type": "markdown",
   "metadata": {},
   "source": [
    "Мы видим, что индекс выплат по кредиту в срок для респондентов с семьями и одиноких респондентов составляет 0.92 и 0.915 соответственно, а отклонение от среднего индекса составляет 0.11% и 0.39% соответственно.\n",
    "Таким образом, и в данном случае можно говорить об отсутствии взаимосвязи между семейным положением и вероятностью того, что платеж по кредиту будет просрочен."
   ]
  },
  {
   "cell_type": "markdown",
   "metadata": {},
   "source": [
    "- Есть ли зависимость между уровнем дохода и возвратом кредита в срок?"
   ]
  },
  {
   "cell_type": "markdown",
   "metadata": {},
   "source": [
    "Наше изначальное предположение состояло в том, что доход является фактором, сильнее всего влияющим на вероятность просрочки платежа по кредиту. Исходя из предыдущих выводов может оказаться, что доход будет единственным значимым фактором. Проверим наше предположение:"
   ]
  },
  {
   "cell_type": "code",
   "execution_count": 40,
   "metadata": {},
   "outputs": [
    {
     "name": "stdout",
     "output_type": "stream",
     "text": [
      "Максимальный доход:  2265604\n",
      "Минимальный доход:  20667\n",
      "Средний доход:  167416\n",
      "Медианный доход:  151876\n"
     ]
    }
   ],
   "source": [
    "ma = solvency['total_income'].max()\n",
    "mi = solvency['total_income'].min()\n",
    "me = int(solvency['total_income'].mean())\n",
    "med = int(solvency['total_income'].median())\n",
    "\n",
    "print('Максимальный доход: ', ma)\n",
    "print('Минимальный доход: ', mi)\n",
    "print('Средний доход: ', me)\n",
    "print('Медианный доход: ', med)"
   ]
  },
  {
   "cell_type": "code",
   "execution_count": 41,
   "metadata": {},
   "outputs": [],
   "source": [
    "#в случае необходимости с помощью кода ниже можно посмотреть на записи, соответствующие\n",
    "#самым высоким и самым низким доходам\n",
    "\n",
    "#solvency.sort_values(by='total_income', ascending=False).head()\n",
    "#solvency.sort_values(by='total_income', ascending=False).tail()"
   ]
  },
  {
   "cell_type": "markdown",
   "metadata": {},
   "source": [
    "Ежемесячный доход в нашей выборке варьируется в диапазоне от 20 667 до 2 265 604. Разделим наших респондентов на 5 категорий по доходу: от 20 до 50 тыс., от 50 до 100, от 100 до 300, от 300 до 1 млн., и от 1 млн. до 2 млн. 500 тыс."
   ]
  },
  {
   "cell_type": "code",
   "execution_count": 42,
   "metadata": {},
   "outputs": [
    {
     "data": {
      "text/plain": [
       "100 000 - 300 000        15508\n",
       "50 000 - 100 000          4091\n",
       "300 000 - 1 000 000       1457\n",
       "20 000 - 50 000            372\n",
       "1 000 000 - 2 500 000       25\n",
       "Name: income_group, dtype: int64"
      ]
     },
     "execution_count": 42,
     "metadata": {},
     "output_type": "execute_result"
    }
   ],
   "source": [
    "def income_group(row):\n",
    "    #row = row['purpose']\n",
    "    if row >=20000 and row < 50000:\n",
    "        return '20 000 - 50 000'\n",
    "    if row >=50000 and row < 100000:\n",
    "        return '50 000 - 100 000'\n",
    "    if row >=100000 and row < 300000:\n",
    "        return '100 000 - 300 000'  \n",
    "    if row >=300000 and row < 1000000:\n",
    "        return '300 000 - 1 000 000'\n",
    "    if row >=1000000 and row < 2500000:\n",
    "        return '1 000 000 - 2 500 000'\n",
    "    else:\n",
    "        return 'категория дохода не определена'\n",
    "    \n",
    "solvency['income_group'] = solvency['total_income']\n",
    "solvency['income_group'] = solvency['income_group'].apply(income_group)\n",
    "solvency['income_group'].value_counts()"
   ]
  },
  {
   "cell_type": "markdown",
   "metadata": {},
   "source": [
    "<div class=\"alert alert-success\">\n",
    "<h2> Комментарий ревьюера </h2>\n",
    "\n",
    "Здесь, кстати для деления по доходу можно было применить метод [cut](https://pandas.pydata.org/pandas-docs/stable/reference/api/pandas.cut.html) или [qcut](https://pandas.pydata.org/pandas-docs/stable/reference/api/pandas.qcut.html)(в этом случае деление будет проводиться по проценилям). Обрати внимание, у данного метода есть параметр `labels`, так можно оформить группы красивее 😊\n",
    "\n",
    "</div>"
   ]
  },
  {
   "cell_type": "code",
   "execution_count": 43,
   "metadata": {},
   "outputs": [
    {
     "data": {
      "text/html": [
       "<div>\n",
       "<style scoped>\n",
       "    .dataframe tbody tr th:only-of-type {\n",
       "        vertical-align: middle;\n",
       "    }\n",
       "\n",
       "    .dataframe tbody tr th {\n",
       "        vertical-align: top;\n",
       "    }\n",
       "\n",
       "    .dataframe thead th {\n",
       "        text-align: right;\n",
       "    }\n",
       "</style>\n",
       "<table border=\"1\" class=\"dataframe\">\n",
       "  <thead>\n",
       "    <tr style=\"text-align: right;\">\n",
       "      <th></th>\n",
       "      <th>income_group</th>\n",
       "      <th>count</th>\n",
       "      <th>sum</th>\n",
       "      <th>index</th>\n",
       "      <th>delta%</th>\n",
       "    </tr>\n",
       "  </thead>\n",
       "  <tbody>\n",
       "    <tr>\n",
       "      <td>0</td>\n",
       "      <td>1 000 000 - 2 500 000</td>\n",
       "      <td>25</td>\n",
       "      <td>2</td>\n",
       "      <td>0.920000</td>\n",
       "      <td>0.115415</td>\n",
       "    </tr>\n",
       "    <tr>\n",
       "      <td>1</td>\n",
       "      <td>100 000 - 300 000</td>\n",
       "      <td>15508</td>\n",
       "      <td>1281</td>\n",
       "      <td>0.917397</td>\n",
       "      <td>-0.144838</td>\n",
       "    </tr>\n",
       "    <tr>\n",
       "      <td>2</td>\n",
       "      <td>20 000 - 50 000</td>\n",
       "      <td>372</td>\n",
       "      <td>23</td>\n",
       "      <td>0.938172</td>\n",
       "      <td>1.932619</td>\n",
       "    </tr>\n",
       "    <tr>\n",
       "      <td>3</td>\n",
       "      <td>300 000 - 1 000 000</td>\n",
       "      <td>1457</td>\n",
       "      <td>104</td>\n",
       "      <td>0.928620</td>\n",
       "      <td>0.977460</td>\n",
       "    </tr>\n",
       "    <tr>\n",
       "      <td>4</td>\n",
       "      <td>50 000 - 100 000</td>\n",
       "      <td>4091</td>\n",
       "      <td>331</td>\n",
       "      <td>0.919091</td>\n",
       "      <td>0.024484</td>\n",
       "    </tr>\n",
       "  </tbody>\n",
       "</table>\n",
       "</div>"
      ],
      "text/plain": [
       "            income_group  count   sum     index    delta%\n",
       "0  1 000 000 - 2 500 000     25     2  0.920000  0.115415\n",
       "1      100 000 - 300 000  15508  1281  0.917397 -0.144838\n",
       "2        20 000 - 50 000    372    23  0.938172  1.932619\n",
       "3    300 000 - 1 000 000   1457   104  0.928620  0.977460\n",
       "4       50 000 - 100 000   4091   331  0.919091  0.024484"
      ]
     },
     "execution_count": 43,
     "metadata": {},
     "output_type": "execute_result"
    }
   ],
   "source": [
    "#создадим сводную таблицу по группам дохода, отобразим в ней общее количество респондентов, \n",
    "#количество просрочек по платежам, индекс вероятности внесения платежа в срок и\n",
    "#отклонения от среднего индекса (в процентах)\n",
    "income_pivot = solvency.pivot_table(values='debt', index='income_group', aggfunc=(sum, 'count')).reset_index()\n",
    "income_pivot['index'] = 1 - income_pivot['sum'] / income_pivot['count']\n",
    "income_pivot['delta%'] = (income_pivot['index'] - general_debt_index)*100\n",
    "income_pivot"
   ]
  },
  {
   "cell_type": "markdown",
   "metadata": {},
   "source": [
    "### Вывод"
   ]
  },
  {
   "cell_type": "markdown",
   "metadata": {},
   "source": [
    "По выбранным 5 категориям дохода индекс вероятности внесения платежа по кредиту в срок варьируется в диапазоне от 0.917 до 0.938, а максимальное отклонение от среднего значения составляет 1,93%.\n",
    "\n",
    "Таким образом, наше первоначальное предположение не подтвердилось,  и на деле доход (категория дохода) не имеет значимого влияния на вероятность выплаты по кредиту в срок."
   ]
  },
  {
   "cell_type": "markdown",
   "metadata": {},
   "source": [
    "- Как разные цели кредита влияют на его возврат в срок?"
   ]
  },
  {
   "cell_type": "markdown",
   "metadata": {},
   "source": [
    "Создадим сводную таблицу на основании результатов, полученных после категоризации данных:"
   ]
  },
  {
   "cell_type": "code",
   "execution_count": 44,
   "metadata": {},
   "outputs": [
    {
     "data": {
      "text/html": [
       "<div>\n",
       "<style scoped>\n",
       "    .dataframe tbody tr th:only-of-type {\n",
       "        vertical-align: middle;\n",
       "    }\n",
       "\n",
       "    .dataframe tbody tr th {\n",
       "        vertical-align: top;\n",
       "    }\n",
       "\n",
       "    .dataframe thead th {\n",
       "        text-align: right;\n",
       "    }\n",
       "</style>\n",
       "<table border=\"1\" class=\"dataframe\">\n",
       "  <thead>\n",
       "    <tr style=\"text-align: right;\">\n",
       "      <th></th>\n",
       "      <th>purpose</th>\n",
       "      <th>count</th>\n",
       "      <th>sum</th>\n",
       "      <th>index</th>\n",
       "      <th>delta%</th>\n",
       "    </tr>\n",
       "  </thead>\n",
       "  <tbody>\n",
       "    <tr>\n",
       "      <td>0</td>\n",
       "      <td>автомобиль</td>\n",
       "      <td>4306</td>\n",
       "      <td>403</td>\n",
       "      <td>0.906410</td>\n",
       "      <td>-1.243619</td>\n",
       "    </tr>\n",
       "    <tr>\n",
       "      <td>1</td>\n",
       "      <td>жилая недвижимость</td>\n",
       "      <td>9499</td>\n",
       "      <td>683</td>\n",
       "      <td>0.928098</td>\n",
       "      <td>0.925185</td>\n",
       "    </tr>\n",
       "    <tr>\n",
       "      <td>2</td>\n",
       "      <td>коммерческая недвижимость</td>\n",
       "      <td>1311</td>\n",
       "      <td>99</td>\n",
       "      <td>0.924485</td>\n",
       "      <td>0.563928</td>\n",
       "    </tr>\n",
       "    <tr>\n",
       "      <td>3</td>\n",
       "      <td>образование</td>\n",
       "      <td>4013</td>\n",
       "      <td>370</td>\n",
       "      <td>0.907800</td>\n",
       "      <td>-1.104620</td>\n",
       "    </tr>\n",
       "    <tr>\n",
       "      <td>4</td>\n",
       "      <td>свадьба</td>\n",
       "      <td>2324</td>\n",
       "      <td>186</td>\n",
       "      <td>0.919966</td>\n",
       "      <td>0.111973</td>\n",
       "    </tr>\n",
       "  </tbody>\n",
       "</table>\n",
       "</div>"
      ],
      "text/plain": [
       "                     purpose  count  sum     index    delta%\n",
       "0                 автомобиль   4306  403  0.906410 -1.243619\n",
       "1         жилая недвижимость   9499  683  0.928098  0.925185\n",
       "2  коммерческая недвижимость   1311   99  0.924485  0.563928\n",
       "3                образование   4013  370  0.907800 -1.104620\n",
       "4                    свадьба   2324  186  0.919966  0.111973"
      ]
     },
     "execution_count": 44,
     "metadata": {},
     "output_type": "execute_result"
    }
   ],
   "source": [
    "purpose_pivot = solvency.pivot_table(values='debt', index='purpose', aggfunc=(sum, 'count')).reset_index()\n",
    "purpose_pivot['index'] = 1 - purpose_pivot['sum'] / purpose_pivot['count']\n",
    "purpose_pivot['delta%'] = (purpose_pivot['index'] - general_debt_index)*100\n",
    "purpose_pivot"
   ]
  },
  {
   "cell_type": "markdown",
   "metadata": {},
   "source": [
    "<div class=\"alert alert-success\">\n",
    "<h2> Комментарий ревьюера </h2>\n",
    "\n",
    "Супер, молодец, что умеешь пользовать и `pivot_table` тоже. \n",
    "\n",
    "</div>"
   ]
  },
  {
   "cell_type": "markdown",
   "metadata": {},
   "source": [
    "### Вывод"
   ]
  },
  {
   "cell_type": "markdown",
   "metadata": {},
   "source": [
    "Как мы видим, по категориям целей индекс совершения кредитного платежа в срок варьируется от 0.906 до 0.928, а максимальное среди категорий отклонение от среднего по всей выборке индекса составляет 1,24%.\n",
    "На основании полученных данных можно заключить, что цель взятия кредита также не влияет в сколько-нибудь ощутимой степени на пунктуальность дебиторов при внесении кредитных платежей."
   ]
  },
  {
   "cell_type": "markdown",
   "metadata": {},
   "source": [
    "### Шаг 4. Общий вывод"
   ]
  },
  {
   "cell_type": "markdown",
   "metadata": {},
   "source": [
    "Соберем для наглядности полученные выводы по вопросам Шага №3 в таблицу:\n"
   ]
  },
  {
   "cell_type": "code",
   "execution_count": 45,
   "metadata": {},
   "outputs": [
    {
     "data": {
      "text/html": [
       "<div>\n",
       "<style scoped>\n",
       "    .dataframe tbody tr th:only-of-type {\n",
       "        vertical-align: middle;\n",
       "    }\n",
       "\n",
       "    .dataframe tbody tr th {\n",
       "        vertical-align: top;\n",
       "    }\n",
       "\n",
       "    .dataframe thead th {\n",
       "        text-align: right;\n",
       "    }\n",
       "</style>\n",
       "<table border=\"1\" class=\"dataframe\">\n",
       "  <thead>\n",
       "    <tr style=\"text-align: right;\">\n",
       "      <th></th>\n",
       "      <th>factor</th>\n",
       "      <th>max_index</th>\n",
       "      <th>min_index</th>\n",
       "    </tr>\n",
       "  </thead>\n",
       "  <tbody>\n",
       "    <tr>\n",
       "      <td>0</td>\n",
       "      <td>children</td>\n",
       "      <td>92.5</td>\n",
       "      <td>90.2</td>\n",
       "    </tr>\n",
       "    <tr>\n",
       "      <td>1</td>\n",
       "      <td>family_status</td>\n",
       "      <td>92.0</td>\n",
       "      <td>91.5</td>\n",
       "    </tr>\n",
       "    <tr>\n",
       "      <td>2</td>\n",
       "      <td>total_income</td>\n",
       "      <td>92.9</td>\n",
       "      <td>91.7</td>\n",
       "    </tr>\n",
       "    <tr>\n",
       "      <td>3</td>\n",
       "      <td>purpose</td>\n",
       "      <td>92.8</td>\n",
       "      <td>90.6</td>\n",
       "    </tr>\n",
       "  </tbody>\n",
       "</table>\n",
       "</div>"
      ],
      "text/plain": [
       "          factor  max_index  min_index\n",
       "0       children       92.5       90.2\n",
       "1  family_status       92.0       91.5\n",
       "2   total_income       92.9       91.7\n",
       "3        purpose       92.8       90.6"
      ]
     },
     "execution_count": 45,
     "metadata": {},
     "output_type": "execute_result"
    }
   ],
   "source": [
    "factor_list = [['children', 92.5, 90.2], \n",
    "               ['family_status', 92.0, 91.5], \n",
    "               ['total_income', 92.9, 91.7], \n",
    "               ['purpose', 92.8, 90.6]]\n",
    "final_table = pd.DataFrame(factor_list, columns = ['factor', 'max_index', 'min_index'])\n",
    "final_table"
   ]
  },
  {
   "cell_type": "markdown",
   "metadata": {},
   "source": [
    "Как мы видим, по четырем параметрам оценки (наличие детей, семейное положение, ежемесячный доход и цели взятия кредита) фактически отсутствует дифференциация по вероятности своевременных выплат по кредиту. Минимальное значение вероятности составляет 90.2% (у респондента четверо детей), максимальное - 92.9% (у респондента ежемесячный доход в диапазоне от 300 тысяч до 1 млн.), но в целом можно говорить о том, что ни один из проанализированных параметров не влияет в значительной степени на выплату кредитных платежей в срок.\n",
    "\n",
    "Также можно сделать вывод, что для всех категорий параметров и для выборки в целом 9 из 10 респондентов вносят платежи по кредиту в срок, и только 1 респондент из 10 имеет просрочки по кредитным платежам."
   ]
  },
  {
   "cell_type": "markdown",
   "metadata": {},
   "source": [
    "### Чек-лист готовности проекта\n",
    "\n",
    "Поставьте 'x' в выполненных пунктах. Далее нажмите Shift+Enter."
   ]
  },
  {
   "cell_type": "markdown",
   "metadata": {},
   "source": [
    "- [x]  открыт файл;\n",
    "- [ ]  файл изучен;\n",
    "- [ ]  определены пропущенные значения;\n",
    "- [ ]  заполнены пропущенные значения;\n",
    "- [ ]  есть пояснение, какие пропущенные значения обнаружены;\n",
    "- [ ]  описаны возможные причины появления пропусков в данных;\n",
    "- [ ]  объяснено, по какому принципу заполнены пропуски;\n",
    "- [ ]  заменен вещественный тип данных на целочисленный;\n",
    "- [ ]  есть пояснение, какой метод используется для изменения типа данных и почему;\n",
    "- [ ]  удалены дубликаты;\n",
    "- [ ]  есть пояснение, какой метод используется для поиска и удаления дубликатов;\n",
    "- [ ]  описаны возможные причины появления дубликатов в данных;\n",
    "- [ ]  выделены леммы в значениях столбца с целями получения кредита;\n",
    "- [ ]  описан процесс лемматизации;\n",
    "- [ ]  данные категоризированы;\n",
    "- [ ]  есть объяснение принципа категоризации данных;\n",
    "- [ ]  есть ответ на вопрос: \"Есть ли зависимость между наличием детей и возвратом кредита в срок?\";\n",
    "- [ ]  есть ответ на вопрос: \"Есть ли зависимость между семейным положением и возвратом кредита в срок?\";\n",
    "- [ ]  есть ответ на вопрос: \"Есть ли зависимость между уровнем дохода и возвратом кредита в срок?\";\n",
    "- [ ]  есть ответ на вопрос: \"Как разные цели кредита влияют на его возврат в срок?\";\n",
    "- [ ]  в каждом этапе есть выводы;\n",
    "- [ ]  есть общий вывод."
   ]
  },
  {
   "cell_type": "code",
   "execution_count": null,
   "metadata": {},
   "outputs": [],
   "source": []
  }
 ],
 "metadata": {
  "kernelspec": {
   "display_name": "Python 3",
   "language": "python",
   "name": "python3"
  },
  "language_info": {
   "codemirror_mode": {
    "name": "ipython",
    "version": 3
   },
   "file_extension": ".py",
   "mimetype": "text/x-python",
   "name": "python",
   "nbconvert_exporter": "python",
   "pygments_lexer": "ipython3",
   "version": "3.7.8"
  },
  "toc": {
   "base_numbering": 1,
   "nav_menu": {},
   "number_sections": true,
   "sideBar": true,
   "skip_h1_title": true,
   "title_cell": "Table of Contents",
   "title_sidebar": "Contents",
   "toc_cell": false,
   "toc_position": {},
   "toc_section_display": true,
   "toc_window_display": false
  }
 },
 "nbformat": 4,
 "nbformat_minor": 2
}
