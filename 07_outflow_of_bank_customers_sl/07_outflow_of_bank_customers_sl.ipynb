{
 "cells": [
  {
   "cell_type": "markdown",
   "metadata": {},
   "source": [
    "# Предсказание оттока клиентов банка"
   ]
  },
  {
   "cell_type": "markdown",
   "metadata": {},
   "source": [
    "# Описание задачи"
   ]
  },
  {
   "cell_type": "markdown",
   "metadata": {},
   "source": [
    "Из «Бета-Банка» стали уходить клиенты. Каждый месяц. Немного, но заметно. Банковские маркетологи посчитали: сохранять текущих клиентов дешевле, чем привлекать новых.\n",
    "\n",
    "Необходимо спрогнозировать, уйдёт клиент из банка в ближайшее время или нет. В нашем распоряжении исторические данные о поведении клиентов и расторжении договоров с банком. \n",
    "\n",
    "Построим модель с предельно большим значением *F1*-меры. Доведем метрику до значения не менее 0.59. \n",
    "\n",
    "Дополнительно измерим *AUC-ROC*, сравним её значение с *F1*-мерой.\n",
    "\n",
    "Источник данных: [https://www.kaggle.com/barelydedicated/bank-customer-churn-modeling](https://www.kaggle.com/barelydedicated/bank-customer-churn-modeling)"
   ]
  },
  {
   "cell_type": "markdown",
   "metadata": {},
   "source": [
    "# Подготовка данных"
   ]
  },
  {
   "cell_type": "code",
   "execution_count": 1,
   "metadata": {},
   "outputs": [],
   "source": [
    "# импортируем все необходимые модули и библиотеки\n",
    "import pandas as pd\n",
    "import numpy as np\n",
    "from random import randint\n",
    "import math\n",
    "from sklearn.tree import DecisionTreeClassifier\n",
    "from sklearn.ensemble import RandomForestClassifier\n",
    "from sklearn.linear_model import LogisticRegression\n",
    "from sklearn.model_selection import train_test_split as tts\n",
    "from sklearn.metrics import accuracy_score\n",
    "from sklearn.metrics import recall_score\n",
    "from sklearn.metrics import precision_score\n",
    "from sklearn.metrics import f1_score\n",
    "from sklearn.metrics import roc_auc_score\n",
    "from sklearn.utils import shuffle\n",
    "from sklearn.metrics import roc_curve\n",
    "from sklearn.metrics import r2_score\n",
    "import seaborn as sns\n",
    "from matplotlib import pyplot as plt"
   ]
  },
  {
   "cell_type": "code",
   "execution_count": 2,
   "metadata": {},
   "outputs": [],
   "source": [
    "# обозначим значение random_state\n",
    "rs = 503350"
   ]
  },
  {
   "cell_type": "markdown",
   "metadata": {},
   "source": [
    "Создадим датафрейм `df` и запишем в него имеющиеся у нас данные."
   ]
  },
  {
   "cell_type": "code",
   "execution_count": 3,
   "metadata": {},
   "outputs": [],
   "source": [
    "df = pd.read_csv('C:\\\\Users\\\\503so\\\\OneDrive\\\\Desktop\\\\praktikum-to-git\\\\07_churn.csv')"
   ]
  },
  {
   "cell_type": "markdown",
   "metadata": {},
   "source": [
    "Выведем на экран размерность и первые 5 строк датафрейма."
   ]
  },
  {
   "cell_type": "code",
   "execution_count": 4,
   "metadata": {},
   "outputs": [
    {
     "name": "stdout",
     "output_type": "stream",
     "text": [
      "(10000, 14)\n"
     ]
    },
    {
     "data": {
      "text/html": [
       "<div>\n",
       "<style scoped>\n",
       "    .dataframe tbody tr th:only-of-type {\n",
       "        vertical-align: middle;\n",
       "    }\n",
       "\n",
       "    .dataframe tbody tr th {\n",
       "        vertical-align: top;\n",
       "    }\n",
       "\n",
       "    .dataframe thead th {\n",
       "        text-align: right;\n",
       "    }\n",
       "</style>\n",
       "<table border=\"1\" class=\"dataframe\">\n",
       "  <thead>\n",
       "    <tr style=\"text-align: right;\">\n",
       "      <th></th>\n",
       "      <th>RowNumber</th>\n",
       "      <th>CustomerId</th>\n",
       "      <th>Surname</th>\n",
       "      <th>CreditScore</th>\n",
       "      <th>Geography</th>\n",
       "      <th>Gender</th>\n",
       "      <th>Age</th>\n",
       "      <th>Tenure</th>\n",
       "      <th>Balance</th>\n",
       "      <th>NumOfProducts</th>\n",
       "      <th>HasCrCard</th>\n",
       "      <th>IsActiveMember</th>\n",
       "      <th>EstimatedSalary</th>\n",
       "      <th>Exited</th>\n",
       "    </tr>\n",
       "  </thead>\n",
       "  <tbody>\n",
       "    <tr>\n",
       "      <td>0</td>\n",
       "      <td>1</td>\n",
       "      <td>15634602</td>\n",
       "      <td>Hargrave</td>\n",
       "      <td>619</td>\n",
       "      <td>France</td>\n",
       "      <td>Female</td>\n",
       "      <td>42</td>\n",
       "      <td>2.0</td>\n",
       "      <td>0.00</td>\n",
       "      <td>1</td>\n",
       "      <td>1</td>\n",
       "      <td>1</td>\n",
       "      <td>101348.88</td>\n",
       "      <td>1</td>\n",
       "    </tr>\n",
       "    <tr>\n",
       "      <td>1</td>\n",
       "      <td>2</td>\n",
       "      <td>15647311</td>\n",
       "      <td>Hill</td>\n",
       "      <td>608</td>\n",
       "      <td>Spain</td>\n",
       "      <td>Female</td>\n",
       "      <td>41</td>\n",
       "      <td>1.0</td>\n",
       "      <td>83807.86</td>\n",
       "      <td>1</td>\n",
       "      <td>0</td>\n",
       "      <td>1</td>\n",
       "      <td>112542.58</td>\n",
       "      <td>0</td>\n",
       "    </tr>\n",
       "    <tr>\n",
       "      <td>2</td>\n",
       "      <td>3</td>\n",
       "      <td>15619304</td>\n",
       "      <td>Onio</td>\n",
       "      <td>502</td>\n",
       "      <td>France</td>\n",
       "      <td>Female</td>\n",
       "      <td>42</td>\n",
       "      <td>8.0</td>\n",
       "      <td>159660.80</td>\n",
       "      <td>3</td>\n",
       "      <td>1</td>\n",
       "      <td>0</td>\n",
       "      <td>113931.57</td>\n",
       "      <td>1</td>\n",
       "    </tr>\n",
       "    <tr>\n",
       "      <td>3</td>\n",
       "      <td>4</td>\n",
       "      <td>15701354</td>\n",
       "      <td>Boni</td>\n",
       "      <td>699</td>\n",
       "      <td>France</td>\n",
       "      <td>Female</td>\n",
       "      <td>39</td>\n",
       "      <td>1.0</td>\n",
       "      <td>0.00</td>\n",
       "      <td>2</td>\n",
       "      <td>0</td>\n",
       "      <td>0</td>\n",
       "      <td>93826.63</td>\n",
       "      <td>0</td>\n",
       "    </tr>\n",
       "    <tr>\n",
       "      <td>4</td>\n",
       "      <td>5</td>\n",
       "      <td>15737888</td>\n",
       "      <td>Mitchell</td>\n",
       "      <td>850</td>\n",
       "      <td>Spain</td>\n",
       "      <td>Female</td>\n",
       "      <td>43</td>\n",
       "      <td>2.0</td>\n",
       "      <td>125510.82</td>\n",
       "      <td>1</td>\n",
       "      <td>1</td>\n",
       "      <td>1</td>\n",
       "      <td>79084.10</td>\n",
       "      <td>0</td>\n",
       "    </tr>\n",
       "  </tbody>\n",
       "</table>\n",
       "</div>"
      ],
      "text/plain": [
       "   RowNumber  CustomerId   Surname  CreditScore Geography  Gender  Age  \\\n",
       "0          1    15634602  Hargrave          619    France  Female   42   \n",
       "1          2    15647311      Hill          608     Spain  Female   41   \n",
       "2          3    15619304      Onio          502    France  Female   42   \n",
       "3          4    15701354      Boni          699    France  Female   39   \n",
       "4          5    15737888  Mitchell          850     Spain  Female   43   \n",
       "\n",
       "   Tenure    Balance  NumOfProducts  HasCrCard  IsActiveMember  \\\n",
       "0     2.0       0.00              1          1               1   \n",
       "1     1.0   83807.86              1          0               1   \n",
       "2     8.0  159660.80              3          1               0   \n",
       "3     1.0       0.00              2          0               0   \n",
       "4     2.0  125510.82              1          1               1   \n",
       "\n",
       "   EstimatedSalary  Exited  \n",
       "0        101348.88       1  \n",
       "1        112542.58       0  \n",
       "2        113931.57       1  \n",
       "3         93826.63       0  \n",
       "4         79084.10       0  "
      ]
     },
     "execution_count": 4,
     "metadata": {},
     "output_type": "execute_result"
    }
   ],
   "source": [
    "print(df.shape)\n",
    "df.head()"
   ]
  },
  {
   "cell_type": "markdown",
   "metadata": {},
   "source": [
    "Проверим датафрейм на пропуски."
   ]
  },
  {
   "cell_type": "code",
   "execution_count": 5,
   "metadata": {},
   "outputs": [
    {
     "data": {
      "text/plain": [
       "RowNumber            0\n",
       "CustomerId           0\n",
       "Surname              0\n",
       "CreditScore          0\n",
       "Geography            0\n",
       "Gender               0\n",
       "Age                  0\n",
       "Tenure             909\n",
       "Balance              0\n",
       "NumOfProducts        0\n",
       "HasCrCard            0\n",
       "IsActiveMember       0\n",
       "EstimatedSalary      0\n",
       "Exited               0\n",
       "dtype: int64"
      ]
     },
     "execution_count": 5,
     "metadata": {},
     "output_type": "execute_result"
    }
   ],
   "source": [
    "df.isna().sum()"
   ]
  },
  {
   "cell_type": "markdown",
   "metadata": {},
   "source": [
    "Пропуски наблюдаются в значениях всего одного из параметров в количестве 909 (чуть больше 9% от общего объема)."
   ]
  },
  {
   "cell_type": "markdown",
   "metadata": {},
   "source": [
    "Данные представляют собой 10000 объектов (строк), обладающих 14 признаками (столбцами).\n",
    "Остановимся подробнее на признаках."
   ]
  },
  {
   "cell_type": "markdown",
   "metadata": {},
   "source": [
    "- **Признаки:**\n",
    "\n",
    "    1. **RowNumber** — индекс строки в данных\n",
    "    2. **CustomerId** — уникальный идентификатор клиента\n",
    "    3. **Surname** — фамилия\n",
    "    4. **CreditScore** — кредитный рейтинг\n",
    "    5. **Geography** — страна проживания\n",
    "    6. **Gender** — пол\n",
    "    7. **Age** — возраст\n",
    "    8. **Tenure** — количество недвижимости у клиента\n",
    "    9. **Balance** — баланс на счёте\n",
    "    10. **NumOfProducts** — количество продуктов банка, используемых клиентом\n",
    "    11. **HasCrCard** — наличие кредитной карты\n",
    "    12. **IsActiveMember** — активность клиента\n",
    "    13. **EstimatedSalary** — предполагаемая зарплата\n",
    "\n",
    "\n",
    "- **Целевой признак**\n",
    "\n",
    "    14. **Exited** — факт ухода клиента"
   ]
  },
  {
   "cell_type": "markdown",
   "metadata": {},
   "source": [
    "Остановимся подробнее на некоторых признаках."
   ]
  },
  {
   "cell_type": "code",
   "execution_count": 6,
   "metadata": {},
   "outputs": [
    {
     "data": {
      "text/plain": [
       "Male      5457\n",
       "Female    4543\n",
       "Name: Gender, dtype: int64"
      ]
     },
     "execution_count": 6,
     "metadata": {},
     "output_type": "execute_result"
    }
   ],
   "source": [
    "df['Gender'].value_counts()"
   ]
  },
  {
   "cell_type": "markdown",
   "metadata": {},
   "source": [
    "В столбце `\"пол\"` представлены всего 2 значения: **\"male\"** и **\"female\"**. \n",
    "\n",
    "\"*Посторонних*\" значений нет."
   ]
  },
  {
   "cell_type": "code",
   "execution_count": 7,
   "metadata": {},
   "outputs": [
    {
     "name": "stdout",
     "output_type": "stream",
     "text": [
      "Возраст клиентов банка: от 18 до 92\n"
     ]
    }
   ],
   "source": [
    "print('Возраст клиентов банка: от', df['Age'].min(), 'до', df['Age'].max())"
   ]
  },
  {
   "cell_type": "code",
   "execution_count": 8,
   "metadata": {},
   "outputs": [
    {
     "name": "stdout",
     "output_type": "stream",
     "text": [
      "1.0     952\n",
      "2.0     950\n",
      "8.0     933\n",
      "3.0     928\n",
      "5.0     927\n",
      "7.0     925\n",
      "4.0     885\n",
      "9.0     882\n",
      "6.0     881\n",
      "10.0    446\n",
      "0.0     382\n",
      "Name: Tenure, dtype: int64\n",
      "Пропусков в столбце: 909\n"
     ]
    }
   ],
   "source": [
    "print(df['Tenure'].value_counts())\n",
    "print('Пропусков в столбце:', df['Tenure'].isna().sum())"
   ]
  },
  {
   "cell_type": "markdown",
   "metadata": {},
   "source": [
    "Как мы видим, у клиентов банка ворьируется количество недвижимости в собственности от 0 до 10. Количество пропусков соответсвует целой условной категории, однако пропусков категорий нет (представленны данные для каждого количества недвижимости в диапазоне от 0 до 10).\n",
    "\n",
    "Возможно, пропуски соответсвуют значению \"0\", однако мы не можем быть в этом уверенными. Заполнение медианой тоже не предсавляется разумным. \n",
    "По обозначенным выше причинавм заполним пропуски случайными значениями из диапазона представленных."
   ]
  },
  {
   "cell_type": "code",
   "execution_count": 9,
   "metadata": {},
   "outputs": [
    {
     "name": "stdout",
     "output_type": "stream",
     "text": [
      "10000\n"
     ]
    }
   ],
   "source": [
    "# напишем функцию для заполнения пропусков случайными значениями\n",
    "def fill_rand(cell):\n",
    "    if math.isnan(cell):\n",
    "        cell = randint(0,10)\n",
    "    return cell\n",
    "           \n",
    "\n",
    "df['Tenure'] = df['Tenure'].apply(fill_rand)        \n",
    "\n",
    "\n",
    "print(df['Tenure'].value_counts().sum())"
   ]
  },
  {
   "cell_type": "markdown",
   "metadata": {},
   "source": [
    "Таким образом, мы получили 10000 **не-nan** значеницй в столбце `'Tenure'`."
   ]
  },
  {
   "cell_type": "code",
   "execution_count": 10,
   "metadata": {},
   "outputs": [
    {
     "data": {
      "text/plain": [
       "France     5014\n",
       "Germany    2509\n",
       "Spain      2477\n",
       "Name: Geography, dtype: int64"
      ]
     },
     "execution_count": 10,
     "metadata": {},
     "output_type": "execute_result"
    }
   ],
   "source": [
    "df['Geography'].value_counts()"
   ]
  },
  {
   "cell_type": "markdown",
   "metadata": {},
   "source": [
    "Клиенты банка в нашей выборке представляют три страны: Франция, Германия и Испания. При большем количестве имело бы смысл использовать порядковое кодирование, однако в нашем случае подойдет и прямое `one-hot encoding`. Тем более оно защищает от присвоения категорий с большим порядковым номером большего веса."
   ]
  },
  {
   "cell_type": "code",
   "execution_count": 11,
   "metadata": {},
   "outputs": [],
   "source": [
    "df = pd.get_dummies(df, columns = [\"Geography\", \"Gender\"] , prefix_sep = \"_\", \n",
    "                    drop_first = True)\n",
    "                    # с целью избежания дамми-ловушки удалим первый столбец дамми-признаков"
   ]
  },
  {
   "cell_type": "markdown",
   "metadata": {},
   "source": [
    "Из всех признаков 2 не имеют никакого реального отношения к объектам: это `индекс строки в данных` и `уникальный идентификатор клиента`. Можно найти определенные закономерности и в связи этих признаков с целевым, если искать. Однако никакого реального влияния они не могут оказывать на поведение клиента банка. Поэтому при обучении модели исключим эти признаки.\n",
    "\n",
    "Также в глобальном случае сомнительным признаком для обучения является `фамилия`, и хотя при работе с локальными данными он может позитивно повлиять на точность модели, в целях обучения более универсальной и адекватной модели, исключим из обучения также и этот признак."
   ]
  },
  {
   "cell_type": "markdown",
   "metadata": {},
   "source": [
    "Получаем 8 количественных и 2 категориальных признака.\n"
   ]
  },
  {
   "cell_type": "markdown",
   "metadata": {},
   "source": [
    "Выделим из данных две переменные `target` и `features` (цели и признаки), выведем на экран их размерности."
   ]
  },
  {
   "cell_type": "code",
   "execution_count": 12,
   "metadata": {},
   "outputs": [
    {
     "name": "stdout",
     "output_type": "stream",
     "text": [
      "(10000,) (10000, 11)\n"
     ]
    }
   ],
   "source": [
    "target = df['Exited']\n",
    "features = df.drop(['Exited', 'RowNumber', 'CustomerId', 'Surname'], axis=1)\n",
    "\n",
    "print (target.shape, features.shape)"
   ]
  },
  {
   "cell_type": "markdown",
   "metadata": {},
   "source": [
    "Разделим переменные на тренировочную и валидационную."
   ]
  },
  {
   "cell_type": "code",
   "execution_count": 13,
   "metadata": {},
   "outputs": [],
   "source": [
    "target_train, target_valid, features_train, features_valid = tts(\n",
    "    target, features, test_size=.25, random_state=rs)"
   ]
  },
  {
   "cell_type": "markdown",
   "metadata": {},
   "source": [
    "Выведем на экран размерности полученных переменных."
   ]
  },
  {
   "cell_type": "code",
   "execution_count": 14,
   "metadata": {
    "scrolled": true
   },
   "outputs": [
    {
     "name": "stdout",
     "output_type": "stream",
     "text": [
      "(7500,)\n",
      "(2500,)\n",
      "(7500, 11)\n",
      "(2500, 11)\n"
     ]
    }
   ],
   "source": [
    "var_list = [target_train, target_valid, features_train, features_valid]\n",
    "for var in var_list:\n",
    "    print(var.shape)"
   ]
  },
  {
   "cell_type": "markdown",
   "metadata": {},
   "source": [
    "# Исследование задачи"
   ]
  },
  {
   "cell_type": "markdown",
   "metadata": {},
   "source": [
    "Выведем на экран представленность положительного и отрицательного классов в данных, а также процент положительного класса. "
   ]
  },
  {
   "cell_type": "code",
   "execution_count": 15,
   "metadata": {},
   "outputs": [
    {
     "name": "stdout",
     "output_type": "stream",
     "text": [
      "0    7963\n",
      "1    2037\n",
      "Name: Exited, dtype: int64\n",
      "20.369999999999997 %\n"
     ]
    }
   ],
   "source": [
    "print(df['Exited'].value_counts())\n",
    "print(df['Exited'].value_counts()[1] / (df['Exited'].value_counts()[1] +\n",
    "      df['Exited'].value_counts()[0])*100, '%')"
   ]
  },
  {
   "cell_type": "markdown",
   "metadata": {},
   "source": [
    "Видим явный дисбаланс классов, объем данных, относящихся к отрицательному классу, почти в 4 раза больше объема положительного класса."
   ]
  },
  {
   "cell_type": "markdown",
   "metadata": {},
   "source": [
    "Обучим на изначальных выборках до балансировки классов три модели и выберем лучшую."
   ]
  },
  {
   "cell_type": "markdown",
   "metadata": {},
   "source": [
    "##  Дерево решений"
   ]
  },
  {
   "cell_type": "code",
   "execution_count": 16,
   "metadata": {},
   "outputs": [
    {
     "name": "stderr",
     "output_type": "stream",
     "text": [
      "/opt/conda/lib/python3.7/site-packages/sklearn/metrics/classification.py:1437: UndefinedMetricWarning: F-score is ill-defined and being set to 0.0 due to no predicted samples.\n",
      "  'precision', 'predicted', average, warn_for)\n"
     ]
    },
    {
     "name": "stdout",
     "output_type": "stream",
     "text": [
      "Лучшая максимальная глубина: 7\n",
      "Значение точности: 0.8616 (при дисбалансе классов не применяется)\n",
      "Значение F1-меры: 0.5620253164556962\n",
      "Значение AUC-ROC: 0.701672192590457\n"
     ]
    }
   ],
   "source": [
    "best_depth = 0\n",
    "best_result = 0\n",
    "for depth in range(1,16):\n",
    "    model_tree = DecisionTreeClassifier(max_depth=depth, random_state=rs)\n",
    "    model_tree.fit(features_train, target_train)\n",
    "    predictions_tree = model_tree.predict(features_valid)\n",
    "    result = accuracy_score(target_valid, predictions_tree)\n",
    "    if result > best_result:\n",
    "        best_depth = depth\n",
    "        best_result = result\n",
    "        f1 = f1_score(target_valid, predictions_tree)\n",
    "        auc_roc = roc_auc_score(target_valid, predictions_tree)\n",
    "    \n",
    "    \n",
    "print('Лучшая максимальная глубина:', best_depth)\n",
    "print('Значение точности:', best_result, '(при дисбалансе классов не применяется)')\n",
    "print('Значение F1-меры:', f1)\n",
    "print('Значение AUC-ROC:', auc_roc)"
   ]
  },
  {
   "cell_type": "markdown",
   "metadata": {},
   "source": [
    "##  Случайный лес"
   ]
  },
  {
   "cell_type": "code",
   "execution_count": 17,
   "metadata": {},
   "outputs": [
    {
     "name": "stderr",
     "output_type": "stream",
     "text": [
      "/opt/conda/lib/python3.7/site-packages/sklearn/metrics/classification.py:1437: UndefinedMetricWarning: F-score is ill-defined and being set to 0.0 due to no predicted samples.\n",
      "  'precision', 'predicted', average, warn_for)\n"
     ]
    },
    {
     "name": "stdout",
     "output_type": "stream",
     "text": [
      "Наиболее удачное количество наблюдателей: 50\n",
      "Лучшая максимальная глубина: 9\n",
      "Значение точности: 0.8664 (при дисбалансе классов не применяется)\n",
      "Значение F1-меры: 0.5750636132315522\n",
      "Значение AUC-ROC: 0.707551359922702\n"
     ]
    }
   ],
   "source": [
    "best_est = 0\n",
    "best_depth = 0\n",
    "best_result = 0\n",
    "for est in range(10,110, 20):\n",
    "    for depth in range(1,10):\n",
    "        model_forest = RandomForestClassifier(n_estimators=est, max_depth=depth, random_state=rs)\n",
    "        model_forest.fit(features_train, target_train)\n",
    "        predictions_forest = model_forest.predict(features_valid)\n",
    "        result = accuracy_score(target_valid, predictions_forest)\n",
    "        if result > best_result:\n",
    "            best_est = est\n",
    "            best_depth = depth\n",
    "            best_result = result\n",
    "            f1 = f1_score(target_valid, predictions_forest)\n",
    "            auc_roc = roc_auc_score(target_valid, predictions_forest)\n",
    "            \n",
    "print('Наиболее удачное количество наблюдателей:', best_est)\n",
    "print('Лучшая максимальная глубина:', best_depth)\n",
    "print('Значение точности:', best_result, '(при дисбалансе классов не применяется)')\n",
    "print('Значение F1-меры:', f1)\n",
    "print('Значение AUC-ROC:', auc_roc)"
   ]
  },
  {
   "cell_type": "markdown",
   "metadata": {},
   "source": [
    "##  Логистическая регрессия"
   ]
  },
  {
   "cell_type": "code",
   "execution_count": 18,
   "metadata": {},
   "outputs": [
    {
     "name": "stdout",
     "output_type": "stream",
     "text": [
      "Значение точности: 0.8664 (при дисбалансе классов не применяется)\n",
      "Значение F1-меры: 0.08417508417508417\n",
      "Значение AUC-ROC: 0.5112654820021116\n"
     ]
    }
   ],
   "source": [
    "model_logistic = LogisticRegression(random_state=rs, solver='liblinear')\n",
    "model_logistic.fit(features_train, target_train)\n",
    "predictions_logistic = model_logistic.predict(features_valid)\n",
    "result = accuracy_score(target_valid, predictions_logistic)\n",
    "f1 = f1_score(target_valid, predictions_logistic)\n",
    "auc_roc = roc_auc_score(target_valid, predictions_logistic)\n",
    "\n",
    "print('Значение точности:', best_result, '(при дисбалансе классов не применяется)')\n",
    "print('Значение F1-меры:', f1)\n",
    "print('Значение AUC-ROC:', auc_roc)"
   ]
  },
  {
   "cell_type": "markdown",
   "metadata": {},
   "source": [
    "До обработки дисбаланса лучший результат показала модель типа `\"случайный лес\"`, состоящая из 30 \"деревьей\" с глубиной 9. Значение **F1-меры** составляет 0.58. После обработки дисбаланса оно должно улучшиться. Значение **AUC-ROC** - 0.71."
   ]
  },
  {
   "cell_type": "markdown",
   "metadata": {},
   "source": [
    "# Борьба с дисбалансом"
   ]
  },
  {
   "cell_type": "markdown",
   "metadata": {},
   "source": [
    "Для работы над дисбалансом классов могут использоваться 3 способа:\n",
    "1. Присвоение разных весов классам;\n",
    "2. Увеличение выборки меньшего класса;\n",
    "3. Уменьшение выборки большего класса."
   ]
  },
  {
   "cell_type": "markdown",
   "metadata": {},
   "source": [
    "Увеличим выборку методом *upsampling*."
   ]
  },
  {
   "cell_type": "code",
   "execution_count": 19,
   "metadata": {},
   "outputs": [
    {
     "name": "stdout",
     "output_type": "stream",
     "text": [
      "(10538, 11) (10538,)\n"
     ]
    }
   ],
   "source": [
    "def upsample(features, target, repeat):\n",
    "    features_zeros = features[target == 0]\n",
    "    features_ones = features[target == 1]\n",
    "    target_zeros = target[target == 0]\n",
    "    target_ones = target[target == 1]\n",
    "    features_upsampled = pd.concat([features_zeros] + [features_ones] * repeat)\n",
    "    target_upsampled = pd.concat([target_zeros] + [target_ones] * repeat)\n",
    "    features_upsampled, target_upsampled = shuffle(\n",
    "    features_upsampled, target_upsampled, random_state=rs)\n",
    "    return features_upsampled, target_upsampled\n",
    "\n",
    "features_train, target_train = upsample(features_train, target_train, 3)\n",
    "\n",
    "print(features_train.shape, target_train.shape)"
   ]
  },
  {
   "cell_type": "markdown",
   "metadata": {},
   "source": [
    "Обучим 3 новые модели с префиксом `_new` и указанным значением `class_weight='balanced'`."
   ]
  },
  {
   "cell_type": "code",
   "execution_count": 20,
   "metadata": {},
   "outputs": [],
   "source": [
    "model_logistic_new = LogisticRegression(class_weight='balanced', random_state=rs)\n",
    "model_tree_new = DecisionTreeClassifier(class_weight='balanced', max_depth=7, random_state=rs)\n",
    "model_forest_new = RandomForestClassifier(class_weight='balanced', n_estimators=30, \n",
    "                                          max_depth=9, random_state=rs)"
   ]
  },
  {
   "cell_type": "code",
   "execution_count": 21,
   "metadata": {},
   "outputs": [
    {
     "name": "stdout",
     "output_type": "stream",
     "text": [
      "Значение точности: 0.776 (при дисбалансе классов не применяется)\n",
      "Значение F1-меры: 0.5692307692307693\n",
      "Значение AUC-ROC: 0.753207438373937\n"
     ]
    }
   ],
   "source": [
    "model_tree_new.fit(features_train, target_train)\n",
    "predictions_tree_new = model_tree_new.predict(features_valid)\n",
    "result_new = accuracy_score(target_valid, predictions_tree_new)\n",
    "f1_new = f1_score(target_valid, predictions_tree_new)\n",
    "auc_roc_new = roc_auc_score(target_valid, predictions_tree_new)\n",
    "    \n",
    "    \n",
    "print('Значение точности:', result_new, '(при дисбалансе классов не применяется)')\n",
    "print('Значение F1-меры:', f1_new)\n",
    "print('Значение AUC-ROC:', auc_roc_new)"
   ]
  },
  {
   "cell_type": "code",
   "execution_count": 22,
   "metadata": {},
   "outputs": [
    {
     "name": "stdout",
     "output_type": "stream",
     "text": [
      "Значение точности: 0.8108 (при дисбалансе классов не применяется)\n",
      "Значение F1-меры: 0.6028547439126783\n",
      "Значение AUC-ROC: 0.7673121802788806\n"
     ]
    }
   ],
   "source": [
    "model_forest_new.fit(features_train, target_train)\n",
    "predictions_forest_new = model_forest_new.predict(features_valid)\n",
    "result_new = accuracy_score(target_valid, predictions_forest_new)\n",
    "f1_new = f1_score(target_valid, predictions_forest_new)\n",
    "auc_roc_new = roc_auc_score(target_valid, predictions_forest_new)\n",
    "\n",
    "print('Значение точности:', result_new, '(при дисбалансе классов не применяется)')\n",
    "print('Значение F1-меры:', f1_new)\n",
    "print('Значение AUC-ROC:', auc_roc_new)"
   ]
  },
  {
   "cell_type": "code",
   "execution_count": 23,
   "metadata": {},
   "outputs": [
    {
     "name": "stdout",
     "output_type": "stream",
     "text": [
      "Значение точности: 0.7824 (при дисбалансе классов не применяется)\n",
      "Значение F1-меры: 0.08417508417508417\n",
      "Значение AUC-ROC: 0.5112654820021116\n"
     ]
    },
    {
     "name": "stderr",
     "output_type": "stream",
     "text": [
      "/opt/conda/lib/python3.7/site-packages/sklearn/linear_model/logistic.py:432: FutureWarning: Default solver will be changed to 'lbfgs' in 0.22. Specify a solver to silence this warning.\n",
      "  FutureWarning)\n"
     ]
    }
   ],
   "source": [
    "model_logistic_new.fit(features_train, target_train)\n",
    "predictions_logistic_new = model_logistic.predict(features_valid)\n",
    "result_new = accuracy_score(target_valid, predictions_logistic_new)\n",
    "f1_new = f1_score(target_valid, predictions_logistic_new)\n",
    "auc_roc_new = roc_auc_score(target_valid, predictions_logistic_new)\n",
    "\n",
    "print('Значение точности:', result_new, '(при дисбалансе классов не применяется)')\n",
    "print('Значение F1-меры:', f1_new)\n",
    "print('Значение AUC-ROC:', auc_roc_new)"
   ]
  },
  {
   "cell_type": "markdown",
   "metadata": {},
   "source": [
    "Снова лучший результат у `\"случайного леса\"` (с параметрами, подобраннымти в предыдущем разделе).\n",
    "Метрика **F1-мера** превысила пороговое значение в 0.59 и составляет **0.61**.\n",
    "Значение AUC-ROC также увеличилось по сравнению с аналогичным показателем до обработки дисбаланса (0.77 против 0.71).\n",
    "\n",
    "Можно заключить, что мы действительно повысили качество модели, произведя работы по устранению дисбаланса."
   ]
  },
  {
   "cell_type": "markdown",
   "metadata": {},
   "source": [
    "# Тестирование модели"
   ]
  },
  {
   "cell_type": "markdown",
   "metadata": {},
   "source": [
    "F1-мера в связке оценивает показатели полноты и точности. Данная метрика показывает, насколько хорошо модель предсказывает положительные ответы: хорошо ли модель распознает объекты положительного класса, и насколько часто ложно присваивает объектам положительный класс.\n",
    "\n",
    "Нашей модели соответствует значение метрики F1, равное 0.61."
   ]
  },
  {
   "cell_type": "markdown",
   "metadata": {},
   "source": [
    "Метрика F1 оценивает связь таких метрик, как полнота и точность, однако в нашем случае имеет смысл изучить также и эти метрики: поскольку важно как можно точнее определить, существует ли риск ухода клиента в ближайшее время, более важной для нас метрикой является полнота, т.е. минимальное количество ложно-отрицательных ответов.\n",
    "Точность апеллирует к ложно-положительным ответам. В нашем случае ложно-положительный ответ означает, что к некоторым клиентам, которые на самом деле не собираются отказываться от услуг банка, будет \"особое\" отношение. Что не так разрушительно, как уход клиента по причине неспособности модели корректно отнести его к категории размышляющих над уходом."
   ]
  },
  {
   "cell_type": "code",
   "execution_count": 24,
   "metadata": {},
   "outputs": [
    {
     "name": "stdout",
     "output_type": "stream",
     "text": [
      "Полнота: 0.693050193050193\n",
      "Точность: 0.5334323922734027\n"
     ]
    }
   ],
   "source": [
    "print('Полнота:', recall_score(target_valid, predictions_forest_new))\n",
    "print('Точность:', precision_score(target_valid, predictions_forest_new))"
   ]
  },
  {
   "cell_type": "markdown",
   "metadata": {},
   "source": [
    "Более высокий показатель полноты вполне удовлетворяет условиям поставленной задачи."
   ]
  },
  {
   "cell_type": "markdown",
   "metadata": {},
   "source": [
    "Значение AUC-ROC показывает, насколько предсказания нашей модели лучше предсказаний случайной модели.\n",
    "Значение метрики для случайной модели равно 0.5. В идеальном случае значение равно 1. Наша модель показывает значение в 0.77, что является неплохим показателем (примерно посередине между случайной моделью и идеальной моделью).\n",
    "\n",
    "Ниже изобразим ROC-кривую на графике."
   ]
  },
  {
   "cell_type": "code",
   "execution_count": 25,
   "metadata": {},
   "outputs": [],
   "source": [
    "probabilities = model_forest_new.predict_proba(features_train)[:,1]"
   ]
  },
  {
   "cell_type": "code",
   "execution_count": 26,
   "metadata": {
    "scrolled": true
   },
   "outputs": [
    {
     "data": {
      "image/png": "[encoded data removed]",
      "text/plain": [
       "<Figure size 720x576 with 1 Axes>"
      ]
     },
     "metadata": {},
     "output_type": "display_data"
    }
   ],
   "source": [
    "sns.set(font_scale=1.5)\n",
    "sns.set_color_codes(\"muted\")\n",
    "\n",
    "plt.figure(figsize=(10, 8))\n",
    "fpr, tpr, thresholds = roc_curve(target_train, probabilities, pos_label=1)\n",
    "lw = 2\n",
    "plt.plot(fpr, tpr, lw=lw, label='ROC curve ')\n",
    "plt.plot([0, 1], [0, 1])\n",
    "plt.xlim([0.0, 1.0])\n",
    "plt.ylim([0.0, 1.05])\n",
    "plt.xlabel('False Positive Rate')\n",
    "plt.ylabel('True Positive Rate')\n",
    "plt.title('ROC curve')\n",
    "plt.show()"
   ]
  },
  {
   "cell_type": "code",
   "execution_count": null,
   "metadata": {},
   "outputs": [],
   "source": []
  }
 ],
 "metadata": {
  "kernelspec": {
   "display_name": "Python 3",
   "language": "python",
   "name": "python3"
  },
  "language_info": {
   "codemirror_mode": {
    "name": "ipython",
    "version": 3
   },
   "file_extension": ".py",
   "mimetype": "text/x-python",
   "name": "python",
   "nbconvert_exporter": "python",
   "pygments_lexer": "ipython3",
   "version": "3.7.8"
  },
  "toc": {
   "base_numbering": 1,
   "nav_menu": {},
   "number_sections": true,
   "sideBar": true,
   "skip_h1_title": false,
   "title_cell": "Table of Contents",
   "title_sidebar": "Contents",
   "toc_cell": false,
   "toc_position": {},
   "toc_section_display": true,
   "toc_window_display": false
  }
 },
 "nbformat": 4,
 "nbformat_minor": 2
}
