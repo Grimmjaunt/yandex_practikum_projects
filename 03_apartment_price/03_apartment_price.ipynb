{
 "cells": [
  {
   "cell_type": "markdown",
   "metadata": {},
   "source": [
    "# Исследование объявлений о продаже квартир"
   ]
  },
  {
   "cell_type": "markdown",
   "metadata": {},
   "source": [
    "В нашем распоряжении данные сервиса Яндекс.Недвижимость — архив объявлений о продаже квартир в Санкт-Петербурге и соседних населённых пунктах за несколько лет. Нужно определить рыночную стоимость объектов недвижимости. Наша задача — установить параметры. Это позволит построить автоматизированную систему: она отследит аномалии и мошенническую деятельность. \n",
    "\n",
    "По каждой квартире на продажу доступны два вида данных. Первые вписаны пользователем, вторые — получены автоматически на основе картографических данных. Например, расстояние до центра, аэропорта, ближайшего парка и водоёма. "
   ]
  },
  {
   "cell_type": "markdown",
   "metadata": {},
   "source": [
    "## <a id=\"to_the_begining\">Оглавление</a>"
   ]
  },
  {
   "cell_type": "markdown",
   "metadata": {},
   "source": [
    "1. **[Открытие данных](#start)**\n",
    "    * [Описание данных](#describe_start)\n",
    "    * [Вывод](#start_summary)\n",
    "    \n",
    "    \n",
    "2. **[Предобработка данных](#step2)**\n",
    "    * [Обработка пропущенных значений](#step2.1)\n",
    "        * [Пропуске в столбце 'is_apartment'](#is_apartment)\n",
    "        * [Пропуске в столбце 'balcony'](#balcony)\n",
    "        * [Пропуске в столбце 'floors_total'](#floors_total)\n",
    "        * [Пропуске в столбце 'ceiling_height'](#ceiling_height)\n",
    "        * [Пропуске в столбце 'locality_name'](#locality_name)\n",
    "        * [Пропуски в столбцах 'living_area' и 'kitchen_area'](#areas)\n",
    "        * [Пропуске в остальных столбцах](#other)\n",
    "    * [Обработка дубликатов](#duplicates)\n",
    "    * [Изменение типов данных](#data_types)\n",
    "    \n",
    "    \n",
    "3. **[Расчет и добавление в таблицу параметров](#step3)**\n",
    "    * [Стоимость одного квадратного метра](#price_by_meter)\n",
    "    * [День недели, месяц и год публикации](#date_data)\n",
    "    * [Категоризация данных по этажу квартиры](#floor_type)\n",
    "    * [Индексы площади кухни и жилой площади](#areas_new)\n",
    "    * [Проверка результатов](#check_result)\n",
    "    \n",
    "    \n",
    "4. **[Проведение исследовательского анализа данных](#step4)**    \n",
    "    * [Изучение влияния отдельных параметров на цену](#influence)\n",
    "    * [Изучение редких и выбивающихся значений](#rare)\n",
    "    * [Выводы о влиянии различных факторов](#summary_influence)\n",
    "    * [10 населенных пунктов с наибольшим количеством объявлений](#top10)\n",
    "    * [Определение границ понятия \"центр города\"](#center)\n",
    "    * [Анализ сегмента квартир в центре города](#center_analis)\n",
    "\n",
    "\n",
    "5. **[Общий вывод](#step5)**  \n",
    "\n",
    "   **[Чек-лист готовности проекта](#check_list)**  "
   ]
  },
  {
   "cell_type": "markdown",
   "metadata": {},
   "source": [
    "### <a id=\"start\"> Шаг 1. Откроем файл с данными и изучим общую информацию </a>"
   ]
  },
  {
   "cell_type": "code",
   "execution_count": 1,
   "metadata": {},
   "outputs": [],
   "source": [
    "#в отдельной ячейке в самом начале работы импортируем все необходимые библиотеки\n",
    "import pandas as pd\n",
    "import numpy as np\n",
    "import matplotlib.pyplot as plt\n",
    "import seaborn as sns\n",
    "from IPython.display import HTML, display\n",
    "import warnings"
   ]
  },
  {
   "cell_type": "code",
   "execution_count": 2,
   "metadata": {},
   "outputs": [
    {
     "data": {
      "text/html": [
       "<div>\n",
       "<style scoped>\n",
       "    .dataframe tbody tr th:only-of-type {\n",
       "        vertical-align: middle;\n",
       "    }\n",
       "\n",
       "    .dataframe tbody tr th {\n",
       "        vertical-align: top;\n",
       "    }\n",
       "\n",
       "    .dataframe thead th {\n",
       "        text-align: right;\n",
       "    }\n",
       "</style>\n",
       "<table border=\"1\" class=\"dataframe\">\n",
       "  <thead>\n",
       "    <tr style=\"text-align: right;\">\n",
       "      <th></th>\n",
       "      <th>total_images</th>\n",
       "      <th>last_price</th>\n",
       "      <th>total_area</th>\n",
       "      <th>first_day_exposition</th>\n",
       "      <th>rooms</th>\n",
       "      <th>ceiling_height</th>\n",
       "      <th>floors_total</th>\n",
       "      <th>living_area</th>\n",
       "      <th>floor</th>\n",
       "      <th>is_apartment</th>\n",
       "      <th>studio</th>\n",
       "      <th>open_plan</th>\n",
       "      <th>kitchen_area</th>\n",
       "      <th>balcony</th>\n",
       "      <th>locality_name</th>\n",
       "      <th>airports_nearest</th>\n",
       "      <th>cityCenters_nearest</th>\n",
       "      <th>parks_around3000</th>\n",
       "      <th>parks_nearest</th>\n",
       "      <th>ponds_around3000</th>\n",
       "      <th>ponds_nearest</th>\n",
       "      <th>days_exposition</th>\n",
       "    </tr>\n",
       "  </thead>\n",
       "  <tbody>\n",
       "    <tr>\n",
       "      <th>0</th>\n",
       "      <td>20</td>\n",
       "      <td>13000000.0</td>\n",
       "      <td>108.0</td>\n",
       "      <td>2019-03-07T00:00:00</td>\n",
       "      <td>3</td>\n",
       "      <td>2.70</td>\n",
       "      <td>16.0</td>\n",
       "      <td>51.0</td>\n",
       "      <td>8</td>\n",
       "      <td>NaN</td>\n",
       "      <td>False</td>\n",
       "      <td>False</td>\n",
       "      <td>25.0</td>\n",
       "      <td>NaN</td>\n",
       "      <td>Санкт-Петербург</td>\n",
       "      <td>18863.0</td>\n",
       "      <td>16028.0</td>\n",
       "      <td>1.0</td>\n",
       "      <td>482.0</td>\n",
       "      <td>2.0</td>\n",
       "      <td>755.0</td>\n",
       "      <td>NaN</td>\n",
       "    </tr>\n",
       "    <tr>\n",
       "      <th>1</th>\n",
       "      <td>7</td>\n",
       "      <td>3350000.0</td>\n",
       "      <td>40.4</td>\n",
       "      <td>2018-12-04T00:00:00</td>\n",
       "      <td>1</td>\n",
       "      <td>NaN</td>\n",
       "      <td>11.0</td>\n",
       "      <td>18.6</td>\n",
       "      <td>1</td>\n",
       "      <td>NaN</td>\n",
       "      <td>False</td>\n",
       "      <td>False</td>\n",
       "      <td>11.0</td>\n",
       "      <td>2.0</td>\n",
       "      <td>посёлок Шушары</td>\n",
       "      <td>12817.0</td>\n",
       "      <td>18603.0</td>\n",
       "      <td>0.0</td>\n",
       "      <td>NaN</td>\n",
       "      <td>0.0</td>\n",
       "      <td>NaN</td>\n",
       "      <td>81.0</td>\n",
       "    </tr>\n",
       "    <tr>\n",
       "      <th>2</th>\n",
       "      <td>10</td>\n",
       "      <td>5196000.0</td>\n",
       "      <td>56.0</td>\n",
       "      <td>2015-08-20T00:00:00</td>\n",
       "      <td>2</td>\n",
       "      <td>NaN</td>\n",
       "      <td>5.0</td>\n",
       "      <td>34.3</td>\n",
       "      <td>4</td>\n",
       "      <td>NaN</td>\n",
       "      <td>False</td>\n",
       "      <td>False</td>\n",
       "      <td>8.3</td>\n",
       "      <td>0.0</td>\n",
       "      <td>Санкт-Петербург</td>\n",
       "      <td>21741.0</td>\n",
       "      <td>13933.0</td>\n",
       "      <td>1.0</td>\n",
       "      <td>90.0</td>\n",
       "      <td>2.0</td>\n",
       "      <td>574.0</td>\n",
       "      <td>558.0</td>\n",
       "    </tr>\n",
       "    <tr>\n",
       "      <th>3</th>\n",
       "      <td>0</td>\n",
       "      <td>64900000.0</td>\n",
       "      <td>159.0</td>\n",
       "      <td>2015-07-24T00:00:00</td>\n",
       "      <td>3</td>\n",
       "      <td>NaN</td>\n",
       "      <td>14.0</td>\n",
       "      <td>NaN</td>\n",
       "      <td>9</td>\n",
       "      <td>NaN</td>\n",
       "      <td>False</td>\n",
       "      <td>False</td>\n",
       "      <td>NaN</td>\n",
       "      <td>0.0</td>\n",
       "      <td>Санкт-Петербург</td>\n",
       "      <td>28098.0</td>\n",
       "      <td>6800.0</td>\n",
       "      <td>2.0</td>\n",
       "      <td>84.0</td>\n",
       "      <td>3.0</td>\n",
       "      <td>234.0</td>\n",
       "      <td>424.0</td>\n",
       "    </tr>\n",
       "    <tr>\n",
       "      <th>4</th>\n",
       "      <td>2</td>\n",
       "      <td>10000000.0</td>\n",
       "      <td>100.0</td>\n",
       "      <td>2018-06-19T00:00:00</td>\n",
       "      <td>2</td>\n",
       "      <td>3.03</td>\n",
       "      <td>14.0</td>\n",
       "      <td>32.0</td>\n",
       "      <td>13</td>\n",
       "      <td>NaN</td>\n",
       "      <td>False</td>\n",
       "      <td>False</td>\n",
       "      <td>41.0</td>\n",
       "      <td>NaN</td>\n",
       "      <td>Санкт-Петербург</td>\n",
       "      <td>31856.0</td>\n",
       "      <td>8098.0</td>\n",
       "      <td>2.0</td>\n",
       "      <td>112.0</td>\n",
       "      <td>1.0</td>\n",
       "      <td>48.0</td>\n",
       "      <td>121.0</td>\n",
       "    </tr>\n",
       "  </tbody>\n",
       "</table>\n",
       "</div>"
      ],
      "text/plain": [
       "   total_images  last_price  total_area first_day_exposition  rooms  \\\n",
       "0            20  13000000.0       108.0  2019-03-07T00:00:00      3   \n",
       "1             7   3350000.0        40.4  2018-12-04T00:00:00      1   \n",
       "2            10   5196000.0        56.0  2015-08-20T00:00:00      2   \n",
       "3             0  64900000.0       159.0  2015-07-24T00:00:00      3   \n",
       "4             2  10000000.0       100.0  2018-06-19T00:00:00      2   \n",
       "\n",
       "   ceiling_height  floors_total  living_area  floor is_apartment  studio  \\\n",
       "0            2.70          16.0         51.0      8          NaN   False   \n",
       "1             NaN          11.0         18.6      1          NaN   False   \n",
       "2             NaN           5.0         34.3      4          NaN   False   \n",
       "3             NaN          14.0          NaN      9          NaN   False   \n",
       "4            3.03          14.0         32.0     13          NaN   False   \n",
       "\n",
       "   open_plan  kitchen_area  balcony    locality_name  airports_nearest  \\\n",
       "0      False          25.0      NaN  Санкт-Петербург           18863.0   \n",
       "1      False          11.0      2.0   посёлок Шушары           12817.0   \n",
       "2      False           8.3      0.0  Санкт-Петербург           21741.0   \n",
       "3      False           NaN      0.0  Санкт-Петербург           28098.0   \n",
       "4      False          41.0      NaN  Санкт-Петербург           31856.0   \n",
       "\n",
       "   cityCenters_nearest  parks_around3000  parks_nearest  ponds_around3000  \\\n",
       "0              16028.0               1.0          482.0               2.0   \n",
       "1              18603.0               0.0            NaN               0.0   \n",
       "2              13933.0               1.0           90.0               2.0   \n",
       "3               6800.0               2.0           84.0               3.0   \n",
       "4               8098.0               2.0          112.0               1.0   \n",
       "\n",
       "   ponds_nearest  days_exposition  \n",
       "0          755.0              NaN  \n",
       "1            NaN             81.0  \n",
       "2          574.0            558.0  \n",
       "3          234.0            424.0  \n",
       "4           48.0            121.0  "
      ]
     },
     "execution_count": 2,
     "metadata": {},
     "output_type": "execute_result"
    }
   ],
   "source": [
    "pd.options.display.max_columns = None\n",
    "estate = pd.read_csv('C:\\\\Users\\\\503so\\\\OneDrive\\\\Desktop\\\\praktikum-to-git\\\\03_real_estate_data.csv', sep='\\t') #в нашем случае записи\n",
    "#разделены не запятыми, а табуляцией, поэтому указываем значение параметра sep, равное \\t\n",
    "estate.head()"
   ]
  },
  {
   "cell_type": "code",
   "execution_count": 3,
   "metadata": {},
   "outputs": [
    {
     "name": "stdout",
     "output_type": "stream",
     "text": [
      "<class 'pandas.core.frame.DataFrame'>\n",
      "RangeIndex: 23699 entries, 0 to 23698\n",
      "Data columns (total 22 columns):\n",
      " #   Column                Non-Null Count  Dtype  \n",
      "---  ------                --------------  -----  \n",
      " 0   total_images          23699 non-null  int64  \n",
      " 1   last_price            23699 non-null  float64\n",
      " 2   total_area            23699 non-null  float64\n",
      " 3   first_day_exposition  23699 non-null  object \n",
      " 4   rooms                 23699 non-null  int64  \n",
      " 5   ceiling_height        14504 non-null  float64\n",
      " 6   floors_total          23613 non-null  float64\n",
      " 7   living_area           21796 non-null  float64\n",
      " 8   floor                 23699 non-null  int64  \n",
      " 9   is_apartment          2775 non-null   object \n",
      " 10  studio                23699 non-null  bool   \n",
      " 11  open_plan             23699 non-null  bool   \n",
      " 12  kitchen_area          21421 non-null  float64\n",
      " 13  balcony               12180 non-null  float64\n",
      " 14  locality_name         23650 non-null  object \n",
      " 15  airports_nearest      18157 non-null  float64\n",
      " 16  cityCenters_nearest   18180 non-null  float64\n",
      " 17  parks_around3000      18181 non-null  float64\n",
      " 18  parks_nearest         8079 non-null   float64\n",
      " 19  ponds_around3000      18181 non-null  float64\n",
      " 20  ponds_nearest         9110 non-null   float64\n",
      " 21  days_exposition       20518 non-null  float64\n",
      "dtypes: bool(2), float64(14), int64(3), object(3)\n",
      "memory usage: 3.7+ MB\n"
     ]
    }
   ],
   "source": [
    "#выведем на экран информацию о полученном дата-сете\n",
    "estate.info()"
   ]
  },
  {
   "cell_type": "code",
   "execution_count": 4,
   "metadata": {},
   "outputs": [
    {
     "data": {
      "text/html": [
       "<div>\n",
       "<style scoped>\n",
       "    .dataframe tbody tr th:only-of-type {\n",
       "        vertical-align: middle;\n",
       "    }\n",
       "\n",
       "    .dataframe tbody tr th {\n",
       "        vertical-align: top;\n",
       "    }\n",
       "\n",
       "    .dataframe thead th {\n",
       "        text-align: right;\n",
       "    }\n",
       "</style>\n",
       "<table border=\"1\" class=\"dataframe\">\n",
       "  <thead>\n",
       "    <tr style=\"text-align: right;\">\n",
       "      <th></th>\n",
       "      <th>total_images</th>\n",
       "      <th>last_price</th>\n",
       "      <th>total_area</th>\n",
       "      <th>rooms</th>\n",
       "      <th>ceiling_height</th>\n",
       "      <th>floors_total</th>\n",
       "      <th>living_area</th>\n",
       "      <th>floor</th>\n",
       "      <th>kitchen_area</th>\n",
       "      <th>balcony</th>\n",
       "      <th>airports_nearest</th>\n",
       "      <th>cityCenters_nearest</th>\n",
       "      <th>parks_around3000</th>\n",
       "      <th>parks_nearest</th>\n",
       "      <th>ponds_around3000</th>\n",
       "      <th>ponds_nearest</th>\n",
       "      <th>days_exposition</th>\n",
       "    </tr>\n",
       "  </thead>\n",
       "  <tbody>\n",
       "    <tr>\n",
       "      <th>count</th>\n",
       "      <td>23699.000000</td>\n",
       "      <td>2.369900e+04</td>\n",
       "      <td>23699.000000</td>\n",
       "      <td>23699.000000</td>\n",
       "      <td>14504.000000</td>\n",
       "      <td>23613.000000</td>\n",
       "      <td>21796.000000</td>\n",
       "      <td>23699.000000</td>\n",
       "      <td>21421.000000</td>\n",
       "      <td>12180.000000</td>\n",
       "      <td>18157.000000</td>\n",
       "      <td>18180.000000</td>\n",
       "      <td>18181.000000</td>\n",
       "      <td>8079.000000</td>\n",
       "      <td>18181.000000</td>\n",
       "      <td>9110.000000</td>\n",
       "      <td>20518.000000</td>\n",
       "    </tr>\n",
       "    <tr>\n",
       "      <th>mean</th>\n",
       "      <td>9.858475</td>\n",
       "      <td>6.541549e+06</td>\n",
       "      <td>60.348651</td>\n",
       "      <td>2.070636</td>\n",
       "      <td>2.771499</td>\n",
       "      <td>10.673824</td>\n",
       "      <td>34.457852</td>\n",
       "      <td>5.892358</td>\n",
       "      <td>10.569807</td>\n",
       "      <td>1.150082</td>\n",
       "      <td>28793.672193</td>\n",
       "      <td>14191.277833</td>\n",
       "      <td>0.611408</td>\n",
       "      <td>490.804555</td>\n",
       "      <td>0.770255</td>\n",
       "      <td>517.980900</td>\n",
       "      <td>180.888634</td>\n",
       "    </tr>\n",
       "    <tr>\n",
       "      <th>std</th>\n",
       "      <td>5.682529</td>\n",
       "      <td>1.088701e+07</td>\n",
       "      <td>35.654083</td>\n",
       "      <td>1.078405</td>\n",
       "      <td>1.261056</td>\n",
       "      <td>6.597173</td>\n",
       "      <td>22.030445</td>\n",
       "      <td>4.885249</td>\n",
       "      <td>5.905438</td>\n",
       "      <td>1.071300</td>\n",
       "      <td>12630.880622</td>\n",
       "      <td>8608.386210</td>\n",
       "      <td>0.802074</td>\n",
       "      <td>342.317995</td>\n",
       "      <td>0.938346</td>\n",
       "      <td>277.720643</td>\n",
       "      <td>219.727988</td>\n",
       "    </tr>\n",
       "    <tr>\n",
       "      <th>min</th>\n",
       "      <td>0.000000</td>\n",
       "      <td>1.219000e+04</td>\n",
       "      <td>12.000000</td>\n",
       "      <td>0.000000</td>\n",
       "      <td>1.000000</td>\n",
       "      <td>1.000000</td>\n",
       "      <td>2.000000</td>\n",
       "      <td>1.000000</td>\n",
       "      <td>1.300000</td>\n",
       "      <td>0.000000</td>\n",
       "      <td>0.000000</td>\n",
       "      <td>181.000000</td>\n",
       "      <td>0.000000</td>\n",
       "      <td>1.000000</td>\n",
       "      <td>0.000000</td>\n",
       "      <td>13.000000</td>\n",
       "      <td>1.000000</td>\n",
       "    </tr>\n",
       "    <tr>\n",
       "      <th>25%</th>\n",
       "      <td>6.000000</td>\n",
       "      <td>3.400000e+06</td>\n",
       "      <td>40.000000</td>\n",
       "      <td>1.000000</td>\n",
       "      <td>2.520000</td>\n",
       "      <td>5.000000</td>\n",
       "      <td>18.600000</td>\n",
       "      <td>2.000000</td>\n",
       "      <td>7.000000</td>\n",
       "      <td>0.000000</td>\n",
       "      <td>18585.000000</td>\n",
       "      <td>9238.000000</td>\n",
       "      <td>0.000000</td>\n",
       "      <td>288.000000</td>\n",
       "      <td>0.000000</td>\n",
       "      <td>294.000000</td>\n",
       "      <td>45.000000</td>\n",
       "    </tr>\n",
       "    <tr>\n",
       "      <th>50%</th>\n",
       "      <td>9.000000</td>\n",
       "      <td>4.650000e+06</td>\n",
       "      <td>52.000000</td>\n",
       "      <td>2.000000</td>\n",
       "      <td>2.650000</td>\n",
       "      <td>9.000000</td>\n",
       "      <td>30.000000</td>\n",
       "      <td>4.000000</td>\n",
       "      <td>9.100000</td>\n",
       "      <td>1.000000</td>\n",
       "      <td>26726.000000</td>\n",
       "      <td>13098.500000</td>\n",
       "      <td>0.000000</td>\n",
       "      <td>455.000000</td>\n",
       "      <td>1.000000</td>\n",
       "      <td>502.000000</td>\n",
       "      <td>95.000000</td>\n",
       "    </tr>\n",
       "    <tr>\n",
       "      <th>75%</th>\n",
       "      <td>14.000000</td>\n",
       "      <td>6.800000e+06</td>\n",
       "      <td>69.900000</td>\n",
       "      <td>3.000000</td>\n",
       "      <td>2.800000</td>\n",
       "      <td>16.000000</td>\n",
       "      <td>42.300000</td>\n",
       "      <td>8.000000</td>\n",
       "      <td>12.000000</td>\n",
       "      <td>2.000000</td>\n",
       "      <td>37273.000000</td>\n",
       "      <td>16293.000000</td>\n",
       "      <td>1.000000</td>\n",
       "      <td>612.000000</td>\n",
       "      <td>1.000000</td>\n",
       "      <td>729.000000</td>\n",
       "      <td>232.000000</td>\n",
       "    </tr>\n",
       "    <tr>\n",
       "      <th>max</th>\n",
       "      <td>50.000000</td>\n",
       "      <td>7.630000e+08</td>\n",
       "      <td>900.000000</td>\n",
       "      <td>19.000000</td>\n",
       "      <td>100.000000</td>\n",
       "      <td>60.000000</td>\n",
       "      <td>409.700000</td>\n",
       "      <td>33.000000</td>\n",
       "      <td>112.000000</td>\n",
       "      <td>5.000000</td>\n",
       "      <td>84869.000000</td>\n",
       "      <td>65968.000000</td>\n",
       "      <td>3.000000</td>\n",
       "      <td>3190.000000</td>\n",
       "      <td>3.000000</td>\n",
       "      <td>1344.000000</td>\n",
       "      <td>1580.000000</td>\n",
       "    </tr>\n",
       "  </tbody>\n",
       "</table>\n",
       "</div>"
      ],
      "text/plain": [
       "       total_images    last_price    total_area         rooms  ceiling_height  \\\n",
       "count  23699.000000  2.369900e+04  23699.000000  23699.000000    14504.000000   \n",
       "mean       9.858475  6.541549e+06     60.348651      2.070636        2.771499   \n",
       "std        5.682529  1.088701e+07     35.654083      1.078405        1.261056   \n",
       "min        0.000000  1.219000e+04     12.000000      0.000000        1.000000   \n",
       "25%        6.000000  3.400000e+06     40.000000      1.000000        2.520000   \n",
       "50%        9.000000  4.650000e+06     52.000000      2.000000        2.650000   \n",
       "75%       14.000000  6.800000e+06     69.900000      3.000000        2.800000   \n",
       "max       50.000000  7.630000e+08    900.000000     19.000000      100.000000   \n",
       "\n",
       "       floors_total   living_area         floor  kitchen_area       balcony  \\\n",
       "count  23613.000000  21796.000000  23699.000000  21421.000000  12180.000000   \n",
       "mean      10.673824     34.457852      5.892358     10.569807      1.150082   \n",
       "std        6.597173     22.030445      4.885249      5.905438      1.071300   \n",
       "min        1.000000      2.000000      1.000000      1.300000      0.000000   \n",
       "25%        5.000000     18.600000      2.000000      7.000000      0.000000   \n",
       "50%        9.000000     30.000000      4.000000      9.100000      1.000000   \n",
       "75%       16.000000     42.300000      8.000000     12.000000      2.000000   \n",
       "max       60.000000    409.700000     33.000000    112.000000      5.000000   \n",
       "\n",
       "       airports_nearest  cityCenters_nearest  parks_around3000  parks_nearest  \\\n",
       "count      18157.000000         18180.000000      18181.000000    8079.000000   \n",
       "mean       28793.672193         14191.277833          0.611408     490.804555   \n",
       "std        12630.880622          8608.386210          0.802074     342.317995   \n",
       "min            0.000000           181.000000          0.000000       1.000000   \n",
       "25%        18585.000000          9238.000000          0.000000     288.000000   \n",
       "50%        26726.000000         13098.500000          0.000000     455.000000   \n",
       "75%        37273.000000         16293.000000          1.000000     612.000000   \n",
       "max        84869.000000         65968.000000          3.000000    3190.000000   \n",
       "\n",
       "       ponds_around3000  ponds_nearest  days_exposition  \n",
       "count      18181.000000    9110.000000     20518.000000  \n",
       "mean           0.770255     517.980900       180.888634  \n",
       "std            0.938346     277.720643       219.727988  \n",
       "min            0.000000      13.000000         1.000000  \n",
       "25%            0.000000     294.000000        45.000000  \n",
       "50%            1.000000     502.000000        95.000000  \n",
       "75%            1.000000     729.000000       232.000000  \n",
       "max            3.000000    1344.000000      1580.000000  "
      ]
     },
     "execution_count": 4,
     "metadata": {},
     "output_type": "execute_result"
    }
   ],
   "source": [
    "estate.describe()"
   ]
  },
  {
   "cell_type": "markdown",
   "metadata": {},
   "source": [
    "### <a id=\"describe_start\">Описание данных</a>"
   ]
  },
  {
   "cell_type": "markdown",
   "metadata": {},
   "source": [
    "    • airports_nearest — расстояние до ближайшего аэропорта в метрах (м)\n",
    "    • balcony — число балконов\n",
    "    • ceiling_height — высота потолков (м)\n",
    "    • city_сenters_nearest — расстояние до центра города (м)\n",
    "    • days_exposition — сколько дней было размещено объявление (от публикации до снятия)\n",
    "    • first_day_exposition — дата публикации\n",
    "    • floor — этаж\n",
    "    • floors_total — всего этажей в доме\n",
    "    • is_apartment — апартаменты (булев тип)\n",
    "    • kitchen_area — площадь кухни в квадратных метрах (м²)\n",
    "    • last_price — цена на момент снятия с публикации\n",
    "    • living_area — жилая площадь в квадратных метрах(м²)\n",
    "    • locality_name — название населённого пункта\n",
    "    • open_plan — свободная планировка (булев тип)\n",
    "    • parks_around3000 — число парков в радиусе 3 км\n",
    "    • parks_nearest — расстояние до ближайшего парка (м)\n",
    "    • ponds_around3000 — число водоёмов в радиусе 3 км\n",
    "    • ponds_nearest — расстояние до ближайшего водоёма (м)\n",
    "    • rooms — число комнат\n",
    "    • studio — квартира-студия (булев тип)\n",
    "    • total_area — площадь квартиры в квадратных метрах (м²)\n",
    "    • total_images — число фотографий квартиры в объявлении"
   ]
  },
  {
   "cell_type": "markdown",
   "metadata": {},
   "source": [
    "### <a id=\"start_summary\">Вывод</a>"
   ]
  },
  {
   "cell_type": "markdown",
   "metadata": {},
   "source": [
    "Полученная нами таблица содержит 23699 записей (строк) и 22 параметра (столбца). Из них всего 8 не содержат пропусков. В столбце `'cityCenters_nearest'` присутствует заглавная буква, что нарушает единообразие названий столбцов.\n",
    "Также наблюдаются несоответствия в типах данных: вместо 3 параметров, принимающих булевы значения, в нашей таблице только 2 столбца имеют корректный тип; столбцы, содержащие данные о количестве этажей в доме, количестве балконов и количестве парков и водоемов в радиусе 3 км., имеют тип float, тогда как параметр может принимать только целочисленные значения."
   ]
  },
  {
   "cell_type": "markdown",
   "metadata": {},
   "source": [
    "<div class=\"alert alert-block alert-info\">\n",
    "   Что касается пропусков, данные о высоте потолков, количестве этажей в здании, жилой площади и площади кухни, количестве балконов и принадлежности жилья к классу аппартаментов - указываются лицом, размещающим объявление. Часть пропусков имеют случайный характер, другая часть может нести определенную информацию. Так, количество балконов могли пропустить респонденты, размещающие объявления на продажу квартир, не имеющих балконов. А информация о принадлежности жилья к классу аппартаментов могла быть опущена намеренно с целью \"попасть\" в ценовой сегмент полноценного жилья. С другой стороны, пропустить этот параметр могли так же, как в случае с балконами, респонденты, квартиры которых не относятся к аппартаментам.\n",
    "\n",
    "Часть значений заполнялась автоматически, программным способом: дата размещения объявления и количество дней до снятия, число фотографий в объявлении, количество в радиусе 3 км. и расстояние до ближайших парков и водоемов. Пропуски в столбце \"количество дней до снятия объявления с публикации\" могут быть обусловлены тем, что объявление до сих пор (на момент выгрузки данных) не снято с публикации. Пропуски в расстояниях могут быть связаны с некооректной работой алгоритма определения расстояния или с некорректным вводом данных адреса пользователями. Если программа не может четко инициализировать расположение дома, в котором находится квартира к продаже, логично, что она не сможет и рассчитать расстояние до ближайших парков и водоемов.\n",
    "    </div> "
   ]
  },
  {
   "cell_type": "markdown",
   "metadata": {},
   "source": [
    "###### [↑ к оглавлению ↑](#to_the_begining)"
   ]
  },
  {
   "cell_type": "markdown",
   "metadata": {},
   "source": [
    "### <a id=\"step2\">Шаг 2. Предобработка данных</a>"
   ]
  },
  {
   "cell_type": "markdown",
   "metadata": {},
   "source": [
    "Сперва приведем к единообразию названия столбцов таблицы:"
   ]
  },
  {
   "cell_type": "code",
   "execution_count": 5,
   "metadata": {},
   "outputs": [],
   "source": [
    "estate.rename(columns=lambda x: \n",
    "              x.replace('cityCenters_nearest', 'city_centers_nearest'), inplace=True)"
   ]
  },
  {
   "cell_type": "markdown",
   "metadata": {},
   "source": [
    "### <a id=\"step2.1\">2.1. Обработка пропусков</a>"
   ]
  },
  {
   "cell_type": "markdown",
   "metadata": {},
   "source": [
    "Посчитаем количество пропусков в данных:"
   ]
  },
  {
   "cell_type": "code",
   "execution_count": 6,
   "metadata": {},
   "outputs": [
    {
     "name": "stdout",
     "output_type": "stream",
     "text": [
      "101441\n"
     ]
    },
    {
     "data": {
      "text/plain": [
       "total_images                0\n",
       "last_price                  0\n",
       "total_area                  0\n",
       "first_day_exposition        0\n",
       "rooms                       0\n",
       "ceiling_height           9195\n",
       "floors_total               86\n",
       "living_area              1903\n",
       "floor                       0\n",
       "is_apartment            20924\n",
       "studio                      0\n",
       "open_plan                   0\n",
       "kitchen_area             2278\n",
       "balcony                 11519\n",
       "locality_name              49\n",
       "airports_nearest         5542\n",
       "city_centers_nearest     5519\n",
       "parks_around3000         5518\n",
       "parks_nearest           15620\n",
       "ponds_around3000         5518\n",
       "ponds_nearest           14589\n",
       "days_exposition          3181\n",
       "dtype: int64"
      ]
     },
     "execution_count": 6,
     "metadata": {},
     "output_type": "execute_result"
    }
   ],
   "source": [
    "print(estate.isna().sum().sum())\n",
    "estate.isna().sum()"
   ]
  },
  {
   "cell_type": "markdown",
   "metadata": {},
   "source": [
    "Всего в таблице 101441 пропуск, больше всего пропусков в столбце, указывающем на принадлежность жилья к классу аппартаментов, на втором месте столбцы \"расстояние до ближайшего парка\" и \"расстояние до ближайшего водоема\", третья позиция у показателей \"количество балконов\" и \"высота потолков\"."
   ]
  },
  {
   "cell_type": "markdown",
   "metadata": {},
   "source": [
    "### <a id=\"is_apartment\">2.1.1. Пропуске в столбце 'is_apartment'</a>"
   ]
  },
  {
   "cell_type": "code",
   "execution_count": 7,
   "metadata": {},
   "outputs": [
    {
     "data": {
      "text/plain": [
       "False    2725\n",
       "True       50\n",
       "Name: is_apartment, dtype: int64"
      ]
     },
     "execution_count": 7,
     "metadata": {},
     "output_type": "execute_result"
    }
   ],
   "source": [
    "estate['is_apartment'].value_counts() #запросим веса уникальных значений параметра 'is_apartment'"
   ]
  },
  {
   "cell_type": "markdown",
   "metadata": {},
   "source": [
    "Видим, что столбец 'is_apartment' фактически состоит из пропусков, за редкими исключениями (заполнено менее 12% данных по столбцу).\n",
    "Апартаменты отличаются от жилых квартир только юридически и стоимостью за квадратный метр при прочих равгных условиях, т.е. на основании имеющихся в нашем распоряжении данных не представляется возможным заполнить пропуски исходя из доступной информации.\n",
    "По данным сервиса \"Яндекс.Недвижимость\" от 08.12.2020 г. для произвольно выбранной области карты, охватывающей Санкт-Петербург и Ленинградскую область, по фильтру \"без апартаментов\" на выходе 36298 вариантов, по фильтру \"только апартаменты\" - 2928 вариантов. Т.о. можно говорить о том, что соотношение апартаментов и не-апартаментов в продаже составляет приблизительно 8 к 100."
   ]
  },
  {
   "cell_type": "code",
   "execution_count": 8,
   "metadata": {},
   "outputs": [
    {
     "name": "stdout",
     "output_type": "stream",
     "text": [
      "Отношение количества апартаментов в продаже к количеству жилой недвижимости составляет: 0.081\n",
      "В изучаемой выборке данных приблизительно 1912 апартаментов и 21787 жилых помещений.\n"
     ]
    }
   ],
   "source": [
    "ap = 2928 / 36298\n",
    "print('Отношение количества апартаментов в продаже к количеству жилой \\\n",
    "недвижимости составляет: {:.3f}'.format(ap))\n",
    "print('В изучаемой выборке данных приблизительно {:.0f} апартаментов \\\n",
    "и {:.0f} жилых помещений.'.format(ap * estate.shape[0], estate.shape[0] - ap * estate.shape[0]))"
   ]
  },
  {
   "cell_type": "markdown",
   "metadata": {},
   "source": [
    "Таким образом, мы получили приблизительное распределение в изучаемой выборке данных по параметру \"является апартаментами / не является апартаментами\", однако не можем достоверно заполнить пропуски на основании этих данных."
   ]
  },
  {
   "cell_type": "markdown",
   "metadata": {},
   "source": [
    "### <a id=\"balcony\">2.1.2. Пропуски в столбце 'balcony'</a>"
   ]
  },
  {
   "cell_type": "code",
   "execution_count": 9,
   "metadata": {},
   "outputs": [
    {
     "data": {
      "text/plain": [
       "1.0    4195\n",
       "0.0    3758\n",
       "2.0    3659\n",
       "5.0     304\n",
       "4.0     183\n",
       "3.0      81\n",
       "Name: balcony, dtype: int64"
      ]
     },
     "execution_count": 9,
     "metadata": {},
     "output_type": "execute_result"
    }
   ],
   "source": [
    "estate['balcony'].value_counts() #запросим веса уникальных значений параметра 'balcony'"
   ]
  },
  {
   "cell_type": "markdown",
   "metadata": {},
   "source": [
    "В столбце, содержащем информацию о количестве балконов, содержится 11519 пропусков. Из таблицы выше видно, что записей с 1 балконом больше, чем записей с количеством балконов, равным 0. Логично предположить, что квартир без балконов в целом больше, чем квартир с каким-либо количеством балконов, а также что при заполнении данных о квартире и отсутствии балкона поле \"количество балконов\" могло было быть пропущено.\n",
    "Заменим пропущенные значения на \"0\": "
   ]
  },
  {
   "cell_type": "code",
   "execution_count": 10,
   "metadata": {},
   "outputs": [
    {
     "data": {
      "text/plain": [
       "0"
      ]
     },
     "execution_count": 10,
     "metadata": {},
     "output_type": "execute_result"
    }
   ],
   "source": [
    "#аргументом inplace заменим значения в исходном датафрейме\n",
    "estate['balcony'].fillna(0, inplace=True)\n",
    "#выведем на экран количество пропусков в столбце после заполнения\n",
    "estate['balcony'].isna().sum()"
   ]
  },
  {
   "cell_type": "markdown",
   "metadata": {},
   "source": [
    "### <a id=\"floors_total\">2.1.3. Пропуски в столбце 'floors_total'</a>"
   ]
  },
  {
   "cell_type": "code",
   "execution_count": 11,
   "metadata": {},
   "outputs": [
    {
     "data": {
      "text/plain": [
       "5.0     5788\n",
       "9.0     3761\n",
       "16.0    1376\n",
       "12.0    1362\n",
       "4.0     1200\n",
       "10.0    1174\n",
       "25.0    1075\n",
       "6.0      914\n",
       "17.0     833\n",
       "3.0      668\n",
       "7.0      592\n",
       "14.0     553\n",
       "18.0     505\n",
       "24.0     469\n",
       "8.0      390\n",
       "2.0      383\n",
       "15.0     365\n",
       "23.0     352\n",
       "19.0     339\n",
       "22.0     286\n",
       "20.0     271\n",
       "13.0     229\n",
       "11.0     203\n",
       "27.0     164\n",
       "21.0     158\n",
       "26.0     124\n",
       "1.0       25\n",
       "35.0      24\n",
       "28.0      21\n",
       "36.0       3\n",
       "29.0       1\n",
       "60.0       1\n",
       "33.0       1\n",
       "52.0       1\n",
       "37.0       1\n",
       "34.0       1\n",
       "Name: floors_total, dtype: int64"
      ]
     },
     "execution_count": 11,
     "metadata": {},
     "output_type": "execute_result"
    }
   ],
   "source": [
    "estate['floors_total'].value_counts()"
   ]
  },
  {
   "cell_type": "markdown",
   "metadata": {},
   "source": [
    "Больше всего 5- и 9-этапжек, что выглядит похожим на правду (массовая типовая застройка), зданий, имеющих всего 1 этаж и количество этажей, близкое к 30 - меньше всего.\n",
    "\n",
    "Самым высоким жилым зданием в Санкт-Петербурге с 2012 года по настоящее время является <a href =\"https://ru.wikipedia.org/wiki/%D0%9A%D0%BD%D1%8F%D0%B7%D1%8C_%D0%90%D0%BB%D0%B5%D0%BA%D1%81%D0%B0%D0%BD%D0%B4%D1%80_%D0%9D%D0%B5%D0%B2%D1%81%D0%BA%D0%B8%D0%B9_(%D0%B6%D0%B8%D0%BB%D0%BE%D0%B9_%D0%BA%D0%BE%D0%BC%D0%BF%D0%BB%D0%B5%D0%BA%D1%81)\">ЖК «Князь Александр Невский»</a>, который включает в себя 37 этажей. Следовательно, значения \"52\" и \"60\" можно считать ошибочными. Наиболее вероятно, что реальная этажность для указанных строк составляет \"5\" и \"6\" этажей соответственно. Исправим ошибочные значения:"
   ]
  },
  {
   "cell_type": "code",
   "execution_count": 12,
   "metadata": {},
   "outputs": [
    {
     "data": {
      "text/plain": [
       "0        16.0\n",
       "1        11.0\n",
       "2         5.0\n",
       "3        14.0\n",
       "4        14.0\n",
       "         ... \n",
       "23694     5.0\n",
       "23695     5.0\n",
       "23696     3.0\n",
       "23697    17.0\n",
       "23698     5.0\n",
       "Name: floors_total, Length: 23699, dtype: float64"
      ]
     },
     "execution_count": 12,
     "metadata": {},
     "output_type": "execute_result"
    }
   ],
   "source": [
    "estate['floors_total'].replace(60, 6)\n",
    "estate['floors_total'].replace(52, 5)"
   ]
  },
  {
   "cell_type": "markdown",
   "metadata": {},
   "source": [
    "Заполнить пропуски без дальнейшего искажения результатов также не представляется возможным, однако мы имеем всего 86 пропусков из 23699 строк данных, т.е. чуть более 0,36% от общего количества записей, и можем пожертвовать строками с пропусками:"
   ]
  },
  {
   "cell_type": "code",
   "execution_count": 13,
   "metadata": {},
   "outputs": [
    {
     "data": {
      "text/plain": [
       "0"
      ]
     },
     "execution_count": 13,
     "metadata": {},
     "output_type": "execute_result"
    }
   ],
   "source": [
    "estate['floors_total'].dropna(inplace=True)\n",
    "estate['floors_total'].isna().sum()"
   ]
  },
  {
   "cell_type": "markdown",
   "metadata": {},
   "source": [
    "### <a id=\"ceiling_height\">2.1.4. Пропуски в столбце 'ceiling_height'</a>"
   ]
  },
  {
   "cell_type": "code",
   "execution_count": 14,
   "metadata": {},
   "outputs": [
    {
     "data": {
      "text/plain": [
       "array([  2.7 ,    nan,   3.03,   2.5 ,   2.67,   2.56,   3.05,   2.75,\n",
       "         2.6 ,   2.9 ,   2.8 ,   2.55,   3.  ,   2.65,   3.2 ,   2.61,\n",
       "         3.25,   3.45,   2.77,   2.85,   2.64,   2.57,   4.15,   3.5 ,\n",
       "         3.3 ,   2.71,   4.  ,   2.47,   2.73,   2.84,   3.1 ,   2.34,\n",
       "         3.4 ,   3.06,   2.72,   2.54,   2.51,   2.78,   2.76,  25.  ,\n",
       "         2.58,   3.7 ,   2.52,   5.2 ,   2.87,   2.66,   2.59,   2.  ,\n",
       "         2.45,   3.6 ,   2.92,   3.11,   3.13,   3.8 ,   3.15,   3.55,\n",
       "         3.16,   3.62,   3.12,   2.53,   2.74,   2.96,   2.46,   5.3 ,\n",
       "         5.  ,   2.79,   2.95,   4.06,   2.94,   3.82,   3.54,   3.53,\n",
       "         2.83,   4.7 ,   2.4 ,   3.38,   3.01,   5.6 ,   3.65,   3.9 ,\n",
       "         3.18,   3.35,   2.3 ,   3.57,   2.48,   2.62,   2.82,   3.98,\n",
       "         2.63,   3.83,   3.52,   3.95,   3.75,   2.88,   3.67,   3.87,\n",
       "         3.66,   3.85,   3.86,   4.19,   3.24,   4.8 ,   4.5 ,   4.2 ,\n",
       "         3.36,  32.  ,   3.08,   3.68,   3.07,   3.37,   3.09,   8.  ,\n",
       "         3.26,   3.34,   2.81,   3.44,   2.97,   3.14,   4.37,   2.68,\n",
       "         3.22,   3.27,  27.  ,   4.1 ,   2.93,   3.46,  24.  ,   3.47,\n",
       "         3.33,   3.63,   3.32,  26.  ,   1.2 ,   8.3 ,   2.98,   2.86,\n",
       "         3.17,   4.4 ,   3.28,   3.04,   4.45,   5.5 ,   3.84,   3.23,\n",
       "         3.02,   3.21,   3.43,   3.78,   4.3 ,   3.39,   2.69,   3.31,\n",
       "         4.65,   3.56,   2.2 ,   3.51,   3.93,   3.42,   2.99,   3.49,\n",
       "        14.  ,   4.14,   2.91,   3.88,   1.75,   4.25,   3.29,  20.  ,\n",
       "         2.25,   3.76,   3.69,   6.  ,  22.6 ,   2.89,   3.58,   5.8 ,\n",
       "        27.5 ,   2.49,   4.9 ,   3.48,  10.3 ,   1.  , 100.  ,   3.59])"
      ]
     },
     "execution_count": 14,
     "metadata": {},
     "output_type": "execute_result"
    }
   ],
   "source": [
    "#запросим уникальные значения для столбца 'ceiling_height'\n",
    "estate['ceiling_height'].unique()"
   ]
  },
  {
   "cell_type": "markdown",
   "metadata": {},
   "source": [
    "Как мы можем увидеть, помимо пропусков в столбце есть аномальные значения - квартиры с высотой потолков больше 8 метров и меньше 2. Также имеются значения с ошибочно проставленным порядком (например, вместо 2.75 - 27.5).\n",
    "Сначала разберемся с некорректными значениями порядка:"
   ]
  },
  {
   "cell_type": "code",
   "execution_count": 15,
   "metadata": {},
   "outputs": [
    {
     "data": {
      "text/plain": [
       "0        2.70\n",
       "1         NaN\n",
       "2         NaN\n",
       "3         NaN\n",
       "4        3.03\n",
       "         ... \n",
       "23694    3.70\n",
       "23695     NaN\n",
       "23696     NaN\n",
       "23697    3.00\n",
       "23698    2.50\n",
       "Name: ceiling_height, Length: 23699, dtype: float64"
      ]
     },
     "execution_count": 15,
     "metadata": {},
     "output_type": "execute_result"
    }
   ],
   "source": [
    "estate['ceiling_height'].replace(26., 2.6)\n",
    "estate['ceiling_height'].replace(24., 2.4)\n",
    "estate['ceiling_height'].replace(2., 2.5)\n",
    "estate['ceiling_height'].replace(27., 2.7)\n",
    "estate['ceiling_height'].replace(27.5, 2.75)\n",
    "estate['ceiling_height'].replace(32., 3.2)\n"
   ]
  },
  {
   "cell_type": "markdown",
   "metadata": {},
   "source": [
    "Предположим, высота потолков в двухэтажных квартирах, пентхаусах или мансардах может достигать 8 метров (по 4 метра на этаж), но вряд ли больше этой величины. Также потолки в квартире вряд ли могут быть менее 2 метров, и тем более 1 метр или 1 метр 20 сантиметров. А если и так, это исключительные случаи, которые не вписываются в общую картину, и за счет их малого количества, можно пожертвовать этими записями."
   ]
  },
  {
   "cell_type": "code",
   "execution_count": 16,
   "metadata": {},
   "outputs": [
    {
     "data": {
      "text/html": [
       "<div>\n",
       "<style scoped>\n",
       "    .dataframe tbody tr th:only-of-type {\n",
       "        vertical-align: middle;\n",
       "    }\n",
       "\n",
       "    .dataframe tbody tr th {\n",
       "        vertical-align: top;\n",
       "    }\n",
       "\n",
       "    .dataframe thead th {\n",
       "        text-align: right;\n",
       "    }\n",
       "</style>\n",
       "<table border=\"1\" class=\"dataframe\">\n",
       "  <thead>\n",
       "    <tr style=\"text-align: right;\">\n",
       "      <th></th>\n",
       "      <th>total_images</th>\n",
       "      <th>last_price</th>\n",
       "      <th>total_area</th>\n",
       "      <th>first_day_exposition</th>\n",
       "      <th>rooms</th>\n",
       "      <th>ceiling_height</th>\n",
       "      <th>floors_total</th>\n",
       "      <th>living_area</th>\n",
       "      <th>floor</th>\n",
       "      <th>is_apartment</th>\n",
       "      <th>studio</th>\n",
       "      <th>open_plan</th>\n",
       "      <th>kitchen_area</th>\n",
       "      <th>balcony</th>\n",
       "      <th>locality_name</th>\n",
       "      <th>airports_nearest</th>\n",
       "      <th>city_centers_nearest</th>\n",
       "      <th>parks_around3000</th>\n",
       "      <th>parks_nearest</th>\n",
       "      <th>ponds_around3000</th>\n",
       "      <th>ponds_nearest</th>\n",
       "      <th>days_exposition</th>\n",
       "    </tr>\n",
       "  </thead>\n",
       "  <tbody>\n",
       "    <tr>\n",
       "      <th>22590</th>\n",
       "      <td>16</td>\n",
       "      <td>6000000.0</td>\n",
       "      <td>55.00</td>\n",
       "      <td>2018-10-31T00:00:00</td>\n",
       "      <td>2</td>\n",
       "      <td>1.00</td>\n",
       "      <td>12.0</td>\n",
       "      <td>32.4</td>\n",
       "      <td>7</td>\n",
       "      <td>NaN</td>\n",
       "      <td>False</td>\n",
       "      <td>False</td>\n",
       "      <td>10.00</td>\n",
       "      <td>0.0</td>\n",
       "      <td>Санкт-Петербург</td>\n",
       "      <td>33053.0</td>\n",
       "      <td>14217.0</td>\n",
       "      <td>2.0</td>\n",
       "      <td>293.0</td>\n",
       "      <td>2.0</td>\n",
       "      <td>289.0</td>\n",
       "      <td>13.0</td>\n",
       "    </tr>\n",
       "    <tr>\n",
       "      <th>5712</th>\n",
       "      <td>5</td>\n",
       "      <td>1500000.0</td>\n",
       "      <td>42.80</td>\n",
       "      <td>2017-08-14T00:00:00</td>\n",
       "      <td>2</td>\n",
       "      <td>1.20</td>\n",
       "      <td>2.0</td>\n",
       "      <td>27.5</td>\n",
       "      <td>1</td>\n",
       "      <td>NaN</td>\n",
       "      <td>False</td>\n",
       "      <td>False</td>\n",
       "      <td>5.20</td>\n",
       "      <td>0.0</td>\n",
       "      <td>городской посёлок Мга</td>\n",
       "      <td>NaN</td>\n",
       "      <td>NaN</td>\n",
       "      <td>NaN</td>\n",
       "      <td>NaN</td>\n",
       "      <td>NaN</td>\n",
       "      <td>NaN</td>\n",
       "      <td>248.0</td>\n",
       "    </tr>\n",
       "    <tr>\n",
       "      <th>16934</th>\n",
       "      <td>5</td>\n",
       "      <td>4100000.0</td>\n",
       "      <td>40.00</td>\n",
       "      <td>2017-10-17T00:00:00</td>\n",
       "      <td>1</td>\n",
       "      <td>1.75</td>\n",
       "      <td>37.0</td>\n",
       "      <td>17.4</td>\n",
       "      <td>5</td>\n",
       "      <td>NaN</td>\n",
       "      <td>False</td>\n",
       "      <td>False</td>\n",
       "      <td>8.34</td>\n",
       "      <td>0.0</td>\n",
       "      <td>Санкт-Петербург</td>\n",
       "      <td>18732.0</td>\n",
       "      <td>20444.0</td>\n",
       "      <td>0.0</td>\n",
       "      <td>NaN</td>\n",
       "      <td>3.0</td>\n",
       "      <td>80.0</td>\n",
       "      <td>71.0</td>\n",
       "    </tr>\n",
       "    <tr>\n",
       "      <th>11352</th>\n",
       "      <td>4</td>\n",
       "      <td>3300000.0</td>\n",
       "      <td>36.00</td>\n",
       "      <td>2017-06-18T00:00:00</td>\n",
       "      <td>1</td>\n",
       "      <td>2.00</td>\n",
       "      <td>17.0</td>\n",
       "      <td>15.2</td>\n",
       "      <td>12</td>\n",
       "      <td>NaN</td>\n",
       "      <td>False</td>\n",
       "      <td>False</td>\n",
       "      <td>10.10</td>\n",
       "      <td>0.0</td>\n",
       "      <td>посёлок Металлострой</td>\n",
       "      <td>25268.0</td>\n",
       "      <td>26980.0</td>\n",
       "      <td>0.0</td>\n",
       "      <td>NaN</td>\n",
       "      <td>0.0</td>\n",
       "      <td>NaN</td>\n",
       "      <td>53.0</td>\n",
       "    </tr>\n",
       "    <tr>\n",
       "      <th>16884</th>\n",
       "      <td>0</td>\n",
       "      <td>1500000.0</td>\n",
       "      <td>33.00</td>\n",
       "      <td>2018-10-03T00:00:00</td>\n",
       "      <td>1</td>\n",
       "      <td>2.00</td>\n",
       "      <td>5.0</td>\n",
       "      <td>20.0</td>\n",
       "      <td>5</td>\n",
       "      <td>False</td>\n",
       "      <td>False</td>\n",
       "      <td>False</td>\n",
       "      <td>6.00</td>\n",
       "      <td>0.0</td>\n",
       "      <td>Выборг</td>\n",
       "      <td>NaN</td>\n",
       "      <td>NaN</td>\n",
       "      <td>NaN</td>\n",
       "      <td>NaN</td>\n",
       "      <td>NaN</td>\n",
       "      <td>NaN</td>\n",
       "      <td>6.0</td>\n",
       "    </tr>\n",
       "    <tr>\n",
       "      <th>5850</th>\n",
       "      <td>9</td>\n",
       "      <td>1650000.0</td>\n",
       "      <td>35.50</td>\n",
       "      <td>2018-05-29T00:00:00</td>\n",
       "      <td>1</td>\n",
       "      <td>2.00</td>\n",
       "      <td>5.0</td>\n",
       "      <td>NaN</td>\n",
       "      <td>5</td>\n",
       "      <td>NaN</td>\n",
       "      <td>False</td>\n",
       "      <td>False</td>\n",
       "      <td>NaN</td>\n",
       "      <td>0.0</td>\n",
       "      <td>Луга</td>\n",
       "      <td>NaN</td>\n",
       "      <td>NaN</td>\n",
       "      <td>NaN</td>\n",
       "      <td>NaN</td>\n",
       "      <td>NaN</td>\n",
       "      <td>NaN</td>\n",
       "      <td>100.0</td>\n",
       "    </tr>\n",
       "    <tr>\n",
       "      <th>19098</th>\n",
       "      <td>7</td>\n",
       "      <td>2700000.0</td>\n",
       "      <td>56.00</td>\n",
       "      <td>2018-02-04T00:00:00</td>\n",
       "      <td>3</td>\n",
       "      <td>2.00</td>\n",
       "      <td>5.0</td>\n",
       "      <td>46.0</td>\n",
       "      <td>1</td>\n",
       "      <td>NaN</td>\n",
       "      <td>False</td>\n",
       "      <td>False</td>\n",
       "      <td>6.00</td>\n",
       "      <td>0.0</td>\n",
       "      <td>Выборг</td>\n",
       "      <td>NaN</td>\n",
       "      <td>NaN</td>\n",
       "      <td>NaN</td>\n",
       "      <td>NaN</td>\n",
       "      <td>NaN</td>\n",
       "      <td>NaN</td>\n",
       "      <td>282.0</td>\n",
       "    </tr>\n",
       "    <tr>\n",
       "      <th>16446</th>\n",
       "      <td>6</td>\n",
       "      <td>12300000.0</td>\n",
       "      <td>88.30</td>\n",
       "      <td>2019-03-12T00:00:00</td>\n",
       "      <td>3</td>\n",
       "      <td>2.00</td>\n",
       "      <td>5.0</td>\n",
       "      <td>63.9</td>\n",
       "      <td>2</td>\n",
       "      <td>NaN</td>\n",
       "      <td>False</td>\n",
       "      <td>False</td>\n",
       "      <td>12.00</td>\n",
       "      <td>0.0</td>\n",
       "      <td>Санкт-Петербург</td>\n",
       "      <td>38415.0</td>\n",
       "      <td>7675.0</td>\n",
       "      <td>1.0</td>\n",
       "      <td>568.0</td>\n",
       "      <td>1.0</td>\n",
       "      <td>154.0</td>\n",
       "      <td>NaN</td>\n",
       "    </tr>\n",
       "    <tr>\n",
       "      <th>19329</th>\n",
       "      <td>5</td>\n",
       "      <td>1700000.0</td>\n",
       "      <td>40.00</td>\n",
       "      <td>2018-07-15T00:00:00</td>\n",
       "      <td>2</td>\n",
       "      <td>2.00</td>\n",
       "      <td>9.0</td>\n",
       "      <td>NaN</td>\n",
       "      <td>8</td>\n",
       "      <td>NaN</td>\n",
       "      <td>False</td>\n",
       "      <td>False</td>\n",
       "      <td>NaN</td>\n",
       "      <td>0.0</td>\n",
       "      <td>Сосновый Бор</td>\n",
       "      <td>NaN</td>\n",
       "      <td>NaN</td>\n",
       "      <td>NaN</td>\n",
       "      <td>NaN</td>\n",
       "      <td>NaN</td>\n",
       "      <td>NaN</td>\n",
       "      <td>45.0</td>\n",
       "    </tr>\n",
       "    <tr>\n",
       "      <th>22960</th>\n",
       "      <td>17</td>\n",
       "      <td>2300000.0</td>\n",
       "      <td>53.60</td>\n",
       "      <td>2018-10-18T00:00:00</td>\n",
       "      <td>2</td>\n",
       "      <td>2.00</td>\n",
       "      <td>2.0</td>\n",
       "      <td>19.0</td>\n",
       "      <td>1</td>\n",
       "      <td>NaN</td>\n",
       "      <td>False</td>\n",
       "      <td>False</td>\n",
       "      <td>10.00</td>\n",
       "      <td>0.0</td>\n",
       "      <td>Всеволожск</td>\n",
       "      <td>NaN</td>\n",
       "      <td>NaN</td>\n",
       "      <td>NaN</td>\n",
       "      <td>NaN</td>\n",
       "      <td>NaN</td>\n",
       "      <td>NaN</td>\n",
       "      <td>NaN</td>\n",
       "    </tr>\n",
       "    <tr>\n",
       "      <th>20520</th>\n",
       "      <td>9</td>\n",
       "      <td>3600000.0</td>\n",
       "      <td>38.00</td>\n",
       "      <td>2018-07-05T00:00:00</td>\n",
       "      <td>1</td>\n",
       "      <td>2.00</td>\n",
       "      <td>12.0</td>\n",
       "      <td>15.0</td>\n",
       "      <td>9</td>\n",
       "      <td>NaN</td>\n",
       "      <td>False</td>\n",
       "      <td>False</td>\n",
       "      <td>11.80</td>\n",
       "      <td>1.0</td>\n",
       "      <td>Кудрово</td>\n",
       "      <td>NaN</td>\n",
       "      <td>NaN</td>\n",
       "      <td>NaN</td>\n",
       "      <td>NaN</td>\n",
       "      <td>NaN</td>\n",
       "      <td>NaN</td>\n",
       "      <td>62.0</td>\n",
       "    </tr>\n",
       "    <tr>\n",
       "      <th>4212</th>\n",
       "      <td>1</td>\n",
       "      <td>2120000.0</td>\n",
       "      <td>35.43</td>\n",
       "      <td>2017-12-18T00:00:00</td>\n",
       "      <td>1</td>\n",
       "      <td>2.00</td>\n",
       "      <td>18.0</td>\n",
       "      <td>16.6</td>\n",
       "      <td>9</td>\n",
       "      <td>NaN</td>\n",
       "      <td>False</td>\n",
       "      <td>False</td>\n",
       "      <td>8.80</td>\n",
       "      <td>2.0</td>\n",
       "      <td>Тосно</td>\n",
       "      <td>NaN</td>\n",
       "      <td>NaN</td>\n",
       "      <td>NaN</td>\n",
       "      <td>NaN</td>\n",
       "      <td>NaN</td>\n",
       "      <td>NaN</td>\n",
       "      <td>36.0</td>\n",
       "    </tr>\n",
       "    <tr>\n",
       "      <th>2572</th>\n",
       "      <td>4</td>\n",
       "      <td>2400000.0</td>\n",
       "      <td>62.00</td>\n",
       "      <td>2018-12-27T00:00:00</td>\n",
       "      <td>3</td>\n",
       "      <td>2.00</td>\n",
       "      <td>5.0</td>\n",
       "      <td>40.0</td>\n",
       "      <td>4</td>\n",
       "      <td>NaN</td>\n",
       "      <td>False</td>\n",
       "      <td>False</td>\n",
       "      <td>6.00</td>\n",
       "      <td>1.0</td>\n",
       "      <td>Луга</td>\n",
       "      <td>NaN</td>\n",
       "      <td>NaN</td>\n",
       "      <td>NaN</td>\n",
       "      <td>NaN</td>\n",
       "      <td>NaN</td>\n",
       "      <td>NaN</td>\n",
       "      <td>NaN</td>\n",
       "    </tr>\n",
       "    <tr>\n",
       "      <th>552</th>\n",
       "      <td>11</td>\n",
       "      <td>2999000.0</td>\n",
       "      <td>33.50</td>\n",
       "      <td>2017-03-30T00:00:00</td>\n",
       "      <td>1</td>\n",
       "      <td>2.00</td>\n",
       "      <td>15.0</td>\n",
       "      <td>17.5</td>\n",
       "      <td>6</td>\n",
       "      <td>NaN</td>\n",
       "      <td>False</td>\n",
       "      <td>False</td>\n",
       "      <td>6.50</td>\n",
       "      <td>0.0</td>\n",
       "      <td>Санкт-Петербург</td>\n",
       "      <td>33972.0</td>\n",
       "      <td>11746.0</td>\n",
       "      <td>1.0</td>\n",
       "      <td>520.0</td>\n",
       "      <td>1.0</td>\n",
       "      <td>949.0</td>\n",
       "      <td>270.0</td>\n",
       "    </tr>\n",
       "    <tr>\n",
       "      <th>5863</th>\n",
       "      <td>20</td>\n",
       "      <td>5650000.0</td>\n",
       "      <td>45.00</td>\n",
       "      <td>2018-08-15T00:00:00</td>\n",
       "      <td>1</td>\n",
       "      <td>8.30</td>\n",
       "      <td>16.0</td>\n",
       "      <td>19.3</td>\n",
       "      <td>14</td>\n",
       "      <td>NaN</td>\n",
       "      <td>False</td>\n",
       "      <td>False</td>\n",
       "      <td>8.30</td>\n",
       "      <td>1.0</td>\n",
       "      <td>Санкт-Петербург</td>\n",
       "      <td>13069.0</td>\n",
       "      <td>10763.0</td>\n",
       "      <td>0.0</td>\n",
       "      <td>NaN</td>\n",
       "      <td>1.0</td>\n",
       "      <td>613.0</td>\n",
       "      <td>14.0</td>\n",
       "    </tr>\n",
       "    <tr>\n",
       "      <th>22309</th>\n",
       "      <td>20</td>\n",
       "      <td>5300000.0</td>\n",
       "      <td>45.00</td>\n",
       "      <td>2017-09-30T00:00:00</td>\n",
       "      <td>1</td>\n",
       "      <td>10.30</td>\n",
       "      <td>16.0</td>\n",
       "      <td>15.5</td>\n",
       "      <td>15</td>\n",
       "      <td>NaN</td>\n",
       "      <td>False</td>\n",
       "      <td>False</td>\n",
       "      <td>NaN</td>\n",
       "      <td>0.0</td>\n",
       "      <td>Санкт-Петербург</td>\n",
       "      <td>36353.0</td>\n",
       "      <td>11936.0</td>\n",
       "      <td>2.0</td>\n",
       "      <td>440.0</td>\n",
       "      <td>2.0</td>\n",
       "      <td>450.0</td>\n",
       "      <td>136.0</td>\n",
       "    </tr>\n",
       "    <tr>\n",
       "      <th>15061</th>\n",
       "      <td>19</td>\n",
       "      <td>5600000.0</td>\n",
       "      <td>56.40</td>\n",
       "      <td>2018-05-11T00:00:00</td>\n",
       "      <td>2</td>\n",
       "      <td>14.00</td>\n",
       "      <td>14.0</td>\n",
       "      <td>32.4</td>\n",
       "      <td>5</td>\n",
       "      <td>NaN</td>\n",
       "      <td>False</td>\n",
       "      <td>False</td>\n",
       "      <td>9.10</td>\n",
       "      <td>2.0</td>\n",
       "      <td>Санкт-Петербург</td>\n",
       "      <td>14814.0</td>\n",
       "      <td>13610.0</td>\n",
       "      <td>0.0</td>\n",
       "      <td>NaN</td>\n",
       "      <td>0.0</td>\n",
       "      <td>NaN</td>\n",
       "      <td>315.0</td>\n",
       "    </tr>\n",
       "    <tr>\n",
       "      <th>17496</th>\n",
       "      <td>15</td>\n",
       "      <td>6700000.0</td>\n",
       "      <td>92.90</td>\n",
       "      <td>2019-02-19T00:00:00</td>\n",
       "      <td>3</td>\n",
       "      <td>20.00</td>\n",
       "      <td>17.0</td>\n",
       "      <td>53.2</td>\n",
       "      <td>14</td>\n",
       "      <td>NaN</td>\n",
       "      <td>False</td>\n",
       "      <td>False</td>\n",
       "      <td>12.00</td>\n",
       "      <td>5.0</td>\n",
       "      <td>Санкт-Петербург</td>\n",
       "      <td>16295.0</td>\n",
       "      <td>15092.0</td>\n",
       "      <td>1.0</td>\n",
       "      <td>967.0</td>\n",
       "      <td>0.0</td>\n",
       "      <td>NaN</td>\n",
       "      <td>NaN</td>\n",
       "    </tr>\n",
       "    <tr>\n",
       "      <th>20507</th>\n",
       "      <td>12</td>\n",
       "      <td>5950000.0</td>\n",
       "      <td>60.00</td>\n",
       "      <td>2018-02-19T00:00:00</td>\n",
       "      <td>2</td>\n",
       "      <td>22.60</td>\n",
       "      <td>14.0</td>\n",
       "      <td>35.0</td>\n",
       "      <td>11</td>\n",
       "      <td>NaN</td>\n",
       "      <td>False</td>\n",
       "      <td>False</td>\n",
       "      <td>13.00</td>\n",
       "      <td>1.0</td>\n",
       "      <td>Санкт-Петербург</td>\n",
       "      <td>27028.0</td>\n",
       "      <td>12570.0</td>\n",
       "      <td>0.0</td>\n",
       "      <td>NaN</td>\n",
       "      <td>0.0</td>\n",
       "      <td>NaN</td>\n",
       "      <td>40.0</td>\n",
       "    </tr>\n",
       "    <tr>\n",
       "      <th>5076</th>\n",
       "      <td>0</td>\n",
       "      <td>3850000.0</td>\n",
       "      <td>30.50</td>\n",
       "      <td>2018-10-03T00:00:00</td>\n",
       "      <td>1</td>\n",
       "      <td>24.00</td>\n",
       "      <td>5.0</td>\n",
       "      <td>19.5</td>\n",
       "      <td>1</td>\n",
       "      <td>True</td>\n",
       "      <td>False</td>\n",
       "      <td>False</td>\n",
       "      <td>5.50</td>\n",
       "      <td>0.0</td>\n",
       "      <td>Санкт-Петербург</td>\n",
       "      <td>29686.0</td>\n",
       "      <td>8389.0</td>\n",
       "      <td>3.0</td>\n",
       "      <td>397.0</td>\n",
       "      <td>1.0</td>\n",
       "      <td>578.0</td>\n",
       "      <td>7.0</td>\n",
       "    </tr>\n",
       "    <tr>\n",
       "      <th>18545</th>\n",
       "      <td>6</td>\n",
       "      <td>3750000.0</td>\n",
       "      <td>43.00</td>\n",
       "      <td>2019-03-18T00:00:00</td>\n",
       "      <td>2</td>\n",
       "      <td>25.00</td>\n",
       "      <td>5.0</td>\n",
       "      <td>29.0</td>\n",
       "      <td>3</td>\n",
       "      <td>False</td>\n",
       "      <td>False</td>\n",
       "      <td>False</td>\n",
       "      <td>NaN</td>\n",
       "      <td>0.0</td>\n",
       "      <td>Санкт-Петербург</td>\n",
       "      <td>27054.0</td>\n",
       "      <td>8033.0</td>\n",
       "      <td>1.0</td>\n",
       "      <td>540.0</td>\n",
       "      <td>0.0</td>\n",
       "      <td>NaN</td>\n",
       "      <td>12.0</td>\n",
       "    </tr>\n",
       "    <tr>\n",
       "      <th>355</th>\n",
       "      <td>17</td>\n",
       "      <td>3600000.0</td>\n",
       "      <td>55.20</td>\n",
       "      <td>2018-07-12T00:00:00</td>\n",
       "      <td>2</td>\n",
       "      <td>25.00</td>\n",
       "      <td>5.0</td>\n",
       "      <td>32.0</td>\n",
       "      <td>2</td>\n",
       "      <td>False</td>\n",
       "      <td>False</td>\n",
       "      <td>False</td>\n",
       "      <td>NaN</td>\n",
       "      <td>2.0</td>\n",
       "      <td>Гатчина</td>\n",
       "      <td>NaN</td>\n",
       "      <td>NaN</td>\n",
       "      <td>NaN</td>\n",
       "      <td>NaN</td>\n",
       "      <td>NaN</td>\n",
       "      <td>NaN</td>\n",
       "      <td>259.0</td>\n",
       "    </tr>\n",
       "    <tr>\n",
       "      <th>11285</th>\n",
       "      <td>0</td>\n",
       "      <td>1950000.0</td>\n",
       "      <td>37.00</td>\n",
       "      <td>2019-03-20T00:00:00</td>\n",
       "      <td>1</td>\n",
       "      <td>25.00</td>\n",
       "      <td>5.0</td>\n",
       "      <td>17.0</td>\n",
       "      <td>4</td>\n",
       "      <td>False</td>\n",
       "      <td>False</td>\n",
       "      <td>False</td>\n",
       "      <td>9.00</td>\n",
       "      <td>2.0</td>\n",
       "      <td>Луга</td>\n",
       "      <td>NaN</td>\n",
       "      <td>NaN</td>\n",
       "      <td>NaN</td>\n",
       "      <td>NaN</td>\n",
       "      <td>NaN</td>\n",
       "      <td>NaN</td>\n",
       "      <td>18.0</td>\n",
       "    </tr>\n",
       "    <tr>\n",
       "      <th>4643</th>\n",
       "      <td>0</td>\n",
       "      <td>4300000.0</td>\n",
       "      <td>45.00</td>\n",
       "      <td>2018-02-01T00:00:00</td>\n",
       "      <td>2</td>\n",
       "      <td>25.00</td>\n",
       "      <td>9.0</td>\n",
       "      <td>30.0</td>\n",
       "      <td>2</td>\n",
       "      <td>NaN</td>\n",
       "      <td>False</td>\n",
       "      <td>False</td>\n",
       "      <td>7.00</td>\n",
       "      <td>1.0</td>\n",
       "      <td>Санкт-Петербург</td>\n",
       "      <td>12016.0</td>\n",
       "      <td>13256.0</td>\n",
       "      <td>1.0</td>\n",
       "      <td>658.0</td>\n",
       "      <td>1.0</td>\n",
       "      <td>331.0</td>\n",
       "      <td>181.0</td>\n",
       "    </tr>\n",
       "    <tr>\n",
       "      <th>6246</th>\n",
       "      <td>6</td>\n",
       "      <td>3300000.0</td>\n",
       "      <td>44.40</td>\n",
       "      <td>2019-03-25T00:00:00</td>\n",
       "      <td>2</td>\n",
       "      <td>25.00</td>\n",
       "      <td>5.0</td>\n",
       "      <td>31.3</td>\n",
       "      <td>5</td>\n",
       "      <td>NaN</td>\n",
       "      <td>False</td>\n",
       "      <td>False</td>\n",
       "      <td>5.70</td>\n",
       "      <td>0.0</td>\n",
       "      <td>Кронштадт</td>\n",
       "      <td>68923.0</td>\n",
       "      <td>50649.0</td>\n",
       "      <td>1.0</td>\n",
       "      <td>417.0</td>\n",
       "      <td>2.0</td>\n",
       "      <td>73.0</td>\n",
       "      <td>NaN</td>\n",
       "    </tr>\n",
       "    <tr>\n",
       "      <th>14382</th>\n",
       "      <td>9</td>\n",
       "      <td>1700000.0</td>\n",
       "      <td>35.00</td>\n",
       "      <td>2015-12-04T00:00:00</td>\n",
       "      <td>1</td>\n",
       "      <td>25.00</td>\n",
       "      <td>5.0</td>\n",
       "      <td>20.0</td>\n",
       "      <td>2</td>\n",
       "      <td>False</td>\n",
       "      <td>False</td>\n",
       "      <td>False</td>\n",
       "      <td>8.00</td>\n",
       "      <td>1.0</td>\n",
       "      <td>поселок Новый Свет</td>\n",
       "      <td>NaN</td>\n",
       "      <td>NaN</td>\n",
       "      <td>NaN</td>\n",
       "      <td>NaN</td>\n",
       "      <td>NaN</td>\n",
       "      <td>NaN</td>\n",
       "      <td>206.0</td>\n",
       "    </tr>\n",
       "    <tr>\n",
       "      <th>9379</th>\n",
       "      <td>5</td>\n",
       "      <td>3950000.0</td>\n",
       "      <td>42.00</td>\n",
       "      <td>2017-03-26T00:00:00</td>\n",
       "      <td>3</td>\n",
       "      <td>25.00</td>\n",
       "      <td>5.0</td>\n",
       "      <td>30.0</td>\n",
       "      <td>2</td>\n",
       "      <td>NaN</td>\n",
       "      <td>False</td>\n",
       "      <td>False</td>\n",
       "      <td>5.20</td>\n",
       "      <td>0.0</td>\n",
       "      <td>Санкт-Петербург</td>\n",
       "      <td>11647.0</td>\n",
       "      <td>13581.0</td>\n",
       "      <td>0.0</td>\n",
       "      <td>NaN</td>\n",
       "      <td>0.0</td>\n",
       "      <td>NaN</td>\n",
       "      <td>NaN</td>\n",
       "    </tr>\n",
       "    <tr>\n",
       "      <th>5669</th>\n",
       "      <td>4</td>\n",
       "      <td>4400000.0</td>\n",
       "      <td>50.00</td>\n",
       "      <td>2017-08-08T00:00:00</td>\n",
       "      <td>2</td>\n",
       "      <td>26.00</td>\n",
       "      <td>9.0</td>\n",
       "      <td>21.3</td>\n",
       "      <td>3</td>\n",
       "      <td>NaN</td>\n",
       "      <td>False</td>\n",
       "      <td>False</td>\n",
       "      <td>7.00</td>\n",
       "      <td>2.0</td>\n",
       "      <td>Санкт-Петербург</td>\n",
       "      <td>28981.0</td>\n",
       "      <td>10912.0</td>\n",
       "      <td>1.0</td>\n",
       "      <td>305.0</td>\n",
       "      <td>0.0</td>\n",
       "      <td>NaN</td>\n",
       "      <td>267.0</td>\n",
       "    </tr>\n",
       "    <tr>\n",
       "      <th>5807</th>\n",
       "      <td>17</td>\n",
       "      <td>8150000.0</td>\n",
       "      <td>80.00</td>\n",
       "      <td>2019-01-09T00:00:00</td>\n",
       "      <td>2</td>\n",
       "      <td>27.00</td>\n",
       "      <td>36.0</td>\n",
       "      <td>41.0</td>\n",
       "      <td>13</td>\n",
       "      <td>NaN</td>\n",
       "      <td>False</td>\n",
       "      <td>False</td>\n",
       "      <td>12.00</td>\n",
       "      <td>5.0</td>\n",
       "      <td>Санкт-Петербург</td>\n",
       "      <td>18732.0</td>\n",
       "      <td>20444.0</td>\n",
       "      <td>0.0</td>\n",
       "      <td>NaN</td>\n",
       "      <td>3.0</td>\n",
       "      <td>80.0</td>\n",
       "      <td>38.0</td>\n",
       "    </tr>\n",
       "    <tr>\n",
       "      <th>20478</th>\n",
       "      <td>11</td>\n",
       "      <td>8000000.0</td>\n",
       "      <td>45.00</td>\n",
       "      <td>2017-07-18T00:00:00</td>\n",
       "      <td>1</td>\n",
       "      <td>27.00</td>\n",
       "      <td>4.0</td>\n",
       "      <td>22.0</td>\n",
       "      <td>2</td>\n",
       "      <td>NaN</td>\n",
       "      <td>False</td>\n",
       "      <td>False</td>\n",
       "      <td>10.00</td>\n",
       "      <td>1.0</td>\n",
       "      <td>Санкт-Петербург</td>\n",
       "      <td>18975.0</td>\n",
       "      <td>3246.0</td>\n",
       "      <td>0.0</td>\n",
       "      <td>NaN</td>\n",
       "      <td>3.0</td>\n",
       "      <td>449.0</td>\n",
       "      <td>429.0</td>\n",
       "    </tr>\n",
       "    <tr>\n",
       "      <th>22938</th>\n",
       "      <td>14</td>\n",
       "      <td>4000000.0</td>\n",
       "      <td>98.00</td>\n",
       "      <td>2018-03-15T00:00:00</td>\n",
       "      <td>4</td>\n",
       "      <td>27.00</td>\n",
       "      <td>2.0</td>\n",
       "      <td>73.0</td>\n",
       "      <td>2</td>\n",
       "      <td>True</td>\n",
       "      <td>False</td>\n",
       "      <td>False</td>\n",
       "      <td>9.00</td>\n",
       "      <td>1.0</td>\n",
       "      <td>деревня Нижняя</td>\n",
       "      <td>NaN</td>\n",
       "      <td>NaN</td>\n",
       "      <td>NaN</td>\n",
       "      <td>NaN</td>\n",
       "      <td>NaN</td>\n",
       "      <td>NaN</td>\n",
       "      <td>27.0</td>\n",
       "    </tr>\n",
       "    <tr>\n",
       "      <th>4876</th>\n",
       "      <td>7</td>\n",
       "      <td>3000000.0</td>\n",
       "      <td>25.00</td>\n",
       "      <td>2017-09-27T00:00:00</td>\n",
       "      <td>0</td>\n",
       "      <td>27.00</td>\n",
       "      <td>25.0</td>\n",
       "      <td>17.0</td>\n",
       "      <td>17</td>\n",
       "      <td>NaN</td>\n",
       "      <td>False</td>\n",
       "      <td>True</td>\n",
       "      <td>NaN</td>\n",
       "      <td>2.0</td>\n",
       "      <td>посёлок Мурино</td>\n",
       "      <td>NaN</td>\n",
       "      <td>NaN</td>\n",
       "      <td>NaN</td>\n",
       "      <td>NaN</td>\n",
       "      <td>NaN</td>\n",
       "      <td>NaN</td>\n",
       "      <td>28.0</td>\n",
       "    </tr>\n",
       "    <tr>\n",
       "      <th>21824</th>\n",
       "      <td>20</td>\n",
       "      <td>2450000.0</td>\n",
       "      <td>44.00</td>\n",
       "      <td>2019-02-12T00:00:00</td>\n",
       "      <td>2</td>\n",
       "      <td>27.00</td>\n",
       "      <td>2.0</td>\n",
       "      <td>38.0</td>\n",
       "      <td>2</td>\n",
       "      <td>False</td>\n",
       "      <td>False</td>\n",
       "      <td>False</td>\n",
       "      <td>8.60</td>\n",
       "      <td>2.0</td>\n",
       "      <td>городской поселок Большая Ижора</td>\n",
       "      <td>NaN</td>\n",
       "      <td>NaN</td>\n",
       "      <td>NaN</td>\n",
       "      <td>NaN</td>\n",
       "      <td>NaN</td>\n",
       "      <td>NaN</td>\n",
       "      <td>NaN</td>\n",
       "    </tr>\n",
       "    <tr>\n",
       "      <th>10773</th>\n",
       "      <td>8</td>\n",
       "      <td>3800000.0</td>\n",
       "      <td>58.00</td>\n",
       "      <td>2017-10-13T00:00:00</td>\n",
       "      <td>2</td>\n",
       "      <td>27.00</td>\n",
       "      <td>10.0</td>\n",
       "      <td>30.1</td>\n",
       "      <td>3</td>\n",
       "      <td>False</td>\n",
       "      <td>False</td>\n",
       "      <td>False</td>\n",
       "      <td>8.10</td>\n",
       "      <td>2.0</td>\n",
       "      <td>посёлок Мурино</td>\n",
       "      <td>NaN</td>\n",
       "      <td>NaN</td>\n",
       "      <td>NaN</td>\n",
       "      <td>NaN</td>\n",
       "      <td>NaN</td>\n",
       "      <td>NaN</td>\n",
       "      <td>71.0</td>\n",
       "    </tr>\n",
       "    <tr>\n",
       "      <th>17857</th>\n",
       "      <td>1</td>\n",
       "      <td>3900000.0</td>\n",
       "      <td>56.00</td>\n",
       "      <td>2017-12-22T00:00:00</td>\n",
       "      <td>3</td>\n",
       "      <td>27.00</td>\n",
       "      <td>5.0</td>\n",
       "      <td>33.0</td>\n",
       "      <td>4</td>\n",
       "      <td>False</td>\n",
       "      <td>False</td>\n",
       "      <td>False</td>\n",
       "      <td>NaN</td>\n",
       "      <td>0.0</td>\n",
       "      <td>Санкт-Петербург</td>\n",
       "      <td>41030.0</td>\n",
       "      <td>15543.0</td>\n",
       "      <td>0.0</td>\n",
       "      <td>NaN</td>\n",
       "      <td>0.0</td>\n",
       "      <td>NaN</td>\n",
       "      <td>73.0</td>\n",
       "    </tr>\n",
       "    <tr>\n",
       "      <th>5246</th>\n",
       "      <td>0</td>\n",
       "      <td>2500000.0</td>\n",
       "      <td>54.00</td>\n",
       "      <td>2017-10-13T00:00:00</td>\n",
       "      <td>2</td>\n",
       "      <td>27.00</td>\n",
       "      <td>5.0</td>\n",
       "      <td>30.0</td>\n",
       "      <td>3</td>\n",
       "      <td>NaN</td>\n",
       "      <td>False</td>\n",
       "      <td>False</td>\n",
       "      <td>9.00</td>\n",
       "      <td>2.0</td>\n",
       "      <td>деревня Мины</td>\n",
       "      <td>NaN</td>\n",
       "      <td>NaN</td>\n",
       "      <td>NaN</td>\n",
       "      <td>NaN</td>\n",
       "      <td>NaN</td>\n",
       "      <td>NaN</td>\n",
       "      <td>540.0</td>\n",
       "    </tr>\n",
       "    <tr>\n",
       "      <th>21377</th>\n",
       "      <td>19</td>\n",
       "      <td>4900000.0</td>\n",
       "      <td>42.00</td>\n",
       "      <td>2017-04-18T00:00:00</td>\n",
       "      <td>1</td>\n",
       "      <td>27.50</td>\n",
       "      <td>24.0</td>\n",
       "      <td>37.7</td>\n",
       "      <td>19</td>\n",
       "      <td>False</td>\n",
       "      <td>False</td>\n",
       "      <td>False</td>\n",
       "      <td>11.00</td>\n",
       "      <td>2.0</td>\n",
       "      <td>Санкт-Петербург</td>\n",
       "      <td>42742.0</td>\n",
       "      <td>9760.0</td>\n",
       "      <td>0.0</td>\n",
       "      <td>NaN</td>\n",
       "      <td>0.0</td>\n",
       "      <td>NaN</td>\n",
       "      <td>61.0</td>\n",
       "    </tr>\n",
       "    <tr>\n",
       "      <th>22336</th>\n",
       "      <td>19</td>\n",
       "      <td>9999000.0</td>\n",
       "      <td>92.40</td>\n",
       "      <td>2019-04-05T00:00:00</td>\n",
       "      <td>2</td>\n",
       "      <td>32.00</td>\n",
       "      <td>6.0</td>\n",
       "      <td>55.5</td>\n",
       "      <td>5</td>\n",
       "      <td>False</td>\n",
       "      <td>False</td>\n",
       "      <td>False</td>\n",
       "      <td>16.50</td>\n",
       "      <td>4.0</td>\n",
       "      <td>Санкт-Петербург</td>\n",
       "      <td>18838.0</td>\n",
       "      <td>3506.0</td>\n",
       "      <td>0.0</td>\n",
       "      <td>NaN</td>\n",
       "      <td>3.0</td>\n",
       "      <td>511.0</td>\n",
       "      <td>NaN</td>\n",
       "    </tr>\n",
       "    <tr>\n",
       "      <th>3148</th>\n",
       "      <td>14</td>\n",
       "      <td>2900000.0</td>\n",
       "      <td>75.00</td>\n",
       "      <td>2018-11-12T00:00:00</td>\n",
       "      <td>3</td>\n",
       "      <td>32.00</td>\n",
       "      <td>3.0</td>\n",
       "      <td>53.0</td>\n",
       "      <td>2</td>\n",
       "      <td>NaN</td>\n",
       "      <td>False</td>\n",
       "      <td>False</td>\n",
       "      <td>8.00</td>\n",
       "      <td>0.0</td>\n",
       "      <td>Волхов</td>\n",
       "      <td>NaN</td>\n",
       "      <td>NaN</td>\n",
       "      <td>NaN</td>\n",
       "      <td>NaN</td>\n",
       "      <td>NaN</td>\n",
       "      <td>NaN</td>\n",
       "      <td>NaN</td>\n",
       "    </tr>\n",
       "    <tr>\n",
       "      <th>22869</th>\n",
       "      <td>0</td>\n",
       "      <td>15000000.0</td>\n",
       "      <td>25.00</td>\n",
       "      <td>2018-07-25T00:00:00</td>\n",
       "      <td>1</td>\n",
       "      <td>100.00</td>\n",
       "      <td>5.0</td>\n",
       "      <td>14.0</td>\n",
       "      <td>5</td>\n",
       "      <td>True</td>\n",
       "      <td>False</td>\n",
       "      <td>False</td>\n",
       "      <td>11.00</td>\n",
       "      <td>5.0</td>\n",
       "      <td>Санкт-Петербург</td>\n",
       "      <td>34963.0</td>\n",
       "      <td>8283.0</td>\n",
       "      <td>1.0</td>\n",
       "      <td>223.0</td>\n",
       "      <td>3.0</td>\n",
       "      <td>30.0</td>\n",
       "      <td>19.0</td>\n",
       "    </tr>\n",
       "  </tbody>\n",
       "</table>\n",
       "</div>"
      ],
      "text/plain": [
       "       total_images  last_price  total_area first_day_exposition  rooms  \\\n",
       "22590            16   6000000.0       55.00  2018-10-31T00:00:00      2   \n",
       "5712              5   1500000.0       42.80  2017-08-14T00:00:00      2   \n",
       "16934             5   4100000.0       40.00  2017-10-17T00:00:00      1   \n",
       "11352             4   3300000.0       36.00  2017-06-18T00:00:00      1   \n",
       "16884             0   1500000.0       33.00  2018-10-03T00:00:00      1   \n",
       "5850              9   1650000.0       35.50  2018-05-29T00:00:00      1   \n",
       "19098             7   2700000.0       56.00  2018-02-04T00:00:00      3   \n",
       "16446             6  12300000.0       88.30  2019-03-12T00:00:00      3   \n",
       "19329             5   1700000.0       40.00  2018-07-15T00:00:00      2   \n",
       "22960            17   2300000.0       53.60  2018-10-18T00:00:00      2   \n",
       "20520             9   3600000.0       38.00  2018-07-05T00:00:00      1   \n",
       "4212              1   2120000.0       35.43  2017-12-18T00:00:00      1   \n",
       "2572              4   2400000.0       62.00  2018-12-27T00:00:00      3   \n",
       "552              11   2999000.0       33.50  2017-03-30T00:00:00      1   \n",
       "5863             20   5650000.0       45.00  2018-08-15T00:00:00      1   \n",
       "22309            20   5300000.0       45.00  2017-09-30T00:00:00      1   \n",
       "15061            19   5600000.0       56.40  2018-05-11T00:00:00      2   \n",
       "17496            15   6700000.0       92.90  2019-02-19T00:00:00      3   \n",
       "20507            12   5950000.0       60.00  2018-02-19T00:00:00      2   \n",
       "5076              0   3850000.0       30.50  2018-10-03T00:00:00      1   \n",
       "18545             6   3750000.0       43.00  2019-03-18T00:00:00      2   \n",
       "355              17   3600000.0       55.20  2018-07-12T00:00:00      2   \n",
       "11285             0   1950000.0       37.00  2019-03-20T00:00:00      1   \n",
       "4643              0   4300000.0       45.00  2018-02-01T00:00:00      2   \n",
       "6246              6   3300000.0       44.40  2019-03-25T00:00:00      2   \n",
       "14382             9   1700000.0       35.00  2015-12-04T00:00:00      1   \n",
       "9379              5   3950000.0       42.00  2017-03-26T00:00:00      3   \n",
       "5669              4   4400000.0       50.00  2017-08-08T00:00:00      2   \n",
       "5807             17   8150000.0       80.00  2019-01-09T00:00:00      2   \n",
       "20478            11   8000000.0       45.00  2017-07-18T00:00:00      1   \n",
       "22938            14   4000000.0       98.00  2018-03-15T00:00:00      4   \n",
       "4876              7   3000000.0       25.00  2017-09-27T00:00:00      0   \n",
       "21824            20   2450000.0       44.00  2019-02-12T00:00:00      2   \n",
       "10773             8   3800000.0       58.00  2017-10-13T00:00:00      2   \n",
       "17857             1   3900000.0       56.00  2017-12-22T00:00:00      3   \n",
       "5246              0   2500000.0       54.00  2017-10-13T00:00:00      2   \n",
       "21377            19   4900000.0       42.00  2017-04-18T00:00:00      1   \n",
       "22336            19   9999000.0       92.40  2019-04-05T00:00:00      2   \n",
       "3148             14   2900000.0       75.00  2018-11-12T00:00:00      3   \n",
       "22869             0  15000000.0       25.00  2018-07-25T00:00:00      1   \n",
       "\n",
       "       ceiling_height  floors_total  living_area  floor is_apartment  studio  \\\n",
       "22590            1.00          12.0         32.4      7          NaN   False   \n",
       "5712             1.20           2.0         27.5      1          NaN   False   \n",
       "16934            1.75          37.0         17.4      5          NaN   False   \n",
       "11352            2.00          17.0         15.2     12          NaN   False   \n",
       "16884            2.00           5.0         20.0      5        False   False   \n",
       "5850             2.00           5.0          NaN      5          NaN   False   \n",
       "19098            2.00           5.0         46.0      1          NaN   False   \n",
       "16446            2.00           5.0         63.9      2          NaN   False   \n",
       "19329            2.00           9.0          NaN      8          NaN   False   \n",
       "22960            2.00           2.0         19.0      1          NaN   False   \n",
       "20520            2.00          12.0         15.0      9          NaN   False   \n",
       "4212             2.00          18.0         16.6      9          NaN   False   \n",
       "2572             2.00           5.0         40.0      4          NaN   False   \n",
       "552              2.00          15.0         17.5      6          NaN   False   \n",
       "5863             8.30          16.0         19.3     14          NaN   False   \n",
       "22309           10.30          16.0         15.5     15          NaN   False   \n",
       "15061           14.00          14.0         32.4      5          NaN   False   \n",
       "17496           20.00          17.0         53.2     14          NaN   False   \n",
       "20507           22.60          14.0         35.0     11          NaN   False   \n",
       "5076            24.00           5.0         19.5      1         True   False   \n",
       "18545           25.00           5.0         29.0      3        False   False   \n",
       "355             25.00           5.0         32.0      2        False   False   \n",
       "11285           25.00           5.0         17.0      4        False   False   \n",
       "4643            25.00           9.0         30.0      2          NaN   False   \n",
       "6246            25.00           5.0         31.3      5          NaN   False   \n",
       "14382           25.00           5.0         20.0      2        False   False   \n",
       "9379            25.00           5.0         30.0      2          NaN   False   \n",
       "5669            26.00           9.0         21.3      3          NaN   False   \n",
       "5807            27.00          36.0         41.0     13          NaN   False   \n",
       "20478           27.00           4.0         22.0      2          NaN   False   \n",
       "22938           27.00           2.0         73.0      2         True   False   \n",
       "4876            27.00          25.0         17.0     17          NaN   False   \n",
       "21824           27.00           2.0         38.0      2        False   False   \n",
       "10773           27.00          10.0         30.1      3        False   False   \n",
       "17857           27.00           5.0         33.0      4        False   False   \n",
       "5246            27.00           5.0         30.0      3          NaN   False   \n",
       "21377           27.50          24.0         37.7     19        False   False   \n",
       "22336           32.00           6.0         55.5      5        False   False   \n",
       "3148            32.00           3.0         53.0      2          NaN   False   \n",
       "22869          100.00           5.0         14.0      5         True   False   \n",
       "\n",
       "       open_plan  kitchen_area  balcony                    locality_name  \\\n",
       "22590      False         10.00      0.0                  Санкт-Петербург   \n",
       "5712       False          5.20      0.0            городской посёлок Мга   \n",
       "16934      False          8.34      0.0                  Санкт-Петербург   \n",
       "11352      False         10.10      0.0             посёлок Металлострой   \n",
       "16884      False          6.00      0.0                           Выборг   \n",
       "5850       False           NaN      0.0                             Луга   \n",
       "19098      False          6.00      0.0                           Выборг   \n",
       "16446      False         12.00      0.0                  Санкт-Петербург   \n",
       "19329      False           NaN      0.0                     Сосновый Бор   \n",
       "22960      False         10.00      0.0                       Всеволожск   \n",
       "20520      False         11.80      1.0                          Кудрово   \n",
       "4212       False          8.80      2.0                            Тосно   \n",
       "2572       False          6.00      1.0                             Луга   \n",
       "552        False          6.50      0.0                  Санкт-Петербург   \n",
       "5863       False          8.30      1.0                  Санкт-Петербург   \n",
       "22309      False           NaN      0.0                  Санкт-Петербург   \n",
       "15061      False          9.10      2.0                  Санкт-Петербург   \n",
       "17496      False         12.00      5.0                  Санкт-Петербург   \n",
       "20507      False         13.00      1.0                  Санкт-Петербург   \n",
       "5076       False          5.50      0.0                  Санкт-Петербург   \n",
       "18545      False           NaN      0.0                  Санкт-Петербург   \n",
       "355        False           NaN      2.0                          Гатчина   \n",
       "11285      False          9.00      2.0                             Луга   \n",
       "4643       False          7.00      1.0                  Санкт-Петербург   \n",
       "6246       False          5.70      0.0                        Кронштадт   \n",
       "14382      False          8.00      1.0               поселок Новый Свет   \n",
       "9379       False          5.20      0.0                  Санкт-Петербург   \n",
       "5669       False          7.00      2.0                  Санкт-Петербург   \n",
       "5807       False         12.00      5.0                  Санкт-Петербург   \n",
       "20478      False         10.00      1.0                  Санкт-Петербург   \n",
       "22938      False          9.00      1.0                   деревня Нижняя   \n",
       "4876        True           NaN      2.0                   посёлок Мурино   \n",
       "21824      False          8.60      2.0  городской поселок Большая Ижора   \n",
       "10773      False          8.10      2.0                   посёлок Мурино   \n",
       "17857      False           NaN      0.0                  Санкт-Петербург   \n",
       "5246       False          9.00      2.0                     деревня Мины   \n",
       "21377      False         11.00      2.0                  Санкт-Петербург   \n",
       "22336      False         16.50      4.0                  Санкт-Петербург   \n",
       "3148       False          8.00      0.0                           Волхов   \n",
       "22869      False         11.00      5.0                  Санкт-Петербург   \n",
       "\n",
       "       airports_nearest  city_centers_nearest  parks_around3000  \\\n",
       "22590           33053.0               14217.0               2.0   \n",
       "5712                NaN                   NaN               NaN   \n",
       "16934           18732.0               20444.0               0.0   \n",
       "11352           25268.0               26980.0               0.0   \n",
       "16884               NaN                   NaN               NaN   \n",
       "5850                NaN                   NaN               NaN   \n",
       "19098               NaN                   NaN               NaN   \n",
       "16446           38415.0                7675.0               1.0   \n",
       "19329               NaN                   NaN               NaN   \n",
       "22960               NaN                   NaN               NaN   \n",
       "20520               NaN                   NaN               NaN   \n",
       "4212                NaN                   NaN               NaN   \n",
       "2572                NaN                   NaN               NaN   \n",
       "552             33972.0               11746.0               1.0   \n",
       "5863            13069.0               10763.0               0.0   \n",
       "22309           36353.0               11936.0               2.0   \n",
       "15061           14814.0               13610.0               0.0   \n",
       "17496           16295.0               15092.0               1.0   \n",
       "20507           27028.0               12570.0               0.0   \n",
       "5076            29686.0                8389.0               3.0   \n",
       "18545           27054.0                8033.0               1.0   \n",
       "355                 NaN                   NaN               NaN   \n",
       "11285               NaN                   NaN               NaN   \n",
       "4643            12016.0               13256.0               1.0   \n",
       "6246            68923.0               50649.0               1.0   \n",
       "14382               NaN                   NaN               NaN   \n",
       "9379            11647.0               13581.0               0.0   \n",
       "5669            28981.0               10912.0               1.0   \n",
       "5807            18732.0               20444.0               0.0   \n",
       "20478           18975.0                3246.0               0.0   \n",
       "22938               NaN                   NaN               NaN   \n",
       "4876                NaN                   NaN               NaN   \n",
       "21824               NaN                   NaN               NaN   \n",
       "10773               NaN                   NaN               NaN   \n",
       "17857           41030.0               15543.0               0.0   \n",
       "5246                NaN                   NaN               NaN   \n",
       "21377           42742.0                9760.0               0.0   \n",
       "22336           18838.0                3506.0               0.0   \n",
       "3148                NaN                   NaN               NaN   \n",
       "22869           34963.0                8283.0               1.0   \n",
       "\n",
       "       parks_nearest  ponds_around3000  ponds_nearest  days_exposition  \n",
       "22590          293.0               2.0          289.0             13.0  \n",
       "5712             NaN               NaN            NaN            248.0  \n",
       "16934            NaN               3.0           80.0             71.0  \n",
       "11352            NaN               0.0            NaN             53.0  \n",
       "16884            NaN               NaN            NaN              6.0  \n",
       "5850             NaN               NaN            NaN            100.0  \n",
       "19098            NaN               NaN            NaN            282.0  \n",
       "16446          568.0               1.0          154.0              NaN  \n",
       "19329            NaN               NaN            NaN             45.0  \n",
       "22960            NaN               NaN            NaN              NaN  \n",
       "20520            NaN               NaN            NaN             62.0  \n",
       "4212             NaN               NaN            NaN             36.0  \n",
       "2572             NaN               NaN            NaN              NaN  \n",
       "552            520.0               1.0          949.0            270.0  \n",
       "5863             NaN               1.0          613.0             14.0  \n",
       "22309          440.0               2.0          450.0            136.0  \n",
       "15061            NaN               0.0            NaN            315.0  \n",
       "17496          967.0               0.0            NaN              NaN  \n",
       "20507            NaN               0.0            NaN             40.0  \n",
       "5076           397.0               1.0          578.0              7.0  \n",
       "18545          540.0               0.0            NaN             12.0  \n",
       "355              NaN               NaN            NaN            259.0  \n",
       "11285            NaN               NaN            NaN             18.0  \n",
       "4643           658.0               1.0          331.0            181.0  \n",
       "6246           417.0               2.0           73.0              NaN  \n",
       "14382            NaN               NaN            NaN            206.0  \n",
       "9379             NaN               0.0            NaN              NaN  \n",
       "5669           305.0               0.0            NaN            267.0  \n",
       "5807             NaN               3.0           80.0             38.0  \n",
       "20478            NaN               3.0          449.0            429.0  \n",
       "22938            NaN               NaN            NaN             27.0  \n",
       "4876             NaN               NaN            NaN             28.0  \n",
       "21824            NaN               NaN            NaN              NaN  \n",
       "10773            NaN               NaN            NaN             71.0  \n",
       "17857            NaN               0.0            NaN             73.0  \n",
       "5246             NaN               NaN            NaN            540.0  \n",
       "21377            NaN               0.0            NaN             61.0  \n",
       "22336            NaN               3.0          511.0              NaN  \n",
       "3148             NaN               NaN            NaN              NaN  \n",
       "22869          223.0               3.0           30.0             19.0  "
      ]
     },
     "execution_count": 16,
     "metadata": {},
     "output_type": "execute_result"
    }
   ],
   "source": [
    "estate.query('ceiling_height > 8 or ceiling_height <=2').sort_values(by='ceiling_height')\n"
   ]
  },
  {
   "cell_type": "markdown",
   "metadata": {},
   "source": [
    "Особого внимания заслуживает запись под номером 22869: стоимость 15 миллионов, высота потолков - 100 метров (около 33 этажей) при общем количестве этажей в здании 5, общая площадь - 25 квадратных метров, и полное отсутствие фотографий. Больше похоже на искажение в данных, чем на реальное объявление о продаже."
   ]
  },
  {
   "cell_type": "code",
   "execution_count": 17,
   "metadata": {},
   "outputs": [],
   "source": [
    "estate = estate.drop([22590, 5712, 16934, 5863, 22309, 15061, 17496, 22869])\n"
   ]
  },
  {
   "cell_type": "markdown",
   "metadata": {},
   "source": [
    "В данном подпункте мы заменили ошибочные значения высоты потолков там, где это было возможно и избавились от записей, для которых невозможно было подобрать корректную величину.\n",
    "Мы решили полностью удалить строки, а не избавиться только от некорректных данных, поскольку строк для удаления было незначительное количество, и их отсутствие не должно в сколько-нибудь значительной степени сказаться на итоговых данных. "
   ]
  },
  {
   "cell_type": "markdown",
   "metadata": {},
   "source": [
    "<a id=\"ceiling\"><font color=\"black\">Следующим шагом заполним пропуски в столбце \"высота потолков\". Для этого сперва вызовем математическое описание столбца:</font></a>"
   ]
  },
  {
   "cell_type": "code",
   "execution_count": 18,
   "metadata": {},
   "outputs": [
    {
     "data": {
      "text/plain": [
       "count    14496.000000\n",
       "mean         2.762229\n",
       "std          0.950378\n",
       "min          2.000000\n",
       "25%          2.520000\n",
       "50%          2.650000\n",
       "75%          2.800000\n",
       "max         32.000000\n",
       "Name: ceiling_height, dtype: float64"
      ]
     },
     "execution_count": 18,
     "metadata": {},
     "output_type": "execute_result"
    }
   ],
   "source": [
    "estate['ceiling_height'].describe()"
   ]
  },
  {
   "cell_type": "markdown",
   "metadata": {},
   "source": [
    "<div class=\"alert alert-block alert-info\">\n",
    "Как мы видим, среднее значение высоты потолка по выборке составляет 2.72 метра, медианное значение - 2.65 метра.\n",
    "Обратимся к <a href = \"http://docs.cntd.ru/document/1200035248\">СНиП 31-01-2003 \"Здания жилые многоквартирные\"</a>: согласно пункту 5.8. для климатических зон, к которым относится Санкт-Петербург, высота потолков должна быть не менее 2.5 метров.\n",
    "На основании полученной информации выберем для заполнения пропусков стандарт высоты потолков для Санкт-Петербурга, равный 2.7 метра (значение находится в интервале между средним значением и медианой, и удовлетворяет всем условиям).\n",
    "</div>"
   ]
  },
  {
   "cell_type": "code",
   "execution_count": 19,
   "metadata": {},
   "outputs": [],
   "source": [
    "estate['ceiling_height'] = estate['ceiling_height'].fillna(2.7)"
   ]
  },
  {
   "cell_type": "markdown",
   "metadata": {},
   "source": [
    "### <a id=\"locality_name\">2.1.5. Пропуски в столбце 'locality_name'</a>"
   ]
  },
  {
   "cell_type": "markdown",
   "metadata": {},
   "source": [
    "Разберемся с пропусками в столбце \"locality_name\". Для начала вызовем уникальные значения для этого столбца:"
   ]
  },
  {
   "cell_type": "code",
   "execution_count": 20,
   "metadata": {},
   "outputs": [
    {
     "data": {
      "text/plain": [
       "array(['Санкт-Петербург', 'посёлок Шушары', 'городской посёлок Янино-1',\n",
       "       'посёлок Парголово', 'посёлок Мурино', 'Ломоносов', 'Сертолово',\n",
       "       'Петергоф', 'Пушкин', 'деревня Кудрово', 'Коммунар', 'Колпино',\n",
       "       'поселок городского типа Красный Бор', 'Гатчина', 'поселок Мурино',\n",
       "       'деревня Фёдоровское', 'Выборг', 'Кронштадт', 'Кировск',\n",
       "       'деревня Новое Девяткино', 'посёлок Металлострой',\n",
       "       'посёлок городского типа Лебяжье',\n",
       "       'посёлок городского типа Сиверский', 'поселок Молодцово',\n",
       "       'поселок городского типа Кузьмоловский',\n",
       "       'садовое товарищество Новая Ропша', 'Павловск',\n",
       "       'деревня Пикколово', 'Всеволожск', 'Волхов', 'Кингисепп',\n",
       "       'Приозерск', 'Сестрорецк', 'деревня Куттузи', 'посёлок Аннино',\n",
       "       'поселок городского типа Ефимовский', 'посёлок Плодовое',\n",
       "       'деревня Заклинье', 'поселок Торковичи', 'поселок Первомайское',\n",
       "       'Красное Село', 'посёлок Понтонный', 'Сясьстрой', 'деревня Старая',\n",
       "       'деревня Лесколово', 'посёлок Новый Свет', 'Сланцы',\n",
       "       'село Путилово', 'Ивангород', 'Мурино', 'Шлиссельбург',\n",
       "       'Никольское', 'Зеленогорск', 'Сосновый Бор', 'поселок Новый Свет',\n",
       "       'деревня Оржицы', 'деревня Кальтино', 'Кудрово',\n",
       "       'поселок Романовка', 'посёлок Бугры', 'поселок Бугры',\n",
       "       'поселок городского типа Рощино', 'Кириши', 'Луга', 'Волосово',\n",
       "       'Отрадное', 'село Павлово', 'поселок Оредеж', 'село Копорье',\n",
       "       'посёлок городского типа Красный Бор', 'посёлок Молодёжное',\n",
       "       'Тихвин', 'посёлок Победа', 'деревня Нурма',\n",
       "       'поселок городского типа Синявино', 'Тосно',\n",
       "       'посёлок городского типа Кузьмоловский', 'посёлок Стрельна',\n",
       "       'Бокситогорск', 'посёлок Александровская', 'деревня Лопухинка',\n",
       "       'Пикалёво', 'поселок Терволово',\n",
       "       'поселок городского типа Советский', 'Подпорожье',\n",
       "       'посёлок Петровское', 'посёлок городского типа Токсово',\n",
       "       'поселок Сельцо', 'посёлок городского типа Вырица',\n",
       "       'деревня Кипень', 'деревня Келози', 'деревня Вартемяги',\n",
       "       'посёлок Тельмана', 'поселок Севастьяново',\n",
       "       'городской поселок Большая Ижора', nan,\n",
       "       'городской посёлок Павлово', 'деревня Агалатово',\n",
       "       'посёлок Новогорелово', 'городской посёлок Лесогорский',\n",
       "       'деревня Лаголово', 'поселок Цвелодубово',\n",
       "       'поселок городского типа Рахья', 'поселок городского типа Вырица',\n",
       "       'деревня Белогорка', 'поселок Заводской',\n",
       "       'городской посёлок Новоселье', 'деревня Большие Колпаны',\n",
       "       'деревня Горбунки', 'деревня Батово', 'деревня Заневка',\n",
       "       'деревня Иссад', 'Приморск', 'городской посёлок Фёдоровское',\n",
       "       'деревня Мистолово', 'Новая Ладога', 'поселок Зимитицы',\n",
       "       'поселок Барышево', 'деревня Разметелево',\n",
       "       'поселок городского типа имени Свердлова', 'деревня Пеники',\n",
       "       'поселок Рябово', 'деревня Пудомяги', 'поселок станции Корнево',\n",
       "       'деревня Низино', 'деревня Бегуницы', 'посёлок Поляны',\n",
       "       'городской посёлок Мга', 'поселок Елизаветино',\n",
       "       'посёлок городского типа Кузнечное', 'деревня Колтуши',\n",
       "       'поселок Запорожское', 'посёлок городского типа Рощино',\n",
       "       'деревня Гостилицы', 'деревня Малое Карлино',\n",
       "       'посёлок Мичуринское', 'посёлок городского типа имени Морозова',\n",
       "       'посёлок Песочный', 'посёлок Сосново', 'деревня Аро',\n",
       "       'поселок Ильичёво', 'посёлок городского типа Тайцы',\n",
       "       'деревня Малое Верево', 'деревня Извара', 'поселок станции Вещево',\n",
       "       'село Паша', 'деревня Калитино',\n",
       "       'посёлок городского типа Ульяновка', 'деревня Чудской Бор',\n",
       "       'поселок городского типа Дубровка', 'деревня Мины',\n",
       "       'поселок Войсковицы', 'посёлок городского типа имени Свердлова',\n",
       "       'деревня Коркино', 'посёлок Ропша',\n",
       "       'поселок городского типа Приладожский', 'посёлок Щеглово',\n",
       "       'посёлок Гаврилово', 'Лодейное Поле', 'деревня Рабитицы',\n",
       "       'поселок городского типа Никольский', 'деревня Кузьмолово',\n",
       "       'деревня Малые Колпаны', 'поселок Тельмана',\n",
       "       'посёлок Петро-Славянка', 'городской посёлок Назия',\n",
       "       'посёлок Репино', 'посёлок Ильичёво', 'поселок Углово',\n",
       "       'поселок Старая Малукса', 'садовое товарищество Рахья',\n",
       "       'поселок Аннино', 'поселок Победа', 'деревня Меньково',\n",
       "       'деревня Старые Бегуницы', 'посёлок Сапёрный', 'поселок Семрино',\n",
       "       'поселок Гаврилово', 'поселок Глажево', 'поселок Кобринское',\n",
       "       'деревня Гарболово', 'деревня Юкки',\n",
       "       'поселок станции Приветнинское', 'деревня Мануйлово',\n",
       "       'деревня Пчева', 'поселок Поляны', 'поселок Цвылёво',\n",
       "       'поселок Мельниково', 'посёлок Пудость', 'посёлок Усть-Луга',\n",
       "       'Светогорск', 'Любань', 'поселок Селезнёво',\n",
       "       'поселок городского типа Рябово', 'Каменногорск', 'деревня Кривко',\n",
       "       'поселок Глебычево', 'деревня Парицы', 'поселок Жилпосёлок',\n",
       "       'посёлок городского типа Мга', 'городской поселок Янино-1',\n",
       "       'посёлок Войскорово', 'село Никольское', 'посёлок Терволово',\n",
       "       'поселок Стеклянный', 'посёлок городского типа Важины',\n",
       "       'посёлок Мыза-Ивановка', 'село Русско-Высоцкое',\n",
       "       'поселок городского типа Лебяжье',\n",
       "       'поселок городского типа Форносово', 'село Старая Ладога',\n",
       "       'поселок Житково', 'городской посёлок Виллози', 'деревня Лампово',\n",
       "       'деревня Шпаньково', 'деревня Лаврики', 'посёлок Сумино',\n",
       "       'посёлок Возрождение', 'деревня Старосиверская',\n",
       "       'посёлок Кикерино', 'поселок Возрождение',\n",
       "       'деревня Старое Хинколово', 'посёлок Пригородный',\n",
       "       'посёлок Торфяное', 'городской посёлок Будогощь',\n",
       "       'поселок Суходолье', 'поселок Красная Долина', 'деревня Хапо-Ое',\n",
       "       'поселок городского типа Дружная Горка', 'поселок Лисий Нос',\n",
       "       'деревня Яльгелево', 'посёлок Стеклянный', 'село Рождествено',\n",
       "       'деревня Старополье', 'посёлок Левашово', 'деревня Сяськелево',\n",
       "       'деревня Камышовка',\n",
       "       'садоводческое некоммерческое товарищество Лесная Поляна',\n",
       "       'деревня Хязельки', 'поселок Жилгородок',\n",
       "       'посёлок городского типа Павлово', 'деревня Ялгино',\n",
       "       'поселок Новый Учхоз', 'городской посёлок Рощино',\n",
       "       'поселок Гончарово', 'поселок Почап', 'посёлок Сапёрное',\n",
       "       'посёлок Платформа 69-й километр', 'поселок Каложицы',\n",
       "       'деревня Фалилеево', 'деревня Пельгора',\n",
       "       'поселок городского типа Лесогорский', 'деревня Торошковичи',\n",
       "       'посёлок Белоостров', 'посёлок Алексеевка', 'поселок Серебрянский',\n",
       "       'поселок Лукаши', 'поселок Петровское', 'деревня Щеглово',\n",
       "       'поселок Мичуринское', 'деревня Тарасово', 'поселок Кингисеппский',\n",
       "       'посёлок при железнодорожной станции Вещево', 'поселок Ушаки',\n",
       "       'деревня Котлы', 'деревня Сижно', 'деревня Торосово',\n",
       "       'посёлок Форт Красная Горка', 'поселок городского типа Токсово',\n",
       "       'деревня Новолисино', 'посёлок станции Громово', 'деревня Глинка',\n",
       "       'посёлок Мельниково', 'поселок городского типа Назия',\n",
       "       'деревня Старая Пустошь', 'поселок Коммунары', 'поселок Починок',\n",
       "       'посёлок городского типа Вознесенье', 'деревня Разбегаево',\n",
       "       'посёлок городского типа Рябово', 'поселок Гладкое',\n",
       "       'посёлок при железнодорожной станции Приветнинское',\n",
       "       'поселок Тёсово-4', 'посёлок Жилгородок', 'деревня Бор',\n",
       "       'посёлок Коробицыно', 'деревня Большая Вруда', 'деревня Курковицы',\n",
       "       'посёлок Лисий Нос', 'городской посёлок Советский',\n",
       "       'посёлок Кобралово', 'деревня Суоранда', 'поселок Кобралово',\n",
       "       'поселок городского типа Кондратьево',\n",
       "       'коттеджный поселок Счастье', 'поселок Любань', 'деревня Реброво',\n",
       "       'деревня Зимитицы', 'деревня Тойворово', 'поселок Семиозерье',\n",
       "       'поселок Лесное', 'поселок Совхозный', 'поселок Усть-Луга',\n",
       "       'посёлок Ленинское', 'посёлок Суйда',\n",
       "       'посёлок городского типа Форносово', 'деревня Нижние Осельки',\n",
       "       'посёлок станции Свирь', 'поселок Перово', 'Высоцк',\n",
       "       'поселок Гарболово', 'село Шум', 'поселок Котельский',\n",
       "       'поселок станции Лужайка', 'деревня Большая Пустомержа',\n",
       "       'поселок Красносельское', 'деревня Вахнова Кара', 'деревня Пижма',\n",
       "       'коттеджный поселок Кивеннапа Север', 'поселок Коробицыно',\n",
       "       'поселок Ромашки', 'посёлок Перово', 'деревня Каськово',\n",
       "       'деревня Куровицы', 'посёлок Плоское', 'поселок Сумино',\n",
       "       'поселок городского типа Большая Ижора', 'поселок Кирпичное',\n",
       "       'деревня Ям-Тесово', 'деревня Раздолье', 'деревня Терпилицы',\n",
       "       'посёлок Шугозеро', 'деревня Ваганово', 'поселок Пушное',\n",
       "       'садовое товарищество Садко', 'посёлок Усть-Ижора',\n",
       "       'деревня Выскатка', 'городской посёлок Свирьстрой',\n",
       "       'поселок Громово', 'деревня Кисельня', 'посёлок Старая Малукса',\n",
       "       'деревня Трубников Бор', 'поселок Калитино',\n",
       "       'посёлок Высокоключевой', 'садовое товарищество Приладожский',\n",
       "       'посёлок Пансионат Зелёный Бор', 'деревня Ненимяки',\n",
       "       'поселок Пансионат Зелёный Бор', 'деревня Снегирёвка',\n",
       "       'деревня Рапполово', 'деревня Пустынка', 'поселок Рабитицы',\n",
       "       'деревня Большой Сабск', 'деревня Русско', 'деревня Лупполово',\n",
       "       'деревня Большое Рейзино', 'деревня Малая Романовка',\n",
       "       'поселок Дружноселье', 'поселок Пчевжа', 'поселок Володарское',\n",
       "       'деревня Нижняя', 'коттеджный посёлок Лесное', 'деревня Тихковицы',\n",
       "       'деревня Борисова Грива', 'посёлок Дзержинского'], dtype=object)"
      ]
     },
     "execution_count": 20,
     "metadata": {},
     "output_type": "execute_result"
    }
   ],
   "source": [
    "estate['locality_name'].unique()"
   ]
  },
  {
   "cell_type": "markdown",
   "metadata": {},
   "source": [
    "Можем обратить внимание на появление дубликатов в связи с использованием буквы \"ё\" вместо \"е\", исправим ситуацию:"
   ]
  },
  {
   "cell_type": "code",
   "execution_count": 21,
   "metadata": {},
   "outputs": [],
   "source": [
    "estate['locality_name'] = estate['locality_name'].str.replace('ё', 'е')\n",
    "\n",
    "#а также приведем к единообразию наименования населенных пунктов\n",
    "estate['locality_name'] = estate['locality_name'].str.replace('городского', '')\n",
    "estate['locality_name'] = estate['locality_name'].str.replace('типа', '')\n",
    "estate['locality_name'] = estate['locality_name'].str.replace('имени', '')\n",
    "estate['locality_name'] = estate['locality_name'].str.replace('городской', '')\n",
    "estate['locality_name'] = estate['locality_name'].str.replace(' поселок', 'поселок')\n",
    "estate['locality_name'] = estate['locality_name'].str.replace('коттеджныйпоселок', 'поселок')\n"
   ]
  },
  {
   "cell_type": "markdown",
   "metadata": {},
   "source": [
    "Пропусков в данных не слишком много, всего 49 записей не содержат информации о населенном пункте. Заполнить мы их не можем, поэтому оставим \"как есть\"."
   ]
  },
  {
   "cell_type": "markdown",
   "metadata": {},
   "source": [
    "### <a id=\"areas\">2.1.6. Пропуски в столбцах 'living_area' и 'kitchen_area'</a>"
   ]
  },
  {
   "cell_type": "markdown",
   "metadata": {},
   "source": [
    "Для заполнения пропусков в значениях жилой площади квартиры и площади хухни сначала добавим в нашу таблицу столбцы, в которых будут отображены отношения жилой площади и площади кухни к общей площади квартиры для каждой записи, для которой возможно сделать рассчет.\n",
    "Далее рассчитаем индексы жилой площади и площади кухни как медиану по полученным столбцам.\n",
    "Заполним пропуски значениями, равными произведению общей площади (к счастью, в этом столбце у нас нет пропусков) на соответствующий индекс."
   ]
  },
  {
   "cell_type": "markdown",
   "metadata": {},
   "source": [
    "<div class=\"alert alert-block alert-info\">\n",
    "Сперва выясним степень зависимости площади кухни и жилой площади от общей площади квартиры, для этого рассчитаем соответствующие коэффициенты корреляции:\n",
    "</div>"
   ]
  },
  {
   "cell_type": "code",
   "execution_count": 22,
   "metadata": {},
   "outputs": [
    {
     "name": "stdout",
     "output_type": "stream",
     "text": [
      "Коэффициент корреляции, отражающий зависимость площади кухни от общей площади квартиры,\n",
      "составляет 0.61.\n"
     ]
    }
   ],
   "source": [
    "print('Коэффициент корреляции, отражающий зависимость площади кухни от общей площади\\\n",
    " квартиры,\\nсоставляет {:.2f}.'.format(estate['kitchen_area'].corr(estate['total_area'])))"
   ]
  },
  {
   "cell_type": "code",
   "execution_count": 23,
   "metadata": {},
   "outputs": [
    {
     "name": "stdout",
     "output_type": "stream",
     "text": [
      "Коэффициент корреляции, отражающий зависимость жилой площади от общей площади квартиры,\n",
      "составляет 0.94.\n"
     ]
    }
   ],
   "source": [
    "print('Коэффициент корреляции, отражающий зависимость жилой площади от общей площади\\\n",
    " квартиры,\\nсоставляет {:.2f}.'.format(estate['living_area'].corr(estate['total_area'])))"
   ]
  },
  {
   "cell_type": "markdown",
   "metadata": {},
   "source": [
    "<div class=\"alert alert-block alert-info\">\n",
    "В отношении зависимости жилой площади от общей площади квартиры у нас не остается вопросов, коэффицент равен 0.94, корреляция близка к абсолютной. Что касается площади кухни, здесь зависимость не столь ярко выраженная, коэффициент составляет 0.61 (чем больше общая площадь, тем больше жилая площадь, но тем больше может быть и площадь коридоров и санузлов, которые не относятся ни к жилой площади, ни к площади кухни). \n",
    "    Поскольку мы не учитываем площадь санузла, коридоров и технических помещений, и коэффициент корреляции достаточно высок, можем для заполнения пропусков в значениях площади кухни использовать тот же метод, что и для жилой площади, выбранный и описанный нами выше.\n",
    "</div>"
   ]
  },
  {
   "cell_type": "code",
   "execution_count": 24,
   "metadata": {},
   "outputs": [
    {
     "data": {
      "text/plain": [
       "0.1724137931034483"
      ]
     },
     "execution_count": 24,
     "metadata": {},
     "output_type": "execute_result"
    }
   ],
   "source": [
    "#создадим столбец с долей площади кухни в общей площади\n",
    "estate['kitchen_area_index'] = estate['kitchen_area'] / estate['total_area']\n",
    "#рассчитаем индекс площади кухни\n",
    "kitchen_area_index = estate['kitchen_area_index'].median() \n",
    "#рассчитываем медианой во избежание искажений из-за предельных значений\n",
    "kitchen_area_index"
   ]
  },
  {
   "cell_type": "code",
   "execution_count": 25,
   "metadata": {},
   "outputs": [],
   "source": [
    "#заполним пропуски в столбце с данными о площади кухни произведением общей площади квартиры \n",
    "#и индекса площади кухни\n",
    "estate['kitchen_area'].fillna(estate['total_area'] * kitchen_area_index, inplace=True)"
   ]
  },
  {
   "cell_type": "code",
   "execution_count": 26,
   "metadata": {},
   "outputs": [
    {
     "data": {
      "text/plain": [
       "0.5678598992678503"
      ]
     },
     "execution_count": 26,
     "metadata": {},
     "output_type": "execute_result"
    }
   ],
   "source": [
    "#аналогично площади кухни заполним пропуски для жилой площади\n",
    "estate['living_area_index'] = estate['living_area'] / estate['total_area']\n",
    "\n",
    "living_area_index = estate['living_area_index'].median()\n",
    "living_area_index"
   ]
  },
  {
   "cell_type": "code",
   "execution_count": 27,
   "metadata": {},
   "outputs": [],
   "source": [
    "estate['living_area'].fillna(estate['total_area'] * living_area_index, inplace=True)"
   ]
  },
  {
   "cell_type": "markdown",
   "metadata": {},
   "source": [
    "### <a id=\"other\">2.1.7. Пропуски в остальных столбцах</a>"
   ]
  },
  {
   "cell_type": "markdown",
   "metadata": {},
   "source": [
    "По остальным столбцам достоверно заполнить пропуски не представляется возможным. Невозможно автоматизировать заполнение данных по количеству водоемов и парков в радиусе 3 километров и по расстоянию до ближайших водоема и парка без серьезной работы с координатами жилья и подробной картографической базой. Вручную же заполнять пропуски в таких количествах также невозможно.\n",
    "\n",
    "Несколько иначе обстоит ситуация с расстоянием до аэропорта и до центра города, однако имеющихся в нашем распоряжении данных должно хватить для анализа, а заполнение пропусков средними значениями (и даже средними значениями по категориям город/область) может повлиять на чистоту данных."
   ]
  },
  {
   "cell_type": "markdown",
   "metadata": {},
   "source": [
    "###### [↑ к оглавлению ↑](#to_the_begining)"
   ]
  },
  {
   "cell_type": "markdown",
   "metadata": {},
   "source": [
    "### <a id=\"duplicates\">2.2. Поиск дубликатов</a>"
   ]
  },
  {
   "cell_type": "code",
   "execution_count": 28,
   "metadata": {},
   "outputs": [
    {
     "data": {
      "text/plain": [
       "0"
      ]
     },
     "execution_count": 28,
     "metadata": {},
     "output_type": "execute_result"
    }
   ],
   "source": [
    "estate.duplicated().sum()"
   ]
  },
  {
   "cell_type": "markdown",
   "metadata": {},
   "source": [
    "В нашей таблице нет дубликатов, только уникальные данные."
   ]
  },
  {
   "cell_type": "markdown",
   "metadata": {},
   "source": [
    "### <a id=\"data_types\">2.3. Изменение типов данных</a>"
   ]
  },
  {
   "cell_type": "markdown",
   "metadata": {},
   "source": [
    "Запросим еще раз информацию о датафрейме:"
   ]
  },
  {
   "cell_type": "code",
   "execution_count": 29,
   "metadata": {},
   "outputs": [
    {
     "name": "stdout",
     "output_type": "stream",
     "text": [
      "<class 'pandas.core.frame.DataFrame'>\n",
      "Int64Index: 23691 entries, 0 to 23698\n",
      "Data columns (total 24 columns):\n",
      " #   Column                Non-Null Count  Dtype  \n",
      "---  ------                --------------  -----  \n",
      " 0   total_images          23691 non-null  int64  \n",
      " 1   last_price            23691 non-null  float64\n",
      " 2   total_area            23691 non-null  float64\n",
      " 3   first_day_exposition  23691 non-null  object \n",
      " 4   rooms                 23691 non-null  int64  \n",
      " 5   ceiling_height        23691 non-null  float64\n",
      " 6   floors_total          23605 non-null  float64\n",
      " 7   living_area           23691 non-null  float64\n",
      " 8   floor                 23691 non-null  int64  \n",
      " 9   is_apartment          2774 non-null   object \n",
      " 10  studio                23691 non-null  bool   \n",
      " 11  open_plan             23691 non-null  bool   \n",
      " 12  kitchen_area          23691 non-null  float64\n",
      " 13  balcony               23691 non-null  float64\n",
      " 14  locality_name         23642 non-null  object \n",
      " 15  airports_nearest      18150 non-null  float64\n",
      " 16  city_centers_nearest  18173 non-null  float64\n",
      " 17  parks_around3000      18174 non-null  float64\n",
      " 18  parks_nearest         8075 non-null   float64\n",
      " 19  ponds_around3000      18174 non-null  float64\n",
      " 20  ponds_nearest         9105 non-null   float64\n",
      " 21  days_exposition       20511 non-null  float64\n",
      " 22  kitchen_area_index    21414 non-null  float64\n",
      " 23  living_area_index     21788 non-null  float64\n",
      "dtypes: bool(2), float64(16), int64(3), object(3)\n",
      "memory usage: 4.2+ MB\n"
     ]
    }
   ],
   "source": [
    "estate.info()"
   ]
  },
  {
   "cell_type": "code",
   "execution_count": 30,
   "metadata": {},
   "outputs": [],
   "source": [
    "#изменение типа float на тип int\n",
    "estate['total_images'] = estate['total_images'].astype('int')\n",
    "estate['last_price'] = estate['last_price'].astype('int')\n",
    "estate['rooms'] = estate['rooms'].astype('int')\n",
    "estate['balcony'] = estate['balcony'].astype('int')\n",
    "\n",
    "#изменение типа object на тип bool\n",
    "estate['is_apartment'] = estate['floors_total'].astype('bool')\n",
    "estate['studio'] = estate['studio'].astype('bool')\n",
    "estate['open_plan'] = estate['open_plan'].astype('bool')\n",
    "\n",
    "#изменение типа object на тип date\n",
    "estate['first_day_exposition'] = pd.to_datetime(estate['first_day_exposition'], \n",
    "                                                format='%Y.%m.%d')\n"
   ]
  },
  {
   "cell_type": "markdown",
   "metadata": {},
   "source": [
    "Выведем на экран результат изменения типов данных по столбцам:"
   ]
  },
  {
   "cell_type": "code",
   "execution_count": 31,
   "metadata": {},
   "outputs": [
    {
     "name": "stdout",
     "output_type": "stream",
     "text": [
      "<class 'pandas.core.frame.DataFrame'>\n",
      "Int64Index: 23691 entries, 0 to 23698\n",
      "Data columns (total 24 columns):\n",
      " #   Column                Non-Null Count  Dtype         \n",
      "---  ------                --------------  -----         \n",
      " 0   total_images          23691 non-null  int32         \n",
      " 1   last_price            23691 non-null  int32         \n",
      " 2   total_area            23691 non-null  float64       \n",
      " 3   first_day_exposition  23691 non-null  datetime64[ns]\n",
      " 4   rooms                 23691 non-null  int32         \n",
      " 5   ceiling_height        23691 non-null  float64       \n",
      " 6   floors_total          23605 non-null  float64       \n",
      " 7   living_area           23691 non-null  float64       \n",
      " 8   floor                 23691 non-null  int64         \n",
      " 9   is_apartment          23691 non-null  bool          \n",
      " 10  studio                23691 non-null  bool          \n",
      " 11  open_plan             23691 non-null  bool          \n",
      " 12  kitchen_area          23691 non-null  float64       \n",
      " 13  balcony               23691 non-null  int32         \n",
      " 14  locality_name         23642 non-null  object        \n",
      " 15  airports_nearest      18150 non-null  float64       \n",
      " 16  city_centers_nearest  18173 non-null  float64       \n",
      " 17  parks_around3000      18174 non-null  float64       \n",
      " 18  parks_nearest         8075 non-null   float64       \n",
      " 19  ponds_around3000      18174 non-null  float64       \n",
      " 20  ponds_nearest         9105 non-null   float64       \n",
      " 21  days_exposition       20511 non-null  float64       \n",
      " 22  kitchen_area_index    21414 non-null  float64       \n",
      " 23  living_area_index     21788 non-null  float64       \n",
      "dtypes: bool(3), datetime64[ns](1), float64(14), int32(4), int64(1), object(1)\n",
      "memory usage: 3.7+ MB\n"
     ]
    }
   ],
   "source": [
    "estate.info()"
   ]
  },
  {
   "cell_type": "code",
   "execution_count": 32,
   "metadata": {},
   "outputs": [
    {
     "data": {
      "text/plain": [
       "0   2019-03-07\n",
       "Name: first_day_exposition, dtype: datetime64[ns]"
      ]
     },
     "execution_count": 32,
     "metadata": {},
     "output_type": "execute_result"
    }
   ],
   "source": [
    "#проверим формат отображения даты размещения объявления\n",
    "estate['first_day_exposition'].head(1)"
   ]
  },
  {
   "cell_type": "markdown",
   "metadata": {},
   "source": [
    "###### [↑ к оглавлению ↑](#to_the_begining)"
   ]
  },
  {
   "cell_type": "markdown",
   "metadata": {},
   "source": [
    "### <a id=\"step3\">Шаг 3. Расчет и добавление в таблицу параметров</a>"
   ]
  },
  {
   "cell_type": "markdown",
   "metadata": {},
   "source": [
    "### <a id=\"price_by_meter\">3.1. Стоимость одного квадратного метра</a>"
   ]
  },
  {
   "cell_type": "markdown",
   "metadata": {},
   "source": [
    "Добавим в таблицу столбец 'price_by_meter', в котором рассчитаем цену за квадратный метр как частное от деления стоимости квартиры на общую площадь квартиры."
   ]
  },
  {
   "cell_type": "code",
   "execution_count": 33,
   "metadata": {},
   "outputs": [],
   "source": [
    "estate['price_by_meter'] = estate['last_price'] / estate['total_area']"
   ]
  },
  {
   "cell_type": "markdown",
   "metadata": {},
   "source": [
    "### <a id=\"date_data\">3.2. День недели, месяц и год публикации</a>"
   ]
  },
  {
   "cell_type": "markdown",
   "metadata": {},
   "source": [
    "Добавим столбцы 'day_of_week', 'month' и 'year' в которых поместим день недели, месяц и год публикации объявления соответственно:"
   ]
  },
  {
   "cell_type": "code",
   "execution_count": 35,
   "metadata": {},
   "outputs": [],
   "source": [
    "estate['day_of_week'] = estate['first_day_exposition'].dt.weekday\n",
    "estate['month'] = estate['first_day_exposition'].dt.month\n",
    "estate['year'] = estate['first_day_exposition'].dt.year"
   ]
  },
  {
   "cell_type": "markdown",
   "metadata": {},
   "source": [
    "### <a id=\"floor_type\">3.3. Категоризация данных по этажу квартиры</a>"
   ]
  },
  {
   "cell_type": "markdown",
   "metadata": {},
   "source": [
    "Добавим столбец 'floor_type' с категоризацией квартир по этажу, на котором они расположены:"
   ]
  },
  {
   "cell_type": "code",
   "execution_count": 36,
   "metadata": {},
   "outputs": [],
   "source": [
    "f1 = (estate['floor'] == 1)\n",
    "f2 = (estate['floor'] == estate['floors_total'])\n",
    "estate['floor_type'] = np.select([f1, f2], ['первый', 'последний'], \n",
    "                           default='другой')"
   ]
  },
  {
   "cell_type": "code",
   "execution_count": 37,
   "metadata": {},
   "outputs": [
    {
     "data": {
      "text/plain": [
       "другой       17440\n",
       "последний     3335\n",
       "первый        2916\n",
       "Name: floor_type, dtype: int64"
      ]
     },
     "execution_count": 37,
     "metadata": {},
     "output_type": "execute_result"
    }
   ],
   "source": [
    "#проверим результаты категоризации по этажу\n",
    "estate['floor_type'].value_counts()"
   ]
  },
  {
   "cell_type": "markdown",
   "metadata": {},
   "source": [
    "### <a id=\"areas_new\">3.4. Индексы площади кухни и жилой площади</a>"
   ]
  },
  {
   "cell_type": "markdown",
   "metadata": {},
   "source": [
    "Мы уже добавили к нашей таблице столбцы со значениями соотношений площади кухни к общей площади квартиры и жилой площади к общей площади квартиры при заполнении пропусков.\n",
    "Пересчитаем эти показатели по новым данным без пропусков, чтобы также избавиться от пропусков и в них:"
   ]
  },
  {
   "cell_type": "code",
   "execution_count": 38,
   "metadata": {},
   "outputs": [],
   "source": [
    "estate['kitchen_area_index'] = estate['kitchen_area'] / estate['total_area']\n",
    "estate['living_area_index'] = estate['living_area'] / estate['total_area']"
   ]
  },
  {
   "cell_type": "markdown",
   "metadata": {},
   "source": [
    "### <a id=\"check_result\">3.5. Проверка результатов</a>"
   ]
  },
  {
   "cell_type": "markdown",
   "metadata": {},
   "source": [
    "Проверим результат добавления столбцов. Распечатем первые 5 строк измененной таблицы:"
   ]
  },
  {
   "cell_type": "code",
   "execution_count": 39,
   "metadata": {},
   "outputs": [
    {
     "data": {
      "text/html": [
       "<div>\n",
       "<style scoped>\n",
       "    .dataframe tbody tr th:only-of-type {\n",
       "        vertical-align: middle;\n",
       "    }\n",
       "\n",
       "    .dataframe tbody tr th {\n",
       "        vertical-align: top;\n",
       "    }\n",
       "\n",
       "    .dataframe thead th {\n",
       "        text-align: right;\n",
       "    }\n",
       "</style>\n",
       "<table border=\"1\" class=\"dataframe\">\n",
       "  <thead>\n",
       "    <tr style=\"text-align: right;\">\n",
       "      <th></th>\n",
       "      <th>total_images</th>\n",
       "      <th>last_price</th>\n",
       "      <th>total_area</th>\n",
       "      <th>first_day_exposition</th>\n",
       "      <th>rooms</th>\n",
       "      <th>ceiling_height</th>\n",
       "      <th>floors_total</th>\n",
       "      <th>living_area</th>\n",
       "      <th>floor</th>\n",
       "      <th>is_apartment</th>\n",
       "      <th>studio</th>\n",
       "      <th>open_plan</th>\n",
       "      <th>kitchen_area</th>\n",
       "      <th>balcony</th>\n",
       "      <th>locality_name</th>\n",
       "      <th>airports_nearest</th>\n",
       "      <th>city_centers_nearest</th>\n",
       "      <th>parks_around3000</th>\n",
       "      <th>parks_nearest</th>\n",
       "      <th>ponds_around3000</th>\n",
       "      <th>ponds_nearest</th>\n",
       "      <th>days_exposition</th>\n",
       "      <th>kitchen_area_index</th>\n",
       "      <th>living_area_index</th>\n",
       "      <th>price_by_meter</th>\n",
       "      <th>day_of_week</th>\n",
       "      <th>month</th>\n",
       "      <th>year</th>\n",
       "      <th>floor_type</th>\n",
       "    </tr>\n",
       "  </thead>\n",
       "  <tbody>\n",
       "    <tr>\n",
       "      <th>0</th>\n",
       "      <td>20</td>\n",
       "      <td>13000000</td>\n",
       "      <td>108.0</td>\n",
       "      <td>2019-03-07</td>\n",
       "      <td>3</td>\n",
       "      <td>2.70</td>\n",
       "      <td>16.0</td>\n",
       "      <td>51.000000</td>\n",
       "      <td>8</td>\n",
       "      <td>True</td>\n",
       "      <td>False</td>\n",
       "      <td>False</td>\n",
       "      <td>25.000000</td>\n",
       "      <td>0</td>\n",
       "      <td>Санкт-Петербург</td>\n",
       "      <td>18863.0</td>\n",
       "      <td>16028.0</td>\n",
       "      <td>1.0</td>\n",
       "      <td>482.0</td>\n",
       "      <td>2.0</td>\n",
       "      <td>755.0</td>\n",
       "      <td>NaN</td>\n",
       "      <td>0.231481</td>\n",
       "      <td>0.472222</td>\n",
       "      <td>120370.370370</td>\n",
       "      <td>3</td>\n",
       "      <td>3</td>\n",
       "      <td>2019</td>\n",
       "      <td>другой</td>\n",
       "    </tr>\n",
       "    <tr>\n",
       "      <th>1</th>\n",
       "      <td>7</td>\n",
       "      <td>3350000</td>\n",
       "      <td>40.4</td>\n",
       "      <td>2018-12-04</td>\n",
       "      <td>1</td>\n",
       "      <td>2.70</td>\n",
       "      <td>11.0</td>\n",
       "      <td>18.600000</td>\n",
       "      <td>1</td>\n",
       "      <td>True</td>\n",
       "      <td>False</td>\n",
       "      <td>False</td>\n",
       "      <td>11.000000</td>\n",
       "      <td>2</td>\n",
       "      <td>поселок Шушары</td>\n",
       "      <td>12817.0</td>\n",
       "      <td>18603.0</td>\n",
       "      <td>0.0</td>\n",
       "      <td>NaN</td>\n",
       "      <td>0.0</td>\n",
       "      <td>NaN</td>\n",
       "      <td>81.0</td>\n",
       "      <td>0.272277</td>\n",
       "      <td>0.460396</td>\n",
       "      <td>82920.792079</td>\n",
       "      <td>1</td>\n",
       "      <td>12</td>\n",
       "      <td>2018</td>\n",
       "      <td>первый</td>\n",
       "    </tr>\n",
       "    <tr>\n",
       "      <th>2</th>\n",
       "      <td>10</td>\n",
       "      <td>5196000</td>\n",
       "      <td>56.0</td>\n",
       "      <td>2015-08-20</td>\n",
       "      <td>2</td>\n",
       "      <td>2.70</td>\n",
       "      <td>5.0</td>\n",
       "      <td>34.300000</td>\n",
       "      <td>4</td>\n",
       "      <td>True</td>\n",
       "      <td>False</td>\n",
       "      <td>False</td>\n",
       "      <td>8.300000</td>\n",
       "      <td>0</td>\n",
       "      <td>Санкт-Петербург</td>\n",
       "      <td>21741.0</td>\n",
       "      <td>13933.0</td>\n",
       "      <td>1.0</td>\n",
       "      <td>90.0</td>\n",
       "      <td>2.0</td>\n",
       "      <td>574.0</td>\n",
       "      <td>558.0</td>\n",
       "      <td>0.148214</td>\n",
       "      <td>0.612500</td>\n",
       "      <td>92785.714286</td>\n",
       "      <td>3</td>\n",
       "      <td>8</td>\n",
       "      <td>2015</td>\n",
       "      <td>другой</td>\n",
       "    </tr>\n",
       "    <tr>\n",
       "      <th>3</th>\n",
       "      <td>0</td>\n",
       "      <td>64900000</td>\n",
       "      <td>159.0</td>\n",
       "      <td>2015-07-24</td>\n",
       "      <td>3</td>\n",
       "      <td>2.70</td>\n",
       "      <td>14.0</td>\n",
       "      <td>90.289724</td>\n",
       "      <td>9</td>\n",
       "      <td>True</td>\n",
       "      <td>False</td>\n",
       "      <td>False</td>\n",
       "      <td>27.413793</td>\n",
       "      <td>0</td>\n",
       "      <td>Санкт-Петербург</td>\n",
       "      <td>28098.0</td>\n",
       "      <td>6800.0</td>\n",
       "      <td>2.0</td>\n",
       "      <td>84.0</td>\n",
       "      <td>3.0</td>\n",
       "      <td>234.0</td>\n",
       "      <td>424.0</td>\n",
       "      <td>0.172414</td>\n",
       "      <td>0.567860</td>\n",
       "      <td>408176.100629</td>\n",
       "      <td>4</td>\n",
       "      <td>7</td>\n",
       "      <td>2015</td>\n",
       "      <td>другой</td>\n",
       "    </tr>\n",
       "    <tr>\n",
       "      <th>4</th>\n",
       "      <td>2</td>\n",
       "      <td>10000000</td>\n",
       "      <td>100.0</td>\n",
       "      <td>2018-06-19</td>\n",
       "      <td>2</td>\n",
       "      <td>3.03</td>\n",
       "      <td>14.0</td>\n",
       "      <td>32.000000</td>\n",
       "      <td>13</td>\n",
       "      <td>True</td>\n",
       "      <td>False</td>\n",
       "      <td>False</td>\n",
       "      <td>41.000000</td>\n",
       "      <td>0</td>\n",
       "      <td>Санкт-Петербург</td>\n",
       "      <td>31856.0</td>\n",
       "      <td>8098.0</td>\n",
       "      <td>2.0</td>\n",
       "      <td>112.0</td>\n",
       "      <td>1.0</td>\n",
       "      <td>48.0</td>\n",
       "      <td>121.0</td>\n",
       "      <td>0.410000</td>\n",
       "      <td>0.320000</td>\n",
       "      <td>100000.000000</td>\n",
       "      <td>1</td>\n",
       "      <td>6</td>\n",
       "      <td>2018</td>\n",
       "      <td>другой</td>\n",
       "    </tr>\n",
       "  </tbody>\n",
       "</table>\n",
       "</div>"
      ],
      "text/plain": [
       "   total_images  last_price  total_area first_day_exposition  rooms  \\\n",
       "0            20    13000000       108.0           2019-03-07      3   \n",
       "1             7     3350000        40.4           2018-12-04      1   \n",
       "2            10     5196000        56.0           2015-08-20      2   \n",
       "3             0    64900000       159.0           2015-07-24      3   \n",
       "4             2    10000000       100.0           2018-06-19      2   \n",
       "\n",
       "   ceiling_height  floors_total  living_area  floor  is_apartment  studio  \\\n",
       "0            2.70          16.0    51.000000      8          True   False   \n",
       "1            2.70          11.0    18.600000      1          True   False   \n",
       "2            2.70           5.0    34.300000      4          True   False   \n",
       "3            2.70          14.0    90.289724      9          True   False   \n",
       "4            3.03          14.0    32.000000     13          True   False   \n",
       "\n",
       "   open_plan  kitchen_area  balcony    locality_name  airports_nearest  \\\n",
       "0      False     25.000000        0  Санкт-Петербург           18863.0   \n",
       "1      False     11.000000        2   поселок Шушары           12817.0   \n",
       "2      False      8.300000        0  Санкт-Петербург           21741.0   \n",
       "3      False     27.413793        0  Санкт-Петербург           28098.0   \n",
       "4      False     41.000000        0  Санкт-Петербург           31856.0   \n",
       "\n",
       "   city_centers_nearest  parks_around3000  parks_nearest  ponds_around3000  \\\n",
       "0               16028.0               1.0          482.0               2.0   \n",
       "1               18603.0               0.0            NaN               0.0   \n",
       "2               13933.0               1.0           90.0               2.0   \n",
       "3                6800.0               2.0           84.0               3.0   \n",
       "4                8098.0               2.0          112.0               1.0   \n",
       "\n",
       "   ponds_nearest  days_exposition  kitchen_area_index  living_area_index  \\\n",
       "0          755.0              NaN            0.231481           0.472222   \n",
       "1            NaN             81.0            0.272277           0.460396   \n",
       "2          574.0            558.0            0.148214           0.612500   \n",
       "3          234.0            424.0            0.172414           0.567860   \n",
       "4           48.0            121.0            0.410000           0.320000   \n",
       "\n",
       "   price_by_meter  day_of_week  month  year floor_type  \n",
       "0   120370.370370            3      3  2019     другой  \n",
       "1    82920.792079            1     12  2018     первый  \n",
       "2    92785.714286            3      8  2015     другой  \n",
       "3   408176.100629            4      7  2015     другой  \n",
       "4   100000.000000            1      6  2018     другой  "
      ]
     },
     "execution_count": 39,
     "metadata": {},
     "output_type": "execute_result"
    }
   ],
   "source": [
    "estate.head()"
   ]
  },
  {
   "cell_type": "markdown",
   "metadata": {},
   "source": [
    "###### [↑ к оглавлению ↑](#to_the_begining)"
   ]
  },
  {
   "cell_type": "markdown",
   "metadata": {},
   "source": [
    "### <a id=\"step4\">Шаг 4. Проведение исследовательского анализа данных</a>"
   ]
  },
  {
   "cell_type": "markdown",
   "metadata": {},
   "source": [
    "### <a id=\"influence\">4.1. Изучение влияния отдельных параметров на цену</a>"
   ]
  },
  {
   "cell_type": "markdown",
   "metadata": {},
   "source": [
    "Изучим такие параметры, как общая площадь квартиры, цена продажи, количество комнат и высота потолков."
   ]
  },
  {
   "cell_type": "markdown",
   "metadata": {},
   "source": [
    "<div class=\"alert alert-block alert-info\">\n",
    "Для этого сперва запрсим математическое описание интересующих нас столбцов, после чего с помощью цикла построим гистограммы распределения для всех интересующих нас параметров:\n",
    "</div>"
   ]
  },
  {
   "cell_type": "code",
   "execution_count": 40,
   "metadata": {},
   "outputs": [
    {
     "data": {
      "text/plain": [
       "count    4.322040e+05\n",
       "mean     6.879314e+03\n",
       "std      2.534832e+04\n",
       "min      0.000000e+00\n",
       "25%      5.191638e-01\n",
       "50%      5.000000e+00\n",
       "75%      6.000000e+01\n",
       "max      1.907500e+06\n",
       "dtype: float64"
      ]
     },
     "execution_count": 40,
     "metadata": {},
     "output_type": "execute_result"
    }
   ],
   "source": [
    "estate.pivot_table(columns=['total_area', 'last_price', 'rooms', 'ceiling_height']).describe()"
   ]
  },
  {
   "cell_type": "code",
   "execution_count": 41,
   "metadata": {},
   "outputs": [
    {
     "data": {
      "image/png": "[encoded data removed]",
      "text/plain": [
       "<Figure size 1008x432 with 1 Axes>"
      ]
     },
     "metadata": {
      "needs_background": "light"
     },
     "output_type": "display_data"
    },
    {
     "data": {
      "image/png": "[encoded data removed]",
      "text/plain": [
       "<Figure size 1008x432 with 1 Axes>"
      ]
     },
     "metadata": {
      "needs_background": "light"
     },
     "output_type": "display_data"
    },
    {
     "data": {
      "image/png": "[encoded data removed]",
      "text/plain": [
       "<Figure size 1008x432 with 1 Axes>"
      ]
     },
     "metadata": {
      "needs_background": "light"
     },
     "output_type": "display_data"
    },
    {
     "data": {
      "image/png": "[encoded data removed]",
      "text/plain": [
       "<Figure size 1008x432 with 1 Axes>"
      ]
     },
     "metadata": {
      "needs_background": "light"
     },
     "output_type": "display_data"
    }
   ],
   "source": [
    "param_list = ['total_area', 'last_price', 'rooms', 'ceiling_height']\n",
    "for param in param_list:\n",
    "    estate[param].hist(bins = len(estate[param].unique()), \n",
    "                       figsize = (14, 6), color='red',\n",
    "                       range=((estate[param].quantile(0.25) - 1.5 * (estate[param].quantile(0.75) - estate[param].quantile(0.25))),\n",
    "                              estate[param].quantile(0.75) + 1.5 * (estate[param].quantile(0.75) - estate[param].quantile(0.25)))).set_xlabel(param)\n",
    "    plt.show()"
   ]
  },
  {
   "cell_type": "markdown",
   "metadata": {},
   "source": [
    "Медиана показателя `'total_area'` составляет 52 квадратных метра, среднее значение при этом - 60. Значит, в выборке имеем смещение влево за счет записей с исключительно большими значениями параметра \"площадь\". В диапазон от первой до третьей квартили попадают значения от 40 до примерно 70 метров (что весьма похоже на правду). От 70 до 100 квадратных метров количество значительно сокращается, от 100 до 125 сокращение становится менее явным, и квартиры с площадью более 125 метров имеют характер скорее единичных случаев."
   ]
  },
  {
   "cell_type": "markdown",
   "metadata": {},
   "source": [
    "Вполне логично больше всего 1- и 2-комнатных квартир, меньше 3-комнатных, и далее каждое новое приращение соответствует значительному снижению количества записей.\n",
    "И медиана, и среднее значение находятся на уровне 2 комнат."
   ]
  },
  {
   "cell_type": "markdown",
   "metadata": {},
   "source": [
    "Средняя высота потолков составляет 2.72 м., медианное значение - 2.65. Редкие случаи высоты потолков, превышающей 3,5 метра могут относиться к двухэтажным квартирам или иным квартирам, конструктивная особенность которых подразумевает большую высоту потолков."
   ]
  },
  {
   "cell_type": "code",
   "execution_count": 42,
   "metadata": {},
   "outputs": [
    {
     "data": {
      "text/plain": [
       "count    20511.000000\n",
       "mean       180.910585\n",
       "std        219.752298\n",
       "min          1.000000\n",
       "25%         45.000000\n",
       "50%         95.000000\n",
       "75%        232.000000\n",
       "max       1580.000000\n",
       "Name: days_exposition, dtype: float64"
      ]
     },
     "execution_count": 42,
     "metadata": {},
     "output_type": "execute_result"
    }
   ],
   "source": [
    "estate['days_exposition'].describe()"
   ]
  },
  {
   "cell_type": "code",
   "execution_count": 43,
   "metadata": {},
   "outputs": [
    {
     "data": {
      "text/plain": [
       "<matplotlib.axes._subplots.AxesSubplot at 0x2073379d0a0>"
      ]
     },
     "execution_count": 43,
     "metadata": {},
     "output_type": "execute_result"
    },
    {
     "data": {
      "image/png": "[encoded data removed]",
      "text/plain": [
       "<Figure size 1080x360 with 1 Axes>"
      ]
     },
     "metadata": {
      "needs_background": "light"
     },
     "output_type": "display_data"
    }
   ],
   "source": [
    "estate['days_exposition'].hist(bins = 100, figsize = (15, 5), color='red')"
   ]
  },
  {
   "cell_type": "markdown",
   "metadata": {},
   "source": [
    "В среднем квартиры продаются за полгода (по медиане - за 3 месяца). Самая быстрая продажа была совершена всего за 1 день, большая часть квартир продается в течение 8 месяцев, однако отдельные варианты достигают показателей от 2 до 5 лет."
   ]
  },
  {
   "cell_type": "markdown",
   "metadata": {},
   "source": [
    "### <a id=\"rare\">4.2. Изучение редких и выбивающихся значений</a>"
   ]
  },
  {
   "cell_type": "code",
   "execution_count": 44,
   "metadata": {},
   "outputs": [
    {
     "data": {
      "text/html": [
       "<div>\n",
       "<style scoped>\n",
       "    .dataframe tbody tr th:only-of-type {\n",
       "        vertical-align: middle;\n",
       "    }\n",
       "\n",
       "    .dataframe tbody tr th {\n",
       "        vertical-align: top;\n",
       "    }\n",
       "\n",
       "    .dataframe thead th {\n",
       "        text-align: right;\n",
       "    }\n",
       "</style>\n",
       "<table border=\"1\" class=\"dataframe\">\n",
       "  <thead>\n",
       "    <tr style=\"text-align: right;\">\n",
       "      <th></th>\n",
       "      <th>total_images</th>\n",
       "      <th>last_price</th>\n",
       "      <th>total_area</th>\n",
       "      <th>rooms</th>\n",
       "      <th>ceiling_height</th>\n",
       "      <th>floors_total</th>\n",
       "      <th>living_area</th>\n",
       "      <th>floor</th>\n",
       "      <th>kitchen_area</th>\n",
       "      <th>balcony</th>\n",
       "      <th>airports_nearest</th>\n",
       "      <th>city_centers_nearest</th>\n",
       "      <th>parks_around3000</th>\n",
       "      <th>parks_nearest</th>\n",
       "      <th>ponds_around3000</th>\n",
       "      <th>ponds_nearest</th>\n",
       "      <th>days_exposition</th>\n",
       "      <th>kitchen_area_index</th>\n",
       "      <th>living_area_index</th>\n",
       "      <th>price_by_meter</th>\n",
       "      <th>day_of_week</th>\n",
       "      <th>month</th>\n",
       "      <th>year</th>\n",
       "    </tr>\n",
       "  </thead>\n",
       "  <tbody>\n",
       "    <tr>\n",
       "      <th>count</th>\n",
       "      <td>23691.000000</td>\n",
       "      <td>2.369100e+04</td>\n",
       "      <td>23691.000000</td>\n",
       "      <td>23691.000000</td>\n",
       "      <td>23691.000000</td>\n",
       "      <td>23605.000000</td>\n",
       "      <td>23691.000000</td>\n",
       "      <td>23691.000000</td>\n",
       "      <td>23691.000000</td>\n",
       "      <td>23691.000000</td>\n",
       "      <td>18150.000000</td>\n",
       "      <td>18173.000000</td>\n",
       "      <td>18174.000000</td>\n",
       "      <td>8075.000000</td>\n",
       "      <td>18174.000000</td>\n",
       "      <td>9105.000000</td>\n",
       "      <td>20511.000000</td>\n",
       "      <td>23691.000000</td>\n",
       "      <td>23691.000000</td>\n",
       "      <td>2.369100e+04</td>\n",
       "      <td>23691.000000</td>\n",
       "      <td>23691.000000</td>\n",
       "      <td>23691.000000</td>\n",
       "    </tr>\n",
       "    <tr>\n",
       "      <th>mean</th>\n",
       "      <td>9.857583</td>\n",
       "      <td>6.541654e+06</td>\n",
       "      <td>60.352057</td>\n",
       "      <td>2.070786</td>\n",
       "      <td>2.738076</td>\n",
       "      <td>10.672400</td>\n",
       "      <td>34.580954</td>\n",
       "      <td>5.891562</td>\n",
       "      <td>10.491947</td>\n",
       "      <td>0.590731</td>\n",
       "      <td>28795.560716</td>\n",
       "      <td>14191.552633</td>\n",
       "      <td>0.611313</td>\n",
       "      <td>490.809536</td>\n",
       "      <td>0.769946</td>\n",
       "      <td>518.104778</td>\n",
       "      <td>180.910585</td>\n",
       "      <td>0.185914</td>\n",
       "      <td>0.565030</td>\n",
       "      <td>9.940199e+04</td>\n",
       "      <td>2.569457</td>\n",
       "      <td>6.399772</td>\n",
       "      <td>2017.367017</td>\n",
       "    </tr>\n",
       "    <tr>\n",
       "      <th>std</th>\n",
       "      <td>5.681639</td>\n",
       "      <td>1.088864e+07</td>\n",
       "      <td>35.658003</td>\n",
       "      <td>1.078480</td>\n",
       "      <td>0.744019</td>\n",
       "      <td>6.595368</td>\n",
       "      <td>22.342809</td>\n",
       "      <td>4.885029</td>\n",
       "      <td>6.029864</td>\n",
       "      <td>0.958526</td>\n",
       "      <td>12631.541955</td>\n",
       "      <td>8609.750070</td>\n",
       "      <td>0.802047</td>\n",
       "      <td>342.341247</td>\n",
       "      <td>0.938110</td>\n",
       "      <td>277.698784</td>\n",
       "      <td>219.752298</td>\n",
       "      <td>0.069501</td>\n",
       "      <td>0.101051</td>\n",
       "      <td>5.020754e+04</td>\n",
       "      <td>1.789143</td>\n",
       "      <td>3.491791</td>\n",
       "      <td>1.039851</td>\n",
       "    </tr>\n",
       "    <tr>\n",
       "      <th>min</th>\n",
       "      <td>0.000000</td>\n",
       "      <td>1.219000e+04</td>\n",
       "      <td>12.000000</td>\n",
       "      <td>0.000000</td>\n",
       "      <td>2.000000</td>\n",
       "      <td>1.000000</td>\n",
       "      <td>2.000000</td>\n",
       "      <td>1.000000</td>\n",
       "      <td>1.300000</td>\n",
       "      <td>0.000000</td>\n",
       "      <td>0.000000</td>\n",
       "      <td>181.000000</td>\n",
       "      <td>0.000000</td>\n",
       "      <td>1.000000</td>\n",
       "      <td>0.000000</td>\n",
       "      <td>13.000000</td>\n",
       "      <td>1.000000</td>\n",
       "      <td>0.025381</td>\n",
       "      <td>0.021583</td>\n",
       "      <td>1.118349e+02</td>\n",
       "      <td>0.000000</td>\n",
       "      <td>1.000000</td>\n",
       "      <td>2014.000000</td>\n",
       "    </tr>\n",
       "    <tr>\n",
       "      <th>25%</th>\n",
       "      <td>6.000000</td>\n",
       "      <td>3.400000e+06</td>\n",
       "      <td>40.000000</td>\n",
       "      <td>1.000000</td>\n",
       "      <td>2.600000</td>\n",
       "      <td>5.000000</td>\n",
       "      <td>19.000000</td>\n",
       "      <td>2.000000</td>\n",
       "      <td>7.000000</td>\n",
       "      <td>0.000000</td>\n",
       "      <td>18585.000000</td>\n",
       "      <td>9238.000000</td>\n",
       "      <td>0.000000</td>\n",
       "      <td>288.000000</td>\n",
       "      <td>0.000000</td>\n",
       "      <td>294.000000</td>\n",
       "      <td>45.000000</td>\n",
       "      <td>0.136859</td>\n",
       "      <td>0.500000</td>\n",
       "      <td>7.658547e+04</td>\n",
       "      <td>1.000000</td>\n",
       "      <td>3.000000</td>\n",
       "      <td>2017.000000</td>\n",
       "    </tr>\n",
       "    <tr>\n",
       "      <th>50%</th>\n",
       "      <td>9.000000</td>\n",
       "      <td>4.650000e+06</td>\n",
       "      <td>52.000000</td>\n",
       "      <td>2.000000</td>\n",
       "      <td>2.700000</td>\n",
       "      <td>9.000000</td>\n",
       "      <td>30.000000</td>\n",
       "      <td>4.000000</td>\n",
       "      <td>9.000000</td>\n",
       "      <td>0.000000</td>\n",
       "      <td>26726.000000</td>\n",
       "      <td>13098.000000</td>\n",
       "      <td>0.000000</td>\n",
       "      <td>455.000000</td>\n",
       "      <td>1.000000</td>\n",
       "      <td>502.000000</td>\n",
       "      <td>95.000000</td>\n",
       "      <td>0.172414</td>\n",
       "      <td>0.567860</td>\n",
       "      <td>9.500000e+04</td>\n",
       "      <td>3.000000</td>\n",
       "      <td>6.000000</td>\n",
       "      <td>2017.000000</td>\n",
       "    </tr>\n",
       "    <tr>\n",
       "      <th>75%</th>\n",
       "      <td>14.000000</td>\n",
       "      <td>6.800000e+06</td>\n",
       "      <td>69.900000</td>\n",
       "      <td>3.000000</td>\n",
       "      <td>2.700000</td>\n",
       "      <td>16.000000</td>\n",
       "      <td>42.100000</td>\n",
       "      <td>8.000000</td>\n",
       "      <td>12.000000</td>\n",
       "      <td>1.000000</td>\n",
       "      <td>37276.500000</td>\n",
       "      <td>16293.000000</td>\n",
       "      <td>1.000000</td>\n",
       "      <td>612.000000</td>\n",
       "      <td>1.000000</td>\n",
       "      <td>730.000000</td>\n",
       "      <td>232.000000</td>\n",
       "      <td>0.223738</td>\n",
       "      <td>0.631579</td>\n",
       "      <td>1.142504e+05</td>\n",
       "      <td>4.000000</td>\n",
       "      <td>10.000000</td>\n",
       "      <td>2018.000000</td>\n",
       "    </tr>\n",
       "    <tr>\n",
       "      <th>max</th>\n",
       "      <td>50.000000</td>\n",
       "      <td>7.630000e+08</td>\n",
       "      <td>900.000000</td>\n",
       "      <td>19.000000</td>\n",
       "      <td>32.000000</td>\n",
       "      <td>60.000000</td>\n",
       "      <td>409.700000</td>\n",
       "      <td>33.000000</td>\n",
       "      <td>112.000000</td>\n",
       "      <td>5.000000</td>\n",
       "      <td>84869.000000</td>\n",
       "      <td>65968.000000</td>\n",
       "      <td>3.000000</td>\n",
       "      <td>3190.000000</td>\n",
       "      <td>3.000000</td>\n",
       "      <td>1344.000000</td>\n",
       "      <td>1580.000000</td>\n",
       "      <td>0.787879</td>\n",
       "      <td>1.000000</td>\n",
       "      <td>1.907500e+06</td>\n",
       "      <td>6.000000</td>\n",
       "      <td>12.000000</td>\n",
       "      <td>2019.000000</td>\n",
       "    </tr>\n",
       "  </tbody>\n",
       "</table>\n",
       "</div>"
      ],
      "text/plain": [
       "       total_images    last_price    total_area         rooms  ceiling_height  \\\n",
       "count  23691.000000  2.369100e+04  23691.000000  23691.000000    23691.000000   \n",
       "mean       9.857583  6.541654e+06     60.352057      2.070786        2.738076   \n",
       "std        5.681639  1.088864e+07     35.658003      1.078480        0.744019   \n",
       "min        0.000000  1.219000e+04     12.000000      0.000000        2.000000   \n",
       "25%        6.000000  3.400000e+06     40.000000      1.000000        2.600000   \n",
       "50%        9.000000  4.650000e+06     52.000000      2.000000        2.700000   \n",
       "75%       14.000000  6.800000e+06     69.900000      3.000000        2.700000   \n",
       "max       50.000000  7.630000e+08    900.000000     19.000000       32.000000   \n",
       "\n",
       "       floors_total   living_area         floor  kitchen_area       balcony  \\\n",
       "count  23605.000000  23691.000000  23691.000000  23691.000000  23691.000000   \n",
       "mean      10.672400     34.580954      5.891562     10.491947      0.590731   \n",
       "std        6.595368     22.342809      4.885029      6.029864      0.958526   \n",
       "min        1.000000      2.000000      1.000000      1.300000      0.000000   \n",
       "25%        5.000000     19.000000      2.000000      7.000000      0.000000   \n",
       "50%        9.000000     30.000000      4.000000      9.000000      0.000000   \n",
       "75%       16.000000     42.100000      8.000000     12.000000      1.000000   \n",
       "max       60.000000    409.700000     33.000000    112.000000      5.000000   \n",
       "\n",
       "       airports_nearest  city_centers_nearest  parks_around3000  \\\n",
       "count      18150.000000          18173.000000      18174.000000   \n",
       "mean       28795.560716          14191.552633          0.611313   \n",
       "std        12631.541955           8609.750070          0.802047   \n",
       "min            0.000000            181.000000          0.000000   \n",
       "25%        18585.000000           9238.000000          0.000000   \n",
       "50%        26726.000000          13098.000000          0.000000   \n",
       "75%        37276.500000          16293.000000          1.000000   \n",
       "max        84869.000000          65968.000000          3.000000   \n",
       "\n",
       "       parks_nearest  ponds_around3000  ponds_nearest  days_exposition  \\\n",
       "count    8075.000000      18174.000000    9105.000000     20511.000000   \n",
       "mean      490.809536          0.769946     518.104778       180.910585   \n",
       "std       342.341247          0.938110     277.698784       219.752298   \n",
       "min         1.000000          0.000000      13.000000         1.000000   \n",
       "25%       288.000000          0.000000     294.000000        45.000000   \n",
       "50%       455.000000          1.000000     502.000000        95.000000   \n",
       "75%       612.000000          1.000000     730.000000       232.000000   \n",
       "max      3190.000000          3.000000    1344.000000      1580.000000   \n",
       "\n",
       "       kitchen_area_index  living_area_index  price_by_meter   day_of_week  \\\n",
       "count        23691.000000       23691.000000    2.369100e+04  23691.000000   \n",
       "mean             0.185914           0.565030    9.940199e+04      2.569457   \n",
       "std              0.069501           0.101051    5.020754e+04      1.789143   \n",
       "min              0.025381           0.021583    1.118349e+02      0.000000   \n",
       "25%              0.136859           0.500000    7.658547e+04      1.000000   \n",
       "50%              0.172414           0.567860    9.500000e+04      3.000000   \n",
       "75%              0.223738           0.631579    1.142504e+05      4.000000   \n",
       "max              0.787879           1.000000    1.907500e+06      6.000000   \n",
       "\n",
       "              month          year  \n",
       "count  23691.000000  23691.000000  \n",
       "mean       6.399772   2017.367017  \n",
       "std        3.491791      1.039851  \n",
       "min        1.000000   2014.000000  \n",
       "25%        3.000000   2017.000000  \n",
       "50%        6.000000   2017.000000  \n",
       "75%       10.000000   2018.000000  \n",
       "max       12.000000   2019.000000  "
      ]
     },
     "execution_count": 44,
     "metadata": {},
     "output_type": "execute_result"
    }
   ],
   "source": [
    "estate.describe()"
   ]
  },
  {
   "cell_type": "markdown",
   "metadata": {},
   "source": [
    "Нас интересуют закономерности, поэтому необходимо исключить из данных сильно выбивающиеся из общей массы значения (выбросы)."
   ]
  },
  {
   "cell_type": "code",
   "execution_count": 45,
   "metadata": {},
   "outputs": [
    {
     "data": {
      "text/plain": [
       "8793      12190\n",
       "14911    430000\n",
       "17456    430000\n",
       "16274    440000\n",
       "16219    450000\n",
       "9581     450000\n",
       "17676    450000\n",
       "5698     450000\n",
       "18867    470000\n",
       "21912    470000\n",
       "23484    470000\n",
       "16032    480000\n",
       "10782    490000\n",
       "6859     490000\n",
       "2097     500000\n",
       "14904    500000\n",
       "4405     500000\n",
       "14295    500000\n",
       "22430    520000\n",
       "12607    530000\n",
       "1358     550000\n",
       "7962     550000\n",
       "7376     550000\n",
       "11351    550000\n",
       "13768    550000\n",
       "1053     550000\n",
       "8630     560000\n",
       "22997    560000\n",
       "19460    560000\n",
       "13809    565000\n",
       "Name: last_price, dtype: int32"
      ]
     },
     "execution_count": 45,
     "metadata": {},
     "output_type": "execute_result"
    }
   ],
   "source": [
    "estate['last_price'].sort_values().head(30)"
   ]
  },
  {
   "cell_type": "markdown",
   "metadata": {},
   "source": [
    "<div class=\"alert alert-block alert-info\">\n",
    "Для этого построим график разброса типа \"ящик с усами\" для каждого интересующего нас параметра.\n",
    "</div>"
   ]
  },
  {
   "cell_type": "code",
   "execution_count": 46,
   "metadata": {},
   "outputs": [
    {
     "data": {
      "image/png": "[encoded data removed]",
      "text/plain": [
       "<Figure size 1080x216 with 1 Axes>"
      ]
     },
     "metadata": {},
     "output_type": "display_data"
    },
    {
     "data": {
      "image/png": "[encoded data removed]",
      "text/plain": [
       "<Figure size 1080x216 with 1 Axes>"
      ]
     },
     "metadata": {},
     "output_type": "display_data"
    },
    {
     "data": {
      "image/png": "[encoded data removed]",
      "text/plain": [
       "<Figure size 1080x216 with 1 Axes>"
      ]
     },
     "metadata": {},
     "output_type": "display_data"
    },
    {
     "data": {
      "image/png": "[encoded data removed]",
      "text/plain": [
       "<Figure size 1080x216 with 1 Axes>"
      ]
     },
     "metadata": {},
     "output_type": "display_data"
    },
    {
     "data": {
      "image/png": "[encoded data removed]",
      "text/plain": [
       "<Figure size 1080x216 with 1 Axes>"
      ]
     },
     "metadata": {},
     "output_type": "display_data"
    },
    {
     "data": {
      "image/png": "[encoded data removed]",
      "text/plain": [
       "<Figure size 1080x216 with 1 Axes>"
      ]
     },
     "metadata": {},
     "output_type": "display_data"
    }
   ],
   "source": [
    "sns.set_style('darkgrid')\n",
    "param_list1 = ['last_price', 'total_area', 'rooms', 'ceiling_height', 'airports_nearest', 'floors_total']\n",
    "for param in param_list1:\n",
    "    plt.rcParams['figure.figsize']=(15, 3)\n",
    "    sns.boxplot(x=param, data=estate, fliersize=3)\n",
    "    plt.show()"
   ]
  },
  {
   "cell_type": "code",
   "execution_count": 47,
   "metadata": {},
   "outputs": [],
   "source": [
    "def whisker(column):\n",
    "    k = 1.5\n",
    "    column_min = estate[column].quantile(0.25) - k * (estate[column].quantile(0.75) - estate[column].quantile(0.25))\n",
    "    column_max = estate[column].quantile(0.75) + k * (estate[column].quantile(0.75) - estate[column].quantile(0.25))\n",
    "    print('Нижняя граница \"усов\" для параметра', column, 'равна', column_min)\n",
    "    print('Верхняя граница \"усов\" для параметра', column, 'равна', column_max)\n",
    "    print()"
   ]
  },
  {
   "cell_type": "code",
   "execution_count": 48,
   "metadata": {},
   "outputs": [
    {
     "name": "stdout",
     "output_type": "stream",
     "text": [
      "Нижняя граница \"усов\" для параметра last_price равна -1700000.0\n",
      "Верхняя граница \"усов\" для параметра last_price равна 11900000.0\n",
      "\n",
      "Нижняя граница \"усов\" для параметра total_area равна -4.8500000000000085\n",
      "Верхняя граница \"усов\" для параметра total_area равна 114.75000000000001\n",
      "\n",
      "Нижняя граница \"усов\" для параметра rooms равна -2.0\n",
      "Верхняя граница \"усов\" для параметра rooms равна 6.0\n",
      "\n",
      "Нижняя граница \"усов\" для параметра ceiling_height равна 2.45\n",
      "Верхняя граница \"усов\" для параметра ceiling_height равна 2.8500000000000005\n",
      "\n",
      "Нижняя граница \"усов\" для параметра airports_nearest равна -9452.25\n",
      "Верхняя граница \"усов\" для параметра airports_nearest равна 65313.75\n",
      "\n",
      "Нижняя граница \"усов\" для параметра floors_total равна -11.5\n",
      "Верхняя граница \"усов\" для параметра floors_total равна 32.5\n",
      "\n"
     ]
    }
   ],
   "source": [
    "for column in param_list1:\n",
    "    whisker(column)"
   ]
  },
  {
   "cell_type": "code",
   "execution_count": 49,
   "metadata": {},
   "outputs": [
    {
     "name": "stdout",
     "output_type": "stream",
     "text": [
      "count    2.369100e+04\n",
      "mean     6.541654e+06\n",
      "std      1.088864e+07\n",
      "min      1.219000e+04\n",
      "25%      3.400000e+06\n",
      "50%      4.650000e+06\n",
      "75%      6.800000e+06\n",
      "max      7.630000e+08\n",
      "Name: last_price, dtype: float64\n",
      "\n",
      "count    23691.000000\n",
      "mean        60.352057\n",
      "std         35.658003\n",
      "min         12.000000\n",
      "25%         40.000000\n",
      "50%         52.000000\n",
      "75%         69.900000\n",
      "max        900.000000\n",
      "Name: total_area, dtype: float64\n",
      "\n",
      "count    23691.000000\n",
      "mean         2.070786\n",
      "std          1.078480\n",
      "min          0.000000\n",
      "25%          1.000000\n",
      "50%          2.000000\n",
      "75%          3.000000\n",
      "max         19.000000\n",
      "Name: rooms, dtype: float64\n",
      "\n",
      "count    23691.000000\n",
      "mean         2.738076\n",
      "std          0.744019\n",
      "min          2.000000\n",
      "25%          2.600000\n",
      "50%          2.700000\n",
      "75%          2.700000\n",
      "max         32.000000\n",
      "Name: ceiling_height, dtype: float64\n",
      "\n",
      "count    18150.000000\n",
      "mean     28795.560716\n",
      "std      12631.541955\n",
      "min          0.000000\n",
      "25%      18585.000000\n",
      "50%      26726.000000\n",
      "75%      37276.500000\n",
      "max      84869.000000\n",
      "Name: airports_nearest, dtype: float64\n",
      "\n",
      "count    23605.000000\n",
      "mean        10.672400\n",
      "std          6.595368\n",
      "min          1.000000\n",
      "25%          5.000000\n",
      "50%          9.000000\n",
      "75%         16.000000\n",
      "max         60.000000\n",
      "Name: floors_total, dtype: float64\n",
      "\n"
     ]
    }
   ],
   "source": [
    "for param in param_list1:\n",
    "    print(estate[param].describe())\n",
    "    print()"
   ]
  },
  {
   "cell_type": "markdown",
   "metadata": {},
   "source": [
    "<div class=\"alert alert-block alert-info\">\n",
    "Определим границы величин, за рамками которых уже находятся выбросы:\n",
    "    \n",
    "<ul>\n",
    "<li>для общей площади это значения от 5 до 115;</li>\n",
    "<li>для количества комнат - от 0 до 6 (допускаем нулевое значение параметра \"количество комнат\" для квартир-студий);</li>\n",
    "<li>для высоты потолков - от 2.45 до 2.85, однако мы заполнили пропуски значением 2.7,что могло вызвать искажение распределения, поэтому для высоты потолков отдельно вызовем график типа boxenplot;</li>\n",
    "<li>для расстояния до аэропорта - от 0 до 65313 м.;</li>\n",
    "<li>для общего количества этажей - от 1 до 32.</li>\n",
    "</ul>\n",
    "</div>"
   ]
  },
  {
   "cell_type": "code",
   "execution_count": 50,
   "metadata": {},
   "outputs": [
    {
     "data": {
      "image/png": "[encoded data removed]",
      "text/plain": [
       "<Figure size 1080x360 with 1 Axes>"
      ]
     },
     "metadata": {},
     "output_type": "display_data"
    },
    {
     "data": {
      "image/png": "[encoded data removed]",
      "text/plain": [
       "<Figure size 1080x360 with 1 Axes>"
      ]
     },
     "metadata": {},
     "output_type": "display_data"
    }
   ],
   "source": [
    "with warnings.catch_warnings():\n",
    "    warnings.simplefilter(\"ignore\")\n",
    "    plt.rcParams['figure.figsize']=(15,5)\n",
    "    plt.xlim(2, 8)\n",
    "    sns.boxenplot(x=['ceiling_height'], data=estate)\n",
    "    plt.show()\n",
    "    sns.boxenplot(x=['last_price'], data=estate)"
   ]
  },
  {
   "cell_type": "markdown",
   "metadata": {},
   "source": [
    "<div class=\"alert alert-block alert-info\">\n",
    "По графику выше видно (верхний график), что нас устроит величина высоты потолков в диапазоне от 2.5 до 3.3 метров.\n",
    "</div>"
   ]
  },
  {
   "cell_type": "markdown",
   "metadata": {},
   "source": [
    "<div class=\"alert alert-block alert-info\">Методы боксплот и боксенплот не дают наглядного достоверного результата по нижней и верхней границам параметра last_price, поэтому рассчитаем ее по нижнему 5% перцентилю: 1.87 млн. руб., сверху отбросим всего 1% наблюдений: 36 млн. руб.</div>"
   ]
  },
  {
   "cell_type": "code",
   "execution_count": 51,
   "metadata": {},
   "outputs": [
    {
     "data": {
      "text/plain": [
       "total_images            1.000000e+00\n",
       "last_price              1.870000e+06\n",
       "total_area              3.100000e+01\n",
       "rooms                   1.000000e+00\n",
       "ceiling_height          2.500000e+00\n",
       "floors_total            4.000000e+00\n",
       "living_area             1.530000e+01\n",
       "floor                   1.000000e+00\n",
       "is_apartment            1.000000e+00\n",
       "studio                  0.000000e+00\n",
       "open_plan               0.000000e+00\n",
       "kitchen_area            5.300000e+00\n",
       "balcony                 0.000000e+00\n",
       "airports_nearest        1.155635e+04\n",
       "city_centers_nearest    3.541000e+03\n",
       "parks_around3000        0.000000e+00\n",
       "parks_nearest           9.570000e+01\n",
       "ponds_around3000        0.000000e+00\n",
       "ponds_nearest           9.400000e+01\n",
       "days_exposition         9.000000e+00\n",
       "kitchen_area_index      1.000000e-01\n",
       "living_area_index       3.953488e-01\n",
       "price_by_meter          4.132194e+04\n",
       "day_of_week             0.000000e+00\n",
       "month                   1.000000e+00\n",
       "year                    2.015000e+03\n",
       "Name: 0.05, dtype: float64"
      ]
     },
     "metadata": {},
     "output_type": "display_data"
    },
    {
     "data": {
      "text/plain": [
       "total_images            2.000000e+01\n",
       "last_price              3.600000e+07\n",
       "total_area              1.972700e+02\n",
       "rooms                   5.000000e+00\n",
       "ceiling_height          3.600000e+00\n",
       "floors_total            2.600000e+01\n",
       "living_area             1.220000e+02\n",
       "floor                   2.300000e+01\n",
       "is_apartment            1.000000e+00\n",
       "studio                  0.000000e+00\n",
       "open_plan               0.000000e+00\n",
       "kitchen_area            3.551000e+01\n",
       "balcony                 5.000000e+00\n",
       "airports_nearest        5.854748e+04\n",
       "city_centers_nearest    5.006484e+04\n",
       "parks_around3000        3.000000e+00\n",
       "parks_nearest           2.102000e+03\n",
       "ponds_around3000        3.000000e+00\n",
       "ponds_nearest           1.159000e+03\n",
       "days_exposition         1.068800e+03\n",
       "kitchen_area_index      4.166667e-01\n",
       "living_area_index       7.894963e-01\n",
       "price_by_meter          2.666698e+05\n",
       "day_of_week             6.000000e+00\n",
       "month                   1.200000e+01\n",
       "year                    2.019000e+03\n",
       "Name: 0.99, dtype: float64"
      ]
     },
     "metadata": {},
     "output_type": "display_data"
    }
   ],
   "source": [
    "display(estate.quantile(0.05))\n",
    "display(estate.quantile(0.99))"
   ]
  },
  {
   "cell_type": "code",
   "execution_count": 52,
   "metadata": {},
   "outputs": [],
   "source": [
    "estate_clean = estate.query('last_price >= 1870000 and last_price <= 36000000 and \\\n",
    "total_area <= 115 and total_area >= 5 and rooms <= 6 and rooms >= 0 and airports_nearest >= 0 and \\\n",
    "airports_nearest <= 65313 and floors_total >= 1 and floors_total <= 32')"
   ]
  },
  {
   "cell_type": "markdown",
   "metadata": {},
   "source": [
    "### <a id=\"summary_influence\">4.3. Выводы о влиянии различных факторов</a>"
   ]
  },
  {
   "cell_type": "code",
   "execution_count": 53,
   "metadata": {},
   "outputs": [
    {
     "data": {
      "text/html": [
       "<div>\n",
       "<style scoped>\n",
       "    .dataframe tbody tr th:only-of-type {\n",
       "        vertical-align: middle;\n",
       "    }\n",
       "\n",
       "    .dataframe tbody tr th {\n",
       "        vertical-align: top;\n",
       "    }\n",
       "\n",
       "    .dataframe thead th {\n",
       "        text-align: right;\n",
       "    }\n",
       "</style>\n",
       "<table border=\"1\" class=\"dataframe\">\n",
       "  <thead>\n",
       "    <tr style=\"text-align: right;\">\n",
       "      <th></th>\n",
       "      <th>last_price</th>\n",
       "      <th>price_by_meter</th>\n",
       "      <th>total_area</th>\n",
       "      <th>rooms</th>\n",
       "      <th>city_centers_nearest</th>\n",
       "      <th>balcony</th>\n",
       "      <th>ceiling_height</th>\n",
       "      <th>floor</th>\n",
       "      <th>airports_nearest</th>\n",
       "    </tr>\n",
       "  </thead>\n",
       "  <tbody>\n",
       "    <tr>\n",
       "      <th>last_price</th>\n",
       "      <td>1.000000</td>\n",
       "      <td>0.687643</td>\n",
       "      <td>0.742084</td>\n",
       "      <td>0.435248</td>\n",
       "      <td>-0.351062</td>\n",
       "      <td>0.052422</td>\n",
       "      <td>0.122282</td>\n",
       "      <td>0.029422</td>\n",
       "      <td>-0.031402</td>\n",
       "    </tr>\n",
       "    <tr>\n",
       "      <th>price_by_meter</th>\n",
       "      <td>0.687643</td>\n",
       "      <td>1.000000</td>\n",
       "      <td>0.081690</td>\n",
       "      <td>-0.153659</td>\n",
       "      <td>-0.393591</td>\n",
       "      <td>0.029421</td>\n",
       "      <td>0.090011</td>\n",
       "      <td>0.099770</td>\n",
       "      <td>-0.033664</td>\n",
       "    </tr>\n",
       "    <tr>\n",
       "      <th>total_area</th>\n",
       "      <td>0.742084</td>\n",
       "      <td>0.081690</td>\n",
       "      <td>1.000000</td>\n",
       "      <td>0.783331</td>\n",
       "      <td>-0.185136</td>\n",
       "      <td>0.052987</td>\n",
       "      <td>0.101828</td>\n",
       "      <td>-0.027645</td>\n",
       "      <td>-0.020895</td>\n",
       "    </tr>\n",
       "    <tr>\n",
       "      <th>rooms</th>\n",
       "      <td>0.435248</td>\n",
       "      <td>-0.153659</td>\n",
       "      <td>0.783331</td>\n",
       "      <td>1.000000</td>\n",
       "      <td>-0.103947</td>\n",
       "      <td>-0.003068</td>\n",
       "      <td>0.039793</td>\n",
       "      <td>-0.169297</td>\n",
       "      <td>-0.049574</td>\n",
       "    </tr>\n",
       "    <tr>\n",
       "      <th>city_centers_nearest</th>\n",
       "      <td>-0.351062</td>\n",
       "      <td>-0.393591</td>\n",
       "      <td>-0.185136</td>\n",
       "      <td>-0.103947</td>\n",
       "      <td>1.000000</td>\n",
       "      <td>0.062996</td>\n",
       "      <td>-0.107773</td>\n",
       "      <td>0.015609</td>\n",
       "      <td>0.197908</td>\n",
       "    </tr>\n",
       "    <tr>\n",
       "      <th>balcony</th>\n",
       "      <td>0.052422</td>\n",
       "      <td>0.029421</td>\n",
       "      <td>0.052987</td>\n",
       "      <td>-0.003068</td>\n",
       "      <td>0.062996</td>\n",
       "      <td>1.000000</td>\n",
       "      <td>-0.008666</td>\n",
       "      <td>0.182092</td>\n",
       "      <td>0.048109</td>\n",
       "    </tr>\n",
       "    <tr>\n",
       "      <th>ceiling_height</th>\n",
       "      <td>0.122282</td>\n",
       "      <td>0.090011</td>\n",
       "      <td>0.101828</td>\n",
       "      <td>0.039793</td>\n",
       "      <td>-0.107773</td>\n",
       "      <td>-0.008666</td>\n",
       "      <td>1.000000</td>\n",
       "      <td>-0.022919</td>\n",
       "      <td>-0.032095</td>\n",
       "    </tr>\n",
       "    <tr>\n",
       "      <th>floor</th>\n",
       "      <td>0.029422</td>\n",
       "      <td>0.099770</td>\n",
       "      <td>-0.027645</td>\n",
       "      <td>-0.169297</td>\n",
       "      <td>0.015609</td>\n",
       "      <td>0.182092</td>\n",
       "      <td>-0.022919</td>\n",
       "      <td>1.000000</td>\n",
       "      <td>0.089798</td>\n",
       "    </tr>\n",
       "    <tr>\n",
       "      <th>airports_nearest</th>\n",
       "      <td>-0.031402</td>\n",
       "      <td>-0.033664</td>\n",
       "      <td>-0.020895</td>\n",
       "      <td>-0.049574</td>\n",
       "      <td>0.197908</td>\n",
       "      <td>0.048109</td>\n",
       "      <td>-0.032095</td>\n",
       "      <td>0.089798</td>\n",
       "      <td>1.000000</td>\n",
       "    </tr>\n",
       "  </tbody>\n",
       "</table>\n",
       "</div>"
      ],
      "text/plain": [
       "                      last_price  price_by_meter  total_area     rooms  \\\n",
       "last_price              1.000000        0.687643    0.742084  0.435248   \n",
       "price_by_meter          0.687643        1.000000    0.081690 -0.153659   \n",
       "total_area              0.742084        0.081690    1.000000  0.783331   \n",
       "rooms                   0.435248       -0.153659    0.783331  1.000000   \n",
       "city_centers_nearest   -0.351062       -0.393591   -0.185136 -0.103947   \n",
       "balcony                 0.052422        0.029421    0.052987 -0.003068   \n",
       "ceiling_height          0.122282        0.090011    0.101828  0.039793   \n",
       "floor                   0.029422        0.099770   -0.027645 -0.169297   \n",
       "airports_nearest       -0.031402       -0.033664   -0.020895 -0.049574   \n",
       "\n",
       "                      city_centers_nearest   balcony  ceiling_height  \\\n",
       "last_price                       -0.351062  0.052422        0.122282   \n",
       "price_by_meter                   -0.393591  0.029421        0.090011   \n",
       "total_area                       -0.185136  0.052987        0.101828   \n",
       "rooms                            -0.103947 -0.003068        0.039793   \n",
       "city_centers_nearest              1.000000  0.062996       -0.107773   \n",
       "balcony                           0.062996  1.000000       -0.008666   \n",
       "ceiling_height                   -0.107773 -0.008666        1.000000   \n",
       "floor                             0.015609  0.182092       -0.022919   \n",
       "airports_nearest                  0.197908  0.048109       -0.032095   \n",
       "\n",
       "                         floor  airports_nearest  \n",
       "last_price            0.029422         -0.031402  \n",
       "price_by_meter        0.099770         -0.033664  \n",
       "total_area           -0.027645         -0.020895  \n",
       "rooms                -0.169297         -0.049574  \n",
       "city_centers_nearest  0.015609          0.197908  \n",
       "balcony               0.182092          0.048109  \n",
       "ceiling_height       -0.022919         -0.032095  \n",
       "floor                 1.000000          0.089798  \n",
       "airports_nearest      0.089798          1.000000  "
      ]
     },
     "execution_count": 53,
     "metadata": {},
     "output_type": "execute_result"
    }
   ],
   "source": [
    "estate_corr = estate_clean[['last_price', 'price_by_meter', 'total_area', 'rooms', 'city_centers_nearest',\n",
    "                            'balcony', 'ceiling_height', 'floor', 'airports_nearest']].copy()\n",
    "estate_corr.corr()"
   ]
  },
  {
   "cell_type": "markdown",
   "metadata": {},
   "source": [
    "Из полученной таблицы корреляции видно, что самая сильная взаимосвязь наблюдается между количеством комнат и общей площадью, коэффициент корреляции составляет 0.78. Действительно, хотя бывают квартиры с одной, но большой комнатой, или при той же площади с тремя маленькими, в среднем чем больше комнат в квартире, тем больше ее площадь.\n",
    "\n",
    "Что касается цены, можем наблюдать следущее: сильнее всего цена зависит от общей площади (что логично, поскольку стоимость квартиры рассчитывается в базе исходя из цены за квадратный метр). Коэффициент корреляции составляет 0.72, что является довольно большим показателем.\n",
    "\n",
    "С количеством комнат цена также имеет положительную корреляцию, однако корреляцию весьма слабую, коэффициент - всего 0.41. И, скорее всего, в данном случае наблюдаем косвенную зависимость цены от площади через взаимосвязь площади и количества комнат.\n",
    "\n",
    "Влияние таких характеристик как количество балконов, этаж, высота потолков и близость аэропорта настолько ничтожно малы, что их можно исключить из расчета.\n",
    "\n",
    "Расстояние до центра города находится в отрицательной корреляции со стоимостью квартиры. Т.е. чем дальше от центра, тем стоимость ниже. И коэффициент корреляции в данном случае самый низкий, по модулю всего 0.34. Однако тут мы считаем по всем предложениям, посмотрим на коэффицент корреляции конкретно для города, без области:"
   ]
  },
  {
   "cell_type": "code",
   "execution_count": 54,
   "metadata": {},
   "outputs": [
    {
     "data": {
      "text/plain": [
       "-0.38946391878869013"
      ]
     },
     "execution_count": 54,
     "metadata": {},
     "output_type": "execute_result"
    }
   ],
   "source": [
    "estate_clean.query('locality_name == \"Санкт-Петербург\"')['last_price'].corr(\n",
    "    estate['city_centers_nearest'])"
   ]
  },
  {
   "cell_type": "markdown",
   "metadata": {},
   "source": [
    "Для Санкт-Петербурга коэффициент корреляции увеличился с -0.34 до -0.39."
   ]
  },
  {
   "cell_type": "markdown",
   "metadata": {},
   "source": [
    "<div class=\"alert alert-block alert-info\">\n",
    "Выведем на экран тепловую карту корреляции датасета estate_corr с помощью метода heatmap библиотеки seaborn.\n",
    "Самые светлые и самые темные зоны показывают максимальную положительную и отрицательнуу соответственно корреляцию. Минимальные показатели корреляции соответствуют ячейкам цвета градиентной шкалы, близкой к нулевому значению.\n",
    "</div>"
   ]
  },
  {
   "cell_type": "code",
   "execution_count": 55,
   "metadata": {},
   "outputs": [
    {
     "data": {
      "text/plain": [
       "<matplotlib.axes._subplots.AxesSubplot at 0x20735c059d0>"
      ]
     },
     "execution_count": 55,
     "metadata": {},
     "output_type": "execute_result"
    },
    {
     "data": {
      "image/png": "[encoded data removed]",
      "text/plain": [
       "<Figure size 648x648 with 2 Axes>"
      ]
     },
     "metadata": {},
     "output_type": "display_data"
    }
   ],
   "source": [
    "plt.rcParams['figure.figsize']=(9,9)\n",
    "sns.heatmap(estate_corr.corr(), annot=True)"
   ]
  },
  {
   "cell_type": "code",
   "execution_count": 56,
   "metadata": {},
   "outputs": [
    {
     "data": {
      "text/plain": [
       "floor_type\n",
       "другой       6.167067e+06\n",
       "первый       5.211706e+06\n",
       "последний    5.927472e+06\n",
       "Name: last_price, dtype: float64"
      ]
     },
     "execution_count": 56,
     "metadata": {},
     "output_type": "execute_result"
    }
   ],
   "source": [
    "price_floor_mean = estate_clean.groupby('floor_type')['last_price'].mean()\n",
    "price_floor_mean"
   ]
  },
  {
   "cell_type": "code",
   "execution_count": 57,
   "metadata": {},
   "outputs": [
    {
     "data": {
      "text/plain": [
       "<matplotlib.axes._subplots.AxesSubplot at 0x20735c05f70>"
      ]
     },
     "execution_count": 57,
     "metadata": {},
     "output_type": "execute_result"
    },
    {
     "data": {
      "image/png": "[encoded data removed]",
      "text/plain": [
       "<Figure size 720x288 with 1 Axes>"
      ]
     },
     "metadata": {},
     "output_type": "display_data"
    }
   ],
   "source": [
    "plt.rcParams['figure.figsize']=(10,4)\n",
    "price_floor_mean.plot(kind='bar', grid=True)"
   ]
  },
  {
   "cell_type": "markdown",
   "metadata": {},
   "source": [
    "Как видно из графика, самые дешевые квартиры располагаются на 1 этаже, и средняя стоимость таких квартир составляет около 5.1 млн., самые дорогие - \"другие\" этажи между первым и последним со средней стоимостью в 6.2 млн. Квартиры на последних этажах по цене расположились посередине, и соответствуют среднему значению 6.0 млн. Т.е. можно сформулировать два правила относительно этажности при определении стоимости: 1). любой этаж лучше (а значит, дороже), чем первый; и 2). люди предпочитают выбирать не крайние этажи (между первым и последним)."
   ]
  },
  {
   "cell_type": "markdown",
   "metadata": {},
   "source": [
    "Изучим влияние дня недели, месяца и года размещения на стоимость квартиры:"
   ]
  },
  {
   "cell_type": "code",
   "execution_count": 58,
   "metadata": {},
   "outputs": [
    {
     "data": {
      "text/html": [
       "<div>\n",
       "<style scoped>\n",
       "    .dataframe tbody tr th:only-of-type {\n",
       "        vertical-align: middle;\n",
       "    }\n",
       "\n",
       "    .dataframe tbody tr th {\n",
       "        vertical-align: top;\n",
       "    }\n",
       "\n",
       "    .dataframe thead th {\n",
       "        text-align: right;\n",
       "    }\n",
       "</style>\n",
       "<table border=\"1\" class=\"dataframe\">\n",
       "  <thead>\n",
       "    <tr style=\"text-align: right;\">\n",
       "      <th></th>\n",
       "      <th>last_price</th>\n",
       "      <th>day_of_week</th>\n",
       "      <th>month</th>\n",
       "      <th>year</th>\n",
       "    </tr>\n",
       "  </thead>\n",
       "  <tbody>\n",
       "    <tr>\n",
       "      <th>0</th>\n",
       "      <td>13000000</td>\n",
       "      <td>3</td>\n",
       "      <td>3</td>\n",
       "      <td>2019</td>\n",
       "    </tr>\n",
       "    <tr>\n",
       "      <th>1</th>\n",
       "      <td>3350000</td>\n",
       "      <td>1</td>\n",
       "      <td>12</td>\n",
       "      <td>2018</td>\n",
       "    </tr>\n",
       "    <tr>\n",
       "      <th>2</th>\n",
       "      <td>5196000</td>\n",
       "      <td>3</td>\n",
       "      <td>8</td>\n",
       "      <td>2015</td>\n",
       "    </tr>\n",
       "    <tr>\n",
       "      <th>4</th>\n",
       "      <td>10000000</td>\n",
       "      <td>1</td>\n",
       "      <td>6</td>\n",
       "      <td>2018</td>\n",
       "    </tr>\n",
       "    <tr>\n",
       "      <th>6</th>\n",
       "      <td>3700000</td>\n",
       "      <td>3</td>\n",
       "      <td>11</td>\n",
       "      <td>2017</td>\n",
       "    </tr>\n",
       "  </tbody>\n",
       "</table>\n",
       "</div>"
      ],
      "text/plain": [
       "   last_price  day_of_week  month  year\n",
       "0    13000000            3      3  2019\n",
       "1     3350000            1     12  2018\n",
       "2     5196000            3      8  2015\n",
       "4    10000000            1      6  2018\n",
       "6     3700000            3     11  2017"
      ]
     },
     "execution_count": 58,
     "metadata": {},
     "output_type": "execute_result"
    }
   ],
   "source": [
    "estate_date = estate_clean[['last_price', 'day_of_week', 'month', 'year']].copy()\n",
    "estate_date.head()"
   ]
  },
  {
   "cell_type": "code",
   "execution_count": 59,
   "metadata": {},
   "outputs": [
    {
     "data": {
      "image/png": "[encoded data removed]",
      "text/plain": [
       "<Figure size 720x288 with 1 Axes>"
      ]
     },
     "metadata": {},
     "output_type": "display_data"
    }
   ],
   "source": [
    "price_weekday = estate_date.groupby('day_of_week')['last_price'].mean().plot(kind='bar', \n",
    "                                                                             color='green', \n",
    "                                                                             grid=True)"
   ]
  },
  {
   "cell_type": "markdown",
   "metadata": {},
   "source": [
    "Как мы видим, стоимость продажи абсолютно не зависит от дня недели, в который было размещено объявление. Заставило бы задуматься, если бы мы получили иные результаты."
   ]
  },
  {
   "cell_type": "code",
   "execution_count": 60,
   "metadata": {},
   "outputs": [
    {
     "data": {
      "image/png": "[encoded data removed]",
      "text/plain": [
       "<Figure size 720x288 with 1 Axes>"
      ]
     },
     "metadata": {},
     "output_type": "display_data"
    }
   ],
   "source": [
    "price_month = estate_date.groupby('month')['last_price'].mean().plot(kind='bar', \n",
    "                                                                     color='green',\n",
    "                                                                     grid=True)"
   ]
  },
  {
   "cell_type": "markdown",
   "metadata": {},
   "source": [
    "Схожая ситуация и с месяцем размещения объявления, средняя цена по месяцам варьируется в пределах от 5.8 млн. в мае до 6.5 млн. в январе, сентябре и декабре. Можно сделать вывод, что сезонность в некоторой степени все же влияет на стоимость квартир."
   ]
  },
  {
   "cell_type": "code",
   "execution_count": 61,
   "metadata": {},
   "outputs": [
    {
     "data": {
      "image/png": "[encoded data removed]",
      "text/plain": [
       "<Figure size 720x288 with 1 Axes>"
      ]
     },
     "metadata": {},
     "output_type": "display_data"
    }
   ],
   "source": [
    "price_year = estate_date.groupby('year')['last_price'].mean().plot(kind='bar',\n",
    "                                                                    color='green',\n",
    "                                                                    grid=True)"
   ]
  },
  {
   "cell_type": "markdown",
   "metadata": {},
   "source": [
    "По годам уже более отчетливо видна разница и динамика в изменении стоимости квартир. Самая высокая средняя цена наблюдалась в 2014 году, что можно связать с валютным кризисом в России 2014 - 2015 годов. В дальнейшем цена снизилась и установилась в районе показателя в 6 млн., а колебания от года к году объясняются общеэкономическими и внутренне-политическими показателями."
   ]
  },
  {
   "cell_type": "markdown",
   "metadata": {},
   "source": [
    "Как общий вывод анализа влияния времени размещения объявления на величину стоимости продажи можно заключить, что степень изменения цены находится в прямой зависимости с увеличением периода рассчета. Дни недели никак не влияют на цену, при рассмотрении по месяцам включаются сезонные особенности, и при рассмотрении временного интервала, равного одному году, наблюдаем уже влияние на цену макроэкономических глобальных факторов, связанных с экономикой страны в целом."
   ]
  },
  {
   "cell_type": "markdown",
   "metadata": {},
   "source": [
    "### <a id=\"top10\">4.4. 10 населенных пунктов с наибольшим количеством объявлений</a>"
   ]
  },
  {
   "cell_type": "code",
   "execution_count": 62,
   "metadata": {},
   "outputs": [
    {
     "data": {
      "text/html": [
       "<div>\n",
       "<style scoped>\n",
       "    .dataframe tbody tr th:only-of-type {\n",
       "        vertical-align: middle;\n",
       "    }\n",
       "\n",
       "    .dataframe tbody tr th {\n",
       "        vertical-align: top;\n",
       "    }\n",
       "\n",
       "    .dataframe thead th {\n",
       "        text-align: right;\n",
       "    }\n",
       "</style>\n",
       "<table border=\"1\" class=\"dataframe\">\n",
       "  <thead>\n",
       "    <tr style=\"text-align: right;\">\n",
       "      <th></th>\n",
       "      <th>price_by_meter</th>\n",
       "    </tr>\n",
       "    <tr>\n",
       "      <th>locality_name</th>\n",
       "      <th></th>\n",
       "    </tr>\n",
       "  </thead>\n",
       "  <tbody>\n",
       "    <tr>\n",
       "      <th>Санкт-Петербург</th>\n",
       "      <td>14404</td>\n",
       "    </tr>\n",
       "    <tr>\n",
       "      <th>поселок Шушары</th>\n",
       "      <td>431</td>\n",
       "    </tr>\n",
       "    <tr>\n",
       "      <th>Пушкин</th>\n",
       "      <td>348</td>\n",
       "    </tr>\n",
       "    <tr>\n",
       "      <th>Колпино</th>\n",
       "      <td>335</td>\n",
       "    </tr>\n",
       "    <tr>\n",
       "      <th>поселок Парголово</th>\n",
       "      <td>324</td>\n",
       "    </tr>\n",
       "    <tr>\n",
       "      <th>Петергоф</th>\n",
       "      <td>197</td>\n",
       "    </tr>\n",
       "    <tr>\n",
       "      <th>Красное Село</th>\n",
       "      <td>170</td>\n",
       "    </tr>\n",
       "    <tr>\n",
       "      <th>Сестрорецк</th>\n",
       "      <td>170</td>\n",
       "    </tr>\n",
       "    <tr>\n",
       "      <th>Ломоносов</th>\n",
       "      <td>125</td>\n",
       "    </tr>\n",
       "    <tr>\n",
       "      <th>поселок Металлострой</th>\n",
       "      <td>65</td>\n",
       "    </tr>\n",
       "  </tbody>\n",
       "</table>\n",
       "</div>"
      ],
      "text/plain": [
       "                      price_by_meter\n",
       "locality_name                       \n",
       "Санкт-Петербург                14404\n",
       "поселок Шушары                   431\n",
       "Пушкин                           348\n",
       "Колпино                          335\n",
       "поселок Парголово                324\n",
       "Петергоф                         197\n",
       "Красное Село                     170\n",
       "Сестрорецк                       170\n",
       "Ломоносов                        125\n",
       "поселок Металлострой              65"
      ]
     },
     "execution_count": 62,
     "metadata": {},
     "output_type": "execute_result"
    }
   ],
   "source": [
    "top10 = (estate_clean.pivot_table(index='locality_name', values='price_by_meter',\n",
    "                            aggfunc='count').sort_values(by='price_by_meter',\n",
    "                                                         ascending=False)\n",
    "         .iloc[:10])\n",
    "top10"
   ]
  },
  {
   "cell_type": "code",
   "execution_count": 63,
   "metadata": {},
   "outputs": [
    {
     "data": {
      "text/html": [
       "<div>\n",
       "<style scoped>\n",
       "    .dataframe tbody tr th:only-of-type {\n",
       "        vertical-align: middle;\n",
       "    }\n",
       "\n",
       "    .dataframe tbody tr th {\n",
       "        vertical-align: top;\n",
       "    }\n",
       "\n",
       "    .dataframe thead th {\n",
       "        text-align: right;\n",
       "    }\n",
       "</style>\n",
       "<table border=\"1\" class=\"dataframe\">\n",
       "  <thead>\n",
       "    <tr style=\"text-align: right;\">\n",
       "      <th></th>\n",
       "      <th>locality_name</th>\n",
       "      <th>mean_price_by_meter</th>\n",
       "      <th>max_price_by_meter</th>\n",
       "      <th>min_price_by_meter</th>\n",
       "    </tr>\n",
       "  </thead>\n",
       "  <tbody>\n",
       "    <tr>\n",
       "      <th>0</th>\n",
       "      <td>Колпино</td>\n",
       "      <td>75347.651911</td>\n",
       "      <td>125000.000000</td>\n",
       "      <td>47957.371226</td>\n",
       "    </tr>\n",
       "    <tr>\n",
       "      <th>1</th>\n",
       "      <td>Красное Село</td>\n",
       "      <td>72332.103038</td>\n",
       "      <td>101714.285714</td>\n",
       "      <td>42500.000000</td>\n",
       "    </tr>\n",
       "    <tr>\n",
       "      <th>2</th>\n",
       "      <td>Ломоносов</td>\n",
       "      <td>73585.610659</td>\n",
       "      <td>100000.000000</td>\n",
       "      <td>52485.659656</td>\n",
       "    </tr>\n",
       "    <tr>\n",
       "      <th>3</th>\n",
       "      <td>Петергоф</td>\n",
       "      <td>84366.781722</td>\n",
       "      <td>225971.731449</td>\n",
       "      <td>51612.903226</td>\n",
       "    </tr>\n",
       "    <tr>\n",
       "      <th>4</th>\n",
       "      <td>Пушкин</td>\n",
       "      <td>102404.516759</td>\n",
       "      <td>256521.739130</td>\n",
       "      <td>59836.065574</td>\n",
       "    </tr>\n",
       "    <tr>\n",
       "      <th>5</th>\n",
       "      <td>Санкт-Петербург</td>\n",
       "      <td>110232.487653</td>\n",
       "      <td>848484.848485</td>\n",
       "      <td>26250.000000</td>\n",
       "    </tr>\n",
       "    <tr>\n",
       "      <th>6</th>\n",
       "      <td>Сестрорецк</td>\n",
       "      <td>102910.866763</td>\n",
       "      <td>182688.172043</td>\n",
       "      <td>50434.782609</td>\n",
       "    </tr>\n",
       "    <tr>\n",
       "      <th>7</th>\n",
       "      <td>поселок Металлострой</td>\n",
       "      <td>73853.150429</td>\n",
       "      <td>94311.377246</td>\n",
       "      <td>45977.011494</td>\n",
       "    </tr>\n",
       "    <tr>\n",
       "      <th>8</th>\n",
       "      <td>поселок Парголово</td>\n",
       "      <td>90540.966561</td>\n",
       "      <td>138522.427441</td>\n",
       "      <td>48405.466970</td>\n",
       "    </tr>\n",
       "    <tr>\n",
       "      <th>9</th>\n",
       "      <td>поселок Шушары</td>\n",
       "      <td>78548.667647</td>\n",
       "      <td>147826.086957</td>\n",
       "      <td>47700.416089</td>\n",
       "    </tr>\n",
       "  </tbody>\n",
       "</table>\n",
       "</div>"
      ],
      "text/plain": [
       "          locality_name  mean_price_by_meter  max_price_by_meter  \\\n",
       "0               Колпино         75347.651911       125000.000000   \n",
       "1          Красное Село         72332.103038       101714.285714   \n",
       "2             Ломоносов         73585.610659       100000.000000   \n",
       "3              Петергоф         84366.781722       225971.731449   \n",
       "4                Пушкин        102404.516759       256521.739130   \n",
       "5       Санкт-Петербург        110232.487653       848484.848485   \n",
       "6            Сестрорецк        102910.866763       182688.172043   \n",
       "7  поселок Металлострой         73853.150429        94311.377246   \n",
       "8     поселок Парголово         90540.966561       138522.427441   \n",
       "9        поселок Шушары         78548.667647       147826.086957   \n",
       "\n",
       "   min_price_by_meter  \n",
       "0        47957.371226  \n",
       "1        42500.000000  \n",
       "2        52485.659656  \n",
       "3        51612.903226  \n",
       "4        59836.065574  \n",
       "5        26250.000000  \n",
       "6        50434.782609  \n",
       "7        45977.011494  \n",
       "8        48405.466970  \n",
       "9        47700.416089  "
      ]
     },
     "execution_count": 63,
     "metadata": {},
     "output_type": "execute_result"
    }
   ],
   "source": [
    "top10_price = estate_clean.query('locality_name in @top10.index').pivot_table(\n",
    "    index='locality_name', values='price_by_meter', aggfunc=['mean', 'max', 'min']).reset_index()\n",
    "top10_price.columns = ['locality_name', 'mean_price_by_meter', 'max_price_by_meter', 'min_price_by_meter']\n",
    "top10_price"
   ]
  },
  {
   "cell_type": "markdown",
   "metadata": {},
   "source": [
    "Выясним максимальное значение цены за квадратный метр для объявлений из топ-10 локаций по количеству объявлений:"
   ]
  },
  {
   "cell_type": "code",
   "execution_count": 64,
   "metadata": {},
   "outputs": [
    {
     "data": {
      "text/plain": [
       "848484"
      ]
     },
     "execution_count": 64,
     "metadata": {},
     "output_type": "execute_result"
    }
   ],
   "source": [
    "int(top10_price['max_price_by_meter'].max())"
   ]
  },
  {
   "cell_type": "markdown",
   "metadata": {},
   "source": [
    "Аналогичным образом выясним минимальное значение:"
   ]
  },
  {
   "cell_type": "code",
   "execution_count": 65,
   "metadata": {},
   "outputs": [
    {
     "data": {
      "text/plain": [
       "26250"
      ]
     },
     "execution_count": 65,
     "metadata": {},
     "output_type": "execute_result"
    }
   ],
   "source": [
    "int(top10_price['min_price_by_meter'].min())"
   ]
  },
  {
   "cell_type": "markdown",
   "metadata": {},
   "source": [
    "И среднее значение по всему топу:"
   ]
  },
  {
   "cell_type": "code",
   "execution_count": 66,
   "metadata": {},
   "outputs": [
    {
     "data": {
      "text/plain": [
       "86412"
      ]
     },
     "execution_count": 66,
     "metadata": {},
     "output_type": "execute_result"
    }
   ],
   "source": [
    "int(top10_price['mean_price_by_meter'].mean())"
   ]
  },
  {
   "cell_type": "markdown",
   "metadata": {},
   "source": [
    "В нашем списке из 10 населенных пунктов с наибольшим количеством объявлений средняя цена за квадратный метр составляет 87155 рублей. Самый большой показатель приходится на населенный пункт Санкт-Петербург и составляет почти 850 тысяч (показатель, вполне реальный для самого дорогого элитного жилья), минимальный, что интересно, также в Санкт-Петербурге: чуть больше 37 тысяч рублей.\n",
    "Если предположить, что \"крайние\" результаты нивелируют друг друга, средний показатель в 87 тысяч рублей выглядит весьма похожим на правду.\n",
    "В качестве дополнительного вывода можно заключить, что в городе самая высокая дифференциация цен (и минимальный, и максимальный показатель пришлись на Санкт-Петербург)."
   ]
  },
  {
   "cell_type": "markdown",
   "metadata": {},
   "source": [
    "<div class=\"alert alert-block alert-info\">Построим график зависимости средней цены за квадратный метр от расположения:</div>"
   ]
  },
  {
   "cell_type": "code",
   "execution_count": 67,
   "metadata": {},
   "outputs": [
    {
     "data": {
      "image/png": "[encoded data removed]",
      "text/plain": [
       "<Figure size 1440x360 with 1 Axes>"
      ]
     },
     "metadata": {},
     "output_type": "display_data"
    }
   ],
   "source": [
    "plt.rcParams['figure.figsize']=(20,5)\n",
    "sns.barplot(x='locality_name', y='mean_price_by_meter', \n",
    "            data=top10_price.sort_values(by='mean_price_by_meter', ascending=False))\n",
    "plt.show()"
   ]
  },
  {
   "cell_type": "markdown",
   "metadata": {},
   "source": [
    "### <a id=\"center\">4.5. Определение границ понятия \"центр города\"</a>"
   ]
  },
  {
   "cell_type": "code",
   "execution_count": 68,
   "metadata": {},
   "outputs": [],
   "source": [
    "estate_city = estate_clean.query('locality_name == \"Санкт-Петербург\"')"
   ]
  },
  {
   "cell_type": "code",
   "execution_count": 69,
   "metadata": {},
   "outputs": [],
   "source": [
    "with warnings.catch_warnings():\n",
    "    warnings.simplefilter(\"ignore\")\n",
    "    estate_city['city_centers_nearest_round'] = estate_city['city_centers_nearest'].div(1000).astype(int)\n",
    "    estate_city_km = estate_city.pivot_table(index = 'city_centers_nearest_round', \n",
    "                                         values = 'price_by_meter', \n",
    "                                         aggfunc=['mean', 'median'])"
   ]
  },
  {
   "cell_type": "code",
   "execution_count": 70,
   "metadata": {},
   "outputs": [
    {
     "data": {
      "text/plain": [
       "<matplotlib.axes._subplots.AxesSubplot at 0x2073545fb80>"
      ]
     },
     "execution_count": 70,
     "metadata": {},
     "output_type": "execute_result"
    },
    {
     "data": {
      "image/png": "[encoded data removed]",
      "text/plain": [
       "<Figure size 1080x360 with 1 Axes>"
      ]
     },
     "metadata": {},
     "output_type": "display_data"
    }
   ],
   "source": [
    "plt.rcParams['figure.figsize']=(15,5)\n",
    "sns.lineplot(data=estate_city_km)"
   ]
  },
  {
   "cell_type": "code",
   "execution_count": 71,
   "metadata": {},
   "outputs": [
    {
     "data": {
      "text/html": [
       "<div>\n",
       "<style scoped>\n",
       "    .dataframe tbody tr th:only-of-type {\n",
       "        vertical-align: middle;\n",
       "    }\n",
       "\n",
       "    .dataframe tbody tr th {\n",
       "        vertical-align: top;\n",
       "    }\n",
       "\n",
       "    .dataframe thead tr th {\n",
       "        text-align: left;\n",
       "    }\n",
       "\n",
       "    .dataframe thead tr:last-of-type th {\n",
       "        text-align: right;\n",
       "    }\n",
       "</style>\n",
       "<table border=\"1\" class=\"dataframe\">\n",
       "  <thead>\n",
       "    <tr>\n",
       "      <th></th>\n",
       "      <th>mean</th>\n",
       "      <th>median</th>\n",
       "    </tr>\n",
       "    <tr>\n",
       "      <th></th>\n",
       "      <th>price_by_meter</th>\n",
       "      <th>price_by_meter</th>\n",
       "    </tr>\n",
       "    <tr>\n",
       "      <th>city_centers_nearest_round</th>\n",
       "      <th></th>\n",
       "      <th></th>\n",
       "    </tr>\n",
       "  </thead>\n",
       "  <tbody>\n",
       "    <tr>\n",
       "      <th>0</th>\n",
       "      <td>145991.876239</td>\n",
       "      <td>127441.176471</td>\n",
       "    </tr>\n",
       "    <tr>\n",
       "      <th>1</th>\n",
       "      <td>145044.878205</td>\n",
       "      <td>124336.412251</td>\n",
       "    </tr>\n",
       "    <tr>\n",
       "      <th>2</th>\n",
       "      <td>125147.277886</td>\n",
       "      <td>116852.773395</td>\n",
       "    </tr>\n",
       "    <tr>\n",
       "      <th>3</th>\n",
       "      <td>121233.804804</td>\n",
       "      <td>110000.000000</td>\n",
       "    </tr>\n",
       "    <tr>\n",
       "      <th>4</th>\n",
       "      <td>134929.209178</td>\n",
       "      <td>126009.693053</td>\n",
       "    </tr>\n",
       "    <tr>\n",
       "      <th>5</th>\n",
       "      <td>133791.451885</td>\n",
       "      <td>123333.333333</td>\n",
       "    </tr>\n",
       "    <tr>\n",
       "      <th>6</th>\n",
       "      <td>133124.878046</td>\n",
       "      <td>124137.931034</td>\n",
       "    </tr>\n",
       "    <tr>\n",
       "      <th>7</th>\n",
       "      <td>129471.560291</td>\n",
       "      <td>122516.556291</td>\n",
       "    </tr>\n",
       "    <tr>\n",
       "      <th>8</th>\n",
       "      <td>117264.787770</td>\n",
       "      <td>111317.254174</td>\n",
       "    </tr>\n",
       "    <tr>\n",
       "      <th>9</th>\n",
       "      <td>108727.962892</td>\n",
       "      <td>104850.566724</td>\n",
       "    </tr>\n",
       "    <tr>\n",
       "      <th>10</th>\n",
       "      <td>110487.424813</td>\n",
       "      <td>104939.024390</td>\n",
       "    </tr>\n",
       "    <tr>\n",
       "      <th>11</th>\n",
       "      <td>106103.069551</td>\n",
       "      <td>103080.568720</td>\n",
       "    </tr>\n",
       "    <tr>\n",
       "      <th>12</th>\n",
       "      <td>108139.378419</td>\n",
       "      <td>103724.604966</td>\n",
       "    </tr>\n",
       "    <tr>\n",
       "      <th>13</th>\n",
       "      <td>106860.446463</td>\n",
       "      <td>103958.333333</td>\n",
       "    </tr>\n",
       "    <tr>\n",
       "      <th>14</th>\n",
       "      <td>104406.443060</td>\n",
       "      <td>102010.416667</td>\n",
       "    </tr>\n",
       "    <tr>\n",
       "      <th>15</th>\n",
       "      <td>101730.989775</td>\n",
       "      <td>98507.130125</td>\n",
       "    </tr>\n",
       "    <tr>\n",
       "      <th>16</th>\n",
       "      <td>99589.730013</td>\n",
       "      <td>97478.813559</td>\n",
       "    </tr>\n",
       "    <tr>\n",
       "      <th>17</th>\n",
       "      <td>94780.115823</td>\n",
       "      <td>92075.948466</td>\n",
       "    </tr>\n",
       "    <tr>\n",
       "      <th>18</th>\n",
       "      <td>95171.243695</td>\n",
       "      <td>93235.831810</td>\n",
       "    </tr>\n",
       "    <tr>\n",
       "      <th>19</th>\n",
       "      <td>95434.377295</td>\n",
       "      <td>93736.699116</td>\n",
       "    </tr>\n",
       "    <tr>\n",
       "      <th>20</th>\n",
       "      <td>103862.814402</td>\n",
       "      <td>103000.000000</td>\n",
       "    </tr>\n",
       "    <tr>\n",
       "      <th>21</th>\n",
       "      <td>91664.186267</td>\n",
       "      <td>88828.555852</td>\n",
       "    </tr>\n",
       "    <tr>\n",
       "      <th>22</th>\n",
       "      <td>88379.468742</td>\n",
       "      <td>84883.720930</td>\n",
       "    </tr>\n",
       "    <tr>\n",
       "      <th>23</th>\n",
       "      <td>92720.641577</td>\n",
       "      <td>90590.807070</td>\n",
       "    </tr>\n",
       "    <tr>\n",
       "      <th>24</th>\n",
       "      <td>82440.343912</td>\n",
       "      <td>86133.031750</td>\n",
       "    </tr>\n",
       "    <tr>\n",
       "      <th>25</th>\n",
       "      <td>90436.945589</td>\n",
       "      <td>89393.939394</td>\n",
       "    </tr>\n",
       "    <tr>\n",
       "      <th>26</th>\n",
       "      <td>75171.911041</td>\n",
       "      <td>56521.739130</td>\n",
       "    </tr>\n",
       "    <tr>\n",
       "      <th>27</th>\n",
       "      <td>132115.709459</td>\n",
       "      <td>132115.709459</td>\n",
       "    </tr>\n",
       "    <tr>\n",
       "      <th>28</th>\n",
       "      <td>81840.638722</td>\n",
       "      <td>79631.201905</td>\n",
       "    </tr>\n",
       "    <tr>\n",
       "      <th>29</th>\n",
       "      <td>62482.404228</td>\n",
       "      <td>56976.744186</td>\n",
       "    </tr>\n",
       "  </tbody>\n",
       "</table>\n",
       "</div>"
      ],
      "text/plain": [
       "                                     mean         median\n",
       "                           price_by_meter price_by_meter\n",
       "city_centers_nearest_round                              \n",
       "0                           145991.876239  127441.176471\n",
       "1                           145044.878205  124336.412251\n",
       "2                           125147.277886  116852.773395\n",
       "3                           121233.804804  110000.000000\n",
       "4                           134929.209178  126009.693053\n",
       "5                           133791.451885  123333.333333\n",
       "6                           133124.878046  124137.931034\n",
       "7                           129471.560291  122516.556291\n",
       "8                           117264.787770  111317.254174\n",
       "9                           108727.962892  104850.566724\n",
       "10                          110487.424813  104939.024390\n",
       "11                          106103.069551  103080.568720\n",
       "12                          108139.378419  103724.604966\n",
       "13                          106860.446463  103958.333333\n",
       "14                          104406.443060  102010.416667\n",
       "15                          101730.989775   98507.130125\n",
       "16                           99589.730013   97478.813559\n",
       "17                           94780.115823   92075.948466\n",
       "18                           95171.243695   93235.831810\n",
       "19                           95434.377295   93736.699116\n",
       "20                          103862.814402  103000.000000\n",
       "21                           91664.186267   88828.555852\n",
       "22                           88379.468742   84883.720930\n",
       "23                           92720.641577   90590.807070\n",
       "24                           82440.343912   86133.031750\n",
       "25                           90436.945589   89393.939394\n",
       "26                           75171.911041   56521.739130\n",
       "27                          132115.709459  132115.709459\n",
       "28                           81840.638722   79631.201905\n",
       "29                           62482.404228   56976.744186"
      ]
     },
     "execution_count": 71,
     "metadata": {},
     "output_type": "execute_result"
    }
   ],
   "source": [
    "#выведем на экран таблицу соответствия средней и медианной стоимости квадратного метра\n",
    "#для каждого километа удаления от центра\n",
    "estate_city_km"
   ]
  },
  {
   "cell_type": "markdown",
   "metadata": {},
   "source": [
    "По графику зависимости среднего значения и медианы стоимости квадратного метра от расстояния до центра города видно, что цена держится приблизительно на одном уровне до расстояния около 7 км. от центра города, после чего начинает снижаться. Можем наблюдать \"проседание\" цены от 1 до 4 километров (более выраженное для среднего значения, чем для медианы), небольшие пики на 10 и 20 км., а потом резкий скачок вверх на 27.5 километрах (это может быть либо искажение в данных, либо территория с новой дорогой недвижимостью (элитные частные дома).\n",
    "\n",
    "В центре города по медиане цена за квадратный метр держится около отметки в 120 тыс. руб., за границей центра в течение 2 км. снижается до 105 тыс., и затем продолжает плавное снижение до 100 тыс. на 15 км. и 90 тыс. на 25 км.\n",
    "\n",
    "Собственно центром города можно считать площадь с радиусом в 7 километров."
   ]
  },
  {
   "cell_type": "markdown",
   "metadata": {},
   "source": [
    "### <a id=\"center_analis\">4.6. Анализ сегмента квартир в центре города</a>"
   ]
  },
  {
   "cell_type": "code",
   "execution_count": 72,
   "metadata": {},
   "outputs": [],
   "source": [
    "#получим срез с данными по объявлениям из центра города\n",
    "estate_city_center = estate_clean.query(\n",
    "    'city_centers_nearest <= 7000 and locality_name == \"Санкт-Петербург\"')"
   ]
  },
  {
   "cell_type": "code",
   "execution_count": 73,
   "metadata": {},
   "outputs": [
    {
     "data": {
      "text/html": [
       "<div>\n",
       "<style scoped>\n",
       "    .dataframe tbody tr th:only-of-type {\n",
       "        vertical-align: middle;\n",
       "    }\n",
       "\n",
       "    .dataframe tbody tr th {\n",
       "        vertical-align: top;\n",
       "    }\n",
       "\n",
       "    .dataframe thead th {\n",
       "        text-align: right;\n",
       "    }\n",
       "</style>\n",
       "<table border=\"1\" class=\"dataframe\">\n",
       "  <thead>\n",
       "    <tr style=\"text-align: right;\">\n",
       "      <th></th>\n",
       "      <th>total_images</th>\n",
       "      <th>last_price</th>\n",
       "      <th>total_area</th>\n",
       "      <th>rooms</th>\n",
       "      <th>ceiling_height</th>\n",
       "      <th>floors_total</th>\n",
       "      <th>living_area</th>\n",
       "      <th>floor</th>\n",
       "      <th>kitchen_area</th>\n",
       "      <th>balcony</th>\n",
       "      <th>airports_nearest</th>\n",
       "      <th>city_centers_nearest</th>\n",
       "      <th>parks_around3000</th>\n",
       "      <th>parks_nearest</th>\n",
       "      <th>ponds_around3000</th>\n",
       "      <th>ponds_nearest</th>\n",
       "      <th>days_exposition</th>\n",
       "      <th>kitchen_area_index</th>\n",
       "      <th>living_area_index</th>\n",
       "      <th>price_by_meter</th>\n",
       "      <th>day_of_week</th>\n",
       "      <th>month</th>\n",
       "      <th>year</th>\n",
       "    </tr>\n",
       "  </thead>\n",
       "  <tbody>\n",
       "    <tr>\n",
       "      <th>count</th>\n",
       "      <td>2529.000000</td>\n",
       "      <td>2.529000e+03</td>\n",
       "      <td>2529.000000</td>\n",
       "      <td>2529.000000</td>\n",
       "      <td>2529.000000</td>\n",
       "      <td>2529.000000</td>\n",
       "      <td>2529.000000</td>\n",
       "      <td>2529.000000</td>\n",
       "      <td>2529.000000</td>\n",
       "      <td>2529.000000</td>\n",
       "      <td>2529.000000</td>\n",
       "      <td>2529.000000</td>\n",
       "      <td>2529.000000</td>\n",
       "      <td>1651.000000</td>\n",
       "      <td>2529.000000</td>\n",
       "      <td>1842.000000</td>\n",
       "      <td>2166.000000</td>\n",
       "      <td>2529.000000</td>\n",
       "      <td>2529.000000</td>\n",
       "      <td>2529.000000</td>\n",
       "      <td>2529.000000</td>\n",
       "      <td>2529.000000</td>\n",
       "      <td>2529.000000</td>\n",
       "    </tr>\n",
       "    <tr>\n",
       "      <th>mean</th>\n",
       "      <td>9.892448</td>\n",
       "      <td>9.166801e+06</td>\n",
       "      <td>70.000720</td>\n",
       "      <td>2.376829</td>\n",
       "      <td>2.948260</td>\n",
       "      <td>6.856860</td>\n",
       "      <td>40.791211</td>\n",
       "      <td>3.924476</td>\n",
       "      <td>12.263061</td>\n",
       "      <td>0.293792</td>\n",
       "      <td>24465.249901</td>\n",
       "      <td>4405.289838</td>\n",
       "      <td>0.999605</td>\n",
       "      <td>483.748031</td>\n",
       "      <td>1.293397</td>\n",
       "      <td>475.817047</td>\n",
       "      <td>233.653740</td>\n",
       "      <td>0.182877</td>\n",
       "      <td>0.575376</td>\n",
       "      <td>132271.665425</td>\n",
       "      <td>2.499407</td>\n",
       "      <td>6.465006</td>\n",
       "      <td>2017.217082</td>\n",
       "    </tr>\n",
       "    <tr>\n",
       "      <th>std</th>\n",
       "      <td>5.691181</td>\n",
       "      <td>4.729055e+06</td>\n",
       "      <td>22.568966</td>\n",
       "      <td>0.972299</td>\n",
       "      <td>0.817973</td>\n",
       "      <td>3.637456</td>\n",
       "      <td>16.452260</td>\n",
       "      <td>2.643401</td>\n",
       "      <td>5.915801</td>\n",
       "      <td>0.721152</td>\n",
       "      <td>3902.547260</td>\n",
       "      <td>1521.731681</td>\n",
       "      <td>0.924568</td>\n",
       "      <td>330.059421</td>\n",
       "      <td>1.085779</td>\n",
       "      <td>270.270858</td>\n",
       "      <td>265.568886</td>\n",
       "      <td>0.078726</td>\n",
       "      <td>0.109786</td>\n",
       "      <td>51374.706723</td>\n",
       "      <td>1.718552</td>\n",
       "      <td>3.428817</td>\n",
       "      <td>1.091506</td>\n",
       "    </tr>\n",
       "    <tr>\n",
       "      <th>min</th>\n",
       "      <td>0.000000</td>\n",
       "      <td>1.900000e+06</td>\n",
       "      <td>12.000000</td>\n",
       "      <td>0.000000</td>\n",
       "      <td>2.400000</td>\n",
       "      <td>2.000000</td>\n",
       "      <td>2.000000</td>\n",
       "      <td>1.000000</td>\n",
       "      <td>2.000000</td>\n",
       "      <td>0.000000</td>\n",
       "      <td>15359.000000</td>\n",
       "      <td>208.000000</td>\n",
       "      <td>0.000000</td>\n",
       "      <td>9.000000</td>\n",
       "      <td>0.000000</td>\n",
       "      <td>22.000000</td>\n",
       "      <td>3.000000</td>\n",
       "      <td>0.054348</td>\n",
       "      <td>0.038462</td>\n",
       "      <td>26250.000000</td>\n",
       "      <td>0.000000</td>\n",
       "      <td>1.000000</td>\n",
       "      <td>2014.000000</td>\n",
       "    </tr>\n",
       "    <tr>\n",
       "      <th>25%</th>\n",
       "      <td>6.000000</td>\n",
       "      <td>6.215000e+06</td>\n",
       "      <td>51.300000</td>\n",
       "      <td>2.000000</td>\n",
       "      <td>2.700000</td>\n",
       "      <td>5.000000</td>\n",
       "      <td>28.500000</td>\n",
       "      <td>2.000000</td>\n",
       "      <td>8.500000</td>\n",
       "      <td>0.000000</td>\n",
       "      <td>21679.000000</td>\n",
       "      <td>3478.000000</td>\n",
       "      <td>0.000000</td>\n",
       "      <td>287.500000</td>\n",
       "      <td>0.000000</td>\n",
       "      <td>243.000000</td>\n",
       "      <td>59.000000</td>\n",
       "      <td>0.130435</td>\n",
       "      <td>0.516800</td>\n",
       "      <td>100000.000000</td>\n",
       "      <td>1.000000</td>\n",
       "      <td>3.000000</td>\n",
       "      <td>2017.000000</td>\n",
       "    </tr>\n",
       "    <tr>\n",
       "      <th>50%</th>\n",
       "      <td>9.000000</td>\n",
       "      <td>8.000000e+06</td>\n",
       "      <td>69.500000</td>\n",
       "      <td>2.000000</td>\n",
       "      <td>2.800000</td>\n",
       "      <td>5.000000</td>\n",
       "      <td>39.500000</td>\n",
       "      <td>3.000000</td>\n",
       "      <td>11.000000</td>\n",
       "      <td>0.000000</td>\n",
       "      <td>24079.000000</td>\n",
       "      <td>4647.000000</td>\n",
       "      <td>1.000000</td>\n",
       "      <td>441.000000</td>\n",
       "      <td>1.000000</td>\n",
       "      <td>466.500000</td>\n",
       "      <td>126.000000</td>\n",
       "      <td>0.171053</td>\n",
       "      <td>0.578125</td>\n",
       "      <td>121428.571429</td>\n",
       "      <td>2.000000</td>\n",
       "      <td>6.000000</td>\n",
       "      <td>2017.000000</td>\n",
       "    </tr>\n",
       "    <tr>\n",
       "      <th>75%</th>\n",
       "      <td>14.000000</td>\n",
       "      <td>1.065000e+07</td>\n",
       "      <td>87.000000</td>\n",
       "      <td>3.000000</td>\n",
       "      <td>3.100000</td>\n",
       "      <td>8.000000</td>\n",
       "      <td>52.600000</td>\n",
       "      <td>5.000000</td>\n",
       "      <td>14.600000</td>\n",
       "      <td>0.000000</td>\n",
       "      <td>26737.000000</td>\n",
       "      <td>5515.000000</td>\n",
       "      <td>2.000000</td>\n",
       "      <td>608.500000</td>\n",
       "      <td>2.000000</td>\n",
       "      <td>674.750000</td>\n",
       "      <td>318.750000</td>\n",
       "      <td>0.209677</td>\n",
       "      <td>0.650092</td>\n",
       "      <td>149206.349206</td>\n",
       "      <td>4.000000</td>\n",
       "      <td>10.000000</td>\n",
       "      <td>2018.000000</td>\n",
       "    </tr>\n",
       "    <tr>\n",
       "      <th>max</th>\n",
       "      <td>35.000000</td>\n",
       "      <td>3.600000e+07</td>\n",
       "      <td>115.000000</td>\n",
       "      <td>6.000000</td>\n",
       "      <td>32.000000</td>\n",
       "      <td>25.000000</td>\n",
       "      <td>101.000000</td>\n",
       "      <td>23.000000</td>\n",
       "      <td>53.000000</td>\n",
       "      <td>5.000000</td>\n",
       "      <td>34033.000000</td>\n",
       "      <td>6998.000000</td>\n",
       "      <td>3.000000</td>\n",
       "      <td>2295.000000</td>\n",
       "      <td>3.000000</td>\n",
       "      <td>1199.000000</td>\n",
       "      <td>1572.000000</td>\n",
       "      <td>0.625000</td>\n",
       "      <td>0.983447</td>\n",
       "      <td>848484.848485</td>\n",
       "      <td>6.000000</td>\n",
       "      <td>12.000000</td>\n",
       "      <td>2019.000000</td>\n",
       "    </tr>\n",
       "  </tbody>\n",
       "</table>\n",
       "</div>"
      ],
      "text/plain": [
       "       total_images    last_price   total_area        rooms  ceiling_height  \\\n",
       "count   2529.000000  2.529000e+03  2529.000000  2529.000000     2529.000000   \n",
       "mean       9.892448  9.166801e+06    70.000720     2.376829        2.948260   \n",
       "std        5.691181  4.729055e+06    22.568966     0.972299        0.817973   \n",
       "min        0.000000  1.900000e+06    12.000000     0.000000        2.400000   \n",
       "25%        6.000000  6.215000e+06    51.300000     2.000000        2.700000   \n",
       "50%        9.000000  8.000000e+06    69.500000     2.000000        2.800000   \n",
       "75%       14.000000  1.065000e+07    87.000000     3.000000        3.100000   \n",
       "max       35.000000  3.600000e+07   115.000000     6.000000       32.000000   \n",
       "\n",
       "       floors_total  living_area        floor  kitchen_area      balcony  \\\n",
       "count   2529.000000  2529.000000  2529.000000   2529.000000  2529.000000   \n",
       "mean       6.856860    40.791211     3.924476     12.263061     0.293792   \n",
       "std        3.637456    16.452260     2.643401      5.915801     0.721152   \n",
       "min        2.000000     2.000000     1.000000      2.000000     0.000000   \n",
       "25%        5.000000    28.500000     2.000000      8.500000     0.000000   \n",
       "50%        5.000000    39.500000     3.000000     11.000000     0.000000   \n",
       "75%        8.000000    52.600000     5.000000     14.600000     0.000000   \n",
       "max       25.000000   101.000000    23.000000     53.000000     5.000000   \n",
       "\n",
       "       airports_nearest  city_centers_nearest  parks_around3000  \\\n",
       "count       2529.000000           2529.000000       2529.000000   \n",
       "mean       24465.249901           4405.289838          0.999605   \n",
       "std         3902.547260           1521.731681          0.924568   \n",
       "min        15359.000000            208.000000          0.000000   \n",
       "25%        21679.000000           3478.000000          0.000000   \n",
       "50%        24079.000000           4647.000000          1.000000   \n",
       "75%        26737.000000           5515.000000          2.000000   \n",
       "max        34033.000000           6998.000000          3.000000   \n",
       "\n",
       "       parks_nearest  ponds_around3000  ponds_nearest  days_exposition  \\\n",
       "count    1651.000000       2529.000000    1842.000000      2166.000000   \n",
       "mean      483.748031          1.293397     475.817047       233.653740   \n",
       "std       330.059421          1.085779     270.270858       265.568886   \n",
       "min         9.000000          0.000000      22.000000         3.000000   \n",
       "25%       287.500000          0.000000     243.000000        59.000000   \n",
       "50%       441.000000          1.000000     466.500000       126.000000   \n",
       "75%       608.500000          2.000000     674.750000       318.750000   \n",
       "max      2295.000000          3.000000    1199.000000      1572.000000   \n",
       "\n",
       "       kitchen_area_index  living_area_index  price_by_meter  day_of_week  \\\n",
       "count         2529.000000        2529.000000     2529.000000  2529.000000   \n",
       "mean             0.182877           0.575376   132271.665425     2.499407   \n",
       "std              0.078726           0.109786    51374.706723     1.718552   \n",
       "min              0.054348           0.038462    26250.000000     0.000000   \n",
       "25%              0.130435           0.516800   100000.000000     1.000000   \n",
       "50%              0.171053           0.578125   121428.571429     2.000000   \n",
       "75%              0.209677           0.650092   149206.349206     4.000000   \n",
       "max              0.625000           0.983447   848484.848485     6.000000   \n",
       "\n",
       "             month         year  \n",
       "count  2529.000000  2529.000000  \n",
       "mean      6.465006  2017.217082  \n",
       "std       3.428817     1.091506  \n",
       "min       1.000000  2014.000000  \n",
       "25%       3.000000  2017.000000  \n",
       "50%       6.000000  2017.000000  \n",
       "75%      10.000000  2018.000000  \n",
       "max      12.000000  2019.000000  "
      ]
     },
     "execution_count": 73,
     "metadata": {},
     "output_type": "execute_result"
    }
   ],
   "source": [
    "#получим математическое описание среза данных\n",
    "estate_city_center.describe()"
   ]
  },
  {
   "cell_type": "markdown",
   "metadata": {},
   "source": [
    "Для сегмента квартир в центре города характерны показатели:\n",
    "\n",
    "    • средняя цена - 9.34 млн. руб. (и 8 млн. по медиане);\n",
    "    • общая площадь - 70.06 кв. м. (69.5 кв. м.);\n",
    "    • количество комнат - 2;\n",
    "    • высота потолков - 2.95 м. (2.8 м.);\n",
    "    • количество этажей - 7 (5).   "
   ]
  },
  {
   "cell_type": "markdown",
   "metadata": {},
   "source": [
    "В то время как для всей выборки характерны значения:\n",
    "\n",
    "    • средняя цена - 6.07 млн. руб. (и 5.1 млн. по медиане);\n",
    "    • общая площадь - 56.4 кв. м. (52.0 кв. м.);\n",
    "    • количество комнат - 2;\n",
    "    • высота потолков - 2.65 - 2.7 м.;\n",
    "    • количество этажей - от 9 до 11. "
   ]
  },
  {
   "cell_type": "markdown",
   "metadata": {},
   "source": [
    "Таким образом можно сделать вывод, что жилье в центре дороже, площадь квартир больше (при том, что количество комнат не отличается от значений для всей выборки), потолки выше, а количество этажей в зданиях меньше.\n",
    "Результаты сравнения центра города со всей выборкой в целом действительно согласуются с реальностью."
   ]
  },
  {
   "cell_type": "code",
   "execution_count": 74,
   "metadata": {},
   "outputs": [
    {
     "name": "stdout",
     "output_type": "stream",
     "text": [
      "Корреляционная матрица для центра города\n"
     ]
    },
    {
     "data": {
      "text/html": [
       "<div>\n",
       "<style scoped>\n",
       "    .dataframe tbody tr th:only-of-type {\n",
       "        vertical-align: middle;\n",
       "    }\n",
       "\n",
       "    .dataframe tbody tr th {\n",
       "        vertical-align: top;\n",
       "    }\n",
       "\n",
       "    .dataframe thead th {\n",
       "        text-align: right;\n",
       "    }\n",
       "</style>\n",
       "<table border=\"1\" class=\"dataframe\">\n",
       "  <thead>\n",
       "    <tr style=\"text-align: right;\">\n",
       "      <th></th>\n",
       "      <th>last_price</th>\n",
       "      <th>price_by_meter</th>\n",
       "      <th>total_area</th>\n",
       "      <th>rooms</th>\n",
       "      <th>city_centers_nearest</th>\n",
       "    </tr>\n",
       "  </thead>\n",
       "  <tbody>\n",
       "    <tr>\n",
       "      <th>last_price</th>\n",
       "      <td>1.000000</td>\n",
       "      <td>0.705222</td>\n",
       "      <td>0.593127</td>\n",
       "      <td>0.262276</td>\n",
       "      <td>-0.059993</td>\n",
       "    </tr>\n",
       "    <tr>\n",
       "      <th>price_by_meter</th>\n",
       "      <td>0.705222</td>\n",
       "      <td>1.000000</td>\n",
       "      <td>-0.079645</td>\n",
       "      <td>-0.265781</td>\n",
       "      <td>-0.003922</td>\n",
       "    </tr>\n",
       "    <tr>\n",
       "      <th>total_area</th>\n",
       "      <td>0.593127</td>\n",
       "      <td>-0.079645</td>\n",
       "      <td>1.000000</td>\n",
       "      <td>0.742153</td>\n",
       "      <td>-0.133151</td>\n",
       "    </tr>\n",
       "    <tr>\n",
       "      <th>rooms</th>\n",
       "      <td>0.262276</td>\n",
       "      <td>-0.265781</td>\n",
       "      <td>0.742153</td>\n",
       "      <td>1.000000</td>\n",
       "      <td>-0.160713</td>\n",
       "    </tr>\n",
       "    <tr>\n",
       "      <th>city_centers_nearest</th>\n",
       "      <td>-0.059993</td>\n",
       "      <td>-0.003922</td>\n",
       "      <td>-0.133151</td>\n",
       "      <td>-0.160713</td>\n",
       "      <td>1.000000</td>\n",
       "    </tr>\n",
       "  </tbody>\n",
       "</table>\n",
       "</div>"
      ],
      "text/plain": [
       "                      last_price  price_by_meter  total_area     rooms  \\\n",
       "last_price              1.000000        0.705222    0.593127  0.262276   \n",
       "price_by_meter          0.705222        1.000000   -0.079645 -0.265781   \n",
       "total_area              0.593127       -0.079645    1.000000  0.742153   \n",
       "rooms                   0.262276       -0.265781    0.742153  1.000000   \n",
       "city_centers_nearest   -0.059993       -0.003922   -0.133151 -0.160713   \n",
       "\n",
       "                      city_centers_nearest  \n",
       "last_price                       -0.059993  \n",
       "price_by_meter                   -0.003922  \n",
       "total_area                       -0.133151  \n",
       "rooms                            -0.160713  \n",
       "city_centers_nearest              1.000000  "
      ]
     },
     "metadata": {},
     "output_type": "display_data"
    },
    {
     "name": "stdout",
     "output_type": "stream",
     "text": [
      "\n",
      "Корреляционная матрица для всего объема данных\n"
     ]
    },
    {
     "data": {
      "text/html": [
       "<div>\n",
       "<style scoped>\n",
       "    .dataframe tbody tr th:only-of-type {\n",
       "        vertical-align: middle;\n",
       "    }\n",
       "\n",
       "    .dataframe tbody tr th {\n",
       "        vertical-align: top;\n",
       "    }\n",
       "\n",
       "    .dataframe thead th {\n",
       "        text-align: right;\n",
       "    }\n",
       "</style>\n",
       "<table border=\"1\" class=\"dataframe\">\n",
       "  <thead>\n",
       "    <tr style=\"text-align: right;\">\n",
       "      <th></th>\n",
       "      <th>last_price</th>\n",
       "      <th>price_by_meter</th>\n",
       "      <th>total_area</th>\n",
       "      <th>rooms</th>\n",
       "      <th>city_centers_nearest</th>\n",
       "      <th>balcony</th>\n",
       "      <th>ceiling_height</th>\n",
       "      <th>floor</th>\n",
       "      <th>airports_nearest</th>\n",
       "    </tr>\n",
       "  </thead>\n",
       "  <tbody>\n",
       "    <tr>\n",
       "      <th>last_price</th>\n",
       "      <td>1.000000</td>\n",
       "      <td>0.687643</td>\n",
       "      <td>0.742084</td>\n",
       "      <td>0.435248</td>\n",
       "      <td>-0.351062</td>\n",
       "      <td>0.052422</td>\n",
       "      <td>0.122282</td>\n",
       "      <td>0.029422</td>\n",
       "      <td>-0.031402</td>\n",
       "    </tr>\n",
       "    <tr>\n",
       "      <th>price_by_meter</th>\n",
       "      <td>0.687643</td>\n",
       "      <td>1.000000</td>\n",
       "      <td>0.081690</td>\n",
       "      <td>-0.153659</td>\n",
       "      <td>-0.393591</td>\n",
       "      <td>0.029421</td>\n",
       "      <td>0.090011</td>\n",
       "      <td>0.099770</td>\n",
       "      <td>-0.033664</td>\n",
       "    </tr>\n",
       "    <tr>\n",
       "      <th>total_area</th>\n",
       "      <td>0.742084</td>\n",
       "      <td>0.081690</td>\n",
       "      <td>1.000000</td>\n",
       "      <td>0.783331</td>\n",
       "      <td>-0.185136</td>\n",
       "      <td>0.052987</td>\n",
       "      <td>0.101828</td>\n",
       "      <td>-0.027645</td>\n",
       "      <td>-0.020895</td>\n",
       "    </tr>\n",
       "    <tr>\n",
       "      <th>rooms</th>\n",
       "      <td>0.435248</td>\n",
       "      <td>-0.153659</td>\n",
       "      <td>0.783331</td>\n",
       "      <td>1.000000</td>\n",
       "      <td>-0.103947</td>\n",
       "      <td>-0.003068</td>\n",
       "      <td>0.039793</td>\n",
       "      <td>-0.169297</td>\n",
       "      <td>-0.049574</td>\n",
       "    </tr>\n",
       "    <tr>\n",
       "      <th>city_centers_nearest</th>\n",
       "      <td>-0.351062</td>\n",
       "      <td>-0.393591</td>\n",
       "      <td>-0.185136</td>\n",
       "      <td>-0.103947</td>\n",
       "      <td>1.000000</td>\n",
       "      <td>0.062996</td>\n",
       "      <td>-0.107773</td>\n",
       "      <td>0.015609</td>\n",
       "      <td>0.197908</td>\n",
       "    </tr>\n",
       "    <tr>\n",
       "      <th>balcony</th>\n",
       "      <td>0.052422</td>\n",
       "      <td>0.029421</td>\n",
       "      <td>0.052987</td>\n",
       "      <td>-0.003068</td>\n",
       "      <td>0.062996</td>\n",
       "      <td>1.000000</td>\n",
       "      <td>-0.008666</td>\n",
       "      <td>0.182092</td>\n",
       "      <td>0.048109</td>\n",
       "    </tr>\n",
       "    <tr>\n",
       "      <th>ceiling_height</th>\n",
       "      <td>0.122282</td>\n",
       "      <td>0.090011</td>\n",
       "      <td>0.101828</td>\n",
       "      <td>0.039793</td>\n",
       "      <td>-0.107773</td>\n",
       "      <td>-0.008666</td>\n",
       "      <td>1.000000</td>\n",
       "      <td>-0.022919</td>\n",
       "      <td>-0.032095</td>\n",
       "    </tr>\n",
       "    <tr>\n",
       "      <th>floor</th>\n",
       "      <td>0.029422</td>\n",
       "      <td>0.099770</td>\n",
       "      <td>-0.027645</td>\n",
       "      <td>-0.169297</td>\n",
       "      <td>0.015609</td>\n",
       "      <td>0.182092</td>\n",
       "      <td>-0.022919</td>\n",
       "      <td>1.000000</td>\n",
       "      <td>0.089798</td>\n",
       "    </tr>\n",
       "    <tr>\n",
       "      <th>airports_nearest</th>\n",
       "      <td>-0.031402</td>\n",
       "      <td>-0.033664</td>\n",
       "      <td>-0.020895</td>\n",
       "      <td>-0.049574</td>\n",
       "      <td>0.197908</td>\n",
       "      <td>0.048109</td>\n",
       "      <td>-0.032095</td>\n",
       "      <td>0.089798</td>\n",
       "      <td>1.000000</td>\n",
       "    </tr>\n",
       "  </tbody>\n",
       "</table>\n",
       "</div>"
      ],
      "text/plain": [
       "                      last_price  price_by_meter  total_area     rooms  \\\n",
       "last_price              1.000000        0.687643    0.742084  0.435248   \n",
       "price_by_meter          0.687643        1.000000    0.081690 -0.153659   \n",
       "total_area              0.742084        0.081690    1.000000  0.783331   \n",
       "rooms                   0.435248       -0.153659    0.783331  1.000000   \n",
       "city_centers_nearest   -0.351062       -0.393591   -0.185136 -0.103947   \n",
       "balcony                 0.052422        0.029421    0.052987 -0.003068   \n",
       "ceiling_height          0.122282        0.090011    0.101828  0.039793   \n",
       "floor                   0.029422        0.099770   -0.027645 -0.169297   \n",
       "airports_nearest       -0.031402       -0.033664   -0.020895 -0.049574   \n",
       "\n",
       "                      city_centers_nearest   balcony  ceiling_height  \\\n",
       "last_price                       -0.351062  0.052422        0.122282   \n",
       "price_by_meter                   -0.393591  0.029421        0.090011   \n",
       "total_area                       -0.185136  0.052987        0.101828   \n",
       "rooms                            -0.103947 -0.003068        0.039793   \n",
       "city_centers_nearest              1.000000  0.062996       -0.107773   \n",
       "balcony                           0.062996  1.000000       -0.008666   \n",
       "ceiling_height                   -0.107773 -0.008666        1.000000   \n",
       "floor                             0.015609  0.182092       -0.022919   \n",
       "airports_nearest                  0.197908  0.048109       -0.032095   \n",
       "\n",
       "                         floor  airports_nearest  \n",
       "last_price            0.029422         -0.031402  \n",
       "price_by_meter        0.099770         -0.033664  \n",
       "total_area           -0.027645         -0.020895  \n",
       "rooms                -0.169297         -0.049574  \n",
       "city_centers_nearest  0.015609          0.197908  \n",
       "balcony               0.182092          0.048109  \n",
       "ceiling_height       -0.022919         -0.032095  \n",
       "floor                 1.000000          0.089798  \n",
       "airports_nearest      0.089798          1.000000  "
      ]
     },
     "metadata": {},
     "output_type": "display_data"
    }
   ],
   "source": [
    "estate_city_center_corr = estate_city_center[['last_price', 'price_by_meter', 'total_area', 'rooms', 'city_centers_nearest']].copy()\n",
    "print('Корреляционная матрица для центра города')\n",
    "display(estate_city_center_corr.corr())\n",
    "print()\n",
    "print('Корреляционная матрица для всего объема данных')\n",
    "display(estate_corr.corr()) #отобразим корреляцию для всего объема данных для сравнения"
   ]
  },
  {
   "cell_type": "markdown",
   "metadata": {},
   "source": [
    "Как мы видим, в центральном сегменте корреляция между ценой и общей площадью, а также количеством комнат снизилась (с 0.75 и 0.44 до 0.62 и 0.28 соответственно), а отрицательная  корреляция между ценой и расстоянием до центра снизилась с 0.33 до 0.07 (корреляция фактически нулевая, что является хорошим знаком, поскольку мы анализируем данные квартир, которые входят в область \"центр\", и для них параметр \"близость до центра\" не должен играть никакой роли)."
   ]
  },
  {
   "cell_type": "markdown",
   "metadata": {},
   "source": [
    "<div class=\"alert alert-block alert-info\">Построим графики зависимости стоимости квартиры в центре от изучаемых параметров. Наблюдаем прямую зависимость 1:1 на первом графике (для сравнения показателя с самим собой и не может быть иначе), сильную зависимость и кучное распределение для отношения стоимости квартиры к цене за метр, более слабую, но также кучную в начале, и распыляющуюся с увеличением значений зависимость стоимости квартиры от общей площади (однако даже при увеличивающейся распыленности сохраняется четкая линия тренда). А также сложную зависимость стоимости от удаления от центра города с неразличимой корреляцией (показатель корреляции действительно близок к нулевому значению).<div>"
   ]
  },
  {
   "cell_type": "code",
   "execution_count": 75,
   "metadata": {},
   "outputs": [
    {
     "data": {
      "image/png": "[encoded data removed]",
      "text/plain": [
       "<Figure size 360x360 with 1 Axes>"
      ]
     },
     "metadata": {},
     "output_type": "display_data"
    },
    {
     "data": {
      "text/plain": [
       "<Figure size 1080x360 with 0 Axes>"
      ]
     },
     "metadata": {},
     "output_type": "display_data"
    },
    {
     "data": {
      "image/png": "[encoded data removed]",
      "text/plain": [
       "<Figure size 360x360 with 1 Axes>"
      ]
     },
     "metadata": {},
     "output_type": "display_data"
    },
    {
     "data": {
      "text/plain": [
       "<Figure size 1080x360 with 0 Axes>"
      ]
     },
     "metadata": {},
     "output_type": "display_data"
    },
    {
     "data": {
      "image/png": "[encoded data removed]",
      "text/plain": [
       "<Figure size 360x360 with 1 Axes>"
      ]
     },
     "metadata": {},
     "output_type": "display_data"
    },
    {
     "data": {
      "text/plain": [
       "<Figure size 1080x360 with 0 Axes>"
      ]
     },
     "metadata": {},
     "output_type": "display_data"
    },
    {
     "data": {
      "image/png": "[encoded data removed]",
      "text/plain": [
       "<Figure size 360x360 with 1 Axes>"
      ]
     },
     "metadata": {},
     "output_type": "display_data"
    },
    {
     "data": {
      "text/plain": [
       "<Figure size 1080x360 with 0 Axes>"
      ]
     },
     "metadata": {},
     "output_type": "display_data"
    },
    {
     "data": {
      "image/png": "[encoded data removed]",
      "text/plain": [
       "<Figure size 360x360 with 1 Axes>"
      ]
     },
     "metadata": {},
     "output_type": "display_data"
    },
    {
     "data": {
      "text/plain": [
       "<Figure size 1080x360 with 0 Axes>"
      ]
     },
     "metadata": {},
     "output_type": "display_data"
    }
   ],
   "source": [
    "for param in estate_city_center_corr:\n",
    "    sns.relplot(y='last_price', x=param, data=estate_city_center_corr)\n",
    "    plt.figure()"
   ]
  },
  {
   "cell_type": "markdown",
   "metadata": {},
   "source": [
    "Проверим влияние даты размещения объявления на финальную стоимость:"
   ]
  },
  {
   "cell_type": "code",
   "execution_count": 76,
   "metadata": {},
   "outputs": [
    {
     "data": {
      "text/html": [
       "<div>\n",
       "<style scoped>\n",
       "    .dataframe tbody tr th:only-of-type {\n",
       "        vertical-align: middle;\n",
       "    }\n",
       "\n",
       "    .dataframe tbody tr th {\n",
       "        vertical-align: top;\n",
       "    }\n",
       "\n",
       "    .dataframe thead th {\n",
       "        text-align: right;\n",
       "    }\n",
       "</style>\n",
       "<table border=\"1\" class=\"dataframe\">\n",
       "  <thead>\n",
       "    <tr style=\"text-align: right;\">\n",
       "      <th></th>\n",
       "      <th>last_price</th>\n",
       "      <th>day_of_week</th>\n",
       "      <th>month</th>\n",
       "      <th>year</th>\n",
       "    </tr>\n",
       "  </thead>\n",
       "  <tbody>\n",
       "    <tr>\n",
       "      <th>24</th>\n",
       "      <td>6500000</td>\n",
       "      <td>5</td>\n",
       "      <td>10</td>\n",
       "      <td>2015</td>\n",
       "    </tr>\n",
       "    <tr>\n",
       "      <th>61</th>\n",
       "      <td>7990000</td>\n",
       "      <td>3</td>\n",
       "      <td>8</td>\n",
       "      <td>2017</td>\n",
       "    </tr>\n",
       "    <tr>\n",
       "      <th>99</th>\n",
       "      <td>9600000</td>\n",
       "      <td>1</td>\n",
       "      <td>9</td>\n",
       "      <td>2017</td>\n",
       "    </tr>\n",
       "    <tr>\n",
       "      <th>111</th>\n",
       "      <td>4590000</td>\n",
       "      <td>0</td>\n",
       "      <td>5</td>\n",
       "      <td>2017</td>\n",
       "    </tr>\n",
       "    <tr>\n",
       "      <th>114</th>\n",
       "      <td>4000000</td>\n",
       "      <td>3</td>\n",
       "      <td>2</td>\n",
       "      <td>2019</td>\n",
       "    </tr>\n",
       "  </tbody>\n",
       "</table>\n",
       "</div>"
      ],
      "text/plain": [
       "     last_price  day_of_week  month  year\n",
       "24      6500000            5     10  2015\n",
       "61      7990000            3      8  2017\n",
       "99      9600000            1      9  2017\n",
       "111     4590000            0      5  2017\n",
       "114     4000000            3      2  2019"
      ]
     },
     "execution_count": 76,
     "metadata": {},
     "output_type": "execute_result"
    }
   ],
   "source": [
    "estate_center_date = estate_city_center[['last_price', 'day_of_week', 'month', 'year']].copy()\n",
    "estate_center_date.head()"
   ]
  },
  {
   "cell_type": "code",
   "execution_count": 77,
   "metadata": {},
   "outputs": [
    {
     "data": {
      "image/png": "[encoded data removed]",
      "text/plain": [
       "<Figure size 1080x360 with 1 Axes>"
      ]
     },
     "metadata": {},
     "output_type": "display_data"
    }
   ],
   "source": [
    "#график распределения цен по дням недели\n",
    "price_weekday_center = estate_center_date.groupby('day_of_week')['last_price'].mean().plot(kind='bar', \n",
    "                                                                             color='green', \n",
    "                                                                             grid=True)"
   ]
  },
  {
   "cell_type": "code",
   "execution_count": 78,
   "metadata": {},
   "outputs": [
    {
     "data": {
      "image/png": "[encoded data removed]",
      "text/plain": [
       "<Figure size 1080x360 with 1 Axes>"
      ]
     },
     "metadata": {},
     "output_type": "display_data"
    }
   ],
   "source": [
    "#график распределения цен по месяцам\n",
    "price_month_center = estate_center_date.groupby('month')['last_price'].mean().plot(kind='bar', \n",
    "                                                                     color='green',\n",
    "                                                                     grid=True)"
   ]
  },
  {
   "cell_type": "code",
   "execution_count": 79,
   "metadata": {},
   "outputs": [
    {
     "data": {
      "image/png": "[encoded data removed]",
      "text/plain": [
       "<Figure size 1080x360 with 1 Axes>"
      ]
     },
     "metadata": {},
     "output_type": "display_data"
    }
   ],
   "source": [
    "#график распределения цен по годам размещения объявления\n",
    "price_year_center = estate_center_date.groupby('year')['last_price'].mean().plot(kind='bar',\n",
    "                                                                    color='green',\n",
    "                                                                    grid=True)"
   ]
  },
  {
   "cell_type": "markdown",
   "metadata": {},
   "source": [
    "В плане зависимости цены от дня недели, месяца и года размещения объявления, можем наблюдать для центральной области ту же картину, что и для всей выборки в целом."
   ]
  },
  {
   "cell_type": "code",
   "execution_count": 80,
   "metadata": {},
   "outputs": [
    {
     "data": {
      "image/png": "[encoded data removed]",
      "text/plain": [
       "<Figure size 1080x360 with 1 Axes>"
      ]
     },
     "metadata": {},
     "output_type": "display_data"
    }
   ],
   "source": [
    "sns.barplot(y=estate_center_date.groupby('month')['last_price'].mean(), x=estate_date['month'])\n",
    "sns.barplot(y=estate_date.groupby('month')['last_price'].mean(), x=estate_date['month'])\n",
    "plt.show()"
   ]
  },
  {
   "cell_type": "markdown",
   "metadata": {},
   "source": [
    "###### [↑ к оглавлению ↑](#to_the_begining)"
   ]
  },
  {
   "cell_type": "markdown",
   "metadata": {},
   "source": [
    "### <a id=\"step5\">Шаг 5. Общий вывод</a>"
   ]
  },
  {
   "cell_type": "markdown",
   "metadata": {},
   "source": [
    "По итогам проделанной работы мы можем заключить, что нам удалось вычислить границы центра города, топ-10 локаций с наибольшим количеством объявлений, а также рассчитать средние значения интересующих нас показателей в каждом отдельном случае.\n",
    "\n",
    "Мы определили, что наибольшее влияние на стоимость жилья предсказуемо оказывает общая площадь жилья.\n",
    "При этом влияние второстепенных факторов, таких как количество балконов, высота потолков, этаж здания - либо едва заметно, либо вообще неощутимо.\n",
    "Проанализировать влияние на стоимость того факта, является ли недвижимость апартаментами, у нас не получилось, однако общедоступной информацией является тот факт, что цена на апартаменты может быть ниже стоимости полноценного жилья до 15-30%. \n",
    "Количество парков и водоемов в радиусе 3 километров, а также расстояние до ближайших мы не стали анализировать по той причине, что в данных столбцах слишком большое количество пропусков данных, а потенциальная полезность от работы с ними невелика. Несравнимо больше на цену оказывают влияние класс жилья, уровень отделки или ремонта, состояние дома в целом и квартиры в частности.\n",
    "Для того, чтобы получить достоверную картину о влиянии тех или иных факторов на финальную стоимость жилья, необходимо рассматривать более однородную выборку данных: квартиры в новостройках, предлагающих жилье одного класса. Небольшая квартирка (если такие вообще существуют) на Крестовском острове может стоить на порядок дороже хором в Девяткино. И влияние класса жилья и его статусности перебивает все прочие факторы.\n",
    "\n",
    "Мы же в нашем исследовании добились поставленной задачи - вычислили средние значения показателей, которые помогут в отслеживании и идентификации мошеннической деятельности с недвижимостью."
   ]
  },
  {
   "cell_type": "markdown",
   "metadata": {},
   "source": [
    "###### [↑ к оглавлению ↑](#to_the_begining)"
   ]
  },
  {
   "cell_type": "markdown",
   "metadata": {},
   "source": [
    "### <a id=\"check_list\">Чек-лист готовности проекта</a>"
   ]
  },
  {
   "cell_type": "markdown",
   "metadata": {},
   "source": [
    "- [x]  открыт файл\n",
    "- [x]  файлы изучены (выведены первые строки, метод info())\n",
    "- [x]  определены пропущенные значения\n",
    "- [x]  заполнены пропущенные значения\n",
    "- [x]  есть пояснение, какие пропущенные значения обнаружены\n",
    "- [x]  изменены типы данных\n",
    "- [x]  есть пояснение, в каких столбцах изменены типы и почему\n",
    "- [x]  посчитано и добавлено в таблицу: цена квадратного метра\n",
    "- [x]  посчитано и добавлено в таблицу: день недели, месяц и год публикации объявления\n",
    "- [x]  посчитано и добавлено в таблицу: этаж квартиры; варианты — первый, последний, другой\n",
    "- [x]  посчитано и добавлено в таблицу: соотношение жилой и общей площади, а также отношение площади кухни к общей\n",
    "- [x]  изучены следующие параметры: площадь, цена, число комнат, высота потолков\n",
    "- [x]  построены гистограммы для каждого параметра\n",
    "- [x]  выполнено задание: \"Изучите время продажи квартиры. Постройте гистограмму. Посчитайте среднее и медиану. Опишите, сколько обычно занимает продажа. Когда можно считать, что продажи прошли очень быстро, а когда необычно долго?\"\n",
    "- [x]  выполнено задание: \"Уберите редкие и выбивающиеся значения. Опишите, какие особенности обнаружили.\"\n",
    "- [x]  выполнено задание: \"Какие факторы больше всего влияют на стоимость квартиры? Изучите, зависит ли цена от квадратного метра, числа комнат, этажа (первого или последнего), удалённости от центра. Также изучите зависимость от даты размещения: дня недели, месяца и года. \"Выберите 10 населённых пунктов с наибольшим числом объявлений. Посчитайте среднюю цену квадратного метра в этих населённых пунктах. Выделите населённые пункты с самой высокой и низкой стоимостью жилья. Эти данные можно найти по имени в столбце '*locality_name'*. \"\n",
    "- [x]  выполнено задание: \"Изучите предложения квартир: для каждой квартиры есть информация о расстоянии до центра. Выделите квартиры в Санкт-Петербурге (*'locality_name'*). Ваша задача — выяснить, какая область входит в центр. Создайте столбец с расстоянием до центра в километрах: округлите до целых значений. После этого посчитайте среднюю цену для каждого километра. Постройте график: он должен показывать, как цена зависит от удалённости от центра. Определите границу, где график сильно меняется — это и будет центральная зона. \"\n",
    "- [x]  выполнено задание: \"Выделите сегмент квартир в центре. Проанализируйте эту территорию и изучите следующие параметры: площадь, цена, число комнат, высота потолков. Также выделите факторы, которые влияют на стоимость квартиры (число комнат, этаж, удалённость от центра, дата размещения объявления). Сделайте выводы. Отличаются ли они от общих выводов по всему городу?\"\n",
    "- [x]  в каждом этапе есть выводы\n",
    "- [x]  есть общий вывод"
   ]
  }
 ],
 "metadata": {
  "kernelspec": {
   "display_name": "Python 3",
   "language": "python",
   "name": "python3"
  },
  "language_info": {
   "codemirror_mode": {
    "name": "ipython",
    "version": 3
   },
   "file_extension": ".py",
   "mimetype": "text/x-python",
   "name": "python",
   "nbconvert_exporter": "python",
   "pygments_lexer": "ipython3",
   "version": "3.8.3"
  },
  "toc": {
   "base_numbering": 1,
   "nav_menu": {},
   "number_sections": true,
   "sideBar": true,
   "skip_h1_title": true,
   "title_cell": "Table of Contents",
   "title_sidebar": "Contents",
   "toc_cell": false,
   "toc_position": {},
   "toc_section_display": true,
   "toc_window_display": false
  }
 },
 "nbformat": 4,
 "nbformat_minor": 2
}
